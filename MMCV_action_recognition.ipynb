{
  "nbformat": 4,
  "nbformat_minor": 0,
  "metadata": {
    "colab": {
      "name": "MMCV action recognition.ipynb",
      "provenance": [],
      "authorship_tag": "ABX9TyM4oPtOwY07y41uc6Cxf5Nh",
      "include_colab_link": true
    },
    "kernelspec": {
      "name": "python3",
      "display_name": "Python 3"
    }
  },
  "cells": [
    {
      "cell_type": "markdown",
      "metadata": {
        "id": "view-in-github",
        "colab_type": "text"
      },
      "source": [
        "<a href=\"https://colab.research.google.com/github/androbaza/CV-child-action-recognition/blob/master/MMCV_action_recognition.ipynb\" target=\"_parent\"><img src=\"https://colab.research.google.com/assets/colab-badge.svg\" alt=\"Open In Colab\"/></a>"
      ]
    },
    {
      "cell_type": "markdown",
      "metadata": {
        "id": "o92sXx0H5K8r"
      },
      "source": [
        "###TODO\n",
        "\n",
        "*   action localization\n",
        "*   action recognition\n",
        "*   gender recognition\n",
        "\n"
      ]
    },
    {
      "cell_type": "markdown",
      "metadata": {
        "id": "DgO7Cn7V3iYh"
      },
      "source": [
        "### Dependencies"
      ]
    },
    {
      "cell_type": "code",
      "metadata": {
        "id": "X2Dlbru_azTX"
      },
      "source": [
        "import os, sys\n",
        "from google.colab import drive\n",
        "drive.mount('/content/drive')\n",
        "nb_path = '/content/custom-libs'\n",
        "os.symlink('/content/drive/My Drive/Colab Notebooks/custom-libs', nb_path)\n",
        "sys.path.insert(0,nb_path)"
      ],
      "execution_count": null,
      "outputs": []
    },
    {
      "cell_type": "code",
      "metadata": {
        "id": "Q5GsXktELnwc"
      },
      "source": [
        "!pip install --target=$nb_path mmcv-full\n",
        "!git clone https://github.com/open-mmlab/mmaction2.git\n",
        "%cd mmaction2\n",
        "!pip install -r requirements/build.txt\n",
        "!pip install -v -e ."
      ],
      "execution_count": null,
      "outputs": []
    },
    {
      "cell_type": "code",
      "metadata": {
        "id": "kNN4vrhcL1CA"
      },
      "source": [
        "#CHECK\n",
        "import torch\n",
        "from mmaction.apis import init_recognizer, inference_recognizer\n",
        "\n",
        "config_file = 'configs/recognition/tsn/tsn_r50_video_inference_1x1x3_100e_kinetics400_rgb.py'\n",
        "device = 'cpu' # or 'cpu'\n",
        "device = torch.device(device)\n",
        "\n",
        "model = init_recognizer(config_file, device=device)\n",
        "# inference the demo video\n",
        "inference_recognizer(model, 'demo/demo.mp4', 'demo/label_map_k400.txt')"
      ],
      "execution_count": null,
      "outputs": []
    },
    {
      "cell_type": "markdown",
      "metadata": {
        "id": "MTrEUwKg46Xf"
      },
      "source": [
        "### Data Preprocessing\n",
        "TODO:\n",
        "* Scaling\n",
        "* Augmentation"
      ]
    },
    {
      "cell_type": "code",
      "metadata": {
        "id": "eFFLp9JA0dkD"
      },
      "source": [
        "# Path to cut dataset excluding 'run' action (max accuracy 88%)\n",
        "DATA_PATH = '/content/gdrive/MyDrive/Final-project/dataset-cut-exclude-run'\n",
        "os.listdir(Path(DATA_PATH))"
      ],
      "execution_count": null,
      "outputs": []
    },
    {
      "cell_type": "markdown",
      "metadata": {
        "id": "dpjQGmcp8Y0K"
      },
      "source": [
        "### Omni-sourced Webly-supervised Learning for Video Recognition"
      ]
    },
    {
      "cell_type": "code",
      "metadata": {
        "id": "PHPNubfW3gDj"
      },
      "source": [
        ""
      ],
      "execution_count": null,
      "outputs": []
    }
  ]
}