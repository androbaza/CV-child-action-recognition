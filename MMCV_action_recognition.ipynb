{
  "nbformat": 4,
  "nbformat_minor": 0,
  "metadata": {
    "colab": {
      "name": "MMCV action recognition.ipynb",
      "provenance": [],
      "authorship_tag": "ABX9TyOuWtQ/bdGDwEMBRKhvwge6",
      "include_colab_link": true
    },
    "kernelspec": {
      "name": "python3",
      "display_name": "Python 3"
    },
    "accelerator": "GPU"
  },
  "cells": [
    {
      "cell_type": "markdown",
      "metadata": {
        "id": "view-in-github",
        "colab_type": "text"
      },
      "source": [
        "<a href=\"https://colab.research.google.com/github/androbaza/CV-child-action-recognition/blob/master/MMCV_action_recognition.ipynb\" target=\"_parent\"><img src=\"https://colab.research.google.com/assets/colab-badge.svg\" alt=\"Open In Colab\"/></a>"
      ]
    },
    {
      "cell_type": "code",
      "metadata": {
        "id": "O46GUP2AJ4X-"
      },
      "source": [
        "# !pip install mmcv-full"
      ],
      "execution_count": null,
      "outputs": []
    },
    {
      "cell_type": "code",
      "metadata": {
        "id": "X2Dlbru_azTX",
        "colab": {
          "base_uri": "https://localhost:8080/"
        },
        "outputId": "a8e60702-97bd-4ef6-f821-c60100d0f953"
      },
      "source": [
        "import os, sys\n",
        "from google.colab import drive\n",
        "drive.mount('/content/drive')\n",
        "nb_path = '/content/custom-libs'\n",
        "os.symlink('/content/drive/My Drive/Colab Notebooks/custom-libs', nb_path)\n",
        "sys.path.insert(0,nb_path)"
      ],
      "execution_count": 1,
      "outputs": [
        {
          "output_type": "stream",
          "text": [
            "Mounted at /content/drive\n"
          ],
          "name": "stdout"
        }
      ]
    },
    {
      "cell_type": "code",
      "metadata": {
        "colab": {
          "base_uri": "https://localhost:8080/",
          "height": 565
        },
        "id": "dwomg5pddguU",
        "outputId": "62da15b7-8ca1-416d-fa8e-135ba7c95df3"
      },
      "source": [
        "!pip install --target=$nb_path mmcv-full"
      ],
      "execution_count": 2,
      "outputs": [
        {
          "output_type": "stream",
          "text": [
            "Collecting mmcv-full\n",
            "\u001b[?25l  Downloading https://files.pythonhosted.org/packages/30/f6/763845494c67ec6469992c8196c2458bdc12ff9c749de14d20a000da765d/mmcv-full-1.2.6.tar.gz (226kB)\n",
            "\r\u001b[K     |█▌                              | 10kB 23.8MB/s eta 0:00:01\r\u001b[K     |███                             | 20kB 30.5MB/s eta 0:00:01\r\u001b[K     |████▍                           | 30kB 24.2MB/s eta 0:00:01\r\u001b[K     |█████▉                          | 40kB 22.1MB/s eta 0:00:01\r\u001b[K     |███████▎                        | 51kB 22.4MB/s eta 0:00:01\r\u001b[K     |████████▊                       | 61kB 15.6MB/s eta 0:00:01\r\u001b[K     |██████████▏                     | 71kB 17.2MB/s eta 0:00:01\r\u001b[K     |███████████▋                    | 81kB 17.9MB/s eta 0:00:01\r\u001b[K     |█████████████                   | 92kB 16.0MB/s eta 0:00:01\r\u001b[K     |██████████████▌                 | 102kB 17.3MB/s eta 0:00:01\r\u001b[K     |████████████████                | 112kB 17.3MB/s eta 0:00:01\r\u001b[K     |█████████████████▍              | 122kB 17.3MB/s eta 0:00:01\r\u001b[K     |██████████████████▉             | 133kB 17.3MB/s eta 0:00:01\r\u001b[K     |████████████████████▎           | 143kB 17.3MB/s eta 0:00:01\r\u001b[K     |█████████████████████▊          | 153kB 17.3MB/s eta 0:00:01\r\u001b[K     |███████████████████████▏        | 163kB 17.3MB/s eta 0:00:01\r\u001b[K     |████████████████████████▋       | 174kB 17.3MB/s eta 0:00:01\r\u001b[K     |██████████████████████████      | 184kB 17.3MB/s eta 0:00:01\r\u001b[K     |███████████████████████████▌    | 194kB 17.3MB/s eta 0:00:01\r\u001b[K     |█████████████████████████████   | 204kB 17.3MB/s eta 0:00:01\r\u001b[K     |██████████████████████████████▍ | 215kB 17.3MB/s eta 0:00:01\r\u001b[K     |███████████████████████████████▉| 225kB 17.3MB/s eta 0:00:01\r\u001b[K     |████████████████████████████████| 235kB 17.3MB/s \n",
            "\u001b[?25hCollecting addict\n",
            "  Downloading https://files.pythonhosted.org/packages/6a/00/b08f23b7d7e1e14ce01419a467b583edbb93c6cdb8654e54a9cc579cd61f/addict-2.4.0-py3-none-any.whl\n",
            "Collecting numpy\n",
            "\u001b[?25l  Downloading https://files.pythonhosted.org/packages/14/32/d3fa649ad7ec0b82737b92fefd3c4dd376b0bb23730715124569f38f3a08/numpy-1.19.5-cp36-cp36m-manylinux2010_x86_64.whl (14.8MB)\n",
            "\u001b[K     |████████████████████████████████| 14.8MB 215kB/s \n",
            "\u001b[?25hCollecting Pillow\n",
            "\u001b[?25l  Downloading https://files.pythonhosted.org/packages/b6/c0/442d9d87e0da00bf856ef6dd4916f84a2d710b5f1a367d42d7f3c4e99a6c/Pillow-8.1.0-cp36-cp36m-manylinux1_x86_64.whl (2.2MB)\n",
            "\u001b[K     |████████████████████████████████| 2.2MB 50.9MB/s \n",
            "\u001b[?25hCollecting pyyaml\n",
            "\u001b[?25l  Downloading https://files.pythonhosted.org/packages/7a/5b/bc0b5ab38247bba158504a410112b6c03f153c652734ece1849749e5f518/PyYAML-5.4.1-cp36-cp36m-manylinux1_x86_64.whl (640kB)\n",
            "\u001b[K     |████████████████████████████████| 645kB 49.1MB/s \n",
            "\u001b[?25hCollecting yapf\n",
            "\u001b[?25l  Downloading https://files.pythonhosted.org/packages/c1/5d/d84677fe852bc5e091739acda444a9b6700ffc6b11a21b00dd244c8caef0/yapf-0.30.0-py2.py3-none-any.whl (190kB)\n",
            "\u001b[K     |████████████████████████████████| 194kB 63.9MB/s \n",
            "\u001b[?25hBuilding wheels for collected packages: mmcv-full\n",
            "  Building wheel for mmcv-full (setup.py) ... \u001b[?25l\u001b[?25hdone\n",
            "  Created wheel for mmcv-full: filename=mmcv_full-1.2.6-cp36-cp36m-linux_x86_64.whl size=20654387 sha256=e4ef30387d2ab20a3ae8115b549a6b4defc0e4b0ee71046a904c6019c74d1697\n",
            "  Stored in directory: /root/.cache/pip/wheels/40/39/64/7c5ab43621826eb41d31f1df14a8acabf74d879fdf33dc9d79\n",
            "Successfully built mmcv-full\n",
            "\u001b[31mERROR: datascience 0.10.6 has requirement folium==0.2.1, but you'll have folium 0.8.3 which is incompatible.\u001b[0m\n",
            "\u001b[31mERROR: albumentations 0.1.12 has requirement imgaug<0.2.7,>=0.2.5, but you'll have imgaug 0.2.9 which is incompatible.\u001b[0m\n",
            "Installing collected packages: addict, numpy, Pillow, pyyaml, yapf, mmcv-full\n",
            "Successfully installed Pillow-8.1.0 addict-2.4.0 mmcv-full-1.2.6 numpy-1.19.5 pyyaml-5.4.1 yapf-0.30.0\n"
          ],
          "name": "stdout"
        },
        {
          "output_type": "display_data",
          "data": {
            "application/vnd.colab-display-data+json": {
              "pip_warning": {
                "packages": [
                  "numpy"
                ]
              }
            }
          },
          "metadata": {
            "tags": []
          }
        }
      ]
    },
    {
      "cell_type": "code",
      "metadata": {
        "colab": {
          "base_uri": "https://localhost:8080/"
        },
        "id": "RPU7s2MlK5mK",
        "outputId": "f73fecd2-9f3d-4c4c-a7dc-81df205703cb"
      },
      "source": [
        "!git clone https://github.com/open-mmlab/mmaction2.git"
      ],
      "execution_count": 3,
      "outputs": [
        {
          "output_type": "stream",
          "text": [
            "Cloning into 'mmaction2'...\n",
            "remote: Enumerating objects: 69, done.\u001b[K\n",
            "remote: Counting objects: 100% (69/69), done.\u001b[K\n",
            "remote: Compressing objects: 100% (66/66), done.\u001b[K\n",
            "remote: Total 9201 (delta 13), reused 14 (delta 0), pack-reused 9132\u001b[K\n",
            "Receiving objects: 100% (9201/9201), 35.32 MiB | 42.95 MiB/s, done.\n",
            "Resolving deltas: 100% (6489/6489), done.\n"
          ],
          "name": "stdout"
        }
      ]
    },
    {
      "cell_type": "code",
      "metadata": {
        "colab": {
          "base_uri": "https://localhost:8080/"
        },
        "id": "Q5GsXktELnwc",
        "outputId": "7ce2f8c6-fdee-46e7-9108-9c86cca230b4"
      },
      "source": [
        "%cd mmaction2\n",
        "!pip install -r requirements/build.txt\n",
        "!pip install -v -e ."
      ],
      "execution_count": 4,
      "outputs": [
        {
          "output_type": "stream",
          "text": [
            "/content/mmaction2\n",
            "Requirement already satisfied: numpy in /usr/local/lib/python3.6/dist-packages (from -r requirements/build.txt (line 2)) (1.19.5)\n",
            "Requirement already satisfied: torch>=1.3 in /usr/local/lib/python3.6/dist-packages (from -r requirements/build.txt (line 3)) (1.7.0+cu101)\n",
            "Requirement already satisfied: future in /usr/local/lib/python3.6/dist-packages (from torch>=1.3->-r requirements/build.txt (line 3)) (0.16.0)\n",
            "Requirement already satisfied: typing-extensions in /usr/local/lib/python3.6/dist-packages (from torch>=1.3->-r requirements/build.txt (line 3)) (3.7.4.3)\n",
            "Requirement already satisfied: dataclasses in /usr/local/lib/python3.6/dist-packages (from torch>=1.3->-r requirements/build.txt (line 3)) (0.8)\n",
            "Created temporary directory: /tmp/pip-ephem-wheel-cache-vch62o9c\n",
            "Created temporary directory: /tmp/pip-req-tracker-tknecgyn\n",
            "Created requirements tracker '/tmp/pip-req-tracker-tknecgyn'\n",
            "Created temporary directory: /tmp/pip-install-5eldwtox\n",
            "Obtaining file:///content/mmaction2\n",
            "  Added file:///content/mmaction2 to build tracker '/tmp/pip-req-tracker-tknecgyn'\n",
            "    Running setup.py (path:/content/mmaction2/setup.py) egg_info for package from file:///content/mmaction2\n",
            "    Running command python setup.py egg_info\n",
            "    running egg_info\n",
            "    creating mmaction2.egg-info\n",
            "    writing mmaction2.egg-info/PKG-INFO\n",
            "    writing dependency_links to mmaction2.egg-info/dependency_links.txt\n",
            "    writing requirements to mmaction2.egg-info/requires.txt\n",
            "    writing top-level names to mmaction2.egg-info/top_level.txt\n",
            "    writing manifest file 'mmaction2.egg-info/SOURCES.txt'\n",
            "    writing manifest file 'mmaction2.egg-info/SOURCES.txt'\n",
            "  Source in /content/mmaction2 has version 0.11.0, which satisfies requirement mmaction2==0.11.0 from file:///content/mmaction2\n",
            "  Removed mmaction2==0.11.0 from file:///content/mmaction2 from build tracker '/tmp/pip-req-tracker-tknecgyn'\n",
            "Requirement already satisfied: matplotlib in /usr/local/lib/python3.6/dist-packages (from mmaction2==0.11.0) (3.2.2)\n",
            "Requirement already satisfied: numpy in /usr/local/lib/python3.6/dist-packages (from mmaction2==0.11.0) (1.19.5)\n",
            "Requirement already satisfied: opencv-contrib-python in /usr/local/lib/python3.6/dist-packages (from mmaction2==0.11.0) (4.1.2.30)\n",
            "Requirement already satisfied: Pillow in /usr/local/lib/python3.6/dist-packages (from mmaction2==0.11.0) (7.0.0)\n",
            "Requirement already satisfied: cycler>=0.10 in /usr/local/lib/python3.6/dist-packages (from matplotlib->mmaction2==0.11.0) (0.10.0)\n",
            "Requirement already satisfied: kiwisolver>=1.0.1 in /usr/local/lib/python3.6/dist-packages (from matplotlib->mmaction2==0.11.0) (1.3.1)\n",
            "Requirement already satisfied: python-dateutil>=2.1 in /usr/local/lib/python3.6/dist-packages (from matplotlib->mmaction2==0.11.0) (2.8.1)\n",
            "Requirement already satisfied: pyparsing!=2.0.4,!=2.1.2,!=2.1.6,>=2.0.1 in /usr/local/lib/python3.6/dist-packages (from matplotlib->mmaction2==0.11.0) (2.4.7)\n",
            "Requirement already satisfied: six in /usr/local/lib/python3.6/dist-packages (from cycler>=0.10->matplotlib->mmaction2==0.11.0) (1.15.0)\n",
            "Installing collected packages: mmaction2\n",
            "  Running setup.py develop for mmaction2\n",
            "    Running command /usr/bin/python3 -c 'import sys, setuptools, tokenize; sys.argv[0] = '\"'\"'/content/mmaction2/setup.py'\"'\"'; __file__='\"'\"'/content/mmaction2/setup.py'\"'\"';f=getattr(tokenize, '\"'\"'open'\"'\"', open)(__file__);code=f.read().replace('\"'\"'\\r\\n'\"'\"', '\"'\"'\\n'\"'\"');f.close();exec(compile(code, __file__, '\"'\"'exec'\"'\"'))' develop --no-deps\n",
            "    running develop\n",
            "    running egg_info\n",
            "    writing mmaction2.egg-info/PKG-INFO\n",
            "    writing dependency_links to mmaction2.egg-info/dependency_links.txt\n",
            "    writing requirements to mmaction2.egg-info/requires.txt\n",
            "    writing top-level names to mmaction2.egg-info/top_level.txt\n",
            "    writing manifest file 'mmaction2.egg-info/SOURCES.txt'\n",
            "    running build_ext\n",
            "    Creating /usr/local/lib/python3.6/dist-packages/mmaction2.egg-link (link to .)\n",
            "    Adding mmaction2 0.11.0 to easy-install.pth file\n",
            "\n",
            "    Installed /content/mmaction2\n",
            "Successfully installed mmaction2\n",
            "Cleaning up...\n",
            "Removed build tracker '/tmp/pip-req-tracker-tknecgyn'\n"
          ],
          "name": "stdout"
        }
      ]
    },
    {
      "cell_type": "code",
      "metadata": {
        "id": "kNN4vrhcL1CA",
        "colab": {
          "base_uri": "https://localhost:8080/"
        },
        "outputId": "c2fa635d-2121-449b-caee-aaf0e5a3f4b9"
      },
      "source": [
        "import torch\n",
        "from mmaction.apis import init_recognizer, inference_recognizer\n",
        "\n",
        "config_file = 'configs/recognition/tsn/tsn_r50_video_inference_1x1x3_100e_kinetics400_rgb.py'\n",
        "device = 'cuda:0' # or 'cpu'\n",
        "device = torch.device(device)\n",
        "\n",
        "model = init_recognizer(config_file, device=device)\n",
        "# inference the demo video\n",
        "inference_recognizer(model, 'demo/demo.mp4', 'demo/label_map_k400.txt')"
      ],
      "execution_count": 5,
      "outputs": [
        {
          "output_type": "execute_result",
          "data": {
            "text/plain": [
              "[('pole vault', 0.5366893),\n",
              " ('bungee jumping', 0.3341991),\n",
              " ('dunking basketball', 0.050618164),\n",
              " ('shot put', 0.029265111),\n",
              " ('doing aerobics', 0.026049739)]"
            ]
          },
          "metadata": {
            "tags": []
          },
          "execution_count": 5
        }
      ]
    }
  ]
}