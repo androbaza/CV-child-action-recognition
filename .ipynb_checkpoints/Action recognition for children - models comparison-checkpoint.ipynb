{
 "cells": [
  {
   "cell_type": "markdown",
   "metadata": {
    "colab_type": "text",
    "id": "view-in-github"
   },
   "source": [
    "<a href=\"https://colab.research.google.com/github/open-mmlab/mmaction2/blob/master/demo/mmaction2_tutorial.ipynb\" target=\"_parent\"><img src=\"https://colab.research.google.com/assets/colab-badge.svg\" alt=\"Open In Colab\"/></a>"
   ]
  },
  {
   "cell_type": "markdown",
   "metadata": {
    "id": "VcjSRFELVbNk",
    "tags": []
   },
   "source": [
    "# Import Dependencies"
   ]
  },
  {
   "cell_type": "code",
   "execution_count": 1,
   "metadata": {
    "colab": {
     "base_uri": "https://localhost:8080/"
    },
    "id": "Bf8PpPXtVvmg",
    "outputId": "2c685a33-474b-4e71-8f98-c2533c66095e",
    "tags": []
   },
   "outputs": [
    {
     "name": "stdout",
     "output_type": "stream",
     "text": [
      "nvcc: NVIDIA (R) Cuda compiler driver\n",
      "Copyright (c) 2005-2017 NVIDIA Corporation\n",
      "Built on Fri_Nov__3_21:07:56_CDT_2017\n",
      "Cuda compilation tools, release 9.1, V9.1.85\n",
      "gcc (Ubuntu 7.5.0-3ubuntu1~18.04) 7.5.0\n",
      "Copyright (C) 2017 Free Software Foundation, Inc.\n",
      "This is free software; see the source for copying conditions.  There is NO\n",
      "warranty; not even for MERCHANTABILITY or FITNESS FOR A PARTICULAR PURPOSE.\n",
      "\n"
     ]
    }
   ],
   "source": [
    "# Check nvcc version\n",
    "!nvcc -V\n",
    "# Check GCC version\n",
    "!gcc --version"
   ]
  },
  {
   "cell_type": "code",
   "execution_count": 2,
   "metadata": {
    "colab": {
     "base_uri": "https://localhost:8080/"
    },
    "id": "5PAJ4ArzV5Ry",
    "outputId": "e48dbf61-fae0-431c-e964-04c7caaee4bc",
    "tags": []
   },
   "outputs": [],
   "source": [
    "# Install some optional requirements\n",
    "# !pip install -r requirements/optional.txt"
   ]
  },
  {
   "cell_type": "code",
   "execution_count": 1,
   "metadata": {
    "colab": {
     "base_uri": "https://localhost:8080/"
    },
    "id": "No_zZAFpWC-a",
    "outputId": "1d425eea-d44e-434a-991c-01eb15abaab2",
    "scrolled": true,
    "tags": []
   },
   "outputs": [
    {
     "name": "stdout",
     "output_type": "stream",
     "text": [
      "1.7.0+cu110 True\n",
      "0.12.0\n",
      "11.0\n",
      "GCC 7.5\n"
     ]
    }
   ],
   "source": [
    "# Check Pytorch installation\n",
    "import torch, torchvision\n",
    "print(torch.__version__, torch.cuda.is_available())\n",
    "\n",
    "# Check MMAction2 installation\n",
    "import mmaction\n",
    "print(mmaction.__version__)\n",
    "\n",
    "# Check MMCV installation\n",
    "from mmcv.ops import get_compiling_cuda_version, get_compiler_version\n",
    "print(get_compiling_cuda_version())\n",
    "print(get_compiler_version())\n",
    "\n",
    "import sys\n",
    "sys.path.append('/home/actrec/.local/lib/python3.6/site-packages/decord-0.5.3-py3.6-linux-x86_64.egg')\n",
    "import decord\n",
    "import pickle"
   ]
  },
  {
   "cell_type": "code",
   "execution_count": 4,
   "metadata": {},
   "outputs": [
    {
     "name": "stdout",
     "output_type": "stream",
     "text": [
      "/home/actrec/.virtualenvs/mmaction/mmaction2\n"
     ]
    }
   ],
   "source": [
    "cd .."
   ]
  },
  {
   "cell_type": "code",
   "execution_count": 1,
   "metadata": {},
   "outputs": [
    {
     "name": "stdout",
     "output_type": "stream",
     "text": [
      "\u001b[0m\u001b[01;34mcheckpoints\u001b[0m/  \u001b[01;34mdemo\u001b[0m/        LICENSE              README.md         setup.cfg\n",
      "\u001b[01;34mchildact-mm\u001b[0m/  \u001b[01;34mdocker\u001b[0m/      \u001b[01;34mmmaction\u001b[0m/            README_zh-CN.md   setup.py\n",
      "\u001b[01;34mconfigs\u001b[0m/      \u001b[01;34mdocs\u001b[0m/        \u001b[01;34mmmaction2.egg-info\u001b[0m/  \u001b[01;34mrequirements\u001b[0m/     \u001b[01;34mtests\u001b[0m/\n",
      "\u001b[01;34mdata\u001b[0m/         \u001b[01;34mdocs_zh_CN\u001b[0m/  my-mmaction.ipynb    requirements.txt  \u001b[01;34mtools\u001b[0m/\n"
     ]
    }
   ],
   "source": [
    "ls"
   ]
  },
  {
   "cell_type": "markdown",
   "metadata": {
    "heading_collapsed": "true",
    "tags": []
   },
   "source": [
    "# TSN 94.44% "
   ]
  },
  {
   "cell_type": "code",
   "execution_count": 25,
   "metadata": {
    "colab": {
     "base_uri": "https://localhost:8080/"
    },
    "collapsed": true,
    "id": "64CW6d_AaT-Q",
    "jupyter": {
     "outputs_hidden": true
    },
    "outputId": "3b284fd8-4ee7-4a34-90d7-5023cd123a04",
    "tags": []
   },
   "outputs": [
    {
     "name": "stdout",
     "output_type": "stream",
     "text": [
      "--2021-03-22 01:46:07--  https://download.openmmlab.com/mmaction/recognition/tsn/tsn_r50_video_1x1x8_100e_kinetics600_rgb/tsn_r50_video_1x1x8_100e_kinetics600_rgb_20201015-4db3c461.pth\n",
      "Resolving download.openmmlab.com (download.openmmlab.com)... 47.75.20.25\n",
      "Connecting to download.openmmlab.com (download.openmmlab.com)|47.75.20.25|:443... connected.\n",
      "HTTP request sent, awaiting response... 200 OK\n",
      "Length: 99220779 (95M) [application/octet-stream]\n",
      "Saving to: ‘checkpoints/tsn_r50_video_1x1x8_100e_kinetics600_rgb_20201015-4db3c461.pth’\n",
      "\n",
      "checkpoints/tsn_r50 100%[===================>]  94,62M  10,5MB/s    in 11s     \n",
      "\n",
      "2021-03-22 01:46:22 (8,61 MB/s) - ‘checkpoints/tsn_r50_video_1x1x8_100e_kinetics600_rgb_20201015-4db3c461.pth’ saved [99220779/99220779]\n",
      "\n"
     ]
    }
   ],
   "source": [
    "# !mkdir checkpoints\n",
    "# !wget -c https://download.openmmlab.com/   .pth \\\n",
    "#       -O checkpoints/db3c461.pth"
   ]
  },
  {
   "cell_type": "code",
   "execution_count": 6,
   "metadata": {
    "id": "LjCcmCKOjktc",
    "tags": []
   },
   "outputs": [],
   "source": [
    "from mmcv import Config\n",
    "cfg = Config.fromfile('./configs/recognition/tsn/tsn_r50_video_1x1x8_100e_kinetics400_rgb.py')"
   ]
  },
  {
   "cell_type": "code",
   "execution_count": 7,
   "metadata": {
    "colab": {
     "base_uri": "https://localhost:8080/"
    },
    "collapsed": true,
    "id": "tlhu9byjjt-K",
    "jupyter": {
     "outputs_hidden": true
    },
    "outputId": "13d1bb01-f351-48c0-9efb-0bdf2c125d29",
    "tags": []
   },
   "outputs": [
    {
     "name": "stdout",
     "output_type": "stream",
     "text": [
      "Config:\n",
      "model = dict(\n",
      "    type='Recognizer2D',\n",
      "    backbone=dict(\n",
      "        type='ResNet',\n",
      "        pretrained='torchvision://resnet50',\n",
      "        depth=50,\n",
      "        norm_eval=False),\n",
      "    cls_head=dict(\n",
      "        type='TSNHead',\n",
      "        num_classes=7,\n",
      "        in_channels=2048,\n",
      "        spatial_type='avg',\n",
      "        consensus=dict(type='AvgConsensus', dim=1),\n",
      "        dropout_ratio=0.4,\n",
      "        init_std=0.01),\n",
      "    train_cfg=None,\n",
      "    test_cfg=dict(average_clips=None))\n",
      "optimizer = dict(type='SGD', lr=0.0001, momentum=0.9, weight_decay=0.0001)\n",
      "optimizer_config = dict(grad_clip=dict(max_norm=40, norm_type=2))\n",
      "lr_config = dict(\n",
      "    policy='cyclic',\n",
      "    target_ratio=(10, 0.0001),\n",
      "    cyclic_times=1,\n",
      "    step_ratio_up=0.4)\n",
      "total_epochs = 40\n",
      "checkpoint_config = dict(interval=2)\n",
      "log_config = dict(interval=20, hooks=[dict(type='TextLoggerHook')])\n",
      "dist_params = dict(backend='nccl')\n",
      "log_level = 'INFO'\n",
      "load_from = './childact-checkpoints/childact-tsn/epoch_30.pth'\n",
      "resume_from = './childact-checkpoints/childact-tsn/epoch_30.pth'\n",
      "workflow = [('train', 1)]\n",
      "dataset_type = 'VideoDataset'\n",
      "data_root = 'data/childact_split/train/'\n",
      "data_root_val = 'data/childact_split/val/'\n",
      "ann_file_train = 'data/childact_split/childact_train_video.txt'\n",
      "ann_file_val = 'data/childact_split/childact_val_video.txt'\n",
      "ann_file_test = 'data/childact_split/childact_test_video.txt'\n",
      "img_norm_cfg = dict(\n",
      "    mean=[123.675, 116.28, 103.53], std=[58.395, 57.12, 57.375], to_bgr=False)\n",
      "train_pipeline = [\n",
      "    dict(type='DecordInit'),\n",
      "    dict(type='SampleFrames', clip_len=1, frame_interval=1, num_clips=8),\n",
      "    dict(type='DecordDecode'),\n",
      "    dict(\n",
      "        type='MultiScaleCrop',\n",
      "        input_size=224,\n",
      "        scales=(1, 0.875, 0.75, 0.66),\n",
      "        random_crop=False,\n",
      "        max_wh_scale_gap=1),\n",
      "    dict(type='Resize', scale=(224, 224), keep_ratio=False),\n",
      "    dict(type='Flip', flip_ratio=0.5),\n",
      "    dict(\n",
      "        type='Normalize',\n",
      "        mean=[123.675, 116.28, 103.53],\n",
      "        std=[58.395, 57.12, 57.375],\n",
      "        to_bgr=False),\n",
      "    dict(type='FormatShape', input_format='NCHW'),\n",
      "    dict(type='Collect', keys=['imgs', 'label'], meta_keys=[]),\n",
      "    dict(type='ToTensor', keys=['imgs', 'label'])\n",
      "]\n",
      "val_pipeline = [\n",
      "    dict(type='DecordInit'),\n",
      "    dict(\n",
      "        type='SampleFrames',\n",
      "        clip_len=1,\n",
      "        frame_interval=1,\n",
      "        num_clips=8,\n",
      "        test_mode=True),\n",
      "    dict(type='DecordDecode'),\n",
      "    dict(type='Resize', scale=(-1, 256)),\n",
      "    dict(type='CenterCrop', crop_size=224),\n",
      "    dict(type='Flip', flip_ratio=0),\n",
      "    dict(\n",
      "        type='Normalize',\n",
      "        mean=[123.675, 116.28, 103.53],\n",
      "        std=[58.395, 57.12, 57.375],\n",
      "        to_bgr=False),\n",
      "    dict(type='FormatShape', input_format='NCHW'),\n",
      "    dict(type='Collect', keys=['imgs', 'label'], meta_keys=[]),\n",
      "    dict(type='ToTensor', keys=['imgs'])\n",
      "]\n",
      "test_pipeline = [\n",
      "    dict(type='DecordInit'),\n",
      "    dict(\n",
      "        type='SampleFrames',\n",
      "        clip_len=1,\n",
      "        frame_interval=1,\n",
      "        num_clips=25,\n",
      "        test_mode=True),\n",
      "    dict(type='DecordDecode'),\n",
      "    dict(type='Resize', scale=(-1, 256)),\n",
      "    dict(type='ThreeCrop', crop_size=256),\n",
      "    dict(type='Flip', flip_ratio=0),\n",
      "    dict(\n",
      "        type='Normalize',\n",
      "        mean=[123.675, 116.28, 103.53],\n",
      "        std=[58.395, 57.12, 57.375],\n",
      "        to_bgr=False),\n",
      "    dict(type='FormatShape', input_format='NCHW'),\n",
      "    dict(type='Collect', keys=['imgs', 'label'], meta_keys=[]),\n",
      "    dict(type='ToTensor', keys=['imgs'])\n",
      "]\n",
      "data = dict(\n",
      "    videos_per_gpu=32,\n",
      "    workers_per_gpu=4,\n",
      "    train=dict(\n",
      "        type='VideoDataset',\n",
      "        ann_file='data/childact_split/childact_train_video.txt',\n",
      "        data_prefix='data/childact_split/train/',\n",
      "        pipeline=[\n",
      "            dict(type='DecordInit'),\n",
      "            dict(\n",
      "                type='SampleFrames', clip_len=1, frame_interval=1,\n",
      "                num_clips=8),\n",
      "            dict(type='DecordDecode'),\n",
      "            dict(\n",
      "                type='MultiScaleCrop',\n",
      "                input_size=224,\n",
      "                scales=(1, 0.875, 0.75, 0.66),\n",
      "                random_crop=False,\n",
      "                max_wh_scale_gap=1),\n",
      "            dict(type='Resize', scale=(224, 224), keep_ratio=False),\n",
      "            dict(type='Flip', flip_ratio=0.5),\n",
      "            dict(\n",
      "                type='Normalize',\n",
      "                mean=[123.675, 116.28, 103.53],\n",
      "                std=[58.395, 57.12, 57.375],\n",
      "                to_bgr=False),\n",
      "            dict(type='FormatShape', input_format='NCHW'),\n",
      "            dict(type='Collect', keys=['imgs', 'label'], meta_keys=[]),\n",
      "            dict(type='ToTensor', keys=['imgs', 'label'])\n",
      "        ]),\n",
      "    val=dict(\n",
      "        type='VideoDataset',\n",
      "        ann_file='data/childact_split/childact_val_video.txt',\n",
      "        data_prefix='data/childact_split/val/',\n",
      "        pipeline=[\n",
      "            dict(type='DecordInit'),\n",
      "            dict(\n",
      "                type='SampleFrames',\n",
      "                clip_len=1,\n",
      "                frame_interval=1,\n",
      "                num_clips=8,\n",
      "                test_mode=True),\n",
      "            dict(type='DecordDecode'),\n",
      "            dict(type='Resize', scale=(-1, 256)),\n",
      "            dict(type='CenterCrop', crop_size=224),\n",
      "            dict(type='Flip', flip_ratio=0),\n",
      "            dict(\n",
      "                type='Normalize',\n",
      "                mean=[123.675, 116.28, 103.53],\n",
      "                std=[58.395, 57.12, 57.375],\n",
      "                to_bgr=False),\n",
      "            dict(type='FormatShape', input_format='NCHW'),\n",
      "            dict(type='Collect', keys=['imgs', 'label'], meta_keys=[]),\n",
      "            dict(type='ToTensor', keys=['imgs'])\n",
      "        ]),\n",
      "    test=dict(\n",
      "        type='VideoDataset',\n",
      "        ann_file='data/childact_split/childact_test_video.txt',\n",
      "        data_prefix='data/childact_split/test/',\n",
      "        pipeline=[\n",
      "            dict(type='DecordInit'),\n",
      "            dict(\n",
      "                type='SampleFrames',\n",
      "                clip_len=1,\n",
      "                frame_interval=1,\n",
      "                num_clips=25,\n",
      "                test_mode=True),\n",
      "            dict(type='DecordDecode'),\n",
      "            dict(type='Resize', scale=(-1, 256)),\n",
      "            dict(type='ThreeCrop', crop_size=256),\n",
      "            dict(type='Flip', flip_ratio=0),\n",
      "            dict(\n",
      "                type='Normalize',\n",
      "                mean=[123.675, 116.28, 103.53],\n",
      "                std=[58.395, 57.12, 57.375],\n",
      "                to_bgr=False),\n",
      "            dict(type='FormatShape', input_format='NCHW'),\n",
      "            dict(type='Collect', keys=['imgs', 'label'], meta_keys=[]),\n",
      "            dict(type='ToTensor', keys=['imgs'])\n",
      "        ]))\n",
      "evaluation = dict(\n",
      "    interval=2, metrics=['top_k_accuracy', 'mean_class_accuracy'])\n",
      "work_dir = './childact-checkpoints/childact-tsn-2/'\n",
      "omnisource = False\n",
      "seed = 42\n",
      "gpu_ids = range(0, 1)\n",
      "output_config = dict(out='./childact-checkpoints/childact-tsn-2//results.json')\n",
      "\n"
     ]
    }
   ],
   "source": [
    "from mmcv.runner import set_random_seed\n",
    "\n",
    "# Modify dataset type and path\n",
    "cfg.dataset_type = 'VideoDataset'\n",
    "cfg.data_root = 'data/childact_split/train/'\n",
    "cfg.data_root_val = 'data/childact_split/val/'\n",
    "cfg.ann_file_train = 'data/childact_split/childact_train_video.txt'\n",
    "cfg.ann_file_val = 'data/childact_split/childact_val_video.txt'\n",
    "cfg.ann_file_test = 'data/childact_split/childact_test_video.txt'\n",
    "\n",
    "cfg.data.test.type = 'VideoDataset'\n",
    "cfg.data.test.ann_file = 'data/childact_split/childact_test_video.txt'\n",
    "cfg.data.test.data_prefix = 'data/childact_split/test/'\n",
    "\n",
    "cfg.data.train.type = 'VideoDataset'\n",
    "cfg.data.train.ann_file = 'data/childact_split/childact_train_video.txt'\n",
    "cfg.data.train.data_prefix = 'data/childact_split/train/'\n",
    "\n",
    "cfg.data.val.type = 'VideoDataset'\n",
    "cfg.data.val.ann_file = 'data/childact_split/childact_val_video.txt'\n",
    "cfg.data.val.data_prefix = 'data/childact_split/val/'\n",
    "\n",
    "# The flag is used to determine whether it is omnisource training\n",
    "cfg.setdefault('omnisource', False)\n",
    "# Modify num classes of the model in cls_head\n",
    "cfg.model.cls_head.num_classes = 7\n",
    "# We can use the pre-trained TSN model\n",
    "cfg.load_from = './childact-checkpoints/childact-tsn/epoch_30.pth'\n",
    "cfg.resume_from = './childact-checkpoints/childact-tsn/epoch_30.pth'\n",
    "\n",
    "# Set up working dir to save files and logs.\n",
    "cfg.work_dir = './childact-checkpoints/childact-tsn-2/'\n",
    "\n",
    "# The original learning rate (LR) is set for 8-GPU training.\n",
    "# We divide it by 8 since we only use one GPU.\n",
    "cfg.data.videos_per_gpu = 32\n",
    "cfg.optimizer.lr = 0.0001\n",
    "# cfg.lr_config.type = 'cyclic'\n",
    "cfg.total_epochs = 40\n",
    "\n",
    "cfg.lr_config = dict(\n",
    "    policy='cyclic',\n",
    "    target_ratio=(10, 1e-4),\n",
    "    cyclic_times=1,\n",
    "    step_ratio_up=0.4,\n",
    ")\n",
    "\n",
    "# We can set the checkpoint saving interval to reduce the storage cost\n",
    "cfg.checkpoint_config.interval = 2\n",
    "# We can set the log print interval to reduce the the times of printing log\n",
    "cfg.log_config.interval = 20\n",
    "cfg.evaluation.interval = 2\n",
    "# Set seed thus the results are more reproducible\n",
    "cfg.seed = 42\n",
    "set_random_seed(42, deterministic=False)\n",
    "cfg.gpu_ids = range(1)\n",
    "\n",
    "# We can initialize the logger for training and have a look\n",
    "# at the final config used for training\n",
    "cfg.output_config = dict(out=f'{cfg.work_dir}/results.json')\n",
    "print(f'Config:\\n{cfg.pretty_text}')\n"
   ]
  },
  {
   "cell_type": "code",
   "execution_count": 8,
   "metadata": {
    "colab": {
     "base_uri": "https://localhost:8080/"
    },
    "collapsed": true,
    "id": "dDBWkdDRk6oz",
    "jupyter": {
     "outputs_hidden": true
    },
    "outputId": "85a52ef3-7b5c-4c52-8fef-00322a8c65e6",
    "tags": []
   },
   "outputs": [
    {
     "name": "stderr",
     "output_type": "stream",
     "text": [
      "2021-03-25 14:12:39,300 - mmaction - INFO - These parameters in pretrained checkpoint are not loaded: {'fc.weight', 'fc.bias'}\n"
     ]
    },
    {
     "name": "stdout",
     "output_type": "stream",
     "text": [
      "Use load_from_torchvision loader\n"
     ]
    },
    {
     "name": "stderr",
     "output_type": "stream",
     "text": [
      "2021-03-25 14:12:39,359 - mmaction - INFO - load checkpoint from ./childact-checkpoints/childact-tsn/epoch_30.pth\n",
      "2021-03-25 14:12:39,360 - mmaction - INFO - Use load_from_local loader\n",
      "2021-03-25 14:12:39,874 - mmaction - INFO - resumed epoch 30, iter 1155\n",
      "2021-03-25 14:12:39,875 - mmaction - INFO - Start running, host: actrec@actrec-HP-Z4-G4-Workstation, work_dir: /home/actrec/.virtualenvs/mmaction/mmaction2/childact-checkpoints/childact-tsn-2\n",
      "2021-03-25 14:12:39,876 - mmaction - INFO - workflow: [('train', 1)], max: 40 epochs\n",
      "/home/actrec/.virtualenvs/mmaction/mmaction2/mmaction/core/evaluation/eval_hooks.py:131: UserWarning: runner.meta is None. Creating a empty one.\n",
      "  warnings.warn('runner.meta is None. Creating a empty one.')\n",
      "2021-03-25 14:15:28,124 - mmaction - INFO - Epoch [31][20/33]\tlr: 4.077e-04, eta: 0:20:19, time: 8.412, data_time: 7.526, memory: 21540, top1_acc: 0.9422, top5_acc: 1.0000, loss_cls: 0.1803, loss: 0.1803, grad_norm: 3.5818\n",
      "2021-03-25 14:20:14,028 - mmaction - INFO - Epoch [32][20/33]\tlr: 2.470e-04, eta: 0:11:56, time: 8.535, data_time: 7.659, memory: 21540, top1_acc: 0.9391, top5_acc: 1.0000, loss_cls: 0.1854, loss: 0.1854, grad_norm: 3.5993\n",
      "2021-03-25 14:22:03,638 - mmaction - INFO - Saving checkpoint at 32 epochs\n"
     ]
    },
    {
     "name": "stdout",
     "output_type": "stream",
     "text": [
      "[>>>>>>>>>>>>>>>>>>>>>>>>>>>>>>>>>>>>>>>>] 126/126, 3.5 task/s, elapsed: 36s, ETA:     0s"
     ]
    },
    {
     "name": "stderr",
     "output_type": "stream",
     "text": [
      "2021-03-25 14:22:39,733 - mmaction - INFO - Evaluating top_k_accuracy ...\n",
      "2021-03-25 14:22:39,735 - mmaction - INFO - \n",
      "top1_acc\t0.8571\n",
      "top5_acc\t1.0000\n",
      "2021-03-25 14:22:39,736 - mmaction - INFO - Evaluating mean_class_accuracy ...\n",
      "2021-03-25 14:22:39,738 - mmaction - INFO - \n",
      "mean_acc\t0.8571\n",
      "2021-03-25 14:22:40,001 - mmaction - INFO - Now best checkpoint is saved as best_top1_acc_epoch_32.pth.\n",
      "2021-03-25 14:22:40,002 - mmaction - INFO - Best top1_acc is 0.8571 at 32 epoch.\n",
      "2021-03-25 14:22:40,003 - mmaction - INFO - Epoch(val) [32][33]\ttop1_acc: 0.8571, top5_acc: 1.0000, mean_class_accuracy: 0.8571\n",
      "2021-03-25 14:25:26,258 - mmaction - INFO - Epoch [33][20/33]\tlr: 1.249e-04, eta: 0:07:44, time: 8.313, data_time: 7.438, memory: 21540, top1_acc: 0.9141, top5_acc: 1.0000, loss_cls: 0.2269, loss: 0.2269, grad_norm: 4.7388\n",
      "2021-03-25 14:30:13,231 - mmaction - INFO - Epoch [34][20/33]\tlr: 4.337e-05, eta: 0:04:21, time: 8.550, data_time: 7.676, memory: 21540, top1_acc: 0.9359, top5_acc: 0.9984, loss_cls: 0.1936, loss: 0.1936, grad_norm: 3.9073\n",
      "2021-03-25 14:32:00,443 - mmaction - INFO - Saving checkpoint at 34 epochs\n"
     ]
    },
    {
     "name": "stdout",
     "output_type": "stream",
     "text": [
      "[>>>>>>>>>>>>>>>>>>>>>>>>>>>>>>>>>>>>>>>>] 126/126, 3.5 task/s, elapsed: 36s, ETA:     0s"
     ]
    },
    {
     "name": "stderr",
     "output_type": "stream",
     "text": [
      "2021-03-25 14:32:36,374 - mmaction - INFO - Evaluating top_k_accuracy ...\n",
      "2021-03-25 14:32:36,376 - mmaction - INFO - \n",
      "top1_acc\t0.8651\n",
      "top5_acc\t1.0000\n",
      "2021-03-25 14:32:36,376 - mmaction - INFO - Evaluating mean_class_accuracy ...\n",
      "2021-03-25 14:32:36,378 - mmaction - INFO - \n",
      "mean_acc\t0.8651\n",
      "2021-03-25 14:32:36,670 - mmaction - INFO - Now best checkpoint is saved as best_top1_acc_epoch_34.pth.\n",
      "2021-03-25 14:32:36,671 - mmaction - INFO - Best top1_acc is 0.8651 at 34 epoch.\n",
      "2021-03-25 14:32:36,672 - mmaction - INFO - Epoch(val) [34][33]\ttop1_acc: 0.8651, top5_acc: 1.0000, mean_class_accuracy: 0.8651\n",
      "2021-03-25 14:35:22,905 - mmaction - INFO - Epoch [35][20/33]\tlr: 3.904e-06, eta: 0:01:12, time: 8.312, data_time: 7.438, memory: 21540, top1_acc: 0.8984, top5_acc: 0.9984, loss_cls: 0.2482, loss: 0.2482, grad_norm: 4.5644\n",
      "2021-03-25 14:40:10,661 - mmaction - INFO - Epoch [36][20/33]\tlr: 5.144e-04, eta: -1 day, 23:58:11, time: 8.546, data_time: 7.670, memory: 21540, top1_acc: 0.9000, top5_acc: 1.0000, loss_cls: 0.2288, loss: 0.2288, grad_norm: 4.6857\n",
      "2021-03-25 14:41:57,419 - mmaction - INFO - Saving checkpoint at 36 epochs\n"
     ]
    },
    {
     "name": "stdout",
     "output_type": "stream",
     "text": [
      "[>>>>>>>>>>>>>>>>>>>>>>>>>>>>>>>>>>>>>>>>] 126/126, 3.6 task/s, elapsed: 35s, ETA:     0s"
     ]
    },
    {
     "name": "stderr",
     "output_type": "stream",
     "text": [
      "2021-03-25 14:42:33,137 - mmaction - INFO - Evaluating top_k_accuracy ...\n",
      "2021-03-25 14:42:33,139 - mmaction - INFO - \n",
      "top1_acc\t0.8810\n",
      "top5_acc\t1.0000\n",
      "2021-03-25 14:42:33,139 - mmaction - INFO - Evaluating mean_class_accuracy ...\n",
      "2021-03-25 14:42:33,141 - mmaction - INFO - \n",
      "mean_acc\t0.8810\n",
      "2021-03-25 14:42:33,430 - mmaction - INFO - Now best checkpoint is saved as best_top1_acc_epoch_36.pth.\n",
      "2021-03-25 14:42:33,431 - mmaction - INFO - Best top1_acc is 0.8810 at 36 epoch.\n",
      "2021-03-25 14:42:33,431 - mmaction - INFO - Epoch(val) [36][33]\ttop1_acc: 0.8810, top5_acc: 1.0000, mean_class_accuracy: 0.8810\n",
      "2021-03-25 14:45:18,239 - mmaction - INFO - Epoch [37][20/33]\tlr: 6.068e-04, eta: -1 day, 23:55:14, time: 8.240, data_time: 7.367, memory: 21540, top1_acc: 0.9187, top5_acc: 1.0000, loss_cls: 0.2261, loss: 0.2261, grad_norm: 4.7761\n",
      "2021-03-25 14:50:03,231 - mmaction - INFO - Epoch [38][20/33]\tlr: 7.817e-04, eta: -1 day, 23:52:19, time: 8.473, data_time: 7.601, memory: 21540, top1_acc: 0.9125, top5_acc: 1.0000, loss_cls: 0.2332, loss: 0.2332, grad_norm: 4.8438\n",
      "2021-03-25 14:51:59,104 - mmaction - INFO - Saving checkpoint at 38 epochs\n"
     ]
    },
    {
     "name": "stdout",
     "output_type": "stream",
     "text": [
      "[>>>>>>>>>>>>>>>>>>>>>>>>>>>>>>>>>>>>>>>>] 126/126, 3.6 task/s, elapsed: 35s, ETA:     0s"
     ]
    },
    {
     "name": "stderr",
     "output_type": "stream",
     "text": [
      "2021-03-25 14:52:34,766 - mmaction - INFO - Evaluating top_k_accuracy ...\n",
      "2021-03-25 14:52:34,767 - mmaction - INFO - \n",
      "top1_acc\t0.8810\n",
      "top5_acc\t1.0000\n",
      "2021-03-25 14:52:34,768 - mmaction - INFO - Evaluating mean_class_accuracy ...\n",
      "2021-03-25 14:52:34,769 - mmaction - INFO - \n",
      "mean_acc\t0.8810\n",
      "2021-03-25 14:52:34,770 - mmaction - INFO - Epoch(val) [38][33]\ttop1_acc: 0.8810, top5_acc: 1.0000, mean_class_accuracy: 0.8810\n",
      "2021-03-25 14:55:23,918 - mmaction - INFO - Epoch [39][20/33]\tlr: 1.032e-03, eta: -1 day, 23:49:25, time: 8.457, data_time: 7.586, memory: 21540, top1_acc: 0.9187, top5_acc: 1.0000, loss_cls: 0.2099, loss: 0.2099, grad_norm: 5.1517\n",
      "2021-03-25 15:00:04,888 - mmaction - INFO - Epoch [40][20/33]\tlr: 1.349e-03, eta: -1 day, 23:46:33, time: 8.332, data_time: 7.458, memory: 21540, top1_acc: 0.9000, top5_acc: 1.0000, loss_cls: 0.2583, loss: 0.2583, grad_norm: 4.9323\n",
      "2021-03-25 15:02:03,446 - mmaction - INFO - Saving checkpoint at 40 epochs\n"
     ]
    },
    {
     "name": "stdout",
     "output_type": "stream",
     "text": [
      "[>>>>>>>>>>>>>>>>>>>>>>>>>>>>>>>>>>>>>>>>] 126/126, 3.5 task/s, elapsed: 36s, ETA:     0s"
     ]
    },
    {
     "name": "stderr",
     "output_type": "stream",
     "text": [
      "2021-03-25 15:02:39,524 - mmaction - INFO - Evaluating top_k_accuracy ...\n",
      "2021-03-25 15:02:39,526 - mmaction - INFO - \n",
      "top1_acc\t0.8810\n",
      "top5_acc\t1.0000\n",
      "2021-03-25 15:02:39,526 - mmaction - INFO - Evaluating mean_class_accuracy ...\n",
      "2021-03-25 15:02:39,527 - mmaction - INFO - \n",
      "mean_acc\t0.8810\n",
      "2021-03-25 15:02:39,528 - mmaction - INFO - Epoch(val) [40][33]\ttop1_acc: 0.8810, top5_acc: 1.0000, mean_class_accuracy: 0.8810\n"
     ]
    }
   ],
   "source": [
    "import os.path as osp\n",
    "\n",
    "from mmaction.datasets import build_dataset\n",
    "from mmaction.models import build_model\n",
    "from mmaction.apis import train_model\n",
    "\n",
    "import mmcv\n",
    "\n",
    "# Build the dataset\n",
    "datasets = [build_dataset(cfg.data.train)]\n",
    "\n",
    "# Build the recognizer\n",
    "model = build_model(cfg.model, train_cfg=cfg.get('train_cfg'), test_cfg=cfg.get('test_cfg'))\n",
    "# model = build_model(cfg.model, train_cfg=cfg.get('train_cfg'), test_cfg=cfg.get('test_cfg'))\n",
    "# model = build_detector(cfg.model, train_cfg=cfg.get('train_cfg'), test_cfg=cfg.get('test_cfg'))\n",
    "# model = build_detector(cfg.model, train_cfg=cfg.train_cfg, test_cfg=cfg.test_cfg)\n",
    "\n",
    "# Create work_dir\n",
    "mmcv.mkdir_or_exist(osp.abspath(cfg.work_dir))\n",
    "train_model(model, datasets, cfg, distributed=False, validate=True)"
   ]
  },
  {
   "cell_type": "code",
   "execution_count": 9,
   "metadata": {},
   "outputs": [],
   "source": [
    "import pickle\n",
    "\n",
    "with open(f\"{cfg.work_dir}/model50e\", 'wb') as f:\n",
    "    pickle.dump(model, f)"
   ]
  },
  {
   "cell_type": "code",
   "execution_count": 10,
   "metadata": {
    "colab": {
     "base_uri": "https://localhost:8080/"
    },
    "id": "eyY3hCMwyTct",
    "outputId": "200e37c7-0da4-421f-98da-41418c3110ca",
    "tags": []
   },
   "outputs": [
    {
     "name": "stdout",
     "output_type": "stream",
     "text": [
      "[>>>>>>>>>>>>>>>>>>>>>>>>>>>>>>>>>>>>>>>>] 126/126, 2.2 task/s, elapsed: 56s, ETA:     0s\n",
      "Evaluating top_k_accuracy ...\n",
      "\n",
      "top1_acc\t0.9444\n",
      "top5_acc\t1.0000\n",
      "\n",
      "Evaluating mean_class_accuracy ...\n",
      "\n",
      "mean_acc\t0.9444\n",
      "top1_acc: 0.9444\n",
      "top5_acc: 1.0000\n",
      "mean_class_accuracy: 0.9444\n"
     ]
    }
   ],
   "source": [
    "from mmaction.apis import single_gpu_test\n",
    "from mmaction.datasets import build_dataloader\n",
    "from mmcv.parallel import MMDataParallel\n",
    "\n",
    "# Build a test dataloader\n",
    "dataset = build_dataset(cfg.data.test, dict(test_mode=True))\n",
    "data_loader = build_dataloader(\n",
    "        dataset,\n",
    "        videos_per_gpu=16,\n",
    "        workers_per_gpu=cfg.data.workers_per_gpu,\n",
    "        dist=False,\n",
    "        shuffle=False)\n",
    "model = MMDataParallel(model, device_ids=[0])\n",
    "outputs = single_gpu_test(model, data_loader)\n",
    "\n",
    "eval_config = cfg.evaluation\n",
    "eval_config.pop('interval')\n",
    "eval_res = dataset.evaluate(outputs, **eval_config)\n",
    "for name, val in eval_res.items():\n",
    "    print(f'{name}: {val:.04f}')\n",
    "    \n",
    "output_config = cfg.output_config\n",
    "dataset.dump_results(outputs, **output_config)"
   ]
  },
  {
   "cell_type": "code",
   "execution_count": 11,
   "metadata": {
    "tags": []
   },
   "outputs": [
    {
     "data": {
      "text/plain": [
       "<AxesSubplot:>"
      ]
     },
     "execution_count": 11,
     "metadata": {},
     "output_type": "execute_result"
    },
    {
     "data": {
      "image/png": "[encoded data removed]",
      "text/plain": [
       "<Figure size 432x288 with 2 Axes>"
      ]
     },
     "metadata": {
      "needs_background": "light"
     },
     "output_type": "display_data"
    }
   ],
   "source": [
    "import seaborn as sns\n",
    "import numpy as np\n",
    "from mmaction.core import confusion_matrix \n",
    "\n",
    "gt_labels = [ann['label'] for ann in dataset.load_annotations()]\n",
    "pred = np.argmax(outputs, axis=1)\n",
    "cf_mat = confusion_matrix(pred, gt_labels).astype(float)\n",
    "\n",
    "sns.heatmap(cf_mat, annot=True, xticklabels = ['box', 'clap', 'go', 'jog', 'run', 'walk', 'wave'], yticklabels = ['box', 'clap', 'go', 'jog', 'run', 'walk', 'wave'] )"
   ]
  },
  {
   "cell_type": "markdown",
   "metadata": {
    "heading_collapsed": "true",
    "tags": []
   },
   "source": [
    "# SlowFast 91.27%"
   ]
  },
  {
   "cell_type": "code",
   "execution_count": 2,
   "metadata": {
    "colab": {
     "base_uri": "https://localhost:8080/"
    },
    "collapsed": true,
    "id": "64CW6d_AaT-Q",
    "jupyter": {
     "outputs_hidden": true
    },
    "outputId": "3b284fd8-4ee7-4a34-90d7-5023cd123a04",
    "tags": []
   },
   "outputs": [
    {
     "name": "stdout",
     "output_type": "stream",
     "text": [
      "--2021-03-22 18:16:35--  https://download.openmmlab.com/mmaction/recognition/slowfast/slowfast_r50_video_4x16x1_256e_kinetics400_rgb/slowfast_r50_video_4x16x1_256e_kinetics400_rgb_20200826-f85b90c5.pth\n",
      "Resolving download.openmmlab.com (download.openmmlab.com)... 47.254.186.225\n",
      "Connecting to download.openmmlab.com (download.openmmlab.com)|47.254.186.225|:443... connected.\n",
      "HTTP request sent, awaiting response... 200 OK\n",
      "Length: 138274276 (132M) [application/octet-stream]\n",
      "Saving to: ‘checkpoints/slowfast_r50_video_4x16x1_256e_kinetics400_rgb_20200826-f85b90c5.pth’\n",
      "\n",
      "checkpoints/slowfas 100%[===================>] 131,87M  6,72MB/s    in 17s     \n",
      "\n",
      "2021-03-22 18:16:55 (7,79 MB/s) - ‘checkpoints/slowfast_r50_video_4x16x1_256e_kinetics400_rgb_20200826-f85b90c5.pth’ saved [138274276/138274276]\n",
      "\n"
     ]
    }
   ],
   "source": [
    "# !mkdir checkpoints\n",
    "!wget -c https://download.openmmlab.com/mmaction/recognition/slowfast/slowfast_r50_video_4x16x1_256e_kinetics400_rgb/slowfast_r50_video_4x16x1_256e_kinetics400_rgb_20200826-f85b90c5.pth \\\n",
    "      -O checkpoints/slowfast_r50_video_4x16x1_256e_kinetics400_rgb_20200826-f85b90c5.pth"
   ]
  },
  {
   "cell_type": "code",
   "execution_count": 7,
   "metadata": {
    "id": "LjCcmCKOjktc",
    "tags": []
   },
   "outputs": [],
   "source": [
    "from mmcv import Config\n",
    "cfg = Config.fromfile('./configs/recognition/slowfast/slowfast_r50_video_4x16x1_256e_kinetics400_rgb.py')"
   ]
  },
  {
   "cell_type": "code",
   "execution_count": 8,
   "metadata": {
    "colab": {
     "base_uri": "https://localhost:8080/"
    },
    "collapsed": true,
    "id": "tlhu9byjjt-K",
    "jupyter": {
     "outputs_hidden": true
    },
    "outputId": "13d1bb01-f351-48c0-9efb-0bdf2c125d29",
    "tags": []
   },
   "outputs": [
    {
     "name": "stdout",
     "output_type": "stream",
     "text": [
      "Config:\n",
      "model = dict(\n",
      "    type='Recognizer3D',\n",
      "    backbone=dict(\n",
      "        type='ResNet3dSlowFast',\n",
      "        pretrained=None,\n",
      "        resample_rate=8,\n",
      "        speed_ratio=8,\n",
      "        channel_ratio=8,\n",
      "        slow_pathway=dict(\n",
      "            type='resnet3d',\n",
      "            depth=50,\n",
      "            pretrained=None,\n",
      "            lateral=True,\n",
      "            conv1_kernel=(1, 7, 7),\n",
      "            dilations=(1, 1, 1, 1),\n",
      "            conv1_stride_t=1,\n",
      "            pool1_stride_t=1,\n",
      "            inflate=(0, 0, 1, 1),\n",
      "            norm_eval=False),\n",
      "        fast_pathway=dict(\n",
      "            type='resnet3d',\n",
      "            depth=50,\n",
      "            pretrained=None,\n",
      "            lateral=False,\n",
      "            base_channels=8,\n",
      "            conv1_kernel=(5, 7, 7),\n",
      "            conv1_stride_t=1,\n",
      "            pool1_stride_t=1,\n",
      "            norm_eval=False)),\n",
      "    cls_head=dict(\n",
      "        type='SlowFastHead',\n",
      "        in_channels=2304,\n",
      "        num_classes=7,\n",
      "        spatial_type='avg',\n",
      "        dropout_ratio=0.5),\n",
      "    train_cfg=None,\n",
      "    test_cfg=dict(average_clips='prob'))\n",
      "checkpoint_config = dict(interval=2)\n",
      "log_config = dict(interval=40, hooks=[dict(type='TextLoggerHook')])\n",
      "dist_params = dict(backend='nccl')\n",
      "log_level = 'INFO'\n",
      "load_from = './childact-checkpoints/childact-slowfast3/best_top1_acc_epoch_5.pth'\n",
      "resume_from = './childact-checkpoints/childact-slowfast3/best_top1_acc_epoch_5.pth'\n",
      "workflow = [('train', 1)]\n",
      "dataset_type = 'VideoDataset'\n",
      "data_root = 'data/childact_split/train/'\n",
      "data_root_val = 'data/childact_split/val/'\n",
      "ann_file_train = 'data/childact_split/childact_train_video.txt'\n",
      "ann_file_val = 'data/childact_split/childact_val_video.txt'\n",
      "ann_file_test = 'data/childact_split/childact_test_video.txt'\n",
      "img_norm_cfg = dict(\n",
      "    mean=[123.675, 116.28, 103.53], std=[58.395, 57.12, 57.375], to_bgr=False)\n",
      "train_pipeline = [\n",
      "    dict(type='DecordInit'),\n",
      "    dict(type='SampleFrames', clip_len=32, frame_interval=2, num_clips=1),\n",
      "    dict(type='DecordDecode'),\n",
      "    dict(type='Resize', scale=(-1, 256)),\n",
      "    dict(type='RandomResizedCrop'),\n",
      "    dict(type='Resize', scale=(224, 224), keep_ratio=False),\n",
      "    dict(type='Flip', flip_ratio=0.5),\n",
      "    dict(\n",
      "        type='Normalize',\n",
      "        mean=[123.675, 116.28, 103.53],\n",
      "        std=[58.395, 57.12, 57.375],\n",
      "        to_bgr=False),\n",
      "    dict(type='FormatShape', input_format='NCTHW'),\n",
      "    dict(type='Collect', keys=['imgs', 'label'], meta_keys=[]),\n",
      "    dict(type='ToTensor', keys=['imgs', 'label'])\n",
      "]\n",
      "val_pipeline = [\n",
      "    dict(type='DecordInit'),\n",
      "    dict(\n",
      "        type='SampleFrames',\n",
      "        clip_len=32,\n",
      "        frame_interval=2,\n",
      "        num_clips=1,\n",
      "        test_mode=True),\n",
      "    dict(type='DecordDecode'),\n",
      "    dict(type='Resize', scale=(-1, 256)),\n",
      "    dict(type='CenterCrop', crop_size=224),\n",
      "    dict(type='Flip', flip_ratio=0),\n",
      "    dict(\n",
      "        type='Normalize',\n",
      "        mean=[123.675, 116.28, 103.53],\n",
      "        std=[58.395, 57.12, 57.375],\n",
      "        to_bgr=False),\n",
      "    dict(type='FormatShape', input_format='NCTHW'),\n",
      "    dict(type='Collect', keys=['imgs', 'label'], meta_keys=[]),\n",
      "    dict(type='ToTensor', keys=['imgs'])\n",
      "]\n",
      "test_pipeline = [\n",
      "    dict(type='DecordInit'),\n",
      "    dict(\n",
      "        type='SampleFrames',\n",
      "        clip_len=32,\n",
      "        frame_interval=2,\n",
      "        num_clips=10,\n",
      "        test_mode=True),\n",
      "    dict(type='DecordDecode'),\n",
      "    dict(type='Resize', scale=(-1, 256)),\n",
      "    dict(type='ThreeCrop', crop_size=256),\n",
      "    dict(type='Flip', flip_ratio=0),\n",
      "    dict(\n",
      "        type='Normalize',\n",
      "        mean=[123.675, 116.28, 103.53],\n",
      "        std=[58.395, 57.12, 57.375],\n",
      "        to_bgr=False),\n",
      "    dict(type='FormatShape', input_format='NCTHW'),\n",
      "    dict(type='Collect', keys=['imgs', 'label'], meta_keys=[]),\n",
      "    dict(type='ToTensor', keys=['imgs'])\n",
      "]\n",
      "data = dict(\n",
      "    videos_per_gpu=16,\n",
      "    workers_per_gpu=4,\n",
      "    train=dict(\n",
      "        type='VideoDataset',\n",
      "        ann_file='data/childact_split/childact_train_video.txt',\n",
      "        data_prefix='data/childact_split/train/',\n",
      "        pipeline=[\n",
      "            dict(type='DecordInit'),\n",
      "            dict(\n",
      "                type='SampleFrames',\n",
      "                clip_len=32,\n",
      "                frame_interval=2,\n",
      "                num_clips=1),\n",
      "            dict(type='DecordDecode'),\n",
      "            dict(type='Resize', scale=(-1, 256)),\n",
      "            dict(type='RandomResizedCrop'),\n",
      "            dict(type='Resize', scale=(224, 224), keep_ratio=False),\n",
      "            dict(type='Flip', flip_ratio=0.5),\n",
      "            dict(\n",
      "                type='Normalize',\n",
      "                mean=[123.675, 116.28, 103.53],\n",
      "                std=[58.395, 57.12, 57.375],\n",
      "                to_bgr=False),\n",
      "            dict(type='FormatShape', input_format='NCTHW'),\n",
      "            dict(type='Collect', keys=['imgs', 'label'], meta_keys=[]),\n",
      "            dict(type='ToTensor', keys=['imgs', 'label'])\n",
      "        ]),\n",
      "    val=dict(\n",
      "        type='VideoDataset',\n",
      "        ann_file='data/childact_split/childact_val_video.txt',\n",
      "        data_prefix='data/childact_split/val/',\n",
      "        pipeline=[\n",
      "            dict(type='DecordInit'),\n",
      "            dict(\n",
      "                type='SampleFrames',\n",
      "                clip_len=32,\n",
      "                frame_interval=2,\n",
      "                num_clips=1,\n",
      "                test_mode=True),\n",
      "            dict(type='DecordDecode'),\n",
      "            dict(type='Resize', scale=(-1, 256)),\n",
      "            dict(type='CenterCrop', crop_size=224),\n",
      "            dict(type='Flip', flip_ratio=0),\n",
      "            dict(\n",
      "                type='Normalize',\n",
      "                mean=[123.675, 116.28, 103.53],\n",
      "                std=[58.395, 57.12, 57.375],\n",
      "                to_bgr=False),\n",
      "            dict(type='FormatShape', input_format='NCTHW'),\n",
      "            dict(type='Collect', keys=['imgs', 'label'], meta_keys=[]),\n",
      "            dict(type='ToTensor', keys=['imgs'])\n",
      "        ]),\n",
      "    test=dict(\n",
      "        type='VideoDataset',\n",
      "        ann_file='data/childact_split/childact_test_video.txt',\n",
      "        data_prefix='data/childact_split/test/',\n",
      "        pipeline=[\n",
      "            dict(type='DecordInit'),\n",
      "            dict(\n",
      "                type='SampleFrames',\n",
      "                clip_len=32,\n",
      "                frame_interval=2,\n",
      "                num_clips=10,\n",
      "                test_mode=True),\n",
      "            dict(type='DecordDecode'),\n",
      "            dict(type='Resize', scale=(-1, 256)),\n",
      "            dict(type='ThreeCrop', crop_size=256),\n",
      "            dict(type='Flip', flip_ratio=0),\n",
      "            dict(\n",
      "                type='Normalize',\n",
      "                mean=[123.675, 116.28, 103.53],\n",
      "                std=[58.395, 57.12, 57.375],\n",
      "                to_bgr=False),\n",
      "            dict(type='FormatShape', input_format='NCTHW'),\n",
      "            dict(type='Collect', keys=['imgs', 'label'], meta_keys=[]),\n",
      "            dict(type='ToTensor', keys=['imgs'])\n",
      "        ]))\n",
      "evaluation = dict(\n",
      "    interval=1, metrics=['top_k_accuracy', 'mean_class_accuracy'])\n",
      "optimizer = dict(type='SGD', lr=0.001, momentum=0.9, weight_decay=0.0001)\n",
      "optimizer_config = dict(grad_clip=dict(max_norm=40, norm_type=2))\n",
      "lr_config = dict(\n",
      "    policy='CosineAnnealing',\n",
      "    min_lr=0,\n",
      "    warmup='linear',\n",
      "    warmup_by_epoch=True,\n",
      "    warmup_iters=34)\n",
      "total_epochs = 11\n",
      "work_dir = './childact-checkpoints/childact-slowfast4/'\n",
      "find_unused_parameters = False\n",
      "omnisource = False\n",
      "seed = 42\n",
      "gpu_ids = range(0, 1)\n",
      "output_config = dict(\n",
      "    out='./childact-checkpoints/childact-slowfast4//results.json')\n",
      "\n"
     ]
    }
   ],
   "source": [
    "from mmcv.runner import set_random_seed\n",
    "\n",
    "# Modify dataset type and path\n",
    "cfg.dataset_type = 'VideoDataset'\n",
    "cfg.data_root = 'data/childact_split/train/'\n",
    "cfg.data_root_val = 'data/childact_split/val/'\n",
    "cfg.ann_file_train = 'data/childact_split/childact_train_video.txt'\n",
    "cfg.ann_file_val = 'data/childact_split/childact_val_video.txt'\n",
    "cfg.ann_file_test = 'data/childact_split/childact_test_video.txt'\n",
    "\n",
    "cfg.data.test.type = 'VideoDataset'\n",
    "cfg.data.test.ann_file = 'data/childact_split/childact_test_video.txt'\n",
    "cfg.data.test.data_prefix = 'data/childact_split/test/'\n",
    "\n",
    "cfg.data.train.type = 'VideoDataset'\n",
    "cfg.data.train.ann_file = 'data/childact_split/childact_train_video.txt'\n",
    "cfg.data.train.data_prefix = 'data/childact_split/train/'\n",
    "\n",
    "cfg.data.val.type = 'VideoDataset'\n",
    "cfg.data.val.ann_file = 'data/childact_split/childact_val_video.txt'\n",
    "cfg.data.val.data_prefix = 'data/childact_split/val/'\n",
    "\n",
    "# The flag is used to determine whether it is omnisource training\n",
    "cfg.setdefault('omnisource', False)\n",
    "# Modify num classes of the model in cls_head\n",
    "cfg.model.cls_head.num_classes = 7\n",
    "# We can use the pre-trained TSN model\n",
    "cfg.load_from = './childact-checkpoints/childact-slowfast3/best_top1_acc_epoch_5.pth'\n",
    "cfg.resume_from = './childact-checkpoints/childact-slowfast3/best_top1_acc_epoch_5.pth'\n",
    "\n",
    "# Set up working dir to save files and logs.\n",
    "cfg.work_dir = './childact-checkpoints/childact-slowfast4/'\n",
    "\n",
    "# The original learning rate (LR) is set for 8-GPU training.\n",
    "# We divide it by 8 since we only use one GPU.\n",
    "cfg.data.videos_per_gpu = 16\n",
    "# cfg.data.workers_per_gpu = 4\n",
    "# cfg.optimizer.type = 'Adam'\n",
    "# cfg.optimizer.weight_decay=0.0001\n",
    "\n",
    "# cfg.optimizer_config.grad_clip=None\n",
    "cfg.optimizer.lr = 0.001\n",
    "\n",
    "# cfg.lr_config = dict(\n",
    "#     policy='cyclic',\n",
    "#     target_ratio=(10, 1e-4),\n",
    "#     cyclic_times=1,\n",
    "#     step_ratio_up=0.4,\n",
    "# )\n",
    "cfg.total_epochs = 11\n",
    "cfg.evaluation.interval = 1\n",
    "# We can set the checkpoint saving interval to reduce the storage cost\n",
    "cfg.checkpoint_config.interval = 2\n",
    "# We can set the log print interval to reduce the the times of printing log\n",
    "cfg.log_config.interval = 40\n",
    "\n",
    "# Set seed thus the results are more reproducible\n",
    "cfg.seed = 42\n",
    "set_random_seed(42, deterministic=False)\n",
    "cfg.gpu_ids = range(1)\n",
    "cfg.output_config = dict(out=f'{cfg.work_dir}/results.json')\n",
    "# We can initialize the logger for training and have a look\n",
    "# at the final config used for training\n",
    "print(f'Config:\\n{cfg.pretty_text}')\n"
   ]
  },
  {
   "cell_type": "code",
   "execution_count": 9,
   "metadata": {
    "colab": {
     "base_uri": "https://localhost:8080/"
    },
    "collapsed": true,
    "id": "dDBWkdDRk6oz",
    "jupyter": {
     "outputs_hidden": true
    },
    "outputId": "85a52ef3-7b5c-4c52-8fef-00322a8c65e6",
    "tags": []
   },
   "outputs": [
    {
     "name": "stderr",
     "output_type": "stream",
     "text": [
      "2021-03-25 12:40:03,663 - mmaction - INFO - load checkpoint from ./childact-checkpoints/childact-slowfast3/best_top1_acc_epoch_5.pth\n",
      "2021-03-25 12:40:03,664 - mmaction - INFO - Use load_from_local loader\n",
      "2021-03-25 12:40:03,874 - mmaction - INFO - resumed epoch 5, iter 330\n",
      "2021-03-25 12:40:03,876 - mmaction - INFO - Start running, host: actrec@actrec-HP-Z4-G4-Workstation, work_dir: /home/actrec/.virtualenvs/mmaction/mmaction2/childact-checkpoints/childact-slowfast4\n",
      "2021-03-25 12:40:03,877 - mmaction - INFO - workflow: [('train', 1)], max: 11 epochs\n",
      "2021-03-25 12:41:36,333 - mmaction - INFO - Epoch [6][40/66]\tlr: 1.416e-02, eta: 0:13:42, time: 2.311, data_time: 1.426, memory: 12207, top1_acc: 0.7500, top5_acc: 0.9844, loss_cls: 0.6193, loss: 0.6193, grad_norm: 0.9436\n",
      "2021-03-25 12:42:28,631 - mmaction - INFO - Saving checkpoint at 6 epochs\n"
     ]
    },
    {
     "name": "stdout",
     "output_type": "stream",
     "text": [
      "[>>>>>>>>>>>>>>>>>>>>>>>>>>>>>>>>>>>>>>>>] 126/126, 6.4 task/s, elapsed: 20s, ETA:     0s"
     ]
    },
    {
     "name": "stderr",
     "output_type": "stream",
     "text": [
      "2021-03-25 12:42:48,742 - mmaction - INFO - Evaluating top_k_accuracy ...\n",
      "2021-03-25 12:42:48,743 - mmaction - INFO - \n",
      "top1_acc\t0.8254\n",
      "top5_acc\t1.0000\n",
      "2021-03-25 12:42:48,744 - mmaction - INFO - Evaluating mean_class_accuracy ...\n",
      "2021-03-25 12:42:48,744 - mmaction - INFO - \n",
      "mean_acc\t0.8254\n",
      "2021-03-25 12:42:49,135 - mmaction - INFO - Now best checkpoint is saved as best_top1_acc_epoch_6.pth.\n",
      "2021-03-25 12:42:49,136 - mmaction - INFO - Best top1_acc is 0.8254 at 6 epoch.\n",
      "2021-03-25 12:42:49,137 - mmaction - INFO - Epoch(val) [6][66]\ttop1_acc: 0.8254, top5_acc: 1.0000, mean_class_accuracy: 0.8254\n",
      "2021-03-25 12:44:22,536 - mmaction - INFO - Epoch [7][40/66]\tlr: 1.177e-02, eta: 0:08:28, time: 2.335, data_time: 1.443, memory: 12207, top1_acc: 0.6984, top5_acc: 0.9906, loss_cls: 0.7002, loss: 0.7002, grad_norm: 1.1397\n"
     ]
    },
    {
     "name": "stdout",
     "output_type": "stream",
     "text": [
      "[>>>>>>>>>>>>>>>>>>>>>>>>>>>>>>>>>>>>>>>>] 126/126, 6.4 task/s, elapsed: 20s, ETA:     0s"
     ]
    },
    {
     "name": "stderr",
     "output_type": "stream",
     "text": [
      "2021-03-25 12:45:38,793 - mmaction - INFO - Evaluating top_k_accuracy ...\n",
      "2021-03-25 12:45:38,795 - mmaction - INFO - \n",
      "top1_acc\t0.7937\n",
      "top5_acc\t1.0000\n",
      "2021-03-25 12:45:38,796 - mmaction - INFO - Evaluating mean_class_accuracy ...\n",
      "2021-03-25 12:45:38,797 - mmaction - INFO - \n",
      "mean_acc\t0.7937\n",
      "2021-03-25 12:45:38,798 - mmaction - INFO - Epoch(val) [7][66]\ttop1_acc: 0.7937, top5_acc: 1.0000, mean_class_accuracy: 0.7937\n",
      "2021-03-25 12:47:09,756 - mmaction - INFO - Epoch [8][40/66]\tlr: 8.796e-03, eta: 0:06:00, time: 2.274, data_time: 1.378, memory: 12207, top1_acc: 0.7109, top5_acc: 0.9891, loss_cls: 0.7145, loss: 0.7145, grad_norm: 1.0675\n",
      "2021-03-25 12:48:02,808 - mmaction - INFO - Saving checkpoint at 8 epochs\n"
     ]
    },
    {
     "name": "stdout",
     "output_type": "stream",
     "text": [
      "[>>>>>>>>>>>>>>>>>>>>>>>>>>>>>>>>>>>>>>>>] 126/126, 6.5 task/s, elapsed: 20s, ETA:     0s"
     ]
    },
    {
     "name": "stderr",
     "output_type": "stream",
     "text": [
      "2021-03-25 12:48:22,782 - mmaction - INFO - Evaluating top_k_accuracy ...\n",
      "2021-03-25 12:48:22,783 - mmaction - INFO - \n",
      "top1_acc\t0.8492\n",
      "top5_acc\t1.0000\n",
      "2021-03-25 12:48:22,784 - mmaction - INFO - Evaluating mean_class_accuracy ...\n",
      "2021-03-25 12:48:22,784 - mmaction - INFO - \n",
      "mean_acc\t0.8492\n",
      "2021-03-25 12:48:23,196 - mmaction - INFO - Now best checkpoint is saved as best_top1_acc_epoch_8.pth.\n",
      "2021-03-25 12:48:23,197 - mmaction - INFO - Best top1_acc is 0.8492 at 8 epoch.\n",
      "2021-03-25 12:48:23,198 - mmaction - INFO - Epoch(val) [8][66]\ttop1_acc: 0.8492, top5_acc: 1.0000, mean_class_accuracy: 0.8492\n",
      "2021-03-25 12:49:56,477 - mmaction - INFO - Epoch [9][40/66]\tlr: 5.650e-03, eta: 0:04:05, time: 2.332, data_time: 1.436, memory: 12207, top1_acc: 0.7219, top5_acc: 0.9875, loss_cls: 0.7207, loss: 0.7207, grad_norm: 1.1247\n"
     ]
    },
    {
     "name": "stdout",
     "output_type": "stream",
     "text": [
      "[>>>>>>>>>>>>>>>>>>>>>>>>>>>>>>>>>>>>>>>>] 126/126, 6.4 task/s, elapsed: 20s, ETA:     0s"
     ]
    },
    {
     "name": "stderr",
     "output_type": "stream",
     "text": [
      "2021-03-25 12:51:07,151 - mmaction - INFO - Evaluating top_k_accuracy ...\n",
      "2021-03-25 12:51:07,154 - mmaction - INFO - \n",
      "top1_acc\t0.8254\n",
      "top5_acc\t1.0000\n",
      "2021-03-25 12:51:07,155 - mmaction - INFO - Evaluating mean_class_accuracy ...\n",
      "2021-03-25 12:51:07,157 - mmaction - INFO - \n",
      "mean_acc\t0.8254\n",
      "2021-03-25 12:51:07,158 - mmaction - INFO - Epoch(val) [9][66]\ttop1_acc: 0.8254, top5_acc: 1.0000, mean_class_accuracy: 0.8254\n",
      "2021-03-25 12:52:37,352 - mmaction - INFO - Epoch [10][40/66]\tlr: 2.809e-03, eta: 0:02:19, time: 2.255, data_time: 1.360, memory: 12207, top1_acc: 0.7141, top5_acc: 0.9922, loss_cls: 0.6923, loss: 0.6923, grad_norm: 1.0608\n",
      "2021-03-25 12:53:32,091 - mmaction - INFO - Saving checkpoint at 10 epochs\n"
     ]
    },
    {
     "name": "stdout",
     "output_type": "stream",
     "text": [
      "[>>>>>>>>>>>>>>>>>>>>>>>>>>>>>>>>>>>>>>>>] 126/126, 6.5 task/s, elapsed: 19s, ETA:     0s"
     ]
    },
    {
     "name": "stderr",
     "output_type": "stream",
     "text": [
      "2021-03-25 12:53:52,057 - mmaction - INFO - Evaluating top_k_accuracy ...\n",
      "2021-03-25 12:53:52,059 - mmaction - INFO - \n",
      "top1_acc\t0.8492\n",
      "top5_acc\t1.0000\n",
      "2021-03-25 12:53:52,059 - mmaction - INFO - Evaluating mean_class_accuracy ...\n",
      "2021-03-25 12:53:52,061 - mmaction - INFO - \n",
      "mean_acc\t0.8492\n",
      "2021-03-25 12:53:52,062 - mmaction - INFO - Epoch(val) [10][66]\ttop1_acc: 0.8492, top5_acc: 1.0000, mean_class_accuracy: 0.8492\n",
      "2021-03-25 12:55:24,466 - mmaction - INFO - Epoch [11][40/66]\tlr: 7.703e-04, eta: 0:00:38, time: 2.310, data_time: 1.412, memory: 12207, top1_acc: 0.6969, top5_acc: 0.9859, loss_cls: 0.7326, loss: 0.7326, grad_norm: 1.0574\n"
     ]
    },
    {
     "name": "stdout",
     "output_type": "stream",
     "text": [
      "[>>>>>>>>>>>>>>>>>>>>>>>>>>>>>>>>>>>>>>>>] 126/126, 6.4 task/s, elapsed: 20s, ETA:     0s"
     ]
    },
    {
     "name": "stderr",
     "output_type": "stream",
     "text": [
      "2021-03-25 12:56:38,924 - mmaction - INFO - Evaluating top_k_accuracy ...\n",
      "2021-03-25 12:56:38,926 - mmaction - INFO - \n",
      "top1_acc\t0.8333\n",
      "top5_acc\t1.0000\n",
      "2021-03-25 12:56:38,926 - mmaction - INFO - Evaluating mean_class_accuracy ...\n",
      "2021-03-25 12:56:38,928 - mmaction - INFO - \n",
      "mean_acc\t0.8333\n",
      "2021-03-25 12:56:38,928 - mmaction - INFO - Epoch(val) [11][66]\ttop1_acc: 0.8333, top5_acc: 1.0000, mean_class_accuracy: 0.8333\n"
     ]
    }
   ],
   "source": [
    "import os.path as osp\n",
    "\n",
    "from mmaction.datasets import build_dataset\n",
    "from mmaction.models import build_model\n",
    "from mmaction.apis import train_model\n",
    "\n",
    "import mmcv\n",
    "\n",
    "# Build the dataset\n",
    "datasets = [build_dataset(cfg.data.train)]\n",
    "\n",
    "# Build the recognizer\n",
    "model = build_model(cfg.model, train_cfg=cfg.get('train_cfg'), test_cfg=cfg.get('test_cfg'))\n",
    "# model = build_model(cfg.model, train_cfg=cfg.get('train_cfg'), test_cfg=cfg.get('test_cfg'))\n",
    "# model = build_detector(cfg.model, train_cfg=cfg.get('train_cfg'), test_cfg=cfg.get('test_cfg'))\n",
    "# model = build_detector(cfg.model, train_cfg=cfg.train_cfg, test_cfg=cfg.test_cfg)\n",
    "\n",
    "# Create work_dir\n",
    "mmcv.mkdir_or_exist(osp.abspath(cfg.work_dir))\n",
    "train_model(model, datasets, cfg, distributed=False, validate=True)"
   ]
  },
  {
   "cell_type": "code",
   "execution_count": 5,
   "metadata": {},
   "outputs": [
    {
     "data": {
      "text/plain": [
       "0"
      ]
     },
     "execution_count": 5,
     "metadata": {},
     "output_type": "execute_result"
    }
   ],
   "source": [
    "torch.cuda.ipc_collect()\n",
    "torch.cuda.empty_cache()\n",
    "import gc\n",
    "# gc.enable()\n",
    "gc.collect()"
   ]
  },
  {
   "cell_type": "code",
   "execution_count": 10,
   "metadata": {},
   "outputs": [],
   "source": [
    "import pickle\n",
    "\n",
    "with open(f\"{cfg.work_dir}/model50e\", 'wb') as f:\n",
    "    pickle.dump(model, f)"
   ]
  },
  {
   "cell_type": "code",
   "execution_count": 11,
   "metadata": {
    "colab": {
     "base_uri": "https://localhost:8080/"
    },
    "id": "eyY3hCMwyTct",
    "outputId": "200e37c7-0da4-421f-98da-41418c3110ca",
    "tags": []
   },
   "outputs": [
    {
     "name": "stdout",
     "output_type": "stream",
     "text": [
      "[>>>>>>>>>>>>>>>>>>>>>>>>>>>>>>>>>>>>>>] 126/126, 0.0 task/s, elapsed: 2773s, ETA:     0s\n",
      "Evaluating top_k_accuracy ...\n",
      "\n",
      "top1_acc\t0.9365\n",
      "top5_acc\t1.0000\n",
      "\n",
      "Evaluating mean_class_accuracy ...\n",
      "\n",
      "mean_acc\t0.9365\n",
      "top1_acc: 0.9365\n",
      "top5_acc: 1.0000\n",
      "mean_class_accuracy: 0.9365\n"
     ]
    }
   ],
   "source": [
    "from mmaction.apis import single_gpu_test\n",
    "from mmaction.datasets import build_dataloader\n",
    "from mmcv.parallel import MMDataParallel\n",
    "from mmaction.models import build_model\n",
    "from mmaction.datasets import build_dataset\n",
    "\n",
    "# checkpoint = './childact-checkpoints/childact-slowfast/best_top1_acc_epoch_50.pth'\n",
    "# modelt = init_recognizer(cfg, checkpoint, device='cuda:0')\n",
    "# model = build_model(cfg.model, train_cfg=cfg.get('train_cfg'), test_cfg=cfg.get('test_cfg'))\n",
    "# Build a test dataloader\n",
    "dataset = build_dataset(cfg.data.test, dict(test_mode=True))\n",
    "data_loader = build_dataloader(\n",
    "        dataset,\n",
    "        videos_per_gpu=2,\n",
    "        workers_per_gpu=1,\n",
    "        dist=False,\n",
    "        shuffle=False)\n",
    "model = MMDataParallel(model, device_ids=[0])\n",
    "outputs = single_gpu_test(model, data_loader)\n",
    "\n",
    "eval_config = cfg.evaluation\n",
    "eval_config.pop('interval')\n",
    "eval_res = dataset.evaluate(outputs, **eval_config)\n",
    "for name, val in eval_res.items():\n",
    "    print(f'{name}: {val:.04f}')\n",
    "    \n",
    "output_config = cfg.output_config\n",
    "dataset.dump_results(outputs, **output_config)"
   ]
  },
  {
   "cell_type": "code",
   "execution_count": 12,
   "metadata": {
    "tags": []
   },
   "outputs": [
    {
     "data": {
      "text/plain": [
       "<AxesSubplot:>"
      ]
     },
     "execution_count": 12,
     "metadata": {},
     "output_type": "execute_result"
    },
    {
     "data": {
      "image/png": "[encoded data removed]",
      "text/plain": [
       "<Figure size 432x288 with 2 Axes>"
      ]
     },
     "metadata": {
      "needs_background": "light"
     },
     "output_type": "display_data"
    }
   ],
   "source": [
    "import seaborn as sns\n",
    "import numpy as np\n",
    "from mmaction.core import confusion_matrix \n",
    "\n",
    "gt_labels = [ann['label'] for ann in dataset.load_annotations()]\n",
    "pred = np.argmax(outputs, axis=1)\n",
    "cf_mat = confusion_matrix(pred, gt_labels).astype(float)\n",
    "\n",
    "sns.heatmap(cf_mat, annot=True, xticklabels = ['box', 'clap', 'go', 'jog', 'run', 'walk', 'wave'], yticklabels = ['box', 'clap', 'go', 'jog', 'run', 'walk', 'wave'] )"
   ]
  },
  {
   "cell_type": "markdown",
   "metadata": {
    "heading_collapsed": "true",
    "tags": []
   },
   "source": [
    "# R(2+1)D 59.52%"
   ]
  },
  {
   "cell_type": "code",
   "execution_count": 6,
   "metadata": {
    "colab": {
     "base_uri": "https://localhost:8080/"
    },
    "collapsed": true,
    "id": "64CW6d_AaT-Q",
    "jupyter": {
     "outputs_hidden": true
    },
    "outputId": "3b284fd8-4ee7-4a34-90d7-5023cd123a04",
    "tags": []
   },
   "outputs": [
    {
     "name": "stdout",
     "output_type": "stream",
     "text": [
      "--2021-03-24 13:44:27--  https://download.openmmlab.com/mmaction/recognition/r2plus1d/r2plus1d_r34_video_8x8x1_180e_kinetics400_rgb/r2plus1d_r34_video_8x8x1_180e_kinetics400_rgb_20200826-ab35a529.pth\n",
      "Resolving download.openmmlab.com (download.openmmlab.com)... 47.252.96.35\n",
      "Connecting to download.openmmlab.com (download.openmmlab.com)|47.252.96.35|:443... connected.\n",
      "HTTP request sent, awaiting response... 200 OK\n",
      "Length: 255320099 (243M) [application/octet-stream]\n",
      "Saving to: ‘checkpoints/r2plus1d_r34_video_8x8x1_180e_kinetics400_rgb_20200826-ab35a529.pth’\n",
      "\n",
      "checkpoints/r2plus1 100%[===================>] 243,49M  6,98MB/s    in 32s     \n",
      "\n",
      "2021-03-24 13:45:05 (7,72 MB/s) - ‘checkpoints/r2plus1d_r34_video_8x8x1_180e_kinetics400_rgb_20200826-ab35a529.pth’ saved [255320099/255320099]\n",
      "\n"
     ]
    }
   ],
   "source": [
    "# !mkdir checkpoints\n",
    "!wget -c https://download.openmmlab.com/mmaction/recognition/r2plus1d/r2plus1d_r34_video_8x8x1_180e_kinetics400_rgb/r2plus1d_r34_video_8x8x1_180e_kinetics400_rgb_20200826-ab35a529.pth \\\n",
    "      -O checkpoints/r2plus1d_r34_video_8x8x1_180e_kinetics400_rgb_20200826-ab35a529.pth"
   ]
  },
  {
   "cell_type": "code",
   "execution_count": 17,
   "metadata": {
    "id": "LjCcmCKOjktc",
    "tags": []
   },
   "outputs": [],
   "source": [
    "from mmcv import Config\n",
    "cfg = Config.fromfile('./configs/recognition/r2plus1d/r2plus1d_r34_video_8x8x1_180e_kinetics400_rgb.py')"
   ]
  },
  {
   "cell_type": "code",
   "execution_count": 18,
   "metadata": {
    "colab": {
     "base_uri": "https://localhost:8080/"
    },
    "collapsed": true,
    "id": "tlhu9byjjt-K",
    "jupyter": {
     "outputs_hidden": true
    },
    "outputId": "13d1bb01-f351-48c0-9efb-0bdf2c125d29",
    "tags": []
   },
   "outputs": [
    {
     "name": "stdout",
     "output_type": "stream",
     "text": [
      "Config:\n",
      "model = dict(\n",
      "    type='Recognizer3D',\n",
      "    backbone=dict(\n",
      "        type='ResNet2Plus1d',\n",
      "        depth=34,\n",
      "        pretrained=None,\n",
      "        pretrained2d=False,\n",
      "        norm_eval=False,\n",
      "        conv_cfg=dict(type='Conv2plus1d'),\n",
      "        conv1_kernel=(3, 7, 7),\n",
      "        conv1_stride_t=1,\n",
      "        pool1_stride_t=1,\n",
      "        inflate=(1, 1, 1, 1),\n",
      "        spatial_strides=(1, 2, 2, 2),\n",
      "        temporal_strides=(1, 2, 2, 2),\n",
      "        zero_init_residual=False,\n",
      "        act_cfg=dict(type='ReLU')),\n",
      "    cls_head=dict(\n",
      "        type='I3DHead',\n",
      "        num_classes=7,\n",
      "        in_channels=512,\n",
      "        spatial_type='avg',\n",
      "        dropout_ratio=0.5,\n",
      "        init_std=0.01),\n",
      "    train_cfg=None,\n",
      "    test_cfg=dict(average_clips='prob'))\n",
      "checkpoint_config = dict(interval=4)\n",
      "log_config = dict(interval=10, hooks=[dict(type='TextLoggerHook')])\n",
      "dist_params = dict(backend='nccl')\n",
      "log_level = 'INFO'\n",
      "load_from = './checkpoints/r2plus1d_r34_video_8x8x1_180e_kinetics400_rgb_20200826-ab35a529.pth'\n",
      "resume_from = None\n",
      "workflow = [('train', 1)]\n",
      "dataset_type = 'VideoDataset'\n",
      "data_root = 'data/childact_split/train/'\n",
      "data_root_val = 'data/childact_split/val/'\n",
      "ann_file_train = 'data/childact_split/childact_train_video.txt'\n",
      "ann_file_val = 'data/childact_split/childact_val_video.txt'\n",
      "ann_file_test = 'data/childact_split/childact_test_video.txt'\n",
      "img_norm_cfg = dict(\n",
      "    mean=[123.675, 116.28, 103.53], std=[58.395, 57.12, 57.375], to_bgr=False)\n",
      "train_pipeline = [\n",
      "    dict(type='DecordInit'),\n",
      "    dict(type='SampleFrames', clip_len=8, frame_interval=8, num_clips=1),\n",
      "    dict(type='DecordDecode'),\n",
      "    dict(type='Resize', scale=(-1, 256)),\n",
      "    dict(type='RandomResizedCrop'),\n",
      "    dict(type='Resize', scale=(224, 224), keep_ratio=False),\n",
      "    dict(type='Flip', flip_ratio=0.5),\n",
      "    dict(\n",
      "        type='Normalize',\n",
      "        mean=[123.675, 116.28, 103.53],\n",
      "        std=[58.395, 57.12, 57.375],\n",
      "        to_bgr=False),\n",
      "    dict(type='FormatShape', input_format='NCTHW'),\n",
      "    dict(type='Collect', keys=['imgs', 'label'], meta_keys=[]),\n",
      "    dict(type='ToTensor', keys=['imgs', 'label'])\n",
      "]\n",
      "val_pipeline = [\n",
      "    dict(type='DecordInit'),\n",
      "    dict(\n",
      "        type='SampleFrames',\n",
      "        clip_len=8,\n",
      "        frame_interval=8,\n",
      "        num_clips=1,\n",
      "        test_mode=True),\n",
      "    dict(type='DecordDecode'),\n",
      "    dict(type='Resize', scale=(-1, 256)),\n",
      "    dict(type='CenterCrop', crop_size=224),\n",
      "    dict(type='Flip', flip_ratio=0),\n",
      "    dict(\n",
      "        type='Normalize',\n",
      "        mean=[123.675, 116.28, 103.53],\n",
      "        std=[58.395, 57.12, 57.375],\n",
      "        to_bgr=False),\n",
      "    dict(type='FormatShape', input_format='NCTHW'),\n",
      "    dict(type='Collect', keys=['imgs', 'label'], meta_keys=[]),\n",
      "    dict(type='ToTensor', keys=['imgs'])\n",
      "]\n",
      "test_pipeline = [\n",
      "    dict(type='DecordInit'),\n",
      "    dict(\n",
      "        type='SampleFrames',\n",
      "        clip_len=8,\n",
      "        frame_interval=8,\n",
      "        num_clips=10,\n",
      "        test_mode=True),\n",
      "    dict(type='DecordDecode'),\n",
      "    dict(type='Resize', scale=(-1, 256)),\n",
      "    dict(type='ThreeCrop', crop_size=256),\n",
      "    dict(type='Flip', flip_ratio=0),\n",
      "    dict(\n",
      "        type='Normalize',\n",
      "        mean=[123.675, 116.28, 103.53],\n",
      "        std=[58.395, 57.12, 57.375],\n",
      "        to_bgr=False),\n",
      "    dict(type='FormatShape', input_format='NCTHW'),\n",
      "    dict(type='Collect', keys=['imgs', 'label'], meta_keys=[]),\n",
      "    dict(type='ToTensor', keys=['imgs'])\n",
      "]\n",
      "data = dict(\n",
      "    videos_per_gpu=32,\n",
      "    workers_per_gpu=4,\n",
      "    train=dict(\n",
      "        type='VideoDataset',\n",
      "        ann_file='data/childact_split/childact_train_video.txt',\n",
      "        data_prefix='data/childact_split/train/',\n",
      "        pipeline=[\n",
      "            dict(type='DecordInit'),\n",
      "            dict(\n",
      "                type='SampleFrames', clip_len=8, frame_interval=8,\n",
      "                num_clips=1),\n",
      "            dict(type='DecordDecode'),\n",
      "            dict(type='Resize', scale=(-1, 256)),\n",
      "            dict(type='RandomResizedCrop'),\n",
      "            dict(type='Resize', scale=(224, 224), keep_ratio=False),\n",
      "            dict(type='Flip', flip_ratio=0.5),\n",
      "            dict(\n",
      "                type='Normalize',\n",
      "                mean=[123.675, 116.28, 103.53],\n",
      "                std=[58.395, 57.12, 57.375],\n",
      "                to_bgr=False),\n",
      "            dict(type='FormatShape', input_format='NCTHW'),\n",
      "            dict(type='Collect', keys=['imgs', 'label'], meta_keys=[]),\n",
      "            dict(type='ToTensor', keys=['imgs', 'label'])\n",
      "        ]),\n",
      "    val=dict(\n",
      "        type='VideoDataset',\n",
      "        ann_file='data/childact_split/childact_val_video.txt',\n",
      "        data_prefix='data/childact_split/val/',\n",
      "        pipeline=[\n",
      "            dict(type='DecordInit'),\n",
      "            dict(\n",
      "                type='SampleFrames',\n",
      "                clip_len=8,\n",
      "                frame_interval=8,\n",
      "                num_clips=1,\n",
      "                test_mode=True),\n",
      "            dict(type='DecordDecode'),\n",
      "            dict(type='Resize', scale=(-1, 256)),\n",
      "            dict(type='CenterCrop', crop_size=224),\n",
      "            dict(type='Flip', flip_ratio=0),\n",
      "            dict(\n",
      "                type='Normalize',\n",
      "                mean=[123.675, 116.28, 103.53],\n",
      "                std=[58.395, 57.12, 57.375],\n",
      "                to_bgr=False),\n",
      "            dict(type='FormatShape', input_format='NCTHW'),\n",
      "            dict(type='Collect', keys=['imgs', 'label'], meta_keys=[]),\n",
      "            dict(type='ToTensor', keys=['imgs'])\n",
      "        ],\n",
      "        test_mode=True),\n",
      "    test=dict(\n",
      "        type='VideoDataset',\n",
      "        ann_file='data/childact_split/childact_test_video.txt',\n",
      "        data_prefix='data/childact_split/test/',\n",
      "        pipeline=[\n",
      "            dict(type='DecordInit'),\n",
      "            dict(\n",
      "                type='SampleFrames',\n",
      "                clip_len=8,\n",
      "                frame_interval=8,\n",
      "                num_clips=10,\n",
      "                test_mode=True),\n",
      "            dict(type='DecordDecode'),\n",
      "            dict(type='Resize', scale=(-1, 256)),\n",
      "            dict(type='ThreeCrop', crop_size=256),\n",
      "            dict(type='Flip', flip_ratio=0),\n",
      "            dict(\n",
      "                type='Normalize',\n",
      "                mean=[123.675, 116.28, 103.53],\n",
      "                std=[58.395, 57.12, 57.375],\n",
      "                to_bgr=False),\n",
      "            dict(type='FormatShape', input_format='NCTHW'),\n",
      "            dict(type='Collect', keys=['imgs', 'label'], meta_keys=[]),\n",
      "            dict(type='ToTensor', keys=['imgs'])\n",
      "        ],\n",
      "        test_mode=True))\n",
      "evaluation = dict(\n",
      "    interval=5, metrics=['top_k_accuracy', 'mean_class_accuracy'])\n",
      "optimizer = dict(type='SGD', lr=0.2, momentum=0.9, weight_decay=0.0001)\n",
      "optimizer_config = dict(grad_clip=dict(max_norm=40, norm_type=2))\n",
      "lr_config = dict(\n",
      "    policy='cyclic',\n",
      "    target_ratio=(10, 0.0001),\n",
      "    cyclic_times=1,\n",
      "    step_ratio_up=0.4)\n",
      "total_epochs = 51\n",
      "work_dir = './childact-checkpoints/childact-r2plus1d-3'\n",
      "find_unused_parameters = False\n",
      "omnisource = False\n",
      "momentum_config = dict(\n",
      "    policy='cyclic',\n",
      "    target_ratio=(0.8947368421052632, 1),\n",
      "    cyclic_times=1,\n",
      "    step_ratio_up=0.4)\n",
      "seed = 42\n",
      "gpu_ids = range(0, 1)\n",
      "output_config = dict(\n",
      "    out='./childact-checkpoints/childact-r2plus1d-3/results.json')\n",
      "\n"
     ]
    }
   ],
   "source": [
    "from mmcv.runner import set_random_seed\n",
    "\n",
    "# Modify dataset type and path\n",
    "cfg.dataset_type = 'VideoDataset'\n",
    "cfg.data_root = 'data/childact_split/train/'\n",
    "cfg.data_root_val = 'data/childact_split/val/'\n",
    "cfg.ann_file_train = 'data/childact_split/childact_train_video.txt'\n",
    "cfg.ann_file_val = 'data/childact_split/childact_val_video.txt'\n",
    "cfg.ann_file_test = 'data/childact_split/childact_test_video.txt'\n",
    "\n",
    "cfg.data.test.type = 'VideoDataset'\n",
    "cfg.data.test.ann_file = 'data/childact_split/childact_test_video.txt'\n",
    "cfg.data.test.data_prefix = 'data/childact_split/test/'\n",
    "\n",
    "cfg.data.train.type = 'VideoDataset'\n",
    "cfg.data.train.ann_file = 'data/childact_split/childact_train_video.txt'\n",
    "cfg.data.train.data_prefix = 'data/childact_split/train/'\n",
    "\n",
    "cfg.data.val.type = 'VideoDataset'\n",
    "cfg.data.val.ann_file = 'data/childact_split/childact_val_video.txt'\n",
    "cfg.data.val.data_prefix = 'data/childact_split/val/'\n",
    "\n",
    "# The flag is used to determine whether it is omnisource training\n",
    "cfg.setdefault('omnisource', False)\n",
    "# Modify num classes of the model in cls_head\n",
    "cfg.model.cls_head.num_classes = 7\n",
    "# We can use the pre-trained TSN model\n",
    "cfg.load_from = './checkpoints/r2plus1d_r34_video_8x8x1_180e_kinetics400_rgb_20200826-ab35a529.pth'\n",
    "# cfg.resume_from = './childact-checkpoints/childact-r2plus1d/latest.pth'\n",
    "\n",
    "# Set up working dir to save files and logs.\n",
    "cfg.work_dir = './childact-checkpoints/childact-r2plus1d-3'\n",
    "\n",
    "# The original learning rate (LR) is set for 8-GPU training.\n",
    "# We divide it by 8 since we only use one GPU.\n",
    "cfg.data.videos_per_gpu = 32\n",
    "# cfg.optimizer.type = 'Adam'\n",
    "# cfg.optimizer.weight_decay=0.0001\n",
    "\n",
    "# cfg.optimizer_config.grad_clip=None\n",
    "# cfg.optimizer.lr = 0.01\n",
    "\n",
    "cfg.lr_config = dict(\n",
    "    policy='cyclic',\n",
    "    target_ratio=(10, 1e-4),\n",
    "    cyclic_times=1,\n",
    "    step_ratio_up=0.4,\n",
    ")\n",
    "\n",
    "cfg.total_epochs = 51\n",
    "\n",
    "cfg.momentum_config = dict(\n",
    "    policy='cyclic',\n",
    "    target_ratio=(0.85 / 0.95, 1),\n",
    "    cyclic_times=1,\n",
    "    step_ratio_up=0.4,\n",
    ")\n",
    "\n",
    "# We can set the checkpoint saving interval to reduce the storage cost\n",
    "cfg.checkpoint_config.interval = 4\n",
    "# We can set the log print interval to reduce the the times of printing log\n",
    "cfg.log_config.interval = 10\n",
    "\n",
    "# Set seed thus the results are more reproducible\n",
    "cfg.seed = 42\n",
    "set_random_seed(42, deterministic=False)\n",
    "cfg.gpu_ids = range(1)\n",
    "\n",
    "cfg.output_config = dict(out=f'{cfg.work_dir}/results.json')\n",
    "# We can initialize the logger for training and have a look\n",
    "# at the final config used for training\n",
    "# del cfg.optimizer['momentum']\n",
    "del cfg.model.backbone['norm_cfg']\n",
    "# cfg.model.cls_head.type = \"TSNHead\"\n",
    "print(f'Config:\\n{cfg.pretty_text}')"
   ]
  },
  {
   "cell_type": "code",
   "execution_count": null,
   "metadata": {
    "colab": {
     "base_uri": "https://localhost:8080/"
    },
    "collapsed": true,
    "id": "dDBWkdDRk6oz",
    "jupyter": {
     "outputs_hidden": true
    },
    "outputId": "85a52ef3-7b5c-4c52-8fef-00322a8c65e6",
    "tags": []
   },
   "outputs": [
    {
     "name": "stderr",
     "output_type": "stream",
     "text": [
      "2021-03-25 15:30:20,791 - mmaction - INFO - load checkpoint from ./checkpoints/r2plus1d_r34_video_8x8x1_180e_kinetics400_rgb_20200826-ab35a529.pth\n",
      "2021-03-25 15:30:20,792 - mmaction - INFO - Use load_from_local loader\n",
      "2021-03-25 15:30:20,949 - mmaction - WARNING - The model and loaded state dict do not match exactly\n",
      "\n",
      "size mismatch for cls_head.fc_cls.weight: copying a param with shape torch.Size([400, 512]) from checkpoint, the shape in current model is torch.Size([7, 512]).\n",
      "size mismatch for cls_head.fc_cls.bias: copying a param with shape torch.Size([400]) from checkpoint, the shape in current model is torch.Size([7]).\n",
      "2021-03-25 15:30:20,956 - mmaction - INFO - Start running, host: actrec@actrec-HP-Z4-G4-Workstation, work_dir: /home/actrec/.virtualenvs/mmaction/mmaction2/childact-checkpoints/childact-r2plus1d-3\n",
      "2021-03-25 15:30:20,956 - mmaction - INFO - workflow: [('train', 1)], max: 51 epochs\n",
      "/home/actrec/.virtualenvs/mmaction/mmaction2/mmaction/core/evaluation/eval_hooks.py:131: UserWarning: runner.meta is None. Creating a empty one.\n",
      "  warnings.warn('runner.meta is None. Creating a empty one.')\n",
      "2021-03-25 15:31:02,501 - mmaction - INFO - Epoch [1][10/33]\tlr: 2.008e-01, eta: 1:55:49, time: 4.154, data_time: 2.889, memory: 21540, top1_acc: 0.2844, top5_acc: 0.8156, loss_cls: 2.1705, loss: 2.1705, grad_norm: 7.4289\n",
      "2021-03-25 15:31:31,298 - mmaction - INFO - Epoch [1][20/33]\tlr: 2.035e-01, eta: 1:37:28, time: 2.880, data_time: 1.614, memory: 21540, top1_acc: 0.2469, top5_acc: 0.9125, loss_cls: 2.0148, loss: 2.0148, grad_norm: 3.1453\n",
      "2021-03-25 15:32:05,559 - mmaction - INFO - Epoch [1][30/33]\tlr: 2.082e-01, eta: 1:36:03, time: 3.426, data_time: 2.157, memory: 21540, top1_acc: 0.2000, top5_acc: 0.9062, loss_cls: 2.6605, loss: 2.6605, grad_norm: 2.8469\n",
      "2021-03-25 15:32:53,722 - mmaction - INFO - Epoch [2][10/33]\tlr: 2.172e-01, eta: 1:33:10, time: 4.199, data_time: 2.919, memory: 21540, top1_acc: 0.2281, top5_acc: 0.9000, loss_cls: 1.8570, loss: 1.8570, grad_norm: 1.2776\n",
      "2021-03-25 15:33:23,062 - mmaction - INFO - Epoch [2][20/33]\tlr: 2.264e-01, eta: 1:30:10, time: 2.934, data_time: 1.633, memory: 21540, top1_acc: 0.2531, top5_acc: 0.9250, loss_cls: 1.8182, loss: 1.8182, grad_norm: 0.8250\n",
      "2021-03-25 15:33:55,783 - mmaction - INFO - Epoch [2][30/33]\tlr: 2.374e-01, eta: 1:29:25, time: 3.272, data_time: 1.989, memory: 21540, top1_acc: 0.2375, top5_acc: 0.9281, loss_cls: 1.8561, loss: 1.8561, grad_norm: 0.9048\n",
      "2021-03-25 15:34:41,763 - mmaction - INFO - Epoch [3][10/33]\tlr: 2.546e-01, eta: 1:27:36, time: 3.995, data_time: 2.713, memory: 21540, top1_acc: 0.2656, top5_acc: 0.9531, loss_cls: 1.7201, loss: 1.7201, grad_norm: 0.6051\n",
      "2021-03-25 15:35:11,548 - mmaction - INFO - Epoch [3][20/33]\tlr: 2.699e-01, eta: 1:26:09, time: 2.979, data_time: 1.666, memory: 21540, top1_acc: 0.3063, top5_acc: 0.9688, loss_cls: 1.5800, loss: 1.5800, grad_norm: 0.5706\n",
      "2021-03-25 15:35:46,000 - mmaction - INFO - Epoch [3][30/33]\tlr: 2.871e-01, eta: 1:26:11, time: 3.445, data_time: 2.146, memory: 21540, top1_acc: 0.2938, top5_acc: 0.9688, loss_cls: 1.5985, loss: 1.5985, grad_norm: 0.6491\n",
      "2021-03-25 15:36:35,684 - mmaction - INFO - Epoch [4][10/33]\tlr: 3.120e-01, eta: 1:25:19, time: 4.171, data_time: 2.896, memory: 21540, top1_acc: 0.3563, top5_acc: 0.9531, loss_cls: 1.5086, loss: 1.5086, grad_norm: 0.6201\n",
      "2021-03-25 15:37:03,335 - mmaction - INFO - Epoch [4][20/33]\tlr: 3.331e-01, eta: 1:23:43, time: 2.765, data_time: 1.476, memory: 21540, top1_acc: 0.3219, top5_acc: 0.9437, loss_cls: 1.7628, loss: 1.7628, grad_norm: 0.7288\n",
      "2021-03-25 15:37:40,292 - mmaction - INFO - Epoch [4][30/33]\tlr: 3.559e-01, eta: 1:24:09, time: 3.696, data_time: 2.415, memory: 21540, top1_acc: 0.3344, top5_acc: 0.9531, loss_cls: 1.5966, loss: 1.5966, grad_norm: 0.5774\n",
      "2021-03-25 15:37:48,214 - mmaction - INFO - Saving checkpoint at 4 epochs\n",
      "2021-03-25 15:38:30,725 - mmaction - INFO - Epoch [5][10/33]\tlr: 3.880e-01, eta: 1:23:20, time: 4.167, data_time: 2.890, memory: 21540, top1_acc: 0.3094, top5_acc: 0.9500, loss_cls: 1.5623, loss: 1.5623, grad_norm: 0.4973\n",
      "2021-03-25 15:38:59,313 - mmaction - INFO - Epoch [5][20/33]\tlr: 4.145e-01, eta: 1:22:09, time: 2.859, data_time: 1.580, memory: 21540, top1_acc: 0.3406, top5_acc: 0.9469, loss_cls: 1.5454, loss: 1.5454, grad_norm: 0.6928\n",
      "2021-03-25 15:39:32,827 - mmaction - INFO - Epoch [5][30/33]\tlr: 4.424e-01, eta: 1:21:49, time: 3.351, data_time: 2.062, memory: 21540, top1_acc: 0.2687, top5_acc: 0.9531, loss_cls: 1.6012, loss: 1.6012, grad_norm: 0.6742\n"
     ]
    },
    {
     "name": "stdout",
     "output_type": "stream",
     "text": [
      "[>>>>>>>>>>>>>>>>>>>>>>>>>>>>>>>>>>>>>>>>] 126/126, 7.8 task/s, elapsed: 16s, ETA:     0s"
     ]
    },
    {
     "name": "stderr",
     "output_type": "stream",
     "text": [
      "2021-03-25 15:39:57,043 - mmaction - INFO - Evaluating top_k_accuracy ...\n",
      "2021-03-25 15:39:57,045 - mmaction - INFO - \n",
      "top1_acc\t0.3651\n",
      "top5_acc\t1.0000\n",
      "2021-03-25 15:39:57,046 - mmaction - INFO - Evaluating mean_class_accuracy ...\n",
      "2021-03-25 15:39:57,047 - mmaction - INFO - \n",
      "mean_acc\t0.3651\n",
      "2021-03-25 15:39:57,852 - mmaction - INFO - Now best checkpoint is saved as best_top1_acc_epoch_5.pth.\n",
      "2021-03-25 15:39:57,854 - mmaction - INFO - Best top1_acc is 0.3651 at 5 epoch.\n",
      "2021-03-25 15:39:57,855 - mmaction - INFO - Epoch(val) [5][33]\ttop1_acc: 0.3651, top5_acc: 1.0000, mean_class_accuracy: 0.3651\n",
      "2021-03-25 15:40:40,465 - mmaction - INFO - Epoch [6][10/33]\tlr: 4.809e-01, eta: 1:21:13, time: 4.260, data_time: 2.969, memory: 21540, top1_acc: 0.3094, top5_acc: 0.9656, loss_cls: 1.5239, loss: 1.5239, grad_norm: 0.5280\n",
      "2021-03-25 15:41:09,933 - mmaction - INFO - Epoch [6][20/33]\tlr: 5.121e-01, eta: 1:20:17, time: 2.947, data_time: 1.667, memory: 21540, top1_acc: 0.3312, top5_acc: 0.9750, loss_cls: 1.5019, loss: 1.5019, grad_norm: 0.6209\n",
      "2021-03-25 15:41:43,015 - mmaction - INFO - Epoch [6][30/33]\tlr: 5.445e-01, eta: 1:19:52, time: 3.308, data_time: 2.006, memory: 21540, top1_acc: 0.3500, top5_acc: 0.9688, loss_cls: 1.4669, loss: 1.4669, grad_norm: 0.6785\n",
      "2021-03-25 15:42:32,873 - mmaction - INFO - Epoch [7][10/33]\tlr: 5.885e-01, eta: 1:19:19, time: 4.316, data_time: 3.034, memory: 21540, top1_acc: 0.3187, top5_acc: 0.9625, loss_cls: 1.4733, loss: 1.4733, grad_norm: 0.5135\n",
      "2021-03-25 15:42:59,557 - mmaction - INFO - Epoch [7][20/33]\tlr: 6.236e-01, eta: 1:18:10, time: 2.668, data_time: 1.382, memory: 21540, top1_acc: 0.2750, top5_acc: 0.9531, loss_cls: 1.6565, loss: 1.6565, grad_norm: 0.7216\n",
      "2021-03-25 15:43:33,497 - mmaction - INFO - Epoch [7][30/33]\tlr: 6.597e-01, eta: 1:17:50, time: 3.394, data_time: 2.101, memory: 21540, top1_acc: 0.2875, top5_acc: 0.9531, loss_cls: 1.6605, loss: 1.6605, grad_norm: 0.4748\n",
      "2021-03-25 15:44:20,169 - mmaction - INFO - Epoch [8][10/33]\tlr: 7.082e-01, eta: 1:17:09, time: 4.178, data_time: 2.898, memory: 21540, top1_acc: 0.2812, top5_acc: 0.9594, loss_cls: 1.5988, loss: 1.5988, grad_norm: 0.4877\n",
      "2021-03-25 15:44:48,118 - mmaction - INFO - Epoch [8][20/33]\tlr: 7.464e-01, eta: 1:16:13, time: 2.795, data_time: 1.508, memory: 21540, top1_acc: 0.3063, top5_acc: 0.9531, loss_cls: 1.5732, loss: 1.5732, grad_norm: 0.5366\n",
      "2021-03-25 15:45:21,504 - mmaction - INFO - Epoch [8][30/33]\tlr: 7.854e-01, eta: 1:15:49, time: 3.339, data_time: 2.050, memory: 21540, top1_acc: 0.3094, top5_acc: 0.9625, loss_cls: 1.6534, loss: 1.6534, grad_norm: 0.5668\n",
      "2021-03-25 15:45:27,422 - mmaction - INFO - Saving checkpoint at 8 epochs\n",
      "2021-03-25 15:46:09,156 - mmaction - INFO - Epoch [9][10/33]\tlr: 8.371e-01, eta: 1:15:04, time: 4.092, data_time: 2.812, memory: 21540, top1_acc: 0.3156, top5_acc: 0.9594, loss_cls: 1.5707, loss: 1.5707, grad_norm: 0.4655\n",
      "2021-03-25 15:46:37,676 - mmaction - INFO - Epoch [9][20/33]\tlr: 8.776e-01, eta: 1:14:15, time: 2.852, data_time: 1.568, memory: 21540, top1_acc: 0.2875, top5_acc: 0.9625, loss_cls: 1.5536, loss: 1.5536, grad_norm: 0.4027\n",
      "2021-03-25 15:47:11,993 - mmaction - INFO - Epoch [9][30/33]\tlr: 9.185e-01, eta: 1:13:55, time: 3.432, data_time: 2.142, memory: 21540, top1_acc: 0.3438, top5_acc: 0.9656, loss_cls: 1.5327, loss: 1.5327, grad_norm: 0.4450\n",
      "2021-03-25 15:48:03,821 - mmaction - INFO - Epoch [10][10/33]\tlr: 9.723e-01, eta: 1:13:31, time: 4.556, data_time: 3.277, memory: 21540, top1_acc: 0.3219, top5_acc: 0.9344, loss_cls: 1.6519, loss: 1.6519, grad_norm: 0.4373\n",
      "2021-03-25 15:48:30,898 - mmaction - INFO - Epoch [10][20/33]\tlr: 1.014e+00, eta: 1:12:38, time: 2.708, data_time: 1.429, memory: 21540, top1_acc: 0.3344, top5_acc: 0.9594, loss_cls: 1.5237, loss: 1.5237, grad_norm: 0.4727\n",
      "2021-03-25 15:49:05,581 - mmaction - INFO - Epoch [10][30/33]\tlr: 1.056e+00, eta: 1:12:17, time: 3.468, data_time: 2.188, memory: 21540, top1_acc: 0.2969, top5_acc: 0.9531, loss_cls: 1.6167, loss: 1.6167, grad_norm: 0.4456\n"
     ]
    },
    {
     "name": "stdout",
     "output_type": "stream",
     "text": [
      "[>>>>>>>>>>>>>>>>>>>>>>>>>>>>>>>>>>>>>>>>] 126/126, 7.8 task/s, elapsed: 16s, ETA:     0s"
     ]
    },
    {
     "name": "stderr",
     "output_type": "stream",
     "text": [
      "2021-03-25 15:49:29,166 - mmaction - INFO - Evaluating top_k_accuracy ...\n",
      "2021-03-25 15:49:29,167 - mmaction - INFO - \n",
      "top1_acc\t0.3175\n",
      "top5_acc\t0.9762\n",
      "2021-03-25 15:49:29,168 - mmaction - INFO - Evaluating mean_class_accuracy ...\n",
      "2021-03-25 15:49:29,168 - mmaction - INFO - \n",
      "mean_acc\t0.3175\n",
      "2021-03-25 15:49:29,169 - mmaction - INFO - Epoch(val) [10][33]\ttop1_acc: 0.3175, top5_acc: 0.9762, mean_class_accuracy: 0.3175\n",
      "2021-03-25 15:50:15,748 - mmaction - INFO - Epoch [11][10/33]\tlr: 1.111e+00, eta: 1:11:55, time: 4.658, data_time: 3.382, memory: 21540, top1_acc: 0.3438, top5_acc: 0.9625, loss_cls: 1.5662, loss: 1.5662, grad_norm: 0.5038\n",
      "2021-03-25 15:50:44,778 - mmaction - INFO - Epoch [11][20/33]\tlr: 1.152e+00, eta: 1:11:11, time: 2.903, data_time: 1.629, memory: 21540, top1_acc: 0.3219, top5_acc: 0.9563, loss_cls: 1.5483, loss: 1.5483, grad_norm: 0.5952\n",
      "2021-03-25 15:51:14,411 - mmaction - INFO - Epoch [11][30/33]\tlr: 1.194e+00, eta: 1:10:31, time: 2.963, data_time: 1.683, memory: 21540, top1_acc: 0.2844, top5_acc: 0.9125, loss_cls: 1.7821, loss: 1.7821, grad_norm: 0.5007\n",
      "2021-03-25 15:52:04,710 - mmaction - INFO - Epoch [12][10/33]\tlr: 1.248e+00, eta: 1:09:55, time: 4.323, data_time: 3.048, memory: 21540, top1_acc: 0.3156, top5_acc: 0.9500, loss_cls: 1.6321, loss: 1.6321, grad_norm: 0.4643\n",
      "2021-03-25 15:52:31,314 - mmaction - INFO - Epoch [12][20/33]\tlr: 1.290e+00, eta: 1:09:04, time: 2.660, data_time: 1.385, memory: 21540, top1_acc: 0.3469, top5_acc: 0.9469, loss_cls: 1.5154, loss: 1.5154, grad_norm: 0.4713\n",
      "2021-03-25 15:53:06,273 - mmaction - INFO - Epoch [12][30/33]\tlr: 1.331e+00, eta: 1:08:43, time: 3.496, data_time: 2.220, memory: 21540, top1_acc: 0.2687, top5_acc: 0.9531, loss_cls: 1.6201, loss: 1.6201, grad_norm: 0.5333\n",
      "2021-03-25 15:53:11,182 - mmaction - INFO - Saving checkpoint at 12 epochs\n",
      "2021-03-25 15:53:54,373 - mmaction - INFO - Epoch [13][10/33]\tlr: 1.383e+00, eta: 1:08:04, time: 4.238, data_time: 2.959, memory: 21540, top1_acc: 0.2844, top5_acc: 0.9594, loss_cls: 1.6167, loss: 1.6167, grad_norm: 0.4886\n",
      "2021-03-25 15:54:21,622 - mmaction - INFO - Epoch [13][20/33]\tlr: 1.422e+00, eta: 1:07:17, time: 2.725, data_time: 1.443, memory: 21540, top1_acc: 0.3031, top5_acc: 0.9531, loss_cls: 1.6399, loss: 1.6399, grad_norm: 0.5734\n",
      "2021-03-25 15:54:56,608 - mmaction - INFO - Epoch [13][30/33]\tlr: 1.461e+00, eta: 1:06:55, time: 3.499, data_time: 2.206, memory: 21540, top1_acc: 0.3281, top5_acc: 0.9531, loss_cls: 1.6068, loss: 1.6068, grad_norm: 0.5718\n",
      "2021-03-25 15:55:44,090 - mmaction - INFO - Epoch [14][10/33]\tlr: 1.511e+00, eta: 1:06:19, time: 4.360, data_time: 3.075, memory: 21540, top1_acc: 0.2875, top5_acc: 0.9469, loss_cls: 1.6569, loss: 1.6569, grad_norm: 0.4681\n",
      "2021-03-25 15:56:09,282 - mmaction - INFO - Epoch [14][20/33]\tlr: 1.548e+00, eta: 1:05:28, time: 2.519, data_time: 1.239, memory: 21540, top1_acc: 0.3125, top5_acc: 0.9406, loss_cls: 1.6067, loss: 1.6067, grad_norm: 0.4975\n",
      "2021-03-25 15:56:44,415 - mmaction - INFO - Epoch [14][30/33]\tlr: 1.584e+00, eta: 1:05:05, time: 3.513, data_time: 2.233, memory: 21540, top1_acc: 0.3094, top5_acc: 0.9469, loss_cls: 1.7103, loss: 1.7103, grad_norm: 0.6207\n",
      "2021-03-25 15:57:35,040 - mmaction - INFO - Epoch [15][10/33]\tlr: 1.629e+00, eta: 1:04:32, time: 4.481, data_time: 3.195, memory: 21540, top1_acc: 0.3031, top5_acc: 0.9563, loss_cls: 1.6136, loss: 1.6136, grad_norm: 0.4809\n",
      "2021-03-25 15:58:03,388 - mmaction - INFO - Epoch [15][20/33]\tlr: 1.662e+00, eta: 1:03:51, time: 2.835, data_time: 1.556, memory: 21540, top1_acc: 0.2812, top5_acc: 0.9375, loss_cls: 1.6945, loss: 1.6945, grad_norm: 0.5643\n",
      "2021-03-25 15:58:36,623 - mmaction - INFO - Epoch [15][30/33]\tlr: 1.694e+00, eta: 1:03:23, time: 3.323, data_time: 2.042, memory: 21540, top1_acc: 0.2500, top5_acc: 0.9469, loss_cls: 1.7621, loss: 1.7621, grad_norm: 0.5227\n"
     ]
    },
    {
     "name": "stdout",
     "output_type": "stream",
     "text": [
      "[>>>>>>>>>>>>>>>>>>>>>>>>>>>>>>>>>>>>>>>>] 126/126, 7.8 task/s, elapsed: 16s, ETA:     0s"
     ]
    },
    {
     "name": "stderr",
     "output_type": "stream",
     "text": [
      "2021-03-25 15:58:57,064 - mmaction - INFO - Evaluating top_k_accuracy ...\n",
      "2021-03-25 15:58:57,066 - mmaction - INFO - \n",
      "top1_acc\t0.1984\n",
      "top5_acc\t0.7460\n",
      "2021-03-25 15:58:57,066 - mmaction - INFO - Evaluating mean_class_accuracy ...\n",
      "2021-03-25 15:58:57,067 - mmaction - INFO - \n",
      "mean_acc\t0.1984\n",
      "2021-03-25 15:58:57,068 - mmaction - INFO - Epoch(val) [15][33]\ttop1_acc: 0.1984, top5_acc: 0.7460, mean_class_accuracy: 0.1984\n",
      "2021-03-25 15:59:40,086 - mmaction - INFO - Epoch [16][10/33]\tlr: 1.734e+00, eta: 1:02:45, time: 4.301, data_time: 3.018, memory: 21540, top1_acc: 0.2938, top5_acc: 0.9437, loss_cls: 1.6775, loss: 1.6775, grad_norm: 0.4904\n",
      "2021-03-25 16:00:07,571 - mmaction - INFO - Epoch [16][20/33]\tlr: 1.763e+00, eta: 1:02:02, time: 2.748, data_time: 1.469, memory: 21540, top1_acc: 0.3063, top5_acc: 0.9719, loss_cls: 1.6790, loss: 1.6790, grad_norm: 0.4985\n",
      "2021-03-25 16:00:40,896 - mmaction - INFO - Epoch [16][30/33]\tlr: 1.791e+00, eta: 1:01:34, time: 3.332, data_time: 2.050, memory: 21540, top1_acc: 0.3031, top5_acc: 0.9500, loss_cls: 1.6984, loss: 1.6984, grad_norm: 0.5027\n",
      "2021-03-25 16:00:44,909 - mmaction - INFO - Saving checkpoint at 16 epochs\n",
      "2021-03-25 16:01:27,873 - mmaction - INFO - Epoch [17][10/33]\tlr: 1.825e+00, eta: 1:00:54, time: 4.216, data_time: 2.942, memory: 21540, top1_acc: 0.2812, top5_acc: 0.9437, loss_cls: 1.7198, loss: 1.7198, grad_norm: 0.4784\n",
      "2021-03-25 16:01:55,806 - mmaction - INFO - Epoch [17][20/33]\tlr: 1.849e+00, eta: 1:00:14, time: 2.793, data_time: 1.517, memory: 21540, top1_acc: 0.2812, top5_acc: 0.9281, loss_cls: 1.7077, loss: 1.7077, grad_norm: 0.5080\n",
      "2021-03-25 16:02:30,456 - mmaction - INFO - Epoch [17][30/33]\tlr: 1.871e+00, eta: 0:59:47, time: 3.465, data_time: 2.179, memory: 21540, top1_acc: 0.3094, top5_acc: 0.9531, loss_cls: 1.6434, loss: 1.6434, grad_norm: 0.5502\n",
      "2021-03-25 16:03:19,488 - mmaction - INFO - Epoch [18][10/33]\tlr: 1.898e+00, eta: 0:59:08, time: 4.251, data_time: 2.976, memory: 21540, top1_acc: 0.3156, top5_acc: 0.9375, loss_cls: 1.6301, loss: 1.6301, grad_norm: 0.5023\n",
      "2021-03-25 16:03:47,471 - mmaction - INFO - Epoch [18][20/33]\tlr: 1.917e+00, eta: 0:58:29, time: 2.798, data_time: 1.523, memory: 21540, top1_acc: 0.2687, top5_acc: 0.9531, loss_cls: 1.6953, loss: 1.6953, grad_norm: 0.4932\n",
      "2021-03-25 16:04:20,780 - mmaction - INFO - Epoch [18][30/33]\tlr: 1.933e+00, eta: 0:57:59, time: 3.331, data_time: 2.055, memory: 21540, top1_acc: 0.2875, top5_acc: 0.9406, loss_cls: 1.6540, loss: 1.6540, grad_norm: 0.4814\n",
      "2021-03-25 16:05:10,733 - mmaction - INFO - Epoch [19][10/33]\tlr: 1.952e+00, eta: 0:57:19, time: 4.208, data_time: 2.933, memory: 21540, top1_acc: 0.2531, top5_acc: 0.9469, loss_cls: 1.7584, loss: 1.7584, grad_norm: 0.5687\n",
      "2021-03-25 16:05:37,501 - mmaction - INFO - Epoch [19][20/33]\tlr: 1.965e+00, eta: 0:56:38, time: 2.677, data_time: 1.399, memory: 21540, top1_acc: 0.2531, top5_acc: 0.9156, loss_cls: 1.7489, loss: 1.7489, grad_norm: 0.3908\n",
      "2021-03-25 16:06:12,213 - mmaction - INFO - Epoch [19][30/33]\tlr: 1.976e+00, eta: 0:56:12, time: 3.471, data_time: 2.192, memory: 21540, top1_acc: 0.2656, top5_acc: 0.9219, loss_cls: 1.7889, loss: 1.7889, grad_norm: 0.3820\n",
      "2021-03-25 16:07:02,668 - mmaction - INFO - Epoch [20][10/33]\tlr: 1.987e+00, eta: 0:55:34, time: 4.388, data_time: 3.113, memory: 21540, top1_acc: 0.2156, top5_acc: 0.9125, loss_cls: 1.7605, loss: 1.7605, grad_norm: 0.3493\n",
      "2021-03-25 16:07:30,063 - mmaction - INFO - Epoch [20][20/33]\tlr: 1.993e+00, eta: 0:54:55, time: 2.739, data_time: 1.467, memory: 21540, top1_acc: 0.2125, top5_acc: 0.9313, loss_cls: 1.7811, loss: 1.7811, grad_norm: 0.4657\n",
      "2021-03-25 16:08:02,925 - mmaction - INFO - Epoch [20][30/33]\tlr: 1.997e+00, eta: 0:54:25, time: 3.286, data_time: 2.005, memory: 21540, top1_acc: 0.2938, top5_acc: 0.9156, loss_cls: 1.7447, loss: 1.7447, grad_norm: 0.8211\n",
      "2021-03-25 16:08:09,007 - mmaction - INFO - Saving checkpoint at 20 epochs\n"
     ]
    },
    {
     "name": "stdout",
     "output_type": "stream",
     "text": [
      "[>>>>>>>>>>>>>>>>>>>>>>>>>>>>>>>>>>>>>>>>] 126/126, 7.8 task/s, elapsed: 16s, ETA:     0s"
     ]
    },
    {
     "name": "stderr",
     "output_type": "stream",
     "text": [
      "2021-03-25 16:08:26,069 - mmaction - INFO - Evaluating top_k_accuracy ...\n",
      "2021-03-25 16:08:26,070 - mmaction - INFO - \n",
      "top1_acc\t0.2381\n",
      "top5_acc\t1.0000\n",
      "2021-03-25 16:08:26,071 - mmaction - INFO - Evaluating mean_class_accuracy ...\n",
      "2021-03-25 16:08:26,072 - mmaction - INFO - \n",
      "mean_acc\t0.2381\n",
      "2021-03-25 16:08:26,073 - mmaction - INFO - Epoch(val) [20][33]\ttop1_acc: 0.2381, top5_acc: 1.0000, mean_class_accuracy: 0.2381\n",
      "2021-03-25 16:09:08,179 - mmaction - INFO - Epoch [21][10/33]\tlr: 2.000e+00, eta: 0:53:45, time: 4.210, data_time: 2.933, memory: 21540, top1_acc: 0.2875, top5_acc: 0.9437, loss_cls: 1.7203, loss: 1.7203, grad_norm: 0.4388\n",
      "2021-03-25 16:09:35,054 - mmaction - INFO - Epoch [21][20/33]\tlr: 2.000e+00, eta: 0:53:06, time: 2.687, data_time: 1.415, memory: 21540, top1_acc: 0.3156, top5_acc: 0.9187, loss_cls: 1.6964, loss: 1.6964, grad_norm: 0.4517\n",
      "2021-03-25 16:10:09,760 - mmaction - INFO - Epoch [21][30/33]\tlr: 1.999e+00, eta: 0:52:38, time: 3.471, data_time: 2.192, memory: 21540, top1_acc: 0.2281, top5_acc: 0.9156, loss_cls: 1.7660, loss: 1.7660, grad_norm: 0.3907\n",
      "2021-03-25 16:11:00,239 - mmaction - INFO - Epoch [22][10/33]\tlr: 1.996e+00, eta: 0:52:00, time: 4.338, data_time: 3.055, memory: 21540, top1_acc: 0.2875, top5_acc: 0.9313, loss_cls: 1.7388, loss: 1.7388, grad_norm: 0.3903\n",
      "2021-03-25 16:11:29,629 - mmaction - INFO - Epoch [22][20/33]\tlr: 1.993e+00, eta: 0:51:24, time: 2.939, data_time: 1.668, memory: 21540, top1_acc: 0.2531, top5_acc: 0.9688, loss_cls: 1.6935, loss: 1.6935, grad_norm: 0.3204\n",
      "2021-03-25 16:12:04,397 - mmaction - INFO - Epoch [22][30/33]\tlr: 1.988e+00, eta: 0:50:57, time: 3.477, data_time: 2.202, memory: 21540, top1_acc: 0.2969, top5_acc: 0.9437, loss_cls: 1.6150, loss: 1.6150, grad_norm: 0.3260\n"
     ]
    }
   ],
   "source": [
    "import os.path as osp\n",
    "\n",
    "from mmaction.datasets import build_dataset\n",
    "from mmaction.models import build_model\n",
    "from mmaction.apis import train_model\n",
    "\n",
    "import mmcv\n",
    "\n",
    "# Build the dataset\n",
    "datasets = [build_dataset(cfg.data.train)]\n",
    "\n",
    "# Build the recognizer\n",
    "model = build_model(cfg.model, train_cfg=cfg.get('train_cfg'), test_cfg=cfg.get('test_cfg'))\n",
    "# model = build_model(cfg.model, train_cfg=cfg.get('train_cfg'), test_cfg=cfg.get('test_cfg'))\n",
    "# model = build_detector(cfg.model, train_cfg=cfg.get('train_cfg'), test_cfg=cfg.get('test_cfg'))\n",
    "# model = build_detector(cfg.model, train_cfg=cfg.train_cfg, test_cfg=cfg.test_cfg)\n",
    "\n",
    "# Create work_dir\n",
    "mmcv.mkdir_or_exist(osp.abspath(cfg.work_dir))\n",
    "train_model(model, datasets, cfg, distributed=False, validate=True)"
   ]
  },
  {
   "cell_type": "code",
   "execution_count": 30,
   "metadata": {},
   "outputs": [],
   "source": [
    "import pickle\n",
    "\n",
    "with open(f\"{cfg.work_dir}/model50e\", 'wb') as f:\n",
    "    pickle.dump(model, f)"
   ]
  },
  {
   "cell_type": "code",
   "execution_count": 34,
   "metadata": {
    "colab": {
     "base_uri": "https://localhost:8080/"
    },
    "id": "eyY3hCMwyTct",
    "outputId": "200e37c7-0da4-421f-98da-41418c3110ca",
    "tags": []
   },
   "outputs": [
    {
     "name": "stdout",
     "output_type": "stream",
     "text": [
      "[>>>>>>>>>>>>>>>>>>>>>>>>>>>>>] 126/126, 0.7 task/s, elapsed: 180s, ETA:     0s\n",
      "Evaluating top_k_accuracy ...\n",
      "\n",
      "top1_acc\t0.5952\n",
      "top5_acc\t1.0000\n",
      "\n",
      "Evaluating mean_class_accuracy ...\n",
      "\n",
      "mean_acc\t0.5952\n",
      "top1_acc: 0.5952\n",
      "top5_acc: 1.0000\n",
      "mean_class_accuracy: 0.5952\n"
     ]
    }
   ],
   "source": [
    "from mmaction.apis import single_gpu_test\n",
    "from mmaction.datasets import build_dataloader, load_annotations, build_dataset\n",
    "from mmcv.parallel import MMDataParallel\n",
    "from mmaction.models import build_model\n",
    "\n",
    "# model = build_model(cfg.model, train_cfg=cfg.get('train_cfg'), test_cfg=cfg.get('test_cfg'))\n",
    "# Build a test dataloader\n",
    "dataset = build_dataset(cfg.data.test, dict(test_mode=True))\n",
    "data_loader = build_dataloader(\n",
    "        dataset,\n",
    "        videos_per_gpu=4,\n",
    "        workers_per_gpu=1,\n",
    "        dist=False,\n",
    "        shuffle=False)\n",
    "model = MMDataParallel(model, device_ids=[0])\n",
    "outputs = single_gpu_test(model, data_loader)\n",
    "\n",
    "eval_config = cfg.evaluation\n",
    "eval_config.pop('interval')\n",
    "eval_res = dataset.evaluate(outputs, **eval_config)\n",
    "for name, val in eval_res.items():\n",
    "    print(f'{name}: {val:.04f}')"
   ]
  },
  {
   "cell_type": "code",
   "execution_count": 73,
   "metadata": {},
   "outputs": [
    {
     "data": {
      "text/plain": [
       "<AxesSubplot:>"
      ]
     },
     "execution_count": 73,
     "metadata": {},
     "output_type": "execute_result"
    },
    {
     "data": {
      "image/png": "[encoded data removed]",
      "text/plain": [
       "<Figure size 432x288 with 2 Axes>"
      ]
     },
     "metadata": {
      "needs_background": "light"
     },
     "output_type": "display_data"
    }
   ],
   "source": [
    "import seaborn as sns\n",
    "import numpy as np\n",
    "from mmaction.core import confusion_matrix \n",
    "\n",
    "gt_labels = [ann['label'] for ann in dataset.load_annotations()]\n",
    "pred = np.argmax(outputs, axis=1)\n",
    "cf_mat = confusion_matrix(pred, gt_labels).astype(float)\n",
    "\n",
    "sns.heatmap(cf_mat, annot=True)"
   ]
  },
  {
   "cell_type": "markdown",
   "metadata": {
    "heading_collapsed": "true",
    "tags": []
   },
   "source": [
    "# TSM 93.65%"
   ]
  },
  {
   "cell_type": "code",
   "execution_count": 3,
   "metadata": {
    "colab": {
     "base_uri": "https://localhost:8080/"
    },
    "id": "64CW6d_AaT-Q",
    "outputId": "3b284fd8-4ee7-4a34-90d7-5023cd123a04",
    "tags": []
   },
   "outputs": [
    {
     "name": "stdout",
     "output_type": "stream",
     "text": [
      "--2021-03-24 19:15:04--  https://download.openmmlab.com/mmaction/recognition/tsm/tsm_r50_video_1x1x8_100e_kinetics400_rgb/tsm_r50_video_1x1x8_100e_kinetics400_rgb_20200702-a77f4328.pth\n",
      "Resolving download.openmmlab.com (download.openmmlab.com)... 47.75.20.25\n",
      "Connecting to download.openmmlab.com (download.openmmlab.com)|47.75.20.25|:443... connected.\n",
      "HTTP request sent, awaiting response... 200 OK\n",
      "Length: 97579687 (93M) [application/octet-stream]\n",
      "Saving to: ‘checkpoints/tsm_r50_video_1x1x8_100e_kinetics400_rgb_20200702-a77f4328.pth’\n",
      "\n",
      "checkpoints/tsm_r50 100%[===================>]  93,06M  8,72MB/s    in 12s     \n",
      "\n",
      "2021-03-24 19:15:20 (7,71 MB/s) - ‘checkpoints/tsm_r50_video_1x1x8_100e_kinetics400_rgb_20200702-a77f4328.pth’ saved [97579687/97579687]\n",
      "\n"
     ]
    }
   ],
   "source": [
    "# !mkdir checkpoints\n",
    "!wget -c https://download.openmmlab.com/mmaction/recognition/tsm/tsm_r50_video_1x1x8_100e_kinetics400_rgb/tsm_r50_video_1x1x8_100e_kinetics400_rgb_20200702-a77f4328.pth \\\n",
    "      -O checkpoints/tsm_r50_video_1x1x8_100e_kinetics400_rgb_20200702-a77f4328.pth"
   ]
  },
  {
   "cell_type": "code",
   "execution_count": 9,
   "metadata": {
    "id": "LjCcmCKOjktc",
    "tags": []
   },
   "outputs": [],
   "source": [
    "from mmcv import Config\n",
    "cfg = Config.fromfile('./configs/recognition/tsm/tsm_r50_video_1x1x8_50e_kinetics400_rgb.py')"
   ]
  },
  {
   "cell_type": "code",
   "execution_count": 10,
   "metadata": {
    "colab": {
     "base_uri": "https://localhost:8080/"
    },
    "id": "tlhu9byjjt-K",
    "outputId": "13d1bb01-f351-48c0-9efb-0bdf2c125d29",
    "tags": []
   },
   "outputs": [
    {
     "name": "stdout",
     "output_type": "stream",
     "text": [
      "Config:\n",
      "model = dict(\n",
      "    type='Recognizer2D',\n",
      "    backbone=dict(\n",
      "        type='ResNetTSM',\n",
      "        pretrained='torchvision://resnet50',\n",
      "        depth=50,\n",
      "        norm_eval=False,\n",
      "        shift_div=8),\n",
      "    cls_head=dict(\n",
      "        type='TSMHead',\n",
      "        num_classes=7,\n",
      "        in_channels=2048,\n",
      "        spatial_type='avg',\n",
      "        consensus=dict(type='AvgConsensus', dim=1),\n",
      "        dropout_ratio=0.5,\n",
      "        init_std=0.001,\n",
      "        is_shift=True),\n",
      "    train_cfg=None,\n",
      "    test_cfg=dict(average_clips='prob'))\n",
      "optimizer = dict(\n",
      "    type='SGD',\n",
      "    constructor='TSMOptimizerConstructor',\n",
      "    paramwise_cfg=dict(fc_lr5=True),\n",
      "    lr=0.02,\n",
      "    weight_decay=0.0001)\n",
      "optimizer_config = dict(grad_clip=dict(max_norm=20, norm_type=2))\n",
      "lr_config = dict(\n",
      "    policy='cyclic',\n",
      "    target_ratio=(10, 0.0001),\n",
      "    cyclic_times=1,\n",
      "    step_ratio_up=0.4)\n",
      "total_epochs = 51\n",
      "checkpoint_config = dict(interval=4)\n",
      "log_config = dict(interval=25, hooks=[dict(type='TextLoggerHook')])\n",
      "dist_params = dict(backend='nccl')\n",
      "log_level = 'INFO'\n",
      "load_from = 'checkpoints/tsm_r50_video_1x1x8_100e_kinetics400_rgb_20200702-a77f4328.pth'\n",
      "resume_from = None\n",
      "workflow = [('train', 1)]\n",
      "dataset_type = 'VideoDataset'\n",
      "data_root = 'data/childact_split/train/'\n",
      "data_root_val = 'data/childact_split/val/'\n",
      "ann_file_train = 'data/childact_split/childact_train_video.txt'\n",
      "ann_file_val = 'data/childact_split/childact_val_video.txt'\n",
      "ann_file_test = 'data/childact_split/childact_test_video.txt'\n",
      "img_norm_cfg = dict(\n",
      "    mean=[123.675, 116.28, 103.53], std=[58.395, 57.12, 57.375], to_bgr=False)\n",
      "train_pipeline = [\n",
      "    dict(type='DecordInit'),\n",
      "    dict(type='SampleFrames', clip_len=1, frame_interval=1, num_clips=8),\n",
      "    dict(type='DecordDecode'),\n",
      "    dict(type='Resize', scale=(-1, 256)),\n",
      "    dict(\n",
      "        type='MultiScaleCrop',\n",
      "        input_size=224,\n",
      "        scales=(1, 0.875, 0.75, 0.66),\n",
      "        random_crop=False,\n",
      "        max_wh_scale_gap=1,\n",
      "        num_fixed_crops=13),\n",
      "    dict(type='Resize', scale=(224, 224), keep_ratio=False),\n",
      "    dict(type='Flip', flip_ratio=0.5),\n",
      "    dict(\n",
      "        type='Normalize',\n",
      "        mean=[123.675, 116.28, 103.53],\n",
      "        std=[58.395, 57.12, 57.375],\n",
      "        to_bgr=False),\n",
      "    dict(type='FormatShape', input_format='NCHW'),\n",
      "    dict(type='Collect', keys=['imgs', 'label'], meta_keys=[]),\n",
      "    dict(type='ToTensor', keys=['imgs', 'label'])\n",
      "]\n",
      "val_pipeline = [\n",
      "    dict(type='DecordInit'),\n",
      "    dict(\n",
      "        type='SampleFrames',\n",
      "        clip_len=1,\n",
      "        frame_interval=1,\n",
      "        num_clips=8,\n",
      "        test_mode=True),\n",
      "    dict(type='DecordDecode'),\n",
      "    dict(type='Resize', scale=(-1, 256)),\n",
      "    dict(type='CenterCrop', crop_size=224),\n",
      "    dict(type='Flip', flip_ratio=0),\n",
      "    dict(\n",
      "        type='Normalize',\n",
      "        mean=[123.675, 116.28, 103.53],\n",
      "        std=[58.395, 57.12, 57.375],\n",
      "        to_bgr=False),\n",
      "    dict(type='FormatShape', input_format='NCHW'),\n",
      "    dict(type='Collect', keys=['imgs', 'label'], meta_keys=[]),\n",
      "    dict(type='ToTensor', keys=['imgs'])\n",
      "]\n",
      "test_pipeline = [\n",
      "    dict(type='DecordInit'),\n",
      "    dict(\n",
      "        type='SampleFrames',\n",
      "        clip_len=1,\n",
      "        frame_interval=1,\n",
      "        num_clips=8,\n",
      "        test_mode=True),\n",
      "    dict(type='DecordDecode'),\n",
      "    dict(type='Resize', scale=(-1, 256)),\n",
      "    dict(type='CenterCrop', crop_size=224),\n",
      "    dict(type='Flip', flip_ratio=0),\n",
      "    dict(\n",
      "        type='Normalize',\n",
      "        mean=[123.675, 116.28, 103.53],\n",
      "        std=[58.395, 57.12, 57.375],\n",
      "        to_bgr=False),\n",
      "    dict(type='FormatShape', input_format='NCHW'),\n",
      "    dict(type='Collect', keys=['imgs', 'label'], meta_keys=[]),\n",
      "    dict(type='ToTensor', keys=['imgs'])\n",
      "]\n",
      "data = dict(\n",
      "    videos_per_gpu=24,\n",
      "    workers_per_gpu=4,\n",
      "    train=dict(\n",
      "        type='VideoDataset',\n",
      "        ann_file='data/childact_split/childact_train_video.txt',\n",
      "        data_prefix='data/childact_split/train/',\n",
      "        pipeline=[\n",
      "            dict(type='DecordInit'),\n",
      "            dict(\n",
      "                type='SampleFrames', clip_len=1, frame_interval=1,\n",
      "                num_clips=8),\n",
      "            dict(type='DecordDecode'),\n",
      "            dict(type='Resize', scale=(-1, 256)),\n",
      "            dict(\n",
      "                type='MultiScaleCrop',\n",
      "                input_size=224,\n",
      "                scales=(1, 0.875, 0.75, 0.66),\n",
      "                random_crop=False,\n",
      "                max_wh_scale_gap=1,\n",
      "                num_fixed_crops=13),\n",
      "            dict(type='Resize', scale=(224, 224), keep_ratio=False),\n",
      "            dict(type='Flip', flip_ratio=0.5),\n",
      "            dict(\n",
      "                type='Normalize',\n",
      "                mean=[123.675, 116.28, 103.53],\n",
      "                std=[58.395, 57.12, 57.375],\n",
      "                to_bgr=False),\n",
      "            dict(type='FormatShape', input_format='NCHW'),\n",
      "            dict(type='Collect', keys=['imgs', 'label'], meta_keys=[]),\n",
      "            dict(type='ToTensor', keys=['imgs', 'label'])\n",
      "        ]),\n",
      "    val=dict(\n",
      "        type='VideoDataset',\n",
      "        ann_file='data/childact_split/childact_val_video.txt',\n",
      "        data_prefix='data/childact_split/val/',\n",
      "        pipeline=[\n",
      "            dict(type='DecordInit'),\n",
      "            dict(\n",
      "                type='SampleFrames',\n",
      "                clip_len=1,\n",
      "                frame_interval=1,\n",
      "                num_clips=8,\n",
      "                test_mode=True),\n",
      "            dict(type='DecordDecode'),\n",
      "            dict(type='Resize', scale=(-1, 256)),\n",
      "            dict(type='CenterCrop', crop_size=224),\n",
      "            dict(type='Flip', flip_ratio=0),\n",
      "            dict(\n",
      "                type='Normalize',\n",
      "                mean=[123.675, 116.28, 103.53],\n",
      "                std=[58.395, 57.12, 57.375],\n",
      "                to_bgr=False),\n",
      "            dict(type='FormatShape', input_format='NCHW'),\n",
      "            dict(type='Collect', keys=['imgs', 'label'], meta_keys=[]),\n",
      "            dict(type='ToTensor', keys=['imgs'])\n",
      "        ]),\n",
      "    test=dict(\n",
      "        type='VideoDataset',\n",
      "        ann_file='data/childact_split/childact_test_video.txt',\n",
      "        data_prefix='data/childact_split/test/',\n",
      "        pipeline=[\n",
      "            dict(type='DecordInit'),\n",
      "            dict(\n",
      "                type='SampleFrames',\n",
      "                clip_len=1,\n",
      "                frame_interval=1,\n",
      "                num_clips=8,\n",
      "                test_mode=True),\n",
      "            dict(type='DecordDecode'),\n",
      "            dict(type='Resize', scale=(-1, 256)),\n",
      "            dict(type='CenterCrop', crop_size=224),\n",
      "            dict(type='Flip', flip_ratio=0),\n",
      "            dict(\n",
      "                type='Normalize',\n",
      "                mean=[123.675, 116.28, 103.53],\n",
      "                std=[58.395, 57.12, 57.375],\n",
      "                to_bgr=False),\n",
      "            dict(type='FormatShape', input_format='NCHW'),\n",
      "            dict(type='Collect', keys=['imgs', 'label'], meta_keys=[]),\n",
      "            dict(type='ToTensor', keys=['imgs'])\n",
      "        ]))\n",
      "evaluation = dict(\n",
      "    interval=5, metrics=['top_k_accuracy', 'mean_class_accuracy'])\n",
      "work_dir = './childact-checkpoints/childact-tsm'\n",
      "omnisource = False\n",
      "seed = 42\n",
      "gpu_ids = range(0, 1)\n",
      "output_config = dict(out='./childact-checkpoints/childact-tsm/results.json')\n",
      "\n"
     ]
    }
   ],
   "source": [
    "from mmcv.runner import set_random_seed\n",
    "\n",
    "# Modify dataset type and path\n",
    "cfg.dataset_type = 'VideoDataset'\n",
    "cfg.data_root = 'data/childact_split/train/'\n",
    "cfg.data_root_val = 'data/childact_split/val/'\n",
    "cfg.ann_file_train = 'data/childact_split/childact_train_video.txt'\n",
    "cfg.ann_file_val = 'data/childact_split/childact_val_video.txt'\n",
    "cfg.ann_file_test = 'data/childact_split/childact_test_video.txt'\n",
    "\n",
    "cfg.data.test.type = 'VideoDataset'\n",
    "cfg.data.test.ann_file = 'data/childact_split/childact_test_video.txt'\n",
    "cfg.data.test.data_prefix = 'data/childact_split/test/'\n",
    "\n",
    "cfg.data.train.type = 'VideoDataset'\n",
    "cfg.data.train.ann_file = 'data/childact_split/childact_train_video.txt'\n",
    "cfg.data.train.data_prefix = 'data/childact_split/train/'\n",
    "\n",
    "cfg.data.val.type = 'VideoDataset'\n",
    "cfg.data.val.ann_file = 'data/childact_split/childact_val_video.txt'\n",
    "cfg.data.val.data_prefix = 'data/childact_split/val/'\n",
    "\n",
    "# The flag is used to determine whether it is omnisource training\n",
    "cfg.setdefault('omnisource', False)\n",
    "# Modify num classes of the model in cls_head\n",
    "cfg.model.cls_head.num_classes = 7\n",
    "# We can use the pre-trained TSN model\n",
    "cfg.load_from = 'checkpoints/tsm_r50_video_1x1x8_100e_kinetics400_rgb_20200702-a77f4328.pth'\n",
    "# cfg.resume_from = './childact-mm/latest.pth'\n",
    "\n",
    "# Set up working dir to save files and logs.\n",
    "cfg.work_dir = './childact-checkpoints/childact-tsm'\n",
    "\n",
    "# The original learning rate (LR) is set for 8-GPU training.\n",
    "# We divide it by 8 since we only use one GPU.\n",
    "cfg.data.videos_per_gpu = 24\n",
    "# cfg.optimizer.type = 'Adam'\n",
    "# cfg.optimizer.weight_decay=0.0001\n",
    "\n",
    "# cfg.optimizer_config.grad_clip=None\n",
    "# cfg.optimizer.lr = 0.01\n",
    "\n",
    "cfg.lr_config = dict(\n",
    "    policy='cyclic',\n",
    "    target_ratio=(10, 1e-4),\n",
    "    cyclic_times=1,\n",
    "    step_ratio_up=0.4,\n",
    ")\n",
    "\n",
    "cfg.total_epochs = 51\n",
    "\n",
    "cfg.momentum_config = dict(\n",
    "    policy='cyclic',\n",
    "    target_ratio=(0.85 / 0.95, 1),\n",
    "    cyclic_times=1,\n",
    "    step_ratio_up=0.4,\n",
    ")\n",
    "\n",
    "# We can set the checkpoint saving interval to reduce the storage cost\n",
    "cfg.checkpoint_config.interval = 4\n",
    "# We can set the log print interval to reduce the the times of printing log\n",
    "cfg.log_config.interval = 25\n",
    "\n",
    "# Set seed thus the results are more reproducible\n",
    "cfg.seed = 42\n",
    "set_random_seed(42, deterministic=False)\n",
    "cfg.gpu_ids = range(1)\n",
    "\n",
    "cfg.output_config = dict(out=f'{cfg.work_dir}/results.json')\n",
    "# We can initialize the logger for training and have a look\n",
    "# at the final config used for training\n",
    "del cfg.optimizer['momentum']\n",
    "print(f'Config:\\n{cfg.pretty_text}')\n"
   ]
  },
  {
   "cell_type": "code",
   "execution_count": 11,
   "metadata": {
    "colab": {
     "base_uri": "https://localhost:8080/"
    },
    "collapsed": true,
    "id": "dDBWkdDRk6oz",
    "jupyter": {
     "outputs_hidden": true
    },
    "outputId": "85a52ef3-7b5c-4c52-8fef-00322a8c65e6",
    "tags": []
   },
   "outputs": [
    {
     "name": "stderr",
     "output_type": "stream",
     "text": [
      "2021-03-24 21:03:31,550 - mmaction - INFO - These parameters in pretrained checkpoint are not loaded: {'fc.weight', 'fc.bias'}\n"
     ]
    },
    {
     "name": "stdout",
     "output_type": "stream",
     "text": [
      "Use load_from_torchvision loader\n"
     ]
    },
    {
     "name": "stderr",
     "output_type": "stream",
     "text": [
      "2021-03-24 21:03:33,980 - mmaction - INFO - load checkpoint from checkpoints/tsm_r50_video_1x1x8_100e_kinetics400_rgb_20200702-a77f4328.pth\n",
      "2021-03-24 21:03:33,982 - mmaction - INFO - Use load_from_local loader\n",
      "2021-03-24 21:03:34,081 - mmaction - WARNING - The model and loaded state dict do not match exactly\n",
      "\n",
      "size mismatch for cls_head.fc_cls.weight: copying a param with shape torch.Size([400, 2048]) from checkpoint, the shape in current model is torch.Size([7, 2048]).\n",
      "size mismatch for cls_head.fc_cls.bias: copying a param with shape torch.Size([400]) from checkpoint, the shape in current model is torch.Size([7]).\n",
      "2021-03-24 21:03:34,086 - mmaction - INFO - Start running, host: actrec@actrec-HP-Z4-G4-Workstation, work_dir: /home/actrec/.virtualenvs/mmaction/mmaction2/childact-checkpoints/childact-tsm\n",
      "2021-03-24 21:03:34,087 - mmaction - INFO - workflow: [('train', 1)], max: 51 epochs\n",
      "/home/actrec/.virtualenvs/mmaction/mmaction2/mmaction/core/evaluation/eval_hooks.py:131: UserWarning: runner.meta is None. Creating a empty one.\n",
      "  warnings.warn('runner.meta is None. Creating a empty one.')\n",
      "2021-03-24 21:06:25,694 - mmaction - INFO - Epoch [1][25/44]\tlr: 2.032e-02, eta: 4:13:51, time: 6.864, data_time: 5.883, memory: 20204, top1_acc: 0.4633, top5_acc: 0.9567, loss_cls: 1.3184, loss: 1.3184, grad_norm: 3.1978\n",
      "2021-03-24 21:11:00,838 - mmaction - INFO - Epoch [2][25/44]\tlr: 2.254e-02, eta: 3:01:16, time: 6.938, data_time: 5.963, memory: 20204, top1_acc: 0.7883, top5_acc: 0.9983, loss_cls: 0.5617, loss: 0.5617, grad_norm: 4.1688\n",
      "2021-03-24 21:15:26,642 - mmaction - INFO - Epoch [3][25/44]\tlr: 2.684e-02, eta: 2:42:07, time: 6.832, data_time: 5.857, memory: 20204, top1_acc: 0.8417, top5_acc: 1.0000, loss_cls: 0.4150, loss: 0.4150, grad_norm: 4.0095\n",
      "2021-03-24 21:19:46,715 - mmaction - INFO - Epoch [4][25/44]\tlr: 3.310e-02, eta: 2:30:22, time: 6.516, data_time: 5.540, memory: 20204, top1_acc: 0.8383, top5_acc: 0.9967, loss_cls: 0.4149, loss: 0.4149, grad_norm: 4.5450\n",
      "2021-03-24 21:21:35,996 - mmaction - INFO - Saving checkpoint at 4 epochs\n",
      "2021-03-24 21:24:21,918 - mmaction - INFO - Epoch [5][25/44]\tlr: 4.119e-02, eta: 2:23:03, time: 6.630, data_time: 5.657, memory: 20204, top1_acc: 0.8517, top5_acc: 0.9983, loss_cls: 0.3703, loss: 0.3703, grad_norm: 4.2365\n"
     ]
    },
    {
     "name": "stdout",
     "output_type": "stream",
     "text": [
      "[>>>>>>>>>>>>>>>>>>>>>>>>>>>>>>] 126/126, 2.6 task/s, elapsed: 48s, ETA:     0s"
     ]
    },
    {
     "name": "stderr",
     "output_type": "stream",
     "text": [
      "2021-03-24 21:26:56,186 - mmaction - INFO - Evaluating top_k_accuracy ...\n",
      "2021-03-24 21:26:56,188 - mmaction - INFO - \n",
      "top1_acc\t0.8016\n",
      "top5_acc\t1.0000\n",
      "2021-03-24 21:26:56,188 - mmaction - INFO - Evaluating mean_class_accuracy ...\n",
      "2021-03-24 21:26:56,190 - mmaction - INFO - \n",
      "mean_acc\t0.8016\n",
      "2021-03-24 21:26:56,341 - mmaction - INFO - Now best checkpoint is saved as best_top1_acc_epoch_5.pth.\n",
      "2021-03-24 21:26:56,342 - mmaction - INFO - Best top1_acc is 0.8016 at 5 epoch.\n",
      "2021-03-24 21:26:56,343 - mmaction - INFO - Epoch(val) [5][44]\ttop1_acc: 0.8016, top5_acc: 1.0000, mean_class_accuracy: 0.8016\n",
      "2021-03-24 21:29:50,484 - mmaction - INFO - Epoch [6][25/44]\tlr: 5.091e-02, eta: 2:18:31, time: 6.965, data_time: 5.991, memory: 20204, top1_acc: 0.8633, top5_acc: 0.9983, loss_cls: 0.3578, loss: 0.3578, grad_norm: 4.3697\n",
      "2021-03-24 21:34:28,680 - mmaction - INFO - Epoch [7][25/44]\tlr: 6.203e-02, eta: 2:15:02, time: 7.168, data_time: 6.192, memory: 20204, top1_acc: 0.8700, top5_acc: 0.9983, loss_cls: 0.3594, loss: 0.3594, grad_norm: 3.4862\n",
      "2021-03-24 21:38:51,003 - mmaction - INFO - Epoch [8][25/44]\tlr: 7.429e-02, eta: 2:10:30, time: 6.668, data_time: 5.691, memory: 20204, top1_acc: 0.8433, top5_acc: 0.9983, loss_cls: 0.4086, loss: 0.4086, grad_norm: 3.8250\n",
      "2021-03-24 21:40:36,587 - mmaction - INFO - Saving checkpoint at 8 epochs\n",
      "2021-03-24 21:43:27,767 - mmaction - INFO - Epoch [9][25/44]\tlr: 8.739e-02, eta: 2:06:44, time: 6.841, data_time: 5.864, memory: 20204, top1_acc: 0.8467, top5_acc: 0.9983, loss_cls: 0.3808, loss: 0.3808, grad_norm: 3.2192\n",
      "2021-03-24 21:47:55,665 - mmaction - INFO - Epoch [10][25/44]\tlr: 1.010e-01, eta: 2:03:01, time: 6.763, data_time: 5.787, memory: 20204, top1_acc: 0.8433, top5_acc: 1.0000, loss_cls: 0.3620, loss: 0.3620, grad_norm: 3.3093\n"
     ]
    },
    {
     "name": "stdout",
     "output_type": "stream",
     "text": [
      "[>>>>>>>>>>>>>>>>>>>>>>>>>>>>>>] 126/126, 2.6 task/s, elapsed: 48s, ETA:     0s"
     ]
    },
    {
     "name": "stderr",
     "output_type": "stream",
     "text": [
      "2021-03-24 21:50:22,735 - mmaction - INFO - Evaluating top_k_accuracy ...\n",
      "2021-03-24 21:50:22,737 - mmaction - INFO - \n",
      "top1_acc\t0.8492\n",
      "top5_acc\t1.0000\n",
      "2021-03-24 21:50:22,737 - mmaction - INFO - Evaluating mean_class_accuracy ...\n",
      "2021-03-24 21:50:22,739 - mmaction - INFO - \n",
      "mean_acc\t0.8492\n",
      "2021-03-24 21:50:22,912 - mmaction - INFO - Now best checkpoint is saved as best_top1_acc_epoch_10.pth.\n",
      "2021-03-24 21:50:22,912 - mmaction - INFO - Best top1_acc is 0.8492 at 10 epoch.\n",
      "2021-03-24 21:50:22,913 - mmaction - INFO - Epoch(val) [10][44]\ttop1_acc: 0.8492, top5_acc: 1.0000, mean_class_accuracy: 0.8492\n",
      "2021-03-24 21:53:16,024 - mmaction - INFO - Epoch [11][25/44]\tlr: 1.149e-01, eta: 1:59:43, time: 6.924, data_time: 5.948, memory: 20204, top1_acc: 0.8817, top5_acc: 1.0000, loss_cls: 0.3227, loss: 0.3227, grad_norm: 2.9154\n",
      "2021-03-24 21:57:42,847 - mmaction - INFO - Epoch [12][25/44]\tlr: 1.286e-01, eta: 1:56:20, time: 6.806, data_time: 5.830, memory: 20204, top1_acc: 0.8550, top5_acc: 0.9983, loss_cls: 0.3954, loss: 0.3954, grad_norm: 3.6179\n",
      "2021-03-24 21:59:27,183 - mmaction - INFO - Saving checkpoint at 12 epochs\n",
      "2021-03-24 22:02:22,179 - mmaction - INFO - Epoch [13][25/44]\tlr: 1.419e-01, eta: 1:53:16, time: 6.994, data_time: 6.020, memory: 20204, top1_acc: 0.8467, top5_acc: 0.9967, loss_cls: 0.4247, loss: 0.4247, grad_norm: 2.8231\n",
      "2021-03-24 22:06:52,903 - mmaction - INFO - Epoch [14][25/44]\tlr: 1.545e-01, eta: 1:50:05, time: 6.867, data_time: 5.891, memory: 20204, top1_acc: 0.8617, top5_acc: 1.0000, loss_cls: 0.3434, loss: 0.3434, grad_norm: 2.8790\n",
      "2021-03-24 22:11:20,068 - mmaction - INFO - Epoch [15][25/44]\tlr: 1.659e-01, eta: 1:46:49, time: 6.736, data_time: 5.761, memory: 20204, top1_acc: 0.8483, top5_acc: 1.0000, loss_cls: 0.3807, loss: 0.3807, grad_norm: 3.1518\n"
     ]
    },
    {
     "name": "stdout",
     "output_type": "stream",
     "text": [
      "[>>>>>>>>>>>>>>>>>>>>>>>>>>>>>>] 126/126, 2.6 task/s, elapsed: 48s, ETA:     0s"
     ]
    },
    {
     "name": "stderr",
     "output_type": "stream",
     "text": [
      "2021-03-24 22:13:51,448 - mmaction - INFO - Evaluating top_k_accuracy ...\n",
      "2021-03-24 22:13:51,450 - mmaction - INFO - \n",
      "top1_acc\t0.8254\n",
      "top5_acc\t1.0000\n",
      "2021-03-24 22:13:51,451 - mmaction - INFO - Evaluating mean_class_accuracy ...\n",
      "2021-03-24 22:13:51,452 - mmaction - INFO - \n",
      "mean_acc\t0.8254\n",
      "2021-03-24 22:13:51,453 - mmaction - INFO - Epoch(val) [15][44]\ttop1_acc: 0.8254, top5_acc: 1.0000, mean_class_accuracy: 0.8254\n",
      "2021-03-24 22:16:43,943 - mmaction - INFO - Epoch [16][25/44]\tlr: 1.761e-01, eta: 1:43:45, time: 6.899, data_time: 5.905, memory: 20204, top1_acc: 0.8417, top5_acc: 1.0000, loss_cls: 0.3540, loss: 0.3540, grad_norm: 2.6687\n",
      "2021-03-24 22:18:21,773 - mmaction - INFO - Saving checkpoint at 16 epochs\n",
      "2021-03-24 22:21:12,732 - mmaction - INFO - Epoch [17][25/44]\tlr: 1.847e-01, eta: 1:40:39, time: 6.831, data_time: 5.806, memory: 20204, top1_acc: 0.8600, top5_acc: 1.0000, loss_cls: 0.3870, loss: 0.3870, grad_norm: 3.2032\n",
      "2021-03-24 22:25:49,296 - mmaction - INFO - Epoch [18][25/44]\tlr: 1.915e-01, eta: 1:37:45, time: 7.039, data_time: 6.065, memory: 20204, top1_acc: 0.8467, top5_acc: 1.0000, loss_cls: 0.3955, loss: 0.3955, grad_norm: 2.7949\n",
      "2021-03-24 22:30:21,211 - mmaction - INFO - Epoch [19][25/44]\tlr: 1.964e-01, eta: 1:34:43, time: 6.867, data_time: 5.877, memory: 20204, top1_acc: 0.8483, top5_acc: 0.9967, loss_cls: 0.4092, loss: 0.4092, grad_norm: 2.6388\n",
      "2021-03-24 22:34:51,821 - mmaction - INFO - Epoch [20][25/44]\tlr: 1.992e-01, eta: 1:31:41, time: 6.859, data_time: 5.879, memory: 20204, top1_acc: 0.8667, top5_acc: 1.0000, loss_cls: 0.3351, loss: 0.3351, grad_norm: 2.3010\n",
      "2021-03-24 22:36:29,026 - mmaction - INFO - Saving checkpoint at 20 epochs\n"
     ]
    },
    {
     "name": "stdout",
     "output_type": "stream",
     "text": [
      "[>>>>>>>>>>>>>>>>>>>>>>>>>>>>>>] 126/126, 2.6 task/s, elapsed: 48s, ETA:     0s"
     ]
    },
    {
     "name": "stderr",
     "output_type": "stream",
     "text": [
      "2021-03-24 22:37:17,321 - mmaction - INFO - Evaluating top_k_accuracy ...\n",
      "2021-03-24 22:37:17,323 - mmaction - INFO - \n",
      "top1_acc\t0.8254\n",
      "top5_acc\t1.0000\n",
      "2021-03-24 22:37:17,323 - mmaction - INFO - Evaluating mean_class_accuracy ...\n",
      "2021-03-24 22:37:17,325 - mmaction - INFO - \n",
      "mean_acc\t0.8254\n",
      "2021-03-24 22:37:17,326 - mmaction - INFO - Epoch(val) [20][44]\ttop1_acc: 0.8254, top5_acc: 1.0000, mean_class_accuracy: 0.8254\n",
      "2021-03-24 22:40:03,624 - mmaction - INFO - Epoch [21][25/44]\tlr: 2.000e-01, eta: 1:28:33, time: 6.652, data_time: 5.674, memory: 20204, top1_acc: 0.8833, top5_acc: 1.0000, loss_cls: 0.2851, loss: 0.2851, grad_norm: 1.9111\n",
      "2021-03-24 22:44:38,747 - mmaction - INFO - Epoch [22][25/44]\tlr: 1.993e-01, eta: 1:25:35, time: 6.870, data_time: 5.893, memory: 20204, top1_acc: 0.8867, top5_acc: 1.0000, loss_cls: 0.2601, loss: 0.2601, grad_norm: 2.1638\n",
      "2021-03-24 22:49:22,392 - mmaction - INFO - Epoch [23][25/44]\tlr: 1.976e-01, eta: 1:22:50, time: 7.289, data_time: 6.287, memory: 20204, top1_acc: 0.8250, top5_acc: 1.0000, loss_cls: 0.5038, loss: 0.5038, grad_norm: 3.5063\n",
      "2021-03-24 22:53:49,042 - mmaction - INFO - Epoch [24][25/44]\tlr: 1.948e-01, eta: 1:19:52, time: 6.871, data_time: 5.877, memory: 20204, top1_acc: 0.8867, top5_acc: 0.9983, loss_cls: 0.2872, loss: 0.2872, grad_norm: 2.0569\n",
      "2021-03-24 22:55:28,710 - mmaction - INFO - Saving checkpoint at 24 epochs\n",
      "2021-03-24 22:58:30,402 - mmaction - INFO - Epoch [25][25/44]\tlr: 1.910e-01, eta: 1:17:04, time: 7.261, data_time: 6.271, memory: 20204, top1_acc: 0.8983, top5_acc: 1.0000, loss_cls: 0.2459, loss: 0.2459, grad_norm: 2.1627\n"
     ]
    },
    {
     "name": "stdout",
     "output_type": "stream",
     "text": [
      "[>>>>>>>>>>>>>>>>>>>>>>>>>>>>>>] 126/126, 2.6 task/s, elapsed: 48s, ETA:     0s"
     ]
    },
    {
     "name": "stderr",
     "output_type": "stream",
     "text": [
      "2021-03-24 23:00:59,644 - mmaction - INFO - Evaluating top_k_accuracy ...\n",
      "2021-03-24 23:00:59,647 - mmaction - INFO - \n",
      "top1_acc\t0.8175\n",
      "top5_acc\t1.0000\n",
      "2021-03-24 23:00:59,648 - mmaction - INFO - Evaluating mean_class_accuracy ...\n",
      "2021-03-24 23:00:59,651 - mmaction - INFO - \n",
      "mean_acc\t0.8175\n",
      "2021-03-24 23:00:59,652 - mmaction - INFO - Epoch(val) [25][44]\ttop1_acc: 0.8175, top5_acc: 1.0000, mean_class_accuracy: 0.8175\n",
      "2021-03-24 23:03:51,401 - mmaction - INFO - Epoch [26][25/44]\tlr: 1.863e-01, eta: 1:14:06, time: 6.870, data_time: 5.887, memory: 20204, top1_acc: 0.8933, top5_acc: 1.0000, loss_cls: 0.2764, loss: 0.2764, grad_norm: 2.1380\n",
      "2021-03-24 23:08:27,656 - mmaction - INFO - Epoch [27][25/44]\tlr: 1.807e-01, eta: 1:11:07, time: 6.820, data_time: 5.837, memory: 20204, top1_acc: 0.8933, top5_acc: 0.9983, loss_cls: 0.2690, loss: 0.2690, grad_norm: 2.0275\n",
      "2021-03-24 23:12:53,090 - mmaction - INFO - Epoch [28][25/44]\tlr: 1.742e-01, eta: 1:08:04, time: 6.593, data_time: 5.600, memory: 20204, top1_acc: 0.9167, top5_acc: 1.0000, loss_cls: 0.2153, loss: 0.2153, grad_norm: 1.7606\n",
      "2021-03-24 23:14:46,727 - mmaction - INFO - Saving checkpoint at 28 epochs\n",
      "2021-03-24 23:17:38,587 - mmaction - INFO - Epoch [29][25/44]\tlr: 1.669e-01, eta: 1:05:08, time: 6.868, data_time: 5.887, memory: 20204, top1_acc: 0.8950, top5_acc: 1.0000, loss_cls: 0.2431, loss: 0.2431, grad_norm: 1.8443\n",
      "2021-03-24 23:22:12,771 - mmaction - INFO - Epoch [30][25/44]\tlr: 1.590e-01, eta: 1:02:12, time: 6.900, data_time: 5.912, memory: 20204, top1_acc: 0.9117, top5_acc: 1.0000, loss_cls: 0.2420, loss: 0.2420, grad_norm: 2.0150\n"
     ]
    },
    {
     "name": "stdout",
     "output_type": "stream",
     "text": [
      "[>>>>>>>>>>>>>>>>>>>>>>>>>>>>>>] 126/126, 2.6 task/s, elapsed: 49s, ETA:     0s"
     ]
    },
    {
     "name": "stderr",
     "output_type": "stream",
     "text": [
      "2021-03-24 23:24:46,975 - mmaction - INFO - Evaluating top_k_accuracy ...\n",
      "2021-03-24 23:24:46,977 - mmaction - INFO - \n",
      "top1_acc\t0.8730\n",
      "top5_acc\t1.0000\n",
      "2021-03-24 23:24:46,977 - mmaction - INFO - Evaluating mean_class_accuracy ...\n",
      "2021-03-24 23:24:46,979 - mmaction - INFO - \n",
      "mean_acc\t0.8730\n",
      "2021-03-24 23:24:47,130 - mmaction - INFO - Now best checkpoint is saved as best_top1_acc_epoch_30.pth.\n",
      "2021-03-24 23:24:47,131 - mmaction - INFO - Best top1_acc is 0.8730 at 30 epoch.\n",
      "2021-03-24 23:24:47,132 - mmaction - INFO - Epoch(val) [30][44]\ttop1_acc: 0.8730, top5_acc: 1.0000, mean_class_accuracy: 0.8730\n",
      "2021-03-24 23:27:36,817 - mmaction - INFO - Epoch [31][25/44]\tlr: 1.504e-01, eta: 0:59:15, time: 6.787, data_time: 5.808, memory: 20204, top1_acc: 0.9150, top5_acc: 0.9983, loss_cls: 0.2196, loss: 0.2196, grad_norm: 1.8701\n",
      "2021-03-24 23:32:14,860 - mmaction - INFO - Epoch [32][25/44]\tlr: 1.413e-01, eta: 0:56:22, time: 7.025, data_time: 6.044, memory: 20204, top1_acc: 0.9217, top5_acc: 1.0000, loss_cls: 0.1901, loss: 0.1901, grad_norm: 1.7479\n",
      "2021-03-24 23:33:52,908 - mmaction - INFO - Saving checkpoint at 32 epochs\n",
      "2021-03-24 23:36:38,792 - mmaction - INFO - Epoch [33][25/44]\tlr: 1.317e-01, eta: 0:53:23, time: 6.629, data_time: 5.654, memory: 20204, top1_acc: 0.9033, top5_acc: 0.9983, loss_cls: 0.2275, loss: 0.2275, grad_norm: 1.9888\n",
      "2021-03-24 23:41:10,659 - mmaction - INFO - Epoch [34][25/44]\tlr: 1.219e-01, eta: 0:50:26, time: 6.672, data_time: 5.694, memory: 20204, top1_acc: 0.9117, top5_acc: 1.0000, loss_cls: 0.2229, loss: 0.2229, grad_norm: 1.9745\n",
      "2021-03-24 23:45:50,226 - mmaction - INFO - Epoch [35][25/44]\tlr: 1.118e-01, eta: 0:47:31, time: 6.810, data_time: 5.810, memory: 20204, top1_acc: 0.9350, top5_acc: 1.0000, loss_cls: 0.1698, loss: 0.1698, grad_norm: 1.7408\n"
     ]
    },
    {
     "name": "stdout",
     "output_type": "stream",
     "text": [
      "[>>>>>>>>>>>>>>>>>>>>>>>>>>>>>>] 126/126, 2.6 task/s, elapsed: 49s, ETA:     0s"
     ]
    },
    {
     "name": "stderr",
     "output_type": "stream",
     "text": [
      "2021-03-24 23:48:22,662 - mmaction - INFO - Evaluating top_k_accuracy ...\n",
      "2021-03-24 23:48:22,664 - mmaction - INFO - \n",
      "top1_acc\t0.8254\n",
      "top5_acc\t1.0000\n",
      "2021-03-24 23:48:22,665 - mmaction - INFO - Evaluating mean_class_accuracy ...\n",
      "2021-03-24 23:48:22,667 - mmaction - INFO - \n",
      "mean_acc\t0.8254\n",
      "2021-03-24 23:48:22,668 - mmaction - INFO - Epoch(val) [35][44]\ttop1_acc: 0.8254, top5_acc: 1.0000, mean_class_accuracy: 0.8254\n",
      "2021-03-24 23:51:14,376 - mmaction - INFO - Epoch [36][25/44]\tlr: 1.015e-01, eta: 0:44:36, time: 6.868, data_time: 5.877, memory: 20204, top1_acc: 0.9167, top5_acc: 1.0000, loss_cls: 0.1841, loss: 0.1841, grad_norm: 2.0693\n",
      "2021-03-24 23:52:51,813 - mmaction - INFO - Saving checkpoint at 36 epochs\n",
      "2021-03-24 23:55:40,270 - mmaction - INFO - Epoch [37][25/44]\tlr: 9.127e-02, eta: 0:41:41, time: 6.732, data_time: 5.754, memory: 20204, top1_acc: 0.9533, top5_acc: 1.0000, loss_cls: 0.1247, loss: 0.1247, grad_norm: 1.3474\n",
      "2021-03-25 00:00:14,754 - mmaction - INFO - Epoch [38][25/44]\tlr: 8.111e-02, eta: 0:38:47, time: 6.818, data_time: 5.801, memory: 20204, top1_acc: 0.9250, top5_acc: 1.0000, loss_cls: 0.1797, loss: 0.1797, grad_norm: 2.0569\n",
      "2021-03-25 00:04:50,878 - mmaction - INFO - Epoch [39][25/44]\tlr: 7.115e-02, eta: 0:35:52, time: 6.759, data_time: 5.761, memory: 20204, top1_acc: 0.9433, top5_acc: 1.0000, loss_cls: 0.1380, loss: 0.1380, grad_norm: 1.4081\n",
      "2021-03-25 00:09:30,047 - mmaction - INFO - Epoch [40][25/44]\tlr: 6.149e-02, eta: 0:32:59, time: 6.947, data_time: 5.930, memory: 20204, top1_acc: 0.9483, top5_acc: 1.0000, loss_cls: 0.1448, loss: 0.1448, grad_norm: 1.5499\n",
      "2021-03-25 00:11:11,701 - mmaction - INFO - Saving checkpoint at 40 epochs\n"
     ]
    },
    {
     "name": "stdout",
     "output_type": "stream",
     "text": [
      "[>>>>>>>>>>>>>>>>>>>>>>>>>>>>>>] 126/126, 2.6 task/s, elapsed: 48s, ETA:     0s"
     ]
    },
    {
     "name": "stderr",
     "output_type": "stream",
     "text": [
      "2021-03-25 00:11:59,894 - mmaction - INFO - Evaluating top_k_accuracy ...\n",
      "2021-03-25 00:11:59,896 - mmaction - INFO - \n",
      "top1_acc\t0.9206\n",
      "top5_acc\t1.0000\n",
      "2021-03-25 00:11:59,897 - mmaction - INFO - Evaluating mean_class_accuracy ...\n",
      "2021-03-25 00:11:59,898 - mmaction - INFO - \n",
      "mean_acc\t0.9206\n",
      "2021-03-25 00:12:00,066 - mmaction - INFO - Now best checkpoint is saved as best_top1_acc_epoch_40.pth.\n",
      "2021-03-25 00:12:00,067 - mmaction - INFO - Best top1_acc is 0.9206 at 40 epoch.\n",
      "2021-03-25 00:12:00,068 - mmaction - INFO - Epoch(val) [40][44]\ttop1_acc: 0.9206, top5_acc: 1.0000, mean_class_accuracy: 0.9206\n",
      "2021-03-25 00:15:02,371 - mmaction - INFO - Epoch [41][25/44]\tlr: 5.224e-02, eta: 0:30:08, time: 7.292, data_time: 6.300, memory: 20204, top1_acc: 0.9417, top5_acc: 1.0000, loss_cls: 0.1471, loss: 0.1471, grad_norm: 1.4060\n",
      "2021-03-25 00:19:40,726 - mmaction - INFO - Epoch [42][25/44]\tlr: 4.349e-02, eta: 0:27:16, time: 7.081, data_time: 6.099, memory: 20204, top1_acc: 0.9417, top5_acc: 0.9983, loss_cls: 0.1504, loss: 0.1504, grad_norm: 1.7364\n",
      "2021-03-25 00:24:19,106 - mmaction - INFO - Epoch [43][25/44]\tlr: 3.534e-02, eta: 0:24:23, time: 7.103, data_time: 6.101, memory: 20204, top1_acc: 0.9533, top5_acc: 0.9983, loss_cls: 0.1330, loss: 0.1330, grad_norm: 1.5412\n",
      "2021-03-25 00:29:08,938 - mmaction - INFO - Epoch [44][25/44]\tlr: 2.786e-02, eta: 0:21:32, time: 7.522, data_time: 6.529, memory: 20204, top1_acc: 0.9633, top5_acc: 1.0000, loss_cls: 0.1166, loss: 0.1166, grad_norm: 1.6169\n",
      "2021-03-25 00:31:25,146 - mmaction - INFO - Saving checkpoint at 44 epochs\n",
      "2021-03-25 00:35:51,517 - mmaction - INFO - Epoch [45][25/44]\tlr: 2.115e-02, eta: 0:18:51, time: 10.648, data_time: 9.640, memory: 20204, top1_acc: 0.9550, top5_acc: 1.0000, loss_cls: 0.1182, loss: 0.1182, grad_norm: 1.4543\n"
     ]
    },
    {
     "name": "stdout",
     "output_type": "stream",
     "text": [
      "[>>>>>>>>>>>>>>>>>>>>>>>>>>>>>>] 126/126, 2.6 task/s, elapsed: 49s, ETA:     0s"
     ]
    },
    {
     "name": "stderr",
     "output_type": "stream",
     "text": [
      "2021-03-25 00:39:22,798 - mmaction - INFO - Evaluating top_k_accuracy ...\n",
      "2021-03-25 00:39:22,800 - mmaction - INFO - \n",
      "top1_acc\t0.9048\n",
      "top5_acc\t1.0000\n",
      "2021-03-25 00:39:22,800 - mmaction - INFO - Evaluating mean_class_accuracy ...\n",
      "2021-03-25 00:39:22,802 - mmaction - INFO - \n",
      "mean_acc\t0.9048\n",
      "2021-03-25 00:39:22,803 - mmaction - INFO - Epoch(val) [45][44]\ttop1_acc: 0.9048, top5_acc: 1.0000, mean_class_accuracy: 0.9048\n",
      "2021-03-25 00:42:20,754 - mmaction - INFO - Epoch [46][25/44]\tlr: 1.526e-02, eta: 0:15:56, time: 7.118, data_time: 6.136, memory: 20204, top1_acc: 0.9550, top5_acc: 1.0000, loss_cls: 0.1165, loss: 0.1165, grad_norm: 1.5267\n",
      "2021-03-25 00:46:57,192 - mmaction - INFO - Epoch [47][25/44]\tlr: 1.027e-02, eta: 0:12:59, time: 7.019, data_time: 6.046, memory: 20204, top1_acc: 0.9633, top5_acc: 1.0000, loss_cls: 0.0944, loss: 0.0944, grad_norm: 1.2650\n",
      "2021-03-25 00:51:21,230 - mmaction - INFO - Epoch [48][25/44]\tlr: 6.220e-03, eta: 0:10:03, time: 6.794, data_time: 5.818, memory: 20204, top1_acc: 0.9600, top5_acc: 1.0000, loss_cls: 0.0976, loss: 0.0976, grad_norm: 1.2563\n",
      "2021-03-25 00:53:03,163 - mmaction - INFO - Saving checkpoint at 48 epochs\n",
      "2021-03-25 00:55:47,302 - mmaction - INFO - Epoch [49][25/44]\tlr: 3.158e-03, eta: 0:07:07, time: 6.559, data_time: 5.584, memory: 20204, top1_acc: 0.9550, top5_acc: 1.0000, loss_cls: 0.1207, loss: 0.1207, grad_norm: 1.5171\n",
      "2021-03-25 01:00:24,345 - mmaction - INFO - Epoch [50][25/44]\tlr: 1.114e-03, eta: 0:04:11, time: 6.680, data_time: 5.703, memory: 20204, top1_acc: 0.9500, top5_acc: 1.0000, loss_cls: 0.1192, loss: 0.1192, grad_norm: 1.5985\n"
     ]
    },
    {
     "name": "stdout",
     "output_type": "stream",
     "text": [
      "[>>>>>>>>>>>>>>>>>>>>>>>>>>>>>>] 126/126, 1.3 task/s, elapsed: 98s, ETA:     0s"
     ]
    },
    {
     "name": "stderr",
     "output_type": "stream",
     "text": [
      "2021-03-25 01:03:51,321 - mmaction - INFO - Evaluating top_k_accuracy ...\n",
      "2021-03-25 01:03:51,323 - mmaction - INFO - \n",
      "top1_acc\t0.9127\n",
      "top5_acc\t1.0000\n",
      "2021-03-25 01:03:51,324 - mmaction - INFO - Evaluating mean_class_accuracy ...\n",
      "2021-03-25 01:03:51,326 - mmaction - INFO - \n",
      "mean_acc\t0.9127\n",
      "2021-03-25 01:03:51,327 - mmaction - INFO - Epoch(val) [50][44]\ttop1_acc: 0.9127, top5_acc: 1.0000, mean_class_accuracy: 0.9127\n",
      "2021-03-25 01:06:43,848 - mmaction - INFO - Epoch [51][25/44]\tlr: 1.108e-04, eta: 0:01:15, time: 6.901, data_time: 5.915, memory: 20204, top1_acc: 0.9583, top5_acc: 1.0000, loss_cls: 0.0970, loss: 0.0970, grad_norm: 1.2868\n"
     ]
    }
   ],
   "source": [
    "import os.path as osp\n",
    "\n",
    "from mmaction.datasets import build_dataset\n",
    "from mmaction.models import build_model\n",
    "from mmaction.apis import train_model\n",
    "\n",
    "import mmcv\n",
    "\n",
    "# Build the dataset\n",
    "datasets = [build_dataset(cfg.data.train)]\n",
    "\n",
    "# Build the recognizer\n",
    "model = build_model(cfg.model, train_cfg=cfg.get('train_cfg'), test_cfg=cfg.get('test_cfg'))\n",
    "# model = build_model(cfg.model, train_cfg=cfg.get('train_cfg'), test_cfg=cfg.get('test_cfg'))\n",
    "# model = build_detector(cfg.model, train_cfg=cfg.get('train_cfg'), test_cfg=cfg.get('test_cfg'))\n",
    "# model = build_detector(cfg.model, train_cfg=cfg.train_cfg, test_cfg=cfg.test_cfg)\n",
    "\n",
    "# Create work_dir\n",
    "mmcv.mkdir_or_exist(osp.abspath(cfg.work_dir))\n",
    "train_model(model, datasets, cfg, distributed=False, validate=True)"
   ]
  },
  {
   "cell_type": "code",
   "execution_count": 16,
   "metadata": {},
   "outputs": [],
   "source": [
    "import pickle\n",
    "\n",
    "with open(f\"{cfg.work_dir}/model50e\", 'wb') as f:\n",
    "    pickle.dump(model, f)"
   ]
  },
  {
   "cell_type": "code",
   "execution_count": 17,
   "metadata": {
    "colab": {
     "base_uri": "https://localhost:8080/"
    },
    "id": "eyY3hCMwyTct",
    "outputId": "200e37c7-0da4-421f-98da-41418c3110ca",
    "tags": []
   },
   "outputs": [
    {
     "name": "stdout",
     "output_type": "stream",
     "text": [
      "[>>>>>>>>>>>>>>>>>>>>>>>>>>>>>] 126/126, 1.1 task/s, elapsed: 120s, ETA:     0s\n",
      "Evaluating top_k_accuracy ...\n",
      "\n",
      "top1_acc\t0.9365\n",
      "top5_acc\t1.0000\n",
      "\n",
      "Evaluating mean_class_accuracy ...\n",
      "\n",
      "mean_acc\t0.9365\n",
      "top1_acc: 0.9365\n",
      "top5_acc: 1.0000\n",
      "mean_class_accuracy: 0.9365\n"
     ]
    }
   ],
   "source": [
    "from mmaction.apis import single_gpu_test\n",
    "from mmaction.datasets import build_dataloader\n",
    "from mmcv.parallel import MMDataParallel\n",
    "from mmaction.models import build_model\n",
    "from mmaction.datasets import build_dataset\n",
    "\n",
    "# model = build_model(cfg.model, train_cfg=cfg.get('train_cfg'), test_cfg=cfg.get('test_cfg'))\n",
    "# Build a test dataloader\n",
    "dataset = build_dataset(cfg.data.test, dict(test_mode=True))\n",
    "data_loader = build_dataloader(\n",
    "        dataset,\n",
    "        videos_per_gpu=4,\n",
    "        workers_per_gpu=1,\n",
    "        dist=False,\n",
    "        shuffle=False)\n",
    "model = MMDataParallel(model, device_ids=[0])\n",
    "outputs = single_gpu_test(model, data_loader)\n",
    "\n",
    "eval_config = cfg.evaluation\n",
    "eval_config.pop('interval')\n",
    "eval_res = dataset.evaluate(outputs, **eval_config)\n",
    "for name, val in eval_res.items():\n",
    "    print(f'{name}: {val:.04f}')\n",
    "    \n",
    "output_config = cfg.output_config\n",
    "dataset.dump_results(outputs, **output_config)"
   ]
  },
  {
   "cell_type": "code",
   "execution_count": 19,
   "metadata": {
    "tags": []
   },
   "outputs": [
    {
     "data": {
      "text/plain": [
       "<AxesSubplot:>"
      ]
     },
     "execution_count": 19,
     "metadata": {},
     "output_type": "execute_result"
    },
    {
     "data": {
      "image/png": "[encoded data removed]",
      "text/plain": [
       "<Figure size 432x288 with 2 Axes>"
      ]
     },
     "metadata": {
      "needs_background": "light"
     },
     "output_type": "display_data"
    }
   ],
   "source": [
    "import seaborn as sns\n",
    "import numpy as np\n",
    "from mmaction.core import confusion_matrix \n",
    "\n",
    "gt_labels = [ann['label'] for ann in dataset.load_annotations()]\n",
    "pred = np.argmax(outputs, axis=1)\n",
    "cf_mat = confusion_matrix(pred, gt_labels).astype(float)\n",
    "\n",
    "sns.heatmap(cf_mat, annot=True, xticklabels = ['box', 'clap', 'go', 'jog', 'run', 'walk', 'wave'], yticklabels = ['box', 'clap', 'go', 'jog', 'run', 'walk', 'wave'] )"
   ]
  },
  {
   "cell_type": "markdown",
   "metadata": {
    "heading_collapsed": "true",
    "tags": []
   },
   "source": [
    "# CSN 97.62%"
   ]
  },
  {
   "cell_type": "code",
   "execution_count": 3,
   "metadata": {
    "colab": {
     "base_uri": "https://localhost:8080/"
    },
    "collapsed": true,
    "id": "64CW6d_AaT-Q",
    "jupyter": {
     "outputs_hidden": true
    },
    "outputId": "3b284fd8-4ee7-4a34-90d7-5023cd123a04",
    "tags": []
   },
   "outputs": [
    {
     "name": "stdout",
     "output_type": "stream",
     "text": [
      "--2021-03-28 21:54:04--  https://download.openmmlab.com/mmaction/recognition/csn/ircsn_ig65m_pretrained_bnfrozen_r152_32x2x1_58e_kinetics400_rgb/ircsn_ig65m_pretrained_bnfrozen_r152_32x2x1_58e_kinetics400_rgb_20200812-9037a758.pth\n",
      "Resolving download.openmmlab.com (download.openmmlab.com)... 47.254.186.225\n",
      "Connecting to download.openmmlab.com (download.openmmlab.com)|47.254.186.225|:443... connected.\n",
      "HTTP request sent, awaiting response... 200 OK\n",
      "Length: 119580180 (114M) [application/octet-stream]\n",
      "Saving to: ‘checkpoints/ircsn_ig65m_pretrained_bnfrozen_r152_32x2x1_58e_kinetics400_rgb_20200812-9037a758.pth’\n",
      "\n",
      "checkpoints/ircsn_i 100%[===================>] 114,04M  7,32MB/s    in 18s     \n",
      "\n",
      "2021-03-28 21:54:27 (6,46 MB/s) - ‘checkpoints/ircsn_ig65m_pretrained_bnfrozen_r152_32x2x1_58e_kinetics400_rgb_20200812-9037a758.pth’ saved [119580180/119580180]\n",
      "\n"
     ]
    }
   ],
   "source": [
    "# !mkdir checkpoints\n",
    "!wget -c https://download.openmmlab.com/mmaction/recognition/csn/ircsn_ig65m_pretrained_bnfrozen_r152_32x2x1_58e_kinetics400_rgb/ircsn_ig65m_pretrained_bnfrozen_r152_32x2x1_58e_kinetics400_rgb_20200812-9037a758.pth \\\n",
    "      -O checkpoints/ircsn_ig65m_pretrained_bnfrozen_r152_32x2x1_58e_kinetics400_rgb_20200812-9037a758.pth"
   ]
  },
  {
   "cell_type": "code",
   "execution_count": 100,
   "metadata": {
    "colab": {
     "base_uri": "https://localhost:8080/"
    },
    "collapsed": true,
    "id": "64CW6d_AaT-Q",
    "jupyter": {
     "outputs_hidden": true
    },
    "outputId": "3b284fd8-4ee7-4a34-90d7-5023cd123a04",
    "tags": []
   },
   "outputs": [
    {
     "name": "stdout",
     "output_type": "stream",
     "text": [
      "--2021-03-29 21:25:47--  https://download.openmmlab.com/mmaction/recognition/csn/ircsn_ig65m_pretrained_r152_32x2x1_58e_kinetics400_rgb/ircsn_ig65m_pretrained_r152_32x2x1_58e_kinetics400_rgb_20200803-fc66ce8d.pth\n",
      "Resolving download.openmmlab.com (download.openmmlab.com)... 47.254.186.225\n",
      "Connecting to download.openmmlab.com (download.openmmlab.com)|47.254.186.225|:443... connected.\n",
      "HTTP request sent, awaiting response... 200 OK\n",
      "Length: 119580092 (114M) [application/octet-stream]\n",
      "Saving to: ‘checkpoints/ircsn_ig65m_pretrained_r152_32x2x1_58e_kinetics400_rgb_20200803-fc66ce8d.pth’\n",
      "\n",
      "checkpoints/ircsn_i 100%[===================>] 114,04M  4,39MB/s    in 28s     \n",
      "\n",
      "2021-03-29 21:26:21 (4,13 MB/s) - ‘checkpoints/ircsn_ig65m_pretrained_r152_32x2x1_58e_kinetics400_rgb_20200803-fc66ce8d.pth’ saved [119580092/119580092]\n",
      "\n"
     ]
    }
   ],
   "source": [
    "# !mkdir checkpoints\n",
    "!wget -c https://download.openmmlab.com/mmaction/recognition/csn/ircsn_ig65m_pretrained_r152_32x2x1_58e_kinetics400_rgb/ircsn_ig65m_pretrained_r152_32x2x1_58e_kinetics400_rgb_20200803-fc66ce8d.pth \\\n",
    "      -O checkpoints/ircsn_ig65m_pretrained_r152_32x2x1_58e_kinetics400_rgb_20200803-fc66ce8d.pth"
   ]
  },
  {
   "cell_type": "code",
   "execution_count": 55,
   "metadata": {
    "id": "LjCcmCKOjktc",
    "tags": []
   },
   "outputs": [],
   "source": [
    "# from mmcv import Config\n",
    "# cfg = Config.fromfile('./configs/recognition/csn/ircsn_ig65m_pretrained_r152_32x2x1_58e_kinetics400_rgb.py')"
   ]
  },
  {
   "cell_type": "code",
   "execution_count": 2,
   "metadata": {
    "id": "LjCcmCKOjktc",
    "tags": []
   },
   "outputs": [],
   "source": [
    "from mmcv import Config\n",
    "cfg = Config.fromfile('./configs/recognition/csn/ircsn_ig65m_pretrained_bnfrozen_r152_32x2x1_58e_kinetics400_rgb.py')"
   ]
  },
  {
   "cell_type": "code",
   "execution_count": 3,
   "metadata": {
    "colab": {
     "base_uri": "https://localhost:8080/"
    },
    "id": "tlhu9byjjt-K",
    "outputId": "13d1bb01-f351-48c0-9efb-0bdf2c125d29",
    "tags": []
   },
   "outputs": [
    {
     "name": "stdout",
     "output_type": "stream",
     "text": [
      "Config:\n",
      "model = dict(\n",
      "    type='Recognizer3D',\n",
      "    backbone=dict(\n",
      "        type='ResNet3dCSN',\n",
      "        pretrained2d=False,\n",
      "        pretrained=\n",
      "        'https://download.openmmlab.com/mmaction/recognition/csn/ircsn_from_scratch_r152_ig65m_20200807-771c4135.pth',\n",
      "        depth=152,\n",
      "        with_pool2=False,\n",
      "        bottleneck_mode='ir',\n",
      "        norm_eval=True,\n",
      "        zero_init_residual=False,\n",
      "        bn_frozen=True,\n",
      "        in_channels=2),\n",
      "    cls_head=dict(\n",
      "        type='I3DHead',\n",
      "        num_classes=7,\n",
      "        in_channels=2048,\n",
      "        spatial_type='avg',\n",
      "        dropout_ratio=0.5,\n",
      "        init_std=0.01),\n",
      "    train_cfg=None,\n",
      "    test_cfg=dict(average_clips='prob'))\n",
      "dataset_type = 'RawframeDataset'\n",
      "data_root = 'data/childact_rawframe/train/'\n",
      "data_root_val = 'data/childact_rawframe/val/'\n",
      "ann_file_train = 'data/childact_rawframe/childact_train_rawframe.txt'\n",
      "ann_file_val = 'data/childact_rawframe/childact_val_rawframe.txt'\n",
      "ann_file_test = 'data/childact_rawframe/childact_test_rawframe.txt'\n",
      "img_norm_cfg = dict(mean=[128, 128], std=[128, 128])\n",
      "train_pipeline = [\n",
      "    dict(type='SampleFrames', clip_len=32, frame_interval=2, num_clips=1),\n",
      "    dict(type='RawFrameDecode'),\n",
      "    dict(type='Resize', scale=(-1, 256)),\n",
      "    dict(type='RandomResizedCrop'),\n",
      "    dict(type='Resize', scale=(224, 224), keep_ratio=False),\n",
      "    dict(type='Normalize', mean=[128, 128], std=[128, 128]),\n",
      "    dict(type='FormatShape', input_format='NCTHW'),\n",
      "    dict(type='Collect', keys=['imgs', 'label'], meta_keys=[]),\n",
      "    dict(type='ToTensor', keys=['imgs', 'label'])\n",
      "]\n",
      "val_pipeline = [\n",
      "    dict(\n",
      "        type='SampleFrames',\n",
      "        clip_len=32,\n",
      "        frame_interval=2,\n",
      "        num_clips=1,\n",
      "        test_mode=True),\n",
      "    dict(type='RawFrameDecode'),\n",
      "    dict(type='Resize', scale=(-1, 256)),\n",
      "    dict(type='CenterCrop', crop_size=224),\n",
      "    dict(type='Normalize', mean=[128, 128], std=[128, 128]),\n",
      "    dict(type='FormatShape', input_format='NCTHW'),\n",
      "    dict(type='Collect', keys=['imgs', 'label'], meta_keys=[]),\n",
      "    dict(type='ToTensor', keys=['imgs'])\n",
      "]\n",
      "test_pipeline = [\n",
      "    dict(\n",
      "        type='SampleFrames',\n",
      "        clip_len=32,\n",
      "        frame_interval=2,\n",
      "        num_clips=10,\n",
      "        test_mode=True),\n",
      "    dict(type='RawFrameDecode'),\n",
      "    dict(type='Resize', scale=(-1, 256)),\n",
      "    dict(type='CenterCrop', crop_size=224),\n",
      "    dict(type='Normalize', mean=[128, 128], std=[128, 128]),\n",
      "    dict(type='FormatShape', input_format='NCTHW'),\n",
      "    dict(type='Collect', keys=['imgs', 'label'], meta_keys=[]),\n",
      "    dict(type='ToTensor', keys=['imgs'])\n",
      "]\n",
      "data = dict(\n",
      "    videos_per_gpu=8,\n",
      "    workers_per_gpu=4,\n",
      "    train=dict(\n",
      "        type='RawframeDataset',\n",
      "        ann_file='data/childact_rawframe/childact_train_rawframe.txt',\n",
      "        data_prefix='data/childact_rawframe/train/',\n",
      "        pipeline=[\n",
      "            dict(\n",
      "                type='SampleFrames',\n",
      "                clip_len=32,\n",
      "                frame_interval=2,\n",
      "                num_clips=1),\n",
      "            dict(type='RawFrameDecode'),\n",
      "            dict(type='Resize', scale=(-1, 256)),\n",
      "            dict(type='RandomResizedCrop'),\n",
      "            dict(type='Resize', scale=(224, 224), keep_ratio=False),\n",
      "            dict(type='Normalize', mean=[128, 128], std=[128, 128]),\n",
      "            dict(type='FormatShape', input_format='NCTHW'),\n",
      "            dict(type='Collect', keys=['imgs', 'label'], meta_keys=[]),\n",
      "            dict(type='ToTensor', keys=['imgs', 'label'])\n",
      "        ],\n",
      "        modality='Flow',\n",
      "        start_index=0,\n",
      "        filename_tmpl='flow_{}_{:05d}.jpg'),\n",
      "    val=dict(\n",
      "        type='RawframeDataset',\n",
      "        ann_file='data/childact_rawframe/childact_val_rawframe.txt',\n",
      "        data_prefix='data/childact_rawframe/val/',\n",
      "        pipeline=[\n",
      "            dict(\n",
      "                type='SampleFrames',\n",
      "                clip_len=32,\n",
      "                frame_interval=2,\n",
      "                num_clips=1,\n",
      "                test_mode=True),\n",
      "            dict(type='RawFrameDecode'),\n",
      "            dict(type='Resize', scale=(-1, 256)),\n",
      "            dict(type='CenterCrop', crop_size=224),\n",
      "            dict(type='Normalize', mean=[128, 128], std=[128, 128]),\n",
      "            dict(type='FormatShape', input_format='NCTHW'),\n",
      "            dict(type='Collect', keys=['imgs', 'label'], meta_keys=[]),\n",
      "            dict(type='ToTensor', keys=['imgs'])\n",
      "        ],\n",
      "        modality='Flow',\n",
      "        start_index=0,\n",
      "        filename_tmpl='flow_{}_{:05d}.jpg'),\n",
      "    test=dict(\n",
      "        type='RawframeDataset',\n",
      "        ann_file='data/childact_rawframe/childact_test_rawframe.txt',\n",
      "        data_prefix='data/childact_rawframe/test/',\n",
      "        pipeline=[\n",
      "            dict(\n",
      "                type='SampleFrames',\n",
      "                clip_len=32,\n",
      "                frame_interval=2,\n",
      "                num_clips=10,\n",
      "                test_mode=True),\n",
      "            dict(type='RawFrameDecode'),\n",
      "            dict(type='Resize', scale=(-1, 256)),\n",
      "            dict(type='CenterCrop', crop_size=224),\n",
      "            dict(type='Normalize', mean=[128, 128], std=[128, 128]),\n",
      "            dict(type='FormatShape', input_format='NCTHW'),\n",
      "            dict(type='Collect', keys=['imgs', 'label'], meta_keys=[]),\n",
      "            dict(type='ToTensor', keys=['imgs'])\n",
      "        ],\n",
      "        modality='Flow',\n",
      "        start_index=0,\n",
      "        filename_tmpl='flow_{}_{:05d}.jpg'))\n",
      "optimizer = dict(type='SGD', lr=0.000125, momentum=0.9, weight_decay=0.0001)\n",
      "optimizer_config = dict(grad_clip=dict(max_norm=40, norm_type=2))\n",
      "lr_config = dict(\n",
      "    policy='cyclic',\n",
      "    target_ratio=(10, 1e-05),\n",
      "    cyclic_times=1,\n",
      "    step_ratio_up=0.4)\n",
      "total_epochs = 51\n",
      "checkpoint_config = dict(interval=12)\n",
      "evaluation = dict(\n",
      "    interval=5, metrics=['top_k_accuracy', 'mean_class_accuracy'])\n",
      "log_config = dict(\n",
      "    interval=100,\n",
      "    hooks=[dict(type='TextLoggerHook'),\n",
      "           dict(type='TensorboardLoggerHook')])\n",
      "dist_params = dict(backend='nccl')\n",
      "log_level = 'INFO'\n",
      "work_dir = './childact-checkpoints/childact-CSN'\n",
      "load_from = 'checkpoints/ircsn_ig65m_pretrained_bnfrozen_r152_32x2x1_58e_kinetics400_rgb_20200812-9037a758.pth'\n",
      "resume_from = None\n",
      "workflow = [('train', 1)]\n",
      "find_unused_parameters = True\n",
      "omnisource = False\n",
      "momentum_config = dict(\n",
      "    policy='cyclic',\n",
      "    target_ratio=(0.8947368421052632, 1),\n",
      "    cyclic_times=1,\n",
      "    step_ratio_up=0.4)\n",
      "seed = 42\n",
      "gpu_ids = range(0, 1)\n",
      "output_config = dict(out='./childact-checkpoints/childact-CSN/results.json')\n",
      "\n"
     ]
    }
   ],
   "source": [
    "from mmcv.runner import set_random_seed\n",
    "\n",
    "# Modify dataset type and path\n",
    "# cfg.dataset_type = 'VideoDataset'\n",
    "cfg.data_root = 'data/childact_rawframe/train/'\n",
    "cfg.data_root_val = 'data/childact_rawframe/val/'\n",
    "cfg.ann_file_train = 'data/childact_rawframe/childact_train_rawframe.txt'\n",
    "cfg.ann_file_val = 'data/childact_rawframe/childact_val_rawframe.txt'\n",
    "cfg.ann_file_test = 'data/childact_rawframe/childact_test_rawframe.txt'\n",
    "\n",
    "# cfg.data.test.type = 'VideoDataset'\n",
    "cfg.data.test.ann_file = 'data/childact_rawframe/childact_test_rawframe.txt'\n",
    "cfg.data.test.data_prefix = 'data/childact_rawframe/test/'\n",
    "\n",
    "# cfg.data.train.type = 'VideoDataset'\n",
    "cfg.data.train.ann_file = 'data/childact_rawframe/childact_train_rawframe.txt'\n",
    "cfg.data.train.data_prefix = 'data/childact_rawframe/train/'\n",
    "\n",
    "# cfg.data.val.type = 'VideoDataset'\n",
    "cfg.data.val.ann_file = 'data/childact_rawframe/childact_val_rawframe.txt'\n",
    "cfg.data.val.data_prefix = 'data/childact_rawframe/val/'\n",
    "\n",
    "cfg.data.test.modality = 'Flow'\n",
    "cfg.data.val.modality = 'Flow'\n",
    "cfg.data.train.modality = 'Flow'\n",
    "\n",
    "cfg.data.train.start_index = 0\n",
    "cfg.data.test.start_index = 0\n",
    "cfg.data.val.start_index = 0\n",
    "\n",
    "cfg.data.test.filename_tmpl = 'flow_{}_{:05d}.jpg'\n",
    "cfg.data.train.filename_tmpl = 'flow_{}_{:05d}.jpg'\n",
    "cfg.data.val.filename_tmpl = 'flow_{}_{:05d}.jpg'\n",
    "# The flag is used to determine whether it is omnisource training\n",
    "cfg.setdefault('omnisource', False)\n",
    "# Modify num classes of the model in cls_head\n",
    "cfg.model.cls_head.num_classes = 7\n",
    "# We can use the pre-trained TSN model\n",
    "cfg.load_from = 'checkpoints/ircsn_ig65m_pretrained_bnfrozen_r152_32x2x1_58e_kinetics400_rgb_20200812-9037a758.pth'\n",
    "# cfg.resume_from = './childact-mm/latest.pth'\n",
    "\n",
    "# Set up working dir to save files and logs.\n",
    "cfg.work_dir = './childact-checkpoints/childact-CSN'\n",
    "\n",
    "cfg.img_norm_cfg = dict(mean=[128, 128], std=[128, 128])\n",
    "\n",
    "\n",
    "cfg.val_pipeline = [\n",
    "    dict(\n",
    "        type='SampleFrames',\n",
    "        clip_len=32,\n",
    "        frame_interval=2,\n",
    "        num_clips=1,\n",
    "        test_mode=True),\n",
    "    dict(type='RawFrameDecode'),\n",
    "    dict(type='Resize', scale=(-1, 256)),\n",
    "    dict(type='CenterCrop', crop_size=224),\n",
    "#     dict(type='Resize', scale=(224, 224), keep_ratio=False),\n",
    "#     dict(type='Flip', flip_ratio=0.5)\n",
    "    dict(type='Normalize', mean=[128, 128], std=[128, 128]),\n",
    "    dict(type='FormatShape', input_format='NCTHW'),\n",
    "    dict(type='Collect', keys=['imgs', 'label'], meta_keys=[]),\n",
    "    dict(type='ToTensor', keys=['imgs'])\n",
    "]\n",
    "cfg.test_pipeline = [\n",
    "    dict(type='SampleFrames', clip_len=32, frame_interval=2, num_clips=10, test_mode=True),\n",
    "    dict(type='RawFrameDecode'),\n",
    "    dict(type='Resize', scale=(-1, 256)),\n",
    "    dict(type='CenterCrop', crop_size=224),\n",
    "    dict(type='Normalize', mean=[128, 128], std=[128, 128]),\n",
    "    dict(type='FormatShape', input_format='NCTHW'),\n",
    "    dict(type='Collect', keys=['imgs', 'label'], meta_keys=[]),\n",
    "    dict(type='ToTensor', keys=['imgs'])\n",
    "]\n",
    "\n",
    "\n",
    "\n",
    "cfg.train_pipeline = [\n",
    "    dict(type='SampleFrames', clip_len=32, frame_interval=2, num_clips=1),\n",
    "    dict(type='RawFrameDecode'),\n",
    "    dict(type='Resize', scale=(-1, 256)),\n",
    "#     dict(type='RandomCrop', size=224),\n",
    "    dict(type='RandomResizedCrop'),\n",
    "    dict(type='Resize', scale=(224, 224), keep_ratio=False),\n",
    "#     dict(type='Flip', flip_ratio=0.5),\n",
    "    dict(type='Normalize', mean=[128, 128], std=[128, 128]),\n",
    "    dict(type='FormatShape', input_format='NCTHW'),\n",
    "    dict(type='Collect', keys=['imgs', 'label'], meta_keys=[]),\n",
    "    dict(type='ToTensor', keys=['imgs', 'label'])\n",
    "]\n",
    "\n",
    "cfg.data.train.pipeline = cfg.train_pipeline\n",
    "cfg.data.val.pipeline = cfg.val_pipeline\n",
    "cfg.data.test.pipeline = cfg.test_pipeline\n",
    "# The original learning rate (LR) is set for 8-GPU training.\n",
    "# We divide it by 8 since we only use one GPU.\n",
    "# cfg.data.videos_per_gpu = 24\n",
    "# cfg.optimizer.type = 'Adam'\n",
    "# cfg.optimizer.weight_decay=0.0001\n",
    "\n",
    "# cfg.optimizer_config.grad_clip=None\n",
    "# cfg.optimizer.lr = 0.01\n",
    "\n",
    "cfg.lr_config = dict(\n",
    "    policy='cyclic',\n",
    "    target_ratio=(10, 1e-5),\n",
    "    cyclic_times=1,\n",
    "    step_ratio_up=0.4,\n",
    ")\n",
    "\n",
    "cfg.total_epochs = 51\n",
    "\n",
    "cfg.momentum_config = dict(\n",
    "    policy='cyclic',\n",
    "    target_ratio=(0.85 / 0.95, 1),\n",
    "    cyclic_times=1,\n",
    "    step_ratio_up=0.4,\n",
    ")\n",
    "\n",
    "# We can set the checkpoint saving interval to reduce the storage cost\n",
    "cfg.checkpoint_config.interval = 12\n",
    "# We can set the log print interval to reduce the the times of printing log\n",
    "cfg.log_config.interval = 100\n",
    "\n",
    "# Set seed thus the results are more reproducible\n",
    "cfg.seed = 42\n",
    "set_random_seed(42, deterministic=False)\n",
    "cfg.gpu_ids = range(1)\n",
    "\n",
    "cfg.data.videos_per_gpu=8\n",
    "\n",
    "cfg.model.backbone.in_channels = 2\n",
    "\n",
    "cfg.output_config = dict(out=f'{cfg.work_dir}/results.json')\n",
    "# We can initialize the logger for training and have a look\n",
    "# at the final config used for training\n",
    "# del cfg.optimizer['momentum']\n",
    "print(f'Config:\\n{cfg.pretty_text}')"
   ]
  },
  {
   "cell_type": "code",
   "execution_count": 4,
   "metadata": {
    "colab": {
     "base_uri": "https://localhost:8080/"
    },
    "collapsed": true,
    "id": "dDBWkdDRk6oz",
    "jupyter": {
     "outputs_hidden": true
    },
    "outputId": "85a52ef3-7b5c-4c52-8fef-00322a8c65e6",
    "tags": []
   },
   "outputs": [
    {
     "name": "stderr",
     "output_type": "stream",
     "text": [
      "2021-03-31 00:19:33,457 - mmaction - INFO - load model from: https://download.openmmlab.com/mmaction/recognition/csn/ircsn_from_scratch_r152_ig65m_20200807-771c4135.pth\n",
      "2021-03-31 00:19:33,458 - mmaction - INFO - Use load_from_http loader\n",
      "2021-03-31 00:19:33,627 - mmaction - WARNING - The model and loaded state dict do not match exactly\n",
      "\n",
      "size mismatch for conv1.conv.weight: copying a param with shape torch.Size([64, 3, 3, 7, 7]) from checkpoint, the shape in current model is torch.Size([64, 2, 3, 7, 7]).\n",
      "2021-03-31 00:19:36,157 - mmaction - INFO - load checkpoint from checkpoints/ircsn_ig65m_pretrained_bnfrozen_r152_32x2x1_58e_kinetics400_rgb_20200812-9037a758.pth\n",
      "2021-03-31 00:19:36,158 - mmaction - INFO - Use load_from_local loader\n",
      "2021-03-31 00:19:36,339 - mmaction - WARNING - The model and loaded state dict do not match exactly\n",
      "\n",
      "size mismatch for backbone.conv1.conv.weight: copying a param with shape torch.Size([64, 3, 3, 7, 7]) from checkpoint, the shape in current model is torch.Size([64, 2, 3, 7, 7]).\n",
      "size mismatch for cls_head.fc_cls.weight: copying a param with shape torch.Size([400, 2048]) from checkpoint, the shape in current model is torch.Size([7, 2048]).\n",
      "size mismatch for cls_head.fc_cls.bias: copying a param with shape torch.Size([400]) from checkpoint, the shape in current model is torch.Size([7]).\n",
      "2021-03-31 00:19:36,345 - mmaction - INFO - Start running, host: actrec@actrec-HP-Z4-G4-Workstation, work_dir: /home/actrec/.virtualenvs/mmaction/mmaction2/childact-checkpoints/childact-CSN\n",
      "2021-03-31 00:19:36,345 - mmaction - INFO - workflow: [('train', 1)], max: 51 epochs\n",
      "/home/actrec/.virtualenvs/mmaction/mmaction2/mmaction/core/evaluation/eval_hooks.py:131: UserWarning: runner.meta is None. Creating a empty one.\n",
      "  warnings.warn('runner.meta is None. Creating a empty one.')\n",
      "2021-03-31 00:22:58,472 - mmaction - INFO - Epoch [1][100/132]\tlr: 1.287e-04, eta: 3:43:21, time: 2.021, data_time: 0.031, memory: 21787, top1_acc: 0.1437, top5_acc: 0.6875, loss_cls: 1.9549, loss: 1.9549, grad_norm: 5.0368\n",
      "2021-03-31 00:27:15,621 - mmaction - INFO - Epoch [2][100/132]\tlr: 1.453e-04, eta: 3:06:02, time: 1.963, data_time: 0.029, memory: 21787, top1_acc: 0.1212, top5_acc: 0.7275, loss_cls: 1.9467, loss: 1.9467, grad_norm: 1.3383\n",
      "2021-03-31 00:31:31,788 - mmaction - INFO - Epoch [3][100/132]\tlr: 1.747e-04, eta: 2:53:08, time: 1.954, data_time: 0.031, memory: 21787, top1_acc: 0.1475, top5_acc: 0.7388, loss_cls: 1.9456, loss: 1.9456, grad_norm: 1.3923\n",
      "2021-03-31 00:35:47,940 - mmaction - INFO - Epoch [4][100/132]\tlr: 2.163e-04, eta: 2:45:22, time: 1.954, data_time: 0.030, memory: 21787, top1_acc: 0.1825, top5_acc: 0.7188, loss_cls: 1.9455, loss: 1.9455, grad_norm: 1.6199\n",
      "2021-03-31 00:40:03,748 - mmaction - INFO - Epoch [5][100/132]\tlr: 2.690e-04, eta: 2:39:27, time: 1.952, data_time: 0.030, memory: 21787, top1_acc: 0.1450, top5_acc: 0.7625, loss_cls: 1.9266, loss: 1.9266, grad_norm: 4.2586\n"
     ]
    },
    {
     "name": "stdout",
     "output_type": "stream",
     "text": [
      "[>>>>>>>>>>>>>>>>>>>>>>>>>>>>>>>>>>>>>>>>] 126/126, 17.5 task/s, elapsed: 7s, ETA:     0s"
     ]
    },
    {
     "name": "stderr",
     "output_type": "stream",
     "text": [
      "2021-03-31 00:41:11,735 - mmaction - INFO - Evaluating top_k_accuracy ...\n",
      "2021-03-31 00:41:11,736 - mmaction - INFO - \n",
      "top1_acc\t0.3413\n",
      "top5_acc\t0.9762\n",
      "2021-03-31 00:41:11,737 - mmaction - INFO - Evaluating mean_class_accuracy ...\n",
      "2021-03-31 00:41:11,738 - mmaction - INFO - \n",
      "mean_acc\t0.3413\n",
      "2021-03-31 00:41:12,076 - mmaction - INFO - Now best checkpoint is saved as best_top1_acc_epoch_5.pth.\n",
      "2021-03-31 00:41:12,077 - mmaction - INFO - Best top1_acc is 0.3413 at 5 epoch.\n",
      "2021-03-31 00:41:12,078 - mmaction - INFO - Epoch(val) [5][132]\ttop1_acc: 0.3413, top5_acc: 0.9762, mean_class_accuracy: 0.3413\n",
      "2021-03-31 00:44:27,227 - mmaction - INFO - Epoch [6][100/132]\tlr: 3.316e-04, eta: 2:34:28, time: 1.951, data_time: 0.030, memory: 21787, top1_acc: 0.2938, top5_acc: 0.9050, loss_cls: 1.7022, loss: 1.7022, grad_norm: 19.4689\n",
      "2021-03-31 00:48:42,961 - mmaction - INFO - Epoch [7][100/132]\tlr: 4.027e-04, eta: 2:29:59, time: 1.950, data_time: 0.029, memory: 21787, top1_acc: 0.4412, top5_acc: 0.9400, loss_cls: 1.3115, loss: 1.3115, grad_norm: 29.7646\n",
      "2021-03-31 00:52:58,934 - mmaction - INFO - Epoch [8][100/132]\tlr: 4.805e-04, eta: 2:25:50, time: 1.953, data_time: 0.030, memory: 21787, top1_acc: 0.5363, top5_acc: 0.9550, loss_cls: 1.1724, loss: 1.1724, grad_norm: 23.8277\n",
      "2021-03-31 00:57:14,770 - mmaction - INFO - Epoch [9][100/132]\tlr: 5.632e-04, eta: 2:21:53, time: 1.952, data_time: 0.029, memory: 21787, top1_acc: 0.5600, top5_acc: 0.9525, loss_cls: 1.1253, loss: 1.1253, grad_norm: 25.6989\n",
      "2021-03-31 01:01:30,672 - mmaction - INFO - Epoch [10][100/132]\tlr: 6.488e-04, eta: 2:18:04, time: 1.952, data_time: 0.030, memory: 21787, top1_acc: 0.5763, top5_acc: 0.9500, loss_cls: 1.0747, loss: 1.0747, grad_norm: 23.0445\n"
     ]
    },
    {
     "name": "stdout",
     "output_type": "stream",
     "text": [
      "[>>>>>>>>>>>>>>>>>>>>>>>>>>>>>>>>>>>>>>>>] 126/126, 17.6 task/s, elapsed: 7s, ETA:     0s"
     ]
    },
    {
     "name": "stderr",
     "output_type": "stream",
     "text": [
      "2021-03-31 01:02:38,583 - mmaction - INFO - Evaluating top_k_accuracy ...\n",
      "2021-03-31 01:02:38,585 - mmaction - INFO - \n",
      "top1_acc\t0.6508\n",
      "top5_acc\t0.9921\n",
      "2021-03-31 01:02:38,586 - mmaction - INFO - Evaluating mean_class_accuracy ...\n",
      "2021-03-31 01:02:38,588 - mmaction - INFO - \n",
      "mean_acc\t0.6508\n",
      "2021-03-31 01:02:38,959 - mmaction - INFO - Now best checkpoint is saved as best_top1_acc_epoch_10.pth.\n",
      "2021-03-31 01:02:38,960 - mmaction - INFO - Best top1_acc is 0.6508 at 10 epoch.\n",
      "2021-03-31 01:02:38,961 - mmaction - INFO - Epoch(val) [10][132]\ttop1_acc: 0.6508, top5_acc: 0.9921, mean_class_accuracy: 0.6508\n",
      "2021-03-31 01:05:54,031 - mmaction - INFO - Epoch [11][100/132]\tlr: 7.354e-04, eta: 2:14:22, time: 1.951, data_time: 0.029, memory: 21787, top1_acc: 0.6125, top5_acc: 0.9650, loss_cls: 0.9817, loss: 0.9817, grad_norm: 19.4048\n",
      "2021-03-31 01:10:09,967 - mmaction - INFO - Epoch [12][100/132]\tlr: 8.208e-04, eta: 2:10:44, time: 1.952, data_time: 0.031, memory: 21787, top1_acc: 0.6300, top5_acc: 0.9613, loss_cls: 0.9476, loss: 0.9476, grad_norm: 17.1123\n",
      "2021-03-31 01:11:10,622 - mmaction - INFO - Saving checkpoint at 12 epochs\n",
      "2021-03-31 01:14:25,972 - mmaction - INFO - Epoch [13][100/132]\tlr: 9.031e-04, eta: 2:07:10, time: 1.950, data_time: 0.029, memory: 21787, top1_acc: 0.5863, top5_acc: 0.9700, loss_cls: 1.0291, loss: 1.0291, grad_norm: 17.7710\n",
      "2021-03-31 01:18:41,837 - mmaction - INFO - Epoch [14][100/132]\tlr: 9.802e-04, eta: 2:03:38, time: 1.952, data_time: 0.030, memory: 21787, top1_acc: 0.6550, top5_acc: 0.9550, loss_cls: 0.9138, loss: 0.9138, grad_norm: 17.0397\n",
      "2021-03-31 01:22:57,711 - mmaction - INFO - Epoch [15][100/132]\tlr: 1.050e-03, eta: 2:00:09, time: 1.952, data_time: 0.030, memory: 21787, top1_acc: 0.6450, top5_acc: 0.9613, loss_cls: 0.9461, loss: 0.9461, grad_norm: 16.5971\n"
     ]
    },
    {
     "name": "stdout",
     "output_type": "stream",
     "text": [
      "[>>>>>>>>>>>>>>>>>>>>>>>>>>>>>>>>>>>>>>>>] 126/126, 17.7 task/s, elapsed: 7s, ETA:     0s"
     ]
    },
    {
     "name": "stderr",
     "output_type": "stream",
     "text": [
      "2021-03-31 01:24:05,585 - mmaction - INFO - Evaluating top_k_accuracy ...\n",
      "2021-03-31 01:24:05,587 - mmaction - INFO - \n",
      "top1_acc\t0.8095\n",
      "top5_acc\t0.9921\n",
      "2021-03-31 01:24:05,587 - mmaction - INFO - Evaluating mean_class_accuracy ...\n",
      "2021-03-31 01:24:05,589 - mmaction - INFO - \n",
      "mean_acc\t0.8095\n",
      "2021-03-31 01:24:05,961 - mmaction - INFO - Now best checkpoint is saved as best_top1_acc_epoch_15.pth.\n",
      "2021-03-31 01:24:05,962 - mmaction - INFO - Best top1_acc is 0.8095 at 15 epoch.\n",
      "2021-03-31 01:24:05,962 - mmaction - INFO - Epoch(val) [15][132]\ttop1_acc: 0.8095, top5_acc: 0.9921, mean_class_accuracy: 0.8095\n",
      "2021-03-31 01:27:20,911 - mmaction - INFO - Epoch [16][100/132]\tlr: 1.112e-03, eta: 1:56:42, time: 1.949, data_time: 0.029, memory: 21787, top1_acc: 0.6663, top5_acc: 0.9563, loss_cls: 0.8675, loss: 0.8675, grad_norm: 13.1629\n",
      "2021-03-31 01:31:36,855 - mmaction - INFO - Epoch [17][100/132]\tlr: 1.164e-03, eta: 1:53:16, time: 1.953, data_time: 0.032, memory: 21787, top1_acc: 0.6687, top5_acc: 0.9575, loss_cls: 0.8587, loss: 0.8587, grad_norm: 14.4016\n",
      "2021-03-31 01:35:52,564 - mmaction - INFO - Epoch [18][100/132]\tlr: 1.204e-03, eta: 1:49:51, time: 1.950, data_time: 0.029, memory: 21787, top1_acc: 0.6637, top5_acc: 0.9587, loss_cls: 0.8492, loss: 0.8492, grad_norm: 14.4181\n",
      "2021-03-31 01:40:08,382 - mmaction - INFO - Epoch [19][100/132]\tlr: 1.232e-03, eta: 1:46:27, time: 1.952, data_time: 0.030, memory: 21787, top1_acc: 0.6613, top5_acc: 0.9712, loss_cls: 0.8785, loss: 0.8785, grad_norm: 14.2126\n",
      "2021-03-31 01:44:24,174 - mmaction - INFO - Epoch [20][100/132]\tlr: 1.247e-03, eta: 1:43:04, time: 1.952, data_time: 0.030, memory: 21787, top1_acc: 0.6725, top5_acc: 0.9500, loss_cls: 0.8768, loss: 0.8768, grad_norm: 12.6922\n"
     ]
    },
    {
     "name": "stdout",
     "output_type": "stream",
     "text": [
      "[>>>>>>>>>>>>>>>>>>>>>>>>>>>>>>>>>>>>>>>>] 126/126, 17.9 task/s, elapsed: 7s, ETA:     0s"
     ]
    },
    {
     "name": "stderr",
     "output_type": "stream",
     "text": [
      "2021-03-31 01:45:31,966 - mmaction - INFO - Evaluating top_k_accuracy ...\n",
      "2021-03-31 01:45:31,968 - mmaction - INFO - \n",
      "top1_acc\t0.8254\n",
      "top5_acc\t0.9921\n",
      "2021-03-31 01:45:31,968 - mmaction - INFO - Evaluating mean_class_accuracy ...\n",
      "2021-03-31 01:45:31,969 - mmaction - INFO - \n",
      "mean_acc\t0.8254\n",
      "2021-03-31 01:45:32,325 - mmaction - INFO - Now best checkpoint is saved as best_top1_acc_epoch_20.pth.\n",
      "2021-03-31 01:45:32,326 - mmaction - INFO - Best top1_acc is 0.8254 at 20 epoch.\n",
      "2021-03-31 01:45:32,327 - mmaction - INFO - Epoch(val) [20][132]\ttop1_acc: 0.8254, top5_acc: 0.9921, mean_class_accuracy: 0.8254\n",
      "2021-03-31 01:48:47,597 - mmaction - INFO - Epoch [21][100/132]\tlr: 1.250e-03, eta: 1:39:43, time: 1.953, data_time: 0.031, memory: 21787, top1_acc: 0.6650, top5_acc: 0.9525, loss_cls: 0.8718, loss: 0.8718, grad_norm: 12.2906\n",
      "2021-03-31 01:53:03,316 - mmaction - INFO - Epoch [22][100/132]\tlr: 1.244e-03, eta: 1:36:21, time: 1.951, data_time: 0.029, memory: 21787, top1_acc: 0.6775, top5_acc: 0.9637, loss_cls: 0.8345, loss: 0.8345, grad_norm: 12.3174\n",
      "2021-03-31 01:57:19,142 - mmaction - INFO - Epoch [23][100/132]\tlr: 1.232e-03, eta: 1:33:00, time: 1.951, data_time: 0.029, memory: 21787, top1_acc: 0.6562, top5_acc: 0.9625, loss_cls: 0.8391, loss: 0.8391, grad_norm: 14.6783\n",
      "2021-03-31 02:01:34,882 - mmaction - INFO - Epoch [24][100/132]\tlr: 1.213e-03, eta: 1:29:40, time: 1.951, data_time: 0.029, memory: 21787, top1_acc: 0.6763, top5_acc: 0.9537, loss_cls: 0.8472, loss: 0.8472, grad_norm: 12.3530\n",
      "2021-03-31 02:02:35,471 - mmaction - INFO - Saving checkpoint at 24 epochs\n",
      "2021-03-31 02:05:50,894 - mmaction - INFO - Epoch [25][100/132]\tlr: 1.189e-03, eta: 1:26:20, time: 1.951, data_time: 0.029, memory: 21787, top1_acc: 0.6737, top5_acc: 0.9587, loss_cls: 0.8308, loss: 0.8308, grad_norm: 11.8398\n"
     ]
    },
    {
     "name": "stdout",
     "output_type": "stream",
     "text": [
      "[>>>>>>>>>>>>>>>>>>>>>>>>>>>>>>>>>>>>>>>>] 126/126, 17.5 task/s, elapsed: 7s, ETA:     0s"
     ]
    },
    {
     "name": "stderr",
     "output_type": "stream",
     "text": [
      "2021-03-31 02:06:58,836 - mmaction - INFO - Evaluating top_k_accuracy ...\n",
      "2021-03-31 02:06:58,837 - mmaction - INFO - \n",
      "top1_acc\t0.8730\n",
      "top5_acc\t0.9921\n",
      "2021-03-31 02:06:58,838 - mmaction - INFO - Evaluating mean_class_accuracy ...\n",
      "2021-03-31 02:06:58,841 - mmaction - INFO - \n",
      "mean_acc\t0.8730\n",
      "2021-03-31 02:06:59,234 - mmaction - INFO - Now best checkpoint is saved as best_top1_acc_epoch_25.pth.\n",
      "2021-03-31 02:06:59,235 - mmaction - INFO - Best top1_acc is 0.8730 at 25 epoch.\n",
      "2021-03-31 02:06:59,236 - mmaction - INFO - Epoch(val) [25][132]\ttop1_acc: 0.8730, top5_acc: 0.9921, mean_class_accuracy: 0.8730\n",
      "2021-03-31 02:10:14,284 - mmaction - INFO - Epoch [26][100/132]\tlr: 1.158e-03, eta: 1:23:00, time: 1.950, data_time: 0.029, memory: 21787, top1_acc: 0.6863, top5_acc: 0.9675, loss_cls: 0.7419, loss: 0.7419, grad_norm: 11.4448\n",
      "2021-03-31 02:14:30,088 - mmaction - INFO - Epoch [27][100/132]\tlr: 1.122e-03, eta: 1:19:41, time: 1.951, data_time: 0.029, memory: 21787, top1_acc: 0.7163, top5_acc: 0.9688, loss_cls: 0.7329, loss: 0.7329, grad_norm: 11.0152\n",
      "2021-03-31 02:18:45,829 - mmaction - INFO - Epoch [28][100/132]\tlr: 1.080e-03, eta: 1:16:22, time: 1.951, data_time: 0.030, memory: 21787, top1_acc: 0.7125, top5_acc: 0.9663, loss_cls: 0.7120, loss: 0.7120, grad_norm: 9.0206\n",
      "2021-03-31 02:23:01,594 - mmaction - INFO - Epoch [29][100/132]\tlr: 1.034e-03, eta: 1:13:03, time: 1.951, data_time: 0.029, memory: 21787, top1_acc: 0.7150, top5_acc: 0.9625, loss_cls: 0.7790, loss: 0.7790, grad_norm: 10.8102\n",
      "2021-03-31 02:27:17,354 - mmaction - INFO - Epoch [30][100/132]\tlr: 9.833e-04, eta: 1:09:44, time: 1.951, data_time: 0.029, memory: 21787, top1_acc: 0.6937, top5_acc: 0.9525, loss_cls: 0.7706, loss: 0.7706, grad_norm: 9.8952\n"
     ]
    },
    {
     "name": "stdout",
     "output_type": "stream",
     "text": [
      "[>>>>>>>>>>>>>>>>>>>>>>>>>>>>>>>>>>>>>>>>] 126/126, 17.4 task/s, elapsed: 7s, ETA:     0s"
     ]
    },
    {
     "name": "stderr",
     "output_type": "stream",
     "text": [
      "2021-03-31 02:28:25,322 - mmaction - INFO - Evaluating top_k_accuracy ...\n",
      "2021-03-31 02:28:25,323 - mmaction - INFO - \n",
      "top1_acc\t0.9048\n",
      "top5_acc\t0.9921\n",
      "2021-03-31 02:28:25,324 - mmaction - INFO - Evaluating mean_class_accuracy ...\n",
      "2021-03-31 02:28:25,325 - mmaction - INFO - \n",
      "mean_acc\t0.9048\n",
      "2021-03-31 02:28:25,706 - mmaction - INFO - Now best checkpoint is saved as best_top1_acc_epoch_30.pth.\n",
      "2021-03-31 02:28:25,707 - mmaction - INFO - Best top1_acc is 0.9048 at 30 epoch.\n",
      "2021-03-31 02:28:25,708 - mmaction - INFO - Epoch(val) [30][132]\ttop1_acc: 0.9048, top5_acc: 0.9921, mean_class_accuracy: 0.9048\n",
      "2021-03-31 02:31:40,756 - mmaction - INFO - Epoch [31][100/132]\tlr: 9.289e-04, eta: 1:06:26, time: 1.950, data_time: 0.030, memory: 21787, top1_acc: 0.7200, top5_acc: 0.9637, loss_cls: 0.7187, loss: 0.7187, grad_norm: 9.0214\n",
      "2021-03-31 02:35:56,706 - mmaction - INFO - Epoch [32][100/132]\tlr: 8.713e-04, eta: 1:03:08, time: 1.952, data_time: 0.031, memory: 21787, top1_acc: 0.7362, top5_acc: 0.9637, loss_cls: 0.6791, loss: 0.6791, grad_norm: 9.0725\n",
      "2021-03-31 02:40:12,482 - mmaction - INFO - Epoch [33][100/132]\tlr: 8.112e-04, eta: 0:59:50, time: 1.951, data_time: 0.029, memory: 21787, top1_acc: 0.7400, top5_acc: 0.9650, loss_cls: 0.7027, loss: 0.7027, grad_norm: 10.6142\n",
      "2021-03-31 02:44:28,382 - mmaction - INFO - Epoch [34][100/132]\tlr: 7.491e-04, eta: 0:56:32, time: 1.951, data_time: 0.029, memory: 21787, top1_acc: 0.7275, top5_acc: 0.9600, loss_cls: 0.7119, loss: 0.7119, grad_norm: 8.7767\n",
      "2021-03-31 02:48:44,111 - mmaction - INFO - Epoch [35][100/132]\tlr: 6.857e-04, eta: 0:53:15, time: 1.951, data_time: 0.030, memory: 21787, top1_acc: 0.7588, top5_acc: 0.9762, loss_cls: 0.6441, loss: 0.6441, grad_norm: 12.0131\n"
     ]
    },
    {
     "name": "stdout",
     "output_type": "stream",
     "text": [
      "[>>>>>>>>>>>>>>>>>>>>>>>>>>>>>>>>>>>>>>>>] 126/126, 17.7 task/s, elapsed: 7s, ETA:     0s"
     ]
    },
    {
     "name": "stderr",
     "output_type": "stream",
     "text": [
      "2021-03-31 02:49:51,978 - mmaction - INFO - Evaluating top_k_accuracy ...\n",
      "2021-03-31 02:49:51,980 - mmaction - INFO - \n",
      "top1_acc\t0.8968\n",
      "top5_acc\t0.9921\n",
      "2021-03-31 02:49:51,981 - mmaction - INFO - Evaluating mean_class_accuracy ...\n",
      "2021-03-31 02:49:51,983 - mmaction - INFO - \n",
      "mean_acc\t0.8968\n",
      "2021-03-31 02:49:51,984 - mmaction - INFO - Epoch(val) [35][132]\ttop1_acc: 0.8968, top5_acc: 0.9921, mean_class_accuracy: 0.8968\n",
      "2021-03-31 02:53:07,100 - mmaction - INFO - Epoch [36][100/132]\tlr: 6.216e-04, eta: 0:49:57, time: 1.951, data_time: 0.029, memory: 21787, top1_acc: 0.7425, top5_acc: 0.9688, loss_cls: 0.6508, loss: 0.6508, grad_norm: 9.7295\n",
      "2021-03-31 02:54:07,730 - mmaction - INFO - Saving checkpoint at 36 epochs\n",
      "2021-03-31 02:57:23,287 - mmaction - INFO - Epoch [37][100/132]\tlr: 5.576e-04, eta: 0:46:40, time: 1.952, data_time: 0.030, memory: 21787, top1_acc: 0.7588, top5_acc: 0.9725, loss_cls: 0.6332, loss: 0.6332, grad_norm: 10.7476\n",
      "2021-03-31 03:01:39,091 - mmaction - INFO - Epoch [38][100/132]\tlr: 4.943e-04, eta: 0:43:23, time: 1.951, data_time: 0.031, memory: 21787, top1_acc: 0.7212, top5_acc: 0.9675, loss_cls: 0.6879, loss: 0.6879, grad_norm: 9.6850\n",
      "2021-03-31 03:05:54,765 - mmaction - INFO - Epoch [39][100/132]\tlr: 4.323e-04, eta: 0:40:06, time: 1.950, data_time: 0.029, memory: 21787, top1_acc: 0.7488, top5_acc: 0.9600, loss_cls: 0.6471, loss: 0.6471, grad_norm: 9.3502\n",
      "2021-03-31 03:10:10,733 - mmaction - INFO - Epoch [40][100/132]\tlr: 3.724e-04, eta: 0:36:49, time: 1.953, data_time: 0.031, memory: 21787, top1_acc: 0.7638, top5_acc: 0.9712, loss_cls: 0.6148, loss: 0.6148, grad_norm: 9.6621\n"
     ]
    },
    {
     "name": "stdout",
     "output_type": "stream",
     "text": [
      "[>>>>>>>>>>>>>>>>>>>>>>>>>>>>>>>>>>>>>>>>] 126/126, 17.8 task/s, elapsed: 7s, ETA:     0s"
     ]
    },
    {
     "name": "stderr",
     "output_type": "stream",
     "text": [
      "2021-03-31 03:11:18,639 - mmaction - INFO - Evaluating top_k_accuracy ...\n",
      "2021-03-31 03:11:18,641 - mmaction - INFO - \n",
      "top1_acc\t0.8571\n",
      "top5_acc\t0.9921\n",
      "2021-03-31 03:11:18,642 - mmaction - INFO - Evaluating mean_class_accuracy ...\n",
      "2021-03-31 03:11:18,643 - mmaction - INFO - \n",
      "mean_acc\t0.8571\n",
      "2021-03-31 03:11:18,644 - mmaction - INFO - Epoch(val) [40][132]\ttop1_acc: 0.8571, top5_acc: 0.9921, mean_class_accuracy: 0.8571\n",
      "2021-03-31 03:14:33,736 - mmaction - INFO - Epoch [41][100/132]\tlr: 3.152e-04, eta: 0:33:32, time: 1.951, data_time: 0.029, memory: 21787, top1_acc: 0.7600, top5_acc: 0.9700, loss_cls: 0.6333, loss: 0.6333, grad_norm: 10.3063\n",
      "2021-03-31 03:18:49,499 - mmaction - INFO - Epoch [42][100/132]\tlr: 2.612e-04, eta: 0:30:15, time: 1.952, data_time: 0.030, memory: 21787, top1_acc: 0.7887, top5_acc: 0.9725, loss_cls: 0.6009, loss: 0.6009, grad_norm: 9.9502\n",
      "2021-03-31 03:23:05,287 - mmaction - INFO - Epoch [43][100/132]\tlr: 2.110e-04, eta: 0:26:59, time: 1.952, data_time: 0.031, memory: 21787, top1_acc: 0.7712, top5_acc: 0.9775, loss_cls: 0.5878, loss: 0.5878, grad_norm: 10.2350\n",
      "2021-03-31 03:27:21,016 - mmaction - INFO - Epoch [44][100/132]\tlr: 1.652e-04, eta: 0:23:42, time: 1.951, data_time: 0.029, memory: 21787, top1_acc: 0.7825, top5_acc: 0.9800, loss_cls: 0.5489, loss: 0.5489, grad_norm: 8.9255\n",
      "2021-03-31 03:31:37,013 - mmaction - INFO - Epoch [45][100/132]\tlr: 1.243e-04, eta: 0:20:25, time: 1.953, data_time: 0.032, memory: 21787, top1_acc: 0.7850, top5_acc: 0.9750, loss_cls: 0.5603, loss: 0.5603, grad_norm: 9.0034\n"
     ]
    },
    {
     "name": "stdout",
     "output_type": "stream",
     "text": [
      "[>>>>>>>>>>>>>>>>>>>>>>>>>>>>>>>>>>>>>>>>] 126/126, 17.5 task/s, elapsed: 7s, ETA:     0s"
     ]
    },
    {
     "name": "stderr",
     "output_type": "stream",
     "text": [
      "2021-03-31 03:32:44,908 - mmaction - INFO - Evaluating top_k_accuracy ...\n",
      "2021-03-31 03:32:44,909 - mmaction - INFO - \n",
      "top1_acc\t0.8889\n",
      "top5_acc\t0.9921\n",
      "2021-03-31 03:32:44,910 - mmaction - INFO - Evaluating mean_class_accuracy ...\n",
      "2021-03-31 03:32:44,911 - mmaction - INFO - \n",
      "mean_acc\t0.8889\n",
      "2021-03-31 03:32:44,911 - mmaction - INFO - Epoch(val) [45][132]\ttop1_acc: 0.8889, top5_acc: 0.9921, mean_class_accuracy: 0.8889\n",
      "2021-03-31 03:36:00,053 - mmaction - INFO - Epoch [46][100/132]\tlr: 8.858e-05, eta: 0:17:09, time: 1.951, data_time: 0.030, memory: 21787, top1_acc: 0.7525, top5_acc: 0.9688, loss_cls: 0.6210, loss: 0.6210, grad_norm: 10.5199\n",
      "2021-03-31 03:40:15,735 - mmaction - INFO - Epoch [47][100/132]\tlr: 5.854e-05, eta: 0:13:52, time: 1.950, data_time: 0.029, memory: 21787, top1_acc: 0.7900, top5_acc: 0.9700, loss_cls: 0.5427, loss: 0.5427, grad_norm: 9.7076\n",
      "2021-03-31 03:44:31,750 - mmaction - INFO - Epoch [48][100/132]\tlr: 3.446e-05, eta: 0:10:36, time: 1.953, data_time: 0.031, memory: 21787, top1_acc: 0.7837, top5_acc: 0.9775, loss_cls: 0.5457, loss: 0.5457, grad_norm: 10.5360\n",
      "2021-03-31 03:45:32,630 - mmaction - INFO - Saving checkpoint at 48 epochs\n",
      "2021-03-31 03:48:48,041 - mmaction - INFO - Epoch [49][100/132]\tlr: 1.660e-05, eta: 0:07:20, time: 1.951, data_time: 0.030, memory: 21787, top1_acc: 0.7688, top5_acc: 0.9700, loss_cls: 0.5722, loss: 0.5722, grad_norm: 9.3274\n",
      "2021-03-31 03:53:03,950 - mmaction - INFO - Epoch [50][100/132]\tlr: 5.139e-06, eta: 0:04:03, time: 1.952, data_time: 0.029, memory: 21787, top1_acc: 0.7662, top5_acc: 0.9750, loss_cls: 0.5814, loss: 0.5814, grad_norm: 10.3221\n"
     ]
    },
    {
     "name": "stdout",
     "output_type": "stream",
     "text": [
      "[>>>>>>>>>>>>>>>>>>>>>>>>>>>>>>>>>>>>>>>>] 126/126, 17.4 task/s, elapsed: 7s, ETA:     0s"
     ]
    },
    {
     "name": "stderr",
     "output_type": "stream",
     "text": [
      "2021-03-31 03:54:12,138 - mmaction - INFO - Evaluating top_k_accuracy ...\n",
      "2021-03-31 03:54:12,140 - mmaction - INFO - \n",
      "top1_acc\t0.8968\n",
      "top5_acc\t0.9921\n",
      "2021-03-31 03:54:12,141 - mmaction - INFO - Evaluating mean_class_accuracy ...\n",
      "2021-03-31 03:54:12,143 - mmaction - INFO - \n",
      "mean_acc\t0.8968\n",
      "2021-03-31 03:54:12,144 - mmaction - INFO - Epoch(val) [50][132]\ttop1_acc: 0.8968, top5_acc: 0.9921, mean_class_accuracy: 0.8968\n",
      "2021-03-31 03:57:27,564 - mmaction - INFO - Epoch [51][100/132]\tlr: 2.070e-07, eta: 0:00:47, time: 1.954, data_time: 0.029, memory: 21787, top1_acc: 0.7625, top5_acc: 0.9738, loss_cls: 0.5954, loss: 0.5954, grad_norm: 9.0673\n"
     ]
    }
   ],
   "source": [
    "import os.path as osp\n",
    "\n",
    "from mmaction.datasets import build_dataset\n",
    "from mmaction.models import build_model\n",
    "from mmaction.apis import train_model\n",
    "\n",
    "import mmcv\n",
    "\n",
    "# Build the dataset\n",
    "datasets = [build_dataset(cfg.data.train)]\n",
    "\n",
    "# Build the recognizer\n",
    "model = build_model(cfg.model, train_cfg=cfg.get('train_cfg'), test_cfg=cfg.get('test_cfg'))\n",
    "# model = build_model(cfg.model, train_cfg=cfg.get('train_cfg'), test_cfg=cfg.get('test_cfg'))\n",
    "# model = build_detector(cfg.model, train_cfg=cfg.get('train_cfg'), test_cfg=cfg.get('test_cfg'))\n",
    "# model = build_detector(cfg.model, train_cfg=cfg.train_cfg, test_cfg=cfg.test_cfg)\n",
    "\n",
    "# Create work_dir\n",
    "mmcv.mkdir_or_exist(osp.abspath(cfg.work_dir))\n",
    "train_model(model, datasets, cfg, distributed=False, validate=True)"
   ]
  },
  {
   "cell_type": "code",
   "execution_count": 5,
   "metadata": {},
   "outputs": [],
   "source": [
    "import pickle\n",
    "\n",
    "with open(f\"{cfg.work_dir}/model50e\", 'wb') as f:\n",
    "    pickle.dump(model, f)"
   ]
  },
  {
   "cell_type": "code",
   "execution_count": 6,
   "metadata": {
    "colab": {
     "base_uri": "https://localhost:8080/"
    },
    "id": "eyY3hCMwyTct",
    "outputId": "200e37c7-0da4-421f-98da-41418c3110ca",
    "tags": []
   },
   "outputs": [
    {
     "name": "stdout",
     "output_type": "stream",
     "text": [
      "[>>>>>>>>>>>>>>>>>>>>>>>>>>>>>>>>>>>>>>>] 126/126, 0.7 task/s, elapsed: 183s, ETA:     0s\n",
      "Evaluating top_k_accuracy ...\n",
      "\n",
      "top1_acc\t0.9762\n",
      "top5_acc\t1.0000\n",
      "\n",
      "Evaluating mean_class_accuracy ...\n",
      "\n",
      "mean_acc\t0.9762\n",
      "top1_acc: 0.9762\n",
      "top5_acc: 1.0000\n",
      "mean_class_accuracy: 0.9762\n"
     ]
    }
   ],
   "source": [
    "from mmaction.apis import single_gpu_test\n",
    "from mmaction.datasets import build_dataloader\n",
    "from mmcv.parallel import MMDataParallel\n",
    "from mmaction.models import build_model\n",
    "from mmaction.datasets import build_dataset\n",
    "\n",
    "# model = build_model(cfg.model, train_cfg=cfg.get('train_cfg'), test_cfg=cfg.get('test_cfg'))\n",
    "# Build a test dataloader\n",
    "dataset = build_dataset(cfg.data.test, dict(test_mode=True))\n",
    "data_loader = build_dataloader(\n",
    "        dataset,\n",
    "        videos_per_gpu=4,\n",
    "        workers_per_gpu=1,\n",
    "        dist=False,\n",
    "        shuffle=False)\n",
    "model = MMDataParallel(model, device_ids=[0])\n",
    "outputs = single_gpu_test(model, data_loader)\n",
    "\n",
    "eval_config = cfg.evaluation\n",
    "eval_config.pop('interval')\n",
    "eval_res = dataset.evaluate(outputs, **eval_config)\n",
    "for name, val in eval_res.items():\n",
    "    print(f'{name}: {val:.04f}')\n",
    "    \n",
    "output_config = cfg.output_config\n",
    "dataset.dump_results(outputs, **output_config)"
   ]
  },
  {
   "cell_type": "code",
   "execution_count": 19,
   "metadata": {
    "tags": []
   },
   "outputs": [
    {
     "data": {
      "text/plain": [
       "<AxesSubplot:>"
      ]
     },
     "execution_count": 19,
     "metadata": {},
     "output_type": "execute_result"
    },
    {
     "data": {
      "image/png": "[encoded data removed]",
      "text/plain": [
       "<Figure size 432x288 with 2 Axes>"
      ]
     },
     "metadata": {
      "needs_background": "light"
     },
     "output_type": "display_data"
    }
   ],
   "source": [
    "import seaborn as sns\n",
    "import numpy as np\n",
    "from mmaction.core import confusion_matrix \n",
    "\n",
    "gt_labels = [ann['label'] for ann in dataset.load_annotations()]\n",
    "pred = np.argmax(outputs, axis=1)\n",
    "cf_mat = confusion_matrix(pred, gt_labels).astype(float)\n",
    "\n",
    "sns.heatmap(cf_mat, annot=True, xticklabels = ['box', 'clap', 'go', 'jog', 'run', 'walk', 'wave'], yticklabels = ['box', 'clap', 'go', 'jog', 'run', 'walk', 'wave'] )"
   ]
  },
  {
   "cell_type": "markdown",
   "metadata": {
    "heading_collapsed": "true",
    "tags": []
   },
   "source": [
    "# TANet 96.03%"
   ]
  },
  {
   "cell_type": "code",
   "execution_count": 1,
   "metadata": {
    "colab": {
     "base_uri": "https://localhost:8080/"
    },
    "id": "64CW6d_AaT-Q",
    "outputId": "3b284fd8-4ee7-4a34-90d7-5023cd123a04",
    "tags": []
   },
   "outputs": [
    {
     "name": "stdout",
     "output_type": "stream",
     "text": [
      "--2021-03-29 00:29:51--  https://download.openmmlab.com/mmaction/recognition/tanet/tanet_r50_dense_1x1x8_100e_kinetics400_rgb/tanet_r50_dense_1x1x8_100e_kinetics400_rgb_20210219-032c8e94.pth\n",
      "Resolving download.openmmlab.com (download.openmmlab.com)... 47.254.186.225\n",
      "Connecting to download.openmmlab.com (download.openmmlab.com)|47.254.186.225|:443... connected.\n",
      "HTTP request sent, awaiting response... 200 OK\n",
      "Length: 102681749 (98M) [application/octet-stream]\n",
      "Saving to: ‘checkpoints/tanet_r50_dense_1x1x8_100e_kinetics400_rgb_20210219-032c8e94.pth’\n",
      "\n",
      "checkpoints/tanet_r 100%[===================>]  97,92M  11,1MB/s    in 9,1s    \n",
      "\n",
      "2021-03-29 00:30:03 (10,8 MB/s) - ‘checkpoints/tanet_r50_dense_1x1x8_100e_kinetics400_rgb_20210219-032c8e94.pth’ saved [102681749/102681749]\n",
      "\n"
     ]
    }
   ],
   "source": [
    "# !mkdir checkpoints\n",
    "!wget -c https://download.openmmlab.com/mmaction/recognition/tanet/tanet_r50_dense_1x1x8_100e_kinetics400_rgb/tanet_r50_dense_1x1x8_100e_kinetics400_rgb_20210219-032c8e94.pth \\\n",
    "      -O checkpoints/tanet_r50_dense_1x1x8_100e_kinetics400_rgb_20210219-032c8e94.pth"
   ]
  },
  {
   "cell_type": "code",
   "execution_count": 84,
   "metadata": {
    "id": "LjCcmCKOjktc",
    "tags": []
   },
   "outputs": [],
   "source": [
    "from mmcv import Config\n",
    "cfg = Config.fromfile('./configs/recognition/tanet/tanet_r50_dense_1x1x8_100e_kinetics400_rgb.py')"
   ]
  },
  {
   "cell_type": "code",
   "execution_count": 85,
   "metadata": {
    "colab": {
     "base_uri": "https://localhost:8080/"
    },
    "collapsed": true,
    "id": "tlhu9byjjt-K",
    "jupyter": {
     "outputs_hidden": true
    },
    "outputId": "13d1bb01-f351-48c0-9efb-0bdf2c125d29",
    "tags": []
   },
   "outputs": [
    {
     "name": "stdout",
     "output_type": "stream",
     "text": [
      "Config:\n",
      "model = dict(\n",
      "    type='Recognizer2D',\n",
      "    backbone=dict(\n",
      "        type='TANet',\n",
      "        pretrained='torchvision://resnet50',\n",
      "        depth=50,\n",
      "        num_segments=8,\n",
      "        tam_cfg=dict(),\n",
      "        in_channels=2),\n",
      "    cls_head=dict(\n",
      "        type='TSMHead',\n",
      "        num_classes=7,\n",
      "        in_channels=2048,\n",
      "        spatial_type='avg',\n",
      "        consensus=dict(type='AvgConsensus', dim=1),\n",
      "        dropout_ratio=0.5,\n",
      "        init_std=0.001),\n",
      "    train_cfg=None,\n",
      "    test_cfg=dict(average_clips='prob'))\n",
      "checkpoint_config = dict(interval=12)\n",
      "log_config = dict(interval=25, hooks=[dict(type='TextLoggerHook')])\n",
      "dist_params = dict(backend='nccl')\n",
      "log_level = 'INFO'\n",
      "load_from = 'checkpoints/tanet_r50_dense_1x1x8_100e_kinetics400_rgb_20210219-032c8e94.pth'\n",
      "resume_from = None\n",
      "workflow = [('train', 1)]\n",
      "dataset_type = 'RawframeDataset'\n",
      "data_root = 'data/childact_rawframe/train/'\n",
      "data_root_val = 'data/childact_rawframe/val/'\n",
      "ann_file_train = 'data/childact_rawframe/childact_train_rawframe.txt'\n",
      "ann_file_val = 'data/childact_rawframe/childact_val_rawframe.txt'\n",
      "ann_file_test = 'data/childact_rawframe/childact_test_rawframe.txt'\n",
      "img_norm_cfg = dict(mean=[128, 128], std=[128, 128])\n",
      "train_pipeline = [\n",
      "    dict(type='DenseSampleFrames', clip_len=1, frame_interval=1, num_clips=8),\n",
      "    dict(type='RawFrameDecode'),\n",
      "    dict(type='Resize', scale=(-1, 256)),\n",
      "    dict(type='RandomResizedCrop'),\n",
      "    dict(type='Resize', scale=(224, 224), keep_ratio=False),\n",
      "    dict(type='Normalize', mean=[128, 128], std=[128, 128]),\n",
      "    dict(type='FormatShape', input_format='NCHW_Flow'),\n",
      "    dict(type='Collect', keys=['imgs', 'label'], meta_keys=[]),\n",
      "    dict(type='ToTensor', keys=['imgs', 'label'])\n",
      "]\n",
      "val_pipeline = [\n",
      "    dict(\n",
      "        type='DenseSampleFrames',\n",
      "        clip_len=1,\n",
      "        frame_interval=1,\n",
      "        num_clips=8,\n",
      "        test_mode=True),\n",
      "    dict(type='RawFrameDecode'),\n",
      "    dict(type='Resize', scale=(-1, 256)),\n",
      "    dict(type='CenterCrop', crop_size=224),\n",
      "    dict(type='Normalize', mean=[128, 128], std=[128, 128]),\n",
      "    dict(type='FormatShape', input_format='NCHW_Flow'),\n",
      "    dict(type='Collect', keys=['imgs', 'label'], meta_keys=[]),\n",
      "    dict(type='ToTensor', keys=['imgs'])\n",
      "]\n",
      "test_pipeline = [\n",
      "    dict(\n",
      "        type='DenseSampleFrames',\n",
      "        clip_len=1,\n",
      "        frame_interval=1,\n",
      "        num_clips=8,\n",
      "        test_mode=True),\n",
      "    dict(type='RawFrameDecode'),\n",
      "    dict(type='Resize', scale=(-1, 256)),\n",
      "    dict(type='ThreeCrop', crop_size=256),\n",
      "    dict(type='Normalize', mean=[128, 128], std=[128, 128]),\n",
      "    dict(type='FormatShape', input_format='NCHW_Flow'),\n",
      "    dict(type='Collect', keys=['imgs', 'label'], meta_keys=[]),\n",
      "    dict(type='ToTensor', keys=['imgs'])\n",
      "]\n",
      "data = dict(\n",
      "    videos_per_gpu=8,\n",
      "    workers_per_gpu=4,\n",
      "    test_dataloader=dict(videos_per_gpu=2),\n",
      "    train=dict(\n",
      "        type='RawframeDataset',\n",
      "        ann_file='data/childact_rawframe/childact_train_rawframe.txt',\n",
      "        data_prefix='data/childact_rawframe/train/',\n",
      "        pipeline=[\n",
      "            dict(\n",
      "                type='DenseSampleFrames',\n",
      "                clip_len=1,\n",
      "                frame_interval=1,\n",
      "                num_clips=8),\n",
      "            dict(type='RawFrameDecode'),\n",
      "            dict(type='Resize', scale=(-1, 256)),\n",
      "            dict(type='RandomResizedCrop'),\n",
      "            dict(type='Resize', scale=(224, 224), keep_ratio=False),\n",
      "            dict(type='Normalize', mean=[128, 128], std=[128, 128]),\n",
      "            dict(type='FormatShape', input_format='NCHW_Flow'),\n",
      "            dict(type='Collect', keys=['imgs', 'label'], meta_keys=[]),\n",
      "            dict(type='ToTensor', keys=['imgs', 'label'])\n",
      "        ],\n",
      "        modality='Flow',\n",
      "        start_index=0,\n",
      "        filename_tmpl='flow_{}_{:05d}.jpg'),\n",
      "    val=dict(\n",
      "        type='RawframeDataset',\n",
      "        ann_file='data/childact_rawframe/childact_val_rawframe.txt',\n",
      "        data_prefix='data/childact_rawframe/val/',\n",
      "        pipeline=[\n",
      "            dict(\n",
      "                type='DenseSampleFrames',\n",
      "                clip_len=1,\n",
      "                frame_interval=1,\n",
      "                num_clips=8,\n",
      "                test_mode=True),\n",
      "            dict(type='RawFrameDecode'),\n",
      "            dict(type='Resize', scale=(-1, 256)),\n",
      "            dict(type='CenterCrop', crop_size=224),\n",
      "            dict(type='Normalize', mean=[128, 128], std=[128, 128]),\n",
      "            dict(type='FormatShape', input_format='NCHW_Flow'),\n",
      "            dict(type='Collect', keys=['imgs', 'label'], meta_keys=[]),\n",
      "            dict(type='ToTensor', keys=['imgs'])\n",
      "        ],\n",
      "        modality='Flow',\n",
      "        start_index=0,\n",
      "        filename_tmpl='flow_{}_{:05d}.jpg'),\n",
      "    test=dict(\n",
      "        type='RawframeDataset',\n",
      "        ann_file='data/childact_rawframe/childact_test_rawframe.txt',\n",
      "        data_prefix='data/childact_rawframe/test/',\n",
      "        pipeline=[\n",
      "            dict(\n",
      "                type='DenseSampleFrames',\n",
      "                clip_len=1,\n",
      "                frame_interval=1,\n",
      "                num_clips=8,\n",
      "                test_mode=True),\n",
      "            dict(type='RawFrameDecode'),\n",
      "            dict(type='Resize', scale=(-1, 256)),\n",
      "            dict(type='ThreeCrop', crop_size=256),\n",
      "            dict(type='Normalize', mean=[128, 128], std=[128, 128]),\n",
      "            dict(type='FormatShape', input_format='NCHW_Flow'),\n",
      "            dict(type='Collect', keys=['imgs', 'label'], meta_keys=[]),\n",
      "            dict(type='ToTensor', keys=['imgs'])\n",
      "        ],\n",
      "        modality='Flow',\n",
      "        start_index=0,\n",
      "        filename_tmpl='flow_{}_{:05d}.jpg'))\n",
      "evaluation = dict(\n",
      "    interval=2, metrics=['top_k_accuracy', 'mean_class_accuracy'])\n",
      "optimizer = dict(\n",
      "    type='SGD',\n",
      "    constructor='TSMOptimizerConstructor',\n",
      "    paramwise_cfg=dict(fc_lr5=True),\n",
      "    lr=0.01,\n",
      "    momentum=0.9,\n",
      "    weight_decay=0.0001)\n",
      "optimizer_config = dict(grad_clip=dict(max_norm=20, norm_type=2))\n",
      "lr_config = dict(\n",
      "    policy='cyclic',\n",
      "    target_ratio=(10, 1e-05),\n",
      "    cyclic_times=1,\n",
      "    step_ratio_up=0.4)\n",
      "total_epochs = 51\n",
      "work_dir = './childact-checkpoints/childact-TANet'\n",
      "omnisource = False\n",
      "momentum_config = dict(\n",
      "    policy='cyclic',\n",
      "    target_ratio=(0.8947368421052632, 1),\n",
      "    cyclic_times=1,\n",
      "    step_ratio_up=0.4)\n",
      "seed = 42\n",
      "gpu_ids = range(0, 1)\n",
      "output_config = dict(out='./childact-checkpoints/childact-TANet/results.json')\n",
      "\n"
     ]
    }
   ],
   "source": [
    "from mmcv.runner import set_random_seed\n",
    "\n",
    "# Modify dataset type and path\n",
    "# cfg.dataset_type = 'VideoDataset'\n",
    "cfg.data_root = 'data/childact_rawframe/train/'\n",
    "cfg.data_root_val = 'data/childact_rawframe/val/'\n",
    "cfg.ann_file_train = 'data/childact_rawframe/childact_train_rawframe.txt'\n",
    "cfg.ann_file_val = 'data/childact_rawframe/childact_val_rawframe.txt'\n",
    "cfg.ann_file_test = 'data/childact_rawframe/childact_test_rawframe.txt'\n",
    "\n",
    "# cfg.data.test.type = 'VideoDataset'\n",
    "cfg.data.test.ann_file = 'data/childact_rawframe/childact_test_rawframe.txt'\n",
    "cfg.data.test.data_prefix = 'data/childact_rawframe/test/'\n",
    "\n",
    "# cfg.data.train.type = 'VideoDataset'\n",
    "cfg.data.train.ann_file = 'data/childact_rawframe/childact_train_rawframe.txt'\n",
    "cfg.data.train.data_prefix = 'data/childact_rawframe/train/'\n",
    "\n",
    "# cfg.data.val.type = 'VideoDataset'\n",
    "cfg.data.val.ann_file = 'data/childact_rawframe/childact_val_rawframe.txt'\n",
    "cfg.data.val.data_prefix = 'data/childact_rawframe/val/'\n",
    "\n",
    "cfg.data.test.modality = 'Flow'\n",
    "cfg.data.val.modality = 'Flow'\n",
    "cfg.data.train.modality = 'Flow'\n",
    "\n",
    "cfg.data.train.start_index = 0\n",
    "cfg.data.test.start_index = 0\n",
    "cfg.data.val.start_index = 0\n",
    "\n",
    "cfg.data.test.filename_tmpl = 'flow_{}_{:05d}.jpg'\n",
    "cfg.data.train.filename_tmpl = 'flow_{}_{:05d}.jpg'\n",
    "cfg.data.val.filename_tmpl = 'flow_{}_{:05d}.jpg'\n",
    "# The flag is used to determine whether it is omnisource training\n",
    "cfg.setdefault('omnisource', False)\n",
    "# Modify num classes of the model in cls_head\n",
    "cfg.model.cls_head.num_classes = 7\n",
    "# We can use the pre-trained TSN model\n",
    "cfg.load_from = 'checkpoints/tanet_r50_dense_1x1x8_100e_kinetics400_rgb_20210219-032c8e94.pth'\n",
    "# cfg.resume_from = './childact-mm/latest.pth'\n",
    "\n",
    "# Set up working dir to save files and logs.\n",
    "cfg.work_dir = './childact-checkpoints/childact-TANet'\n",
    "\n",
    "# cfg.train_pipeline[1] = dict(type='RawFrameDecode')\n",
    "# cfg.test_pipeline[1] = dict(type='RawFrameDecode')\n",
    "# cfg.val_pipeline[1] = dict(type='RawFrameDecode')\n",
    "\n",
    "cfg.img_norm_cfg = dict(mean=[128, 128], std=[128, 128])\n",
    "\n",
    "cfg.train_pipeline[7].input_format = 'NCHW_Flow'\n",
    "cfg.test_pipeline[5].input_format = 'NCHW_Flow'\n",
    "cfg.val_pipeline[5].input_format = 'NCHW_Flow'\n",
    "\n",
    "cfg.train_pipeline[6] = dict(type='Normalize', mean=[128, 128], std=[128, 128])\n",
    "cfg.test_pipeline[4] = dict(type='Normalize', mean=[128, 128], std=[128, 128])\n",
    "cfg.val_pipeline[4] = dict(type='Normalize', mean=[128, 128], std=[128, 128])\n",
    "\n",
    "# cfg.train_pipeline[0].clip_len = 1\n",
    "# cfg.test_pipeline[0].clip_len = 1\n",
    "# cfg.val_pipeline[0].clip_len = 1\n",
    "\n",
    "# cfg.train_pipeline[0] = dict(\n",
    "#         type='SampleFrames',\n",
    "#         clip_len=3,\n",
    "#         frame_interval=1,\n",
    "#         num_clips=25)\n",
    "# cfg.test_pipeline[0] = dict(\n",
    "#         type='SampleFrames',\n",
    "#         clip_len=5,\n",
    "#         frame_interval=1,\n",
    "#         num_clips=3,\n",
    "#         test_mode=True)\n",
    "# cfg.val_pipeline[0] = dict(\n",
    "#         type='SampleFrames',\n",
    "#         clip_len=5,\n",
    "#         frame_interval=1,\n",
    "#         num_clips=25,\n",
    "#         test_mode=True)\n",
    "\n",
    "cfg.train_pipeline[3] = dict(type='RandomResizedCrop')\n",
    "\n",
    "del cfg.train_pipeline[5]\n",
    "\n",
    "cfg.data.train.pipeline = cfg.train_pipeline\n",
    "cfg.data.val.pipeline = cfg.val_pipeline\n",
    "cfg.data.test.pipeline = cfg.test_pipeline\n",
    "# The original learning rate (LR) is set for 8-GPU training.\n",
    "# We divide it by 8 since we only use one GPU.\n",
    "# cfg.data.videos_per_gpu = 24\n",
    "# cfg.optimizer.type = 'Adam'\n",
    "# cfg.optimizer.weight_decay=0.0001\n",
    "\n",
    "# cfg.optimizer_config.grad_clip=None\n",
    "# cfg.optimizer.lr = 0.01\n",
    "\n",
    "cfg.lr_config = dict(\n",
    "    policy='cyclic',\n",
    "    target_ratio=(10, 1e-5),\n",
    "    cyclic_times=1,\n",
    "    step_ratio_up=0.4,\n",
    ")\n",
    "\n",
    "cfg.total_epochs = 51\n",
    "\n",
    "cfg.momentum_config = dict(\n",
    "    policy='cyclic',\n",
    "    target_ratio=(0.85 / 0.95, 1),\n",
    "    cyclic_times=1,\n",
    "    step_ratio_up=0.4,\n",
    ")\n",
    "\n",
    "# We can set the checkpoint saving interval to reduce the storage cost\n",
    "cfg.checkpoint_config.interval = 12\n",
    "# We can set the log print interval to reduce the the times of printing log\n",
    "cfg.log_config.interval = 100\n",
    "\n",
    "# Set seed thus the results are more reproducible\n",
    "cfg.seed = 42\n",
    "set_random_seed(42, deterministic=False)\n",
    "cfg.gpu_ids = range(1)\n",
    "\n",
    "# cfg.img_norm_cfg.mean = [0.485, 0.456, 0.406]\n",
    "# cfg.img_norm_cfg.std = [0.229, 0.224, 0.225]\n",
    "\n",
    "# cfg.train_pipeline[6] = dict(type='Normalize', mean=[0.485, 0.456, 0.406], std=[0.229, 0.224, 0.225], to_bgr=False)\n",
    "# cfg.test_pipeline[4] = dict(type='Normalize', mean=[0.485, 0.456, 0.406], std=[0.229, 0.224, 0.225], to_bgr=False)\n",
    "# cfg.val_pipeline[4] = dict(type='Normalize', mean=[0.485, 0.456, 0.406], std=[0.229, 0.224, 0.225], to_bgr=False)\n",
    "\n",
    "cfg.model.backbone.in_channels = 2\n",
    "\n",
    "cfg.output_config = dict(out=f'{cfg.work_dir}/results.json')\n",
    "# We can initialize the logger for training and have a look\n",
    "# at the final config used for training\n",
    "# del cfg.optimizer['momentum']\n",
    "print(f'Config:\\n{cfg.pretty_text}')"
   ]
  },
  {
   "cell_type": "code",
   "execution_count": 86,
   "metadata": {
    "colab": {
     "base_uri": "https://localhost:8080/"
    },
    "collapsed": true,
    "id": "dDBWkdDRk6oz",
    "jupyter": {
     "outputs_hidden": true
    },
    "outputId": "85a52ef3-7b5c-4c52-8fef-00322a8c65e6",
    "tags": []
   },
   "outputs": [
    {
     "name": "stderr",
     "output_type": "stream",
     "text": [
      "2021-03-29 12:18:39,908 - mmaction - INFO - These parameters in pretrained checkpoint are not loaded: {'fc.bias', 'fc.weight', 'conv1.weight'}\n"
     ]
    },
    {
     "name": "stdout",
     "output_type": "stream",
     "text": [
      "Use load_from_torchvision loader\n"
     ]
    },
    {
     "name": "stderr",
     "output_type": "stream",
     "text": [
      "2021-03-29 12:18:39,999 - mmaction - INFO - load checkpoint from checkpoints/tanet_r50_dense_1x1x8_100e_kinetics400_rgb_20210219-032c8e94.pth\n",
      "2021-03-29 12:18:40,000 - mmaction - INFO - Use load_from_local loader\n",
      "2021-03-29 12:18:40,088 - mmaction - WARNING - The model and loaded state dict do not match exactly\n",
      "\n",
      "size mismatch for backbone.conv1.conv.weight: copying a param with shape torch.Size([64, 3, 7, 7]) from checkpoint, the shape in current model is torch.Size([64, 2, 7, 7]).\n",
      "size mismatch for cls_head.fc_cls.weight: copying a param with shape torch.Size([400, 2048]) from checkpoint, the shape in current model is torch.Size([7, 2048]).\n",
      "size mismatch for cls_head.fc_cls.bias: copying a param with shape torch.Size([400]) from checkpoint, the shape in current model is torch.Size([7]).\n",
      "2021-03-29 12:18:40,090 - mmaction - INFO - Start running, host: actrec@actrec-HP-Z4-G4-Workstation, work_dir: /home/actrec/.virtualenvs/mmaction/mmaction2/childact-checkpoints/childact-TANet\n",
      "2021-03-29 12:18:40,090 - mmaction - INFO - workflow: [('train', 1)], max: 51 epochs\n",
      "2021-03-29 12:18:49,336 - mmaction - INFO - Epoch [1][25/132]\tlr: 1.002e-02, eta: 0:41:19, time: 0.370, data_time: 0.095, memory: 7153, top1_acc: 0.1850, top5_acc: 0.7650, loss_cls: 2.0557, loss: 2.0557, grad_norm: 9.7515\n",
      "2021-03-29 12:18:56,184 - mmaction - INFO - Epoch [1][50/132]\tlr: 1.007e-02, eta: 0:35:50, time: 0.274, data_time: 0.000, memory: 7153, top1_acc: 0.2800, top5_acc: 0.8450, loss_cls: 1.8575, loss: 1.8575, grad_norm: 6.4151\n",
      "2021-03-29 12:19:02,959 - mmaction - INFO - Epoch [1][75/132]\tlr: 1.017e-02, eta: 0:33:49, time: 0.271, data_time: 0.000, memory: 7153, top1_acc: 0.3750, top5_acc: 0.9250, loss_cls: 1.6502, loss: 1.6502, grad_norm: 5.4960\n",
      "2021-03-29 12:19:09,789 - mmaction - INFO - Epoch [1][100/132]\tlr: 1.030e-02, eta: 0:32:49, time: 0.273, data_time: 0.000, memory: 7153, top1_acc: 0.3050, top5_acc: 0.8300, loss_cls: 1.8212, loss: 1.8212, grad_norm: 5.1186\n",
      "2021-03-29 12:19:16,569 - mmaction - INFO - Epoch [1][125/132]\tlr: 1.047e-02, eta: 0:32:07, time: 0.271, data_time: 0.000, memory: 7153, top1_acc: 0.3550, top5_acc: 0.9500, loss_cls: 1.4968, loss: 1.4968, grad_norm: 3.9792\n",
      "2021-03-29 12:19:27,626 - mmaction - INFO - Epoch [2][25/132]\tlr: 1.074e-02, eta: 0:31:54, time: 0.370, data_time: 0.097, memory: 7153, top1_acc: 0.3450, top5_acc: 0.9350, loss_cls: 1.5463, loss: 1.5463, grad_norm: 4.4238\n",
      "2021-03-29 12:19:34,414 - mmaction - INFO - Epoch [2][50/132]\tlr: 1.100e-02, eta: 0:31:29, time: 0.272, data_time: 0.000, memory: 7153, top1_acc: 0.4250, top5_acc: 0.9100, loss_cls: 1.4709, loss: 1.4709, grad_norm: 3.9662\n",
      "2021-03-29 12:19:41,214 - mmaction - INFO - Epoch [2][75/132]\tlr: 1.129e-02, eta: 0:31:09, time: 0.272, data_time: 0.000, memory: 7153, top1_acc: 0.4700, top5_acc: 0.9400, loss_cls: 1.3981, loss: 1.3981, grad_norm: 4.3671\n",
      "2021-03-29 12:19:48,044 - mmaction - INFO - Epoch [2][100/132]\tlr: 1.163e-02, eta: 0:30:52, time: 0.273, data_time: 0.000, memory: 7153, top1_acc: 0.4050, top5_acc: 0.9200, loss_cls: 1.4549, loss: 1.4549, grad_norm: 4.4776\n",
      "2021-03-29 12:19:54,872 - mmaction - INFO - Epoch [2][125/132]\tlr: 1.199e-02, eta: 0:30:38, time: 0.273, data_time: 0.000, memory: 7153, top1_acc: 0.4150, top5_acc: 0.9400, loss_cls: 1.5323, loss: 1.5323, grad_norm: 3.9329\n"
     ]
    },
    {
     "name": "stdout",
     "output_type": "stream",
     "text": [
      "[>>>>>>>>>>>>>>>>>>>>>>>>>>>>>>>>>>>>>>>>] 126/126, 9.2 task/s, elapsed: 14s, ETA:     0s"
     ]
    },
    {
     "name": "stderr",
     "output_type": "stream",
     "text": [
      "2021-03-29 12:20:10,521 - mmaction - INFO - Evaluating top_k_accuracy ...\n",
      "2021-03-29 12:20:10,523 - mmaction - INFO - \n",
      "top1_acc\t0.7460\n",
      "top5_acc\t0.9921\n",
      "2021-03-29 12:20:10,524 - mmaction - INFO - Evaluating mean_class_accuracy ...\n",
      "2021-03-29 12:20:10,526 - mmaction - INFO - \n",
      "mean_acc\t0.7460\n",
      "2021-03-29 12:20:10,814 - mmaction - INFO - Now best checkpoint is saved as best_top1_acc_epoch_2.pth.\n",
      "2021-03-29 12:20:10,816 - mmaction - INFO - Best top1_acc is 0.7460 at 2 epoch.\n",
      "2021-03-29 12:20:10,816 - mmaction - INFO - Epoch(val) [2][132]\ttop1_acc: 0.7460, top5_acc: 0.9921, mean_class_accuracy: 0.7460\n",
      "2021-03-29 12:20:20,084 - mmaction - INFO - Epoch [3][25/132]\tlr: 1.252e-02, eta: 0:30:33, time: 0.371, data_time: 0.096, memory: 7542, top1_acc: 0.4850, top5_acc: 0.9400, loss_cls: 1.3050, loss: 1.3050, grad_norm: 3.2627\n",
      "2021-03-29 12:20:26,945 - mmaction - INFO - Epoch [3][50/132]\tlr: 1.297e-02, eta: 0:30:20, time: 0.274, data_time: 0.000, memory: 7542, top1_acc: 0.5000, top5_acc: 0.9250, loss_cls: 1.1642, loss: 1.1642, grad_norm: 3.6943\n",
      "2021-03-29 12:20:33,780 - mmaction - INFO - Epoch [3][75/132]\tlr: 1.346e-02, eta: 0:30:08, time: 0.273, data_time: 0.000, memory: 7542, top1_acc: 0.4350, top5_acc: 0.9400, loss_cls: 1.2773, loss: 1.2773, grad_norm: 3.4488\n",
      "2021-03-29 12:20:40,638 - mmaction - INFO - Epoch [3][100/132]\tlr: 1.398e-02, eta: 0:29:58, time: 0.274, data_time: 0.000, memory: 7542, top1_acc: 0.4700, top5_acc: 0.9450, loss_cls: 1.2636, loss: 1.2636, grad_norm: 3.6138\n",
      "2021-03-29 12:20:47,497 - mmaction - INFO - Epoch [3][125/132]\tlr: 1.453e-02, eta: 0:29:47, time: 0.274, data_time: 0.000, memory: 7542, top1_acc: 0.5200, top5_acc: 0.9500, loss_cls: 1.2017, loss: 1.2017, grad_norm: 3.4511\n",
      "2021-03-29 12:20:58,642 - mmaction - INFO - Epoch [4][25/132]\tlr: 1.530e-02, eta: 0:29:43, time: 0.373, data_time: 0.098, memory: 7542, top1_acc: 0.5350, top5_acc: 0.9200, loss_cls: 1.1730, loss: 1.1730, grad_norm: 3.1337\n",
      "2021-03-29 12:21:05,505 - mmaction - INFO - Epoch [4][50/132]\tlr: 1.593e-02, eta: 0:29:33, time: 0.275, data_time: 0.000, memory: 7542, top1_acc: 0.5150, top5_acc: 0.9650, loss_cls: 1.1823, loss: 1.1823, grad_norm: 3.8380\n",
      "2021-03-29 12:21:12,369 - mmaction - INFO - Epoch [4][75/132]\tlr: 1.660e-02, eta: 0:29:23, time: 0.275, data_time: 0.000, memory: 7542, top1_acc: 0.5400, top5_acc: 0.9550, loss_cls: 1.1157, loss: 1.1157, grad_norm: 2.8842\n",
      "2021-03-29 12:21:19,231 - mmaction - INFO - Epoch [4][100/132]\tlr: 1.730e-02, eta: 0:29:14, time: 0.274, data_time: 0.000, memory: 7542, top1_acc: 0.5200, top5_acc: 0.9450, loss_cls: 1.1683, loss: 1.1683, grad_norm: 3.5702\n",
      "2021-03-29 12:21:26,100 - mmaction - INFO - Epoch [4][125/132]\tlr: 1.803e-02, eta: 0:29:05, time: 0.275, data_time: 0.000, memory: 7542, top1_acc: 0.5200, top5_acc: 0.9550, loss_cls: 1.0920, loss: 1.0920, grad_norm: 2.7112\n"
     ]
    },
    {
     "name": "stdout",
     "output_type": "stream",
     "text": [
      "[>>>>>>>>>>>>>>>>>>>>>>>>>>>>>>>>>>>>>>>>] 126/126, 8.8 task/s, elapsed: 14s, ETA:     0s"
     ]
    },
    {
     "name": "stderr",
     "output_type": "stream",
     "text": [
      "2021-03-29 12:21:42,394 - mmaction - INFO - Evaluating top_k_accuracy ...\n",
      "2021-03-29 12:21:42,396 - mmaction - INFO - \n",
      "top1_acc\t0.7857\n",
      "top5_acc\t1.0000\n",
      "2021-03-29 12:21:42,396 - mmaction - INFO - Evaluating mean_class_accuracy ...\n",
      "2021-03-29 12:21:42,398 - mmaction - INFO - \n",
      "mean_acc\t0.7857\n",
      "2021-03-29 12:21:42,718 - mmaction - INFO - Now best checkpoint is saved as best_top1_acc_epoch_4.pth.\n",
      "2021-03-29 12:21:42,719 - mmaction - INFO - Best top1_acc is 0.7857 at 4 epoch.\n",
      "2021-03-29 12:21:42,719 - mmaction - INFO - Epoch(val) [4][132]\ttop1_acc: 0.7857, top5_acc: 1.0000, mean_class_accuracy: 0.7857\n",
      "2021-03-29 12:21:52,074 - mmaction - INFO - Epoch [5][25/132]\tlr: 1.902e-02, eta: 0:29:00, time: 0.374, data_time: 0.098, memory: 7542, top1_acc: 0.5150, top5_acc: 0.9600, loss_cls: 1.1166, loss: 1.1166, grad_norm: 2.8345\n",
      "2021-03-29 12:21:58,959 - mmaction - INFO - Epoch [5][50/132]\tlr: 1.982e-02, eta: 0:28:51, time: 0.275, data_time: 0.000, memory: 7542, top1_acc: 0.5700, top5_acc: 0.9500, loss_cls: 1.1296, loss: 1.1296, grad_norm: 3.4791\n",
      "2021-03-29 12:22:05,867 - mmaction - INFO - Epoch [5][75/132]\tlr: 2.066e-02, eta: 0:28:43, time: 0.276, data_time: 0.000, memory: 7542, top1_acc: 0.5800, top5_acc: 0.9600, loss_cls: 1.0953, loss: 1.0953, grad_norm: 3.2255\n",
      "2021-03-29 12:22:12,752 - mmaction - INFO - Epoch [5][100/132]\tlr: 2.152e-02, eta: 0:28:34, time: 0.275, data_time: 0.000, memory: 7542, top1_acc: 0.6000, top5_acc: 0.9650, loss_cls: 1.0787, loss: 1.0787, grad_norm: 2.8780\n",
      "2021-03-29 12:22:19,650 - mmaction - INFO - Epoch [5][125/132]\tlr: 2.241e-02, eta: 0:28:26, time: 0.276, data_time: 0.000, memory: 7542, top1_acc: 0.5600, top5_acc: 0.9700, loss_cls: 1.1336, loss: 1.1336, grad_norm: 2.9456\n",
      "2021-03-29 12:22:30,814 - mmaction - INFO - Epoch [6][25/132]\tlr: 2.359e-02, eta: 0:28:20, time: 0.374, data_time: 0.096, memory: 7542, top1_acc: 0.4850, top5_acc: 0.9250, loss_cls: 1.2668, loss: 1.2668, grad_norm: 3.2763\n",
      "2021-03-29 12:22:37,704 - mmaction - INFO - Epoch [6][50/132]\tlr: 2.454e-02, eta: 0:28:12, time: 0.276, data_time: 0.000, memory: 7542, top1_acc: 0.5500, top5_acc: 0.9600, loss_cls: 1.1290, loss: 1.1290, grad_norm: 2.8908\n",
      "2021-03-29 12:22:44,607 - mmaction - INFO - Epoch [6][75/132]\tlr: 2.552e-02, eta: 0:28:04, time: 0.276, data_time: 0.000, memory: 7542, top1_acc: 0.5600, top5_acc: 0.9550, loss_cls: 1.1433, loss: 1.1433, grad_norm: 3.2682\n",
      "2021-03-29 12:22:51,500 - mmaction - INFO - Epoch [6][100/132]\tlr: 2.653e-02, eta: 0:27:56, time: 0.276, data_time: 0.000, memory: 7542, top1_acc: 0.4800, top5_acc: 0.9650, loss_cls: 1.3198, loss: 1.3198, grad_norm: 2.9401\n",
      "2021-03-29 12:22:58,392 - mmaction - INFO - Epoch [6][125/132]\tlr: 2.756e-02, eta: 0:27:48, time: 0.276, data_time: 0.000, memory: 7542, top1_acc: 0.6600, top5_acc: 0.9750, loss_cls: 0.9199, loss: 0.9199, grad_norm: 2.6600\n"
     ]
    },
    {
     "name": "stdout",
     "output_type": "stream",
     "text": [
      "[>>>>>>>>>>>>>>>>>>>>>>>>>>>>>>>>>>>>>>>>] 126/126, 9.0 task/s, elapsed: 14s, ETA:     0s"
     ]
    },
    {
     "name": "stderr",
     "output_type": "stream",
     "text": [
      "2021-03-29 12:23:14,235 - mmaction - INFO - Evaluating top_k_accuracy ...\n",
      "2021-03-29 12:23:14,237 - mmaction - INFO - \n",
      "top1_acc\t0.7063\n",
      "top5_acc\t0.9921\n",
      "2021-03-29 12:23:14,238 - mmaction - INFO - Evaluating mean_class_accuracy ...\n",
      "2021-03-29 12:23:14,240 - mmaction - INFO - \n",
      "mean_acc\t0.7063\n",
      "2021-03-29 12:23:14,241 - mmaction - INFO - Epoch(val) [6][132]\ttop1_acc: 0.7063, top5_acc: 0.9921, mean_class_accuracy: 0.7063\n",
      "2021-03-29 12:23:23,577 - mmaction - INFO - Epoch [7][25/132]\tlr: 2.891e-02, eta: 0:27:42, time: 0.373, data_time: 0.096, memory: 7542, top1_acc: 0.4950, top5_acc: 0.9550, loss_cls: 1.2765, loss: 1.2765, grad_norm: 3.5840\n",
      "2021-03-29 12:23:30,468 - mmaction - INFO - Epoch [7][50/132]\tlr: 2.999e-02, eta: 0:27:34, time: 0.276, data_time: 0.000, memory: 7542, top1_acc: 0.5400, top5_acc: 0.9750, loss_cls: 1.1278, loss: 1.1278, grad_norm: 2.6806\n",
      "2021-03-29 12:23:37,361 - mmaction - INFO - Epoch [7][75/132]\tlr: 3.109e-02, eta: 0:27:26, time: 0.276, data_time: 0.000, memory: 7542, top1_acc: 0.6000, top5_acc: 0.9650, loss_cls: 1.0245, loss: 1.0245, grad_norm: 2.7426\n",
      "2021-03-29 12:23:44,254 - mmaction - INFO - Epoch [7][100/132]\tlr: 3.221e-02, eta: 0:27:18, time: 0.276, data_time: 0.000, memory: 7542, top1_acc: 0.5650, top5_acc: 0.9600, loss_cls: 1.1022, loss: 1.1022, grad_norm: 2.4739\n",
      "2021-03-29 12:23:51,155 - mmaction - INFO - Epoch [7][125/132]\tlr: 3.335e-02, eta: 0:27:10, time: 0.276, data_time: 0.000, memory: 7542, top1_acc: 0.5350, top5_acc: 0.9650, loss_cls: 1.2158, loss: 1.2158, grad_norm: 2.4762\n",
      "2021-03-29 12:24:02,328 - mmaction - INFO - Epoch [8][25/132]\tlr: 3.484e-02, eta: 0:27:04, time: 0.374, data_time: 0.097, memory: 7542, top1_acc: 0.5400, top5_acc: 0.9550, loss_cls: 1.1798, loss: 1.1798, grad_norm: 2.6436\n",
      "2021-03-29 12:24:09,232 - mmaction - INFO - Epoch [8][50/132]\tlr: 3.602e-02, eta: 0:26:56, time: 0.276, data_time: 0.000, memory: 7542, top1_acc: 0.5800, top5_acc: 0.9650, loss_cls: 1.1090, loss: 1.1090, grad_norm: 2.4601\n",
      "2021-03-29 12:24:16,125 - mmaction - INFO - Epoch [8][75/132]\tlr: 3.722e-02, eta: 0:26:48, time: 0.276, data_time: 0.000, memory: 7542, top1_acc: 0.5250, top5_acc: 0.9500, loss_cls: 1.1558, loss: 1.1558, grad_norm: 2.1978\n",
      "2021-03-29 12:24:23,025 - mmaction - INFO - Epoch [8][100/132]\tlr: 3.844e-02, eta: 0:26:40, time: 0.276, data_time: 0.000, memory: 7542, top1_acc: 0.5950, top5_acc: 0.9600, loss_cls: 1.0735, loss: 1.0735, grad_norm: 1.9991\n",
      "2021-03-29 12:24:29,932 - mmaction - INFO - Epoch [8][125/132]\tlr: 3.966e-02, eta: 0:26:33, time: 0.276, data_time: 0.000, memory: 7542, top1_acc: 0.6050, top5_acc: 0.9700, loss_cls: 1.0376, loss: 1.0376, grad_norm: 2.1951\n"
     ]
    },
    {
     "name": "stdout",
     "output_type": "stream",
     "text": [
      "[>>>>>>>>>>>>>>>>>>>>>>>>>>>>>>>>>>>>>>>>] 126/126, 8.7 task/s, elapsed: 14s, ETA:     0s"
     ]
    },
    {
     "name": "stderr",
     "output_type": "stream",
     "text": [
      "2021-03-29 12:24:46,285 - mmaction - INFO - Evaluating top_k_accuracy ...\n",
      "2021-03-29 12:24:46,286 - mmaction - INFO - \n",
      "top1_acc\t0.7381\n",
      "top5_acc\t0.9921\n",
      "2021-03-29 12:24:46,287 - mmaction - INFO - Evaluating mean_class_accuracy ...\n",
      "2021-03-29 12:24:46,287 - mmaction - INFO - \n",
      "mean_acc\t0.7381\n",
      "2021-03-29 12:24:46,288 - mmaction - INFO - Epoch(val) [8][132]\ttop1_acc: 0.7381, top5_acc: 0.9921, mean_class_accuracy: 0.7381\n",
      "2021-03-29 12:24:55,618 - mmaction - INFO - Epoch [9][25/132]\tlr: 4.125e-02, eta: 0:26:26, time: 0.373, data_time: 0.096, memory: 7542, top1_acc: 0.5800, top5_acc: 0.9550, loss_cls: 1.0139, loss: 1.0139, grad_norm: 2.1394\n",
      "2021-03-29 12:25:02,513 - mmaction - INFO - Epoch [9][50/132]\tlr: 4.251e-02, eta: 0:26:18, time: 0.276, data_time: 0.000, memory: 7542, top1_acc: 0.6100, top5_acc: 0.9350, loss_cls: 1.0128, loss: 1.0128, grad_norm: 2.0550\n",
      "2021-03-29 12:25:09,412 - mmaction - INFO - Epoch [9][75/132]\tlr: 4.378e-02, eta: 0:26:11, time: 0.276, data_time: 0.000, memory: 7542, top1_acc: 0.5850, top5_acc: 0.9650, loss_cls: 1.0608, loss: 1.0608, grad_norm: 2.1492\n",
      "2021-03-29 12:25:16,312 - mmaction - INFO - Epoch [9][100/132]\tlr: 4.505e-02, eta: 0:26:03, time: 0.276, data_time: 0.000, memory: 7542, top1_acc: 0.5250, top5_acc: 0.9400, loss_cls: 1.1191, loss: 1.1191, grad_norm: 2.1310\n",
      "2021-03-29 12:25:23,211 - mmaction - INFO - Epoch [9][125/132]\tlr: 4.634e-02, eta: 0:25:55, time: 0.276, data_time: 0.000, memory: 7542, top1_acc: 0.6050, top5_acc: 0.9700, loss_cls: 0.9896, loss: 0.9896, grad_norm: 2.1163\n",
      "2021-03-29 12:25:34,324 - mmaction - INFO - Epoch [10][25/132]\tlr: 4.799e-02, eta: 0:25:48, time: 0.371, data_time: 0.094, memory: 7542, top1_acc: 0.6250, top5_acc: 0.9750, loss_cls: 1.0080, loss: 1.0080, grad_norm: 2.2876\n",
      "2021-03-29 12:25:41,231 - mmaction - INFO - Epoch [10][50/132]\tlr: 4.929e-02, eta: 0:25:40, time: 0.276, data_time: 0.000, memory: 7542, top1_acc: 0.5750, top5_acc: 0.9600, loss_cls: 1.0283, loss: 1.0283, grad_norm: 1.8547\n",
      "2021-03-29 12:25:48,310 - mmaction - INFO - Epoch [10][75/132]\tlr: 5.060e-02, eta: 0:25:34, time: 0.283, data_time: 0.000, memory: 7542, top1_acc: 0.6100, top5_acc: 0.9700, loss_cls: 0.9591, loss: 0.9591, grad_norm: 2.0407\n",
      "2021-03-29 12:25:55,350 - mmaction - INFO - Epoch [10][100/132]\tlr: 5.190e-02, eta: 0:25:27, time: 0.282, data_time: 0.000, memory: 7542, top1_acc: 0.6300, top5_acc: 0.9650, loss_cls: 1.0168, loss: 1.0168, grad_norm: 2.1033\n",
      "2021-03-29 12:26:02,442 - mmaction - INFO - Epoch [10][125/132]\tlr: 5.321e-02, eta: 0:25:20, time: 0.284, data_time: 0.000, memory: 7542, top1_acc: 0.5600, top5_acc: 0.9450, loss_cls: 1.1795, loss: 1.1795, grad_norm: 1.9874\n"
     ]
    },
    {
     "name": "stdout",
     "output_type": "stream",
     "text": [
      "[>>>>>>>>>>>>>>>>>>>>>>>>>>>>>>>>>>>>>>>>] 126/126, 8.4 task/s, elapsed: 15s, ETA:     0s"
     ]
    },
    {
     "name": "stderr",
     "output_type": "stream",
     "text": [
      "2021-03-29 12:26:19,308 - mmaction - INFO - Evaluating top_k_accuracy ...\n",
      "2021-03-29 12:26:19,310 - mmaction - INFO - \n",
      "top1_acc\t0.7619\n",
      "top5_acc\t1.0000\n",
      "2021-03-29 12:26:19,311 - mmaction - INFO - Evaluating mean_class_accuracy ...\n",
      "2021-03-29 12:26:19,314 - mmaction - INFO - \n",
      "mean_acc\t0.7619\n",
      "2021-03-29 12:26:19,315 - mmaction - INFO - Epoch(val) [10][132]\ttop1_acc: 0.7619, top5_acc: 1.0000, mean_class_accuracy: 0.7619\n",
      "2021-03-29 12:26:28,658 - mmaction - INFO - Epoch [11][25/132]\tlr: 5.489e-02, eta: 0:25:13, time: 0.373, data_time: 0.096, memory: 7542, top1_acc: 0.5850, top5_acc: 0.9500, loss_cls: 1.0882, loss: 1.0882, grad_norm: 1.8450\n",
      "2021-03-29 12:26:35,554 - mmaction - INFO - Epoch [11][50/132]\tlr: 5.621e-02, eta: 0:25:05, time: 0.276, data_time: 0.000, memory: 7542, top1_acc: 0.6550, top5_acc: 0.9600, loss_cls: 0.9252, loss: 0.9252, grad_norm: 1.7665\n",
      "2021-03-29 12:26:42,452 - mmaction - INFO - Epoch [11][75/132]\tlr: 5.752e-02, eta: 0:24:58, time: 0.276, data_time: 0.000, memory: 7542, top1_acc: 0.6100, top5_acc: 0.9300, loss_cls: 1.0417, loss: 1.0417, grad_norm: 2.4101\n",
      "2021-03-29 12:26:49,348 - mmaction - INFO - Epoch [11][100/132]\tlr: 5.883e-02, eta: 0:24:50, time: 0.276, data_time: 0.000, memory: 7542, top1_acc: 0.6200, top5_acc: 0.9700, loss_cls: 0.9607, loss: 0.9607, grad_norm: 2.0375\n",
      "2021-03-29 12:26:56,246 - mmaction - INFO - Epoch [11][125/132]\tlr: 6.014e-02, eta: 0:24:43, time: 0.276, data_time: 0.000, memory: 7542, top1_acc: 0.6100, top5_acc: 0.9700, loss_cls: 1.0215, loss: 1.0215, grad_norm: 2.2774\n",
      "2021-03-29 12:27:07,389 - mmaction - INFO - Epoch [12][25/132]\tlr: 6.180e-02, eta: 0:24:35, time: 0.372, data_time: 0.095, memory: 7542, top1_acc: 0.6200, top5_acc: 0.9700, loss_cls: 0.8082, loss: 0.8082, grad_norm: 1.5620\n",
      "2021-03-29 12:27:14,301 - mmaction - INFO - Epoch [12][50/132]\tlr: 6.310e-02, eta: 0:24:27, time: 0.276, data_time: 0.000, memory: 7542, top1_acc: 0.6000, top5_acc: 0.9700, loss_cls: 1.0477, loss: 1.0477, grad_norm: 2.0795\n",
      "2021-03-29 12:27:21,203 - mmaction - INFO - Epoch [12][75/132]\tlr: 6.438e-02, eta: 0:24:20, time: 0.276, data_time: 0.000, memory: 7542, top1_acc: 0.6500, top5_acc: 0.9700, loss_cls: 0.9541, loss: 0.9541, grad_norm: 1.6821\n",
      "2021-03-29 12:27:28,099 - mmaction - INFO - Epoch [12][100/132]\tlr: 6.566e-02, eta: 0:24:13, time: 0.276, data_time: 0.000, memory: 7542, top1_acc: 0.6400, top5_acc: 0.9650, loss_cls: 0.9217, loss: 0.9217, grad_norm: 1.9170\n",
      "2021-03-29 12:27:35,007 - mmaction - INFO - Epoch [12][125/132]\tlr: 6.693e-02, eta: 0:24:05, time: 0.276, data_time: 0.000, memory: 7542, top1_acc: 0.6400, top5_acc: 0.9800, loss_cls: 0.9701, loss: 0.9701, grad_norm: 2.2489\n",
      "2021-03-29 12:27:36,905 - mmaction - INFO - Saving checkpoint at 12 epochs\n"
     ]
    },
    {
     "name": "stdout",
     "output_type": "stream",
     "text": [
      "[>>>>>>>>>>>>>>>>>>>>>>>>>>>>>>>>>>>>>>>>] 126/126, 7.7 task/s, elapsed: 16s, ETA:     0s"
     ]
    },
    {
     "name": "stderr",
     "output_type": "stream",
     "text": [
      "2021-03-29 12:27:53,690 - mmaction - INFO - Evaluating top_k_accuracy ...\n",
      "2021-03-29 12:27:53,692 - mmaction - INFO - \n",
      "top1_acc\t0.7857\n",
      "top5_acc\t0.9921\n",
      "2021-03-29 12:27:53,692 - mmaction - INFO - Evaluating mean_class_accuracy ...\n",
      "2021-03-29 12:27:53,694 - mmaction - INFO - \n",
      "mean_acc\t0.7857\n",
      "2021-03-29 12:27:53,694 - mmaction - INFO - Epoch(val) [12][132]\ttop1_acc: 0.7857, top5_acc: 0.9921, mean_class_accuracy: 0.7857\n",
      "2021-03-29 12:28:03,444 - mmaction - INFO - Epoch [13][25/132]\tlr: 6.855e-02, eta: 0:23:59, time: 0.390, data_time: 0.096, memory: 7542, top1_acc: 0.5400, top5_acc: 0.9350, loss_cls: 1.1494, loss: 1.1494, grad_norm: 1.7940\n",
      "2021-03-29 12:28:10,649 - mmaction - INFO - Epoch [13][50/132]\tlr: 6.979e-02, eta: 0:23:52, time: 0.288, data_time: 0.000, memory: 7542, top1_acc: 0.6300, top5_acc: 0.9650, loss_cls: 1.0300, loss: 1.0300, grad_norm: 1.6314\n",
      "2021-03-29 12:28:17,824 - mmaction - INFO - Epoch [13][75/132]\tlr: 7.103e-02, eta: 0:23:46, time: 0.287, data_time: 0.000, memory: 7542, top1_acc: 0.6400, top5_acc: 0.9500, loss_cls: 0.9833, loss: 0.9833, grad_norm: 1.6513\n",
      "2021-03-29 12:28:24,983 - mmaction - INFO - Epoch [13][100/132]\tlr: 7.225e-02, eta: 0:23:39, time: 0.286, data_time: 0.000, memory: 7542, top1_acc: 0.6650, top5_acc: 0.9650, loss_cls: 0.9118, loss: 0.9118, grad_norm: 1.6905\n",
      "2021-03-29 12:28:31,909 - mmaction - INFO - Epoch [13][125/132]\tlr: 7.345e-02, eta: 0:23:32, time: 0.277, data_time: 0.000, memory: 7542, top1_acc: 0.5700, top5_acc: 0.9400, loss_cls: 1.1806, loss: 1.1806, grad_norm: 2.0976\n",
      "2021-03-29 12:28:43,074 - mmaction - INFO - Epoch [14][25/132]\tlr: 7.497e-02, eta: 0:23:24, time: 0.374, data_time: 0.095, memory: 7542, top1_acc: 0.6000, top5_acc: 0.9700, loss_cls: 1.0810, loss: 1.0810, grad_norm: 1.7512\n",
      "2021-03-29 12:28:49,976 - mmaction - INFO - Epoch [14][50/132]\tlr: 7.614e-02, eta: 0:23:16, time: 0.276, data_time: 0.000, memory: 7542, top1_acc: 0.5850, top5_acc: 0.9500, loss_cls: 1.0712, loss: 1.0712, grad_norm: 1.7791\n",
      "2021-03-29 12:28:56,874 - mmaction - INFO - Epoch [14][75/132]\tlr: 7.729e-02, eta: 0:23:09, time: 0.276, data_time: 0.000, memory: 7542, top1_acc: 0.6100, top5_acc: 0.9050, loss_cls: 1.0776, loss: 1.0776, grad_norm: 1.5453\n",
      "2021-03-29 12:29:03,797 - mmaction - INFO - Epoch [14][100/132]\tlr: 7.842e-02, eta: 0:23:02, time: 0.277, data_time: 0.000, memory: 7542, top1_acc: 0.5350, top5_acc: 0.9350, loss_cls: 1.1994, loss: 1.1994, grad_norm: 1.5828\n",
      "2021-03-29 12:29:10,719 - mmaction - INFO - Epoch [14][125/132]\tlr: 7.953e-02, eta: 0:22:54, time: 0.277, data_time: 0.000, memory: 7542, top1_acc: 0.6350, top5_acc: 0.9400, loss_cls: 0.9671, loss: 0.9671, grad_norm: 1.4217\n"
     ]
    },
    {
     "name": "stdout",
     "output_type": "stream",
     "text": [
      "[>>>>>>>>>>>>>>>>>>>>>>>>>>>>>>>>>>>>>>>>] 126/126, 4.9 task/s, elapsed: 26s, ETA:     0s"
     ]
    },
    {
     "name": "stderr",
     "output_type": "stream",
     "text": [
      "2021-03-29 12:29:38,320 - mmaction - INFO - Evaluating top_k_accuracy ...\n",
      "2021-03-29 12:29:38,322 - mmaction - INFO - \n",
      "top1_acc\t0.7540\n",
      "top5_acc\t1.0000\n",
      "2021-03-29 12:29:38,323 - mmaction - INFO - Evaluating mean_class_accuracy ...\n",
      "2021-03-29 12:29:38,324 - mmaction - INFO - \n",
      "mean_acc\t0.7540\n",
      "2021-03-29 12:29:38,325 - mmaction - INFO - Epoch(val) [14][132]\ttop1_acc: 0.7540, top5_acc: 1.0000, mean_class_accuracy: 0.7540\n",
      "2021-03-29 12:29:47,604 - mmaction - INFO - Epoch [15][25/132]\tlr: 8.092e-02, eta: 0:22:46, time: 0.371, data_time: 0.095, memory: 7542, top1_acc: 0.6250, top5_acc: 0.9800, loss_cls: 1.1604, loss: 1.1604, grad_norm: 1.8526\n",
      "2021-03-29 12:29:54,470 - mmaction - INFO - Epoch [15][50/132]\tlr: 8.198e-02, eta: 0:22:39, time: 0.275, data_time: 0.000, memory: 7542, top1_acc: 0.6350, top5_acc: 0.9650, loss_cls: 0.9313, loss: 0.9313, grad_norm: 1.5301\n",
      "2021-03-29 12:30:01,372 - mmaction - INFO - Epoch [15][75/132]\tlr: 8.302e-02, eta: 0:22:31, time: 0.276, data_time: 0.000, memory: 7542, top1_acc: 0.6200, top5_acc: 0.9500, loss_cls: 1.0239, loss: 1.0239, grad_norm: 1.7137\n",
      "2021-03-29 12:30:08,332 - mmaction - INFO - Epoch [15][100/132]\tlr: 8.404e-02, eta: 0:22:24, time: 0.278, data_time: 0.000, memory: 7542, top1_acc: 0.6150, top5_acc: 0.9550, loss_cls: 0.9471, loss: 0.9471, grad_norm: 1.7452\n",
      "2021-03-29 12:30:15,291 - mmaction - INFO - Epoch [15][125/132]\tlr: 8.503e-02, eta: 0:22:17, time: 0.278, data_time: 0.000, memory: 7542, top1_acc: 0.5900, top5_acc: 0.9550, loss_cls: 1.0767, loss: 1.0767, grad_norm: 1.8169\n",
      "2021-03-29 12:30:26,590 - mmaction - INFO - Epoch [16][25/132]\tlr: 8.626e-02, eta: 0:22:09, time: 0.376, data_time: 0.095, memory: 7542, top1_acc: 0.6400, top5_acc: 0.9550, loss_cls: 0.9385, loss: 0.9385, grad_norm: 1.6119\n",
      "2021-03-29 12:30:33,560 - mmaction - INFO - Epoch [16][50/132]\tlr: 8.719e-02, eta: 0:22:02, time: 0.279, data_time: 0.000, memory: 7542, top1_acc: 0.6000, top5_acc: 0.9500, loss_cls: 1.0229, loss: 1.0229, grad_norm: 1.5852\n",
      "2021-03-29 12:30:40,458 - mmaction - INFO - Epoch [16][75/132]\tlr: 8.809e-02, eta: 0:21:54, time: 0.276, data_time: 0.000, memory: 7542, top1_acc: 0.6700, top5_acc: 0.9550, loss_cls: 0.8608, loss: 0.8608, grad_norm: 1.2665\n",
      "2021-03-29 12:30:47,356 - mmaction - INFO - Epoch [16][100/132]\tlr: 8.897e-02, eta: 0:21:47, time: 0.276, data_time: 0.000, memory: 7542, top1_acc: 0.6650, top5_acc: 0.9600, loss_cls: 0.8769, loss: 0.8769, grad_norm: 1.6505\n",
      "2021-03-29 12:30:54,260 - mmaction - INFO - Epoch [16][125/132]\tlr: 8.981e-02, eta: 0:21:40, time: 0.276, data_time: 0.000, memory: 7542, top1_acc: 0.5900, top5_acc: 0.9750, loss_cls: 1.0290, loss: 1.0290, grad_norm: 2.0050\n"
     ]
    },
    {
     "name": "stdout",
     "output_type": "stream",
     "text": [
      "[>>>>>>>>>>>>>>>>>>>>>>>>>>>>>>>>>>>>>>>>] 126/126, 6.6 task/s, elapsed: 19s, ETA:     0s"
     ]
    },
    {
     "name": "stderr",
     "output_type": "stream",
     "text": [
      "2021-03-29 12:31:15,268 - mmaction - INFO - Evaluating top_k_accuracy ...\n",
      "2021-03-29 12:31:15,270 - mmaction - INFO - \n",
      "top1_acc\t0.7063\n",
      "top5_acc\t0.9762\n",
      "2021-03-29 12:31:15,270 - mmaction - INFO - Evaluating mean_class_accuracy ...\n",
      "2021-03-29 12:31:15,271 - mmaction - INFO - \n",
      "mean_acc\t0.7063\n",
      "2021-03-29 12:31:15,271 - mmaction - INFO - Epoch(val) [16][132]\ttop1_acc: 0.7063, top5_acc: 0.9762, mean_class_accuracy: 0.7063\n",
      "2021-03-29 12:31:24,767 - mmaction - INFO - Epoch [17][25/132]\tlr: 9.085e-02, eta: 0:21:32, time: 0.380, data_time: 0.096, memory: 7542, top1_acc: 0.6550, top5_acc: 0.9700, loss_cls: 0.8708, loss: 0.8708, grad_norm: 1.3874\n",
      "2021-03-29 12:31:31,719 - mmaction - INFO - Epoch [17][50/132]\tlr: 9.163e-02, eta: 0:21:25, time: 0.278, data_time: 0.000, memory: 7542, top1_acc: 0.6100, top5_acc: 0.9750, loss_cls: 1.0270, loss: 1.0270, grad_norm: 1.7035\n",
      "2021-03-29 12:31:38,611 - mmaction - INFO - Epoch [17][75/132]\tlr: 9.238e-02, eta: 0:21:17, time: 0.276, data_time: 0.000, memory: 7542, top1_acc: 0.5750, top5_acc: 0.9250, loss_cls: 1.0626, loss: 1.0626, grad_norm: 1.7838\n",
      "2021-03-29 12:31:45,502 - mmaction - INFO - Epoch [17][100/132]\tlr: 9.309e-02, eta: 0:21:10, time: 0.276, data_time: 0.000, memory: 7542, top1_acc: 0.6450, top5_acc: 0.9550, loss_cls: 1.0444, loss: 1.0444, grad_norm: 1.7346\n",
      "2021-03-29 12:31:52,395 - mmaction - INFO - Epoch [17][125/132]\tlr: 9.378e-02, eta: 0:21:03, time: 0.276, data_time: 0.000, memory: 7542, top1_acc: 0.6450, top5_acc: 0.9500, loss_cls: 0.9241, loss: 0.9241, grad_norm: 1.3245\n",
      "2021-03-29 12:32:03,549 - mmaction - INFO - Epoch [18][25/132]\tlr: 9.460e-02, eta: 0:20:54, time: 0.373, data_time: 0.095, memory: 7542, top1_acc: 0.6000, top5_acc: 0.9400, loss_cls: 1.0611, loss: 1.0611, grad_norm: 1.3958\n",
      "2021-03-29 12:32:10,438 - mmaction - INFO - Epoch [18][50/132]\tlr: 9.521e-02, eta: 0:20:47, time: 0.276, data_time: 0.000, memory: 7542, top1_acc: 0.6700, top5_acc: 0.9850, loss_cls: 0.8888, loss: 0.8888, grad_norm: 1.2460\n",
      "2021-03-29 12:32:17,334 - mmaction - INFO - Epoch [18][75/132]\tlr: 9.578e-02, eta: 0:20:40, time: 0.276, data_time: 0.000, memory: 7542, top1_acc: 0.6300, top5_acc: 0.9650, loss_cls: 1.0358, loss: 1.0358, grad_norm: 1.5387\n",
      "2021-03-29 12:32:24,231 - mmaction - INFO - Epoch [18][100/132]\tlr: 9.632e-02, eta: 0:20:32, time: 0.276, data_time: 0.000, memory: 7542, top1_acc: 0.5850, top5_acc: 0.9600, loss_cls: 1.0634, loss: 1.0634, grad_norm: 1.4811\n",
      "2021-03-29 12:32:31,136 - mmaction - INFO - Epoch [18][125/132]\tlr: 9.682e-02, eta: 0:20:25, time: 0.276, data_time: 0.000, memory: 7542, top1_acc: 0.6350, top5_acc: 0.9500, loss_cls: 1.0007, loss: 1.0007, grad_norm: 1.5335\n"
     ]
    },
    {
     "name": "stdout",
     "output_type": "stream",
     "text": [
      "[>>>>>>>>>>>>>>>>>>>>>>>>>>>>>>>>>>>>>>>>] 126/126, 7.2 task/s, elapsed: 18s, ETA:     0s"
     ]
    },
    {
     "name": "stderr",
     "output_type": "stream",
     "text": [
      "2021-03-29 12:32:50,652 - mmaction - INFO - Evaluating top_k_accuracy ...\n",
      "2021-03-29 12:32:50,655 - mmaction - INFO - \n",
      "top1_acc\t0.8016\n",
      "top5_acc\t1.0000\n",
      "2021-03-29 12:32:50,655 - mmaction - INFO - Evaluating mean_class_accuracy ...\n",
      "2021-03-29 12:32:50,656 - mmaction - INFO - \n",
      "mean_acc\t0.8016\n",
      "2021-03-29 12:32:50,980 - mmaction - INFO - Now best checkpoint is saved as best_top1_acc_epoch_18.pth.\n",
      "2021-03-29 12:32:50,981 - mmaction - INFO - Best top1_acc is 0.8016 at 18 epoch.\n",
      "2021-03-29 12:32:50,982 - mmaction - INFO - Epoch(val) [18][132]\ttop1_acc: 0.8016, top5_acc: 1.0000, mean_class_accuracy: 0.8016\n",
      "2021-03-29 12:33:00,329 - mmaction - INFO - Epoch [19][25/132]\tlr: 9.741e-02, eta: 0:20:17, time: 0.374, data_time: 0.097, memory: 7542, top1_acc: 0.6100, top5_acc: 0.9600, loss_cls: 1.0305, loss: 1.0305, grad_norm: 1.4992\n",
      "2021-03-29 12:33:07,215 - mmaction - INFO - Epoch [19][50/132]\tlr: 9.783e-02, eta: 0:20:10, time: 0.275, data_time: 0.000, memory: 7542, top1_acc: 0.5650, top5_acc: 0.9700, loss_cls: 0.9985, loss: 0.9985, grad_norm: 1.6139\n",
      "2021-03-29 12:33:14,101 - mmaction - INFO - Epoch [19][75/132]\tlr: 9.822e-02, eta: 0:20:02, time: 0.275, data_time: 0.000, memory: 7542, top1_acc: 0.5700, top5_acc: 0.9550, loss_cls: 1.0418, loss: 1.0418, grad_norm: 1.5290\n",
      "2021-03-29 12:33:20,992 - mmaction - INFO - Epoch [19][100/132]\tlr: 9.856e-02, eta: 0:19:55, time: 0.276, data_time: 0.000, memory: 7542, top1_acc: 0.6450, top5_acc: 0.9550, loss_cls: 0.9028, loss: 0.9028, grad_norm: 1.7869\n",
      "2021-03-29 12:33:27,897 - mmaction - INFO - Epoch [19][125/132]\tlr: 9.888e-02, eta: 0:19:48, time: 0.276, data_time: 0.000, memory: 7542, top1_acc: 0.6150, top5_acc: 0.9450, loss_cls: 0.9456, loss: 0.9456, grad_norm: 1.4814\n",
      "2021-03-29 12:33:39,065 - mmaction - INFO - Epoch [20][25/132]\tlr: 9.922e-02, eta: 0:19:39, time: 0.373, data_time: 0.097, memory: 7542, top1_acc: 0.6050, top5_acc: 0.9800, loss_cls: 0.9866, loss: 0.9866, grad_norm: 1.7350\n",
      "2021-03-29 12:33:45,968 - mmaction - INFO - Epoch [20][50/132]\tlr: 9.944e-02, eta: 0:19:32, time: 0.276, data_time: 0.000, memory: 7542, top1_acc: 0.6200, top5_acc: 0.9550, loss_cls: 0.9605, loss: 0.9605, grad_norm: 1.2943\n",
      "2021-03-29 12:33:52,862 - mmaction - INFO - Epoch [20][75/132]\tlr: 9.963e-02, eta: 0:19:25, time: 0.276, data_time: 0.000, memory: 7542, top1_acc: 0.6300, top5_acc: 0.9550, loss_cls: 0.9161, loss: 0.9161, grad_norm: 1.5399\n",
      "2021-03-29 12:33:59,751 - mmaction - INFO - Epoch [20][100/132]\tlr: 9.978e-02, eta: 0:19:18, time: 0.276, data_time: 0.000, memory: 7542, top1_acc: 0.6500, top5_acc: 0.9650, loss_cls: 0.9982, loss: 0.9982, grad_norm: 1.4038\n",
      "2021-03-29 12:34:06,645 - mmaction - INFO - Epoch [20][125/132]\tlr: 9.989e-02, eta: 0:19:10, time: 0.276, data_time: 0.000, memory: 7542, top1_acc: 0.6950, top5_acc: 0.9750, loss_cls: 0.8380, loss: 0.8380, grad_norm: 1.5877\n"
     ]
    },
    {
     "name": "stdout",
     "output_type": "stream",
     "text": [
      "[>>>>>>>>>>>>>>>>>>>>>>>>>>>>>>>>>>>>>>>>] 126/126, 8.3 task/s, elapsed: 15s, ETA:     0s"
     ]
    },
    {
     "name": "stderr",
     "output_type": "stream",
     "text": [
      "2021-03-29 12:34:23,751 - mmaction - INFO - Evaluating top_k_accuracy ...\n",
      "2021-03-29 12:34:23,754 - mmaction - INFO - \n",
      "top1_acc\t0.8571\n",
      "top5_acc\t0.9921\n",
      "2021-03-29 12:34:23,755 - mmaction - INFO - Evaluating mean_class_accuracy ...\n",
      "2021-03-29 12:34:23,757 - mmaction - INFO - \n",
      "mean_acc\t0.8571\n",
      "2021-03-29 12:34:24,084 - mmaction - INFO - Now best checkpoint is saved as best_top1_acc_epoch_20.pth.\n",
      "2021-03-29 12:34:24,085 - mmaction - INFO - Best top1_acc is 0.8571 at 20 epoch.\n",
      "2021-03-29 12:34:24,086 - mmaction - INFO - Epoch(val) [20][132]\ttop1_acc: 0.8571, top5_acc: 0.9921, mean_class_accuracy: 0.8571\n",
      "2021-03-29 12:34:33,385 - mmaction - INFO - Epoch [21][25/132]\tlr: 9.998e-02, eta: 0:19:02, time: 0.372, data_time: 0.095, memory: 7542, top1_acc: 0.6450, top5_acc: 0.9550, loss_cls: 0.9383, loss: 0.9383, grad_norm: 1.4433\n",
      "2021-03-29 12:34:40,270 - mmaction - INFO - Epoch [21][50/132]\tlr: 1.000e-01, eta: 0:18:55, time: 0.275, data_time: 0.000, memory: 7542, top1_acc: 0.5950, top5_acc: 0.9650, loss_cls: 0.9552, loss: 0.9552, grad_norm: 1.6056\n",
      "2021-03-29 12:34:47,155 - mmaction - INFO - Epoch [21][75/132]\tlr: 9.999e-02, eta: 0:18:48, time: 0.275, data_time: 0.000, memory: 7542, top1_acc: 0.5950, top5_acc: 0.9500, loss_cls: 1.0423, loss: 1.0423, grad_norm: 1.8799\n",
      "2021-03-29 12:34:54,042 - mmaction - INFO - Epoch [21][100/132]\tlr: 9.997e-02, eta: 0:18:40, time: 0.275, data_time: 0.000, memory: 7542, top1_acc: 0.6450, top5_acc: 0.9450, loss_cls: 0.9352, loss: 0.9352, grad_norm: 1.2142\n",
      "2021-03-29 12:35:00,936 - mmaction - INFO - Epoch [21][125/132]\tlr: 9.992e-02, eta: 0:18:33, time: 0.276, data_time: 0.000, memory: 7542, top1_acc: 0.6750, top5_acc: 0.9500, loss_cls: 0.8304, loss: 0.8304, grad_norm: 1.3545\n",
      "2021-03-29 12:35:12,126 - mmaction - INFO - Epoch [22][25/132]\tlr: 9.984e-02, eta: 0:18:25, time: 0.374, data_time: 0.097, memory: 7542, top1_acc: 0.5950, top5_acc: 0.9450, loss_cls: 1.1139, loss: 1.1139, grad_norm: 1.6421\n",
      "2021-03-29 12:35:19,020 - mmaction - INFO - Epoch [22][50/132]\tlr: 9.975e-02, eta: 0:18:17, time: 0.276, data_time: 0.000, memory: 7542, top1_acc: 0.6500, top5_acc: 0.9450, loss_cls: 0.8306, loss: 0.8306, grad_norm: 1.2618\n",
      "2021-03-29 12:35:25,927 - mmaction - INFO - Epoch [22][75/132]\tlr: 9.964e-02, eta: 0:18:10, time: 0.276, data_time: 0.000, memory: 7542, top1_acc: 0.6500, top5_acc: 0.9500, loss_cls: 0.8849, loss: 0.8849, grad_norm: 1.5864\n",
      "2021-03-29 12:35:32,817 - mmaction - INFO - Epoch [22][100/132]\tlr: 9.952e-02, eta: 0:18:03, time: 0.276, data_time: 0.000, memory: 7542, top1_acc: 0.6250, top5_acc: 0.9550, loss_cls: 1.0240, loss: 1.0240, grad_norm: 1.5229\n",
      "2021-03-29 12:35:39,727 - mmaction - INFO - Epoch [22][125/132]\tlr: 9.937e-02, eta: 0:17:56, time: 0.276, data_time: 0.000, memory: 7542, top1_acc: 0.6950, top5_acc: 0.9600, loss_cls: 0.8359, loss: 0.8359, grad_norm: 1.3272\n"
     ]
    },
    {
     "name": "stdout",
     "output_type": "stream",
     "text": [
      "[>>>>>>>>>>>>>>>>>>>>>>>>>>>>>>>>>>>>>>>>] 126/126, 7.3 task/s, elapsed: 17s, ETA:     0s"
     ]
    },
    {
     "name": "stderr",
     "output_type": "stream",
     "text": [
      "2021-03-29 12:35:58,993 - mmaction - INFO - Evaluating top_k_accuracy ...\n",
      "2021-03-29 12:35:58,995 - mmaction - INFO - \n",
      "top1_acc\t0.8571\n",
      "top5_acc\t1.0000\n",
      "2021-03-29 12:35:58,995 - mmaction - INFO - Evaluating mean_class_accuracy ...\n",
      "2021-03-29 12:35:58,997 - mmaction - INFO - \n",
      "mean_acc\t0.8571\n",
      "2021-03-29 12:35:58,998 - mmaction - INFO - Epoch(val) [22][132]\ttop1_acc: 0.8571, top5_acc: 1.0000, mean_class_accuracy: 0.8571\n",
      "2021-03-29 12:36:08,389 - mmaction - INFO - Epoch [23][25/132]\tlr: 9.916e-02, eta: 0:17:47, time: 0.375, data_time: 0.097, memory: 7542, top1_acc: 0.6350, top5_acc: 0.9450, loss_cls: 1.0547, loss: 1.0547, grad_norm: 1.5259\n",
      "2021-03-29 12:36:15,277 - mmaction - INFO - Epoch [23][50/132]\tlr: 9.897e-02, eta: 0:17:40, time: 0.276, data_time: 0.000, memory: 7542, top1_acc: 0.6650, top5_acc: 0.9750, loss_cls: 0.8709, loss: 0.8709, grad_norm: 1.4287\n",
      "2021-03-29 12:36:22,169 - mmaction - INFO - Epoch [23][75/132]\tlr: 9.877e-02, eta: 0:17:33, time: 0.276, data_time: 0.000, memory: 7542, top1_acc: 0.5950, top5_acc: 0.9700, loss_cls: 1.0287, loss: 1.0287, grad_norm: 1.3994\n",
      "2021-03-29 12:36:29,068 - mmaction - INFO - Epoch [23][100/132]\tlr: 9.854e-02, eta: 0:17:26, time: 0.276, data_time: 0.000, memory: 7542, top1_acc: 0.5950, top5_acc: 0.9750, loss_cls: 0.9330, loss: 0.9330, grad_norm: 1.4386\n",
      "2021-03-29 12:36:35,969 - mmaction - INFO - Epoch [23][125/132]\tlr: 9.830e-02, eta: 0:17:19, time: 0.276, data_time: 0.000, memory: 7542, top1_acc: 0.5850, top5_acc: 0.9550, loss_cls: 1.0291, loss: 1.0291, grad_norm: 1.5332\n",
      "2021-03-29 12:36:47,154 - mmaction - INFO - Epoch [24][25/132]\tlr: 9.797e-02, eta: 0:17:10, time: 0.374, data_time: 0.097, memory: 7542, top1_acc: 0.6250, top5_acc: 0.9750, loss_cls: 0.9930, loss: 0.9930, grad_norm: 1.5583\n",
      "2021-03-29 12:36:54,047 - mmaction - INFO - Epoch [24][50/132]\tlr: 9.768e-02, eta: 0:17:03, time: 0.276, data_time: 0.000, memory: 7542, top1_acc: 0.6050, top5_acc: 0.9700, loss_cls: 0.9497, loss: 0.9497, grad_norm: 1.6586\n",
      "2021-03-29 12:37:00,951 - mmaction - INFO - Epoch [24][75/132]\tlr: 9.738e-02, eta: 0:16:56, time: 0.276, data_time: 0.000, memory: 7542, top1_acc: 0.5650, top5_acc: 0.9450, loss_cls: 1.0695, loss: 1.0695, grad_norm: 1.7685\n",
      "2021-03-29 12:37:07,861 - mmaction - INFO - Epoch [24][100/132]\tlr: 9.706e-02, eta: 0:16:49, time: 0.276, data_time: 0.000, memory: 7542, top1_acc: 0.5950, top5_acc: 0.9900, loss_cls: 0.8967, loss: 0.8967, grad_norm: 1.2119\n",
      "2021-03-29 12:37:14,775 - mmaction - INFO - Epoch [24][125/132]\tlr: 9.673e-02, eta: 0:16:42, time: 0.277, data_time: 0.000, memory: 7542, top1_acc: 0.6950, top5_acc: 0.9550, loss_cls: 0.8005, loss: 0.8005, grad_norm: 1.2580\n",
      "2021-03-29 12:37:16,611 - mmaction - INFO - Saving checkpoint at 24 epochs\n"
     ]
    },
    {
     "name": "stdout",
     "output_type": "stream",
     "text": [
      "[>>>>>>>>>>>>>>>>>>>>>>>>>>>>>>>>>>>>>>>>] 126/126, 7.9 task/s, elapsed: 16s, ETA:     0s"
     ]
    },
    {
     "name": "stderr",
     "output_type": "stream",
     "text": [
      "2021-03-29 12:37:33,029 - mmaction - INFO - Evaluating top_k_accuracy ...\n",
      "2021-03-29 12:37:33,032 - mmaction - INFO - \n",
      "top1_acc\t0.8413\n",
      "top5_acc\t1.0000\n",
      "2021-03-29 12:37:33,033 - mmaction - INFO - Evaluating mean_class_accuracy ...\n",
      "2021-03-29 12:37:33,035 - mmaction - INFO - \n",
      "mean_acc\t0.8413\n",
      "2021-03-29 12:37:33,036 - mmaction - INFO - Epoch(val) [24][132]\ttop1_acc: 0.8413, top5_acc: 1.0000, mean_class_accuracy: 0.8413\n",
      "2021-03-29 12:37:42,529 - mmaction - INFO - Epoch [25][25/132]\tlr: 9.627e-02, eta: 0:16:33, time: 0.379, data_time: 0.100, memory: 7542, top1_acc: 0.6400, top5_acc: 0.9750, loss_cls: 0.9685, loss: 0.9685, grad_norm: 1.3406\n",
      "2021-03-29 12:37:49,424 - mmaction - INFO - Epoch [25][50/132]\tlr: 9.589e-02, eta: 0:16:26, time: 0.276, data_time: 0.000, memory: 7542, top1_acc: 0.5750, top5_acc: 0.9700, loss_cls: 0.9444, loss: 0.9444, grad_norm: 1.2980\n",
      "2021-03-29 12:37:56,313 - mmaction - INFO - Epoch [25][75/132]\tlr: 9.550e-02, eta: 0:16:19, time: 0.276, data_time: 0.000, memory: 7542, top1_acc: 0.6850, top5_acc: 0.9700, loss_cls: 0.8436, loss: 0.8436, grad_norm: 1.2538\n",
      "2021-03-29 12:38:03,206 - mmaction - INFO - Epoch [25][100/132]\tlr: 9.508e-02, eta: 0:16:12, time: 0.276, data_time: 0.000, memory: 7542, top1_acc: 0.6550, top5_acc: 0.9750, loss_cls: 0.8445, loss: 0.8445, grad_norm: 1.1864\n",
      "2021-03-29 12:38:10,097 - mmaction - INFO - Epoch [25][125/132]\tlr: 9.466e-02, eta: 0:16:05, time: 0.276, data_time: 0.000, memory: 7542, top1_acc: 0.6300, top5_acc: 0.9600, loss_cls: 0.9665, loss: 0.9665, grad_norm: 1.2870\n",
      "2021-03-29 12:38:21,259 - mmaction - INFO - Epoch [26][25/132]\tlr: 9.408e-02, eta: 0:15:56, time: 0.373, data_time: 0.096, memory: 7542, top1_acc: 0.6200, top5_acc: 0.9600, loss_cls: 0.9710, loss: 0.9710, grad_norm: 1.4416\n",
      "2021-03-29 12:38:28,157 - mmaction - INFO - Epoch [26][50/132]\tlr: 9.362e-02, eta: 0:15:49, time: 0.276, data_time: 0.000, memory: 7542, top1_acc: 0.6950, top5_acc: 0.9600, loss_cls: 0.7432, loss: 0.7432, grad_norm: 1.2814\n",
      "2021-03-29 12:38:35,048 - mmaction - INFO - Epoch [26][75/132]\tlr: 9.313e-02, eta: 0:15:42, time: 0.276, data_time: 0.000, memory: 7542, top1_acc: 0.6050, top5_acc: 0.9700, loss_cls: 0.9073, loss: 0.9073, grad_norm: 1.6359\n",
      "2021-03-29 12:38:41,945 - mmaction - INFO - Epoch [26][100/132]\tlr: 9.263e-02, eta: 0:15:35, time: 0.276, data_time: 0.000, memory: 7542, top1_acc: 0.6900, top5_acc: 0.9700, loss_cls: 0.7661, loss: 0.7661, grad_norm: 1.3443\n",
      "2021-03-29 12:38:48,849 - mmaction - INFO - Epoch [26][125/132]\tlr: 9.212e-02, eta: 0:15:27, time: 0.276, data_time: 0.000, memory: 7542, top1_acc: 0.6150, top5_acc: 0.9650, loss_cls: 0.9283, loss: 0.9283, grad_norm: 1.4233\n"
     ]
    },
    {
     "name": "stdout",
     "output_type": "stream",
     "text": [
      "[>>>>>>>>>>>>>>>>>>>>>>>>>>>>>>>>>>>>>>>>] 126/126, 5.5 task/s, elapsed: 23s, ETA:     0s"
     ]
    },
    {
     "name": "stderr",
     "output_type": "stream",
     "text": [
      "2021-03-29 12:39:13,616 - mmaction - INFO - Evaluating top_k_accuracy ...\n",
      "2021-03-29 12:39:13,618 - mmaction - INFO - \n",
      "top1_acc\t0.8016\n",
      "top5_acc\t1.0000\n",
      "2021-03-29 12:39:13,619 - mmaction - INFO - Evaluating mean_class_accuracy ...\n",
      "2021-03-29 12:39:13,621 - mmaction - INFO - \n",
      "mean_acc\t0.8016\n",
      "2021-03-29 12:39:13,622 - mmaction - INFO - Epoch(val) [26][132]\ttop1_acc: 0.8016, top5_acc: 1.0000, mean_class_accuracy: 0.8016\n",
      "2021-03-29 12:39:23,141 - mmaction - INFO - Epoch [27][25/132]\tlr: 9.143e-02, eta: 0:15:19, time: 0.381, data_time: 0.096, memory: 7542, top1_acc: 0.5750, top5_acc: 0.9600, loss_cls: 1.0374, loss: 1.0374, grad_norm: 1.5633\n",
      "2021-03-29 12:39:30,041 - mmaction - INFO - Epoch [27][50/132]\tlr: 9.088e-02, eta: 0:15:12, time: 0.276, data_time: 0.000, memory: 7542, top1_acc: 0.7050, top5_acc: 0.9650, loss_cls: 0.8179, loss: 0.8179, grad_norm: 1.2858\n",
      "2021-03-29 12:39:36,928 - mmaction - INFO - Epoch [27][75/132]\tlr: 9.031e-02, eta: 0:15:05, time: 0.275, data_time: 0.000, memory: 7542, top1_acc: 0.6600, top5_acc: 0.9700, loss_cls: 0.8947, loss: 0.8947, grad_norm: 1.2944\n",
      "2021-03-29 12:39:43,815 - mmaction - INFO - Epoch [27][100/132]\tlr: 8.973e-02, eta: 0:14:58, time: 0.275, data_time: 0.000, memory: 7542, top1_acc: 0.6750, top5_acc: 0.9700, loss_cls: 0.8555, loss: 0.8555, grad_norm: 1.2609\n",
      "2021-03-29 12:39:50,703 - mmaction - INFO - Epoch [27][125/132]\tlr: 8.913e-02, eta: 0:14:50, time: 0.276, data_time: 0.000, memory: 7542, top1_acc: 0.6850, top5_acc: 0.9650, loss_cls: 0.8777, loss: 0.8777, grad_norm: 1.2621\n",
      "2021-03-29 12:40:01,825 - mmaction - INFO - Epoch [28][25/132]\tlr: 8.835e-02, eta: 0:14:42, time: 0.372, data_time: 0.095, memory: 7542, top1_acc: 0.6800, top5_acc: 0.9650, loss_cls: 0.8196, loss: 0.8196, grad_norm: 1.1795\n",
      "2021-03-29 12:40:08,717 - mmaction - INFO - Epoch [28][50/132]\tlr: 8.772e-02, eta: 0:14:35, time: 0.276, data_time: 0.000, memory: 7542, top1_acc: 0.6950, top5_acc: 0.9800, loss_cls: 0.8157, loss: 0.8157, grad_norm: 1.3065\n",
      "2021-03-29 12:40:15,629 - mmaction - INFO - Epoch [28][75/132]\tlr: 8.707e-02, eta: 0:14:28, time: 0.276, data_time: 0.000, memory: 7542, top1_acc: 0.7000, top5_acc: 0.9850, loss_cls: 0.7189, loss: 0.7189, grad_norm: 1.1782\n",
      "2021-03-29 12:40:22,532 - mmaction - INFO - Epoch [28][100/132]\tlr: 8.641e-02, eta: 0:14:20, time: 0.276, data_time: 0.000, memory: 7542, top1_acc: 0.7150, top5_acc: 0.9650, loss_cls: 0.7517, loss: 0.7517, grad_norm: 1.3273\n",
      "2021-03-29 12:40:29,437 - mmaction - INFO - Epoch [28][125/132]\tlr: 8.574e-02, eta: 0:14:13, time: 0.276, data_time: 0.000, memory: 7542, top1_acc: 0.6300, top5_acc: 0.9800, loss_cls: 0.8734, loss: 0.8734, grad_norm: 1.4158\n"
     ]
    },
    {
     "name": "stdout",
     "output_type": "stream",
     "text": [
      "[>>>>>>>>>>>>>>>>>>>>>>>>>>>>>>>>>>>>>>>>] 126/126, 6.2 task/s, elapsed: 20s, ETA:     0s"
     ]
    },
    {
     "name": "stderr",
     "output_type": "stream",
     "text": [
      "2021-03-29 12:40:51,587 - mmaction - INFO - Evaluating top_k_accuracy ...\n",
      "2021-03-29 12:40:51,589 - mmaction - INFO - \n",
      "top1_acc\t0.8016\n",
      "top5_acc\t1.0000\n",
      "2021-03-29 12:40:51,590 - mmaction - INFO - Evaluating mean_class_accuracy ...\n",
      "2021-03-29 12:40:51,592 - mmaction - INFO - \n",
      "mean_acc\t0.8016\n",
      "2021-03-29 12:40:51,593 - mmaction - INFO - Epoch(val) [28][132]\ttop1_acc: 0.8016, top5_acc: 1.0000, mean_class_accuracy: 0.8016\n",
      "2021-03-29 12:41:00,931 - mmaction - INFO - Epoch [29][25/132]\tlr: 8.486e-02, eta: 0:14:05, time: 0.373, data_time: 0.096, memory: 7542, top1_acc: 0.6900, top5_acc: 0.9850, loss_cls: 0.8418, loss: 0.8418, grad_norm: 1.3215\n",
      "2021-03-29 12:41:07,813 - mmaction - INFO - Epoch [29][50/132]\tlr: 8.415e-02, eta: 0:13:57, time: 0.275, data_time: 0.000, memory: 7542, top1_acc: 0.6900, top5_acc: 0.9750, loss_cls: 0.8487, loss: 0.8487, grad_norm: 1.4120\n",
      "2021-03-29 12:41:14,700 - mmaction - INFO - Epoch [29][75/132]\tlr: 8.344e-02, eta: 0:13:50, time: 0.275, data_time: 0.000, memory: 7542, top1_acc: 0.6250, top5_acc: 0.9700, loss_cls: 0.8689, loss: 0.8689, grad_norm: 1.2653\n",
      "2021-03-29 12:41:21,585 - mmaction - INFO - Epoch [29][100/132]\tlr: 8.271e-02, eta: 0:13:43, time: 0.275, data_time: 0.000, memory: 7542, top1_acc: 0.6650, top5_acc: 0.9800, loss_cls: 0.8060, loss: 0.8060, grad_norm: 1.3942\n",
      "2021-03-29 12:41:28,474 - mmaction - INFO - Epoch [29][125/132]\tlr: 8.197e-02, eta: 0:13:36, time: 0.276, data_time: 0.000, memory: 7542, top1_acc: 0.6750, top5_acc: 0.9600, loss_cls: 0.8251, loss: 0.8251, grad_norm: 1.4200\n",
      "2021-03-29 12:41:39,619 - mmaction - INFO - Epoch [30][25/132]\tlr: 8.100e-02, eta: 0:13:27, time: 0.373, data_time: 0.096, memory: 7542, top1_acc: 0.6800, top5_acc: 0.9750, loss_cls: 0.7662, loss: 0.7662, grad_norm: 1.2603\n",
      "2021-03-29 12:41:46,507 - mmaction - INFO - Epoch [30][50/132]\tlr: 8.023e-02, eta: 0:13:20, time: 0.276, data_time: 0.000, memory: 7542, top1_acc: 0.6600, top5_acc: 0.9600, loss_cls: 0.8187, loss: 0.8187, grad_norm: 1.3063\n",
      "2021-03-29 12:41:53,399 - mmaction - INFO - Epoch [30][75/132]\tlr: 7.945e-02, eta: 0:13:13, time: 0.276, data_time: 0.000, memory: 7542, top1_acc: 0.6950, top5_acc: 0.9750, loss_cls: 0.8337, loss: 0.8337, grad_norm: 1.2363\n",
      "2021-03-29 12:42:00,285 - mmaction - INFO - Epoch [30][100/132]\tlr: 7.866e-02, eta: 0:13:06, time: 0.275, data_time: 0.000, memory: 7542, top1_acc: 0.6550, top5_acc: 0.9500, loss_cls: 0.8373, loss: 0.8373, grad_norm: 1.2329\n",
      "2021-03-29 12:42:07,386 - mmaction - INFO - Epoch [30][125/132]\tlr: 7.786e-02, eta: 0:12:59, time: 0.284, data_time: 0.000, memory: 7542, top1_acc: 0.6750, top5_acc: 0.9450, loss_cls: 0.8893, loss: 0.8893, grad_norm: 1.0879\n"
     ]
    },
    {
     "name": "stdout",
     "output_type": "stream",
     "text": [
      "[>>>>>>>>>>>>>>>>>>>>>>>>>>>>>>>>>>>>>>>>] 126/126, 7.9 task/s, elapsed: 16s, ETA:     0s"
     ]
    },
    {
     "name": "stderr",
     "output_type": "stream",
     "text": [
      "2021-03-29 12:42:25,226 - mmaction - INFO - Evaluating top_k_accuracy ...\n",
      "2021-03-29 12:42:25,228 - mmaction - INFO - \n",
      "top1_acc\t0.6984\n",
      "top5_acc\t1.0000\n",
      "2021-03-29 12:42:25,229 - mmaction - INFO - Evaluating mean_class_accuracy ...\n",
      "2021-03-29 12:42:25,230 - mmaction - INFO - \n",
      "mean_acc\t0.6984\n",
      "2021-03-29 12:42:25,231 - mmaction - INFO - Epoch(val) [30][132]\ttop1_acc: 0.6984, top5_acc: 1.0000, mean_class_accuracy: 0.6984\n",
      "2021-03-29 12:42:34,678 - mmaction - INFO - Epoch [31][25/132]\tlr: 7.682e-02, eta: 0:12:50, time: 0.378, data_time: 0.097, memory: 7542, top1_acc: 0.6250, top5_acc: 0.9650, loss_cls: 0.9535, loss: 0.9535, grad_norm: 1.2246\n",
      "2021-03-29 12:42:41,679 - mmaction - INFO - Epoch [31][50/132]\tlr: 7.599e-02, eta: 0:12:43, time: 0.280, data_time: 0.000, memory: 7542, top1_acc: 0.5900, top5_acc: 0.9750, loss_cls: 0.8822, loss: 0.8822, grad_norm: 1.2808\n",
      "2021-03-29 12:42:49,007 - mmaction - INFO - Epoch [31][75/132]\tlr: 7.516e-02, eta: 0:12:37, time: 0.293, data_time: 0.000, memory: 7542, top1_acc: 0.6950, top5_acc: 0.9850, loss_cls: 0.8233, loss: 0.8233, grad_norm: 1.3663\n",
      "2021-03-29 12:42:56,003 - mmaction - INFO - Epoch [31][100/132]\tlr: 7.431e-02, eta: 0:12:30, time: 0.280, data_time: 0.000, memory: 7542, top1_acc: 0.6800, top5_acc: 0.9750, loss_cls: 0.7669, loss: 0.7669, grad_norm: 1.2152\n",
      "2021-03-29 12:43:02,948 - mmaction - INFO - Epoch [31][125/132]\tlr: 7.346e-02, eta: 0:12:23, time: 0.278, data_time: 0.000, memory: 7542, top1_acc: 0.6200, top5_acc: 0.9550, loss_cls: 0.9894, loss: 0.9894, grad_norm: 1.6482\n",
      "2021-03-29 12:43:14,239 - mmaction - INFO - Epoch [32][25/132]\tlr: 7.235e-02, eta: 0:12:14, time: 0.378, data_time: 0.097, memory: 7542, top1_acc: 0.6500, top5_acc: 0.9650, loss_cls: 0.8109, loss: 0.8109, grad_norm: 1.2737\n",
      "2021-03-29 12:43:21,210 - mmaction - INFO - Epoch [32][50/132]\tlr: 7.148e-02, eta: 0:12:07, time: 0.279, data_time: 0.000, memory: 7542, top1_acc: 0.5650, top5_acc: 0.9550, loss_cls: 1.1339, loss: 1.1339, grad_norm: 1.4347\n",
      "2021-03-29 12:43:28,178 - mmaction - INFO - Epoch [32][75/132]\tlr: 7.060e-02, eta: 0:12:00, time: 0.279, data_time: 0.000, memory: 7542, top1_acc: 0.6800, top5_acc: 0.9600, loss_cls: 0.7839, loss: 0.7839, grad_norm: 1.0229\n",
      "2021-03-29 12:43:35,138 - mmaction - INFO - Epoch [32][100/132]\tlr: 6.971e-02, eta: 0:11:53, time: 0.278, data_time: 0.000, memory: 7542, top1_acc: 0.7250, top5_acc: 0.9550, loss_cls: 0.7428, loss: 0.7428, grad_norm: 1.2816\n",
      "2021-03-29 12:43:42,090 - mmaction - INFO - Epoch [32][125/132]\tlr: 6.881e-02, eta: 0:11:46, time: 0.278, data_time: 0.000, memory: 7542, top1_acc: 0.6750, top5_acc: 0.9650, loss_cls: 0.8026, loss: 0.8026, grad_norm: 1.3114\n"
     ]
    },
    {
     "name": "stdout",
     "output_type": "stream",
     "text": [
      "[>>>>>>>>>>>>>>>>>>>>>>>>>>>>>>>>>>>>>>>>] 126/126, 7.4 task/s, elapsed: 17s, ETA:     0s"
     ]
    },
    {
     "name": "stderr",
     "output_type": "stream",
     "text": [
      "2021-03-29 12:44:01,109 - mmaction - INFO - Evaluating top_k_accuracy ...\n",
      "2021-03-29 12:44:01,111 - mmaction - INFO - \n",
      "top1_acc\t0.8730\n",
      "top5_acc\t1.0000\n",
      "2021-03-29 12:44:01,112 - mmaction - INFO - Evaluating mean_class_accuracy ...\n",
      "2021-03-29 12:44:01,113 - mmaction - INFO - \n",
      "mean_acc\t0.8730\n",
      "2021-03-29 12:44:01,430 - mmaction - INFO - Now best checkpoint is saved as best_top1_acc_epoch_32.pth.\n",
      "2021-03-29 12:44:01,431 - mmaction - INFO - Best top1_acc is 0.8730 at 32 epoch.\n",
      "2021-03-29 12:44:01,432 - mmaction - INFO - Epoch(val) [32][132]\ttop1_acc: 0.8730, top5_acc: 1.0000, mean_class_accuracy: 0.8730\n",
      "2021-03-29 12:44:10,830 - mmaction - INFO - Epoch [33][25/132]\tlr: 6.765e-02, eta: 0:11:37, time: 0.376, data_time: 0.096, memory: 7542, top1_acc: 0.6750, top5_acc: 0.9800, loss_cls: 0.7608, loss: 0.7608, grad_norm: 1.3078\n",
      "2021-03-29 12:44:17,767 - mmaction - INFO - Epoch [33][50/132]\tlr: 6.674e-02, eta: 0:11:30, time: 0.277, data_time: 0.000, memory: 7542, top1_acc: 0.6350, top5_acc: 0.9700, loss_cls: 0.9161, loss: 0.9161, grad_norm: 1.4679\n",
      "2021-03-29 12:44:24,679 - mmaction - INFO - Epoch [33][75/132]\tlr: 6.582e-02, eta: 0:11:23, time: 0.276, data_time: 0.000, memory: 7542, top1_acc: 0.6850, top5_acc: 0.9650, loss_cls: 0.7637, loss: 0.7637, grad_norm: 1.4960\n",
      "2021-03-29 12:44:31,603 - mmaction - INFO - Epoch [33][100/132]\tlr: 6.490e-02, eta: 0:11:16, time: 0.277, data_time: 0.000, memory: 7542, top1_acc: 0.7250, top5_acc: 0.9850, loss_cls: 0.7296, loss: 0.7296, grad_norm: 1.4642\n",
      "2021-03-29 12:44:38,527 - mmaction - INFO - Epoch [33][125/132]\tlr: 6.396e-02, eta: 0:11:09, time: 0.277, data_time: 0.000, memory: 7542, top1_acc: 0.6950, top5_acc: 0.9850, loss_cls: 0.7350, loss: 0.7350, grad_norm: 1.1867\n",
      "2021-03-29 12:44:49,739 - mmaction - INFO - Epoch [34][25/132]\tlr: 6.277e-02, eta: 0:11:00, time: 0.375, data_time: 0.097, memory: 7542, top1_acc: 0.7100, top5_acc: 0.9650, loss_cls: 0.7642, loss: 0.7642, grad_norm: 1.3346\n",
      "2021-03-29 12:44:56,667 - mmaction - INFO - Epoch [34][50/132]\tlr: 6.182e-02, eta: 0:10:53, time: 0.277, data_time: 0.000, memory: 7542, top1_acc: 0.7050, top5_acc: 0.9850, loss_cls: 0.7672, loss: 0.7672, grad_norm: 1.2373\n",
      "2021-03-29 12:45:03,594 - mmaction - INFO - Epoch [34][75/132]\tlr: 6.088e-02, eta: 0:10:46, time: 0.277, data_time: 0.000, memory: 7542, top1_acc: 0.6550, top5_acc: 0.9800, loss_cls: 0.8917, loss: 0.8917, grad_norm: 1.5933\n",
      "2021-03-29 12:45:10,515 - mmaction - INFO - Epoch [34][100/132]\tlr: 5.993e-02, eta: 0:10:39, time: 0.277, data_time: 0.000, memory: 7542, top1_acc: 0.6800, top5_acc: 0.9750, loss_cls: 0.7715, loss: 0.7715, grad_norm: 1.2121\n",
      "2021-03-29 12:45:17,440 - mmaction - INFO - Epoch [34][125/132]\tlr: 5.897e-02, eta: 0:10:32, time: 0.277, data_time: 0.000, memory: 7542, top1_acc: 0.6950, top5_acc: 0.9900, loss_cls: 0.7502, loss: 0.7502, grad_norm: 1.2166\n"
     ]
    },
    {
     "name": "stdout",
     "output_type": "stream",
     "text": [
      "[>>>>>>>>>>>>>>>>>>>>>>>>>>>>>>>>>>>>>>>>] 126/126, 6.2 task/s, elapsed: 20s, ETA:     0s"
     ]
    },
    {
     "name": "stderr",
     "output_type": "stream",
     "text": [
      "2021-03-29 12:45:39,709 - mmaction - INFO - Evaluating top_k_accuracy ...\n",
      "2021-03-29 12:45:39,711 - mmaction - INFO - \n",
      "top1_acc\t0.8016\n",
      "top5_acc\t1.0000\n",
      "2021-03-29 12:45:39,712 - mmaction - INFO - Evaluating mean_class_accuracy ...\n",
      "2021-03-29 12:45:39,713 - mmaction - INFO - \n",
      "mean_acc\t0.8016\n",
      "2021-03-29 12:45:39,714 - mmaction - INFO - Epoch(val) [34][132]\ttop1_acc: 0.8016, top5_acc: 1.0000, mean_class_accuracy: 0.8016\n",
      "2021-03-29 12:45:49,041 - mmaction - INFO - Epoch [35][25/132]\tlr: 5.774e-02, eta: 0:10:23, time: 0.373, data_time: 0.095, memory: 7542, top1_acc: 0.7150, top5_acc: 0.9750, loss_cls: 0.7551, loss: 0.7551, grad_norm: 1.3288\n",
      "2021-03-29 12:45:55,947 - mmaction - INFO - Epoch [35][50/132]\tlr: 5.678e-02, eta: 0:10:16, time: 0.276, data_time: 0.000, memory: 7542, top1_acc: 0.6100, top5_acc: 0.9800, loss_cls: 0.9415, loss: 0.9415, grad_norm: 1.4335\n",
      "2021-03-29 12:46:02,847 - mmaction - INFO - Epoch [35][75/132]\tlr: 5.582e-02, eta: 0:10:09, time: 0.276, data_time: 0.000, memory: 7542, top1_acc: 0.6900, top5_acc: 0.9800, loss_cls: 0.7707, loss: 0.7707, grad_norm: 1.2507\n",
      "2021-03-29 12:46:09,746 - mmaction - INFO - Epoch [35][100/132]\tlr: 5.485e-02, eta: 0:10:01, time: 0.276, data_time: 0.000, memory: 7542, top1_acc: 0.6750, top5_acc: 0.9500, loss_cls: 0.8309, loss: 0.8309, grad_norm: 1.2666\n",
      "2021-03-29 12:46:16,657 - mmaction - INFO - Epoch [35][125/132]\tlr: 5.388e-02, eta: 0:09:54, time: 0.276, data_time: 0.000, memory: 7542, top1_acc: 0.6600, top5_acc: 0.9700, loss_cls: 0.8491, loss: 0.8491, grad_norm: 1.1505\n",
      "2021-03-29 12:46:27,788 - mmaction - INFO - Epoch [36][25/132]\tlr: 5.264e-02, eta: 0:09:46, time: 0.372, data_time: 0.095, memory: 7542, top1_acc: 0.7100, top5_acc: 0.9700, loss_cls: 0.7949, loss: 0.7949, grad_norm: 1.0499\n",
      "2021-03-29 12:46:34,686 - mmaction - INFO - Epoch [36][50/132]\tlr: 5.167e-02, eta: 0:09:39, time: 0.276, data_time: 0.000, memory: 7542, top1_acc: 0.6350, top5_acc: 0.9750, loss_cls: 0.8894, loss: 0.8894, grad_norm: 1.3446\n",
      "2021-03-29 12:46:41,585 - mmaction - INFO - Epoch [36][75/132]\tlr: 5.070e-02, eta: 0:09:31, time: 0.276, data_time: 0.000, memory: 7542, top1_acc: 0.7050, top5_acc: 0.9650, loss_cls: 0.7577, loss: 0.7577, grad_norm: 1.0177\n",
      "2021-03-29 12:46:48,493 - mmaction - INFO - Epoch [36][100/132]\tlr: 4.973e-02, eta: 0:09:24, time: 0.276, data_time: 0.000, memory: 7542, top1_acc: 0.7500, top5_acc: 0.9900, loss_cls: 0.7122, loss: 0.7122, grad_norm: 1.2191\n",
      "2021-03-29 12:46:55,394 - mmaction - INFO - Epoch [36][125/132]\tlr: 4.876e-02, eta: 0:09:17, time: 0.276, data_time: 0.000, memory: 7542, top1_acc: 0.6850, top5_acc: 0.9800, loss_cls: 0.7861, loss: 0.7861, grad_norm: 1.2918\n",
      "2021-03-29 12:46:57,227 - mmaction - INFO - Saving checkpoint at 36 epochs\n"
     ]
    },
    {
     "name": "stdout",
     "output_type": "stream",
     "text": [
      "[>>>>>>>>>>>>>>>>>>>>>>>>>>>>>>>>>>>>>>>>] 126/126, 7.8 task/s, elapsed: 16s, ETA:     0s"
     ]
    },
    {
     "name": "stderr",
     "output_type": "stream",
     "text": [
      "2021-03-29 12:47:13,822 - mmaction - INFO - Evaluating top_k_accuracy ...\n",
      "2021-03-29 12:47:13,824 - mmaction - INFO - \n",
      "top1_acc\t0.7778\n",
      "top5_acc\t1.0000\n",
      "2021-03-29 12:47:13,824 - mmaction - INFO - Evaluating mean_class_accuracy ...\n",
      "2021-03-29 12:47:13,826 - mmaction - INFO - \n",
      "mean_acc\t0.7778\n",
      "2021-03-29 12:47:13,827 - mmaction - INFO - Epoch(val) [36][132]\ttop1_acc: 0.7778, top5_acc: 1.0000, mean_class_accuracy: 0.7778\n",
      "2021-03-29 12:47:23,158 - mmaction - INFO - Epoch [37][25/132]\tlr: 4.751e-02, eta: 0:09:08, time: 0.373, data_time: 0.096, memory: 7542, top1_acc: 0.7100, top5_acc: 0.9750, loss_cls: 0.7372, loss: 0.7372, grad_norm: 1.1137\n",
      "2021-03-29 12:47:30,048 - mmaction - INFO - Epoch [37][50/132]\tlr: 4.654e-02, eta: 0:09:01, time: 0.276, data_time: 0.000, memory: 7542, top1_acc: 0.7350, top5_acc: 0.9700, loss_cls: 0.6571, loss: 0.6571, grad_norm: 1.0894\n",
      "2021-03-29 12:47:36,945 - mmaction - INFO - Epoch [37][75/132]\tlr: 4.557e-02, eta: 0:08:54, time: 0.276, data_time: 0.000, memory: 7542, top1_acc: 0.7400, top5_acc: 0.9800, loss_cls: 0.6838, loss: 0.6838, grad_norm: 1.1417\n",
      "2021-03-29 12:47:43,844 - mmaction - INFO - Epoch [37][100/132]\tlr: 4.461e-02, eta: 0:08:47, time: 0.276, data_time: 0.000, memory: 7542, top1_acc: 0.6750, top5_acc: 0.9650, loss_cls: 0.8338, loss: 0.8338, grad_norm: 1.3346\n",
      "2021-03-29 12:47:50,751 - mmaction - INFO - Epoch [37][125/132]\tlr: 4.364e-02, eta: 0:08:40, time: 0.276, data_time: 0.000, memory: 7542, top1_acc: 0.7300, top5_acc: 0.9850, loss_cls: 0.6805, loss: 0.6805, grad_norm: 1.1223\n",
      "2021-03-29 12:48:01,900 - mmaction - INFO - Epoch [38][25/132]\tlr: 4.241e-02, eta: 0:08:31, time: 0.373, data_time: 0.096, memory: 7542, top1_acc: 0.6600, top5_acc: 0.9800, loss_cls: 0.8494, loss: 0.8494, grad_norm: 1.2582\n",
      "2021-03-29 12:48:08,793 - mmaction - INFO - Epoch [38][50/132]\tlr: 4.145e-02, eta: 0:08:24, time: 0.276, data_time: 0.000, memory: 7542, top1_acc: 0.7600, top5_acc: 0.9700, loss_cls: 0.6564, loss: 0.6564, grad_norm: 1.0647\n",
      "2021-03-29 12:48:15,681 - mmaction - INFO - Epoch [38][75/132]\tlr: 4.049e-02, eta: 0:08:17, time: 0.276, data_time: 0.000, memory: 7542, top1_acc: 0.6850, top5_acc: 0.9800, loss_cls: 0.7269, loss: 0.7269, grad_norm: 1.2545\n",
      "2021-03-29 12:48:22,577 - mmaction - INFO - Epoch [38][100/132]\tlr: 3.954e-02, eta: 0:08:10, time: 0.276, data_time: 0.000, memory: 7542, top1_acc: 0.6750, top5_acc: 0.9750, loss_cls: 0.8544, loss: 0.8544, grad_norm: 1.4065\n",
      "2021-03-29 12:48:29,478 - mmaction - INFO - Epoch [38][125/132]\tlr: 3.859e-02, eta: 0:08:03, time: 0.276, data_time: 0.000, memory: 7542, top1_acc: 0.7350, top5_acc: 0.9650, loss_cls: 0.7304, loss: 0.7304, grad_norm: 1.1216\n"
     ]
    },
    {
     "name": "stdout",
     "output_type": "stream",
     "text": [
      "[>>>>>>>>>>>>>>>>>>>>>>>>>>>>>>>>>>>>>>>>] 126/126, 8.2 task/s, elapsed: 15s, ETA:     0s"
     ]
    },
    {
     "name": "stderr",
     "output_type": "stream",
     "text": [
      "2021-03-29 12:48:46,678 - mmaction - INFO - Evaluating top_k_accuracy ...\n",
      "2021-03-29 12:48:46,679 - mmaction - INFO - \n",
      "top1_acc\t0.8889\n",
      "top5_acc\t1.0000\n",
      "2021-03-29 12:48:46,680 - mmaction - INFO - Evaluating mean_class_accuracy ...\n",
      "2021-03-29 12:48:46,681 - mmaction - INFO - \n",
      "mean_acc\t0.8889\n",
      "2021-03-29 12:48:46,987 - mmaction - INFO - Now best checkpoint is saved as best_top1_acc_epoch_38.pth.\n",
      "2021-03-29 12:48:46,988 - mmaction - INFO - Best top1_acc is 0.8889 at 38 epoch.\n",
      "2021-03-29 12:48:46,988 - mmaction - INFO - Epoch(val) [38][132]\ttop1_acc: 0.8889, top5_acc: 1.0000, mean_class_accuracy: 0.8889\n",
      "2021-03-29 12:48:56,353 - mmaction - INFO - Epoch [39][25/132]\tlr: 3.738e-02, eta: 0:07:54, time: 0.374, data_time: 0.098, memory: 7542, top1_acc: 0.7200, top5_acc: 0.9800, loss_cls: 0.7111, loss: 0.7111, grad_norm: 1.0545\n",
      "2021-03-29 12:49:03,252 - mmaction - INFO - Epoch [39][50/132]\tlr: 3.645e-02, eta: 0:07:47, time: 0.276, data_time: 0.000, memory: 7542, top1_acc: 0.7000, top5_acc: 0.9800, loss_cls: 0.6746, loss: 0.6746, grad_norm: 1.3612\n",
      "2021-03-29 12:49:10,143 - mmaction - INFO - Epoch [39][75/132]\tlr: 3.551e-02, eta: 0:07:40, time: 0.276, data_time: 0.000, memory: 7542, top1_acc: 0.7150, top5_acc: 0.9800, loss_cls: 0.7297, loss: 0.7297, grad_norm: 1.4894\n",
      "2021-03-29 12:49:17,040 - mmaction - INFO - Epoch [39][100/132]\tlr: 3.459e-02, eta: 0:07:33, time: 0.276, data_time: 0.000, memory: 7542, top1_acc: 0.7000, top5_acc: 0.9800, loss_cls: 0.7431, loss: 0.7431, grad_norm: 1.4003\n",
      "2021-03-29 12:49:23,952 - mmaction - INFO - Epoch [39][125/132]\tlr: 3.366e-02, eta: 0:07:26, time: 0.276, data_time: 0.000, memory: 7542, top1_acc: 0.7050, top5_acc: 0.9800, loss_cls: 0.7211, loss: 0.7211, grad_norm: 1.2026\n",
      "2021-03-29 12:49:35,093 - mmaction - INFO - Epoch [40][25/132]\tlr: 3.249e-02, eta: 0:07:17, time: 0.373, data_time: 0.096, memory: 7542, top1_acc: 0.7200, top5_acc: 0.9700, loss_cls: 0.7021, loss: 0.7021, grad_norm: 1.2591\n",
      "2021-03-29 12:49:41,988 - mmaction - INFO - Epoch [40][50/132]\tlr: 3.159e-02, eta: 0:07:10, time: 0.276, data_time: 0.000, memory: 7542, top1_acc: 0.7000, top5_acc: 0.9650, loss_cls: 0.6954, loss: 0.6954, grad_norm: 1.1760\n",
      "2021-03-29 12:49:48,883 - mmaction - INFO - Epoch [40][75/132]\tlr: 3.069e-02, eta: 0:07:03, time: 0.276, data_time: 0.000, memory: 7542, top1_acc: 0.7100, top5_acc: 0.9700, loss_cls: 0.7019, loss: 0.7019, grad_norm: 1.3349\n",
      "2021-03-29 12:49:55,777 - mmaction - INFO - Epoch [40][100/132]\tlr: 2.979e-02, eta: 0:06:56, time: 0.276, data_time: 0.000, memory: 7542, top1_acc: 0.6600, top5_acc: 0.9750, loss_cls: 0.7911, loss: 0.7911, grad_norm: 1.3430\n",
      "2021-03-29 12:50:02,678 - mmaction - INFO - Epoch [40][125/132]\tlr: 2.891e-02, eta: 0:06:49, time: 0.276, data_time: 0.000, memory: 7542, top1_acc: 0.7150, top5_acc: 0.9650, loss_cls: 0.7520, loss: 0.7520, grad_norm: 1.1901\n"
     ]
    },
    {
     "name": "stdout",
     "output_type": "stream",
     "text": [
      "[>>>>>>>>>>>>>>>>>>>>>>>>>>>>>>>>>>>>>>>>] 126/126, 5.9 task/s, elapsed: 21s, ETA:     0s"
     ]
    },
    {
     "name": "stderr",
     "output_type": "stream",
     "text": [
      "2021-03-29 12:50:25,956 - mmaction - INFO - Evaluating top_k_accuracy ...\n",
      "2021-03-29 12:50:25,958 - mmaction - INFO - \n",
      "top1_acc\t0.8968\n",
      "top5_acc\t1.0000\n",
      "2021-03-29 12:50:25,959 - mmaction - INFO - Evaluating mean_class_accuracy ...\n",
      "2021-03-29 12:50:25,960 - mmaction - INFO - \n",
      "mean_acc\t0.8968\n",
      "2021-03-29 12:50:26,280 - mmaction - INFO - Now best checkpoint is saved as best_top1_acc_epoch_40.pth.\n",
      "2021-03-29 12:50:26,281 - mmaction - INFO - Best top1_acc is 0.8968 at 40 epoch.\n",
      "2021-03-29 12:50:26,282 - mmaction - INFO - Epoch(val) [40][132]\ttop1_acc: 0.8968, top5_acc: 1.0000, mean_class_accuracy: 0.8968\n",
      "2021-03-29 12:50:35,651 - mmaction - INFO - Epoch [41][25/132]\tlr: 2.779e-02, eta: 0:06:40, time: 0.375, data_time: 0.098, memory: 7542, top1_acc: 0.7900, top5_acc: 0.9800, loss_cls: 0.6404, loss: 0.6404, grad_norm: 1.0543\n",
      "2021-03-29 12:50:42,536 - mmaction - INFO - Epoch [41][50/132]\tlr: 2.692e-02, eta: 0:06:33, time: 0.275, data_time: 0.000, memory: 7542, top1_acc: 0.7050, top5_acc: 0.9600, loss_cls: 0.7288, loss: 0.7288, grad_norm: 1.1548\n",
      "2021-03-29 12:50:49,437 - mmaction - INFO - Epoch [41][75/132]\tlr: 2.606e-02, eta: 0:06:26, time: 0.276, data_time: 0.000, memory: 7542, top1_acc: 0.7050, top5_acc: 0.9550, loss_cls: 0.8225, loss: 0.8225, grad_norm: 1.1756\n",
      "2021-03-29 12:50:56,323 - mmaction - INFO - Epoch [41][100/132]\tlr: 2.521e-02, eta: 0:06:19, time: 0.275, data_time: 0.000, memory: 7542, top1_acc: 0.7350, top5_acc: 0.9850, loss_cls: 0.6713, loss: 0.6713, grad_norm: 1.0980\n",
      "2021-03-29 12:51:03,213 - mmaction - INFO - Epoch [41][125/132]\tlr: 2.437e-02, eta: 0:06:12, time: 0.276, data_time: 0.000, memory: 7542, top1_acc: 0.7800, top5_acc: 0.9900, loss_cls: 0.5738, loss: 0.5738, grad_norm: 0.9121\n",
      "2021-03-29 12:51:14,360 - mmaction - INFO - Epoch [42][25/132]\tlr: 2.331e-02, eta: 0:06:03, time: 0.373, data_time: 0.095, memory: 7542, top1_acc: 0.6850, top5_acc: 0.9700, loss_cls: 0.7901, loss: 0.7901, grad_norm: 1.2706\n",
      "2021-03-29 12:51:21,257 - mmaction - INFO - Epoch [42][50/132]\tlr: 2.250e-02, eta: 0:05:56, time: 0.276, data_time: 0.000, memory: 7542, top1_acc: 0.7100, top5_acc: 0.9750, loss_cls: 0.6980, loss: 0.6980, grad_norm: 1.1228\n",
      "2021-03-29 12:51:28,159 - mmaction - INFO - Epoch [42][75/132]\tlr: 2.169e-02, eta: 0:05:49, time: 0.276, data_time: 0.000, memory: 7542, top1_acc: 0.7600, top5_acc: 0.9650, loss_cls: 0.5942, loss: 0.5942, grad_norm: 1.0570\n",
      "2021-03-29 12:51:35,050 - mmaction - INFO - Epoch [42][100/132]\tlr: 2.089e-02, eta: 0:05:42, time: 0.276, data_time: 0.000, memory: 7542, top1_acc: 0.7400, top5_acc: 0.9850, loss_cls: 0.6808, loss: 0.6808, grad_norm: 1.1553\n",
      "2021-03-29 12:51:41,945 - mmaction - INFO - Epoch [42][125/132]\tlr: 2.011e-02, eta: 0:05:35, time: 0.276, data_time: 0.000, memory: 7542, top1_acc: 0.8150, top5_acc: 0.9950, loss_cls: 0.5567, loss: 0.5567, grad_norm: 1.0294\n"
     ]
    },
    {
     "name": "stdout",
     "output_type": "stream",
     "text": [
      "[>>>>>>>>>>>>>>>>>>>>>>>>>>>>>>>>>>>>>>>>] 126/126, 7.3 task/s, elapsed: 17s, ETA:     0s"
     ]
    },
    {
     "name": "stderr",
     "output_type": "stream",
     "text": [
      "2021-03-29 12:52:01,100 - mmaction - INFO - Evaluating top_k_accuracy ...\n",
      "2021-03-29 12:52:01,101 - mmaction - INFO - \n",
      "top1_acc\t0.9206\n",
      "top5_acc\t1.0000\n",
      "2021-03-29 12:52:01,102 - mmaction - INFO - Evaluating mean_class_accuracy ...\n",
      "2021-03-29 12:52:01,103 - mmaction - INFO - \n",
      "mean_acc\t0.9206\n",
      "2021-03-29 12:52:01,409 - mmaction - INFO - Now best checkpoint is saved as best_top1_acc_epoch_42.pth.\n",
      "2021-03-29 12:52:01,410 - mmaction - INFO - Best top1_acc is 0.9206 at 42 epoch.\n",
      "2021-03-29 12:52:01,411 - mmaction - INFO - Epoch(val) [42][132]\ttop1_acc: 0.9206, top5_acc: 1.0000, mean_class_accuracy: 0.9206\n",
      "2021-03-29 12:52:10,768 - mmaction - INFO - Epoch [43][25/132]\tlr: 1.912e-02, eta: 0:05:26, time: 0.374, data_time: 0.098, memory: 7542, top1_acc: 0.7450, top5_acc: 0.9950, loss_cls: 0.5536, loss: 0.5536, grad_norm: 1.0520\n",
      "2021-03-29 12:52:17,707 - mmaction - INFO - Epoch [43][50/132]\tlr: 1.836e-02, eta: 0:05:19, time: 0.278, data_time: 0.000, memory: 7542, top1_acc: 0.7400, top5_acc: 0.9800, loss_cls: 0.7048, loss: 0.7048, grad_norm: 1.0717\n",
      "2021-03-29 12:52:24,609 - mmaction - INFO - Epoch [43][75/132]\tlr: 1.762e-02, eta: 0:05:12, time: 0.276, data_time: 0.000, memory: 7542, top1_acc: 0.7600, top5_acc: 0.9950, loss_cls: 0.6585, loss: 0.6585, grad_norm: 1.3757\n",
      "2021-03-29 12:52:31,501 - mmaction - INFO - Epoch [43][100/132]\tlr: 1.688e-02, eta: 0:05:05, time: 0.276, data_time: 0.000, memory: 7542, top1_acc: 0.7100, top5_acc: 0.9750, loss_cls: 0.8013, loss: 0.8013, grad_norm: 1.3324\n",
      "2021-03-29 12:52:38,401 - mmaction - INFO - Epoch [43][125/132]\tlr: 1.616e-02, eta: 0:04:58, time: 0.276, data_time: 0.000, memory: 7542, top1_acc: 0.6850, top5_acc: 0.9650, loss_cls: 0.7740, loss: 0.7740, grad_norm: 1.2242\n",
      "2021-03-29 12:52:49,565 - mmaction - INFO - Epoch [44][25/132]\tlr: 1.525e-02, eta: 0:04:49, time: 0.373, data_time: 0.096, memory: 7542, top1_acc: 0.7300, top5_acc: 0.9950, loss_cls: 0.6254, loss: 0.6254, grad_norm: 1.1622\n",
      "2021-03-29 12:52:56,472 - mmaction - INFO - Epoch [44][50/132]\tlr: 1.456e-02, eta: 0:04:42, time: 0.276, data_time: 0.000, memory: 7542, top1_acc: 0.7400, top5_acc: 0.9950, loss_cls: 0.6008, loss: 0.6008, grad_norm: 1.0857\n",
      "2021-03-29 12:53:03,367 - mmaction - INFO - Epoch [44][75/132]\tlr: 1.388e-02, eta: 0:04:35, time: 0.276, data_time: 0.000, memory: 7542, top1_acc: 0.7750, top5_acc: 0.9750, loss_cls: 0.6031, loss: 0.6031, grad_norm: 1.2765\n",
      "2021-03-29 12:53:10,261 - mmaction - INFO - Epoch [44][100/132]\tlr: 1.322e-02, eta: 0:04:28, time: 0.276, data_time: 0.000, memory: 7542, top1_acc: 0.6950, top5_acc: 0.9500, loss_cls: 0.7259, loss: 0.7259, grad_norm: 1.3194\n",
      "2021-03-29 12:53:17,167 - mmaction - INFO - Epoch [44][125/132]\tlr: 1.257e-02, eta: 0:04:21, time: 0.276, data_time: 0.000, memory: 7542, top1_acc: 0.7300, top5_acc: 0.9950, loss_cls: 0.7302, loss: 0.7302, grad_norm: 1.4291\n"
     ]
    },
    {
     "name": "stdout",
     "output_type": "stream",
     "text": [
      "[>>>>>>>>>>>>>>>>>>>>>>>>>>>>>>>>>>>>>>>>] 126/126, 8.3 task/s, elapsed: 15s, ETA:     0s"
     ]
    },
    {
     "name": "stderr",
     "output_type": "stream",
     "text": [
      "2021-03-29 12:53:34,189 - mmaction - INFO - Evaluating top_k_accuracy ...\n",
      "2021-03-29 12:53:34,191 - mmaction - INFO - \n",
      "top1_acc\t0.9365\n",
      "top5_acc\t1.0000\n",
      "2021-03-29 12:53:34,192 - mmaction - INFO - Evaluating mean_class_accuracy ...\n",
      "2021-03-29 12:53:34,194 - mmaction - INFO - \n",
      "mean_acc\t0.9365\n",
      "2021-03-29 12:53:34,515 - mmaction - INFO - Now best checkpoint is saved as best_top1_acc_epoch_44.pth.\n",
      "2021-03-29 12:53:34,516 - mmaction - INFO - Best top1_acc is 0.9365 at 44 epoch.\n",
      "2021-03-29 12:53:34,516 - mmaction - INFO - Epoch(val) [44][132]\ttop1_acc: 0.9365, top5_acc: 1.0000, mean_class_accuracy: 0.9365\n",
      "2021-03-29 12:53:43,861 - mmaction - INFO - Epoch [45][25/132]\tlr: 1.175e-02, eta: 0:04:12, time: 0.374, data_time: 0.097, memory: 7542, top1_acc: 0.7250, top5_acc: 0.9750, loss_cls: 0.7311, loss: 0.7311, grad_norm: 1.2606\n",
      "2021-03-29 12:53:50,752 - mmaction - INFO - Epoch [45][50/132]\tlr: 1.113e-02, eta: 0:04:05, time: 0.276, data_time: 0.000, memory: 7542, top1_acc: 0.6950, top5_acc: 0.9900, loss_cls: 0.7231, loss: 0.7231, grad_norm: 1.0746\n",
      "2021-03-29 12:53:57,649 - mmaction - INFO - Epoch [45][75/132]\tlr: 1.053e-02, eta: 0:03:58, time: 0.276, data_time: 0.000, memory: 7542, top1_acc: 0.7300, top5_acc: 0.9900, loss_cls: 0.6016, loss: 0.6016, grad_norm: 1.0683\n",
      "2021-03-29 12:54:04,543 - mmaction - INFO - Epoch [45][100/132]\tlr: 9.941e-03, eta: 0:03:51, time: 0.276, data_time: 0.000, memory: 7542, top1_acc: 0.7150, top5_acc: 0.9800, loss_cls: 0.7133, loss: 0.7133, grad_norm: 1.3340\n",
      "2021-03-29 12:54:11,452 - mmaction - INFO - Epoch [45][125/132]\tlr: 9.367e-03, eta: 0:03:44, time: 0.276, data_time: 0.000, memory: 7542, top1_acc: 0.7050, top5_acc: 0.9800, loss_cls: 0.7365, loss: 0.7365, grad_norm: 1.2877\n",
      "2021-03-29 12:54:22,619 - mmaction - INFO - Epoch [46][25/132]\tlr: 8.655e-03, eta: 0:03:35, time: 0.373, data_time: 0.096, memory: 7542, top1_acc: 0.7700, top5_acc: 0.9850, loss_cls: 0.5569, loss: 0.5569, grad_norm: 1.0856\n",
      "2021-03-29 12:54:29,525 - mmaction - INFO - Epoch [46][50/132]\tlr: 8.116e-03, eta: 0:03:28, time: 0.276, data_time: 0.000, memory: 7542, top1_acc: 0.7050, top5_acc: 0.9800, loss_cls: 0.6689, loss: 0.6689, grad_norm: 1.2185\n",
      "2021-03-29 12:54:36,416 - mmaction - INFO - Epoch [46][75/132]\tlr: 7.593e-03, eta: 0:03:21, time: 0.276, data_time: 0.000, memory: 7542, top1_acc: 0.6950, top5_acc: 0.9650, loss_cls: 0.7452, loss: 0.7452, grad_norm: 1.3518\n",
      "2021-03-29 12:54:43,310 - mmaction - INFO - Epoch [46][100/132]\tlr: 7.086e-03, eta: 0:03:14, time: 0.276, data_time: 0.000, memory: 7542, top1_acc: 0.7650, top5_acc: 0.9700, loss_cls: 0.5646, loss: 0.5646, grad_norm: 1.0445\n",
      "2021-03-29 12:54:50,205 - mmaction - INFO - Epoch [46][125/132]\tlr: 6.596e-03, eta: 0:03:07, time: 0.276, data_time: 0.000, memory: 7542, top1_acc: 0.7650, top5_acc: 0.9700, loss_cls: 0.6401, loss: 0.6401, grad_norm: 1.1602\n"
     ]
    },
    {
     "name": "stdout",
     "output_type": "stream",
     "text": [
      "[>>>>>>>>>>>>>>>>>>>>>>>>>>>>>>>>>>>>>>>>] 126/126, 4.5 task/s, elapsed: 28s, ETA:     0s"
     ]
    },
    {
     "name": "stderr",
     "output_type": "stream",
     "text": [
      "2021-03-29 12:55:20,084 - mmaction - INFO - Evaluating top_k_accuracy ...\n",
      "2021-03-29 12:55:20,086 - mmaction - INFO - \n",
      "top1_acc\t0.9048\n",
      "top5_acc\t1.0000\n",
      "2021-03-29 12:55:20,086 - mmaction - INFO - Evaluating mean_class_accuracy ...\n",
      "2021-03-29 12:55:20,088 - mmaction - INFO - \n",
      "mean_acc\t0.9048\n",
      "2021-03-29 12:55:20,089 - mmaction - INFO - Epoch(val) [46][132]\ttop1_acc: 0.9048, top5_acc: 1.0000, mean_class_accuracy: 0.9048\n",
      "2021-03-29 12:55:29,408 - mmaction - INFO - Epoch [47][25/132]\tlr: 5.991e-03, eta: 0:02:58, time: 0.373, data_time: 0.096, memory: 7542, top1_acc: 0.7600, top5_acc: 0.9700, loss_cls: 0.6438, loss: 0.6438, grad_norm: 1.1836\n",
      "2021-03-29 12:55:36,285 - mmaction - INFO - Epoch [47][50/132]\tlr: 5.538e-03, eta: 0:02:51, time: 0.275, data_time: 0.000, memory: 7542, top1_acc: 0.6950, top5_acc: 0.9750, loss_cls: 0.6791, loss: 0.6791, grad_norm: 1.2062\n",
      "2021-03-29 12:55:43,171 - mmaction - INFO - Epoch [47][75/132]\tlr: 5.102e-03, eta: 0:02:44, time: 0.275, data_time: 0.000, memory: 7542, top1_acc: 0.7750, top5_acc: 0.9850, loss_cls: 0.5889, loss: 0.5889, grad_norm: 1.2161\n",
      "2021-03-29 12:55:50,055 - mmaction - INFO - Epoch [47][100/132]\tlr: 4.683e-03, eta: 0:02:37, time: 0.275, data_time: 0.000, memory: 7542, top1_acc: 0.8050, top5_acc: 0.9850, loss_cls: 0.6002, loss: 0.6002, grad_norm: 1.1757\n",
      "2021-03-29 12:55:56,941 - mmaction - INFO - Epoch [47][125/132]\tlr: 4.281e-03, eta: 0:02:30, time: 0.275, data_time: 0.000, memory: 7542, top1_acc: 0.7650, top5_acc: 0.9750, loss_cls: 0.5336, loss: 0.5336, grad_norm: 1.1228\n",
      "2021-03-29 12:56:08,100 - mmaction - INFO - Epoch [48][25/132]\tlr: 3.791e-03, eta: 0:02:21, time: 0.373, data_time: 0.097, memory: 7542, top1_acc: 0.7800, top5_acc: 0.9750, loss_cls: 0.5768, loss: 0.5768, grad_norm: 1.0639\n",
      "2021-03-29 12:56:14,982 - mmaction - INFO - Epoch [48][50/132]\tlr: 3.429e-03, eta: 0:02:14, time: 0.275, data_time: 0.000, memory: 7542, top1_acc: 0.7450, top5_acc: 0.9850, loss_cls: 0.6117, loss: 0.6117, grad_norm: 1.3891\n",
      "2021-03-29 12:56:21,869 - mmaction - INFO - Epoch [48][75/132]\tlr: 3.084e-03, eta: 0:02:07, time: 0.275, data_time: 0.000, memory: 7542, top1_acc: 0.7650, top5_acc: 0.9750, loss_cls: 0.5846, loss: 0.5846, grad_norm: 1.2654\n",
      "2021-03-29 12:56:28,768 - mmaction - INFO - Epoch [48][100/132]\tlr: 2.757e-03, eta: 0:02:00, time: 0.276, data_time: 0.000, memory: 7542, top1_acc: 0.7500, top5_acc: 0.9650, loss_cls: 0.6421, loss: 0.6421, grad_norm: 1.1038\n",
      "2021-03-29 12:56:35,659 - mmaction - INFO - Epoch [48][125/132]\tlr: 2.447e-03, eta: 0:01:53, time: 0.276, data_time: 0.000, memory: 7542, top1_acc: 0.7950, top5_acc: 0.9900, loss_cls: 0.5121, loss: 0.5121, grad_norm: 1.2533\n",
      "2021-03-29 12:56:37,478 - mmaction - INFO - Saving checkpoint at 48 epochs\n"
     ]
    },
    {
     "name": "stdout",
     "output_type": "stream",
     "text": [
      "[>>>>>>>>>>>>>>>>>>>>>>>>>>>>>>>>>>>>>>>>] 126/126, 8.3 task/s, elapsed: 15s, ETA:     0s"
     ]
    },
    {
     "name": "stderr",
     "output_type": "stream",
     "text": [
      "2021-03-29 12:56:53,000 - mmaction - INFO - Evaluating top_k_accuracy ...\n",
      "2021-03-29 12:56:53,002 - mmaction - INFO - \n",
      "top1_acc\t0.9444\n",
      "top5_acc\t1.0000\n",
      "2021-03-29 12:56:53,002 - mmaction - INFO - Evaluating mean_class_accuracy ...\n",
      "2021-03-29 12:56:53,003 - mmaction - INFO - \n",
      "mean_acc\t0.9444\n",
      "2021-03-29 12:56:53,309 - mmaction - INFO - Now best checkpoint is saved as best_top1_acc_epoch_48.pth.\n",
      "2021-03-29 12:56:53,310 - mmaction - INFO - Best top1_acc is 0.9444 at 48 epoch.\n",
      "2021-03-29 12:56:53,311 - mmaction - INFO - Epoch(val) [48][132]\ttop1_acc: 0.9444, top5_acc: 1.0000, mean_class_accuracy: 0.9444\n",
      "2021-03-29 12:57:02,606 - mmaction - INFO - Epoch [49][25/132]\tlr: 2.078e-03, eta: 0:01:44, time: 0.372, data_time: 0.095, memory: 7542, top1_acc: 0.6650, top5_acc: 0.9600, loss_cls: 0.6950, loss: 0.6950, grad_norm: 1.2440\n",
      "2021-03-29 12:57:09,496 - mmaction - INFO - Epoch [49][50/132]\tlr: 1.809e-03, eta: 0:01:37, time: 0.276, data_time: 0.000, memory: 7542, top1_acc: 0.7600, top5_acc: 0.9950, loss_cls: 0.6444, loss: 0.6444, grad_norm: 1.1846\n",
      "2021-03-29 12:57:16,385 - mmaction - INFO - Epoch [49][75/132]\tlr: 1.559e-03, eta: 0:01:30, time: 0.276, data_time: 0.000, memory: 7542, top1_acc: 0.7350, top5_acc: 0.9850, loss_cls: 0.6016, loss: 0.6016, grad_norm: 1.2235\n",
      "2021-03-29 12:57:23,275 - mmaction - INFO - Epoch [49][100/132]\tlr: 1.328e-03, eta: 0:01:23, time: 0.276, data_time: 0.000, memory: 7542, top1_acc: 0.7300, top5_acc: 0.9850, loss_cls: 0.6470, loss: 0.6470, grad_norm: 1.3103\n",
      "2021-03-29 12:57:30,169 - mmaction - INFO - Epoch [49][125/132]\tlr: 1.114e-03, eta: 0:01:15, time: 0.276, data_time: 0.000, memory: 7542, top1_acc: 0.7300, top5_acc: 0.9650, loss_cls: 0.6841, loss: 0.6841, grad_norm: 1.3238\n",
      "2021-03-29 12:57:41,325 - mmaction - INFO - Epoch [50][25/132]\tlr: 8.683e-04, eta: 0:01:07, time: 0.372, data_time: 0.095, memory: 7542, top1_acc: 0.7500, top5_acc: 0.9950, loss_cls: 0.5485, loss: 0.5485, grad_norm: 1.0365\n",
      "2021-03-29 12:57:48,227 - mmaction - INFO - Epoch [50][50/132]\tlr: 6.973e-04, eta: 0:01:00, time: 0.276, data_time: 0.000, memory: 7542, top1_acc: 0.7500, top5_acc: 0.9850, loss_cls: 0.5969, loss: 0.5969, grad_norm: 1.2212\n",
      "2021-03-29 12:57:55,122 - mmaction - INFO - Epoch [50][75/132]\tlr: 5.448e-04, eta: 0:00:53, time: 0.276, data_time: 0.000, memory: 7542, top1_acc: 0.7850, top5_acc: 0.9900, loss_cls: 0.5532, loss: 0.5532, grad_norm: 1.1956\n",
      "2021-03-29 12:58:02,023 - mmaction - INFO - Epoch [50][100/132]\tlr: 4.111e-04, eta: 0:00:45, time: 0.276, data_time: 0.000, memory: 7542, top1_acc: 0.7850, top5_acc: 0.9900, loss_cls: 0.5519, loss: 0.5519, grad_norm: 1.0584\n",
      "2021-03-29 12:58:08,914 - mmaction - INFO - Epoch [50][125/132]\tlr: 2.961e-04, eta: 0:00:38, time: 0.276, data_time: 0.000, memory: 7542, top1_acc: 0.7550, top5_acc: 0.9800, loss_cls: 0.6028, loss: 0.6028, grad_norm: 1.1568\n"
     ]
    },
    {
     "name": "stdout",
     "output_type": "stream",
     "text": [
      "[>>>>>>>>>>>>>>>>>>>>>>>>>>>>>>>>>>>>>>>>] 126/126, 8.2 task/s, elapsed: 15s, ETA:     0s"
     ]
    },
    {
     "name": "stderr",
     "output_type": "stream",
     "text": [
      "2021-03-29 12:58:26,284 - mmaction - INFO - Evaluating top_k_accuracy ...\n",
      "2021-03-29 12:58:26,286 - mmaction - INFO - \n",
      "top1_acc\t0.9365\n",
      "top5_acc\t1.0000\n",
      "2021-03-29 12:58:26,286 - mmaction - INFO - Evaluating mean_class_accuracy ...\n",
      "2021-03-29 12:58:26,287 - mmaction - INFO - \n",
      "mean_acc\t0.9365\n",
      "2021-03-29 12:58:26,287 - mmaction - INFO - Epoch(val) [50][132]\ttop1_acc: 0.9365, top5_acc: 1.0000, mean_class_accuracy: 0.9365\n",
      "2021-03-29 12:58:35,659 - mmaction - INFO - Epoch [51][25/132]\tlr: 1.763e-04, eta: 0:00:30, time: 0.375, data_time: 0.098, memory: 7542, top1_acc: 0.7600, top5_acc: 0.9750, loss_cls: 0.6415, loss: 0.6415, grad_norm: 1.1715\n",
      "2021-03-29 12:58:42,555 - mmaction - INFO - Epoch [51][50/132]\tlr: 1.042e-04, eta: 0:00:22, time: 0.276, data_time: 0.000, memory: 7542, top1_acc: 0.7450, top5_acc: 0.9800, loss_cls: 0.6178, loss: 0.6178, grad_norm: 1.2646\n",
      "2021-03-29 12:58:49,449 - mmaction - INFO - Epoch [51][75/132]\tlr: 5.095e-05, eta: 0:00:15, time: 0.276, data_time: 0.000, memory: 7542, top1_acc: 0.7400, top5_acc: 0.9900, loss_cls: 0.6026, loss: 0.6026, grad_norm: 1.0846\n",
      "2021-03-29 12:58:56,342 - mmaction - INFO - Epoch [51][100/132]\tlr: 1.656e-05, eta: 0:00:08, time: 0.276, data_time: 0.000, memory: 7542, top1_acc: 0.7700, top5_acc: 0.9900, loss_cls: 0.6322, loss: 0.6322, grad_norm: 1.2376\n",
      "2021-03-29 12:59:03,240 - mmaction - INFO - Epoch [51][125/132]\tlr: 1.068e-06, eta: 0:00:01, time: 0.276, data_time: 0.000, memory: 7542, top1_acc: 0.7600, top5_acc: 0.9850, loss_cls: 0.5627, loss: 0.5627, grad_norm: 1.0976\n"
     ]
    }
   ],
   "source": [
    "import os.path as osp\n",
    "\n",
    "from mmaction.datasets import build_dataset\n",
    "from mmaction.models import build_model\n",
    "from mmaction.apis import train_model\n",
    "\n",
    "import mmcv\n",
    "\n",
    "# Build the dataset\n",
    "datasets = [build_dataset(cfg.data.train)]\n",
    "\n",
    "# Build the recognizer\n",
    "model = build_model(cfg.model, train_cfg=cfg.get('train_cfg'), test_cfg=cfg.get('test_cfg'))\n",
    "# model = build_model(cfg.model, train_cfg=cfg.get('train_cfg'), test_cfg=cfg.get('test_cfg'))\n",
    "# model = build_detector(cfg.model, train_cfg=cfg.get('train_cfg'), test_cfg=cfg.get('test_cfg'))\n",
    "# model = build_detector(cfg.model, train_cfg=cfg.train_cfg, test_cfg=cfg.test_cfg)\n",
    "\n",
    "# Create work_dir\n",
    "mmcv.mkdir_or_exist(osp.abspath(cfg.work_dir))\n",
    "train_model(model, datasets, cfg, distributed=False, validate=True)"
   ]
  },
  {
   "cell_type": "code",
   "execution_count": 87,
   "metadata": {},
   "outputs": [],
   "source": [
    "import pickle\n",
    "\n",
    "with open(f\"{cfg.work_dir}/model50e\", 'wb') as f:\n",
    "    pickle.dump(model, f)"
   ]
  },
  {
   "cell_type": "code",
   "execution_count": 88,
   "metadata": {
    "colab": {
     "base_uri": "https://localhost:8080/"
    },
    "id": "eyY3hCMwyTct",
    "outputId": "200e37c7-0da4-421f-98da-41418c3110ca",
    "tags": []
   },
   "outputs": [
    {
     "name": "stdout",
     "output_type": "stream",
     "text": [
      "[>>>>>>>>>>>>>>>>>>>>>>>>>>>>>>>>>>>>>>>>] 126/126, 2.5 task/s, elapsed: 50s, ETA:     0s\n",
      "Evaluating top_k_accuracy ...\n",
      "\n",
      "top1_acc\t0.9603\n",
      "top5_acc\t1.0000\n",
      "\n",
      "Evaluating mean_class_accuracy ...\n",
      "\n",
      "mean_acc\t0.9603\n",
      "top1_acc: 0.9603\n",
      "top5_acc: 1.0000\n",
      "mean_class_accuracy: 0.9603\n"
     ]
    }
   ],
   "source": [
    "from mmaction.apis import single_gpu_test\n",
    "from mmaction.datasets import build_dataloader\n",
    "from mmcv.parallel import MMDataParallel\n",
    "from mmaction.models import build_model\n",
    "from mmaction.datasets import build_dataset\n",
    "\n",
    "# model = build_model(cfg.model, train_cfg=cfg.get('train_cfg'), test_cfg=cfg.get('test_cfg'))\n",
    "# Build a test dataloader\n",
    "dataset = build_dataset(cfg.data.test, dict(test_mode=True))\n",
    "data_loader = build_dataloader(\n",
    "        dataset,\n",
    "        videos_per_gpu=4,\n",
    "        workers_per_gpu=1,\n",
    "        dist=False,\n",
    "        shuffle=False)\n",
    "model = MMDataParallel(model, device_ids=[0])\n",
    "outputs = single_gpu_test(model, data_loader)\n",
    "\n",
    "eval_config = cfg.evaluation\n",
    "eval_config.pop('interval')\n",
    "eval_res = dataset.evaluate(outputs, **eval_config)\n",
    "for name, val in eval_res.items():\n",
    "    print(f'{name}: {val:.04f}')\n",
    "    \n",
    "output_config = cfg.output_config\n",
    "dataset.dump_results(outputs, **output_config)"
   ]
  },
  {
   "cell_type": "code",
   "execution_count": 89,
   "metadata": {
    "tags": []
   },
   "outputs": [
    {
     "data": {
      "text/plain": [
       "<AxesSubplot:>"
      ]
     },
     "execution_count": 89,
     "metadata": {},
     "output_type": "execute_result"
    },
    {
     "data": {
      "image/png": "[encoded data removed]",
      "text/plain": [
       "<Figure size 432x288 with 2 Axes>"
      ]
     },
     "metadata": {
      "needs_background": "light"
     },
     "output_type": "display_data"
    }
   ],
   "source": [
    "import seaborn as sns\n",
    "import numpy as np\n",
    "from mmaction.core import confusion_matrix \n",
    "\n",
    "gt_labels = [ann['label'] for ann in dataset.load_annotations()]\n",
    "pred = np.argmax(outputs, axis=1)\n",
    "cf_mat = confusion_matrix(pred, gt_labels).astype(float)\n",
    "\n",
    "sns.heatmap(cf_mat, annot=True, xticklabels = ['box', 'clap', 'go', 'jog', 'run', 'walk', 'wave'], yticklabels = ['box', 'clap', 'go', 'jog', 'run', 'walk', 'wave'] )"
   ]
  },
  {
   "cell_type": "markdown",
   "metadata": {
    "heading_collapsed": "true",
    "tags": []
   },
   "source": [
    "# TPN 96.83%"
   ]
  },
  {
   "cell_type": "code",
   "execution_count": 108,
   "metadata": {
    "colab": {
     "base_uri": "https://localhost:8080/"
    },
    "id": "64CW6d_AaT-Q",
    "outputId": "3b284fd8-4ee7-4a34-90d7-5023cd123a04",
    "tags": []
   },
   "outputs": [
    {
     "name": "stdout",
     "output_type": "stream",
     "text": [
      "--2021-03-29 21:56:37--  https://download.openmmlab.com/mmaction/recognition/tpn/tpn_imagenet_pretrained_slowonly_r50_8x8x1_150e_kinetics_rgb/tpn_imagenet_pretrained_slowonly_r50_8x8x1_150e_kinetics_rgb_20200923-52629684.pth\n",
      "Resolving download.openmmlab.com (download.openmmlab.com)... 47.75.20.25\n",
      "Connecting to download.openmmlab.com (download.openmmlab.com)|47.75.20.25|:443... connected.\n",
      "HTTP request sent, awaiting response... 200 OK\n",
      "Length: 366390252 (349M) [application/octet-stream]\n",
      "Saving to: ‘checkpoints/tpn_imagenet_pretrained_slowonly_r50_8x8x1_150e_kinetics_rgb_20200923-52629684.pth’\n",
      "\n",
      "checkpoints/tpn_ima 100%[===================>] 349,42M  1021KB/s    in 4m 12s  \n",
      "\n",
      "2021-03-29 22:00:52 (1,39 MB/s) - ‘checkpoints/tpn_imagenet_pretrained_slowonly_r50_8x8x1_150e_kinetics_rgb_20200923-52629684.pth’ saved [366390252/366390252]\n",
      "\n"
     ]
    }
   ],
   "source": [
    "# !mkdir checkpoints\n",
    "!wget -c https://download.openmmlab.com/mmaction/recognition/tpn/tpn_imagenet_pretrained_slowonly_r50_8x8x1_150e_kinetics_rgb/tpn_imagenet_pretrained_slowonly_r50_8x8x1_150e_kinetics_rgb_20200923-52629684.pth \\\n",
    "      -O checkpoints/tpn_imagenet_pretrained_slowonly_r50_8x8x1_150e_kinetics_rgb_20200923-52629684.pth"
   ]
  },
  {
   "cell_type": "code",
   "execution_count": 5,
   "metadata": {
    "id": "LjCcmCKOjktc",
    "tags": []
   },
   "outputs": [],
   "source": [
    "from mmcv import Config\n",
    "cfg = Config.fromfile('./configs/recognition/tpn/tpn_imagenet_pretrained_slowonly_r50_8x8x1_150e_kinetics_rgb.py')\n",
    "# print(f'Config:\\n{cfg.pretty_text}')"
   ]
  },
  {
   "cell_type": "code",
   "execution_count": 6,
   "metadata": {
    "colab": {
     "base_uri": "https://localhost:8080/"
    },
    "collapsed": true,
    "id": "tlhu9byjjt-K",
    "jupyter": {
     "outputs_hidden": true
    },
    "outputId": "13d1bb01-f351-48c0-9efb-0bdf2c125d29",
    "tags": []
   },
   "outputs": [
    {
     "name": "stdout",
     "output_type": "stream",
     "text": [
      "Config:\n",
      "model = dict(\n",
      "    type='Recognizer3D',\n",
      "    backbone=dict(\n",
      "        type='ResNet3dSlowOnly',\n",
      "        depth=50,\n",
      "        pretrained='torchvision://resnet50',\n",
      "        lateral=False,\n",
      "        out_indices=(2, 3),\n",
      "        conv1_kernel=(1, 7, 7),\n",
      "        conv1_stride_t=1,\n",
      "        pool1_stride_t=1,\n",
      "        inflate=(0, 0, 1, 1),\n",
      "        norm_eval=False),\n",
      "    neck=dict(\n",
      "        type='TPN',\n",
      "        in_channels=(1024, 2048),\n",
      "        out_channels=1024,\n",
      "        spatial_modulation_cfg=dict(\n",
      "            in_channels=(1024, 2048), out_channels=2048),\n",
      "        temporal_modulation_cfg=dict(downsample_scales=(8, 8)),\n",
      "        upsample_cfg=dict(scale_factor=(1, 1, 1)),\n",
      "        downsample_cfg=dict(downsample_scale=(1, 1, 1)),\n",
      "        level_fusion_cfg=dict(\n",
      "            in_channels=(1024, 1024),\n",
      "            mid_channels=(1024, 1024),\n",
      "            out_channels=2048,\n",
      "            downsample_scales=((1, 1, 1), (1, 1, 1))),\n",
      "        aux_head_cfg=dict(out_channels=400, loss_weight=0.5)),\n",
      "    cls_head=dict(\n",
      "        type='TPNHead',\n",
      "        num_classes=7,\n",
      "        in_channels=2048,\n",
      "        spatial_type='avg',\n",
      "        consensus=dict(type='AvgConsensus', dim=1),\n",
      "        dropout_ratio=0.5,\n",
      "        init_std=0.01),\n",
      "    train_cfg=None,\n",
      "    test_cfg=dict(average_clips='prob'))\n",
      "checkpoint_config = dict(interval=12)\n",
      "log_config = dict(interval=100, hooks=[dict(type='TextLoggerHook')])\n",
      "dist_params = dict(backend='nccl')\n",
      "log_level = 'INFO'\n",
      "load_from = 'checkpoints/tpn_imagenet_pretrained_slowonly_r50_8x8x1_150e_kinetics_rgb_20200923-52629684.pth'\n",
      "resume_from = None\n",
      "workflow = [('train', 1)]\n",
      "dataset_type = 'RawframeDataset'\n",
      "data_root = 'data/childact_rgb_rawframe/train/'\n",
      "data_root_val = 'data/childact_rgb_rawframe/val/'\n",
      "ann_file_train = 'data/childact_rgb_rawframe/childact_train_rgb_rawframe.txt'\n",
      "ann_file_val = 'data/childact_rgb_rawframe/childact_val_rgb_rawframe.txt'\n",
      "ann_file_test = 'data/childact_rgb_rawframe/childact_test_rgb_rawframe.txt'\n",
      "img_norm_cfg = dict(\n",
      "    mean=[123.675, 116.28, 103.53], std=[58.395, 57.12, 57.375], to_bgr=False)\n",
      "train_pipeline = [\n",
      "    dict(type='SampleFrames', clip_len=8, frame_interval=8, num_clips=1),\n",
      "    dict(type='FrameSelector'),\n",
      "    dict(type='RandomResizedCrop'),\n",
      "    dict(type='Resize', scale=(224, 224), keep_ratio=False),\n",
      "    dict(type='Flip', flip_ratio=0.5),\n",
      "    dict(type='ColorJitter', color_space_aug=True),\n",
      "    dict(\n",
      "        type='Normalize',\n",
      "        mean=[123.675, 116.28, 103.53],\n",
      "        std=[58.395, 57.12, 57.375],\n",
      "        to_bgr=False),\n",
      "    dict(type='FormatShape', input_format='NCTHW'),\n",
      "    dict(type='Collect', keys=['imgs', 'label'], meta_keys=[]),\n",
      "    dict(type='ToTensor', keys=['imgs', 'label'])\n",
      "]\n",
      "val_pipeline = [\n",
      "    dict(\n",
      "        type='SampleFrames',\n",
      "        clip_len=8,\n",
      "        frame_interval=8,\n",
      "        num_clips=1,\n",
      "        test_mode=True),\n",
      "    dict(type='FrameSelector'),\n",
      "    dict(type='Resize', scale=(-1, 256)),\n",
      "    dict(type='CenterCrop', crop_size=224),\n",
      "    dict(type='ColorJitter', color_space_aug=True),\n",
      "    dict(\n",
      "        type='Normalize',\n",
      "        mean=[123.675, 116.28, 103.53],\n",
      "        std=[58.395, 57.12, 57.375],\n",
      "        to_bgr=False),\n",
      "    dict(type='FormatShape', input_format='NCTHW'),\n",
      "    dict(type='Collect', keys=['imgs', 'label'], meta_keys=[]),\n",
      "    dict(type='ToTensor', keys=['imgs'])\n",
      "]\n",
      "test_pipeline = [\n",
      "    dict(\n",
      "        type='SampleFrames',\n",
      "        clip_len=8,\n",
      "        frame_interval=8,\n",
      "        num_clips=10,\n",
      "        test_mode=True),\n",
      "    dict(type='FrameSelector'),\n",
      "    dict(type='Resize', scale=(-1, 256)),\n",
      "    dict(type='ThreeCrop', crop_size=256),\n",
      "    dict(\n",
      "        type='Normalize',\n",
      "        mean=[123.675, 116.28, 103.53],\n",
      "        std=[58.395, 57.12, 57.375],\n",
      "        to_bgr=False),\n",
      "    dict(type='FormatShape', input_format='NCTHW'),\n",
      "    dict(type='Collect', keys=['imgs', 'label'], meta_keys=[]),\n",
      "    dict(type='ToTensor', keys=['imgs'])\n",
      "]\n",
      "data = dict(\n",
      "    videos_per_gpu=8,\n",
      "    workers_per_gpu=8,\n",
      "    train=dict(\n",
      "        type='RawframeDataset',\n",
      "        ann_file='data/childact_rgb_rawframe/childact_train_rgb_rawframe.txt',\n",
      "        data_prefix='data/childact_rgb_rawframe/train/',\n",
      "        pipeline=[\n",
      "            dict(\n",
      "                type='SampleFrames', clip_len=8, frame_interval=8,\n",
      "                num_clips=1),\n",
      "            dict(type='FrameSelector'),\n",
      "            dict(type='RandomResizedCrop'),\n",
      "            dict(type='Resize', scale=(224, 224), keep_ratio=False),\n",
      "            dict(type='Flip', flip_ratio=0.5),\n",
      "            dict(type='ColorJitter', color_space_aug=True),\n",
      "            dict(\n",
      "                type='Normalize',\n",
      "                mean=[123.675, 116.28, 103.53],\n",
      "                std=[58.395, 57.12, 57.375],\n",
      "                to_bgr=False),\n",
      "            dict(type='FormatShape', input_format='NCTHW'),\n",
      "            dict(type='Collect', keys=['imgs', 'label'], meta_keys=[]),\n",
      "            dict(type='ToTensor', keys=['imgs', 'label'])\n",
      "        ],\n",
      "        start_index=0),\n",
      "    val=dict(\n",
      "        type='RawframeDataset',\n",
      "        ann_file='data/childact_rgb_rawframe/childact_val_rgb_rawframe.txt',\n",
      "        data_prefix='data/childact_rgb_rawframe/val/',\n",
      "        pipeline=[\n",
      "            dict(\n",
      "                type='SampleFrames',\n",
      "                clip_len=8,\n",
      "                frame_interval=8,\n",
      "                num_clips=1,\n",
      "                test_mode=True),\n",
      "            dict(type='FrameSelector'),\n",
      "            dict(type='Resize', scale=(-1, 256)),\n",
      "            dict(type='CenterCrop', crop_size=224),\n",
      "            dict(type='ColorJitter', color_space_aug=True),\n",
      "            dict(\n",
      "                type='Normalize',\n",
      "                mean=[123.675, 116.28, 103.53],\n",
      "                std=[58.395, 57.12, 57.375],\n",
      "                to_bgr=False),\n",
      "            dict(type='FormatShape', input_format='NCTHW'),\n",
      "            dict(type='Collect', keys=['imgs', 'label'], meta_keys=[]),\n",
      "            dict(type='ToTensor', keys=['imgs'])\n",
      "        ],\n",
      "        start_index=0),\n",
      "    test=dict(\n",
      "        type='RawframeDataset',\n",
      "        ann_file='data/childact_rgb_rawframe/childact_test_rgb_rawframe.txt',\n",
      "        data_prefix='data/childact_rgb_rawframe/test/',\n",
      "        pipeline=[\n",
      "            dict(\n",
      "                type='SampleFrames',\n",
      "                clip_len=8,\n",
      "                frame_interval=8,\n",
      "                num_clips=10,\n",
      "                test_mode=True),\n",
      "            dict(type='FrameSelector'),\n",
      "            dict(type='Resize', scale=(-1, 256)),\n",
      "            dict(type='ThreeCrop', crop_size=256),\n",
      "            dict(\n",
      "                type='Normalize',\n",
      "                mean=[123.675, 116.28, 103.53],\n",
      "                std=[58.395, 57.12, 57.375],\n",
      "                to_bgr=False),\n",
      "            dict(type='FormatShape', input_format='NCTHW'),\n",
      "            dict(type='Collect', keys=['imgs', 'label'], meta_keys=[]),\n",
      "            dict(type='ToTensor', keys=['imgs'])\n",
      "        ],\n",
      "        start_index=0))\n",
      "evaluation = dict(\n",
      "    interval=5, metrics=['top_k_accuracy', 'mean_class_accuracy'])\n",
      "optimizer = dict(\n",
      "    type='SGD', lr=0.01, momentum=0.9, weight_decay=0.0001, nesterov=True)\n",
      "optimizer_config = dict(grad_clip=dict(max_norm=40, norm_type=2))\n",
      "lr_config = dict(\n",
      "    policy='cyclic',\n",
      "    target_ratio=(10, 1e-05),\n",
      "    cyclic_times=1,\n",
      "    step_ratio_up=0.4)\n",
      "total_epochs = 51\n",
      "work_dir = './childact-checkpoints/childact-TPN'\n",
      "omnisource = False\n",
      "momentum_config = dict(\n",
      "    policy='cyclic',\n",
      "    target_ratio=(0.8947368421052632, 1),\n",
      "    cyclic_times=1,\n",
      "    step_ratio_up=0.4)\n",
      "seed = 42\n",
      "gpu_ids = range(0, 1)\n",
      "output_config = dict(out='./childact-checkpoints/childact-TPN/results.json')\n",
      "\n"
     ]
    }
   ],
   "source": [
    "from mmcv.runner import set_random_seed\n",
    "\n",
    "# Modify dataset type and path\n",
    "# cfg.dataset_type = 'VideoDataset'\n",
    "cfg.data_root = 'data/childact_rgb_rawframe/train/'\n",
    "cfg.data_root_val = 'data/childact_rgb_rawframe/val/'\n",
    "cfg.ann_file_train = 'data/childact_rgb_rawframe/childact_train_rgb_rawframe.txt'\n",
    "cfg.ann_file_val = 'data/childact_rgb_rawframe/childact_val_rgb_rawframe.txt'\n",
    "cfg.ann_file_test = 'data/childact_rgb_rawframe/childact_test_rgb_rawframe.txt'\n",
    "\n",
    "# cfg.data.test.type = 'VideoDataset'\n",
    "cfg.data.test.ann_file = 'data/childact_rgb_rawframe/childact_test_rgb_rawframe.txt'\n",
    "cfg.data.test.data_prefix = 'data/childact_rgb_rawframe/test/'\n",
    "\n",
    "# cfg.data.train.type = 'VideoDataset'\n",
    "cfg.data.train.ann_file = 'data/childact_rgb_rawframe/childact_train_rgb_rawframe.txt'\n",
    "cfg.data.train.data_prefix = 'data/childact_rgb_rawframe/train/'\n",
    "\n",
    "# cfg.data.val.type = 'VideoDataset'\n",
    "cfg.data.val.ann_file = 'data/childact_rgb_rawframe/childact_val_rgb_rawframe.txt'\n",
    "cfg.data.val.data_prefix = 'data/childact_rgb_rawframe/val/'\n",
    "\n",
    "cfg.data.train.start_index = 0\n",
    "cfg.data.test.start_index = 0\n",
    "cfg.data.val.start_index = 0\n",
    "\n",
    "# cfg.data.test.filename_tmpl = 'flow_{}_{:05d}.jpg'\n",
    "# cfg.data.train.filename_tmpl = 'flow_{}_{:05d}.jpg'\n",
    "# cfg.data.val.filename_tmpl = 'flow_{}_{:05d}.jpg'\n",
    "# The flag is used to determine whether it is omnisource training\n",
    "cfg.setdefault('omnisource', False)\n",
    "# Modify num classes of the model in cls_head\n",
    "cfg.model.cls_head.num_classes = 7\n",
    "# We can use the pre-trained TSN model\n",
    "cfg.load_from = 'checkpoints/tpn_imagenet_pretrained_slowonly_r50_8x8x1_150e_kinetics_rgb_20200923-52629684.pth'\n",
    "# cfg.resume_from = './childact-mm/latest.pth'\n",
    "\n",
    "# Set up working dir to save files and logs.\n",
    "cfg.work_dir = './childact-checkpoints/childact-TPN'\n",
    "\n",
    "# cfg.train_pipeline[1] = dict(type='RawFrameDecode')\n",
    "# cfg.test_pipeline[1] = dict(type='RawFrameDecode')\n",
    "# cfg.val_pipeline[1] = dict(type='RawFrameDecode')\n",
    "\n",
    "# cfg.img_norm_cfg = dict(mean=[128, 128], std=[128, 128])\n",
    "\n",
    "# cfg.train_pipeline = [\n",
    "#     dict(type='SampleFrames', clip_len=8, frame_interval=8, num_clips=1),\n",
    "#     dict(type='RawFrameDecode'),\n",
    "# #     dict(type='Resize', scale=(-1, 256)),\n",
    "# #     dict(type='RandomCrop', size=224),\n",
    "#     dict(type='RandomResizedCrop'),\n",
    "#     dict(type='Resize', scale=(224, 224), keep_ratio=False),\n",
    "# #     dict(type='Flip', flip_ratio=0.5),\n",
    "#     dict(type='Normalize', mean=[128, 128], std=[128, 128]),\n",
    "#     dict(type='FormatShape', input_format='NCTHW'),\n",
    "#     dict(type='Collect', keys=['imgs', 'label'], meta_keys=[]),\n",
    "#     dict(type='ToTensor', keys=['imgs', 'label'])\n",
    "# ]\n",
    "\n",
    "# cfg.val_pipeline = [\n",
    "#     dict(\n",
    "#         type='SampleFrames',\n",
    "#         clip_len=8,\n",
    "#         frame_interval=8,\n",
    "#         num_clips=1,\n",
    "#         test_mode=True),\n",
    "#     dict(type='RawFrameDecode'),\n",
    "#     dict(type='Resize', scale=(-1, 256)),\n",
    "#     dict(type='CenterCrop', crop_size=224),\n",
    "# #     dict(type='Resize', scale=(224, 224), keep_ratio=False),\n",
    "# #     dict(type='Flip', flip_ratio=0.5)\n",
    "#     dict(type='Normalize', mean=[128, 128], std=[128, 128]),\n",
    "#     dict(type='FormatShape', input_format='NCTHW'),\n",
    "#     dict(type='Collect', keys=['imgs', 'label'], meta_keys=[]),\n",
    "#     dict(type='ToTensor', keys=['imgs'])\n",
    "# ]\n",
    "# cfg.test_pipeline = [\n",
    "#     dict(type='SampleFrames', clip_len=8, frame_interval=8, num_clips=10, test_mode=True),\n",
    "#     dict(type='RawFrameDecode'),\n",
    "#     dict(type='Resize', scale=(-1, 256)),\n",
    "#     dict(type='ThreeCrop', crop_size=256),\n",
    "#     dict(type='Normalize', mean=[128, 128], std=[128, 128]),\n",
    "#     dict(type='FormatShape', input_format='NCTHW'),\n",
    "#     dict(type='Collect', keys=['imgs', 'label'], meta_keys=[]),\n",
    "#     dict(type='ToTensor', keys=['imgs'])\n",
    "# ]\n",
    "\n",
    "\n",
    "# cfg.data.train.pipeline = cfg.train_pipeline\n",
    "# cfg.data.val.pipeline = cfg.val_pipeline\n",
    "# cfg.data.test.pipeline = cfg.test_pipeline\n",
    "\n",
    "cfg.lr_config = dict(\n",
    "    policy='cyclic',\n",
    "    target_ratio=(10, 1e-5),\n",
    "    cyclic_times=1,\n",
    "    step_ratio_up=0.4,\n",
    ")\n",
    "\n",
    "cfg.total_epochs = 51\n",
    "\n",
    "cfg.momentum_config = dict(\n",
    "    policy='cyclic',\n",
    "    target_ratio=(0.85 / 0.95, 1),\n",
    "    cyclic_times=1,\n",
    "    step_ratio_up=0.4,\n",
    ")\n",
    "\n",
    "# We can set the checkpoint saving interval to reduce the storage cost\n",
    "cfg.checkpoint_config.interval = 12\n",
    "# We can set the log print interval to reduce the the times of printing log\n",
    "cfg.log_config.interval = 100\n",
    "\n",
    "# Set seed thus the results are more reproducible\n",
    "cfg.seed = 42\n",
    "set_random_seed(42, deterministic=False)\n",
    "cfg.gpu_ids = range(1)\n",
    "\n",
    "# cfg.img_norm_cfg.mean = [0.485, 0.456, 0.406]\n",
    "# cfg.img_norm_cfg.std = [0.229, 0.224, 0.225]\n",
    "\n",
    "# cfg.train_pipeline[6] = dict(type='Normalize', mean=[0.485, 0.456, 0.406], std=[0.229, 0.224, 0.225], to_bgr=False)\n",
    "# cfg.test_pipeline[4] = dict(type='Normalize', mean=[0.485, 0.456, 0.406], std=[0.229, 0.224, 0.225], to_bgr=False)\n",
    "# cfg.val_pipeline[4] = dict(type='Normalize', mean=[0.485, 0.456, 0.406], std=[0.229, 0.224, 0.225], to_bgr=False)\n",
    "\n",
    "# cfg.model.backbone.in_channels = 2\n",
    "\n",
    "cfg.output_config = dict(out=f'{cfg.work_dir}/results.json')\n",
    "# We can initialize the logger for training and have a look\n",
    "# at the final config used for training\n",
    "# del cfg.optimizer['momentum']\n",
    "print(f'Config:\\n{cfg.pretty_text}')"
   ]
  },
  {
   "cell_type": "code",
   "execution_count": 7,
   "metadata": {
    "colab": {
     "base_uri": "https://localhost:8080/"
    },
    "collapsed": true,
    "id": "dDBWkdDRk6oz",
    "jupyter": {
     "outputs_hidden": true
    },
    "outputId": "85a52ef3-7b5c-4c52-8fef-00322a8c65e6",
    "tags": []
   },
   "outputs": [
    {
     "name": "stderr",
     "output_type": "stream",
     "text": [
      "2021-04-01 13:10:24,061 - mmaction - INFO - load model from: torchvision://resnet50\n",
      "2021-04-01 13:10:24,254 - mmaction - INFO - These parameters in the 2d checkpoint are not loaded: {'fc.weight', 'fc.bias'}\n"
     ]
    },
    {
     "name": "stdout",
     "output_type": "stream",
     "text": [
      "Use load_from_torchvision loader\n"
     ]
    },
    {
     "name": "stderr",
     "output_type": "stream",
     "text": [
      "2021-04-01 13:10:24,697 - mmaction - INFO - load checkpoint from checkpoints/tpn_imagenet_pretrained_slowonly_r50_8x8x1_150e_kinetics_rgb_20200923-52629684.pth\n",
      "2021-04-01 13:10:24,698 - mmaction - INFO - Use load_from_local loader\n",
      "2021-04-01 13:10:24,935 - mmaction - WARNING - The model and loaded state dict do not match exactly\n",
      "\n",
      "size mismatch for cls_head.fc_cls.weight: copying a param with shape torch.Size([400, 2048]) from checkpoint, the shape in current model is torch.Size([7, 2048]).\n",
      "size mismatch for cls_head.fc_cls.bias: copying a param with shape torch.Size([400]) from checkpoint, the shape in current model is torch.Size([7]).\n",
      "2021-04-01 13:10:24,944 - mmaction - INFO - Start running, host: actrec@actrec-HP-Z4-G4-Workstation, work_dir: /home/actrec/.virtualenvs/mmaction/mmaction2/childact-checkpoints/childact-TPN\n",
      "2021-04-01 13:10:24,945 - mmaction - INFO - workflow: [('train', 1)], max: 51 epochs\n",
      "2021-04-01 13:11:15,496 - mmaction - INFO - Epoch [1][100/132]\tlr: 1.030e-02, eta: 0:55:52, time: 0.505, data_time: 0.036, memory: 6932, loss_aux: 0.9700, top1_acc: 0.3900, top5_acc: 0.9263, loss_cls: 1.4808, loss: 2.4508, grad_norm: 11.2977\n",
      "2021-04-01 13:12:20,503 - mmaction - INFO - Epoch [2][100/132]\tlr: 1.163e-02, eta: 0:47:05, time: 0.503, data_time: 0.033, memory: 6932, loss_aux: 0.5689, top1_acc: 0.5600, top5_acc: 0.9700, loss_cls: 1.1336, loss: 1.7025, grad_norm: 7.9854\n",
      "2021-04-01 13:13:26,356 - mmaction - INFO - Epoch [3][100/132]\tlr: 1.398e-02, eta: 0:44:15, time: 0.510, data_time: 0.035, memory: 6932, loss_aux: 0.5700, top1_acc: 0.5675, top5_acc: 0.9738, loss_cls: 1.0740, loss: 1.6439, grad_norm: 6.0977\n",
      "2021-04-01 13:14:32,293 - mmaction - INFO - Epoch [4][100/132]\tlr: 1.730e-02, eta: 0:42:29, time: 0.510, data_time: 0.034, memory: 6932, loss_aux: 0.5400, top1_acc: 0.6300, top5_acc: 0.9800, loss_cls: 0.9901, loss: 1.5301, grad_norm: 5.4699\n",
      "2021-04-01 13:15:38,470 - mmaction - INFO - Epoch [5][100/132]\tlr: 2.152e-02, eta: 0:41:08, time: 0.512, data_time: 0.035, memory: 6932, loss_aux: 0.5026, top1_acc: 0.6400, top5_acc: 0.9838, loss_cls: 0.9246, loss: 1.4271, grad_norm: 5.4807\n"
     ]
    },
    {
     "name": "stdout",
     "output_type": "stream",
     "text": [
      "[>>>>>>>>>>>>>>>>>>>>>>>>>>>>>>>>>>>>>>>>] 126/126, 34.1 task/s, elapsed: 4s, ETA:     0s"
     ]
    },
    {
     "name": "stderr",
     "output_type": "stream",
     "text": [
      "2021-04-01 13:15:57,546 - mmaction - INFO - Evaluating top_k_accuracy ...\n",
      "2021-04-01 13:15:57,548 - mmaction - INFO - \n",
      "top1_acc\t0.4921\n",
      "top5_acc\t1.0000\n",
      "2021-04-01 13:15:57,548 - mmaction - INFO - Evaluating mean_class_accuracy ...\n",
      "2021-04-01 13:15:57,551 - mmaction - INFO - \n",
      "mean_acc\t0.4921\n",
      "2021-04-01 13:15:58,907 - mmaction - INFO - Now best checkpoint is saved as best_top1_acc_epoch_5.pth.\n",
      "2021-04-01 13:15:58,908 - mmaction - INFO - Best top1_acc is 0.4921 at 5 epoch.\n",
      "2021-04-01 13:15:58,909 - mmaction - INFO - Epoch(val) [5][132]\ttop1_acc: 0.4921, top5_acc: 1.0000, mean_class_accuracy: 0.4921\n",
      "2021-04-01 13:16:50,187 - mmaction - INFO - Epoch [6][100/132]\tlr: 2.653e-02, eta: 0:39:58, time: 0.513, data_time: 0.036, memory: 6932, loss_aux: 0.5872, top1_acc: 0.5363, top5_acc: 0.9688, loss_cls: 1.0932, loss: 1.6804, grad_norm: 5.0571\n",
      "2021-04-01 13:17:56,423 - mmaction - INFO - Epoch [7][100/132]\tlr: 3.221e-02, eta: 0:38:53, time: 0.512, data_time: 0.036, memory: 6932, loss_aux: 0.5759, top1_acc: 0.5913, top5_acc: 0.9712, loss_cls: 1.0677, loss: 1.6436, grad_norm: 5.1867\n",
      "2021-04-01 13:19:02,672 - mmaction - INFO - Epoch [8][100/132]\tlr: 3.844e-02, eta: 0:37:52, time: 0.512, data_time: 0.035, memory: 6932, loss_aux: 0.5901, top1_acc: 0.5763, top5_acc: 0.9750, loss_cls: 1.0847, loss: 1.6748, grad_norm: 4.8539\n",
      "2021-04-01 13:20:08,911 - mmaction - INFO - Epoch [9][100/132]\tlr: 4.505e-02, eta: 0:36:53, time: 0.512, data_time: 0.035, memory: 6932, loss_aux: 0.6032, top1_acc: 0.5550, top5_acc: 0.9738, loss_cls: 1.0906, loss: 1.6938, grad_norm: 4.4930\n",
      "2021-04-01 13:21:15,569 - mmaction - INFO - Epoch [10][100/132]\tlr: 5.190e-02, eta: 0:35:58, time: 0.517, data_time: 0.035, memory: 6932, loss_aux: 0.5807, top1_acc: 0.5737, top5_acc: 0.9762, loss_cls: 1.1612, loss: 1.7419, grad_norm: 4.3403\n"
     ]
    },
    {
     "name": "stdout",
     "output_type": "stream",
     "text": [
      "[>>>>>>>>>>>>>>>>>>>>>>>>>>>>>>>>>>>>>>>>] 126/126, 34.1 task/s, elapsed: 4s, ETA:     0s"
     ]
    },
    {
     "name": "stderr",
     "output_type": "stream",
     "text": [
      "2021-04-01 13:21:34,364 - mmaction - INFO - Evaluating top_k_accuracy ...\n",
      "2021-04-01 13:21:34,366 - mmaction - INFO - \n",
      "top1_acc\t0.7143\n",
      "top5_acc\t1.0000\n",
      "2021-04-01 13:21:34,367 - mmaction - INFO - Evaluating mean_class_accuracy ...\n",
      "2021-04-01 13:21:34,368 - mmaction - INFO - \n",
      "mean_acc\t0.7143\n",
      "2021-04-01 13:21:35,791 - mmaction - INFO - Now best checkpoint is saved as best_top1_acc_epoch_10.pth.\n",
      "2021-04-01 13:21:35,792 - mmaction - INFO - Best top1_acc is 0.7143 at 10 epoch.\n",
      "2021-04-01 13:21:35,793 - mmaction - INFO - Epoch(val) [10][132]\ttop1_acc: 0.7143, top5_acc: 1.0000, mean_class_accuracy: 0.7143\n",
      "2021-04-01 13:22:26,947 - mmaction - INFO - Epoch [11][100/132]\tlr: 5.883e-02, eta: 0:35:01, time: 0.511, data_time: 0.035, memory: 6932, loss_aux: 0.5808, top1_acc: 0.5837, top5_acc: 0.9788, loss_cls: 1.0677, loss: 1.6485, grad_norm: 3.8896\n",
      "2021-04-01 13:23:33,066 - mmaction - INFO - Epoch [12][100/132]\tlr: 6.566e-02, eta: 0:34:05, time: 0.511, data_time: 0.034, memory: 6932, loss_aux: 0.6040, top1_acc: 0.5837, top5_acc: 0.9788, loss_cls: 1.0405, loss: 1.6445, grad_norm: 3.3994\n",
      "2021-04-01 13:23:48,083 - mmaction - INFO - Saving checkpoint at 12 epochs\n",
      "2021-04-01 13:24:40,712 - mmaction - INFO - Epoch [13][100/132]\tlr: 7.225e-02, eta: 0:33:10, time: 0.513, data_time: 0.036, memory: 6932, loss_aux: 0.7060, top1_acc: 0.5100, top5_acc: 0.9625, loss_cls: 1.2814, loss: 1.9874, grad_norm: 4.3004\n",
      "2021-04-01 13:25:46,635 - mmaction - INFO - Epoch [14][100/132]\tlr: 7.842e-02, eta: 0:32:15, time: 0.509, data_time: 0.033, memory: 6932, loss_aux: 0.5679, top1_acc: 0.5775, top5_acc: 0.9663, loss_cls: 1.0510, loss: 1.6189, grad_norm: 3.6083\n",
      "2021-04-01 13:26:52,844 - mmaction - INFO - Epoch [15][100/132]\tlr: 8.404e-02, eta: 0:31:21, time: 0.512, data_time: 0.036, memory: 6932, loss_aux: 0.6093, top1_acc: 0.5288, top5_acc: 0.9700, loss_cls: 1.1690, loss: 1.7783, grad_norm: 3.2915\n"
     ]
    },
    {
     "name": "stdout",
     "output_type": "stream",
     "text": [
      "[>>>>>>>>>>>>>>>>>>>>>>>>>>>>>>>>>>>>>>>>] 126/126, 34.8 task/s, elapsed: 4s, ETA:     0s"
     ]
    },
    {
     "name": "stderr",
     "output_type": "stream",
     "text": [
      "2021-04-01 13:27:11,602 - mmaction - INFO - Evaluating top_k_accuracy ...\n",
      "2021-04-01 13:27:11,604 - mmaction - INFO - \n",
      "top1_acc\t0.6746\n",
      "top5_acc\t1.0000\n",
      "2021-04-01 13:27:11,604 - mmaction - INFO - Evaluating mean_class_accuracy ...\n",
      "2021-04-01 13:27:11,605 - mmaction - INFO - \n",
      "mean_acc\t0.6746\n",
      "2021-04-01 13:27:11,606 - mmaction - INFO - Epoch(val) [15][132]\ttop1_acc: 0.6746, top5_acc: 1.0000, mean_class_accuracy: 0.6746\n",
      "2021-04-01 13:28:02,760 - mmaction - INFO - Epoch [16][100/132]\tlr: 8.897e-02, eta: 0:30:28, time: 0.511, data_time: 0.035, memory: 6932, loss_aux: 0.4836, top1_acc: 0.6362, top5_acc: 0.9838, loss_cls: 0.9407, loss: 1.4243, grad_norm: 2.5749\n",
      "2021-04-01 13:29:09,623 - mmaction - INFO - Epoch [17][100/132]\tlr: 9.309e-02, eta: 0:29:36, time: 0.519, data_time: 0.036, memory: 6932, loss_aux: 0.5092, top1_acc: 0.6125, top5_acc: 0.9775, loss_cls: 0.9582, loss: 1.4674, grad_norm: 2.7311\n",
      "2021-04-01 13:30:15,746 - mmaction - INFO - Epoch [18][100/132]\tlr: 9.632e-02, eta: 0:28:42, time: 0.511, data_time: 0.034, memory: 6932, loss_aux: 0.5334, top1_acc: 0.6075, top5_acc: 0.9775, loss_cls: 1.0181, loss: 1.5516, grad_norm: 2.7827\n",
      "2021-04-01 13:31:22,034 - mmaction - INFO - Epoch [19][100/132]\tlr: 9.856e-02, eta: 0:27:50, time: 0.513, data_time: 0.035, memory: 6932, loss_aux: 0.4972, top1_acc: 0.6212, top5_acc: 0.9775, loss_cls: 0.9045, loss: 1.4017, grad_norm: 2.4616\n",
      "2021-04-01 13:32:28,267 - mmaction - INFO - Epoch [20][100/132]\tlr: 9.978e-02, eta: 0:26:57, time: 0.512, data_time: 0.035, memory: 6932, loss_aux: 0.5129, top1_acc: 0.6112, top5_acc: 0.9788, loss_cls: 0.9851, loss: 1.4981, grad_norm: 2.3371\n"
     ]
    },
    {
     "name": "stdout",
     "output_type": "stream",
     "text": [
      "[>>>>>>>>>>>>>>>>>>>>>>>>>>>>>>>>>>>>>>>>] 126/126, 34.8 task/s, elapsed: 4s, ETA:     0s"
     ]
    },
    {
     "name": "stderr",
     "output_type": "stream",
     "text": [
      "2021-04-01 13:32:46,992 - mmaction - INFO - Evaluating top_k_accuracy ...\n",
      "2021-04-01 13:32:46,994 - mmaction - INFO - \n",
      "top1_acc\t0.6984\n",
      "top5_acc\t1.0000\n",
      "2021-04-01 13:32:46,995 - mmaction - INFO - Evaluating mean_class_accuracy ...\n",
      "2021-04-01 13:32:46,997 - mmaction - INFO - \n",
      "mean_acc\t0.6984\n",
      "2021-04-01 13:32:46,998 - mmaction - INFO - Epoch(val) [20][132]\ttop1_acc: 0.6984, top5_acc: 1.0000, mean_class_accuracy: 0.6984\n",
      "2021-04-01 13:33:38,013 - mmaction - INFO - Epoch [21][100/132]\tlr: 9.997e-02, eta: 0:26:04, time: 0.510, data_time: 0.035, memory: 6932, loss_aux: 0.4842, top1_acc: 0.6188, top5_acc: 0.9738, loss_cls: 0.9054, loss: 1.3895, grad_norm: 2.4147\n",
      "2021-04-01 13:34:44,022 - mmaction - INFO - Epoch [22][100/132]\tlr: 9.952e-02, eta: 0:25:11, time: 0.510, data_time: 0.033, memory: 6932, loss_aux: 0.4940, top1_acc: 0.6388, top5_acc: 0.9888, loss_cls: 0.9286, loss: 1.4226, grad_norm: 2.2113\n",
      "2021-04-01 13:35:50,216 - mmaction - INFO - Epoch [23][100/132]\tlr: 9.854e-02, eta: 0:24:19, time: 0.512, data_time: 0.035, memory: 6932, loss_aux: 0.4500, top1_acc: 0.6600, top5_acc: 0.9850, loss_cls: 0.8690, loss: 1.3191, grad_norm: 2.3312\n",
      "2021-04-01 13:36:56,298 - mmaction - INFO - Epoch [24][100/132]\tlr: 9.706e-02, eta: 0:23:27, time: 0.510, data_time: 0.034, memory: 6932, loss_aux: 0.4454, top1_acc: 0.6538, top5_acc: 0.9862, loss_cls: 0.9037, loss: 1.3491, grad_norm: 2.2047\n",
      "2021-04-01 13:37:11,262 - mmaction - INFO - Saving checkpoint at 24 epochs\n",
      "2021-04-01 13:38:03,835 - mmaction - INFO - Epoch [25][100/132]\tlr: 9.508e-02, eta: 0:22:34, time: 0.512, data_time: 0.036, memory: 6932, loss_aux: 0.4372, top1_acc: 0.6425, top5_acc: 0.9850, loss_cls: 0.8457, loss: 1.2829, grad_norm: 1.9658\n"
     ]
    },
    {
     "name": "stdout",
     "output_type": "stream",
     "text": [
      "[>>>>>>>>>>>>>>>>>>>>>>>>>>>>>>>>>>>>>>>>] 126/126, 34.5 task/s, elapsed: 4s, ETA:     0s"
     ]
    },
    {
     "name": "stderr",
     "output_type": "stream",
     "text": [
      "2021-04-01 13:38:22,577 - mmaction - INFO - Evaluating top_k_accuracy ...\n",
      "2021-04-01 13:38:22,579 - mmaction - INFO - \n",
      "top1_acc\t0.7143\n",
      "top5_acc\t1.0000\n",
      "2021-04-01 13:38:22,580 - mmaction - INFO - Evaluating mean_class_accuracy ...\n",
      "2021-04-01 13:38:22,581 - mmaction - INFO - \n",
      "mean_acc\t0.7143\n",
      "2021-04-01 13:38:22,582 - mmaction - INFO - Epoch(val) [25][132]\ttop1_acc: 0.7143, top5_acc: 1.0000, mean_class_accuracy: 0.7143\n",
      "2021-04-01 13:39:13,816 - mmaction - INFO - Epoch [26][100/132]\tlr: 9.263e-02, eta: 0:21:42, time: 0.512, data_time: 0.035, memory: 6932, loss_aux: 0.4313, top1_acc: 0.6500, top5_acc: 0.9825, loss_cls: 0.8448, loss: 1.2761, grad_norm: 1.9801\n",
      "2021-04-01 13:40:19,864 - mmaction - INFO - Epoch [27][100/132]\tlr: 8.973e-02, eta: 0:20:50, time: 0.511, data_time: 0.035, memory: 6932, loss_aux: 0.4542, top1_acc: 0.6625, top5_acc: 0.9825, loss_cls: 0.8325, loss: 1.2867, grad_norm: 2.1505\n",
      "2021-04-01 13:41:25,985 - mmaction - INFO - Epoch [28][100/132]\tlr: 8.641e-02, eta: 0:19:58, time: 0.511, data_time: 0.036, memory: 6932, loss_aux: 0.4279, top1_acc: 0.6837, top5_acc: 0.9825, loss_cls: 0.8281, loss: 1.2560, grad_norm: 1.9832\n",
      "2021-04-01 13:42:31,928 - mmaction - INFO - Epoch [29][100/132]\tlr: 8.271e-02, eta: 0:19:06, time: 0.509, data_time: 0.033, memory: 6932, loss_aux: 0.4029, top1_acc: 0.6700, top5_acc: 0.9812, loss_cls: 0.8430, loss: 1.2459, grad_norm: 1.8762\n",
      "2021-04-01 13:43:38,244 - mmaction - INFO - Epoch [30][100/132]\tlr: 7.866e-02, eta: 0:18:14, time: 0.513, data_time: 0.037, memory: 6932, loss_aux: 0.3953, top1_acc: 0.6963, top5_acc: 0.9862, loss_cls: 0.7560, loss: 1.1513, grad_norm: 1.9064\n"
     ]
    },
    {
     "name": "stdout",
     "output_type": "stream",
     "text": [
      "[>>>>>>>>>>>>>>>>>>>>>>>>>>>>>>>>>>>>>>>>] 126/126, 35.6 task/s, elapsed: 4s, ETA:     0s"
     ]
    },
    {
     "name": "stderr",
     "output_type": "stream",
     "text": [
      "2021-04-01 13:43:56,849 - mmaction - INFO - Evaluating top_k_accuracy ...\n",
      "2021-04-01 13:43:56,850 - mmaction - INFO - \n",
      "top1_acc\t0.8016\n",
      "top5_acc\t1.0000\n",
      "2021-04-01 13:43:56,850 - mmaction - INFO - Evaluating mean_class_accuracy ...\n",
      "2021-04-01 13:43:56,851 - mmaction - INFO - \n",
      "mean_acc\t0.8016\n",
      "2021-04-01 13:43:58,254 - mmaction - INFO - Now best checkpoint is saved as best_top1_acc_epoch_30.pth.\n",
      "2021-04-01 13:43:58,256 - mmaction - INFO - Best top1_acc is 0.8016 at 30 epoch.\n",
      "2021-04-01 13:43:58,256 - mmaction - INFO - Epoch(val) [30][132]\ttop1_acc: 0.8016, top5_acc: 1.0000, mean_class_accuracy: 0.8016\n",
      "2021-04-01 13:44:49,239 - mmaction - INFO - Epoch [31][100/132]\tlr: 7.431e-02, eta: 0:17:23, time: 0.510, data_time: 0.034, memory: 6932, loss_aux: 0.3823, top1_acc: 0.6913, top5_acc: 0.9838, loss_cls: 0.7632, loss: 1.1454, grad_norm: 1.7994\n",
      "2021-04-01 13:45:55,334 - mmaction - INFO - Epoch [32][100/132]\tlr: 6.971e-02, eta: 0:16:31, time: 0.511, data_time: 0.035, memory: 6932, loss_aux: 0.4089, top1_acc: 0.6763, top5_acc: 0.9862, loss_cls: 0.7888, loss: 1.1977, grad_norm: 1.9210\n",
      "2021-04-01 13:47:01,417 - mmaction - INFO - Epoch [33][100/132]\tlr: 6.490e-02, eta: 0:15:39, time: 0.511, data_time: 0.034, memory: 6932, loss_aux: 0.3762, top1_acc: 0.6863, top5_acc: 0.9850, loss_cls: 0.7451, loss: 1.1213, grad_norm: 1.8215\n",
      "2021-04-01 13:48:07,316 - mmaction - INFO - Epoch [34][100/132]\tlr: 5.993e-02, eta: 0:14:47, time: 0.509, data_time: 0.033, memory: 6932, loss_aux: 0.4059, top1_acc: 0.6687, top5_acc: 0.9888, loss_cls: 0.7540, loss: 1.1598, grad_norm: 1.7491\n",
      "2021-04-01 13:49:13,307 - mmaction - INFO - Epoch [35][100/132]\tlr: 5.485e-02, eta: 0:13:56, time: 0.510, data_time: 0.034, memory: 6932, loss_aux: 0.3899, top1_acc: 0.6987, top5_acc: 0.9925, loss_cls: 0.7383, loss: 1.1282, grad_norm: 1.6303\n"
     ]
    },
    {
     "name": "stdout",
     "output_type": "stream",
     "text": [
      "[>>>>>>>>>>>>>>>>>>>>>>>>>>>>>>>>>>>>>>>>] 126/126, 35.4 task/s, elapsed: 4s, ETA:     0s"
     ]
    },
    {
     "name": "stderr",
     "output_type": "stream",
     "text": [
      "2021-04-01 13:49:31,954 - mmaction - INFO - Evaluating top_k_accuracy ...\n",
      "2021-04-01 13:49:31,955 - mmaction - INFO - \n",
      "top1_acc\t0.8095\n",
      "top5_acc\t1.0000\n",
      "2021-04-01 13:49:31,955 - mmaction - INFO - Evaluating mean_class_accuracy ...\n",
      "2021-04-01 13:49:31,956 - mmaction - INFO - \n",
      "mean_acc\t0.8095\n",
      "2021-04-01 13:49:33,348 - mmaction - INFO - Now best checkpoint is saved as best_top1_acc_epoch_35.pth.\n",
      "2021-04-01 13:49:33,349 - mmaction - INFO - Best top1_acc is 0.8095 at 35 epoch.\n",
      "2021-04-01 13:49:33,350 - mmaction - INFO - Epoch(val) [35][132]\ttop1_acc: 0.8095, top5_acc: 1.0000, mean_class_accuracy: 0.8095\n",
      "2021-04-01 13:50:24,248 - mmaction - INFO - Epoch [36][100/132]\tlr: 4.973e-02, eta: 0:13:04, time: 0.509, data_time: 0.033, memory: 6932, loss_aux: 0.3701, top1_acc: 0.7025, top5_acc: 0.9912, loss_cls: 0.7086, loss: 1.0787, grad_norm: 1.6993\n",
      "2021-04-01 13:50:39,217 - mmaction - INFO - Saving checkpoint at 36 epochs\n",
      "2021-04-01 13:51:31,783 - mmaction - INFO - Epoch [37][100/132]\tlr: 4.461e-02, eta: 0:12:12, time: 0.512, data_time: 0.036, memory: 6932, loss_aux: 0.3535, top1_acc: 0.7137, top5_acc: 0.9825, loss_cls: 0.6824, loss: 1.0358, grad_norm: 1.6134\n",
      "2021-04-01 13:52:37,654 - mmaction - INFO - Epoch [38][100/132]\tlr: 3.954e-02, eta: 0:11:21, time: 0.509, data_time: 0.033, memory: 6932, loss_aux: 0.3610, top1_acc: 0.7100, top5_acc: 0.9838, loss_cls: 0.6895, loss: 1.0505, grad_norm: 1.8162\n",
      "2021-04-01 13:53:43,530 - mmaction - INFO - Epoch [39][100/132]\tlr: 3.459e-02, eta: 0:10:29, time: 0.509, data_time: 0.033, memory: 6932, loss_aux: 0.3697, top1_acc: 0.7100, top5_acc: 0.9850, loss_cls: 0.7223, loss: 1.0920, grad_norm: 1.9473\n",
      "2021-04-01 13:54:49,725 - mmaction - INFO - Epoch [40][100/132]\tlr: 2.979e-02, eta: 0:09:38, time: 0.512, data_time: 0.036, memory: 6932, loss_aux: 0.3541, top1_acc: 0.7338, top5_acc: 0.9862, loss_cls: 0.7172, loss: 1.0713, grad_norm: 1.6992\n"
     ]
    },
    {
     "name": "stdout",
     "output_type": "stream",
     "text": [
      "[>>>>>>>>>>>>>>>>>>>>>>>>>>>>>>>>>>>>>>>>] 126/126, 35.6 task/s, elapsed: 4s, ETA:     0s"
     ]
    },
    {
     "name": "stderr",
     "output_type": "stream",
     "text": [
      "2021-04-01 13:55:08,304 - mmaction - INFO - Evaluating top_k_accuracy ...\n",
      "2021-04-01 13:55:08,306 - mmaction - INFO - \n",
      "top1_acc\t0.9286\n",
      "top5_acc\t1.0000\n",
      "2021-04-01 13:55:08,306 - mmaction - INFO - Evaluating mean_class_accuracy ...\n",
      "2021-04-01 13:55:08,307 - mmaction - INFO - \n",
      "mean_acc\t0.9286\n",
      "2021-04-01 13:55:09,719 - mmaction - INFO - Now best checkpoint is saved as best_top1_acc_epoch_40.pth.\n",
      "2021-04-01 13:55:09,721 - mmaction - INFO - Best top1_acc is 0.9286 at 40 epoch.\n",
      "2021-04-01 13:55:09,721 - mmaction - INFO - Epoch(val) [40][132]\ttop1_acc: 0.9286, top5_acc: 1.0000, mean_class_accuracy: 0.9286\n",
      "2021-04-01 13:56:00,844 - mmaction - INFO - Epoch [41][100/132]\tlr: 2.521e-02, eta: 0:08:46, time: 0.511, data_time: 0.036, memory: 6932, loss_aux: 0.3629, top1_acc: 0.7125, top5_acc: 0.9862, loss_cls: 0.6888, loss: 1.0517, grad_norm: 1.6462\n",
      "2021-04-01 13:57:07,024 - mmaction - INFO - Epoch [42][100/132]\tlr: 2.089e-02, eta: 0:07:55, time: 0.512, data_time: 0.035, memory: 6932, loss_aux: 0.3482, top1_acc: 0.7087, top5_acc: 0.9900, loss_cls: 0.6757, loss: 1.0239, grad_norm: 1.7498\n",
      "2021-04-01 13:58:13,124 - mmaction - INFO - Epoch [43][100/132]\tlr: 1.688e-02, eta: 0:07:03, time: 0.511, data_time: 0.034, memory: 6932, loss_aux: 0.3004, top1_acc: 0.7725, top5_acc: 0.9900, loss_cls: 0.5871, loss: 0.8875, grad_norm: 1.5795\n",
      "2021-04-01 13:59:19,236 - mmaction - INFO - Epoch [44][100/132]\tlr: 1.322e-02, eta: 0:06:12, time: 0.511, data_time: 0.035, memory: 6932, loss_aux: 0.3147, top1_acc: 0.7600, top5_acc: 0.9912, loss_cls: 0.6192, loss: 0.9338, grad_norm: 1.6970\n",
      "2021-04-01 14:00:25,282 - mmaction - INFO - Epoch [45][100/132]\tlr: 9.941e-03, eta: 0:05:20, time: 0.511, data_time: 0.034, memory: 6932, loss_aux: 0.3164, top1_acc: 0.7550, top5_acc: 0.9900, loss_cls: 0.6041, loss: 0.9205, grad_norm: 1.7158\n"
     ]
    },
    {
     "name": "stdout",
     "output_type": "stream",
     "text": [
      "[>>>>>>>>>>>>>>>>>>>>>>>>>>>>>>>>>>>>>>>>] 126/126, 35.2 task/s, elapsed: 4s, ETA:     0s"
     ]
    },
    {
     "name": "stderr",
     "output_type": "stream",
     "text": [
      "2021-04-01 14:00:43,993 - mmaction - INFO - Evaluating top_k_accuracy ...\n",
      "2021-04-01 14:00:43,994 - mmaction - INFO - \n",
      "top1_acc\t0.9286\n",
      "top5_acc\t1.0000\n",
      "2021-04-01 14:00:43,995 - mmaction - INFO - Evaluating mean_class_accuracy ...\n",
      "2021-04-01 14:00:43,995 - mmaction - INFO - \n",
      "mean_acc\t0.9286\n",
      "2021-04-01 14:00:43,996 - mmaction - INFO - Epoch(val) [45][132]\ttop1_acc: 0.9286, top5_acc: 1.0000, mean_class_accuracy: 0.9286\n",
      "2021-04-01 14:01:36,395 - mmaction - INFO - Epoch [46][100/132]\tlr: 7.086e-03, eta: 0:04:29, time: 0.524, data_time: 0.035, memory: 6932, loss_aux: 0.3309, top1_acc: 0.7375, top5_acc: 0.9912, loss_cls: 0.6328, loss: 0.9637, grad_norm: 1.6805\n",
      "2021-04-01 14:02:42,786 - mmaction - INFO - Epoch [47][100/132]\tlr: 4.683e-03, eta: 0:03:38, time: 0.513, data_time: 0.036, memory: 6932, loss_aux: 0.3222, top1_acc: 0.7388, top5_acc: 0.9888, loss_cls: 0.6298, loss: 0.9521, grad_norm: 1.7570\n",
      "2021-04-01 14:03:49,159 - mmaction - INFO - Epoch [48][100/132]\tlr: 2.757e-03, eta: 0:02:46, time: 0.513, data_time: 0.036, memory: 6932, loss_aux: 0.3098, top1_acc: 0.7550, top5_acc: 0.9912, loss_cls: 0.6117, loss: 0.9215, grad_norm: 1.7238\n",
      "2021-04-01 14:04:04,180 - mmaction - INFO - Saving checkpoint at 48 epochs\n",
      "2021-04-01 14:04:56,693 - mmaction - INFO - Epoch [49][100/132]\tlr: 1.328e-03, eta: 0:01:55, time: 0.512, data_time: 0.036, memory: 6932, loss_aux: 0.2934, top1_acc: 0.7650, top5_acc: 0.9912, loss_cls: 0.5640, loss: 0.8574, grad_norm: 1.6518\n",
      "2021-04-01 14:06:02,731 - mmaction - INFO - Epoch [50][100/132]\tlr: 4.111e-04, eta: 0:01:03, time: 0.510, data_time: 0.034, memory: 6932, loss_aux: 0.2846, top1_acc: 0.7863, top5_acc: 0.9938, loss_cls: 0.5379, loss: 0.8224, grad_norm: 1.6162\n"
     ]
    },
    {
     "name": "stdout",
     "output_type": "stream",
     "text": [
      "[>>>>>>>>>>>>>>>>>>>>>>>>>>>>>>>>>>>>>>>>] 126/126, 34.8 task/s, elapsed: 4s, ETA:     0s"
     ]
    },
    {
     "name": "stderr",
     "output_type": "stream",
     "text": [
      "2021-04-01 14:06:21,442 - mmaction - INFO - Evaluating top_k_accuracy ...\n",
      "2021-04-01 14:06:21,443 - mmaction - INFO - \n",
      "top1_acc\t0.9206\n",
      "top5_acc\t1.0000\n",
      "2021-04-01 14:06:21,443 - mmaction - INFO - Evaluating mean_class_accuracy ...\n",
      "2021-04-01 14:06:21,444 - mmaction - INFO - \n",
      "mean_acc\t0.9206\n",
      "2021-04-01 14:06:21,444 - mmaction - INFO - Epoch(val) [50][132]\ttop1_acc: 0.9206, top5_acc: 1.0000, mean_class_accuracy: 0.9206\n",
      "2021-04-01 14:07:12,779 - mmaction - INFO - Epoch [51][100/132]\tlr: 1.656e-05, eta: 0:00:12, time: 0.513, data_time: 0.036, memory: 6932, loss_aux: 0.2967, top1_acc: 0.7625, top5_acc: 0.9938, loss_cls: 0.5881, loss: 0.8847, grad_norm: 1.7090\n"
     ]
    }
   ],
   "source": [
    "import os.path as osp\n",
    "\n",
    "from mmaction.datasets import build_dataset\n",
    "from mmaction.models import build_model\n",
    "from mmaction.apis import train_model\n",
    "\n",
    "import mmcv\n",
    "\n",
    "# Build the dataset\n",
    "datasets = [build_dataset(cfg.data.train)]\n",
    "\n",
    "# Build the recognizer\n",
    "model = build_model(cfg.model, train_cfg=cfg.get('train_cfg'), test_cfg=cfg.get('test_cfg'))\n",
    "# model = build_model(cfg.model, train_cfg=cfg.get('train_cfg'), test_cfg=cfg.get('test_cfg'))\n",
    "# model = build_detector(cfg.model, train_cfg=cfg.get('train_cfg'), test_cfg=cfg.get('test_cfg'))\n",
    "# model = build_detector(cfg.model, train_cfg=cfg.train_cfg, test_cfg=cfg.test_cfg)\n",
    "\n",
    "# Create work_dir\n",
    "mmcv.mkdir_or_exist(osp.abspath(cfg.work_dir))\n",
    "train_model(model, datasets, cfg, distributed=False, validate=True)"
   ]
  },
  {
   "cell_type": "code",
   "execution_count": 8,
   "metadata": {},
   "outputs": [],
   "source": [
    "import pickle\n",
    "\n",
    "with open(f\"{cfg.work_dir}/model50e\", 'wb') as f:\n",
    "    pickle.dump(model, f)"
   ]
  },
  {
   "cell_type": "code",
   "execution_count": 9,
   "metadata": {
    "colab": {
     "base_uri": "https://localhost:8080/"
    },
    "id": "eyY3hCMwyTct",
    "outputId": "200e37c7-0da4-421f-98da-41418c3110ca",
    "tags": []
   },
   "outputs": [
    {
     "name": "stdout",
     "output_type": "stream",
     "text": [
      "[>>>>>>>>>>>>>>>>>>>>>>>>>>>>>>>>>>>>>>>] 126/126, 0.2 task/s, elapsed: 667s, ETA:     0s\n",
      "Evaluating top_k_accuracy ...\n",
      "\n",
      "top1_acc\t0.9683\n",
      "top5_acc\t1.0000\n",
      "\n",
      "Evaluating mean_class_accuracy ...\n",
      "\n",
      "mean_acc\t0.9683\n",
      "top1_acc: 0.9683\n",
      "top5_acc: 1.0000\n",
      "mean_class_accuracy: 0.9683\n"
     ]
    }
   ],
   "source": [
    "from mmaction.apis import single_gpu_test\n",
    "from mmaction.datasets import build_dataloader\n",
    "from mmcv.parallel import MMDataParallel\n",
    "from mmaction.models import build_model\n",
    "from mmaction.datasets import build_dataset\n",
    "\n",
    "# model = build_model(cfg.model, train_cfg=cfg.get('train_cfg'), test_cfg=cfg.get('test_cfg'))\n",
    "# Build a test dataloader\n",
    "dataset = build_dataset(cfg.data.test, dict(test_mode=True))\n",
    "data_loader = build_dataloader(\n",
    "        dataset,\n",
    "        videos_per_gpu=4,\n",
    "        workers_per_gpu=1,\n",
    "        dist=False,\n",
    "        shuffle=False)\n",
    "model = MMDataParallel(model, device_ids=[0])\n",
    "outputs = single_gpu_test(model, data_loader)\n",
    "\n",
    "eval_config = cfg.evaluation\n",
    "eval_config.pop('interval')\n",
    "eval_res = dataset.evaluate(outputs, **eval_config)\n",
    "for name, val in eval_res.items():\n",
    "    print(f'{name}: {val:.04f}')\n",
    "    \n",
    "output_config = cfg.output_config\n",
    "dataset.dump_results(outputs, **output_config)"
   ]
  },
  {
   "cell_type": "code",
   "execution_count": 10,
   "metadata": {
    "tags": []
   },
   "outputs": [
    {
     "data": {
      "text/plain": [
       "<AxesSubplot:>"
      ]
     },
     "execution_count": 10,
     "metadata": {},
     "output_type": "execute_result"
    },
    {
     "data": {
      "image/png": "[encoded data removed]",
      "text/plain": [
       "<Figure size 432x288 with 2 Axes>"
      ]
     },
     "metadata": {
      "needs_background": "light"
     },
     "output_type": "display_data"
    }
   ],
   "source": [
    "import seaborn as sns\n",
    "import numpy as np\n",
    "from mmaction.core import confusion_matrix \n",
    "\n",
    "gt_labels = [ann['label'] for ann in dataset.load_annotations()]\n",
    "pred = np.argmax(outputs, axis=1)\n",
    "cf_mat = confusion_matrix(pred, gt_labels).astype(float)\n",
    "\n",
    "sns.heatmap(cf_mat, annot=True, xticklabels = ['box', 'clap', 'go', 'jog', 'run', 'walk', 'wave'], yticklabels = ['box', 'clap', 'go', 'jog', 'run', 'walk', 'wave'] )"
   ]
  },
  {
   "cell_type": "markdown",
   "metadata": {
    "heading_collapsed": "true",
    "tags": []
   },
   "source": [
    "# R(2+1)D Flow 92.86%"
   ]
  },
  {
   "cell_type": "code",
   "execution_count": 109,
   "metadata": {
    "colab": {
     "base_uri": "https://localhost:8080/"
    },
    "id": "64CW6d_AaT-Q",
    "outputId": "3b284fd8-4ee7-4a34-90d7-5023cd123a04",
    "tags": []
   },
   "outputs": [
    {
     "name": "stdout",
     "output_type": "stream",
     "text": [
      "--2021-03-29 22:00:52--  https://download.openmmlab.com/mmaction/recognition/r2plus1d/r2plus1d_r34_32x2x1_180e_kinetics400_rgb/r2plus1d_r34_32x2x1_180e_kinetics400_rgb_20200618-63462eb3.pth\n",
      "Resolving download.openmmlab.com (download.openmmlab.com)... 47.254.186.225\n",
      "Connecting to download.openmmlab.com (download.openmmlab.com)|47.254.186.225|:443... connected.\n",
      "HTTP request sent, awaiting response... 200 OK\n",
      "Length: 255319372 (243M) [application/octet-stream]\n",
      "Saving to: ‘checkpoints/r2plus1d_r34_32x2x1_180e_kinetics400_rgb_20200618-63462eb3.pth’\n",
      "\n",
      "checkpoints/r2plus1 100%[===================>] 243,49M  5,15MB/s    in 44s     \n",
      "\n",
      "2021-03-29 22:01:39 (5,58 MB/s) - ‘checkpoints/r2plus1d_r34_32x2x1_180e_kinetics400_rgb_20200618-63462eb3.pth’ saved [255319372/255319372]\n",
      "\n"
     ]
    }
   ],
   "source": [
    "# !mkdir checkpoints\n",
    "!wget -c https://download.openmmlab.com/mmaction/recognition/r2plus1d/r2plus1d_r34_32x2x1_180e_kinetics400_rgb/r2plus1d_r34_32x2x1_180e_kinetics400_rgb_20200618-63462eb3.pth \\\n",
    "      -O checkpoints/r2plus1d_r34_32x2x1_180e_kinetics400_rgb_20200618-63462eb3.pth"
   ]
  },
  {
   "cell_type": "code",
   "execution_count": 2,
   "metadata": {
    "id": "LjCcmCKOjktc",
    "tags": []
   },
   "outputs": [],
   "source": [
    "from mmcv import Config\n",
    "cfg = Config.fromfile('./configs/recognition/r2plus1d/r2plus1d_r34_32x2x1_180e_kinetics400_rgb.py')"
   ]
  },
  {
   "cell_type": "code",
   "execution_count": 3,
   "metadata": {
    "colab": {
     "base_uri": "https://localhost:8080/"
    },
    "collapsed": true,
    "id": "tlhu9byjjt-K",
    "jupyter": {
     "outputs_hidden": true
    },
    "outputId": "13d1bb01-f351-48c0-9efb-0bdf2c125d29",
    "tags": []
   },
   "outputs": [
    {
     "name": "stdout",
     "output_type": "stream",
     "text": [
      "Config:\n",
      "model = dict(\n",
      "    type='Recognizer3D',\n",
      "    backbone=dict(\n",
      "        type='ResNet2Plus1d',\n",
      "        depth=34,\n",
      "        pretrained=None,\n",
      "        pretrained2d=False,\n",
      "        norm_eval=False,\n",
      "        conv_cfg=dict(type='Conv2plus1d'),\n",
      "        conv1_kernel=(3, 7, 7),\n",
      "        conv1_stride_t=1,\n",
      "        pool1_stride_t=1,\n",
      "        inflate=(1, 1, 1, 1),\n",
      "        spatial_strides=(1, 2, 2, 2),\n",
      "        temporal_strides=(1, 2, 2, 2),\n",
      "        zero_init_residual=False,\n",
      "        in_channels=2),\n",
      "    cls_head=dict(\n",
      "        type='I3DHead',\n",
      "        num_classes=7,\n",
      "        in_channels=512,\n",
      "        spatial_type='avg',\n",
      "        dropout_ratio=0.5,\n",
      "        init_std=0.01),\n",
      "    train_cfg=None,\n",
      "    test_cfg=dict(average_clips='prob'))\n",
      "checkpoint_config = dict(interval=12)\n",
      "log_config = dict(interval=100, hooks=[dict(type='TextLoggerHook')])\n",
      "dist_params = dict(backend='nccl')\n",
      "log_level = 'INFO'\n",
      "load_from = 'checkpoints/r2plus1d_r34_32x2x1_180e_kinetics400_rgb_20200618-63462eb3.pth'\n",
      "resume_from = None\n",
      "workflow = [('train', 1)]\n",
      "dataset_type = 'RawframeDataset'\n",
      "data_root = 'data/childact_rawframe/train/'\n",
      "data_root_val = 'data/childact_rawframe/val/'\n",
      "ann_file_train = 'data/childact_rawframe/childact_train_rawframe.txt'\n",
      "ann_file_val = 'data/childact_rawframe/childact_val_rawframe.txt'\n",
      "ann_file_test = 'data/childact_rawframe/childact_test_rawframe.txt'\n",
      "img_norm_cfg = dict(mean=[128, 128], std=[128, 128])\n",
      "train_pipeline = [\n",
      "    dict(type='SampleFrames', clip_len=32, frame_interval=2, num_clips=1),\n",
      "    dict(type='RawFrameDecode'),\n",
      "    dict(type='Resize', scale=(-1, 256)),\n",
      "    dict(type='RandomResizedCrop'),\n",
      "    dict(type='Resize', scale=(224, 224), keep_ratio=False),\n",
      "    dict(type='Normalize', mean=[128, 128], std=[128, 128]),\n",
      "    dict(type='FormatShape', input_format='NCTHW'),\n",
      "    dict(type='Collect', keys=['imgs', 'label'], meta_keys=[]),\n",
      "    dict(type='ToTensor', keys=['imgs', 'label'])\n",
      "]\n",
      "val_pipeline = [\n",
      "    dict(\n",
      "        type='SampleFrames',\n",
      "        clip_len=32,\n",
      "        frame_interval=2,\n",
      "        num_clips=1,\n",
      "        test_mode=True),\n",
      "    dict(type='RawFrameDecode'),\n",
      "    dict(type='Resize', scale=(-1, 256)),\n",
      "    dict(type='CenterCrop', crop_size=224),\n",
      "    dict(type='Normalize', mean=[128, 128], std=[128, 128]),\n",
      "    dict(type='FormatShape', input_format='NCTHW'),\n",
      "    dict(type='Collect', keys=['imgs', 'label'], meta_keys=[]),\n",
      "    dict(type='ToTensor', keys=['imgs'])\n",
      "]\n",
      "test_pipeline = [\n",
      "    dict(\n",
      "        type='SampleFrames',\n",
      "        clip_len=32,\n",
      "        frame_interval=2,\n",
      "        num_clips=10,\n",
      "        test_mode=True),\n",
      "    dict(type='RawFrameDecode'),\n",
      "    dict(type='Resize', scale=(-1, 256)),\n",
      "    dict(type='ThreeCrop', crop_size=256),\n",
      "    dict(type='Normalize', mean=[128, 128], std=[128, 128]),\n",
      "    dict(type='FormatShape', input_format='NCTHW'),\n",
      "    dict(type='Collect', keys=['imgs', 'label'], meta_keys=[]),\n",
      "    dict(type='ToTensor', keys=['imgs'])\n",
      "]\n",
      "data = dict(\n",
      "    videos_per_gpu=8,\n",
      "    workers_per_gpu=4,\n",
      "    train=dict(\n",
      "        type='RawframeDataset',\n",
      "        ann_file='data/childact_rawframe/childact_train_rawframe.txt',\n",
      "        data_prefix='data/childact_rawframe/train/',\n",
      "        pipeline=[\n",
      "            dict(\n",
      "                type='SampleFrames',\n",
      "                clip_len=32,\n",
      "                frame_interval=2,\n",
      "                num_clips=1),\n",
      "            dict(type='RawFrameDecode'),\n",
      "            dict(type='Resize', scale=(-1, 256)),\n",
      "            dict(type='RandomResizedCrop'),\n",
      "            dict(type='Resize', scale=(224, 224), keep_ratio=False),\n",
      "            dict(type='Normalize', mean=[128, 128], std=[128, 128]),\n",
      "            dict(type='FormatShape', input_format='NCTHW'),\n",
      "            dict(type='Collect', keys=['imgs', 'label'], meta_keys=[]),\n",
      "            dict(type='ToTensor', keys=['imgs', 'label'])\n",
      "        ],\n",
      "        modality='Flow',\n",
      "        start_index=0,\n",
      "        filename_tmpl='flow_{}_{:05d}.jpg'),\n",
      "    val=dict(\n",
      "        type='RawframeDataset',\n",
      "        ann_file='data/childact_rawframe/childact_val_rawframe.txt',\n",
      "        data_prefix='data/childact_rawframe/val/',\n",
      "        pipeline=[\n",
      "            dict(\n",
      "                type='SampleFrames',\n",
      "                clip_len=32,\n",
      "                frame_interval=2,\n",
      "                num_clips=1,\n",
      "                test_mode=True),\n",
      "            dict(type='RawFrameDecode'),\n",
      "            dict(type='Resize', scale=(-1, 256)),\n",
      "            dict(type='CenterCrop', crop_size=224),\n",
      "            dict(type='Normalize', mean=[128, 128], std=[128, 128]),\n",
      "            dict(type='FormatShape', input_format='NCTHW'),\n",
      "            dict(type='Collect', keys=['imgs', 'label'], meta_keys=[]),\n",
      "            dict(type='ToTensor', keys=['imgs'])\n",
      "        ],\n",
      "        test_mode=True,\n",
      "        modality='Flow',\n",
      "        start_index=0,\n",
      "        filename_tmpl='flow_{}_{:05d}.jpg'),\n",
      "    test=dict(\n",
      "        type='RawframeDataset',\n",
      "        ann_file='data/childact_rawframe/childact_test_rawframe.txt',\n",
      "        data_prefix='data/childact_rawframe/test/',\n",
      "        pipeline=[\n",
      "            dict(\n",
      "                type='SampleFrames',\n",
      "                clip_len=32,\n",
      "                frame_interval=2,\n",
      "                num_clips=10,\n",
      "                test_mode=True),\n",
      "            dict(type='RawFrameDecode'),\n",
      "            dict(type='Resize', scale=(-1, 256)),\n",
      "            dict(type='ThreeCrop', crop_size=256),\n",
      "            dict(type='Normalize', mean=[128, 128], std=[128, 128]),\n",
      "            dict(type='FormatShape', input_format='NCTHW'),\n",
      "            dict(type='Collect', keys=['imgs', 'label'], meta_keys=[]),\n",
      "            dict(type='ToTensor', keys=['imgs'])\n",
      "        ],\n",
      "        test_mode=True,\n",
      "        modality='Flow',\n",
      "        start_index=0,\n",
      "        filename_tmpl='flow_{}_{:05d}.jpg'))\n",
      "evaluation = dict(\n",
      "    interval=5, metrics=['top_k_accuracy', 'mean_class_accuracy'])\n",
      "optimizer = dict(type='SGD', lr=0.075, momentum=0.9, weight_decay=0.0001)\n",
      "optimizer_config = dict(grad_clip=dict(max_norm=40, norm_type=2))\n",
      "lr_config = dict(\n",
      "    policy='cyclic',\n",
      "    target_ratio=(10, 1e-05),\n",
      "    cyclic_times=1,\n",
      "    step_ratio_up=0.4)\n",
      "total_epochs = 51\n",
      "work_dir = './childact-checkpoints/childact-R2+1D-flow'\n",
      "find_unused_parameters = False\n",
      "omnisource = False\n",
      "momentum_config = dict(\n",
      "    policy='cyclic',\n",
      "    target_ratio=(0.8947368421052632, 1),\n",
      "    cyclic_times=1,\n",
      "    step_ratio_up=0.4)\n",
      "seed = 42\n",
      "gpu_ids = range(0, 1)\n",
      "output_config = dict(\n",
      "    out='./childact-checkpoints/childact-R2+1D-flow/results.json')\n",
      "\n"
     ]
    }
   ],
   "source": [
    "from mmcv.runner import set_random_seed\n",
    "\n",
    "# Modify dataset type and path\n",
    "# cfg.dataset_type = 'VideoDataset'\n",
    "cfg.data_root = 'data/childact_rawframe/train/'\n",
    "cfg.data_root_val = 'data/childact_rawframe/val/'\n",
    "cfg.ann_file_train = 'data/childact_rawframe/childact_train_rawframe.txt'\n",
    "cfg.ann_file_val = 'data/childact_rawframe/childact_val_rawframe.txt'\n",
    "cfg.ann_file_test = 'data/childact_rawframe/childact_test_rawframe.txt'\n",
    "\n",
    "# cfg.data.test.type = 'VideoDataset'\n",
    "cfg.data.test.ann_file = 'data/childact_rawframe/childact_test_rawframe.txt'\n",
    "cfg.data.test.data_prefix = 'data/childact_rawframe/test/'\n",
    "\n",
    "# cfg.data.train.type = 'VideoDataset'\n",
    "cfg.data.train.ann_file = 'data/childact_rawframe/childact_train_rawframe.txt'\n",
    "cfg.data.train.data_prefix = 'data/childact_rawframe/train/'\n",
    "\n",
    "# cfg.data.val.type = 'VideoDataset'\n",
    "cfg.data.val.ann_file = 'data/childact_rawframe/childact_val_rawframe.txt'\n",
    "cfg.data.val.data_prefix = 'data/childact_rawframe/val/'\n",
    "\n",
    "cfg.data.test.modality = 'Flow'\n",
    "cfg.data.val.modality = 'Flow'\n",
    "cfg.data.train.modality = 'Flow'\n",
    "\n",
    "cfg.data.train.start_index = 0\n",
    "cfg.data.test.start_index = 0\n",
    "cfg.data.val.start_index = 0\n",
    "\n",
    "cfg.data.test.filename_tmpl = 'flow_{}_{:05d}.jpg'\n",
    "cfg.data.train.filename_tmpl = 'flow_{}_{:05d}.jpg'\n",
    "cfg.data.val.filename_tmpl = 'flow_{}_{:05d}.jpg'\n",
    "# The flag is used to determine whether it is omnisource training\n",
    "cfg.setdefault('omnisource', False)\n",
    "# Modify num classes of the model in cls_head\n",
    "cfg.model.cls_head.num_classes = 7\n",
    "# We can use the pre-trained TSN model\n",
    "cfg.load_from = 'checkpoints/r2plus1d_r34_32x2x1_180e_kinetics400_rgb_20200618-63462eb3.pth'\n",
    "# cfg.resume_from = './childact-mm/latest.pth'\n",
    "\n",
    "# Set up working dir to save files and logs.\n",
    "cfg.work_dir = './childact-checkpoints/childact-R2+1D-flow'\n",
    "\n",
    "cfg.img_norm_cfg = dict(mean=[128, 128], std=[128, 128])\n",
    "\n",
    "\n",
    "cfg.val_pipeline = [\n",
    "    dict(type='SampleFrames',clip_len=32, frame_interval=2, num_clips=1, test_mode=True),\n",
    "    dict(type='RawFrameDecode'),\n",
    "    dict(type='Resize', scale=(-1, 256)),\n",
    "    dict(type='CenterCrop', crop_size=224),\n",
    "#     dict(type='Resize', scale=(224, 224), keep_ratio=False),\n",
    "#     dict(type='Flip', flip_ratio=0.5)\n",
    "    dict(type='Normalize', mean=[128, 128], std=[128, 128]),\n",
    "    dict(type='FormatShape', input_format='NCTHW'),\n",
    "    dict(type='Collect', keys=['imgs', 'label'], meta_keys=[]),\n",
    "    dict(type='ToTensor', keys=['imgs'])\n",
    "]\n",
    "cfg.test_pipeline = [\n",
    "    dict(type='SampleFrames', clip_len=32, frame_interval=2, num_clips=10, test_mode=True),\n",
    "    dict(type='RawFrameDecode'),\n",
    "    dict(type='Resize', scale=(-1, 256)),\n",
    "    dict(type='ThreeCrop', crop_size=256),\n",
    "    dict(type='Normalize', mean=[128, 128], std=[128, 128]),\n",
    "    dict(type='FormatShape', input_format='NCTHW'),\n",
    "    dict(type='Collect', keys=['imgs', 'label'], meta_keys=[]),\n",
    "    dict(type='ToTensor', keys=['imgs'])\n",
    "]\n",
    "\n",
    "cfg.train_pipeline = [\n",
    "    dict(type='SampleFrames', clip_len=32, frame_interval=2, num_clips=1),\n",
    "    dict(type='RawFrameDecode'),\n",
    "    dict(type='Resize', scale=(-1, 256)),\n",
    "#     dict(type='RandomCrop', size=224),\n",
    "    dict(type='RandomResizedCrop'),\n",
    "    dict(type='Resize', scale=(224, 224), keep_ratio=False),\n",
    "#     dict(type='Flip', flip_ratio=0.5),\n",
    "    dict(type='Normalize', mean=[128, 128], std=[128, 128]),\n",
    "    dict(type='FormatShape', input_format='NCTHW'),\n",
    "    dict(type='Collect', keys=['imgs', 'label'], meta_keys=[]),\n",
    "    dict(type='ToTensor', keys=['imgs', 'label'])\n",
    "]\n",
    "\n",
    "test_pipeline = [\n",
    "    dict(\n",
    "        type='SampleFrames',\n",
    "        clip_len=32,\n",
    "        frame_interval=2,\n",
    "        num_clips=10,\n",
    "        test_mode=True),\n",
    "    dict(type='RawFrameDecode'),\n",
    "    dict(type='Resize', scale=(-1, 256)),\n",
    "    dict(type='ThreeCrop', crop_size=256),\n",
    "    dict(type='Flip', flip_ratio=0),\n",
    "    dict(\n",
    "        type='Normalize',\n",
    "        mean=[123.675, 116.28, 103.53],\n",
    "        std=[58.395, 57.12, 57.375],\n",
    "        to_bgr=False),\n",
    "    dict(type='FormatShape', input_format='NCTHW'),\n",
    "    dict(type='Collect', keys=['imgs', 'label'], meta_keys=[]),\n",
    "    dict(type='ToTensor', keys=['imgs'])\n",
    "]\n",
    "\n",
    "cfg.data.train.pipeline = cfg.train_pipeline\n",
    "cfg.data.val.pipeline = cfg.val_pipeline\n",
    "cfg.data.test.pipeline = cfg.test_pipeline\n",
    "\n",
    "\n",
    "cfg.lr_config = dict(\n",
    "    policy='cyclic',\n",
    "    target_ratio=(10, 1e-5),\n",
    "    cyclic_times=1,\n",
    "    step_ratio_up=0.4,\n",
    ")\n",
    "\n",
    "cfg.total_epochs = 51\n",
    "\n",
    "cfg.momentum_config = dict(\n",
    "    policy='cyclic',\n",
    "    target_ratio=(0.85 / 0.95, 1),\n",
    "    cyclic_times=1,\n",
    "    step_ratio_up=0.4,\n",
    ")\n",
    "\n",
    "# We can set the checkpoint saving interval to reduce the storage cost\n",
    "cfg.checkpoint_config.interval = 12\n",
    "# We can set the log print interval to reduce the the times of printing log\n",
    "cfg.log_config.interval = 100\n",
    "\n",
    "# Set seed thus the results are more reproducible\n",
    "cfg.seed = 42\n",
    "set_random_seed(42, deterministic=False)\n",
    "cfg.gpu_ids = range(1)\n",
    "\n",
    "cfg.data.videos_per_gpu=8\n",
    "\n",
    "cfg.model.backbone.in_channels = 2\n",
    "\n",
    "del cfg.model.backbone['norm_cfg']\n",
    "\n",
    "cfg.output_config = dict(out=f'{cfg.work_dir}/results.json')\n",
    "# We can initialize the logger for training and have a look\n",
    "# at the final config used for training\n",
    "# del cfg.optimizer['momentum']\n",
    "print(f'Config:\\n{cfg.pretty_text}')"
   ]
  },
  {
   "cell_type": "code",
   "execution_count": 15,
   "metadata": {
    "colab": {
     "base_uri": "https://localhost:8080/"
    },
    "collapsed": true,
    "id": "dDBWkdDRk6oz",
    "jupyter": {
     "outputs_hidden": true
    },
    "outputId": "85a52ef3-7b5c-4c52-8fef-00322a8c65e6",
    "tags": []
   },
   "outputs": [
    {
     "name": "stderr",
     "output_type": "stream",
     "text": [
      "2021-03-31 09:23:45,313 - mmaction - INFO - load checkpoint from checkpoints/r2plus1d_r34_32x2x1_180e_kinetics400_rgb_20200618-63462eb3.pth\n",
      "2021-03-31 09:23:45,314 - mmaction - INFO - Use load_from_local loader\n",
      "2021-03-31 09:23:45,882 - mmaction - WARNING - The model and loaded state dict do not match exactly\n",
      "\n",
      "size mismatch for backbone.conv1.conv.conv_s.weight: copying a param with shape torch.Size([83, 3, 1, 7, 7]) from checkpoint, the shape in current model is torch.Size([64, 2, 1, 7, 7]).\n",
      "size mismatch for backbone.conv1.conv.bn_s.weight: copying a param with shape torch.Size([83]) from checkpoint, the shape in current model is torch.Size([64]).\n",
      "size mismatch for backbone.conv1.conv.bn_s.bias: copying a param with shape torch.Size([83]) from checkpoint, the shape in current model is torch.Size([64]).\n",
      "size mismatch for backbone.conv1.conv.bn_s.running_mean: copying a param with shape torch.Size([83]) from checkpoint, the shape in current model is torch.Size([64]).\n",
      "size mismatch for backbone.conv1.conv.bn_s.running_var: copying a param with shape torch.Size([83]) from checkpoint, the shape in current model is torch.Size([64]).\n",
      "size mismatch for backbone.conv1.conv.conv_t.weight: copying a param with shape torch.Size([64, 83, 3, 1, 1]) from checkpoint, the shape in current model is torch.Size([64, 64, 3, 1, 1]).\n",
      "size mismatch for cls_head.fc_cls.weight: copying a param with shape torch.Size([400, 512]) from checkpoint, the shape in current model is torch.Size([7, 512]).\n",
      "size mismatch for cls_head.fc_cls.bias: copying a param with shape torch.Size([400]) from checkpoint, the shape in current model is torch.Size([7]).\n",
      "2021-03-31 09:23:45,887 - mmaction - INFO - Start running, host: actrec@actrec-HP-Z4-G4-Workstation, work_dir: /home/actrec/.virtualenvs/mmaction/mmaction2/childact-checkpoints/childact-R2+1D-flow\n",
      "2021-03-31 09:23:45,888 - mmaction - INFO - workflow: [('train', 1)], max: 51 epochs\n",
      "2021-03-31 09:25:55,825 - mmaction - INFO - Epoch [1][100/132]\tlr: 7.725e-02, eta: 2:23:37, time: 1.299, data_time: 0.032, memory: 21787, top1_acc: 0.1812, top5_acc: 0.7762, loss_cls: 2.0917, loss: 2.0917, grad_norm: 3.3519\n",
      "2021-03-31 09:28:48,344 - mmaction - INFO - Epoch [2][100/132]\tlr: 8.719e-02, eta: 2:02:22, time: 1.321, data_time: 0.031, memory: 21787, top1_acc: 0.2963, top5_acc: 0.8662, loss_cls: 1.7636, loss: 1.7636, grad_norm: 1.2050\n",
      "2021-03-31 09:31:41,319 - mmaction - INFO - Epoch [3][100/132]\tlr: 1.048e-01, eta: 1:55:00, time: 1.324, data_time: 0.029, memory: 21787, top1_acc: 0.3438, top5_acc: 0.9163, loss_cls: 1.6365, loss: 1.6365, grad_norm: 1.4674\n",
      "2021-03-31 09:34:34,538 - mmaction - INFO - Epoch [4][100/132]\tlr: 1.298e-01, eta: 1:50:24, time: 1.325, data_time: 0.029, memory: 21787, top1_acc: 0.4188, top5_acc: 0.9387, loss_cls: 1.4425, loss: 1.4425, grad_norm: 1.3342\n",
      "2021-03-31 09:37:28,101 - mmaction - INFO - Epoch [5][100/132]\tlr: 1.614e-01, eta: 1:46:52, time: 1.328, data_time: 0.032, memory: 21787, top1_acc: 0.3412, top5_acc: 0.9175, loss_cls: 1.6149, loss: 1.6149, grad_norm: 1.4457\n"
     ]
    },
    {
     "name": "stdout",
     "output_type": "stream",
     "text": [
      "[>>>>>>>>>>>>>>>>>>>>>>>>>>>>>>>>>>>>>>>>] 126/126, 19.5 task/s, elapsed: 6s, ETA:     0s"
     ]
    },
    {
     "name": "stderr",
     "output_type": "stream",
     "text": [
      "2021-03-31 09:38:15,316 - mmaction - INFO - Evaluating top_k_accuracy ...\n",
      "2021-03-31 09:38:15,318 - mmaction - INFO - \n",
      "top1_acc\t0.5714\n",
      "top5_acc\t0.9762\n",
      "2021-03-31 09:38:15,319 - mmaction - INFO - Evaluating mean_class_accuracy ...\n",
      "2021-03-31 09:38:15,321 - mmaction - INFO - \n",
      "mean_acc\t0.5714\n",
      "2021-03-31 09:38:16,193 - mmaction - INFO - Now best checkpoint is saved as best_top1_acc_epoch_5.pth.\n",
      "2021-03-31 09:38:16,194 - mmaction - INFO - Best top1_acc is 0.5714 at 5 epoch.\n",
      "2021-03-31 09:38:16,195 - mmaction - INFO - Epoch(val) [5][132]\ttop1_acc: 0.5714, top5_acc: 0.9762, mean_class_accuracy: 0.5714\n",
      "2021-03-31 09:40:28,170 - mmaction - INFO - Epoch [6][100/132]\tlr: 1.990e-01, eta: 1:43:40, time: 1.320, data_time: 0.029, memory: 21787, top1_acc: 0.3650, top5_acc: 0.9375, loss_cls: 1.5938, loss: 1.5938, grad_norm: 1.1622\n",
      "2021-03-31 09:43:21,009 - mmaction - INFO - Epoch [7][100/132]\tlr: 2.416e-01, eta: 1:40:49, time: 1.323, data_time: 0.030, memory: 21787, top1_acc: 0.4462, top5_acc: 0.9563, loss_cls: 1.3807, loss: 1.3807, grad_norm: 1.0861\n",
      "2021-03-31 09:46:14,319 - mmaction - INFO - Epoch [8][100/132]\tlr: 2.883e-01, eta: 1:38:09, time: 1.327, data_time: 0.029, memory: 21787, top1_acc: 0.4175, top5_acc: 0.9475, loss_cls: 1.4766, loss: 1.4766, grad_norm: 1.2079\n",
      "2021-03-31 09:49:07,438 - mmaction - INFO - Epoch [9][100/132]\tlr: 3.379e-01, eta: 1:35:35, time: 1.325, data_time: 0.031, memory: 21787, top1_acc: 0.4188, top5_acc: 0.9363, loss_cls: 1.4436, loss: 1.4436, grad_norm: 1.0484\n",
      "2021-03-31 09:52:00,502 - mmaction - INFO - Epoch [10][100/132]\tlr: 3.893e-01, eta: 1:33:05, time: 1.324, data_time: 0.032, memory: 21787, top1_acc: 0.4412, top5_acc: 0.9325, loss_cls: 1.4712, loss: 1.4712, grad_norm: 1.0398\n"
     ]
    },
    {
     "name": "stdout",
     "output_type": "stream",
     "text": [
      "[>>>>>>>>>>>>>>>>>>>>>>>>>>>>>>>>>>>>>>>>] 126/126, 19.1 task/s, elapsed: 7s, ETA:     0s"
     ]
    },
    {
     "name": "stderr",
     "output_type": "stream",
     "text": [
      "2021-03-31 09:52:47,838 - mmaction - INFO - Evaluating top_k_accuracy ...\n",
      "2021-03-31 09:52:47,839 - mmaction - INFO - \n",
      "top1_acc\t0.3889\n",
      "top5_acc\t0.9762\n",
      "2021-03-31 09:52:47,839 - mmaction - INFO - Evaluating mean_class_accuracy ...\n",
      "2021-03-31 09:52:47,840 - mmaction - INFO - \n",
      "mean_acc\t0.3889\n",
      "2021-03-31 09:52:47,841 - mmaction - INFO - Epoch(val) [10][132]\ttop1_acc: 0.3889, top5_acc: 0.9762, mean_class_accuracy: 0.3889\n",
      "2021-03-31 09:55:00,419 - mmaction - INFO - Epoch [11][100/132]\tlr: 4.412e-01, eta: 1:30:39, time: 1.326, data_time: 0.032, memory: 21787, top1_acc: 0.4100, top5_acc: 0.9300, loss_cls: 1.5292, loss: 1.5292, grad_norm: 1.0860\n",
      "2021-03-31 09:57:53,570 - mmaction - INFO - Epoch [12][100/132]\tlr: 4.925e-01, eta: 1:28:15, time: 1.325, data_time: 0.030, memory: 21787, top1_acc: 0.3912, top5_acc: 0.9125, loss_cls: 1.6177, loss: 1.6177, grad_norm: 1.0584\n",
      "2021-03-31 09:58:34,518 - mmaction - INFO - Saving checkpoint at 12 epochs\n",
      "2021-03-31 10:00:49,321 - mmaction - INFO - Epoch [13][100/132]\tlr: 5.418e-01, eta: 1:25:57, time: 1.339, data_time: 0.031, memory: 21787, top1_acc: 0.3950, top5_acc: 0.9250, loss_cls: 1.6127, loss: 1.6127, grad_norm: 1.0346\n",
      "2021-03-31 10:03:41,869 - mmaction - INFO - Epoch [14][100/132]\tlr: 5.881e-01, eta: 1:23:34, time: 1.318, data_time: 0.029, memory: 21787, top1_acc: 0.3650, top5_acc: 0.9125, loss_cls: 1.6354, loss: 1.6354, grad_norm: 0.9911\n",
      "2021-03-31 10:06:35,151 - mmaction - INFO - Epoch [15][100/132]\tlr: 6.303e-01, eta: 1:21:14, time: 1.326, data_time: 0.032, memory: 21787, top1_acc: 0.3962, top5_acc: 0.9237, loss_cls: 1.5532, loss: 1.5532, grad_norm: 0.8606\n"
     ]
    },
    {
     "name": "stdout",
     "output_type": "stream",
     "text": [
      "[>>>>>>>>>>>>>>>>>>>>>>>>>>>>>>>>>>>>>>>>] 126/126, 18.7 task/s, elapsed: 7s, ETA:     0s"
     ]
    },
    {
     "name": "stderr",
     "output_type": "stream",
     "text": [
      "2021-03-31 10:07:22,687 - mmaction - INFO - Evaluating top_k_accuracy ...\n",
      "2021-03-31 10:07:22,690 - mmaction - INFO - \n",
      "top1_acc\t0.3810\n",
      "top5_acc\t0.9921\n",
      "2021-03-31 10:07:22,690 - mmaction - INFO - Evaluating mean_class_accuracy ...\n",
      "2021-03-31 10:07:22,692 - mmaction - INFO - \n",
      "mean_acc\t0.3810\n",
      "2021-03-31 10:07:22,692 - mmaction - INFO - Epoch(val) [15][132]\ttop1_acc: 0.3810, top5_acc: 0.9921, mean_class_accuracy: 0.3810\n",
      "2021-03-31 10:09:35,099 - mmaction - INFO - Epoch [16][100/132]\tlr: 6.673e-01, eta: 1:18:55, time: 1.324, data_time: 0.031, memory: 21787, top1_acc: 0.4200, top5_acc: 0.9200, loss_cls: 1.4761, loss: 1.4761, grad_norm: 0.7987\n",
      "2021-03-31 10:12:28,037 - mmaction - INFO - Epoch [17][100/132]\tlr: 6.982e-01, eta: 1:16:36, time: 1.323, data_time: 0.030, memory: 21787, top1_acc: 0.3962, top5_acc: 0.9275, loss_cls: 1.5405, loss: 1.5405, grad_norm: 0.8146\n",
      "2021-03-31 10:15:20,955 - mmaction - INFO - Epoch [18][100/132]\tlr: 7.224e-01, eta: 1:14:18, time: 1.323, data_time: 0.030, memory: 21787, top1_acc: 0.4338, top5_acc: 0.9300, loss_cls: 1.5227, loss: 1.5227, grad_norm: 0.8175\n",
      "2021-03-31 10:18:13,741 - mmaction - INFO - Epoch [19][100/132]\tlr: 7.392e-01, eta: 1:12:01, time: 1.322, data_time: 0.029, memory: 21787, top1_acc: 0.4200, top5_acc: 0.9300, loss_cls: 1.5359, loss: 1.5359, grad_norm: 0.8446\n",
      "2021-03-31 10:21:06,525 - mmaction - INFO - Epoch [20][100/132]\tlr: 7.483e-01, eta: 1:09:44, time: 1.322, data_time: 0.030, memory: 21787, top1_acc: 0.3713, top5_acc: 0.9225, loss_cls: 1.5914, loss: 1.5914, grad_norm: 0.8252\n"
     ]
    },
    {
     "name": "stdout",
     "output_type": "stream",
     "text": [
      "[>>>>>>>>>>>>>>>>>>>>>>>>>>>>>>>>>>>>>>>>] 126/126, 19.0 task/s, elapsed: 7s, ETA:     0s"
     ]
    },
    {
     "name": "stderr",
     "output_type": "stream",
     "text": [
      "2021-03-31 10:21:53,861 - mmaction - INFO - Evaluating top_k_accuracy ...\n",
      "2021-03-31 10:21:53,863 - mmaction - INFO - \n",
      "top1_acc\t0.5397\n",
      "top5_acc\t0.9603\n",
      "2021-03-31 10:21:53,864 - mmaction - INFO - Evaluating mean_class_accuracy ...\n",
      "2021-03-31 10:21:53,866 - mmaction - INFO - \n",
      "mean_acc\t0.5397\n",
      "2021-03-31 10:21:53,867 - mmaction - INFO - Epoch(val) [20][132]\ttop1_acc: 0.5397, top5_acc: 0.9603, mean_class_accuracy: 0.5397\n",
      "2021-03-31 10:24:06,925 - mmaction - INFO - Epoch [21][100/132]\tlr: 7.497e-01, eta: 1:07:29, time: 1.331, data_time: 0.030, memory: 21787, top1_acc: 0.4113, top5_acc: 0.9325, loss_cls: 1.5000, loss: 1.5000, grad_norm: 0.7922\n",
      "2021-03-31 10:27:00,101 - mmaction - INFO - Epoch [22][100/132]\tlr: 7.464e-01, eta: 1:05:13, time: 1.324, data_time: 0.029, memory: 21787, top1_acc: 0.3438, top5_acc: 0.8950, loss_cls: 1.6101, loss: 1.6101, grad_norm: 0.7219\n",
      "2021-03-31 10:29:53,382 - mmaction - INFO - Epoch [23][100/132]\tlr: 7.391e-01, eta: 1:02:58, time: 1.326, data_time: 0.030, memory: 21787, top1_acc: 0.3613, top5_acc: 0.9263, loss_cls: 1.5638, loss: 1.5638, grad_norm: 0.7427\n",
      "2021-03-31 10:32:46,308 - mmaction - INFO - Epoch [24][100/132]\tlr: 7.280e-01, eta: 1:00:42, time: 1.323, data_time: 0.029, memory: 21787, top1_acc: 0.4025, top5_acc: 0.9213, loss_cls: 1.5435, loss: 1.5435, grad_norm: 0.7993\n",
      "2021-03-31 10:33:26,996 - mmaction - INFO - Saving checkpoint at 24 epochs\n",
      "2021-03-31 10:35:40,808 - mmaction - INFO - Epoch [25][100/132]\tlr: 7.131e-01, eta: 0:58:28, time: 1.329, data_time: 0.030, memory: 21787, top1_acc: 0.3450, top5_acc: 0.9150, loss_cls: 1.6990, loss: 1.6990, grad_norm: 0.8714\n"
     ]
    },
    {
     "name": "stdout",
     "output_type": "stream",
     "text": [
      "[>>>>>>>>>>>>>>>>>>>>>>>>>>>>>>>>>>>>>>>>] 126/126, 18.9 task/s, elapsed: 7s, ETA:     0s"
     ]
    },
    {
     "name": "stderr",
     "output_type": "stream",
     "text": [
      "2021-03-31 10:36:28,322 - mmaction - INFO - Evaluating top_k_accuracy ...\n",
      "2021-03-31 10:36:28,324 - mmaction - INFO - \n",
      "top1_acc\t0.2778\n",
      "top5_acc\t0.9841\n",
      "2021-03-31 10:36:28,324 - mmaction - INFO - Evaluating mean_class_accuracy ...\n",
      "2021-03-31 10:36:28,326 - mmaction - INFO - \n",
      "mean_acc\t0.2778\n",
      "2021-03-31 10:36:28,326 - mmaction - INFO - Epoch(val) [25][132]\ttop1_acc: 0.2778, top5_acc: 0.9841, mean_class_accuracy: 0.2778\n",
      "2021-03-31 10:38:40,852 - mmaction - INFO - Epoch [26][100/132]\tlr: 6.947e-01, eta: 0:56:13, time: 1.325, data_time: 0.029, memory: 21787, top1_acc: 0.4338, top5_acc: 0.9250, loss_cls: 1.5131, loss: 1.5131, grad_norm: 0.7067\n",
      "2021-03-31 10:41:34,185 - mmaction - INFO - Epoch [27][100/132]\tlr: 6.730e-01, eta: 0:53:58, time: 1.326, data_time: 0.031, memory: 21787, top1_acc: 0.3688, top5_acc: 0.9137, loss_cls: 1.5175, loss: 1.5175, grad_norm: 0.7141\n",
      "2021-03-31 10:44:27,300 - mmaction - INFO - Epoch [28][100/132]\tlr: 6.481e-01, eta: 0:51:44, time: 1.323, data_time: 0.029, memory: 21787, top1_acc: 0.4363, top5_acc: 0.9300, loss_cls: 1.4977, loss: 1.4977, grad_norm: 0.7367\n",
      "2021-03-31 10:47:20,470 - mmaction - INFO - Epoch [29][100/132]\tlr: 6.203e-01, eta: 0:49:29, time: 1.325, data_time: 0.032, memory: 21787, top1_acc: 0.4250, top5_acc: 0.9400, loss_cls: 1.4125, loss: 1.4125, grad_norm: 0.6804\n",
      "2021-03-31 10:50:13,639 - mmaction - INFO - Epoch [30][100/132]\tlr: 5.900e-01, eta: 0:47:15, time: 1.326, data_time: 0.030, memory: 21787, top1_acc: 0.4763, top5_acc: 0.9200, loss_cls: 1.3615, loss: 1.3615, grad_norm: 0.6618\n"
     ]
    },
    {
     "name": "stdout",
     "output_type": "stream",
     "text": [
      "[>>>>>>>>>>>>>>>>>>>>>>>>>>>>>>>>>>>>>>>>] 126/126, 18.9 task/s, elapsed: 7s, ETA:     0s"
     ]
    },
    {
     "name": "stderr",
     "output_type": "stream",
     "text": [
      "2021-03-31 10:51:00,968 - mmaction - INFO - Evaluating top_k_accuracy ...\n",
      "2021-03-31 10:51:00,970 - mmaction - INFO - \n",
      "top1_acc\t0.5159\n",
      "top5_acc\t0.9921\n",
      "2021-03-31 10:51:00,971 - mmaction - INFO - Evaluating mean_class_accuracy ...\n",
      "2021-03-31 10:51:00,973 - mmaction - INFO - \n",
      "mean_acc\t0.5159\n",
      "2021-03-31 10:51:00,973 - mmaction - INFO - Epoch(val) [30][132]\ttop1_acc: 0.5159, top5_acc: 0.9921, mean_class_accuracy: 0.5159\n",
      "2021-03-31 10:53:13,569 - mmaction - INFO - Epoch [31][100/132]\tlr: 5.573e-01, eta: 0:45:01, time: 1.326, data_time: 0.032, memory: 21787, top1_acc: 0.4288, top5_acc: 0.9287, loss_cls: 1.4670, loss: 1.4670, grad_norm: 0.7006\n",
      "2021-03-31 10:56:06,702 - mmaction - INFO - Epoch [32][100/132]\tlr: 5.228e-01, eta: 0:42:47, time: 1.325, data_time: 0.029, memory: 21787, top1_acc: 0.4750, top5_acc: 0.9387, loss_cls: 1.2957, loss: 1.2957, grad_norm: 0.7049\n",
      "2021-03-31 10:59:01,048 - mmaction - INFO - Epoch [33][100/132]\tlr: 4.867e-01, eta: 0:40:34, time: 1.337, data_time: 0.029, memory: 21787, top1_acc: 0.4700, top5_acc: 0.9437, loss_cls: 1.3124, loss: 1.3124, grad_norm: 0.6862\n",
      "2021-03-31 11:01:53,843 - mmaction - INFO - Epoch [34][100/132]\tlr: 4.494e-01, eta: 0:38:20, time: 1.321, data_time: 0.030, memory: 21787, top1_acc: 0.4675, top5_acc: 0.9463, loss_cls: 1.3420, loss: 1.3420, grad_norm: 0.7411\n",
      "2021-03-31 11:04:46,504 - mmaction - INFO - Epoch [35][100/132]\tlr: 4.114e-01, eta: 0:36:06, time: 1.320, data_time: 0.029, memory: 21787, top1_acc: 0.4637, top5_acc: 0.9313, loss_cls: 1.2972, loss: 1.2972, grad_norm: 0.6711\n"
     ]
    },
    {
     "name": "stdout",
     "output_type": "stream",
     "text": [
      "[>>>>>>>>>>>>>>>>>>>>>>>>>>>>>>>>>>>>>>>>] 126/126, 18.8 task/s, elapsed: 7s, ETA:     0s"
     ]
    },
    {
     "name": "stderr",
     "output_type": "stream",
     "text": [
      "2021-03-31 11:05:33,816 - mmaction - INFO - Evaluating top_k_accuracy ...\n",
      "2021-03-31 11:05:33,818 - mmaction - INFO - \n",
      "top1_acc\t0.4841\n",
      "top5_acc\t0.9921\n",
      "2021-03-31 11:05:33,819 - mmaction - INFO - Evaluating mean_class_accuracy ...\n",
      "2021-03-31 11:05:33,822 - mmaction - INFO - \n",
      "mean_acc\t0.4841\n",
      "2021-03-31 11:05:33,823 - mmaction - INFO - Epoch(val) [35][132]\ttop1_acc: 0.4841, top5_acc: 0.9921, mean_class_accuracy: 0.4841\n",
      "2021-03-31 11:07:45,972 - mmaction - INFO - Epoch [36][100/132]\tlr: 3.730e-01, eta: 0:33:52, time: 1.321, data_time: 0.029, memory: 21787, top1_acc: 0.4612, top5_acc: 0.9437, loss_cls: 1.3194, loss: 1.3194, grad_norm: 0.6193\n",
      "2021-03-31 11:08:26,439 - mmaction - INFO - Saving checkpoint at 36 epochs\n",
      "2021-03-31 11:10:39,603 - mmaction - INFO - Epoch [37][100/132]\tlr: 3.345e-01, eta: 0:31:38, time: 1.323, data_time: 0.030, memory: 21787, top1_acc: 0.5262, top5_acc: 0.9300, loss_cls: 1.1870, loss: 1.1870, grad_norm: 0.6579\n",
      "2021-03-31 11:13:32,371 - mmaction - INFO - Epoch [38][100/132]\tlr: 2.966e-01, eta: 0:29:24, time: 1.322, data_time: 0.029, memory: 21787, top1_acc: 0.4925, top5_acc: 0.9425, loss_cls: 1.2298, loss: 1.2298, grad_norm: 0.6724\n",
      "2021-03-31 11:16:25,139 - mmaction - INFO - Epoch [39][100/132]\tlr: 2.594e-01, eta: 0:27:11, time: 1.323, data_time: 0.031, memory: 21787, top1_acc: 0.5500, top5_acc: 0.9475, loss_cls: 1.1322, loss: 1.1322, grad_norm: 0.6506\n",
      "2021-03-31 11:19:17,854 - mmaction - INFO - Epoch [40][100/132]\tlr: 2.235e-01, eta: 0:24:57, time: 1.321, data_time: 0.029, memory: 21787, top1_acc: 0.5288, top5_acc: 0.9400, loss_cls: 1.1419, loss: 1.1419, grad_norm: 0.5795\n"
     ]
    },
    {
     "name": "stdout",
     "output_type": "stream",
     "text": [
      "[>>>>>>>>>>>>>>>>>>>>>>>>>>>>>>>>>>>>>>>>] 126/126, 19.0 task/s, elapsed: 7s, ETA:     0s"
     ]
    },
    {
     "name": "stderr",
     "output_type": "stream",
     "text": [
      "2021-03-31 11:20:05,134 - mmaction - INFO - Evaluating top_k_accuracy ...\n",
      "2021-03-31 11:20:05,136 - mmaction - INFO - \n",
      "top1_acc\t0.7540\n",
      "top5_acc\t1.0000\n",
      "2021-03-31 11:20:05,136 - mmaction - INFO - Evaluating mean_class_accuracy ...\n",
      "2021-03-31 11:20:05,138 - mmaction - INFO - \n",
      "mean_acc\t0.7540\n",
      "2021-03-31 11:20:06,021 - mmaction - INFO - Now best checkpoint is saved as best_top1_acc_epoch_40.pth.\n",
      "2021-03-31 11:20:06,022 - mmaction - INFO - Best top1_acc is 0.7540 at 40 epoch.\n",
      "2021-03-31 11:20:06,023 - mmaction - INFO - Epoch(val) [40][132]\ttop1_acc: 0.7540, top5_acc: 1.0000, mean_class_accuracy: 0.7540\n",
      "2021-03-31 11:22:18,278 - mmaction - INFO - Epoch [41][100/132]\tlr: 1.891e-01, eta: 0:22:44, time: 1.323, data_time: 0.031, memory: 21787, top1_acc: 0.5750, top5_acc: 0.9575, loss_cls: 1.0494, loss: 1.0494, grad_norm: 0.6308\n",
      "2021-03-31 11:25:10,980 - mmaction - INFO - Epoch [42][100/132]\tlr: 1.567e-01, eta: 0:20:30, time: 1.321, data_time: 0.031, memory: 21787, top1_acc: 0.5575, top5_acc: 0.9450, loss_cls: 1.1075, loss: 1.1075, grad_norm: 0.6302\n",
      "2021-03-31 11:28:04,924 - mmaction - INFO - Epoch [43][100/132]\tlr: 1.266e-01, eta: 0:18:17, time: 1.335, data_time: 0.030, memory: 21787, top1_acc: 0.5525, top5_acc: 0.9525, loss_cls: 1.0490, loss: 1.0490, grad_norm: 0.6283\n",
      "2021-03-31 11:30:59,318 - mmaction - INFO - Epoch [44][100/132]\tlr: 9.914e-02, eta: 0:16:04, time: 1.337, data_time: 0.029, memory: 21787, top1_acc: 0.5675, top5_acc: 0.9475, loss_cls: 1.1013, loss: 1.1013, grad_norm: 0.6120\n",
      "2021-03-31 11:33:52,035 - mmaction - INFO - Epoch [45][100/132]\tlr: 7.456e-02, eta: 0:13:51, time: 1.321, data_time: 0.029, memory: 21787, top1_acc: 0.5775, top5_acc: 0.9463, loss_cls: 1.0215, loss: 1.0215, grad_norm: 0.6075\n"
     ]
    },
    {
     "name": "stdout",
     "output_type": "stream",
     "text": [
      "[>>>>>>>>>>>>>>>>>>>>>>>>>>>>>>>>>>>>>>>>] 126/126, 19.1 task/s, elapsed: 7s, ETA:     0s"
     ]
    },
    {
     "name": "stderr",
     "output_type": "stream",
     "text": [
      "2021-03-31 11:34:39,377 - mmaction - INFO - Evaluating top_k_accuracy ...\n",
      "2021-03-31 11:34:39,378 - mmaction - INFO - \n",
      "top1_acc\t0.7381\n",
      "top5_acc\t0.9921\n",
      "2021-03-31 11:34:39,379 - mmaction - INFO - Evaluating mean_class_accuracy ...\n",
      "2021-03-31 11:34:39,379 - mmaction - INFO - \n",
      "mean_acc\t0.7381\n",
      "2021-03-31 11:34:39,380 - mmaction - INFO - Epoch(val) [45][132]\ttop1_acc: 0.7381, top5_acc: 0.9921, mean_class_accuracy: 0.7381\n",
      "2021-03-31 11:36:51,694 - mmaction - INFO - Epoch [46][100/132]\tlr: 5.315e-02, eta: 0:11:37, time: 1.323, data_time: 0.032, memory: 21787, top1_acc: 0.5800, top5_acc: 0.9725, loss_cls: 1.0079, loss: 1.0079, grad_norm: 0.6084\n",
      "2021-03-31 11:39:44,512 - mmaction - INFO - Epoch [47][100/132]\tlr: 3.512e-02, eta: 0:09:24, time: 1.322, data_time: 0.031, memory: 21787, top1_acc: 0.6138, top5_acc: 0.9537, loss_cls: 0.9614, loss: 0.9614, grad_norm: 0.5681\n",
      "2021-03-31 11:42:37,390 - mmaction - INFO - Epoch [48][100/132]\tlr: 2.067e-02, eta: 0:07:11, time: 1.323, data_time: 0.032, memory: 21787, top1_acc: 0.6288, top5_acc: 0.9637, loss_cls: 0.9107, loss: 0.9107, grad_norm: 0.5420\n",
      "2021-03-31 11:43:18,059 - mmaction - INFO - Saving checkpoint at 48 epochs\n",
      "2021-03-31 11:45:31,542 - mmaction - INFO - Epoch [49][100/132]\tlr: 9.958e-03, eta: 0:04:58, time: 1.326, data_time: 0.032, memory: 21787, top1_acc: 0.6100, top5_acc: 0.9675, loss_cls: 0.9684, loss: 0.9684, grad_norm: 0.6005\n",
      "2021-03-31 11:48:24,364 - mmaction - INFO - Epoch [50][100/132]\tlr: 3.083e-03, eta: 0:02:45, time: 1.322, data_time: 0.030, memory: 21787, top1_acc: 0.6200, top5_acc: 0.9625, loss_cls: 0.9503, loss: 0.9503, grad_norm: 0.6035\n"
     ]
    },
    {
     "name": "stdout",
     "output_type": "stream",
     "text": [
      "[>>>>>>>>>>>>>>>>>>>>>>>>>>>>>>>>>>>>>>>>] 126/126, 19.5 task/s, elapsed: 6s, ETA:     0s"
     ]
    },
    {
     "name": "stderr",
     "output_type": "stream",
     "text": [
      "2021-03-31 11:49:11,545 - mmaction - INFO - Evaluating top_k_accuracy ...\n",
      "2021-03-31 11:49:11,547 - mmaction - INFO - \n",
      "top1_acc\t0.8016\n",
      "top5_acc\t0.9921\n",
      "2021-03-31 11:49:11,548 - mmaction - INFO - Evaluating mean_class_accuracy ...\n",
      "2021-03-31 11:49:11,550 - mmaction - INFO - \n",
      "mean_acc\t0.8016\n",
      "2021-03-31 11:49:12,507 - mmaction - INFO - Now best checkpoint is saved as best_top1_acc_epoch_50.pth.\n",
      "2021-03-31 11:49:12,508 - mmaction - INFO - Best top1_acc is 0.8016 at 50 epoch.\n",
      "2021-03-31 11:49:12,508 - mmaction - INFO - Epoch(val) [50][132]\ttop1_acc: 0.8016, top5_acc: 0.9921, mean_class_accuracy: 0.8016\n",
      "2021-03-31 11:51:24,614 - mmaction - INFO - Epoch [51][100/132]\tlr: 1.242e-04, eta: 0:00:32, time: 1.321, data_time: 0.030, memory: 21787, top1_acc: 0.5988, top5_acc: 0.9537, loss_cls: 0.9938, loss: 0.9938, grad_norm: 0.6841\n"
     ]
    }
   ],
   "source": [
    "import os.path as osp\n",
    "\n",
    "from mmaction.datasets import build_dataset\n",
    "from mmaction.models import build_model\n",
    "from mmaction.apis import train_model\n",
    "\n",
    "import mmcv\n",
    "\n",
    "# Build the dataset\n",
    "datasets = [build_dataset(cfg.data.train)]\n",
    "\n",
    "# Build the recognizer\n",
    "model = build_model(cfg.model, train_cfg=cfg.get('train_cfg'), test_cfg=cfg.get('test_cfg'))\n",
    "# model = build_model(cfg.model, train_cfg=cfg.get('train_cfg'), test_cfg=cfg.get('test_cfg'))\n",
    "# model = build_detector(cfg.model, train_cfg=cfg.get('train_cfg'), test_cfg=cfg.get('test_cfg'))\n",
    "# model = build_detector(cfg.model, train_cfg=cfg.train_cfg, test_cfg=cfg.test_cfg)\n",
    "\n",
    "# Create work_dir\n",
    "mmcv.mkdir_or_exist(osp.abspath(cfg.work_dir))\n",
    "train_model(model, datasets, cfg, distributed=False, validate=True)"
   ]
  },
  {
   "cell_type": "code",
   "execution_count": 16,
   "metadata": {},
   "outputs": [],
   "source": [
    "import pickle\n",
    "\n",
    "with open(f\"{cfg.work_dir}/model50e\", 'wb') as f:\n",
    "    pickle.dump(model, f)"
   ]
  },
  {
   "cell_type": "code",
   "execution_count": 4,
   "metadata": {},
   "outputs": [],
   "source": [
    "import os.path as osp\n",
    "\n",
    "from mmaction.datasets import build_dataset\n",
    "from mmaction.models import build_model\n",
    "from mmaction.apis import train_model\n",
    "\n",
    "import mmcv\n",
    "# Build the dataset\n",
    "datasets = [build_dataset(cfg.data.train)]\n",
    "\n",
    "# Build the recognizer\n",
    "model = build_model(cfg.model, train_cfg=cfg.get('train_cfg'), test_cfg=cfg.get('test_cfg'))\n",
    "\n",
    "model = pickle.load(open(f\"{cfg.work_dir}/model50e\", 'rb'))"
   ]
  },
  {
   "cell_type": "code",
   "execution_count": 5,
   "metadata": {
    "colab": {
     "base_uri": "https://localhost:8080/"
    },
    "id": "eyY3hCMwyTct",
    "outputId": "200e37c7-0da4-421f-98da-41418c3110ca",
    "tags": []
   },
   "outputs": [
    {
     "name": "stdout",
     "output_type": "stream",
     "text": [
      "[>>>>>>>>>>>>>>>>>>>>>>>>>>>>>>>>>>>>>>>] 126/126, 0.6 task/s, elapsed: 210s, ETA:     0s\n",
      "Evaluating top_k_accuracy ...\n",
      "\n",
      "top1_acc\t0.9286\n",
      "top5_acc\t1.0000\n",
      "\n",
      "Evaluating mean_class_accuracy ...\n",
      "\n",
      "mean_acc\t0.9286\n",
      "top1_acc: 0.9286\n",
      "top5_acc: 1.0000\n",
      "mean_class_accuracy: 0.9286\n"
     ]
    }
   ],
   "source": [
    "from mmaction.apis import single_gpu_test\n",
    "from mmaction.datasets import build_dataloader\n",
    "from mmcv.parallel import MMDataParallel\n",
    "from mmaction.models import build_model\n",
    "from mmaction.datasets import build_dataset\n",
    "\n",
    "# model = build_model(cfg.model, train_cfg=cfg.get('train_cfg'), test_cfg=cfg.get('test_cfg'))\n",
    "# Build a test dataloader\n",
    "dataset = build_dataset(cfg.data.test, dict(test_mode=True))\n",
    "data_loader = build_dataloader(\n",
    "        dataset,\n",
    "        videos_per_gpu=1,\n",
    "        workers_per_gpu=1,\n",
    "        dist=False,\n",
    "        shuffle=False)\n",
    "model = MMDataParallel(model, device_ids=[0])\n",
    "outputs = single_gpu_test(model, data_loader)\n",
    "\n",
    "eval_config = cfg.evaluation\n",
    "eval_config.pop('interval')\n",
    "eval_res = dataset.evaluate(outputs, **eval_config)\n",
    "for name, val in eval_res.items():\n",
    "    print(f'{name}: {val:.04f}')\n",
    "    \n",
    "output_config = cfg.output_config\n",
    "dataset.dump_results(outputs, **output_config)"
   ]
  },
  {
   "cell_type": "code",
   "execution_count": 6,
   "metadata": {
    "tags": []
   },
   "outputs": [
    {
     "data": {
      "text/plain": [
       "<AxesSubplot:>"
      ]
     },
     "execution_count": 6,
     "metadata": {},
     "output_type": "execute_result"
    },
    {
     "data": {
      "image/png": "[encoded data removed]",
      "text/plain": [
       "<Figure size 432x288 with 2 Axes>"
      ]
     },
     "metadata": {
      "needs_background": "light"
     },
     "output_type": "display_data"
    }
   ],
   "source": [
    "import seaborn as sns\n",
    "import numpy as np\n",
    "from mmaction.core import confusion_matrix \n",
    "\n",
    "gt_labels = [ann['label'] for ann in dataset.load_annotations()]\n",
    "pred = np.argmax(outputs, axis=1)\n",
    "cf_mat = confusion_matrix(pred, gt_labels).astype(float)\n",
    "\n",
    "sns.heatmap(cf_mat, annot=True, xticklabels = ['box', 'clap', 'go', 'jog', 'run', 'walk', 'wave'], yticklabels = ['box', 'clap', 'go', 'jog', 'run', 'walk', 'wave'] )"
   ]
  },
  {
   "cell_type": "markdown",
   "metadata": {
    "heading_collapsed": "true",
    "tags": []
   },
   "source": [
    "# TIN 87.30%"
   ]
  },
  {
   "cell_type": "code",
   "execution_count": 8,
   "metadata": {
    "colab": {
     "base_uri": "https://localhost:8080/"
    },
    "id": "64CW6d_AaT-Q",
    "outputId": "3b284fd8-4ee7-4a34-90d7-5023cd123a04",
    "tags": []
   },
   "outputs": [
    {
     "name": "stdout",
     "output_type": "stream",
     "text": [
      "--2021-03-29 22:59:27--  https://download.openmmlab.com/mmaction/recognition/tin/tin_tsm_finetune_r50_1x1x8_50e_kinetics400_rgb/tin_tsm_finetune_r50_1x1x8_50e_kinetics400_rgb_20200810-4a146a70.pth\n",
      "Resolving download.openmmlab.com (download.openmmlab.com)... 47.75.20.25\n",
      "Connecting to download.openmmlab.com (download.openmmlab.com)|47.75.20.25|:443... connected.\n",
      "HTTP request sent, awaiting response... 200 OK\n",
      "Length: 97729017 (93M) [application/octet-stream]\n",
      "Saving to: ‘checkpoints/tin_tsm_finetune_r50_1x1x8_50e_kinetics400_rgb_20200810-4a146a70.pth’\n",
      "\n",
      "checkpoints/tin_tsm 100%[===================>]  93,20M  8,39MB/s    in 13s     \n",
      "\n",
      "2021-03-29 22:59:44 (7,23 MB/s) - ‘checkpoints/tin_tsm_finetune_r50_1x1x8_50e_kinetics400_rgb_20200810-4a146a70.pth’ saved [97729017/97729017]\n",
      "\n"
     ]
    }
   ],
   "source": [
    "# !mkdir checkpoints\n",
    "!wget -c https://download.openmmlab.com/mmaction/recognition/tin/tin_tsm_finetune_r50_1x1x8_50e_kinetics400_rgb/tin_tsm_finetune_r50_1x1x8_50e_kinetics400_rgb_20200810-4a146a70.pth \\\n",
    "      -O checkpoints/tin_tsm_finetune_r50_1x1x8_50e_kinetics400_rgb_20200810-4a146a70.pth"
   ]
  },
  {
   "cell_type": "code",
   "execution_count": 44,
   "metadata": {
    "id": "LjCcmCKOjktc",
    "tags": []
   },
   "outputs": [],
   "source": [
    "from mmcv import Config\n",
    "cfg = Config.fromfile('./configs/recognition/tin/tin_tsm_finetune_r50_1x1x8_50e_kinetics400_rgb.py')"
   ]
  },
  {
   "cell_type": "code",
   "execution_count": 45,
   "metadata": {
    "colab": {
     "base_uri": "https://localhost:8080/"
    },
    "collapsed": true,
    "id": "tlhu9byjjt-K",
    "jupyter": {
     "outputs_hidden": true
    },
    "outputId": "13d1bb01-f351-48c0-9efb-0bdf2c125d29",
    "tags": []
   },
   "outputs": [
    {
     "name": "stdout",
     "output_type": "stream",
     "text": [
      "Config:\n",
      "model = dict(\n",
      "    type='Recognizer2D',\n",
      "    backbone=dict(\n",
      "        type='ResNetTIN',\n",
      "        pretrained='torchvision://resnet50',\n",
      "        depth=50,\n",
      "        norm_eval=False,\n",
      "        shift_div=4,\n",
      "        in_channels=2),\n",
      "    cls_head=dict(\n",
      "        type='TSMHead',\n",
      "        num_classes=7,\n",
      "        in_channels=2048,\n",
      "        spatial_type='avg',\n",
      "        consensus=dict(type='AvgConsensus', dim=1),\n",
      "        dropout_ratio=0.5,\n",
      "        init_std=0.001,\n",
      "        is_shift=True),\n",
      "    train_cfg=None,\n",
      "    test_cfg=dict(average_clips=None))\n",
      "optimizer = dict(\n",
      "    type='SGD',\n",
      "    lr=0.01,\n",
      "    momentum=0.9,\n",
      "    weight_decay=0.0001,\n",
      "    constructor='TSMOptimizerConstructor',\n",
      "    paramwise_cfg=dict(fc_lr5=True))\n",
      "optimizer_config = dict(grad_clip=dict(max_norm=20, norm_type=2))\n",
      "lr_config = dict(\n",
      "    policy='cyclic',\n",
      "    target_ratio=(10, 1e-05),\n",
      "    cyclic_times=1,\n",
      "    step_ratio_up=0.4)\n",
      "total_epochs = 51\n",
      "checkpoint_config = dict(interval=12)\n",
      "log_config = dict(interval=100, hooks=[dict(type='TextLoggerHook')])\n",
      "dist_params = dict(backend='nccl')\n",
      "log_level = 'INFO'\n",
      "load_from = 'checkpoints/tin_tsm_finetune_r50_1x1x8_50e_kinetics400_rgb_20200810-4a146a70.pth'\n",
      "resume_from = None\n",
      "workflow = [('train', 1)]\n",
      "dataset_type = 'RawframeDataset'\n",
      "data_root = 'data/childact_rawframe/train/'\n",
      "data_root_val = 'data/childact_rawframe/val/'\n",
      "ann_file_train = 'data/childact_rawframe/childact_train_rawframe.txt'\n",
      "ann_file_val = 'data/childact_rawframe/childact_val_rawframe.txt'\n",
      "ann_file_test = 'data/childact_rawframe/childact_test_rawframe.txt'\n",
      "img_norm_cfg = dict(mean=[128, 128], std=[128, 128])\n",
      "train_pipeline = [\n",
      "    dict(type='SampleFrames', clip_len=1, frame_interval=1, num_clips=8),\n",
      "    dict(type='RawFrameDecode'),\n",
      "    dict(type='Resize', scale=(-1, 256)),\n",
      "    dict(\n",
      "        type='MultiScaleCrop',\n",
      "        input_size=224,\n",
      "        scales=(1, 0.875, 0.75, 0.66),\n",
      "        random_crop=False,\n",
      "        max_wh_scale_gap=1),\n",
      "    dict(type='Resize', scale=(224, 224), keep_ratio=False),\n",
      "    dict(type='Normalize', mean=[128, 128], std=[128, 128]),\n",
      "    dict(type='FormatShape', input_format='NCHW_Flow'),\n",
      "    dict(type='Collect', keys=['imgs', 'label'], meta_keys=[]),\n",
      "    dict(type='ToTensor', keys=['imgs', 'label'])\n",
      "]\n",
      "val_pipeline = [\n",
      "    dict(\n",
      "        type='SampleFrames',\n",
      "        clip_len=1,\n",
      "        frame_interval=1,\n",
      "        num_clips=8,\n",
      "        test_mode=True),\n",
      "    dict(type='RawFrameDecode'),\n",
      "    dict(type='Resize', scale=(-1, 256)),\n",
      "    dict(type='CenterCrop', crop_size=224),\n",
      "    dict(type='Normalize', mean=[128, 128], std=[128, 128]),\n",
      "    dict(type='FormatShape', input_format='NCHW_Flow'),\n",
      "    dict(type='Collect', keys=['imgs', 'label'], meta_keys=[]),\n",
      "    dict(type='ToTensor', keys=['imgs'])\n",
      "]\n",
      "test_pipeline = [\n",
      "    dict(\n",
      "        type='SampleFrames',\n",
      "        clip_len=1,\n",
      "        frame_interval=1,\n",
      "        num_clips=8,\n",
      "        test_mode=True),\n",
      "    dict(type='RawFrameDecode'),\n",
      "    dict(type='Resize', scale=(-1, 256)),\n",
      "    dict(type='CenterCrop', crop_size=224),\n",
      "    dict(type='Normalize', mean=[128, 128], std=[128, 128]),\n",
      "    dict(type='FormatShape', input_format='NCHW_Flow'),\n",
      "    dict(type='Collect', keys=['imgs', 'label'], meta_keys=[]),\n",
      "    dict(type='ToTensor', keys=['imgs'])\n",
      "]\n",
      "data = dict(\n",
      "    videos_per_gpu=6,\n",
      "    workers_per_gpu=4,\n",
      "    train=dict(\n",
      "        type='RawframeDataset',\n",
      "        ann_file='data/childact_rawframe/childact_train_rawframe.txt',\n",
      "        data_prefix='data/childact_rawframe/train/',\n",
      "        pipeline=[\n",
      "            dict(\n",
      "                type='SampleFrames', clip_len=1, frame_interval=1,\n",
      "                num_clips=8),\n",
      "            dict(type='RawFrameDecode'),\n",
      "            dict(type='Resize', scale=(-1, 256)),\n",
      "            dict(\n",
      "                type='MultiScaleCrop',\n",
      "                input_size=224,\n",
      "                scales=(1, 0.875, 0.75, 0.66),\n",
      "                random_crop=False,\n",
      "                max_wh_scale_gap=1),\n",
      "            dict(type='Resize', scale=(224, 224), keep_ratio=False),\n",
      "            dict(type='Normalize', mean=[128, 128], std=[128, 128]),\n",
      "            dict(type='FormatShape', input_format='NCHW_Flow'),\n",
      "            dict(type='Collect', keys=['imgs', 'label'], meta_keys=[]),\n",
      "            dict(type='ToTensor', keys=['imgs', 'label'])\n",
      "        ],\n",
      "        modality='Flow',\n",
      "        start_index=0,\n",
      "        filename_tmpl='flow_{}_{:05d}.jpg'),\n",
      "    val=dict(\n",
      "        type='RawframeDataset',\n",
      "        ann_file='data/childact_rawframe/childact_val_rawframe.txt',\n",
      "        data_prefix='data/childact_rawframe/val/',\n",
      "        pipeline=[\n",
      "            dict(\n",
      "                type='SampleFrames',\n",
      "                clip_len=1,\n",
      "                frame_interval=1,\n",
      "                num_clips=8,\n",
      "                test_mode=True),\n",
      "            dict(type='RawFrameDecode'),\n",
      "            dict(type='Resize', scale=(-1, 256)),\n",
      "            dict(type='CenterCrop', crop_size=224),\n",
      "            dict(type='Normalize', mean=[128, 128], std=[128, 128]),\n",
      "            dict(type='FormatShape', input_format='NCHW_Flow'),\n",
      "            dict(type='Collect', keys=['imgs', 'label'], meta_keys=[]),\n",
      "            dict(type='ToTensor', keys=['imgs'])\n",
      "        ],\n",
      "        modality='Flow',\n",
      "        start_index=0,\n",
      "        filename_tmpl='flow_{}_{:05d}.jpg'),\n",
      "    test=dict(\n",
      "        type='RawframeDataset',\n",
      "        ann_file='data/childact_rawframe/childact_test_rawframe.txt',\n",
      "        data_prefix='data/childact_rawframe/test/',\n",
      "        pipeline=[\n",
      "            dict(\n",
      "                type='SampleFrames',\n",
      "                clip_len=1,\n",
      "                frame_interval=1,\n",
      "                num_clips=8,\n",
      "                test_mode=True),\n",
      "            dict(type='RawFrameDecode'),\n",
      "            dict(type='Resize', scale=(-1, 256)),\n",
      "            dict(type='CenterCrop', crop_size=224),\n",
      "            dict(type='Normalize', mean=[128, 128], std=[128, 128]),\n",
      "            dict(type='FormatShape', input_format='NCHW_Flow'),\n",
      "            dict(type='Collect', keys=['imgs', 'label'], meta_keys=[]),\n",
      "            dict(type='ToTensor', keys=['imgs'])\n",
      "        ],\n",
      "        modality='Flow',\n",
      "        start_index=0,\n",
      "        filename_tmpl='flow_{}_{:05d}.jpg'))\n",
      "evaluation = dict(\n",
      "    interval=5, metrics=['top_k_accuracy', 'mean_class_accuracy'])\n",
      "work_dir = './childact-checkpoints/childact-TIN'\n",
      "omnisource = False\n",
      "momentum_config = dict(\n",
      "    policy='cyclic',\n",
      "    target_ratio=(0.8947368421052632, 1),\n",
      "    cyclic_times=1,\n",
      "    step_ratio_up=0.4)\n",
      "seed = 42\n",
      "gpu_ids = range(0, 1)\n",
      "output_config = dict(out='./childact-checkpoints/childact-TIN/results.json')\n",
      "\n"
     ]
    }
   ],
   "source": [
    "from mmcv.runner import set_random_seed\n",
    "\n",
    "# Modify dataset type and path\n",
    "# cfg.dataset_type = 'VideoDataset'\n",
    "cfg.data_root = 'data/childact_rawframe/train/'\n",
    "cfg.data_root_val = 'data/childact_rawframe/val/'\n",
    "cfg.ann_file_train = 'data/childact_rawframe/childact_train_rawframe.txt'\n",
    "cfg.ann_file_val = 'data/childact_rawframe/childact_val_rawframe.txt'\n",
    "cfg.ann_file_test = 'data/childact_rawframe/childact_test_rawframe.txt'\n",
    "\n",
    "# cfg.data.test.type = 'VideoDataset'\n",
    "cfg.data.test.ann_file = 'data/childact_rawframe/childact_test_rawframe.txt'\n",
    "cfg.data.test.data_prefix = 'data/childact_rawframe/test/'\n",
    "\n",
    "# cfg.data.train.type = 'VideoDataset'\n",
    "cfg.data.train.ann_file = 'data/childact_rawframe/childact_train_rawframe.txt'\n",
    "cfg.data.train.data_prefix = 'data/childact_rawframe/train/'\n",
    "\n",
    "# cfg.data.val.type = 'VideoDataset'\n",
    "cfg.data.val.ann_file = 'data/childact_rawframe/childact_val_rawframe.txt'\n",
    "cfg.data.val.data_prefix = 'data/childact_rawframe/val/'\n",
    "\n",
    "cfg.data.test.modality = 'Flow'\n",
    "cfg.data.val.modality = 'Flow'\n",
    "cfg.data.train.modality = 'Flow'\n",
    "\n",
    "cfg.data.train.start_index = 0\n",
    "cfg.data.test.start_index = 0\n",
    "cfg.data.val.start_index = 0\n",
    "\n",
    "cfg.data.test.filename_tmpl = 'flow_{}_{:05d}.jpg'\n",
    "cfg.data.train.filename_tmpl = 'flow_{}_{:05d}.jpg'\n",
    "cfg.data.val.filename_tmpl = 'flow_{}_{:05d}.jpg'\n",
    "# The flag is used to determine whether it is omnisource training\n",
    "cfg.setdefault('omnisource', False)\n",
    "# Modify num classes of the model in cls_head\n",
    "cfg.model.cls_head.num_classes = 7\n",
    "# We can use the pre-trained TSN model\n",
    "cfg.load_from = 'checkpoints/tin_tsm_finetune_r50_1x1x8_50e_kinetics400_rgb_20200810-4a146a70.pth'\n",
    "# cfg.resume_from = './childact-mm/latest.pth'\n",
    "\n",
    "# Set up working dir to save files and logs.\n",
    "cfg.work_dir = './childact-checkpoints/childact-TIN'\n",
    "\n",
    "cfg.img_norm_cfg = dict(mean=[128, 128], std=[128, 128])\n",
    "\n",
    "\n",
    "cfg.val_pipeline = [\n",
    "    dict(\n",
    "        type='SampleFrames',\n",
    "        clip_len=1,\n",
    "        frame_interval=1,\n",
    "        num_clips=8,\n",
    "        test_mode=True),\n",
    "    dict(type='RawFrameDecode'),\n",
    "    dict(type='Resize', scale=(-1, 256)),\n",
    "    dict(type='CenterCrop', crop_size=224),\n",
    "    dict(type='Normalize', mean=[128, 128], std=[128, 128]),\n",
    "    dict(type='FormatShape', input_format='NCHW_Flow'),\n",
    "    dict(type='Collect', keys=['imgs', 'label'], meta_keys=[]),\n",
    "    dict(type='ToTensor', keys=['imgs'])\n",
    "]\n",
    "cfg.test_pipeline = [\n",
    "    dict(\n",
    "        type='SampleFrames',\n",
    "        clip_len=1,\n",
    "        frame_interval=1,\n",
    "        num_clips=8,\n",
    "        test_mode=True),\n",
    "    dict(type='RawFrameDecode'),\n",
    "    dict(type='Resize', scale=(-1, 256)),\n",
    "     dict(type='CenterCrop', crop_size=224),\n",
    "    dict(type='Normalize', mean=[128, 128], std=[128, 128]),\n",
    "    dict(type='FormatShape', input_format='NCHW_Flow'),\n",
    "    dict(type='Collect', keys=['imgs', 'label'], meta_keys=[]),\n",
    "    dict(type='ToTensor', keys=['imgs'])\n",
    "]\n",
    "cfg.train_pipeline = [\n",
    "    dict(type='SampleFrames', clip_len=1, frame_interval=1, num_clips=8),\n",
    "    dict(type='RawFrameDecode'),\n",
    "    dict(type='Resize', scale=(-1, 256)),\n",
    "#     dict(type='RandomCrop', size=224),\n",
    "    dict(\n",
    "        type='MultiScaleCrop',\n",
    "        input_size=224,\n",
    "        scales=(1, 0.875, 0.75, 0.66),\n",
    "        random_crop=False,\n",
    "        max_wh_scale_gap=1),\n",
    "    dict(type='Resize', scale=(224, 224), keep_ratio=False),\n",
    "    dict(type='Normalize', mean=[128, 128], std=[128, 128]),\n",
    "    dict(type='FormatShape', input_format='NCHW_Flow'),\n",
    "    dict(type='Collect', keys=['imgs', 'label'], meta_keys=[]),\n",
    "    dict(type='ToTensor', keys=['imgs', 'label'])\n",
    "]\n",
    "\n",
    "cfg.data.train.pipeline = cfg.train_pipeline\n",
    "cfg.data.val.pipeline = cfg.val_pipeline\n",
    "cfg.data.test.pipeline = cfg.test_pipeline\n",
    "\n",
    "cfg.lr_config = dict(\n",
    "    policy='cyclic',\n",
    "    target_ratio=(10, 1e-5),\n",
    "    cyclic_times=1,\n",
    "    step_ratio_up=0.4,\n",
    ")\n",
    "\n",
    "cfg.total_epochs = 51\n",
    "\n",
    "cfg.momentum_config = dict(\n",
    "    policy='cyclic',\n",
    "    target_ratio=(0.85 / 0.95, 1),\n",
    "    cyclic_times=1,\n",
    "    step_ratio_up=0.4,\n",
    ")\n",
    "\n",
    "# We can set the checkpoint saving interval to reduce the storage cost\n",
    "cfg.checkpoint_config.interval = 12\n",
    "# We can set the log print interval to reduce the the times of printing log\n",
    "cfg.log_config.interval = 100\n",
    "\n",
    "# Set seed thus the results are more reproducible\n",
    "cfg.seed = 42\n",
    "set_random_seed(42, deterministic=False)\n",
    "cfg.gpu_ids = range(1)\n",
    "\n",
    "cfg.model.backbone.in_channels = 2\n",
    "\n",
    "cfg.output_config = dict(out=f'{cfg.work_dir}/results.json')\n",
    "# We can initialize the logger for training and have a look\n",
    "# at the final config used for training\n",
    "# del cfg.optimizer['momentum']\n",
    "print(f'Config:\\n{cfg.pretty_text}')"
   ]
  },
  {
   "cell_type": "code",
   "execution_count": 41,
   "metadata": {
    "colab": {
     "base_uri": "https://localhost:8080/"
    },
    "collapsed": true,
    "id": "dDBWkdDRk6oz",
    "jupyter": {
     "outputs_hidden": true
    },
    "outputId": "85a52ef3-7b5c-4c52-8fef-00322a8c65e6",
    "tags": []
   },
   "outputs": [
    {
     "name": "stderr",
     "output_type": "stream",
     "text": [
      "2021-03-29 23:41:40,330 - mmaction - INFO - These parameters in pretrained checkpoint are not loaded: {'fc.weight', 'fc.bias', 'conv1.weight'}\n"
     ]
    },
    {
     "name": "stdout",
     "output_type": "stream",
     "text": [
      "Use load_from_torchvision loader\n"
     ]
    },
    {
     "name": "stderr",
     "output_type": "stream",
     "text": [
      "2021-03-29 23:41:40,412 - mmaction - INFO - load checkpoint from checkpoints/tin_tsm_finetune_r50_1x1x8_50e_kinetics400_rgb_20200810-4a146a70.pth\n",
      "2021-03-29 23:41:40,414 - mmaction - INFO - Use load_from_local loader\n",
      "2021-03-29 23:41:40,506 - mmaction - WARNING - The model and loaded state dict do not match exactly\n",
      "\n",
      "size mismatch for backbone.conv1.conv.weight: copying a param with shape torch.Size([64, 3, 7, 7]) from checkpoint, the shape in current model is torch.Size([64, 2, 7, 7]).\n",
      "size mismatch for cls_head.fc_cls.weight: copying a param with shape torch.Size([400, 2048]) from checkpoint, the shape in current model is torch.Size([7, 2048]).\n",
      "size mismatch for cls_head.fc_cls.bias: copying a param with shape torch.Size([400]) from checkpoint, the shape in current model is torch.Size([7]).\n",
      "2021-03-29 23:41:40,508 - mmaction - INFO - Start running, host: actrec@actrec-HP-Z4-G4-Workstation, work_dir: /home/actrec/.virtualenvs/mmaction/mmaction2/childact-checkpoints/childact-TIN\n",
      "2021-03-29 23:41:40,508 - mmaction - INFO - workflow: [('train', 1)], max: 51 epochs\n",
      "2021-03-29 23:42:10,740 - mmaction - INFO - Epoch [1][100/175]\tlr: 1.017e-02, eta: 0:44:27, time: 0.302, data_time: 0.024, memory: 6231, top1_acc: 0.2850, top5_acc: 0.8383, loss_cls: 1.9803, loss: 1.9803, grad_norm: 9.7177\n",
      "2021-03-29 23:43:02,041 - mmaction - INFO - Epoch [2][100/175]\tlr: 1.130e-02, eta: 0:31:40, time: 0.302, data_time: 0.024, memory: 6231, top1_acc: 0.4033, top5_acc: 0.9633, loss_cls: 1.4432, loss: 1.4432, grad_norm: 4.2550\n",
      "2021-03-29 23:43:53,604 - mmaction - INFO - Epoch [3][100/175]\tlr: 1.347e-02, eta: 0:28:32, time: 0.305, data_time: 0.024, memory: 6231, top1_acc: 0.5883, top5_acc: 0.9867, loss_cls: 1.0339, loss: 1.0339, grad_norm: 4.0383\n",
      "2021-03-29 23:44:45,105 - mmaction - INFO - Epoch [4][100/175]\tlr: 1.662e-02, eta: 0:26:51, time: 0.304, data_time: 0.024, memory: 6231, top1_acc: 0.6117, top5_acc: 0.9867, loss_cls: 0.9789, loss: 0.9789, grad_norm: 4.1729\n",
      "2021-03-29 23:45:36,793 - mmaction - INFO - Epoch [5][100/175]\tlr: 2.067e-02, eta: 0:25:42, time: 0.305, data_time: 0.024, memory: 6231, top1_acc: 0.6050, top5_acc: 0.9767, loss_cls: 0.9966, loss: 0.9966, grad_norm: 3.0995\n"
     ]
    },
    {
     "name": "stdout",
     "output_type": "stream",
     "text": [
      "[>>>>>>>>>>>>>>>>>>>>>>>>>>>>>>>>>>>>>>>>] 126/126, 60.5 task/s, elapsed: 2s, ETA:     0s"
     ]
    },
    {
     "name": "stderr",
     "output_type": "stream",
     "text": [
      "2021-03-29 23:46:00,366 - mmaction - INFO - Evaluating top_k_accuracy ...\n",
      "2021-03-29 23:46:00,368 - mmaction - INFO - \n",
      "top1_acc\t0.6984\n",
      "top5_acc\t0.9921\n",
      "2021-03-29 23:46:00,369 - mmaction - INFO - Evaluating mean_class_accuracy ...\n",
      "2021-03-29 23:46:00,370 - mmaction - INFO - \n",
      "mean_acc\t0.6984\n",
      "2021-03-29 23:46:00,647 - mmaction - INFO - Now best checkpoint is saved as best_top1_acc_epoch_5.pth.\n",
      "2021-03-29 23:46:00,648 - mmaction - INFO - Best top1_acc is 0.6984 at 5 epoch.\n",
      "2021-03-29 23:46:00,649 - mmaction - INFO - Epoch(val) [5][175]\ttop1_acc: 0.6984, top5_acc: 0.9921, mean_class_accuracy: 0.6984\n",
      "2021-03-29 23:46:31,401 - mmaction - INFO - Epoch [6][100/175]\tlr: 2.554e-02, eta: 0:24:49, time: 0.307, data_time: 0.024, memory: 6231, top1_acc: 0.6183, top5_acc: 0.9883, loss_cls: 1.0457, loss: 1.0457, grad_norm: 3.3395\n",
      "2021-03-29 23:47:23,205 - mmaction - INFO - Epoch [7][100/175]\tlr: 3.111e-02, eta: 0:24:01, time: 0.306, data_time: 0.024, memory: 6231, top1_acc: 0.5883, top5_acc: 0.9767, loss_cls: 1.1039, loss: 1.1039, grad_norm: 3.3533\n",
      "2021-03-29 23:48:15,068 - mmaction - INFO - Epoch [8][100/175]\tlr: 3.724e-02, eta: 0:23:18, time: 0.306, data_time: 0.024, memory: 6231, top1_acc: 0.6400, top5_acc: 0.9867, loss_cls: 0.9483, loss: 0.9483, grad_norm: 2.3404\n",
      "2021-03-29 23:49:06,991 - mmaction - INFO - Epoch [9][100/175]\tlr: 4.379e-02, eta: 0:22:38, time: 0.306, data_time: 0.024, memory: 6231, top1_acc: 0.6317, top5_acc: 0.9867, loss_cls: 0.9587, loss: 0.9587, grad_norm: 2.4777\n",
      "2021-03-29 23:49:58,736 - mmaction - INFO - Epoch [10][100/175]\tlr: 5.061e-02, eta: 0:22:00, time: 0.306, data_time: 0.024, memory: 6231, top1_acc: 0.6717, top5_acc: 0.9850, loss_cls: 0.8731, loss: 0.8731, grad_norm: 2.2906\n"
     ]
    },
    {
     "name": "stdout",
     "output_type": "stream",
     "text": [
      "[>>>>>>>>>>>>>>>>>>>>>>>>>>>>>>>>>>>>>>>>] 126/126, 62.1 task/s, elapsed: 2s, ETA:     0s"
     ]
    },
    {
     "name": "stderr",
     "output_type": "stream",
     "text": [
      "2021-03-29 23:50:22,056 - mmaction - INFO - Evaluating top_k_accuracy ...\n",
      "2021-03-29 23:50:22,058 - mmaction - INFO - \n",
      "top1_acc\t0.7143\n",
      "top5_acc\t1.0000\n",
      "2021-03-29 23:50:22,059 - mmaction - INFO - Evaluating mean_class_accuracy ...\n",
      "2021-03-29 23:50:22,061 - mmaction - INFO - \n",
      "mean_acc\t0.7143\n",
      "2021-03-29 23:50:22,344 - mmaction - INFO - Now best checkpoint is saved as best_top1_acc_epoch_10.pth.\n",
      "2021-03-29 23:50:22,345 - mmaction - INFO - Best top1_acc is 0.7143 at 10 epoch.\n",
      "2021-03-29 23:50:22,346 - mmaction - INFO - Epoch(val) [10][175]\ttop1_acc: 0.7143, top5_acc: 1.0000, mean_class_accuracy: 0.7143\n",
      "2021-03-29 23:50:52,920 - mmaction - INFO - Epoch [11][100/175]\tlr: 5.753e-02, eta: 0:21:23, time: 0.306, data_time: 0.024, memory: 6231, top1_acc: 0.6600, top5_acc: 0.9900, loss_cls: 0.9106, loss: 0.9106, grad_norm: 2.1179\n",
      "2021-03-29 23:51:44,676 - mmaction - INFO - Epoch [12][100/175]\tlr: 6.439e-02, eta: 0:20:47, time: 0.305, data_time: 0.024, memory: 6231, top1_acc: 0.6900, top5_acc: 0.9900, loss_cls: 0.8372, loss: 0.8372, grad_norm: 1.8632\n",
      "2021-03-29 23:52:05,776 - mmaction - INFO - Saving checkpoint at 12 epochs\n",
      "2021-03-29 23:52:36,558 - mmaction - INFO - Epoch [13][100/175]\tlr: 7.103e-02, eta: 0:20:12, time: 0.305, data_time: 0.024, memory: 6231, top1_acc: 0.6550, top5_acc: 0.9867, loss_cls: 0.9069, loss: 0.9069, grad_norm: 1.7456\n",
      "2021-03-29 23:53:28,424 - mmaction - INFO - Epoch [14][100/175]\tlr: 7.729e-02, eta: 0:19:38, time: 0.306, data_time: 0.024, memory: 6231, top1_acc: 0.6533, top5_acc: 0.9883, loss_cls: 0.8014, loss: 0.8014, grad_norm: 1.7826\n",
      "2021-03-29 23:54:20,157 - mmaction - INFO - Epoch [15][100/175]\tlr: 8.303e-02, eta: 0:19:04, time: 0.305, data_time: 0.024, memory: 6231, top1_acc: 0.6733, top5_acc: 0.9900, loss_cls: 0.8131, loss: 0.8131, grad_norm: 1.6589\n"
     ]
    },
    {
     "name": "stdout",
     "output_type": "stream",
     "text": [
      "[>>>>>>>>>>>>>>>>>>>>>>>>>>>>>>>>>>>>>>>>] 126/126, 61.8 task/s, elapsed: 2s, ETA:     0s"
     ]
    },
    {
     "name": "stderr",
     "output_type": "stream",
     "text": [
      "2021-03-29 23:54:43,532 - mmaction - INFO - Evaluating top_k_accuracy ...\n",
      "2021-03-29 23:54:43,534 - mmaction - INFO - \n",
      "top1_acc\t0.7698\n",
      "top5_acc\t1.0000\n",
      "2021-03-29 23:54:43,535 - mmaction - INFO - Evaluating mean_class_accuracy ...\n",
      "2021-03-29 23:54:43,536 - mmaction - INFO - \n",
      "mean_acc\t0.7698\n",
      "2021-03-29 23:54:43,844 - mmaction - INFO - Now best checkpoint is saved as best_top1_acc_epoch_15.pth.\n",
      "2021-03-29 23:54:43,845 - mmaction - INFO - Best top1_acc is 0.7698 at 15 epoch.\n",
      "2021-03-29 23:54:43,846 - mmaction - INFO - Epoch(val) [15][175]\ttop1_acc: 0.7698, top5_acc: 1.0000, mean_class_accuracy: 0.7698\n",
      "2021-03-29 23:55:15,191 - mmaction - INFO - Epoch [16][100/175]\tlr: 8.809e-02, eta: 0:18:32, time: 0.313, data_time: 0.024, memory: 6231, top1_acc: 0.7067, top5_acc: 0.9933, loss_cls: 0.7561, loss: 0.7561, grad_norm: 1.5346\n",
      "2021-03-29 23:56:06,946 - mmaction - INFO - Epoch [17][100/175]\tlr: 9.238e-02, eta: 0:17:59, time: 0.306, data_time: 0.024, memory: 6231, top1_acc: 0.7033, top5_acc: 0.9783, loss_cls: 0.7555, loss: 0.7555, grad_norm: 1.3910\n",
      "2021-03-29 23:56:58,699 - mmaction - INFO - Epoch [18][100/175]\tlr: 9.578e-02, eta: 0:17:26, time: 0.306, data_time: 0.024, memory: 6231, top1_acc: 0.7300, top5_acc: 0.9917, loss_cls: 0.7904, loss: 0.7904, grad_norm: 1.5723\n",
      "2021-03-29 23:57:50,441 - mmaction - INFO - Epoch [19][100/175]\tlr: 9.822e-02, eta: 0:16:54, time: 0.305, data_time: 0.023, memory: 6231, top1_acc: 0.6750, top5_acc: 0.9933, loss_cls: 0.8351, loss: 0.8351, grad_norm: 1.6519\n",
      "2021-03-29 23:58:42,276 - mmaction - INFO - Epoch [20][100/175]\tlr: 9.963e-02, eta: 0:16:21, time: 0.306, data_time: 0.024, memory: 6231, top1_acc: 0.7200, top5_acc: 0.9950, loss_cls: 0.7473, loss: 0.7473, grad_norm: 1.3919\n"
     ]
    },
    {
     "name": "stdout",
     "output_type": "stream",
     "text": [
      "[>>>>>>>>>>>>>>>>>>>>>>>>>>>>>>>>>>>>>>>>] 126/126, 62.1 task/s, elapsed: 2s, ETA:     0s"
     ]
    },
    {
     "name": "stderr",
     "output_type": "stream",
     "text": [
      "2021-03-29 23:59:05,631 - mmaction - INFO - Evaluating top_k_accuracy ...\n",
      "2021-03-29 23:59:05,632 - mmaction - INFO - \n",
      "top1_acc\t0.7460\n",
      "top5_acc\t0.9921\n",
      "2021-03-29 23:59:05,632 - mmaction - INFO - Evaluating mean_class_accuracy ...\n",
      "2021-03-29 23:59:05,633 - mmaction - INFO - \n",
      "mean_acc\t0.7460\n",
      "2021-03-29 23:59:05,634 - mmaction - INFO - Epoch(val) [20][175]\ttop1_acc: 0.7460, top5_acc: 0.9921, mean_class_accuracy: 0.7460\n",
      "2021-03-29 23:59:36,248 - mmaction - INFO - Epoch [21][100/175]\tlr: 9.999e-02, eta: 0:15:49, time: 0.306, data_time: 0.024, memory: 6231, top1_acc: 0.7350, top5_acc: 0.9950, loss_cls: 0.6835, loss: 0.6835, grad_norm: 1.3199\n",
      "2021-03-30 00:00:28,007 - mmaction - INFO - Epoch [22][100/175]\tlr: 9.964e-02, eta: 0:15:17, time: 0.306, data_time: 0.023, memory: 6231, top1_acc: 0.7100, top5_acc: 0.9933, loss_cls: 0.7411, loss: 0.7411, grad_norm: 1.3525\n",
      "2021-03-30 00:01:19,817 - mmaction - INFO - Epoch [23][100/175]\tlr: 9.877e-02, eta: 0:14:45, time: 0.306, data_time: 0.024, memory: 6231, top1_acc: 0.6967, top5_acc: 0.9867, loss_cls: 0.7458, loss: 0.7458, grad_norm: 1.3028\n",
      "2021-03-30 00:02:11,521 - mmaction - INFO - Epoch [24][100/175]\tlr: 9.738e-02, eta: 0:14:13, time: 0.305, data_time: 0.024, memory: 6231, top1_acc: 0.7150, top5_acc: 0.9883, loss_cls: 0.7793, loss: 0.7793, grad_norm: 1.4806\n",
      "2021-03-30 00:02:32,692 - mmaction - INFO - Saving checkpoint at 24 epochs\n",
      "2021-03-30 00:03:03,436 - mmaction - INFO - Epoch [25][100/175]\tlr: 9.550e-02, eta: 0:13:41, time: 0.305, data_time: 0.024, memory: 6231, top1_acc: 0.7100, top5_acc: 0.9850, loss_cls: 0.7168, loss: 0.7168, grad_norm: 1.1125\n"
     ]
    },
    {
     "name": "stdout",
     "output_type": "stream",
     "text": [
      "[>>>>>>>>>>>>>>>>>>>>>>>>>>>>>>>>>>>>>>>>] 126/126, 61.6 task/s, elapsed: 2s, ETA:     0s"
     ]
    },
    {
     "name": "stderr",
     "output_type": "stream",
     "text": [
      "2021-03-30 00:03:26,696 - mmaction - INFO - Evaluating top_k_accuracy ...\n",
      "2021-03-30 00:03:26,698 - mmaction - INFO - \n",
      "top1_acc\t0.7302\n",
      "top5_acc\t1.0000\n",
      "2021-03-30 00:03:26,699 - mmaction - INFO - Evaluating mean_class_accuracy ...\n",
      "2021-03-30 00:03:26,700 - mmaction - INFO - \n",
      "mean_acc\t0.7302\n",
      "2021-03-30 00:03:26,701 - mmaction - INFO - Epoch(val) [25][175]\ttop1_acc: 0.7302, top5_acc: 1.0000, mean_class_accuracy: 0.7302\n",
      "2021-03-30 00:03:57,272 - mmaction - INFO - Epoch [26][100/175]\tlr: 9.313e-02, eta: 0:13:10, time: 0.306, data_time: 0.024, memory: 6231, top1_acc: 0.7050, top5_acc: 0.9833, loss_cls: 0.6978, loss: 0.6978, grad_norm: 1.1034\n",
      "2021-03-30 00:04:49,048 - mmaction - INFO - Epoch [27][100/175]\tlr: 9.031e-02, eta: 0:12:38, time: 0.305, data_time: 0.024, memory: 6231, top1_acc: 0.7567, top5_acc: 0.9967, loss_cls: 0.6220, loss: 0.6220, grad_norm: 1.1670\n",
      "2021-03-30 00:05:40,725 - mmaction - INFO - Epoch [28][100/175]\tlr: 8.707e-02, eta: 0:12:07, time: 0.306, data_time: 0.024, memory: 6231, top1_acc: 0.7567, top5_acc: 0.9967, loss_cls: 0.6178, loss: 0.6178, grad_norm: 1.3068\n",
      "2021-03-30 00:06:32,557 - mmaction - INFO - Epoch [29][100/175]\tlr: 8.343e-02, eta: 0:11:35, time: 0.306, data_time: 0.024, memory: 6231, top1_acc: 0.7683, top5_acc: 0.9917, loss_cls: 0.6024, loss: 0.6024, grad_norm: 1.1252\n",
      "2021-03-30 00:07:24,216 - mmaction - INFO - Epoch [30][100/175]\tlr: 7.945e-02, eta: 0:11:04, time: 0.305, data_time: 0.024, memory: 6231, top1_acc: 0.7467, top5_acc: 0.9933, loss_cls: 0.6136, loss: 0.6136, grad_norm: 1.0943\n"
     ]
    },
    {
     "name": "stdout",
     "output_type": "stream",
     "text": [
      "[>>>>>>>>>>>>>>>>>>>>>>>>>>>>>>>>>>>>>>>>] 126/126, 62.0 task/s, elapsed: 2s, ETA:     0s"
     ]
    },
    {
     "name": "stderr",
     "output_type": "stream",
     "text": [
      "2021-03-30 00:07:47,561 - mmaction - INFO - Evaluating top_k_accuracy ...\n",
      "2021-03-30 00:07:47,563 - mmaction - INFO - \n",
      "top1_acc\t0.7857\n",
      "top5_acc\t1.0000\n",
      "2021-03-30 00:07:47,563 - mmaction - INFO - Evaluating mean_class_accuracy ...\n",
      "2021-03-30 00:07:47,565 - mmaction - INFO - \n",
      "mean_acc\t0.7857\n",
      "2021-03-30 00:07:47,859 - mmaction - INFO - Now best checkpoint is saved as best_top1_acc_epoch_30.pth.\n",
      "2021-03-30 00:07:47,860 - mmaction - INFO - Best top1_acc is 0.7857 at 30 epoch.\n",
      "2021-03-30 00:07:47,861 - mmaction - INFO - Epoch(val) [30][175]\ttop1_acc: 0.7857, top5_acc: 1.0000, mean_class_accuracy: 0.7857\n",
      "2021-03-30 00:08:18,542 - mmaction - INFO - Epoch [31][100/175]\tlr: 7.515e-02, eta: 0:10:33, time: 0.307, data_time: 0.024, memory: 6231, top1_acc: 0.7867, top5_acc: 0.9967, loss_cls: 0.5664, loss: 0.5664, grad_norm: 1.0673\n",
      "2021-03-30 00:09:11,145 - mmaction - INFO - Epoch [32][100/175]\tlr: 7.059e-02, eta: 0:10:02, time: 0.308, data_time: 0.024, memory: 6231, top1_acc: 0.7950, top5_acc: 0.9950, loss_cls: 0.5198, loss: 0.5198, grad_norm: 1.1285\n",
      "2021-03-30 00:10:03,126 - mmaction - INFO - Epoch [33][100/175]\tlr: 6.581e-02, eta: 0:09:30, time: 0.307, data_time: 0.024, memory: 6231, top1_acc: 0.7500, top5_acc: 0.9900, loss_cls: 0.6420, loss: 0.6420, grad_norm: 1.2504\n",
      "2021-03-30 00:10:55,224 - mmaction - INFO - Epoch [34][100/175]\tlr: 6.087e-02, eta: 0:08:59, time: 0.308, data_time: 0.024, memory: 6231, top1_acc: 0.7750, top5_acc: 0.9967, loss_cls: 0.5468, loss: 0.5468, grad_norm: 1.0756\n",
      "2021-03-30 00:11:47,154 - mmaction - INFO - Epoch [35][100/175]\tlr: 5.581e-02, eta: 0:08:28, time: 0.307, data_time: 0.024, memory: 6231, top1_acc: 0.7967, top5_acc: 0.9917, loss_cls: 0.5353, loss: 0.5353, grad_norm: 1.1149\n"
     ]
    },
    {
     "name": "stdout",
     "output_type": "stream",
     "text": [
      "[>>>>>>>>>>>>>>>>>>>>>>>>>>>>>>>>>>>>>>>>] 126/126, 61.6 task/s, elapsed: 2s, ETA:     0s"
     ]
    },
    {
     "name": "stderr",
     "output_type": "stream",
     "text": [
      "2021-03-30 00:12:10,560 - mmaction - INFO - Evaluating top_k_accuracy ...\n",
      "2021-03-30 00:12:10,562 - mmaction - INFO - \n",
      "top1_acc\t0.7778\n",
      "top5_acc\t1.0000\n",
      "2021-03-30 00:12:10,563 - mmaction - INFO - Evaluating mean_class_accuracy ...\n",
      "2021-03-30 00:12:10,565 - mmaction - INFO - \n",
      "mean_acc\t0.7778\n",
      "2021-03-30 00:12:10,567 - mmaction - INFO - Epoch(val) [35][175]\ttop1_acc: 0.7778, top5_acc: 1.0000, mean_class_accuracy: 0.7778\n",
      "2021-03-30 00:12:41,260 - mmaction - INFO - Epoch [36][100/175]\tlr: 5.069e-02, eta: 0:07:57, time: 0.307, data_time: 0.024, memory: 6231, top1_acc: 0.8067, top5_acc: 0.9967, loss_cls: 0.5010, loss: 0.5010, grad_norm: 1.1623\n",
      "2021-03-30 00:13:02,501 - mmaction - INFO - Saving checkpoint at 36 epochs\n",
      "2021-03-30 00:13:33,496 - mmaction - INFO - Epoch [37][100/175]\tlr: 4.556e-02, eta: 0:07:26, time: 0.307, data_time: 0.024, memory: 6231, top1_acc: 0.7933, top5_acc: 0.9950, loss_cls: 0.5430, loss: 0.5430, grad_norm: 1.1383\n",
      "2021-03-30 00:14:25,353 - mmaction - INFO - Epoch [38][100/175]\tlr: 4.048e-02, eta: 0:06:55, time: 0.306, data_time: 0.024, memory: 6231, top1_acc: 0.8133, top5_acc: 0.9967, loss_cls: 0.4555, loss: 0.4555, grad_norm: 1.0692\n",
      "2021-03-30 00:15:17,417 - mmaction - INFO - Epoch [39][100/175]\tlr: 3.550e-02, eta: 0:06:24, time: 0.306, data_time: 0.024, memory: 6231, top1_acc: 0.7833, top5_acc: 1.0000, loss_cls: 0.4752, loss: 0.4752, grad_norm: 1.1092\n",
      "2021-03-30 00:16:09,207 - mmaction - INFO - Epoch [40][100/175]\tlr: 3.067e-02, eta: 0:05:53, time: 0.306, data_time: 0.024, memory: 6231, top1_acc: 0.7983, top5_acc: 0.9967, loss_cls: 0.4847, loss: 0.4847, grad_norm: 1.1428\n"
     ]
    },
    {
     "name": "stdout",
     "output_type": "stream",
     "text": [
      "[>>>>>>>>>>>>>>>>>>>>>>>>>>>>>>>>>>>>>>>>] 126/126, 60.8 task/s, elapsed: 2s, ETA:     0s"
     ]
    },
    {
     "name": "stderr",
     "output_type": "stream",
     "text": [
      "2021-03-30 00:16:32,542 - mmaction - INFO - Evaluating top_k_accuracy ...\n",
      "2021-03-30 00:16:32,545 - mmaction - INFO - \n",
      "top1_acc\t0.8095\n",
      "top5_acc\t1.0000\n",
      "2021-03-30 00:16:32,545 - mmaction - INFO - Evaluating mean_class_accuracy ...\n",
      "2021-03-30 00:16:32,547 - mmaction - INFO - \n",
      "mean_acc\t0.8095\n",
      "2021-03-30 00:16:32,849 - mmaction - INFO - Now best checkpoint is saved as best_top1_acc_epoch_40.pth.\n",
      "2021-03-30 00:16:32,850 - mmaction - INFO - Best top1_acc is 0.8095 at 40 epoch.\n",
      "2021-03-30 00:16:32,850 - mmaction - INFO - Epoch(val) [40][175]\ttop1_acc: 0.8095, top5_acc: 1.0000, mean_class_accuracy: 0.8095\n",
      "2021-03-30 00:17:03,513 - mmaction - INFO - Epoch [41][100/175]\tlr: 2.605e-02, eta: 0:05:22, time: 0.307, data_time: 0.024, memory: 6231, top1_acc: 0.8267, top5_acc: 0.9933, loss_cls: 0.4550, loss: 0.4550, grad_norm: 1.0917\n",
      "2021-03-30 00:17:55,331 - mmaction - INFO - Epoch [42][100/175]\tlr: 2.168e-02, eta: 0:04:51, time: 0.306, data_time: 0.024, memory: 6231, top1_acc: 0.7883, top5_acc: 0.9950, loss_cls: 0.4869, loss: 0.4869, grad_norm: 1.0203\n",
      "2021-03-30 00:18:47,099 - mmaction - INFO - Epoch [43][100/175]\tlr: 1.760e-02, eta: 0:04:20, time: 0.306, data_time: 0.024, memory: 6231, top1_acc: 0.8133, top5_acc: 0.9950, loss_cls: 0.4431, loss: 0.4431, grad_norm: 1.0156\n",
      "2021-03-30 00:19:38,848 - mmaction - INFO - Epoch [44][100/175]\tlr: 1.387e-02, eta: 0:03:49, time: 0.306, data_time: 0.024, memory: 6231, top1_acc: 0.8183, top5_acc: 0.9933, loss_cls: 0.4181, loss: 0.4181, grad_norm: 1.0424\n",
      "2021-03-30 00:20:30,646 - mmaction - INFO - Epoch [45][100/175]\tlr: 1.052e-02, eta: 0:03:18, time: 0.306, data_time: 0.024, memory: 6231, top1_acc: 0.8350, top5_acc: 0.9950, loss_cls: 0.3830, loss: 0.3830, grad_norm: 0.9963\n"
     ]
    },
    {
     "name": "stdout",
     "output_type": "stream",
     "text": [
      "[>>>>>>>>>>>>>>>>>>>>>>>>>>>>>>>>>>>>>>>>] 126/126, 59.8 task/s, elapsed: 2s, ETA:     0s"
     ]
    },
    {
     "name": "stderr",
     "output_type": "stream",
     "text": [
      "2021-03-30 00:20:54,118 - mmaction - INFO - Evaluating top_k_accuracy ...\n",
      "2021-03-30 00:20:54,120 - mmaction - INFO - \n",
      "top1_acc\t0.8095\n",
      "top5_acc\t1.0000\n",
      "2021-03-30 00:20:54,121 - mmaction - INFO - Evaluating mean_class_accuracy ...\n",
      "2021-03-30 00:20:54,122 - mmaction - INFO - \n",
      "mean_acc\t0.8095\n",
      "2021-03-30 00:20:54,123 - mmaction - INFO - Epoch(val) [45][175]\ttop1_acc: 0.8095, top5_acc: 1.0000, mean_class_accuracy: 0.8095\n",
      "2021-03-30 00:21:24,717 - mmaction - INFO - Epoch [46][100/175]\tlr: 7.582e-03, eta: 0:02:47, time: 0.306, data_time: 0.024, memory: 6231, top1_acc: 0.8467, top5_acc: 0.9917, loss_cls: 0.3691, loss: 0.3691, grad_norm: 0.9940\n",
      "2021-03-30 00:22:16,425 - mmaction - INFO - Epoch [47][100/175]\tlr: 5.093e-03, eta: 0:02:16, time: 0.306, data_time: 0.024, memory: 6231, top1_acc: 0.8383, top5_acc: 0.9967, loss_cls: 0.3614, loss: 0.3614, grad_norm: 0.9574\n",
      "2021-03-30 00:23:08,294 - mmaction - INFO - Epoch [48][100/175]\tlr: 3.076e-03, eta: 0:01:45, time: 0.306, data_time: 0.024, memory: 6231, top1_acc: 0.8517, top5_acc: 0.9967, loss_cls: 0.3611, loss: 0.3611, grad_norm: 0.9970\n",
      "2021-03-30 00:23:29,546 - mmaction - INFO - Saving checkpoint at 48 epochs\n",
      "2021-03-30 00:24:00,328 - mmaction - INFO - Epoch [49][100/175]\tlr: 1.553e-03, eta: 0:01:14, time: 0.305, data_time: 0.024, memory: 6231, top1_acc: 0.8600, top5_acc: 0.9967, loss_cls: 0.3347, loss: 0.3347, grad_norm: 0.9732\n",
      "2021-03-30 00:24:52,075 - mmaction - INFO - Epoch [50][100/175]\tlr: 5.412e-04, eta: 0:00:44, time: 0.305, data_time: 0.024, memory: 6231, top1_acc: 0.8533, top5_acc: 0.9983, loss_cls: 0.3588, loss: 0.3588, grad_norm: 0.9715\n"
     ]
    },
    {
     "name": "stdout",
     "output_type": "stream",
     "text": [
      "[>>>>>>>>>>>>>>>>>>>>>>>>>>>>>>>>>>>>>>>>] 126/126, 63.3 task/s, elapsed: 2s, ETA:     0s"
     ]
    },
    {
     "name": "stderr",
     "output_type": "stream",
     "text": [
      "2021-03-30 00:25:15,442 - mmaction - INFO - Evaluating top_k_accuracy ...\n",
      "2021-03-30 00:25:15,444 - mmaction - INFO - \n",
      "top1_acc\t0.8095\n",
      "top5_acc\t1.0000\n",
      "2021-03-30 00:25:15,445 - mmaction - INFO - Evaluating mean_class_accuracy ...\n",
      "2021-03-30 00:25:15,448 - mmaction - INFO - \n",
      "mean_acc\t0.8095\n",
      "2021-03-30 00:25:15,449 - mmaction - INFO - Epoch(val) [50][175]\ttop1_acc: 0.8095, top5_acc: 1.0000, mean_class_accuracy: 0.8095\n",
      "2021-03-30 00:25:46,192 - mmaction - INFO - Epoch [51][100/175]\tlr: 4.979e-05, eta: 0:00:13, time: 0.307, data_time: 0.024, memory: 6231, top1_acc: 0.8217, top5_acc: 0.9950, loss_cls: 0.3936, loss: 0.3936, grad_norm: 1.1156\n"
     ]
    }
   ],
   "source": [
    "import os.path as osp\n",
    "\n",
    "from mmaction.datasets import build_dataset\n",
    "from mmaction.models import build_model\n",
    "from mmaction.apis import train_model\n",
    "\n",
    "import mmcv\n",
    "\n",
    "# Build the dataset\n",
    "datasets = [build_dataset(cfg.data.train)]\n",
    "\n",
    "# Build the recognizer\n",
    "model = build_model(cfg.model, train_cfg=cfg.get('train_cfg'), test_cfg=cfg.get('test_cfg'))\n",
    "# model = build_model(cfg.model, train_cfg=cfg.get('train_cfg'), test_cfg=cfg.get('test_cfg'))\n",
    "# model = build_detector(cfg.model, train_cfg=cfg.get('train_cfg'), test_cfg=cfg.get('test_cfg'))\n",
    "# model = build_detector(cfg.model, train_cfg=cfg.train_cfg, test_cfg=cfg.test_cfg)\n",
    "\n",
    "# Create work_dir\n",
    "mmcv.mkdir_or_exist(osp.abspath(cfg.work_dir))\n",
    "train_model(model, datasets, cfg, distributed=False, validate=True)"
   ]
  },
  {
   "cell_type": "code",
   "execution_count": 42,
   "metadata": {},
   "outputs": [],
   "source": [
    "import pickle\n",
    "\n",
    "with open(f\"{cfg.work_dir}/model50e\", 'wb') as f:\n",
    "    pickle.dump(model, f)"
   ]
  },
  {
   "cell_type": "code",
   "execution_count": 46,
   "metadata": {},
   "outputs": [
    {
     "name": "stderr",
     "output_type": "stream",
     "text": [
      "2021-03-30 01:00:17,769 - mmaction - INFO - These parameters in pretrained checkpoint are not loaded: {'fc.weight', 'fc.bias', 'conv1.weight'}\n"
     ]
    },
    {
     "name": "stdout",
     "output_type": "stream",
     "text": [
      "Use load_from_torchvision loader\n"
     ]
    }
   ],
   "source": [
    "# Build the dataset\n",
    "datasets = [build_dataset(cfg.data.train)]\n",
    "\n",
    "# Build the recognizer\n",
    "model = build_model(cfg.model, train_cfg=cfg.get('train_cfg'), test_cfg=cfg.get('test_cfg'))\n",
    "\n",
    "model = pickle.load(open(f\"{cfg.work_dir}/model50e\", 'rb'))"
   ]
  },
  {
   "cell_type": "code",
   "execution_count": 47,
   "metadata": {
    "colab": {
     "base_uri": "https://localhost:8080/"
    },
    "id": "eyY3hCMwyTct",
    "outputId": "200e37c7-0da4-421f-98da-41418c3110ca",
    "tags": []
   },
   "outputs": [
    {
     "name": "stdout",
     "output_type": "stream",
     "text": [
      "[>>>>>>>>>>>>>>>>>>>>>>>>>>>>>>>>>>>>>>>>] 126/126, 59.5 task/s, elapsed: 2s, ETA:     0s\n",
      "Evaluating top_k_accuracy ...\n",
      "\n",
      "top1_acc\t0.8730\n",
      "top5_acc\t1.0000\n",
      "\n",
      "Evaluating mean_class_accuracy ...\n",
      "\n",
      "mean_acc\t0.8730\n",
      "top1_acc: 0.8730\n",
      "top5_acc: 1.0000\n",
      "mean_class_accuracy: 0.8730\n"
     ]
    }
   ],
   "source": [
    "from mmaction.apis import single_gpu_test\n",
    "from mmaction.datasets import build_dataloader\n",
    "from mmcv.parallel import MMDataParallel\n",
    "from mmaction.models import build_model\n",
    "from mmaction.datasets import build_dataset\n",
    "\n",
    "# model = build_model(cfg.model, train_cfg=cfg.get('train_cfg'), test_cfg=cfg.get('test_cfg'))\n",
    "# Build a test dataloader\n",
    "dataset = build_dataset(cfg.data.test, dict(test_mode=True))\n",
    "data_loader = build_dataloader(\n",
    "        dataset,\n",
    "        videos_per_gpu=4,\n",
    "        workers_per_gpu=1,\n",
    "        dist=False,\n",
    "        shuffle=False)\n",
    "model = MMDataParallel(model, device_ids=[0])\n",
    "outputs = single_gpu_test(model, data_loader)\n",
    "\n",
    "eval_config = cfg.evaluation\n",
    "eval_config.pop('interval')\n",
    "eval_res = dataset.evaluate(outputs, **eval_config)\n",
    "for name, val in eval_res.items():\n",
    "    print(f'{name}: {val:.04f}')\n",
    "    \n",
    "output_config = cfg.output_config\n",
    "dataset.dump_results(outputs, **output_config)"
   ]
  },
  {
   "cell_type": "code",
   "execution_count": 48,
   "metadata": {
    "tags": []
   },
   "outputs": [
    {
     "data": {
      "text/plain": [
       "<AxesSubplot:>"
      ]
     },
     "execution_count": 48,
     "metadata": {},
     "output_type": "execute_result"
    },
    {
     "data": {
      "image/png": "[encoded data removed]",
      "text/plain": [
       "<Figure size 432x288 with 2 Axes>"
      ]
     },
     "metadata": {
      "needs_background": "light"
     },
     "output_type": "display_data"
    }
   ],
   "source": [
    "import seaborn as sns\n",
    "import numpy as np\n",
    "from mmaction.core import confusion_matrix \n",
    "\n",
    "gt_labels = [ann['label'] for ann in dataset.load_annotations()]\n",
    "pred = np.argmax(outputs, axis=1)\n",
    "cf_mat = confusion_matrix(pred, gt_labels).astype(float)\n",
    "\n",
    "sns.heatmap(cf_mat, annot=True, xticklabels = ['box', 'clap', 'go', 'jog', 'run', 'walk', 'wave'], yticklabels = ['box', 'clap', 'go', 'jog', 'run', 'walk', 'wave'] )"
   ]
  },
  {
   "cell_type": "markdown",
   "metadata": {
    "heading_collapsed": "true",
    "tags": []
   },
   "source": [
    "# I3D 96.83%"
   ]
  },
  {
   "cell_type": "code",
   "execution_count": 1,
   "metadata": {
    "colab": {
     "base_uri": "https://localhost:8080/"
    },
    "id": "64CW6d_AaT-Q",
    "outputId": "3b284fd8-4ee7-4a34-90d7-5023cd123a04",
    "tags": []
   },
   "outputs": [
    {
     "name": "stdout",
     "output_type": "stream",
     "text": [
      "--2021-04-01 15:05:30--  https://download.openmmlab.com/mmaction/recognition/i3d/i3d_nl_embedded_gaussian_r50_32x2x1_100e_kinetics400_rgb/i3d_nl_embedded_gaussian_r50_32x2x1_100e_kinetics400_rgb_20200813-6e6aef1b.pth\n",
      "Resolving download.openmmlab.com (download.openmmlab.com)... 47.254.186.225\n",
      "Connecting to download.openmmlab.com (download.openmmlab.com)|47.254.186.225|:443... connected.\n",
      "HTTP request sent, awaiting response... 200 OK\n",
      "Length: 141906964 (135M) [application/octet-stream]\n",
      "Saving to: ‘checkpoints/i3d_nl_embedded_gaussian_r50_32x2x1_100e_kinetics400_rgb_20200813-6e6aef1b.pth’\n",
      "\n",
      "checkpoints/i3d_nl_ 100%[===================>] 135,33M  8,89MB/s    in 15s     \n",
      "\n",
      "2021-04-01 15:05:46 (8,92 MB/s) - ‘checkpoints/i3d_nl_embedded_gaussian_r50_32x2x1_100e_kinetics400_rgb_20200813-6e6aef1b.pth’ saved [141906964/141906964]\n",
      "\n"
     ]
    }
   ],
   "source": [
    "# !mkdir checkpoints\n",
    "!wget -c https://download.openmmlab.com/mmaction/recognition/i3d/i3d_nl_embedded_gaussian_r50_32x2x1_100e_kinetics400_rgb/i3d_nl_embedded_gaussian_r50_32x2x1_100e_kinetics400_rgb_20200813-6e6aef1b.pth \\\n",
    "      -O checkpoints/i3d_nl_embedded_gaussian_r50_32x2x1_100e_kinetics400_rgb_20200813-6e6aef1b.pth"
   ]
  },
  {
   "cell_type": "code",
   "execution_count": 1,
   "metadata": {
    "id": "LjCcmCKOjktc",
    "tags": []
   },
   "outputs": [],
   "source": [
    "from mmcv import Config\n",
    "cfg = Config.fromfile('./configs/recognition/i3d/i3d_nl_embedded_gaussian_r50_32x2x1_100e_kinetics400_rgb.py')\n",
    "# print(f'Config:\\n{cfg.pretty_text}')"
   ]
  },
  {
   "cell_type": "code",
   "execution_count": 2,
   "metadata": {
    "colab": {
     "base_uri": "https://localhost:8080/"
    },
    "collapsed": true,
    "id": "tlhu9byjjt-K",
    "jupyter": {
     "outputs_hidden": true
    },
    "outputId": "13d1bb01-f351-48c0-9efb-0bdf2c125d29",
    "tags": []
   },
   "outputs": [
    {
     "name": "stdout",
     "output_type": "stream",
     "text": [
      "Config:\n",
      "model = dict(\n",
      "    type='Recognizer3D',\n",
      "    backbone=dict(\n",
      "        type='ResNet3d',\n",
      "        pretrained2d=True,\n",
      "        pretrained='torchvision://resnet50',\n",
      "        depth=50,\n",
      "        conv_cfg=dict(type='Conv3d'),\n",
      "        norm_eval=False,\n",
      "        inflate=((1, 1, 1), (1, 0, 1, 0), (1, 0, 1, 0, 1, 0), (0, 1, 0)),\n",
      "        zero_init_residual=False,\n",
      "        non_local=((0, 0, 0), (0, 1, 0, 1), (0, 1, 0, 1, 0, 1), (0, 0, 0)),\n",
      "        non_local_cfg=dict(\n",
      "            sub_sample=True,\n",
      "            use_scale=False,\n",
      "            norm_cfg=dict(type='BN3d', requires_grad=True),\n",
      "            mode='embedded_gaussian')),\n",
      "    cls_head=dict(\n",
      "        type='I3DHead',\n",
      "        num_classes=7,\n",
      "        in_channels=2048,\n",
      "        spatial_type='avg',\n",
      "        dropout_ratio=0.5,\n",
      "        init_std=0.01),\n",
      "    train_cfg=None,\n",
      "    test_cfg=dict(average_clips='prob'))\n",
      "optimizer = dict(type='SGD', lr=0.01, momentum=0.9, weight_decay=0.0001)\n",
      "optimizer_config = dict(grad_clip=dict(max_norm=40, norm_type=2))\n",
      "lr_config = dict(\n",
      "    policy='cyclic',\n",
      "    target_ratio=(10, 1e-05),\n",
      "    cyclic_times=1,\n",
      "    step_ratio_up=0.4)\n",
      "total_epochs = 51\n",
      "checkpoint_config = dict(interval=12)\n",
      "log_config = dict(interval=100, hooks=[dict(type='TextLoggerHook')])\n",
      "dist_params = dict(backend='nccl')\n",
      "log_level = 'INFO'\n",
      "load_from = 'checkpoints/i3d_nl_embedded_gaussian_r50_32x2x1_100e_kinetics400_rgb_20200813-6e6aef1b.pth'\n",
      "resume_from = None\n",
      "workflow = [('train', 1)]\n",
      "dataset_type = 'RawframeDataset'\n",
      "data_root = 'data/childact_rgb_rawframe/train/'\n",
      "data_root_val = 'data/childact_rgb_rawframe/val/'\n",
      "ann_file_train = 'data/childact_rgb_rawframe/childact_train_rgb_rawframe.txt'\n",
      "ann_file_val = 'data/childact_rgb_rawframe/childact_val_rgb_rawframe.txt'\n",
      "ann_file_test = 'data/childact_rgb_rawframe/childact_test_rgb_rawframe.txt'\n",
      "img_norm_cfg = dict(\n",
      "    mean=[123.675, 116.28, 103.53], std=[58.395, 57.12, 57.375], to_bgr=False)\n",
      "train_pipeline = [\n",
      "    dict(type='SampleFrames', clip_len=32, frame_interval=2, num_clips=1),\n",
      "    dict(type='RawFrameDecode'),\n",
      "    dict(type='Resize', scale=(-1, 256)),\n",
      "    dict(\n",
      "        type='MultiScaleCrop',\n",
      "        input_size=224,\n",
      "        scales=(1, 0.8),\n",
      "        random_crop=False,\n",
      "        max_wh_scale_gap=0),\n",
      "    dict(type='Resize', scale=(224, 224), keep_ratio=False),\n",
      "    dict(type='Flip', flip_ratio=0.5),\n",
      "    dict(\n",
      "        type='Normalize',\n",
      "        mean=[123.675, 116.28, 103.53],\n",
      "        std=[58.395, 57.12, 57.375],\n",
      "        to_bgr=False),\n",
      "    dict(type='FormatShape', input_format='NCTHW'),\n",
      "    dict(type='Collect', keys=['imgs', 'label'], meta_keys=[]),\n",
      "    dict(type='ToTensor', keys=['imgs', 'label'])\n",
      "]\n",
      "val_pipeline = [\n",
      "    dict(\n",
      "        type='SampleFrames',\n",
      "        clip_len=32,\n",
      "        frame_interval=2,\n",
      "        num_clips=1,\n",
      "        test_mode=True),\n",
      "    dict(type='RawFrameDecode'),\n",
      "    dict(type='Resize', scale=(-1, 256)),\n",
      "    dict(type='CenterCrop', crop_size=224),\n",
      "    dict(type='Flip', flip_ratio=0),\n",
      "    dict(\n",
      "        type='Normalize',\n",
      "        mean=[123.675, 116.28, 103.53],\n",
      "        std=[58.395, 57.12, 57.375],\n",
      "        to_bgr=False),\n",
      "    dict(type='FormatShape', input_format='NCTHW'),\n",
      "    dict(type='Collect', keys=['imgs', 'label'], meta_keys=[]),\n",
      "    dict(type='ToTensor', keys=['imgs'])\n",
      "]\n",
      "test_pipeline = [\n",
      "    dict(\n",
      "        type='SampleFrames',\n",
      "        clip_len=32,\n",
      "        frame_interval=2,\n",
      "        num_clips=10,\n",
      "        test_mode=True),\n",
      "    dict(type='RawFrameDecode'),\n",
      "    dict(type='Resize', scale=(-1, 256)),\n",
      "    dict(type='ThreeCrop', crop_size=256),\n",
      "    dict(type='Flip', flip_ratio=0),\n",
      "    dict(\n",
      "        type='Normalize',\n",
      "        mean=[123.675, 116.28, 103.53],\n",
      "        std=[58.395, 57.12, 57.375],\n",
      "        to_bgr=False),\n",
      "    dict(type='FormatShape', input_format='NCTHW'),\n",
      "    dict(type='Collect', keys=['imgs', 'label'], meta_keys=[]),\n",
      "    dict(type='ToTensor', keys=['imgs'])\n",
      "]\n",
      "data = dict(\n",
      "    videos_per_gpu=8,\n",
      "    workers_per_gpu=4,\n",
      "    train=dict(\n",
      "        type='RawframeDataset',\n",
      "        ann_file='data/childact_rgb_rawframe/childact_train_rgb_rawframe.txt',\n",
      "        data_prefix='data/childact_rgb_rawframe/train/',\n",
      "        pipeline=[\n",
      "            dict(\n",
      "                type='SampleFrames',\n",
      "                clip_len=32,\n",
      "                frame_interval=2,\n",
      "                num_clips=1),\n",
      "            dict(type='RawFrameDecode'),\n",
      "            dict(type='Resize', scale=(-1, 256)),\n",
      "            dict(\n",
      "                type='MultiScaleCrop',\n",
      "                input_size=224,\n",
      "                scales=(1, 0.8),\n",
      "                random_crop=False,\n",
      "                max_wh_scale_gap=0),\n",
      "            dict(type='Resize', scale=(224, 224), keep_ratio=False),\n",
      "            dict(type='Flip', flip_ratio=0.5),\n",
      "            dict(\n",
      "                type='Normalize',\n",
      "                mean=[123.675, 116.28, 103.53],\n",
      "                std=[58.395, 57.12, 57.375],\n",
      "                to_bgr=False),\n",
      "            dict(type='FormatShape', input_format='NCTHW'),\n",
      "            dict(type='Collect', keys=['imgs', 'label'], meta_keys=[]),\n",
      "            dict(type='ToTensor', keys=['imgs', 'label'])\n",
      "        ],\n",
      "        start_index=0),\n",
      "    val=dict(\n",
      "        type='RawframeDataset',\n",
      "        ann_file='data/childact_rgb_rawframe/childact_val_rgb_rawframe.txt',\n",
      "        data_prefix='data/childact_rgb_rawframe/val/',\n",
      "        pipeline=[\n",
      "            dict(\n",
      "                type='SampleFrames',\n",
      "                clip_len=32,\n",
      "                frame_interval=2,\n",
      "                num_clips=1,\n",
      "                test_mode=True),\n",
      "            dict(type='RawFrameDecode'),\n",
      "            dict(type='Resize', scale=(-1, 256)),\n",
      "            dict(type='CenterCrop', crop_size=224),\n",
      "            dict(type='Flip', flip_ratio=0),\n",
      "            dict(\n",
      "                type='Normalize',\n",
      "                mean=[123.675, 116.28, 103.53],\n",
      "                std=[58.395, 57.12, 57.375],\n",
      "                to_bgr=False),\n",
      "            dict(type='FormatShape', input_format='NCTHW'),\n",
      "            dict(type='Collect', keys=['imgs', 'label'], meta_keys=[]),\n",
      "            dict(type='ToTensor', keys=['imgs'])\n",
      "        ],\n",
      "        start_index=0),\n",
      "    test=dict(\n",
      "        type='RawframeDataset',\n",
      "        ann_file='data/childact_rgb_rawframe/childact_test_rgb_rawframe.txt',\n",
      "        data_prefix='data/childact_rgb_rawframe/test/',\n",
      "        pipeline=[\n",
      "            dict(\n",
      "                type='SampleFrames',\n",
      "                clip_len=32,\n",
      "                frame_interval=2,\n",
      "                num_clips=10,\n",
      "                test_mode=True),\n",
      "            dict(type='RawFrameDecode'),\n",
      "            dict(type='Resize', scale=(-1, 256)),\n",
      "            dict(type='ThreeCrop', crop_size=256),\n",
      "            dict(type='Flip', flip_ratio=0),\n",
      "            dict(\n",
      "                type='Normalize',\n",
      "                mean=[123.675, 116.28, 103.53],\n",
      "                std=[58.395, 57.12, 57.375],\n",
      "                to_bgr=False),\n",
      "            dict(type='FormatShape', input_format='NCTHW'),\n",
      "            dict(type='Collect', keys=['imgs', 'label'], meta_keys=[]),\n",
      "            dict(type='ToTensor', keys=['imgs'])\n",
      "        ],\n",
      "        start_index=0))\n",
      "evaluation = dict(\n",
      "    interval=5, metrics=['top_k_accuracy', 'mean_class_accuracy'])\n",
      "work_dir = './childact-checkpoints/childact-i3D'\n",
      "omnisource = False\n",
      "momentum_config = dict(\n",
      "    policy='cyclic',\n",
      "    target_ratio=(0.8947368421052632, 1),\n",
      "    cyclic_times=1,\n",
      "    step_ratio_up=0.4)\n",
      "seed = 42\n",
      "gpu_ids = range(0, 1)\n",
      "output_config = dict(out='./childact-checkpoints/childact-i3D/results.json')\n",
      "\n"
     ]
    }
   ],
   "source": [
    "from mmcv.runner import set_random_seed\n",
    "\n",
    "# Modify dataset type and path\n",
    "# cfg.dataset_type = 'VideoDataset'\n",
    "cfg.data_root = 'data/childact_rgb_rawframe/train/'\n",
    "cfg.data_root_val = 'data/childact_rgb_rawframe/val/'\n",
    "cfg.ann_file_train = 'data/childact_rgb_rawframe/childact_train_rgb_rawframe.txt'\n",
    "cfg.ann_file_val = 'data/childact_rgb_rawframe/childact_val_rgb_rawframe.txt'\n",
    "cfg.ann_file_test = 'data/childact_rgb_rawframe/childact_test_rgb_rawframe.txt'\n",
    "\n",
    "# cfg.data.test.type = 'VideoDataset'\n",
    "cfg.data.test.ann_file = 'data/childact_rgb_rawframe/childact_test_rgb_rawframe.txt'\n",
    "cfg.data.test.data_prefix = 'data/childact_rgb_rawframe/test/'\n",
    "\n",
    "# cfg.data.train.type = 'VideoDataset'\n",
    "cfg.data.train.ann_file = 'data/childact_rgb_rawframe/childact_train_rgb_rawframe.txt'\n",
    "cfg.data.train.data_prefix = 'data/childact_rgb_rawframe/train/'\n",
    "\n",
    "# cfg.data.val.type = 'VideoDataset'\n",
    "cfg.data.val.ann_file = 'data/childact_rgb_rawframe/childact_val_rgb_rawframe.txt'\n",
    "cfg.data.val.data_prefix = 'data/childact_rgb_rawframe/val/'\n",
    "\n",
    "cfg.data.train.start_index = 0\n",
    "cfg.data.test.start_index = 0\n",
    "cfg.data.val.start_index = 0\n",
    "\n",
    "# cfg.data.test.filename_tmpl = 'flow_{}_{:05d}.jpg'\n",
    "# cfg.data.train.filename_tmpl = 'flow_{}_{:05d}.jpg'\n",
    "# cfg.data.val.filename_tmpl = 'flow_{}_{:05d}.jpg'\n",
    "# The flag is used to determine whether it is omnisource training\n",
    "cfg.setdefault('omnisource', False)\n",
    "# Modify num classes of the model in cls_head\n",
    "cfg.model.cls_head.num_classes = 7\n",
    "# We can use the pre-trained TSN model\n",
    "cfg.load_from = 'checkpoints/i3d_nl_embedded_gaussian_r50_32x2x1_100e_kinetics400_rgb_20200813-6e6aef1b.pth'\n",
    "# cfg.resume_from = './childact-mm/latest.pth'\n",
    "\n",
    "# Set up working dir to save files and logs.\n",
    "cfg.work_dir = './childact-checkpoints/childact-i3D'\n",
    "\n",
    "cfg.lr_config = dict(\n",
    "    policy='cyclic',\n",
    "    target_ratio=(10, 1e-5),\n",
    "    cyclic_times=1,\n",
    "    step_ratio_up=0.4,\n",
    ")\n",
    "\n",
    "cfg.total_epochs = 51\n",
    "\n",
    "cfg.momentum_config = dict(\n",
    "    policy='cyclic',\n",
    "    target_ratio=(0.85 / 0.95, 1),\n",
    "    cyclic_times=1,\n",
    "    step_ratio_up=0.4,\n",
    ")\n",
    "\n",
    "# We can set the checkpoint saving interval to reduce the storage cost\n",
    "cfg.checkpoint_config.interval = 12\n",
    "# We can set the log print interval to reduce the the times of printing log\n",
    "cfg.log_config.interval = 100\n",
    "\n",
    "# Set seed thus the results are more reproducible\n",
    "cfg.seed = 42\n",
    "set_random_seed(42, deterministic=False)\n",
    "cfg.gpu_ids = range(1)\n",
    "\n",
    "# cfg.img_norm_cfg.mean = [0.485, 0.456, 0.406]\n",
    "# cfg.img_norm_cfg.std = [0.229, 0.224, 0.225]\n",
    "\n",
    "# cfg.train_pipeline[6] = dict(type='Normalize', mean=[0.485, 0.456, 0.406], std=[0.229, 0.224, 0.225], to_bgr=False)\n",
    "# cfg.test_pipeline[4] = dict(type='Normalize', mean=[0.485, 0.456, 0.406], std=[0.229, 0.224, 0.225], to_bgr=False)\n",
    "# cfg.val_pipeline[4] = dict(type='Normalize', mean=[0.485, 0.456, 0.406], std=[0.229, 0.224, 0.225], to_bgr=False)\n",
    "\n",
    "# cfg.model.backbone.in_channels = 2\n",
    "\n",
    "cfg.output_config = dict(out=f'{cfg.work_dir}/results.json')\n",
    "# We can initialize the logger for training and have a look\n",
    "# at the final config used for training\n",
    "# del cfg.optimizer['momentum']\n",
    "print(f'Config:\\n{cfg.pretty_text}')"
   ]
  },
  {
   "cell_type": "code",
   "execution_count": 3,
   "metadata": {
    "colab": {
     "base_uri": "https://localhost:8080/"
    },
    "collapsed": true,
    "id": "dDBWkdDRk6oz",
    "jupyter": {
     "outputs_hidden": true
    },
    "outputId": "85a52ef3-7b5c-4c52-8fef-00322a8c65e6",
    "tags": []
   },
   "outputs": [
    {
     "name": "stderr",
     "output_type": "stream",
     "text": [
      "2021-04-01 15:07:37,615 - mmaction - INFO - load model from: torchvision://resnet50\n",
      "2021-04-01 15:07:37,776 - mmaction - WARNING - Module not exist in the state_dict_r2d: layer2.1.non_local_block.g.0\n",
      "2021-04-01 15:07:37,777 - mmaction - WARNING - Module not exist in the state_dict_r2d: layer2.1.non_local_block.g.0\n",
      "2021-04-01 15:07:37,778 - mmaction - WARNING - Module not exist in the state_dict_r2d: layer2.1.non_local_block.conv_out\n",
      "2021-04-01 15:07:37,779 - mmaction - WARNING - Module not exist in the state_dict_r2d: layer2.1.non_local_block.bn_out\n",
      "2021-04-01 15:07:37,780 - mmaction - WARNING - Module not exist in the state_dict_r2d: layer2.1.non_local_block.theta\n",
      "2021-04-01 15:07:37,780 - mmaction - WARNING - Module not exist in the state_dict_r2d: layer2.1.non_local_block.theta\n",
      "2021-04-01 15:07:37,781 - mmaction - WARNING - Module not exist in the state_dict_r2d: layer2.1.non_local_block.phi.0\n",
      "2021-04-01 15:07:37,782 - mmaction - WARNING - Module not exist in the state_dict_r2d: layer2.1.non_local_block.phi.0\n",
      "2021-04-01 15:07:37,787 - mmaction - WARNING - Module not exist in the state_dict_r2d: layer2.3.non_local_block.g.0\n",
      "2021-04-01 15:07:37,788 - mmaction - WARNING - Module not exist in the state_dict_r2d: layer2.3.non_local_block.g.0\n",
      "2021-04-01 15:07:37,789 - mmaction - WARNING - Module not exist in the state_dict_r2d: layer2.3.non_local_block.conv_out\n",
      "2021-04-01 15:07:37,790 - mmaction - WARNING - Module not exist in the state_dict_r2d: layer2.3.non_local_block.bn_out\n",
      "2021-04-01 15:07:37,790 - mmaction - WARNING - Module not exist in the state_dict_r2d: layer2.3.non_local_block.theta\n",
      "2021-04-01 15:07:37,791 - mmaction - WARNING - Module not exist in the state_dict_r2d: layer2.3.non_local_block.theta\n",
      "2021-04-01 15:07:37,792 - mmaction - WARNING - Module not exist in the state_dict_r2d: layer2.3.non_local_block.phi.0\n",
      "2021-04-01 15:07:37,793 - mmaction - WARNING - Module not exist in the state_dict_r2d: layer2.3.non_local_block.phi.0\n",
      "2021-04-01 15:07:37,802 - mmaction - WARNING - Module not exist in the state_dict_r2d: layer3.1.non_local_block.g.0\n",
      "2021-04-01 15:07:37,802 - mmaction - WARNING - Module not exist in the state_dict_r2d: layer3.1.non_local_block.g.0\n",
      "2021-04-01 15:07:37,803 - mmaction - WARNING - Module not exist in the state_dict_r2d: layer3.1.non_local_block.conv_out\n",
      "2021-04-01 15:07:37,804 - mmaction - WARNING - Module not exist in the state_dict_r2d: layer3.1.non_local_block.bn_out\n",
      "2021-04-01 15:07:37,805 - mmaction - WARNING - Module not exist in the state_dict_r2d: layer3.1.non_local_block.theta\n",
      "2021-04-01 15:07:37,806 - mmaction - WARNING - Module not exist in the state_dict_r2d: layer3.1.non_local_block.theta\n",
      "2021-04-01 15:07:37,806 - mmaction - WARNING - Module not exist in the state_dict_r2d: layer3.1.non_local_block.phi.0\n",
      "2021-04-01 15:07:37,807 - mmaction - WARNING - Module not exist in the state_dict_r2d: layer3.1.non_local_block.phi.0\n",
      "2021-04-01 15:07:37,813 - mmaction - WARNING - Module not exist in the state_dict_r2d: layer3.3.non_local_block.g.0\n",
      "2021-04-01 15:07:37,815 - mmaction - WARNING - Module not exist in the state_dict_r2d: layer3.3.non_local_block.g.0\n",
      "2021-04-01 15:07:37,816 - mmaction - WARNING - Module not exist in the state_dict_r2d: layer3.3.non_local_block.conv_out\n"
     ]
    },
    {
     "name": "stdout",
     "output_type": "stream",
     "text": [
      "Use load_from_torchvision loader\n"
     ]
    },
    {
     "name": "stderr",
     "output_type": "stream",
     "text": [
      "2021-04-01 15:07:37,816 - mmaction - WARNING - Module not exist in the state_dict_r2d: layer3.3.non_local_block.bn_out\n",
      "2021-04-01 15:07:37,817 - mmaction - WARNING - Module not exist in the state_dict_r2d: layer3.3.non_local_block.theta\n",
      "2021-04-01 15:07:37,818 - mmaction - WARNING - Module not exist in the state_dict_r2d: layer3.3.non_local_block.theta\n",
      "2021-04-01 15:07:37,819 - mmaction - WARNING - Module not exist in the state_dict_r2d: layer3.3.non_local_block.phi.0\n",
      "2021-04-01 15:07:37,819 - mmaction - WARNING - Module not exist in the state_dict_r2d: layer3.3.non_local_block.phi.0\n",
      "2021-04-01 15:07:37,825 - mmaction - WARNING - Module not exist in the state_dict_r2d: layer3.5.non_local_block.g.0\n",
      "2021-04-01 15:07:37,826 - mmaction - WARNING - Module not exist in the state_dict_r2d: layer3.5.non_local_block.g.0\n",
      "2021-04-01 15:07:37,826 - mmaction - WARNING - Module not exist in the state_dict_r2d: layer3.5.non_local_block.conv_out\n",
      "2021-04-01 15:07:37,827 - mmaction - WARNING - Module not exist in the state_dict_r2d: layer3.5.non_local_block.bn_out\n",
      "2021-04-01 15:07:37,828 - mmaction - WARNING - Module not exist in the state_dict_r2d: layer3.5.non_local_block.theta\n",
      "2021-04-01 15:07:37,828 - mmaction - WARNING - Module not exist in the state_dict_r2d: layer3.5.non_local_block.theta\n",
      "2021-04-01 15:07:37,829 - mmaction - WARNING - Module not exist in the state_dict_r2d: layer3.5.non_local_block.phi.0\n",
      "2021-04-01 15:07:37,829 - mmaction - WARNING - Module not exist in the state_dict_r2d: layer3.5.non_local_block.phi.0\n",
      "2021-04-01 15:07:37,859 - mmaction - INFO - These parameters in the 2d checkpoint are not loaded: {'fc.weight', 'fc.bias'}\n",
      "2021-04-01 15:07:40,390 - mmaction - INFO - load checkpoint from checkpoints/i3d_nl_embedded_gaussian_r50_32x2x1_100e_kinetics400_rgb_20200813-6e6aef1b.pth\n",
      "2021-04-01 15:07:40,391 - mmaction - INFO - Use load_from_local loader\n",
      "2021-04-01 15:07:40,516 - mmaction - WARNING - The model and loaded state dict do not match exactly\n",
      "\n",
      "size mismatch for cls_head.fc_cls.weight: copying a param with shape torch.Size([400, 2048]) from checkpoint, the shape in current model is torch.Size([7, 2048]).\n",
      "size mismatch for cls_head.fc_cls.bias: copying a param with shape torch.Size([400]) from checkpoint, the shape in current model is torch.Size([7]).\n",
      "2021-04-01 15:07:40,517 - mmaction - INFO - Start running, host: actrec@actrec-HP-Z4-G4-Workstation, work_dir: /home/actrec/.virtualenvs/mmaction/mmaction2/childact-checkpoints/childact-i3D\n",
      "2021-04-01 15:07:40,518 - mmaction - INFO - workflow: [('train', 1)], max: 51 epochs\n",
      "/home/actrec/.virtualenvs/mmaction/mmaction2/mmaction/core/evaluation/eval_hooks.py:131: UserWarning: runner.meta is None. Creating a empty one.\n",
      "  warnings.warn('runner.meta is None. Creating a empty one.')\n",
      "2021-04-01 15:08:25,428 - mmaction - INFO - Epoch [1][100/132]\tlr: 1.030e-02, eta: 0:49:38, time: 0.449, data_time: 0.045, memory: 6295, top1_acc: 0.5437, top5_acc: 0.9600, loss_cls: 1.1842, loss: 1.1842, grad_norm: 9.0370\n",
      "2021-04-01 15:09:23,051 - mmaction - INFO - Epoch [2][100/132]\tlr: 1.163e-02, eta: 0:41:49, time: 0.446, data_time: 0.048, memory: 6295, top1_acc: 0.6288, top5_acc: 0.9925, loss_cls: 1.0098, loss: 1.0098, grad_norm: 6.3497\n",
      "2021-04-01 15:10:24,014 - mmaction - INFO - Epoch [3][100/132]\tlr: 1.398e-02, eta: 0:40:13, time: 0.484, data_time: 0.069, memory: 6295, top1_acc: 0.6863, top5_acc: 0.9938, loss_cls: 0.8143, loss: 0.8143, grad_norm: 4.8414\n",
      "2021-04-01 15:11:31,591 - mmaction - INFO - Epoch [4][100/132]\tlr: 1.730e-02, eta: 0:39:46, time: 0.519, data_time: 0.091, memory: 6295, top1_acc: 0.6575, top5_acc: 0.9912, loss_cls: 0.8700, loss: 0.8700, grad_norm: 4.7590\n",
      "2021-04-01 15:12:39,894 - mmaction - INFO - Epoch [5][100/132]\tlr: 2.152e-02, eta: 0:39:27, time: 0.537, data_time: 0.093, memory: 6295, top1_acc: 0.6963, top5_acc: 0.9925, loss_cls: 0.8020, loss: 0.8020, grad_norm: 4.3604\n"
     ]
    },
    {
     "name": "stdout",
     "output_type": "stream",
     "text": [
      "[>>>>>>>>>>>>>>>>>>>>>>>>>>>>>>>>>>>>>>>>] 126/126, 17.8 task/s, elapsed: 7s, ETA:     0s"
     ]
    },
    {
     "name": "stderr",
     "output_type": "stream",
     "text": [
      "2021-04-01 15:13:00,389 - mmaction - INFO - Evaluating top_k_accuracy ...\n",
      "2021-04-01 15:13:00,391 - mmaction - INFO - \n",
      "top1_acc\t0.7540\n",
      "top5_acc\t1.0000\n",
      "2021-04-01 15:13:00,391 - mmaction - INFO - Evaluating mean_class_accuracy ...\n",
      "2021-04-01 15:13:00,392 - mmaction - INFO - \n",
      "mean_acc\t0.7540\n",
      "2021-04-01 15:13:00,807 - mmaction - INFO - Now best checkpoint is saved as best_top1_acc_epoch_5.pth.\n",
      "2021-04-01 15:13:00,808 - mmaction - INFO - Best top1_acc is 0.7540 at 5 epoch.\n",
      "2021-04-01 15:13:00,809 - mmaction - INFO - Epoch(val) [5][132]\ttop1_acc: 0.7540, top5_acc: 1.0000, mean_class_accuracy: 0.7540\n",
      "2021-04-01 15:13:45,525 - mmaction - INFO - Epoch [6][100/132]\tlr: 2.653e-02, eta: 0:37:45, time: 0.447, data_time: 0.048, memory: 6295, top1_acc: 0.6475, top5_acc: 0.9862, loss_cls: 0.9266, loss: 0.9266, grad_norm: 4.3385\n",
      "2021-04-01 15:14:43,072 - mmaction - INFO - Epoch [7][100/132]\tlr: 3.221e-02, eta: 0:36:20, time: 0.447, data_time: 0.047, memory: 6295, top1_acc: 0.6787, top5_acc: 0.9900, loss_cls: 0.8424, loss: 0.8424, grad_norm: 3.4103\n",
      "2021-04-01 15:15:40,361 - mmaction - INFO - Epoch [8][100/132]\tlr: 3.844e-02, eta: 0:35:05, time: 0.447, data_time: 0.046, memory: 6295, top1_acc: 0.6675, top5_acc: 0.9975, loss_cls: 0.8133, loss: 0.8133, grad_norm: 3.1120\n",
      "2021-04-01 15:16:37,590 - mmaction - INFO - Epoch [9][100/132]\tlr: 4.505e-02, eta: 0:33:57, time: 0.447, data_time: 0.046, memory: 6295, top1_acc: 0.6625, top5_acc: 0.9950, loss_cls: 0.8164, loss: 0.8164, grad_norm: 3.9313\n",
      "2021-04-01 15:17:34,808 - mmaction - INFO - Epoch [10][100/132]\tlr: 5.190e-02, eta: 0:32:53, time: 0.446, data_time: 0.043, memory: 6295, top1_acc: 0.6500, top5_acc: 0.9962, loss_cls: 0.9126, loss: 0.9126, grad_norm: 3.2115\n"
     ]
    },
    {
     "name": "stdout",
     "output_type": "stream",
     "text": [
      "[>>>>>>>>>>>>>>>>>>>>>>>>>>>>>>>>>>>>>>>>] 126/126, 19.1 task/s, elapsed: 7s, ETA:     0s"
     ]
    },
    {
     "name": "stderr",
     "output_type": "stream",
     "text": [
      "2021-04-01 15:17:54,177 - mmaction - INFO - Evaluating top_k_accuracy ...\n",
      "2021-04-01 15:17:54,178 - mmaction - INFO - \n",
      "top1_acc\t0.7857\n",
      "top5_acc\t1.0000\n",
      "2021-04-01 15:17:54,179 - mmaction - INFO - Evaluating mean_class_accuracy ...\n",
      "2021-04-01 15:17:54,179 - mmaction - INFO - \n",
      "mean_acc\t0.7857\n",
      "2021-04-01 15:17:54,613 - mmaction - INFO - Now best checkpoint is saved as best_top1_acc_epoch_10.pth.\n",
      "2021-04-01 15:17:54,614 - mmaction - INFO - Best top1_acc is 0.7857 at 10 epoch.\n",
      "2021-04-01 15:17:54,615 - mmaction - INFO - Epoch(val) [10][132]\ttop1_acc: 0.7857, top5_acc: 1.0000, mean_class_accuracy: 0.7857\n",
      "2021-04-01 15:18:38,835 - mmaction - INFO - Epoch [11][100/132]\tlr: 5.883e-02, eta: 0:31:52, time: 0.442, data_time: 0.045, memory: 6295, top1_acc: 0.7100, top5_acc: 0.9962, loss_cls: 0.7362, loss: 0.7362, grad_norm: 2.3710\n",
      "2021-04-01 15:19:36,184 - mmaction - INFO - Epoch [12][100/132]\tlr: 6.566e-02, eta: 0:30:55, time: 0.446, data_time: 0.044, memory: 6295, top1_acc: 0.6837, top5_acc: 0.9875, loss_cls: 0.7911, loss: 0.7911, grad_norm: 2.1863\n",
      "2021-04-01 15:19:48,862 - mmaction - INFO - Saving checkpoint at 12 epochs\n",
      "2021-04-01 15:20:34,096 - mmaction - INFO - Epoch [13][100/132]\tlr: 7.225e-02, eta: 0:30:00, time: 0.448, data_time: 0.047, memory: 6295, top1_acc: 0.7100, top5_acc: 0.9962, loss_cls: 0.7568, loss: 0.7568, grad_norm: 2.1244\n",
      "2021-04-01 15:21:31,600 - mmaction - INFO - Epoch [14][100/132]\tlr: 7.842e-02, eta: 0:29:07, time: 0.448, data_time: 0.045, memory: 6295, top1_acc: 0.7462, top5_acc: 0.9988, loss_cls: 0.6335, loss: 0.6335, grad_norm: 2.1381\n",
      "2021-04-01 15:22:29,145 - mmaction - INFO - Epoch [15][100/132]\tlr: 8.404e-02, eta: 0:28:15, time: 0.449, data_time: 0.047, memory: 6295, top1_acc: 0.7013, top5_acc: 0.9950, loss_cls: 0.7674, loss: 0.7674, grad_norm: 1.9936\n"
     ]
    },
    {
     "name": "stdout",
     "output_type": "stream",
     "text": [
      "[>>>>>>>>>>>>>>>>>>>>>>>>>>>>>>>>>>>>>>>>] 126/126, 19.0 task/s, elapsed: 7s, ETA:     0s"
     ]
    },
    {
     "name": "stderr",
     "output_type": "stream",
     "text": [
      "2021-04-01 15:22:48,508 - mmaction - INFO - Evaluating top_k_accuracy ...\n",
      "2021-04-01 15:22:48,510 - mmaction - INFO - \n",
      "top1_acc\t0.8571\n",
      "top5_acc\t1.0000\n",
      "2021-04-01 15:22:48,511 - mmaction - INFO - Evaluating mean_class_accuracy ...\n",
      "2021-04-01 15:22:48,513 - mmaction - INFO - \n",
      "mean_acc\t0.8571\n",
      "2021-04-01 15:22:49,027 - mmaction - INFO - Now best checkpoint is saved as best_top1_acc_epoch_15.pth.\n",
      "2021-04-01 15:22:49,028 - mmaction - INFO - Best top1_acc is 0.8571 at 15 epoch.\n",
      "2021-04-01 15:22:49,028 - mmaction - INFO - Epoch(val) [15][132]\ttop1_acc: 0.8571, top5_acc: 1.0000, mean_class_accuracy: 0.8571\n",
      "2021-04-01 15:23:33,649 - mmaction - INFO - Epoch [16][100/132]\tlr: 8.897e-02, eta: 0:27:23, time: 0.446, data_time: 0.046, memory: 6295, top1_acc: 0.7050, top5_acc: 0.9938, loss_cls: 0.7669, loss: 0.7669, grad_norm: 2.2776\n",
      "2021-04-01 15:24:30,566 - mmaction - INFO - Epoch [17][100/132]\tlr: 9.309e-02, eta: 0:26:32, time: 0.443, data_time: 0.042, memory: 6295, top1_acc: 0.7375, top5_acc: 0.9938, loss_cls: 0.6668, loss: 0.6668, grad_norm: 1.9338\n",
      "2021-04-01 15:25:28,239 - mmaction - INFO - Epoch [18][100/132]\tlr: 9.632e-02, eta: 0:25:42, time: 0.449, data_time: 0.045, memory: 6295, top1_acc: 0.7238, top5_acc: 0.9962, loss_cls: 0.6543, loss: 0.6543, grad_norm: 1.5301\n",
      "2021-04-01 15:26:27,029 - mmaction - INFO - Epoch [19][100/132]\tlr: 9.856e-02, eta: 0:24:55, time: 0.461, data_time: 0.056, memory: 6295, top1_acc: 0.7600, top5_acc: 0.9938, loss_cls: 0.6179, loss: 0.6179, grad_norm: 1.8083\n",
      "2021-04-01 15:27:25,014 - mmaction - INFO - Epoch [20][100/132]\tlr: 9.978e-02, eta: 0:24:06, time: 0.447, data_time: 0.046, memory: 6295, top1_acc: 0.7300, top5_acc: 0.9975, loss_cls: 0.6331, loss: 0.6331, grad_norm: 1.6047\n"
     ]
    },
    {
     "name": "stdout",
     "output_type": "stream",
     "text": [
      "[>>>>>>>>>>>>>>>>>>>>>>>>>>>>>>>>>>>>>>>>] 126/126, 17.9 task/s, elapsed: 7s, ETA:     0s"
     ]
    },
    {
     "name": "stderr",
     "output_type": "stream",
     "text": [
      "2021-04-01 15:27:44,700 - mmaction - INFO - Evaluating top_k_accuracy ...\n",
      "2021-04-01 15:27:44,703 - mmaction - INFO - \n",
      "top1_acc\t0.8492\n",
      "top5_acc\t1.0000\n",
      "2021-04-01 15:27:44,704 - mmaction - INFO - Evaluating mean_class_accuracy ...\n",
      "2021-04-01 15:27:44,706 - mmaction - INFO - \n",
      "mean_acc\t0.8492\n",
      "2021-04-01 15:27:44,707 - mmaction - INFO - Epoch(val) [20][132]\ttop1_acc: 0.8492, top5_acc: 1.0000, mean_class_accuracy: 0.8492\n",
      "2021-04-01 15:28:29,267 - mmaction - INFO - Epoch [21][100/132]\tlr: 9.997e-02, eta: 0:23:17, time: 0.446, data_time: 0.042, memory: 6295, top1_acc: 0.7400, top5_acc: 0.9950, loss_cls: 0.6544, loss: 0.6544, grad_norm: 1.6735\n",
      "2021-04-01 15:29:26,443 - mmaction - INFO - Epoch [22][100/132]\tlr: 9.952e-02, eta: 0:22:29, time: 0.445, data_time: 0.043, memory: 6295, top1_acc: 0.7300, top5_acc: 0.9962, loss_cls: 0.6228, loss: 0.6228, grad_norm: 1.5644\n",
      "2021-04-01 15:30:23,664 - mmaction - INFO - Epoch [23][100/132]\tlr: 9.854e-02, eta: 0:21:41, time: 0.444, data_time: 0.043, memory: 6295, top1_acc: 0.7025, top5_acc: 0.9962, loss_cls: 0.7322, loss: 0.7322, grad_norm: 1.7756\n",
      "2021-04-01 15:31:20,436 - mmaction - INFO - Epoch [24][100/132]\tlr: 9.706e-02, eta: 0:20:52, time: 0.441, data_time: 0.039, memory: 6295, top1_acc: 0.7400, top5_acc: 0.9975, loss_cls: 0.6745, loss: 0.6745, grad_norm: 1.6977\n",
      "2021-04-01 15:31:33,174 - mmaction - INFO - Saving checkpoint at 24 epochs\n",
      "2021-04-01 15:32:19,241 - mmaction - INFO - Epoch [25][100/132]\tlr: 9.508e-02, eta: 0:20:06, time: 0.457, data_time: 0.054, memory: 6295, top1_acc: 0.7638, top5_acc: 0.9938, loss_cls: 0.6313, loss: 0.6313, grad_norm: 1.5972\n"
     ]
    },
    {
     "name": "stdout",
     "output_type": "stream",
     "text": [
      "[>>>>>>>>>>>>>>>>>>>>>>>>>>>>>>>>>>>>>>>>] 126/126, 18.1 task/s, elapsed: 7s, ETA:     0s"
     ]
    },
    {
     "name": "stderr",
     "output_type": "stream",
     "text": [
      "2021-04-01 15:32:39,094 - mmaction - INFO - Evaluating top_k_accuracy ...\n",
      "2021-04-01 15:32:39,095 - mmaction - INFO - \n",
      "top1_acc\t0.8571\n",
      "top5_acc\t1.0000\n",
      "2021-04-01 15:32:39,096 - mmaction - INFO - Evaluating mean_class_accuracy ...\n",
      "2021-04-01 15:32:39,096 - mmaction - INFO - \n",
      "mean_acc\t0.8571\n",
      "2021-04-01 15:32:39,097 - mmaction - INFO - Epoch(val) [25][132]\ttop1_acc: 0.8571, top5_acc: 1.0000, mean_class_accuracy: 0.8571\n",
      "2021-04-01 15:33:24,216 - mmaction - INFO - Epoch [26][100/132]\tlr: 9.263e-02, eta: 0:19:19, time: 0.451, data_time: 0.046, memory: 6295, top1_acc: 0.7550, top5_acc: 1.0000, loss_cls: 0.6145, loss: 0.6145, grad_norm: 1.5164\n",
      "2021-04-01 15:34:21,486 - mmaction - INFO - Epoch [27][100/132]\tlr: 8.973e-02, eta: 0:18:32, time: 0.446, data_time: 0.042, memory: 6295, top1_acc: 0.7725, top5_acc: 1.0000, loss_cls: 0.5407, loss: 0.5407, grad_norm: 1.4287\n",
      "2021-04-01 15:35:18,922 - mmaction - INFO - Epoch [28][100/132]\tlr: 8.641e-02, eta: 0:17:45, time: 0.448, data_time: 0.044, memory: 6295, top1_acc: 0.7913, top5_acc: 0.9975, loss_cls: 0.5225, loss: 0.5225, grad_norm: 1.4325\n",
      "2021-04-01 15:36:16,193 - mmaction - INFO - Epoch [29][100/132]\tlr: 8.271e-02, eta: 0:16:58, time: 0.446, data_time: 0.045, memory: 6295, top1_acc: 0.7788, top5_acc: 0.9950, loss_cls: 0.5607, loss: 0.5607, grad_norm: 1.3122\n",
      "2021-04-01 15:37:13,870 - mmaction - INFO - Epoch [30][100/132]\tlr: 7.866e-02, eta: 0:16:12, time: 0.450, data_time: 0.045, memory: 6295, top1_acc: 0.7875, top5_acc: 0.9962, loss_cls: 0.5300, loss: 0.5300, grad_norm: 1.3053\n"
     ]
    },
    {
     "name": "stdout",
     "output_type": "stream",
     "text": [
      "[>>>>>>>>>>>>>>>>>>>>>>>>>>>>>>>>>>>>>>>>] 126/126, 18.1 task/s, elapsed: 7s, ETA:     0s"
     ]
    },
    {
     "name": "stderr",
     "output_type": "stream",
     "text": [
      "2021-04-01 15:37:33,642 - mmaction - INFO - Evaluating top_k_accuracy ...\n",
      "2021-04-01 15:37:33,644 - mmaction - INFO - \n",
      "top1_acc\t0.8492\n",
      "top5_acc\t1.0000\n",
      "2021-04-01 15:37:33,645 - mmaction - INFO - Evaluating mean_class_accuracy ...\n",
      "2021-04-01 15:37:33,647 - mmaction - INFO - \n",
      "mean_acc\t0.8492\n",
      "2021-04-01 15:37:33,648 - mmaction - INFO - Epoch(val) [30][132]\ttop1_acc: 0.8492, top5_acc: 1.0000, mean_class_accuracy: 0.8492\n",
      "2021-04-01 15:38:18,224 - mmaction - INFO - Epoch [31][100/132]\tlr: 7.431e-02, eta: 0:15:25, time: 0.446, data_time: 0.044, memory: 6295, top1_acc: 0.7750, top5_acc: 0.9962, loss_cls: 0.5964, loss: 0.5964, grad_norm: 1.4931\n",
      "2021-04-01 15:39:15,493 - mmaction - INFO - Epoch [32][100/132]\tlr: 6.971e-02, eta: 0:14:39, time: 0.447, data_time: 0.044, memory: 6295, top1_acc: 0.7788, top5_acc: 0.9950, loss_cls: 0.5383, loss: 0.5383, grad_norm: 1.3537\n",
      "2021-04-01 15:40:13,266 - mmaction - INFO - Epoch [33][100/132]\tlr: 6.490e-02, eta: 0:13:53, time: 0.449, data_time: 0.044, memory: 6295, top1_acc: 0.7788, top5_acc: 0.9975, loss_cls: 0.5228, loss: 0.5228, grad_norm: 1.2076\n",
      "2021-04-01 15:41:10,797 - mmaction - INFO - Epoch [34][100/132]\tlr: 5.993e-02, eta: 0:13:07, time: 0.448, data_time: 0.043, memory: 6295, top1_acc: 0.7900, top5_acc: 1.0000, loss_cls: 0.5020, loss: 0.5020, grad_norm: 1.2405\n",
      "2021-04-01 15:42:08,132 - mmaction - INFO - Epoch [35][100/132]\tlr: 5.485e-02, eta: 0:12:21, time: 0.446, data_time: 0.042, memory: 6295, top1_acc: 0.8037, top5_acc: 0.9975, loss_cls: 0.5054, loss: 0.5054, grad_norm: 1.3393\n"
     ]
    },
    {
     "name": "stdout",
     "output_type": "stream",
     "text": [
      "[>>>>>>>>>>>>>>>>>>>>>>>>>>>>>>>>>>>>>>>>] 126/126, 18.4 task/s, elapsed: 7s, ETA:     0s"
     ]
    },
    {
     "name": "stderr",
     "output_type": "stream",
     "text": [
      "2021-04-01 15:42:27,760 - mmaction - INFO - Evaluating top_k_accuracy ...\n",
      "2021-04-01 15:42:27,762 - mmaction - INFO - \n",
      "top1_acc\t0.8968\n",
      "top5_acc\t1.0000\n",
      "2021-04-01 15:42:27,763 - mmaction - INFO - Evaluating mean_class_accuracy ...\n",
      "2021-04-01 15:42:27,764 - mmaction - INFO - \n",
      "mean_acc\t0.8968\n",
      "2021-04-01 15:42:28,203 - mmaction - INFO - Now best checkpoint is saved as best_top1_acc_epoch_35.pth.\n",
      "2021-04-01 15:42:28,204 - mmaction - INFO - Best top1_acc is 0.8968 at 35 epoch.\n",
      "2021-04-01 15:42:28,205 - mmaction - INFO - Epoch(val) [35][132]\ttop1_acc: 0.8968, top5_acc: 1.0000, mean_class_accuracy: 0.8968\n",
      "2021-04-01 15:43:12,791 - mmaction - INFO - Epoch [36][100/132]\tlr: 4.973e-02, eta: 0:11:35, time: 0.446, data_time: 0.044, memory: 6295, top1_acc: 0.7963, top5_acc: 0.9962, loss_cls: 0.5294, loss: 0.5294, grad_norm: 1.3313\n",
      "2021-04-01 15:43:25,427 - mmaction - INFO - Saving checkpoint at 36 epochs\n",
      "2021-04-01 15:44:10,265 - mmaction - INFO - Epoch [37][100/132]\tlr: 4.461e-02, eta: 0:10:48, time: 0.444, data_time: 0.042, memory: 6295, top1_acc: 0.8075, top5_acc: 0.9988, loss_cls: 0.4733, loss: 0.4733, grad_norm: 1.3203\n",
      "2021-04-01 15:45:07,778 - mmaction - INFO - Epoch [38][100/132]\tlr: 3.954e-02, eta: 0:10:03, time: 0.448, data_time: 0.044, memory: 6295, top1_acc: 0.8213, top5_acc: 1.0000, loss_cls: 0.4606, loss: 0.4606, grad_norm: 1.2695\n",
      "2021-04-01 15:46:05,786 - mmaction - INFO - Epoch [39][100/132]\tlr: 3.459e-02, eta: 0:09:17, time: 0.451, data_time: 0.048, memory: 6295, top1_acc: 0.8150, top5_acc: 0.9988, loss_cls: 0.4444, loss: 0.4444, grad_norm: 1.3014\n",
      "2021-04-01 15:47:03,049 - mmaction - INFO - Epoch [40][100/132]\tlr: 2.979e-02, eta: 0:08:31, time: 0.445, data_time: 0.041, memory: 6295, top1_acc: 0.8063, top5_acc: 1.0000, loss_cls: 0.4404, loss: 0.4404, grad_norm: 1.3876\n"
     ]
    },
    {
     "name": "stdout",
     "output_type": "stream",
     "text": [
      "[>>>>>>>>>>>>>>>>>>>>>>>>>>>>>>>>>>>>>>>>] 126/126, 18.4 task/s, elapsed: 7s, ETA:     0s"
     ]
    },
    {
     "name": "stderr",
     "output_type": "stream",
     "text": [
      "2021-04-01 15:47:22,618 - mmaction - INFO - Evaluating top_k_accuracy ...\n",
      "2021-04-01 15:47:22,620 - mmaction - INFO - \n",
      "top1_acc\t0.9048\n",
      "top5_acc\t1.0000\n",
      "2021-04-01 15:47:22,620 - mmaction - INFO - Evaluating mean_class_accuracy ...\n",
      "2021-04-01 15:47:22,622 - mmaction - INFO - \n",
      "mean_acc\t0.9048\n",
      "2021-04-01 15:47:23,062 - mmaction - INFO - Now best checkpoint is saved as best_top1_acc_epoch_40.pth.\n",
      "2021-04-01 15:47:23,063 - mmaction - INFO - Best top1_acc is 0.9048 at 40 epoch.\n",
      "2021-04-01 15:47:23,063 - mmaction - INFO - Epoch(val) [40][132]\ttop1_acc: 0.9048, top5_acc: 1.0000, mean_class_accuracy: 0.9048\n",
      "2021-04-01 15:48:07,644 - mmaction - INFO - Epoch [41][100/132]\tlr: 2.521e-02, eta: 0:07:45, time: 0.446, data_time: 0.042, memory: 6295, top1_acc: 0.8237, top5_acc: 1.0000, loss_cls: 0.4076, loss: 0.4076, grad_norm: 1.1360\n",
      "2021-04-01 15:49:04,757 - mmaction - INFO - Epoch [42][100/132]\tlr: 2.089e-02, eta: 0:07:00, time: 0.445, data_time: 0.041, memory: 6295, top1_acc: 0.8125, top5_acc: 0.9975, loss_cls: 0.4707, loss: 0.4707, grad_norm: 1.2669\n",
      "2021-04-01 15:50:02,007 - mmaction - INFO - Epoch [43][100/132]\tlr: 1.688e-02, eta: 0:06:14, time: 0.446, data_time: 0.040, memory: 6295, top1_acc: 0.8337, top5_acc: 0.9988, loss_cls: 0.4407, loss: 0.4407, grad_norm: 1.3302\n",
      "2021-04-01 15:50:59,461 - mmaction - INFO - Epoch [44][100/132]\tlr: 1.322e-02, eta: 0:05:28, time: 0.447, data_time: 0.042, memory: 6295, top1_acc: 0.8200, top5_acc: 0.9962, loss_cls: 0.4568, loss: 0.4568, grad_norm: 1.3236\n",
      "2021-04-01 15:51:56,761 - mmaction - INFO - Epoch [45][100/132]\tlr: 9.941e-03, eta: 0:04:43, time: 0.447, data_time: 0.044, memory: 6295, top1_acc: 0.8438, top5_acc: 0.9962, loss_cls: 0.4182, loss: 0.4182, grad_norm: 1.2218\n"
     ]
    },
    {
     "name": "stdout",
     "output_type": "stream",
     "text": [
      "[>>>>>>>>>>>>>>>>>>>>>>>>>>>>>>>>>>>>>>>>] 126/126, 18.2 task/s, elapsed: 7s, ETA:     0s"
     ]
    },
    {
     "name": "stderr",
     "output_type": "stream",
     "text": [
      "2021-04-01 15:52:16,493 - mmaction - INFO - Evaluating top_k_accuracy ...\n",
      "2021-04-01 15:52:16,494 - mmaction - INFO - \n",
      "top1_acc\t0.9127\n",
      "top5_acc\t1.0000\n",
      "2021-04-01 15:52:16,495 - mmaction - INFO - Evaluating mean_class_accuracy ...\n",
      "2021-04-01 15:52:16,496 - mmaction - INFO - \n",
      "mean_acc\t0.9127\n",
      "2021-04-01 15:52:16,942 - mmaction - INFO - Now best checkpoint is saved as best_top1_acc_epoch_45.pth.\n",
      "2021-04-01 15:52:16,943 - mmaction - INFO - Best top1_acc is 0.9127 at 45 epoch.\n",
      "2021-04-01 15:52:16,944 - mmaction - INFO - Epoch(val) [45][132]\ttop1_acc: 0.9127, top5_acc: 1.0000, mean_class_accuracy: 0.9127\n",
      "2021-04-01 15:53:01,439 - mmaction - INFO - Epoch [46][100/132]\tlr: 7.086e-03, eta: 0:03:57, time: 0.445, data_time: 0.044, memory: 6295, top1_acc: 0.8225, top5_acc: 0.9975, loss_cls: 0.4624, loss: 0.4624, grad_norm: 1.2670\n",
      "2021-04-01 15:54:00,925 - mmaction - INFO - Epoch [47][100/132]\tlr: 4.683e-03, eta: 0:03:12, time: 0.468, data_time: 0.052, memory: 6295, top1_acc: 0.8413, top5_acc: 0.9988, loss_cls: 0.4094, loss: 0.4094, grad_norm: 1.2148\n",
      "2021-04-01 15:54:58,770 - mmaction - INFO - Epoch [48][100/132]\tlr: 2.757e-03, eta: 0:02:27, time: 0.447, data_time: 0.042, memory: 6295, top1_acc: 0.8550, top5_acc: 0.9962, loss_cls: 0.3797, loss: 0.3797, grad_norm: 1.1767\n",
      "2021-04-01 15:55:11,808 - mmaction - INFO - Saving checkpoint at 48 epochs\n",
      "2021-04-01 15:55:56,690 - mmaction - INFO - Epoch [49][100/132]\tlr: 1.328e-03, eta: 0:01:41, time: 0.445, data_time: 0.041, memory: 6295, top1_acc: 0.8363, top5_acc: 0.9975, loss_cls: 0.3948, loss: 0.3948, grad_norm: 1.2126\n",
      "2021-04-01 15:56:53,899 - mmaction - INFO - Epoch [50][100/132]\tlr: 4.111e-04, eta: 0:00:56, time: 0.446, data_time: 0.042, memory: 6295, top1_acc: 0.8400, top5_acc: 0.9988, loss_cls: 0.4025, loss: 0.4025, grad_norm: 1.2291\n"
     ]
    },
    {
     "name": "stdout",
     "output_type": "stream",
     "text": [
      "[>>>>>>>>>>>>>>>>>>>>>>>>>>>>>>>>>>>>>>>>] 126/126, 17.9 task/s, elapsed: 7s, ETA:     0s"
     ]
    },
    {
     "name": "stderr",
     "output_type": "stream",
     "text": [
      "2021-04-01 15:57:13,744 - mmaction - INFO - Evaluating top_k_accuracy ...\n",
      "2021-04-01 15:57:13,746 - mmaction - INFO - \n",
      "top1_acc\t0.9127\n",
      "top5_acc\t1.0000\n",
      "2021-04-01 15:57:13,747 - mmaction - INFO - Evaluating mean_class_accuracy ...\n",
      "2021-04-01 15:57:13,748 - mmaction - INFO - \n",
      "mean_acc\t0.9127\n",
      "2021-04-01 15:57:13,749 - mmaction - INFO - Epoch(val) [50][132]\ttop1_acc: 0.9127, top5_acc: 1.0000, mean_class_accuracy: 0.9127\n",
      "2021-04-01 15:57:58,546 - mmaction - INFO - Epoch [51][100/132]\tlr: 1.656e-05, eta: 0:00:10, time: 0.448, data_time: 0.044, memory: 6295, top1_acc: 0.8550, top5_acc: 0.9988, loss_cls: 0.3664, loss: 0.3664, grad_norm: 1.1114\n"
     ]
    }
   ],
   "source": [
    "import os.path as osp\n",
    "\n",
    "from mmaction.datasets import build_dataset\n",
    "from mmaction.models import build_model\n",
    "from mmaction.apis import train_model\n",
    "\n",
    "import mmcv\n",
    "\n",
    "# Build the dataset\n",
    "datasets = [build_dataset(cfg.data.train)]\n",
    "\n",
    "# Build the recognizer\n",
    "model = build_model(cfg.model, train_cfg=cfg.get('train_cfg'), test_cfg=cfg.get('test_cfg'))\n",
    "# model = build_model(cfg.model, train_cfg=cfg.get('train_cfg'), test_cfg=cfg.get('test_cfg'))\n",
    "# model = build_detector(cfg.model, train_cfg=cfg.get('train_cfg'), test_cfg=cfg.get('test_cfg'))\n",
    "# model = build_detector(cfg.model, train_cfg=cfg.train_cfg, test_cfg=cfg.test_cfg)\n",
    "\n",
    "# Create work_dir\n",
    "mmcv.mkdir_or_exist(osp.abspath(cfg.work_dir))\n",
    "train_model(model, datasets, cfg, distributed=False, validate=True)"
   ]
  },
  {
   "cell_type": "code",
   "execution_count": 4,
   "metadata": {},
   "outputs": [],
   "source": [
    "import pickle\n",
    "\n",
    "with open(f\"{cfg.work_dir}/model50e\", 'wb') as f:\n",
    "    pickle.dump(model, f)"
   ]
  },
  {
   "cell_type": "code",
   "execution_count": 3,
   "metadata": {
    "collapsed": true,
    "jupyter": {
     "outputs_hidden": true
    },
    "tags": []
   },
   "outputs": [
    {
     "name": "stderr",
     "output_type": "stream",
     "text": [
      "2021-04-01 16:48:14,393 - mmaction - INFO - load model from: torchvision://resnet50\n",
      "2021-04-01 16:48:14,578 - mmaction - WARNING - Module not exist in the state_dict_r2d: layer2.1.non_local_block.g.0\n",
      "2021-04-01 16:48:14,579 - mmaction - WARNING - Module not exist in the state_dict_r2d: layer2.1.non_local_block.g.0\n",
      "2021-04-01 16:48:14,580 - mmaction - WARNING - Module not exist in the state_dict_r2d: layer2.1.non_local_block.conv_out\n",
      "2021-04-01 16:48:14,581 - mmaction - WARNING - Module not exist in the state_dict_r2d: layer2.1.non_local_block.bn_out\n",
      "2021-04-01 16:48:14,582 - mmaction - WARNING - Module not exist in the state_dict_r2d: layer2.1.non_local_block.theta\n",
      "2021-04-01 16:48:14,583 - mmaction - WARNING - Module not exist in the state_dict_r2d: layer2.1.non_local_block.theta\n",
      "2021-04-01 16:48:14,584 - mmaction - WARNING - Module not exist in the state_dict_r2d: layer2.1.non_local_block.phi.0\n",
      "2021-04-01 16:48:14,585 - mmaction - WARNING - Module not exist in the state_dict_r2d: layer2.1.non_local_block.phi.0\n",
      "2021-04-01 16:48:14,590 - mmaction - WARNING - Module not exist in the state_dict_r2d: layer2.3.non_local_block.g.0\n",
      "2021-04-01 16:48:14,591 - mmaction - WARNING - Module not exist in the state_dict_r2d: layer2.3.non_local_block.g.0\n",
      "2021-04-01 16:48:14,592 - mmaction - WARNING - Module not exist in the state_dict_r2d: layer2.3.non_local_block.conv_out\n",
      "2021-04-01 16:48:14,593 - mmaction - WARNING - Module not exist in the state_dict_r2d: layer2.3.non_local_block.bn_out\n",
      "2021-04-01 16:48:14,594 - mmaction - WARNING - Module not exist in the state_dict_r2d: layer2.3.non_local_block.theta\n"
     ]
    },
    {
     "name": "stdout",
     "output_type": "stream",
     "text": [
      "Use load_from_torchvision loader\n"
     ]
    },
    {
     "name": "stderr",
     "output_type": "stream",
     "text": [
      "2021-04-01 16:48:14,595 - mmaction - WARNING - Module not exist in the state_dict_r2d: layer2.3.non_local_block.theta\n",
      "2021-04-01 16:48:14,595 - mmaction - WARNING - Module not exist in the state_dict_r2d: layer2.3.non_local_block.phi.0\n",
      "2021-04-01 16:48:14,596 - mmaction - WARNING - Module not exist in the state_dict_r2d: layer2.3.non_local_block.phi.0\n",
      "2021-04-01 16:48:14,605 - mmaction - WARNING - Module not exist in the state_dict_r2d: layer3.1.non_local_block.g.0\n",
      "2021-04-01 16:48:14,606 - mmaction - WARNING - Module not exist in the state_dict_r2d: layer3.1.non_local_block.g.0\n",
      "2021-04-01 16:48:14,607 - mmaction - WARNING - Module not exist in the state_dict_r2d: layer3.1.non_local_block.conv_out\n",
      "2021-04-01 16:48:14,607 - mmaction - WARNING - Module not exist in the state_dict_r2d: layer3.1.non_local_block.bn_out\n",
      "2021-04-01 16:48:14,608 - mmaction - WARNING - Module not exist in the state_dict_r2d: layer3.1.non_local_block.theta\n",
      "2021-04-01 16:48:14,608 - mmaction - WARNING - Module not exist in the state_dict_r2d: layer3.1.non_local_block.theta\n",
      "2021-04-01 16:48:14,609 - mmaction - WARNING - Module not exist in the state_dict_r2d: layer3.1.non_local_block.phi.0\n",
      "2021-04-01 16:48:14,609 - mmaction - WARNING - Module not exist in the state_dict_r2d: layer3.1.non_local_block.phi.0\n",
      "2021-04-01 16:48:14,613 - mmaction - WARNING - Module not exist in the state_dict_r2d: layer3.3.non_local_block.g.0\n",
      "2021-04-01 16:48:14,614 - mmaction - WARNING - Module not exist in the state_dict_r2d: layer3.3.non_local_block.g.0\n",
      "2021-04-01 16:48:14,614 - mmaction - WARNING - Module not exist in the state_dict_r2d: layer3.3.non_local_block.conv_out\n",
      "2021-04-01 16:48:14,615 - mmaction - WARNING - Module not exist in the state_dict_r2d: layer3.3.non_local_block.bn_out\n",
      "2021-04-01 16:48:14,615 - mmaction - WARNING - Module not exist in the state_dict_r2d: layer3.3.non_local_block.theta\n",
      "2021-04-01 16:48:14,615 - mmaction - WARNING - Module not exist in the state_dict_r2d: layer3.3.non_local_block.theta\n",
      "2021-04-01 16:48:14,615 - mmaction - WARNING - Module not exist in the state_dict_r2d: layer3.3.non_local_block.phi.0\n",
      "2021-04-01 16:48:14,616 - mmaction - WARNING - Module not exist in the state_dict_r2d: layer3.3.non_local_block.phi.0\n",
      "2021-04-01 16:48:14,619 - mmaction - WARNING - Module not exist in the state_dict_r2d: layer3.5.non_local_block.g.0\n",
      "2021-04-01 16:48:14,620 - mmaction - WARNING - Module not exist in the state_dict_r2d: layer3.5.non_local_block.g.0\n",
      "2021-04-01 16:48:14,620 - mmaction - WARNING - Module not exist in the state_dict_r2d: layer3.5.non_local_block.conv_out\n",
      "2021-04-01 16:48:14,620 - mmaction - WARNING - Module not exist in the state_dict_r2d: layer3.5.non_local_block.bn_out\n",
      "2021-04-01 16:48:14,621 - mmaction - WARNING - Module not exist in the state_dict_r2d: layer3.5.non_local_block.theta\n",
      "2021-04-01 16:48:14,621 - mmaction - WARNING - Module not exist in the state_dict_r2d: layer3.5.non_local_block.theta\n",
      "2021-04-01 16:48:14,621 - mmaction - WARNING - Module not exist in the state_dict_r2d: layer3.5.non_local_block.phi.0\n",
      "2021-04-01 16:48:14,621 - mmaction - WARNING - Module not exist in the state_dict_r2d: layer3.5.non_local_block.phi.0\n",
      "2021-04-01 16:48:14,644 - mmaction - INFO - These parameters in the 2d checkpoint are not loaded: {'fc.bias', 'fc.weight'}\n"
     ]
    }
   ],
   "source": [
    "import os.path as osp\n",
    "\n",
    "from mmaction.datasets import build_dataset\n",
    "from mmaction.models import build_model\n",
    "from mmaction.apis import train_model\n",
    "import pickle\n",
    "import mmcv\n",
    "# Build the dataset\n",
    "datasets = [build_dataset(cfg.data.train)]\n",
    "\n",
    "# Build the recognizer\n",
    "model = build_model(cfg.model, train_cfg=cfg.get('train_cfg'), test_cfg=cfg.get('test_cfg'))\n",
    "\n",
    "model = pickle.load(open(f\"{cfg.work_dir}/model50e\", 'rb'))"
   ]
  },
  {
   "cell_type": "code",
   "execution_count": 4,
   "metadata": {
    "colab": {
     "base_uri": "https://localhost:8080/"
    },
    "id": "eyY3hCMwyTct",
    "outputId": "200e37c7-0da4-421f-98da-41418c3110ca",
    "tags": []
   },
   "outputs": [
    {
     "name": "stdout",
     "output_type": "stream",
     "text": [
      "[>>>>>>>>>>>>>>>>>>>>>>>>>>>>>>>>>>>>>>>] 126/126, 0.9 task/s, elapsed: 139s, ETA:     0s\n",
      "Evaluating top_k_accuracy ...\n",
      "\n",
      "top1_acc\t0.9683\n",
      "top5_acc\t1.0000\n",
      "\n",
      "Evaluating mean_class_accuracy ...\n",
      "\n",
      "mean_acc\t0.9683\n",
      "top1_acc: 0.9683\n",
      "top5_acc: 1.0000\n",
      "mean_class_accuracy: 0.9683\n"
     ]
    }
   ],
   "source": [
    "from mmaction.apis import single_gpu_test\n",
    "from mmaction.datasets import build_dataloader\n",
    "from mmcv.parallel import MMDataParallel\n",
    "from mmaction.models import build_model\n",
    "from mmaction.datasets import build_dataset\n",
    "\n",
    "# model = build_model(cfg.model, train_cfg=cfg.get('train_cfg'), test_cfg=cfg.get('test_cfg'))\n",
    "# Build a test dataloader\n",
    "dataset = build_dataset(cfg.data.test, dict(test_mode=True))\n",
    "data_loader = build_dataloader(\n",
    "        dataset,\n",
    "        videos_per_gpu=2,\n",
    "        workers_per_gpu=4,\n",
    "        dist=False,\n",
    "        shuffle=False)\n",
    "model = MMDataParallel(model, device_ids=[0])\n",
    "outputs = single_gpu_test(model, data_loader)\n",
    "\n",
    "eval_config = cfg.evaluation\n",
    "eval_config.pop('interval')\n",
    "eval_res = dataset.evaluate(outputs, **eval_config)\n",
    "for name, val in eval_res.items():\n",
    "    print(f'{name}: {val:.04f}')\n",
    "    \n",
    "output_config = cfg.output_config\n",
    "dataset.dump_results(outputs, **output_config)"
   ]
  },
  {
   "cell_type": "code",
   "execution_count": 5,
   "metadata": {
    "tags": []
   },
   "outputs": [
    {
     "data": {
      "text/plain": [
       "<AxesSubplot:>"
      ]
     },
     "execution_count": 5,
     "metadata": {},
     "output_type": "execute_result"
    },
    {
     "data": {
      "image/png": "[encoded data removed]",
      "text/plain": [
       "<Figure size 432x288 with 2 Axes>"
      ]
     },
     "metadata": {
      "needs_background": "light"
     },
     "output_type": "display_data"
    }
   ],
   "source": [
    "import seaborn as sns\n",
    "import numpy as np\n",
    "from mmaction.core import confusion_matrix \n",
    "\n",
    "gt_labels = [ann['label'] for ann in dataset.load_annotations()]\n",
    "pred = np.argmax(outputs, axis=1)\n",
    "cf_mat = confusion_matrix(pred, gt_labels).astype(float)\n",
    "\n",
    "sns.heatmap(cf_mat, annot=True, xticklabels = ['box', 'clap', 'go', 'jog', 'run', 'walk', 'wave'], yticklabels = ['box', 'clap', 'go', 'jog', 'run', 'walk', 'wave'] )"
   ]
  },
  {
   "cell_type": "code",
   "execution_count": null,
   "metadata": {},
   "outputs": [],
   "source": []
  }
 ],
 "metadata": {
  "accelerator": "GPU",
  "colab": {
   "collapsed_sections": [],
   "include_colab_link": true,
   "name": "MMAction2 Tutorial.ipynb",
   "provenance": [],
   "toc_visible": true
  },
  "kernelspec": {
   "display_name": "Python 3",
   "language": "python",
   "name": "python3"
  },
  "language_info": {
   "codemirror_mode": {
    "name": "ipython",
    "version": 3
   },
   "file_extension": ".py",
   "mimetype": "text/x-python",
   "name": "python",
   "nbconvert_exporter": "python",
   "pygments_lexer": "ipython3",
   "version": "3.6.9"
  },
  "toc-autonumbering": false,
  "toc-showmarkdowntxt": false
 },
 "nbformat": 4,
 "nbformat_minor": 4
}
