{
 "cells": [
  {
   "cell_type": "markdown",
   "id": "7e05164d-f5e3-4b27-90d6-3c8ac8333984",
   "metadata": {},
   "source": [
    "# Gender recognition from actions with CSN"
   ]
  },
  {
   "cell_type": "code",
   "execution_count": 1,
   "id": "c387a898-e2c2-4f9a-89c5-e5880b99cdb3",
   "metadata": {
    "colab": {
     "base_uri": "https://localhost:8080/"
    },
    "id": "Bf8PpPXtVvmg",
    "outputId": "2c685a33-474b-4e71-8f98-c2533c66095e",
    "tags": []
   },
   "outputs": [
    {
     "name": "stdout",
     "output_type": "stream",
     "text": [
      "nvcc: NVIDIA (R) Cuda compiler driver\n",
      "Copyright (c) 2005-2019 NVIDIA Corporation\n",
      "Built on Sun_Jul_28_19:07:16_PDT_2019\n",
      "Cuda compilation tools, release 10.1, V10.1.243\n",
      "gcc (Ubuntu 8.4.0-3ubuntu2) 8.4.0\n",
      "Copyright (C) 2018 Free Software Foundation, Inc.\n",
      "This is free software; see the source for copying conditions.  There is NO\n",
      "warranty; not even for MERCHANTABILITY or FITNESS FOR A PARTICULAR PURPOSE.\n",
      "\n"
     ]
    }
   ],
   "source": [
    "# Check nvcc version\n",
    "!nvcc -V\n",
    "# Check GCC version\n",
    "!gcc --version"
   ]
  },
  {
   "cell_type": "code",
   "execution_count": 2,
   "id": "42fcd6f9-e94e-4059-9bbd-a3c34e879624",
   "metadata": {
    "colab": {
     "base_uri": "https://localhost:8080/"
    },
    "id": "5PAJ4ArzV5Ry",
    "outputId": "e48dbf61-fae0-431c-e964-04c7caaee4bc",
    "tags": []
   },
   "outputs": [],
   "source": [
    "# Install some optional requirements\n",
    "# !pip install -r requirements/optional.txt"
   ]
  },
  {
   "cell_type": "code",
   "execution_count": 2,
   "id": "88f32778-1d0a-4df2-839d-140081efb6e4",
   "metadata": {
    "colab": {
     "base_uri": "https://localhost:8080/"
    },
    "id": "No_zZAFpWC-a",
    "outputId": "1d425eea-d44e-434a-991c-01eb15abaab2",
    "scrolled": true,
    "tags": []
   },
   "outputs": [
    {
     "name": "stdout",
     "output_type": "stream",
     "text": [
      "1.9.0 True\n",
      "0.16.0\n",
      "10.2\n",
      "GCC 7.3\n"
     ]
    }
   ],
   "source": [
    "# Check Pytorch installation\n",
    "import torch, torchvision\n",
    "print(torch.__version__, torch.cuda.is_available())\n",
    "\n",
    "# Check MMAction2 installation\n",
    "import mmaction\n",
    "print(mmaction.__version__)\n",
    "\n",
    "# Check MMCV installation\n",
    "from mmcv.ops import get_compiling_cuda_version, get_compiler_version\n",
    "print(get_compiling_cuda_version())\n",
    "print(get_compiler_version())\n",
    "\n",
    "import sys\n",
    "# sys.path.append('/home/actrec/.local/lib/python3.6/site-packages/decord-0.5.3-py3.6-linux-x86_64.egg')\n",
    "# import decord\n",
    "import pickle"
   ]
  },
  {
   "cell_type": "code",
   "execution_count": 7,
   "id": "db0a4fa5-0d5b-4420-8a9f-6309f5c90766",
   "metadata": {},
   "outputs": [
    {
     "name": "stdout",
     "output_type": "stream",
     "text": [
      "/home/robt427nv/childact\n"
     ]
    }
   ],
   "source": [
    "cd /home/robt427nv/childact/"
   ]
  },
  {
   "cell_type": "code",
   "execution_count": 8,
   "id": "71d25ae8-362a-446e-aaeb-f16769a52115",
   "metadata": {},
   "outputs": [
    {
     "data": {
      "text/plain": [
       "'/home/robt427nv/childact'"
      ]
     },
     "execution_count": 8,
     "metadata": {},
     "output_type": "execute_result"
    }
   ],
   "source": [
    "pwd"
   ]
  },
  {
   "cell_type": "code",
   "execution_count": 11,
   "id": "b1d82e38-156e-4947-be2e-8f7d448387b4",
   "metadata": {},
   "outputs": [
    {
     "name": "stdout",
     "output_type": "stream",
     "text": [
      " \u001b[0m\u001b[01;34mage-gender-3split-rgb-frames\u001b[0m/\n",
      " \u001b[01;34mage-gender-3split-vids\u001b[0m/\n",
      " \u001b[01;34mcheckpoints\u001b[0m/\n",
      " ChildAct_age_gender.csv\n",
      " \u001b[34;42mchildact_videos_nosplit\u001b[0m/\n",
      " \u001b[01;34mmmaction2\u001b[0m/\n",
      " \u001b[01;32mmy-mmaction.ipynb\u001b[0m*\n",
      "\u001b[01;32m'Split by Folders and Annotation Files creation.ipynb'\u001b[0m*\n"
     ]
    }
   ],
   "source": [
    "ls"
   ]
  },
  {
   "cell_type": "markdown",
   "id": "09af24c9-89bf-4e69-88e0-334d26735a45",
   "metadata": {
    "heading_collapsed": "true",
    "tags": []
   },
   "source": [
    "# CSN gender "
   ]
  },
  {
   "cell_type": "code",
   "execution_count": 10,
   "id": "027528db-246f-417a-b543-9281b0ce7f16",
   "metadata": {
    "colab": {
     "base_uri": "https://localhost:8080/"
    },
    "id": "64CW6d_AaT-Q",
    "outputId": "3b284fd8-4ee7-4a34-90d7-5023cd123a04",
    "tags": []
   },
   "outputs": [
    {
     "name": "stdout",
     "output_type": "stream",
     "text": [
      "--2021-07-21 17:39:20--  https://download.openmmlab.com/mmaction/recognition/csn/ircsn_ig65m_pretrained_bnfrozen_r152_32x2x1_58e_kinetics400_rgb/ircsn_ig65m_pretrained_bnfrozen_r152_32x2x1_58e_kinetics400_rgb_20200812-9037a758.pth\n",
      "Resolving download.openmmlab.com (download.openmmlab.com)... 47.75.20.25\n",
      "Connecting to download.openmmlab.com (download.openmmlab.com)|47.75.20.25|:443... connected.\n",
      "HTTP request sent, awaiting response... 200 OK\n",
      "Length: 119580180 (114M) [application/octet-stream]\n",
      "Saving to: ‘checkpoints/ircsn_ig65m_pretrained_bnfrozen_r152_32x2x1_58e_kinetics400_rgb_20200812-9037a758.pth’\n",
      "\n",
      "checkpoints/ircsn_i 100%[===================>] 114,04M  6,78MB/s    in 17s     \n",
      "\n",
      "2021-07-21 17:39:39 (6,87 MB/s) - ‘checkpoints/ircsn_ig65m_pretrained_bnfrozen_r152_32x2x1_58e_kinetics400_rgb_20200812-9037a758.pth’ saved [119580180/119580180]\n",
      "\n"
     ]
    }
   ],
   "source": [
    "!mkdir checkpoints\n",
    "!wget -c https://download.openmmlab.com/mmaction/recognition/csn/ircsn_ig65m_pretrained_bnfrozen_r152_32x2x1_58e_kinetics400_rgb/ircsn_ig65m_pretrained_bnfrozen_r152_32x2x1_58e_kinetics400_rgb_20200812-9037a758.pth \\\n",
    "      -O checkpoints/ircsn_ig65m_pretrained_bnfrozen_r152_32x2x1_58e_kinetics400_rgb_20200812-9037a758.pth"
   ]
  },
  {
   "cell_type": "code",
   "execution_count": 8,
   "id": "91b025c7-4c84-456b-864a-6613a3cd53f1",
   "metadata": {
    "id": "LjCcmCKOjktc",
    "tags": []
   },
   "outputs": [],
   "source": [
    "from mmcv import Config\n",
    "cfg = Config.fromfile('mmaction2/configs/recognition/csn/ircsn_ig65m_pretrained_bnfrozen_r152_32x2x1_58e_kinetics400_rgb.py ')"
   ]
  },
  {
   "cell_type": "code",
   "execution_count": 9,
   "id": "55c42484-9547-4010-8dd9-d848414e3ad5",
   "metadata": {
    "colab": {
     "base_uri": "https://localhost:8080/"
    },
    "collapsed": true,
    "id": "tlhu9byjjt-K",
    "jupyter": {
     "outputs_hidden": true
    },
    "outputId": "13d1bb01-f351-48c0-9efb-0bdf2c125d29",
    "tags": []
   },
   "outputs": [
    {
     "name": "stdout",
     "output_type": "stream",
     "text": [
      "Config:\n",
      "model = dict(\n",
      "    type='Recognizer3D',\n",
      "    backbone=dict(\n",
      "        type='ResNet3dCSN',\n",
      "        pretrained2d=False,\n",
      "        pretrained=\n",
      "        'https://download.openmmlab.com/mmaction/recognition/csn/ircsn_from_scratch_r152_ig65m_20200807-771c4135.pth',\n",
      "        depth=152,\n",
      "        with_pool2=False,\n",
      "        bottleneck_mode='ir',\n",
      "        norm_eval=False,\n",
      "        zero_init_residual=False,\n",
      "        in_channels=2),\n",
      "    cls_head=dict(\n",
      "        type='I3DHead',\n",
      "        num_classes=7,\n",
      "        in_channels=2048,\n",
      "        spatial_type='avg',\n",
      "        dropout_ratio=0.5,\n",
      "        init_std=0.01),\n",
      "    train_cfg=None,\n",
      "    test_cfg=dict(average_clips='prob'))\n",
      "dataset_type = 'RawframeDataset'\n",
      "data_root = 'data/childact_rawframe/train/'\n",
      "data_root_val = 'data/childact_rawframe/val/'\n",
      "ann_file_train = 'data/childact_rawframe/childact_train_rawframe.txt'\n",
      "ann_file_val = 'data/childact_rawframe/childact_val_rawframe.txt'\n",
      "ann_file_test = 'data/childact_rawframe/childact_test_rawframe.txt'\n",
      "img_norm_cfg = dict(mean=[128, 128], std=[128, 128])\n",
      "train_pipeline = [\n",
      "    dict(type='SampleFrames', clip_len=32, frame_interval=2, num_clips=1),\n",
      "    dict(type='RawFrameDecode'),\n",
      "    dict(type='Resize', scale=(-1, 256)),\n",
      "    dict(type='RandomResizedCrop'),\n",
      "    dict(type='Resize', scale=(224, 224), keep_ratio=False),\n",
      "    dict(type='Normalize', mean=[128, 128], std=[128, 128]),\n",
      "    dict(type='FormatShape', input_format='NCTHW'),\n",
      "    dict(type='Collect', keys=['imgs', 'label'], meta_keys=[]),\n",
      "    dict(type='ToTensor', keys=['imgs', 'label'])\n",
      "]\n",
      "val_pipeline = [\n",
      "    dict(\n",
      "        type='SampleFrames',\n",
      "        clip_len=32,\n",
      "        frame_interval=2,\n",
      "        num_clips=1,\n",
      "        test_mode=True),\n",
      "    dict(type='RawFrameDecode'),\n",
      "    dict(type='Resize', scale=(-1, 256)),\n",
      "    dict(type='CenterCrop', crop_size=224),\n",
      "    dict(type='Normalize', mean=[128, 128], std=[128, 128]),\n",
      "    dict(type='FormatShape', input_format='NCTHW'),\n",
      "    dict(type='Collect', keys=['imgs', 'label'], meta_keys=[]),\n",
      "    dict(type='ToTensor', keys=['imgs'])\n",
      "]\n",
      "test_pipeline = [\n",
      "    dict(\n",
      "        type='SampleFrames',\n",
      "        clip_len=32,\n",
      "        frame_interval=2,\n",
      "        num_clips=10,\n",
      "        test_mode=True),\n",
      "    dict(type='RawFrameDecode'),\n",
      "    dict(type='Resize', scale=(-1, 256)),\n",
      "    dict(type='CenterCrop', crop_size=224),\n",
      "    dict(type='Normalize', mean=[128, 128], std=[128, 128]),\n",
      "    dict(type='FormatShape', input_format='NCTHW'),\n",
      "    dict(type='Collect', keys=['imgs', 'label'], meta_keys=[]),\n",
      "    dict(type='ToTensor', keys=['imgs'])\n",
      "]\n",
      "data = dict(\n",
      "    videos_per_gpu=8,\n",
      "    workers_per_gpu=4,\n",
      "    train=dict(\n",
      "        type='RawframeDataset',\n",
      "        ann_file='data/childact_rawframe/childact_train_rawframe.txt',\n",
      "        data_prefix='data/childact_rawframe/train/',\n",
      "        pipeline=[\n",
      "            dict(\n",
      "                type='SampleFrames',\n",
      "                clip_len=32,\n",
      "                frame_interval=2,\n",
      "                num_clips=1),\n",
      "            dict(type='RawFrameDecode'),\n",
      "            dict(type='Resize', scale=(-1, 256)),\n",
      "            dict(type='RandomResizedCrop'),\n",
      "            dict(type='Resize', scale=(224, 224), keep_ratio=False),\n",
      "            dict(type='Normalize', mean=[128, 128], std=[128, 128]),\n",
      "            dict(type='FormatShape', input_format='NCTHW'),\n",
      "            dict(type='Collect', keys=['imgs', 'label'], meta_keys=[]),\n",
      "            dict(type='ToTensor', keys=['imgs', 'label'])\n",
      "        ],\n",
      "        modality='Flow',\n",
      "        start_index=0,\n",
      "        filename_tmpl='flow_{}_{:05d}.jpg'),\n",
      "    val=dict(\n",
      "        type='RawframeDataset',\n",
      "        ann_file='data/childact_rawframe/childact_val_rawframe.txt',\n",
      "        data_prefix='data/childact_rawframe/val/',\n",
      "        pipeline=[\n",
      "            dict(\n",
      "                type='SampleFrames',\n",
      "                clip_len=32,\n",
      "                frame_interval=2,\n",
      "                num_clips=1,\n",
      "                test_mode=True),\n",
      "            dict(type='RawFrameDecode'),\n",
      "            dict(type='Resize', scale=(-1, 256)),\n",
      "            dict(type='CenterCrop', crop_size=224),\n",
      "            dict(type='Normalize', mean=[128, 128], std=[128, 128]),\n",
      "            dict(type='FormatShape', input_format='NCTHW'),\n",
      "            dict(type='Collect', keys=['imgs', 'label'], meta_keys=[]),\n",
      "            dict(type='ToTensor', keys=['imgs'])\n",
      "        ],\n",
      "        modality='Flow',\n",
      "        start_index=0,\n",
      "        filename_tmpl='flow_{}_{:05d}.jpg'),\n",
      "    test=dict(\n",
      "        type='RawframeDataset',\n",
      "        ann_file='data/childact_rawframe/childact_test_rawframe.txt',\n",
      "        data_prefix='data/childact_rawframe/test/',\n",
      "        pipeline=[\n",
      "            dict(\n",
      "                type='SampleFrames',\n",
      "                clip_len=32,\n",
      "                frame_interval=2,\n",
      "                num_clips=10,\n",
      "                test_mode=True),\n",
      "            dict(type='RawFrameDecode'),\n",
      "            dict(type='Resize', scale=(-1, 256)),\n",
      "            dict(type='CenterCrop', crop_size=224),\n",
      "            dict(type='Normalize', mean=[128, 128], std=[128, 128]),\n",
      "            dict(type='FormatShape', input_format='NCTHW'),\n",
      "            dict(type='Collect', keys=['imgs', 'label'], meta_keys=[]),\n",
      "            dict(type='ToTensor', keys=['imgs'])\n",
      "        ],\n",
      "        modality='Flow',\n",
      "        start_index=0,\n",
      "        filename_tmpl='flow_{}_{:05d}.jpg'))\n",
      "optimizer = dict(type='SGD', lr=0.000125, momentum=0.9, weight_decay=0.0001)\n",
      "optimizer_config = dict(grad_clip=dict(max_norm=40, norm_type=2))\n",
      "lr_config = dict(\n",
      "    policy='step',\n",
      "    step=[32, 48],\n",
      "    warmup='linear',\n",
      "    warmup_ratio=0.1,\n",
      "    warmup_by_epoch=True,\n",
      "    warmup_iters=16)\n",
      "total_epochs = 100\n",
      "checkpoint_config = dict(interval=20)\n",
      "evaluation = dict(\n",
      "    interval=5, metrics=['top_k_accuracy', 'mean_class_accuracy'])\n",
      "log_config = dict(\n",
      "    interval=100,\n",
      "    hooks=[dict(type='TextLoggerHook'),\n",
      "           dict(type='TensorboardLoggerHook')])\n",
      "dist_params = dict(backend='nccl')\n",
      "log_level = 'INFO'\n",
      "work_dir = './childact-checkpoints/CSN-no-transfer'\n",
      "load_from = None\n",
      "resume_from = None\n",
      "workflow = [('train', 1)]\n",
      "omnisource = False\n",
      "seed = 42\n",
      "gpu_ids = range(0, 1)\n",
      "output_config = dict(out='./childact-checkpoints/CSN-no-transfer/results.json')\n",
      "\n"
     ]
    }
   ],
   "source": [
    "from mmcv.runner import set_random_seed\n",
    "\n",
    "# Modify dataset type and path\n",
    "# cfg.dataset_type = 'VideoDataset'\n",
    "cfg.data_root = 'age-gender-3split-rgb-frames/'\n",
    "cfg.data_root_val = 'age-gender-3split-rgb-frames/val/'\n",
    "cfg.ann_file_train = 'age-gender-3split-rgb-frames/childact_train_rgb320_gender.txt'\n",
    "cfg.ann_file_val = 'age-gender-3split-rgb-frames/childact_val_rgb320_gender.txt'\n",
    "cfg.ann_file_test = 'age-gender-3split-rgb-frames/childact_test_rgb320_gender.txt'\n",
    "\n",
    "# # cfg.data.test.type = 'VideoDataset'\n",
    "# cfg.data.test.ann_file = 'age-gender-3split-rgb-frames/childact_test_rgb320_gender.txt'\n",
    "# cfg.data.test.data_prefix = 'age-gender-3split-rgb-frames/test/'\n",
    "\n",
    "# # cfg.data.train.type = 'VideoDataset'\n",
    "# cfg.data.train.ann_file = 'data/childact_rawframe/childact_train_rawframe.txt'\n",
    "# cfg.data.train.data_prefix = 'age-gender-3split-rgb-frames/train/'\n",
    "\n",
    "# # cfg.data.val.type = 'VideoDataset'\n",
    "# cfg.data.val.ann_file = 'data/childact_rawframe/childact_val_rawframe.txt'\n",
    "# cfg.data.val.data_prefix = 'age-gender-3split-rgb-frames/val/'\n",
    "\n",
    "# cfg.data.test.modality = 'Flow'\n",
    "# cfg.data.val.modality = 'Flow'\n",
    "# cfg.data.train.modality = 'Flow'\n",
    "\n",
    "# cfg.data.train.start_index = 0\n",
    "# cfg.data.test.start_index = 0\n",
    "# cfg.data.val.start_index = 0\n",
    "\n",
    "# cfg.data.test.filename_tmpl = 'flow_{}_{:05d}.jpg'\n",
    "# cfg.data.train.filename_tmpl = 'flow_{}_{:05d}.jpg'\n",
    "# cfg.data.val.filename_tmpl = 'flow_{}_{:05d}.jpg'\n",
    "# The flag is used to determine whether it is omnisource training\n",
    "cfg.setdefault('omnisource', False)\n",
    "# Modify num classes of the model in cls_head\n",
    "cfg.model.cls_head.num_classes = 2\n",
    "# We can use the pre-trained TSN model\n",
    "cfg.load_from = 'checkpoints/ircsn_ig65m_pretrained_bnfrozen_r152_32x2x1_58e_kinetics400_rgb_20200812-9037a758.pth'\n",
    "# cfg.resume_from = './childact-mm/latest.pth'\n",
    "\n",
    "# Set up working dir to save files and logs.\n",
    "cfg.work_dir = './childact-checkpoints/CSN-no-transfer'\n",
    "\n",
    "cfg.img_norm_cfg = dict(mean=[128, 128], std=[128, 128])\n",
    "\n",
    "\n",
    "cfg.val_pipeline = [\n",
    "    dict(\n",
    "        type='SampleFrames',\n",
    "        clip_len=32,\n",
    "        frame_interval=2,\n",
    "        num_clips=1,\n",
    "        test_mode=True),\n",
    "    dict(type='RawFrameDecode'),\n",
    "    dict(type='Resize', scale=(-1, 256)),\n",
    "    dict(type='CenterCrop', crop_size=224),\n",
    "#     dict(type='Resize', scale=(224, 224), keep_ratio=False),\n",
    "#     dict(type='Flip', flip_ratio=0.5)\n",
    "    dict(type='Normalize', mean=[128, 128], std=[128, 128]),\n",
    "    dict(type='FormatShape', input_format='NCTHW'),\n",
    "    dict(type='Collect', keys=['imgs', 'label'], meta_keys=[]),\n",
    "    dict(type='ToTensor', keys=['imgs'])\n",
    "]\n",
    "cfg.test_pipeline = [\n",
    "    dict(type='SampleFrames', clip_len=32, frame_interval=2, num_clips=10, test_mode=True),\n",
    "    dict(type='RawFrameDecode'),\n",
    "    dict(type='Resize', scale=(-1, 256)),\n",
    "    dict(type='CenterCrop', crop_size=224),\n",
    "    dict(type='Normalize', mean=[128, 128], std=[128, 128]),\n",
    "    dict(type='FormatShape', input_format='NCTHW'),\n",
    "    dict(type='Collect', keys=['imgs', 'label'], meta_keys=[]),\n",
    "    dict(type='ToTensor', keys=['imgs'])\n",
    "]\n",
    "\n",
    "\n",
    "\n",
    "cfg.train_pipeline = [\n",
    "    dict(type='SampleFrames', clip_len=32, frame_interval=2, num_clips=1),\n",
    "    dict(type='RawFrameDecode'),\n",
    "    dict(type='Resize', scale=(-1, 256)),\n",
    "#     dict(type='RandomCrop', size=224),\n",
    "    dict(type='RandomResizedCrop'),\n",
    "    dict(type='Resize', scale=(224, 224), keep_ratio=False),\n",
    "#     dict(type='Flip', flip_ratio=0.5),\n",
    "    dict(type='Normalize', mean=[128, 128], std=[128, 128]),\n",
    "    dict(type='FormatShape', input_format='NCTHW'),\n",
    "    dict(type='Collect', keys=['imgs', 'label'], meta_keys=[]),\n",
    "    dict(type='ToTensor', keys=['imgs', 'label'])\n",
    "]\n",
    "\n",
    "cfg.data.train.pipeline = cfg.train_pipeline\n",
    "cfg.data.val.pipeline = cfg.val_pipeline\n",
    "cfg.data.test.pipeline = cfg.test_pipeline\n",
    "# The original learning rate (LR) is set for 8-GPU training.\n",
    "# We divide it by 8 since we only use one GPU.\n",
    "# cfg.data.videos_per_gpu = 24\n",
    "# cfg.optimizer.type = 'Adam'\n",
    "# cfg.optimizer.weight_decay=0.0001\n",
    "\n",
    "# cfg.optimizer_config.grad_clip=None\n",
    "# cfg.optimizer.lr = 0.01\n",
    "\n",
    "# cfg.lr_config = dict(\n",
    "#     policy='cyclic',\n",
    "#     target_ratio=(10, 1e-5),\n",
    "#     cyclic_times=1,\n",
    "#     step_ratio_up=0.4,\n",
    "# )\n",
    "\n",
    "cfg.total_epochs = 100\n",
    "\n",
    "# cfg.momentum_config = dict(\n",
    "#     policy='cyclic',\n",
    "#     target_ratio=(0.85 / 0.95, 1),\n",
    "#     cyclic_times=1,\n",
    "#     step_ratio_up=0.4,\n",
    "# )\n",
    "\n",
    "# We can set the checkpoint saving interval to reduce the storage cost\n",
    "cfg.checkpoint_config.interval = 20\n",
    "# We can set the log print interval to reduce the the times of printing log\n",
    "cfg.log_config.interval = 100\n",
    "\n",
    "# Set seed thus the results are more reproducible\n",
    "cfg.seed = 42\n",
    "set_random_seed(42, deterministic=False)\n",
    "cfg.gpu_ids = range(1)\n",
    "\n",
    "cfg.data.videos_per_gpu=8\n",
    "\n",
    "cfg.model.backbone.in_channels = 2\n",
    "\n",
    "cfg.output_config = dict(out=f'{cfg.work_dir}/results.json')\n",
    "# We can initialize the logger for training and have a look\n",
    "# at the final config used for training\n",
    "# del cfg.optimizer['momentum']\n",
    "print(f'Config:\\n{cfg.pretty_text}')"
   ]
  },
  {
   "cell_type": "code",
   "execution_count": 10,
   "id": "736e5d8f-b95c-4bf9-aa96-7067e715b27e",
   "metadata": {
    "colab": {
     "base_uri": "https://localhost:8080/"
    },
    "collapsed": true,
    "id": "dDBWkdDRk6oz",
    "jupyter": {
     "outputs_hidden": true
    },
    "outputId": "85a52ef3-7b5c-4c52-8fef-00322a8c65e6",
    "tags": []
   },
   "outputs": [
    {
     "name": "stderr",
     "output_type": "stream",
     "text": [
      "2021-05-08 08:07:16,744 - mmaction - INFO - load model from: https://download.openmmlab.com/mmaction/recognition/csn/ircsn_from_scratch_r152_ig65m_20200807-771c4135.pth\n",
      "2021-05-08 08:07:16,745 - mmaction - INFO - Use load_from_http loader\n",
      "2021-05-08 08:07:16,897 - mmaction - WARNING - The model and loaded state dict do not match exactly\n",
      "\n",
      "size mismatch for conv1.conv.weight: copying a param with shape torch.Size([64, 3, 3, 7, 7]) from checkpoint, the shape in current model is torch.Size([64, 2, 3, 7, 7]).\n",
      "2021-05-08 08:07:16,976 - mmaction - INFO - Start running, host: actrec@actrec-HP-Z4-G4-Workstation, work_dir: /media/actrec/DATA/.virtualenvs/mmaction/mmaction2/childact-checkpoints/CSN-no-transfer\n",
      "2021-05-08 08:07:16,977 - mmaction - INFO - workflow: [('train', 1)], max: 100 epochs\n",
      "2021-05-08 08:10:37,386 - mmaction - INFO - Epoch [1][100/132]\tlr: 1.777e-05, eta: 7:17:32, time: 2.004, data_time: 0.030, memory: 21787, top1_acc: 0.1562, top5_acc: 0.7050, loss_cls: 1.9500, loss: 1.9500, grad_norm: 7.9264\n",
      "2021-05-08 08:15:03,351 - mmaction - INFO - Epoch [2][100/132]\tlr: 2.480e-05, eta: 6:16:31, time: 2.038, data_time: 0.032, memory: 21787, top1_acc: 0.1675, top5_acc: 0.7400, loss_cls: 1.9350, loss: 1.9350, grad_norm: 8.4017\n",
      "2021-05-08 08:19:27,189 - mmaction - INFO - Epoch [3][100/132]\tlr: 3.184e-05, eta: 5:56:11, time: 2.019, data_time: 0.037, memory: 21787, top1_acc: 0.2437, top5_acc: 0.8187, loss_cls: 1.8812, loss: 1.8812, grad_norm: 9.9008\n",
      "2021-05-08 08:23:53,729 - mmaction - INFO - Epoch [4][100/132]\tlr: 3.887e-05, eta: 5:45:13, time: 2.027, data_time: 0.030, memory: 21787, top1_acc: 0.3425, top5_acc: 0.8812, loss_cls: 1.7964, loss: 1.7964, grad_norm: 11.4856\n",
      "2021-05-08 08:28:19,239 - mmaction - INFO - Epoch [5][100/132]\tlr: 4.590e-05, eta: 5:37:08, time: 2.017, data_time: 0.036, memory: 21787, top1_acc: 0.4500, top5_acc: 0.9387, loss_cls: 1.6297, loss: 1.6297, grad_norm: 12.2586\n"
     ]
    },
    {
     "name": "stdout",
     "output_type": "stream",
     "text": [
      "[>>>>>>>>>>>>>>>>>>>>>>>>>>>>>>] 126/126, 15.2 task/s, elapsed: 8s, ETA:     0s"
     ]
    },
    {
     "name": "stderr",
     "output_type": "stream",
     "text": [
      "2021-05-08 08:29:30,214 - mmaction - INFO - Evaluating top_k_accuracy ...\n",
      "2021-05-08 08:29:30,215 - mmaction - INFO - \n",
      "top1_acc\t0.7063\n",
      "top5_acc\t1.0000\n",
      "2021-05-08 08:29:30,216 - mmaction - INFO - Evaluating mean_class_accuracy ...\n",
      "2021-05-08 08:29:30,218 - mmaction - INFO - \n",
      "mean_acc\t0.7063\n",
      "2021-05-08 08:29:32,233 - mmaction - INFO - Now best checkpoint is saved as best_top1_acc_epoch_5.pth.\n",
      "2021-05-08 08:29:32,235 - mmaction - INFO - Best top1_acc is 0.7063 at 5 epoch.\n",
      "2021-05-08 08:29:32,236 - mmaction - INFO - Epoch(val) [5][132]\ttop1_acc: 0.7063, top5_acc: 1.0000, mean_class_accuracy: 0.7063\n",
      "2021-05-08 08:32:57,711 - mmaction - INFO - Epoch [6][100/132]\tlr: 5.293e-05, eta: 5:31:42, time: 2.055, data_time: 0.037, memory: 21787, top1_acc: 0.5613, top5_acc: 0.9525, loss_cls: 1.4477, loss: 1.4477, grad_norm: 13.0017\n",
      "2021-05-08 08:37:21,040 - mmaction - INFO - Epoch [7][100/132]\tlr: 5.996e-05, eta: 5:25:42, time: 2.004, data_time: 0.030, memory: 21787, top1_acc: 0.6075, top5_acc: 0.9587, loss_cls: 1.2658, loss: 1.2658, grad_norm: 14.3625\n",
      "2021-05-08 08:41:44,595 - mmaction - INFO - Epoch [8][100/132]\tlr: 6.699e-05, eta: 5:20:36, time: 2.015, data_time: 0.031, memory: 21787, top1_acc: 0.6225, top5_acc: 0.9525, loss_cls: 1.1236, loss: 1.1236, grad_norm: 16.0786\n",
      "2021-05-08 08:46:07,061 - mmaction - INFO - Epoch [9][100/132]\tlr: 7.402e-05, eta: 5:15:41, time: 2.003, data_time: 0.030, memory: 21787, top1_acc: 0.6525, top5_acc: 0.9587, loss_cls: 1.0052, loss: 1.0052, grad_norm: 18.0323\n",
      "2021-05-08 08:50:28,818 - mmaction - INFO - Epoch [10][100/132]\tlr: 8.105e-05, eta: 5:11:02, time: 1.999, data_time: 0.031, memory: 21787, top1_acc: 0.6887, top5_acc: 0.9575, loss_cls: 0.9300, loss: 0.9300, grad_norm: 17.9128\n"
     ]
    },
    {
     "name": "stdout",
     "output_type": "stream",
     "text": [
      "[>>>>>>>>>>>>>>>>>>>>>>>>>>>>>>] 126/126, 17.8 task/s, elapsed: 7s, ETA:     0s"
     ]
    },
    {
     "name": "stderr",
     "output_type": "stream",
     "text": [
      "2021-05-08 08:51:38,717 - mmaction - INFO - Evaluating top_k_accuracy ...\n",
      "2021-05-08 08:51:38,718 - mmaction - INFO - \n",
      "top1_acc\t0.8095\n",
      "top5_acc\t0.9841\n",
      "2021-05-08 08:51:38,719 - mmaction - INFO - Evaluating mean_class_accuracy ...\n",
      "2021-05-08 08:51:38,719 - mmaction - INFO - \n",
      "mean_acc\t0.8095\n",
      "2021-05-08 08:51:40,646 - mmaction - INFO - Now best checkpoint is saved as best_top1_acc_epoch_10.pth.\n",
      "2021-05-08 08:51:40,647 - mmaction - INFO - Best top1_acc is 0.8095 at 10 epoch.\n",
      "2021-05-08 08:51:40,648 - mmaction - INFO - Epoch(val) [10][132]\ttop1_acc: 0.8095, top5_acc: 0.9841, mean_class_accuracy: 0.8095\n",
      "2021-05-08 08:55:06,553 - mmaction - INFO - Epoch [11][100/132]\tlr: 8.809e-05, eta: 5:07:28, time: 2.059, data_time: 0.041, memory: 21787, top1_acc: 0.7050, top5_acc: 0.9675, loss_cls: 0.8715, loss: 0.8715, grad_norm: 18.8563\n",
      "2021-05-08 08:59:30,429 - mmaction - INFO - Epoch [12][100/132]\tlr: 9.512e-05, eta: 5:03:20, time: 2.012, data_time: 0.032, memory: 21787, top1_acc: 0.6825, top5_acc: 0.9675, loss_cls: 0.8789, loss: 0.8789, grad_norm: 20.3215\n",
      "2021-05-08 09:03:54,791 - mmaction - INFO - Epoch [13][100/132]\tlr: 1.021e-04, eta: 4:59:20, time: 2.013, data_time: 0.032, memory: 21787, top1_acc: 0.6875, top5_acc: 0.9587, loss_cls: 0.8572, loss: 0.8572, grad_norm: 18.7717\n",
      "2021-05-08 09:08:17,949 - mmaction - INFO - Epoch [14][100/132]\tlr: 1.092e-04, eta: 4:55:20, time: 2.004, data_time: 0.030, memory: 21787, top1_acc: 0.7150, top5_acc: 0.9650, loss_cls: 0.8144, loss: 0.8144, grad_norm: 19.3279\n",
      "2021-05-08 09:12:39,526 - mmaction - INFO - Epoch [15][100/132]\tlr: 1.162e-04, eta: 4:51:15, time: 1.987, data_time: 0.031, memory: 21787, top1_acc: 0.7037, top5_acc: 0.9725, loss_cls: 0.7702, loss: 0.7702, grad_norm: 20.9530\n"
     ]
    },
    {
     "name": "stdout",
     "output_type": "stream",
     "text": [
      "[>>>>>>>>>>>>>>>>>>>>>>>>>>>>>>] 126/126, 17.7 task/s, elapsed: 7s, ETA:     0s"
     ]
    },
    {
     "name": "stderr",
     "output_type": "stream",
     "text": [
      "2021-05-08 09:13:48,515 - mmaction - INFO - Evaluating top_k_accuracy ...\n",
      "2021-05-08 09:13:48,517 - mmaction - INFO - \n",
      "top1_acc\t0.8413\n",
      "top5_acc\t0.9921\n",
      "2021-05-08 09:13:48,518 - mmaction - INFO - Evaluating mean_class_accuracy ...\n",
      "2021-05-08 09:13:48,519 - mmaction - INFO - \n",
      "mean_acc\t0.8413\n",
      "2021-05-08 09:13:50,626 - mmaction - INFO - Now best checkpoint is saved as best_top1_acc_epoch_15.pth.\n",
      "2021-05-08 09:13:50,627 - mmaction - INFO - Best top1_acc is 0.8413 at 15 epoch.\n",
      "2021-05-08 09:13:50,628 - mmaction - INFO - Epoch(val) [15][132]\ttop1_acc: 0.8413, top5_acc: 0.9921, mean_class_accuracy: 0.8413\n",
      "2021-05-08 09:17:16,281 - mmaction - INFO - Epoch [16][100/132]\tlr: 1.232e-04, eta: 4:47:53, time: 2.056, data_time: 0.042, memory: 21787, top1_acc: 0.7137, top5_acc: 0.9663, loss_cls: 0.7664, loss: 0.7664, grad_norm: 19.2321\n",
      "2021-05-08 09:21:38,477 - mmaction - INFO - Epoch [17][100/132]\tlr: 1.250e-04, eta: 4:44:04, time: 2.002, data_time: 0.031, memory: 21787, top1_acc: 0.7175, top5_acc: 0.9712, loss_cls: 0.7523, loss: 0.7523, grad_norm: 22.3502\n",
      "2021-05-08 09:25:59,027 - mmaction - INFO - Epoch [18][100/132]\tlr: 1.250e-04, eta: 4:40:12, time: 1.987, data_time: 0.030, memory: 21787, top1_acc: 0.7312, top5_acc: 0.9738, loss_cls: 0.6983, loss: 0.6983, grad_norm: 19.0211\n",
      "2021-05-08 09:30:19,721 - mmaction - INFO - Epoch [19][100/132]\tlr: 1.250e-04, eta: 4:36:23, time: 1.988, data_time: 0.031, memory: 21787, top1_acc: 0.7338, top5_acc: 0.9700, loss_cls: 0.7172, loss: 0.7172, grad_norm: 21.8828\n",
      "2021-05-08 09:34:40,365 - mmaction - INFO - Epoch [20][100/132]\tlr: 1.250e-04, eta: 4:32:37, time: 1.989, data_time: 0.032, memory: 21787, top1_acc: 0.7300, top5_acc: 0.9712, loss_cls: 0.7239, loss: 0.7239, grad_norm: 20.6210\n",
      "2021-05-08 09:35:42,182 - mmaction - INFO - Saving checkpoint at 20 epochs\n"
     ]
    },
    {
     "name": "stdout",
     "output_type": "stream",
     "text": [
      "[>>>>>>>>>>>>>>>>>>>>>>>>>>>>>>] 126/126, 6.8 task/s, elapsed: 19s, ETA:     0s"
     ]
    },
    {
     "name": "stderr",
     "output_type": "stream",
     "text": [
      "2021-05-08 09:36:03,103 - mmaction - INFO - Evaluating top_k_accuracy ...\n",
      "2021-05-08 09:36:03,105 - mmaction - INFO - \n",
      "top1_acc\t0.8889\n",
      "top5_acc\t0.9921\n",
      "2021-05-08 09:36:03,106 - mmaction - INFO - Evaluating mean_class_accuracy ...\n",
      "2021-05-08 09:36:03,107 - mmaction - INFO - \n",
      "mean_acc\t0.8889\n",
      "2021-05-08 09:36:05,308 - mmaction - INFO - Now best checkpoint is saved as best_top1_acc_epoch_20.pth.\n",
      "2021-05-08 09:36:05,309 - mmaction - INFO - Best top1_acc is 0.8889 at 20 epoch.\n",
      "2021-05-08 09:36:05,309 - mmaction - INFO - Epoch(val) [20][132]\ttop1_acc: 0.8889, top5_acc: 0.9921, mean_class_accuracy: 0.8889\n",
      "2021-05-08 09:39:33,771 - mmaction - INFO - Epoch [21][100/132]\tlr: 1.250e-04, eta: 4:29:31, time: 2.085, data_time: 0.034, memory: 21787, top1_acc: 0.7388, top5_acc: 0.9700, loss_cls: 0.7396, loss: 0.7396, grad_norm: 21.6458\n",
      "2021-05-08 09:44:00,076 - mmaction - INFO - Epoch [22][100/132]\tlr: 1.250e-04, eta: 4:26:08, time: 2.044, data_time: 0.035, memory: 21787, top1_acc: 0.7288, top5_acc: 0.9788, loss_cls: 0.6995, loss: 0.6995, grad_norm: 20.2555\n",
      "2021-05-08 09:48:22,575 - mmaction - INFO - Epoch [23][100/132]\tlr: 1.250e-04, eta: 4:22:32, time: 2.006, data_time: 0.033, memory: 21787, top1_acc: 0.7388, top5_acc: 0.9850, loss_cls: 0.6696, loss: 0.6696, grad_norm: 18.7628\n",
      "2021-05-08 09:52:47,320 - mmaction - INFO - Epoch [24][100/132]\tlr: 1.250e-04, eta: 4:18:58, time: 2.006, data_time: 0.030, memory: 21787, top1_acc: 0.7512, top5_acc: 0.9800, loss_cls: 0.7009, loss: 0.7009, grad_norm: 20.9417\n",
      "2021-05-08 09:57:10,766 - mmaction - INFO - Epoch [25][100/132]\tlr: 1.250e-04, eta: 4:15:27, time: 2.016, data_time: 0.031, memory: 21787, top1_acc: 0.7212, top5_acc: 0.9750, loss_cls: 0.7466, loss: 0.7466, grad_norm: 21.4970\n"
     ]
    },
    {
     "name": "stdout",
     "output_type": "stream",
     "text": [
      "[>>>>>>>>>>>>>>>>>>>>>>>>>>>>>>] 126/126, 17.4 task/s, elapsed: 7s, ETA:     0s"
     ]
    },
    {
     "name": "stderr",
     "output_type": "stream",
     "text": [
      "2021-05-08 09:58:20,406 - mmaction - INFO - Evaluating top_k_accuracy ...\n",
      "2021-05-08 09:58:20,407 - mmaction - INFO - \n",
      "top1_acc\t0.9127\n",
      "top5_acc\t0.9921\n",
      "2021-05-08 09:58:20,408 - mmaction - INFO - Evaluating mean_class_accuracy ...\n",
      "2021-05-08 09:58:20,408 - mmaction - INFO - \n",
      "mean_acc\t0.9127\n",
      "2021-05-08 09:58:22,588 - mmaction - INFO - Now best checkpoint is saved as best_top1_acc_epoch_25.pth.\n",
      "2021-05-08 09:58:22,590 - mmaction - INFO - Best top1_acc is 0.9127 at 25 epoch.\n",
      "2021-05-08 09:58:22,591 - mmaction - INFO - Epoch(val) [25][132]\ttop1_acc: 0.9127, top5_acc: 0.9921, mean_class_accuracy: 0.9127\n",
      "2021-05-08 10:01:46,704 - mmaction - INFO - Epoch [26][100/132]\tlr: 1.250e-04, eta: 4:12:05, time: 2.041, data_time: 0.031, memory: 21787, top1_acc: 0.7325, top5_acc: 0.9875, loss_cls: 0.6694, loss: 0.6694, grad_norm: 20.3484\n",
      "2021-05-08 10:06:08,021 - mmaction - INFO - Epoch [27][100/132]\tlr: 1.250e-04, eta: 4:08:28, time: 1.990, data_time: 0.032, memory: 21787, top1_acc: 0.7675, top5_acc: 0.9888, loss_cls: 0.5787, loss: 0.5787, grad_norm: 18.7692\n",
      "2021-05-08 10:10:30,162 - mmaction - INFO - Epoch [28][100/132]\tlr: 1.250e-04, eta: 4:04:56, time: 2.002, data_time: 0.031, memory: 21787, top1_acc: 0.7525, top5_acc: 0.9788, loss_cls: 0.6537, loss: 0.6537, grad_norm: 19.2181\n",
      "2021-05-08 10:14:51,453 - mmaction - INFO - Epoch [29][100/132]\tlr: 1.250e-04, eta: 4:01:21, time: 1.988, data_time: 0.031, memory: 21787, top1_acc: 0.7500, top5_acc: 0.9750, loss_cls: 0.6721, loss: 0.6721, grad_norm: 17.5892\n",
      "2021-05-08 10:19:13,208 - mmaction - INFO - Epoch [30][100/132]\tlr: 1.250e-04, eta: 3:57:50, time: 1.999, data_time: 0.030, memory: 21787, top1_acc: 0.7575, top5_acc: 0.9788, loss_cls: 0.6546, loss: 0.6546, grad_norm: 19.2377\n"
     ]
    },
    {
     "name": "stdout",
     "output_type": "stream",
     "text": [
      "[>>>>>>>>>>>>>>>>>>>>>>>>>>>>>>] 126/126, 17.1 task/s, elapsed: 7s, ETA:     0s"
     ]
    },
    {
     "name": "stderr",
     "output_type": "stream",
     "text": [
      "2021-05-08 10:20:23,888 - mmaction - INFO - Evaluating top_k_accuracy ...\n",
      "2021-05-08 10:20:23,890 - mmaction - INFO - \n",
      "top1_acc\t0.8968\n",
      "top5_acc\t1.0000\n",
      "2021-05-08 10:20:23,891 - mmaction - INFO - Evaluating mean_class_accuracy ...\n",
      "2021-05-08 10:20:23,892 - mmaction - INFO - \n",
      "mean_acc\t0.8968\n",
      "2021-05-08 10:20:23,893 - mmaction - INFO - Epoch(val) [30][132]\ttop1_acc: 0.8968, top5_acc: 1.0000, mean_class_accuracy: 0.8968\n",
      "2021-05-08 10:23:43,983 - mmaction - INFO - Epoch [31][100/132]\tlr: 1.250e-04, eta: 3:54:19, time: 2.001, data_time: 0.032, memory: 21787, top1_acc: 0.7612, top5_acc: 0.9875, loss_cls: 0.6360, loss: 0.6360, grad_norm: 18.3479\n",
      "2021-05-08 10:28:08,090 - mmaction - INFO - Epoch [32][100/132]\tlr: 1.250e-04, eta: 3:50:52, time: 2.012, data_time: 0.032, memory: 21787, top1_acc: 0.7588, top5_acc: 0.9862, loss_cls: 0.6019, loss: 0.6019, grad_norm: 20.0158\n",
      "2021-05-08 10:32:32,543 - mmaction - INFO - Epoch [33][100/132]\tlr: 1.250e-05, eta: 3:47:25, time: 2.007, data_time: 0.030, memory: 21787, top1_acc: 0.7800, top5_acc: 0.9788, loss_cls: 0.5900, loss: 0.5900, grad_norm: 18.1371\n",
      "2021-05-08 10:36:56,815 - mmaction - INFO - Epoch [34][100/132]\tlr: 1.250e-05, eta: 3:43:57, time: 2.003, data_time: 0.031, memory: 21787, top1_acc: 0.7775, top5_acc: 0.9775, loss_cls: 0.5884, loss: 0.5884, grad_norm: 16.8042\n",
      "2021-05-08 10:41:19,959 - mmaction - INFO - Epoch [35][100/132]\tlr: 1.250e-05, eta: 3:40:29, time: 2.006, data_time: 0.030, memory: 21787, top1_acc: 0.7987, top5_acc: 0.9912, loss_cls: 0.5532, loss: 0.5532, grad_norm: 16.9086\n"
     ]
    },
    {
     "name": "stdout",
     "output_type": "stream",
     "text": [
      "[>>>>>>>>>>>>>>>>>>>>>>>>>>>>>>] 126/126, 17.5 task/s, elapsed: 7s, ETA:     0s"
     ]
    },
    {
     "name": "stderr",
     "output_type": "stream",
     "text": [
      "2021-05-08 10:42:30,144 - mmaction - INFO - Evaluating top_k_accuracy ...\n",
      "2021-05-08 10:42:30,145 - mmaction - INFO - \n",
      "top1_acc\t0.9286\n",
      "top5_acc\t1.0000\n",
      "2021-05-08 10:42:30,146 - mmaction - INFO - Evaluating mean_class_accuracy ...\n",
      "2021-05-08 10:42:30,147 - mmaction - INFO - \n",
      "mean_acc\t0.9286\n",
      "2021-05-08 10:42:32,129 - mmaction - INFO - Now best checkpoint is saved as best_top1_acc_epoch_35.pth.\n",
      "2021-05-08 10:42:32,130 - mmaction - INFO - Best top1_acc is 0.9286 at 35 epoch.\n",
      "2021-05-08 10:42:32,131 - mmaction - INFO - Epoch(val) [35][132]\ttop1_acc: 0.9286, top5_acc: 1.0000, mean_class_accuracy: 0.9286\n",
      "2021-05-08 10:45:51,603 - mmaction - INFO - Epoch [36][100/132]\tlr: 1.250e-05, eta: 3:37:01, time: 1.995, data_time: 0.031, memory: 21787, top1_acc: 0.7925, top5_acc: 0.9825, loss_cls: 0.5527, loss: 0.5527, grad_norm: 15.7720\n",
      "2021-05-08 10:50:12,125 - mmaction - INFO - Epoch [37][100/132]\tlr: 1.250e-05, eta: 3:33:31, time: 1.987, data_time: 0.030, memory: 21787, top1_acc: 0.7913, top5_acc: 0.9900, loss_cls: 0.5237, loss: 0.5237, grad_norm: 16.8484\n",
      "2021-05-08 10:54:32,741 - mmaction - INFO - Epoch [38][100/132]\tlr: 1.250e-05, eta: 3:30:02, time: 1.989, data_time: 0.032, memory: 21787, top1_acc: 0.7738, top5_acc: 0.9862, loss_cls: 0.5750, loss: 0.5750, grad_norm: 18.2931\n",
      "2021-05-08 10:58:53,591 - mmaction - INFO - Epoch [39][100/132]\tlr: 1.250e-05, eta: 3:26:35, time: 1.991, data_time: 0.030, memory: 21787, top1_acc: 0.7775, top5_acc: 0.9875, loss_cls: 0.5701, loss: 0.5701, grad_norm: 18.2165\n",
      "2021-05-08 11:03:16,131 - mmaction - INFO - Epoch [40][100/132]\tlr: 1.250e-05, eta: 3:23:09, time: 2.001, data_time: 0.031, memory: 21787, top1_acc: 0.8050, top5_acc: 0.9950, loss_cls: 0.5112, loss: 0.5112, grad_norm: 15.4825\n",
      "2021-05-08 11:04:18,248 - mmaction - INFO - Saving checkpoint at 40 epochs\n"
     ]
    },
    {
     "name": "stdout",
     "output_type": "stream",
     "text": [
      "[>>>>>>>>>>>>>>>>>>>>>>>>>>>>>>] 126/126, 16.9 task/s, elapsed: 7s, ETA:     0s"
     ]
    },
    {
     "name": "stderr",
     "output_type": "stream",
     "text": [
      "2021-05-08 11:04:28,061 - mmaction - INFO - Evaluating top_k_accuracy ...\n",
      "2021-05-08 11:04:28,063 - mmaction - INFO - \n",
      "top1_acc\t0.9206\n",
      "top5_acc\t1.0000\n",
      "2021-05-08 11:04:28,064 - mmaction - INFO - Evaluating mean_class_accuracy ...\n",
      "2021-05-08 11:04:28,065 - mmaction - INFO - \n",
      "mean_acc\t0.9206\n",
      "2021-05-08 11:04:28,066 - mmaction - INFO - Epoch(val) [40][132]\ttop1_acc: 0.9206, top5_acc: 1.0000, mean_class_accuracy: 0.9206\n",
      "2021-05-08 11:07:47,456 - mmaction - INFO - Epoch [41][100/132]\tlr: 1.250e-05, eta: 3:19:42, time: 1.994, data_time: 0.032, memory: 21787, top1_acc: 0.7850, top5_acc: 0.9850, loss_cls: 0.5759, loss: 0.5759, grad_norm: 17.9134\n",
      "2021-05-08 11:12:13,724 - mmaction - INFO - Epoch [42][100/132]\tlr: 1.250e-05, eta: 3:16:22, time: 2.035, data_time: 0.032, memory: 21787, top1_acc: 0.8037, top5_acc: 0.9888, loss_cls: 0.5315, loss: 0.5315, grad_norm: 17.7313\n",
      "2021-05-08 11:16:37,625 - mmaction - INFO - Epoch [43][100/132]\tlr: 1.250e-05, eta: 3:12:57, time: 2.009, data_time: 0.033, memory: 21787, top1_acc: 0.8075, top5_acc: 0.9862, loss_cls: 0.5297, loss: 0.5297, grad_norm: 17.4714\n",
      "2021-05-08 11:21:01,916 - mmaction - INFO - Epoch [44][100/132]\tlr: 1.250e-05, eta: 3:09:35, time: 2.020, data_time: 0.031, memory: 21787, top1_acc: 0.7925, top5_acc: 0.9888, loss_cls: 0.5287, loss: 0.5287, grad_norm: 18.0413\n",
      "2021-05-08 11:25:24,828 - mmaction - INFO - Epoch [45][100/132]\tlr: 1.250e-05, eta: 3:06:08, time: 1.988, data_time: 0.031, memory: 21787, top1_acc: 0.7950, top5_acc: 0.9825, loss_cls: 0.5305, loss: 0.5305, grad_norm: 17.1715\n"
     ]
    },
    {
     "name": "stdout",
     "output_type": "stream",
     "text": [
      "[>>>>>>>>>>>>>>>>>>>>>>>>>>>>>>] 126/126, 17.5 task/s, elapsed: 7s, ETA:     0s"
     ]
    },
    {
     "name": "stderr",
     "output_type": "stream",
     "text": [
      "2021-05-08 11:26:35,208 - mmaction - INFO - Evaluating top_k_accuracy ...\n",
      "2021-05-08 11:26:35,210 - mmaction - INFO - \n",
      "top1_acc\t0.9286\n",
      "top5_acc\t1.0000\n",
      "2021-05-08 11:26:35,210 - mmaction - INFO - Evaluating mean_class_accuracy ...\n",
      "2021-05-08 11:26:35,212 - mmaction - INFO - \n",
      "mean_acc\t0.9286\n",
      "2021-05-08 11:26:35,213 - mmaction - INFO - Epoch(val) [45][132]\ttop1_acc: 0.9286, top5_acc: 1.0000, mean_class_accuracy: 0.9286\n",
      "2021-05-08 11:29:55,422 - mmaction - INFO - Epoch [46][100/132]\tlr: 1.250e-05, eta: 3:02:44, time: 2.002, data_time: 0.033, memory: 21787, top1_acc: 0.8013, top5_acc: 0.9862, loss_cls: 0.5397, loss: 0.5397, grad_norm: 18.0021\n",
      "2021-05-08 11:34:17,349 - mmaction - INFO - Epoch [47][100/132]\tlr: 1.250e-05, eta: 2:59:18, time: 1.988, data_time: 0.031, memory: 21787, top1_acc: 0.8013, top5_acc: 0.9850, loss_cls: 0.5181, loss: 0.5181, grad_norm: 17.5404\n",
      "2021-05-08 11:38:37,981 - mmaction - INFO - Epoch [48][100/132]\tlr: 1.250e-05, eta: 2:55:52, time: 1.988, data_time: 0.031, memory: 21787, top1_acc: 0.8025, top5_acc: 0.9912, loss_cls: 0.5194, loss: 0.5194, grad_norm: 18.1732\n",
      "2021-05-08 11:42:58,706 - mmaction - INFO - Epoch [49][100/132]\tlr: 1.250e-06, eta: 2:52:27, time: 1.989, data_time: 0.031, memory: 21787, top1_acc: 0.7750, top5_acc: 0.9925, loss_cls: 0.5591, loss: 0.5591, grad_norm: 17.4712\n",
      "2021-05-08 11:47:19,373 - mmaction - INFO - Epoch [50][100/132]\tlr: 1.250e-06, eta: 2:49:02, time: 1.989, data_time: 0.031, memory: 21787, top1_acc: 0.7775, top5_acc: 0.9838, loss_cls: 0.5735, loss: 0.5735, grad_norm: 18.5203\n"
     ]
    },
    {
     "name": "stdout",
     "output_type": "stream",
     "text": [
      "[>>>>>>>>>>>>>>>>>>>>>>>>>>>>>>] 126/126, 17.7 task/s, elapsed: 7s, ETA:     0s"
     ]
    },
    {
     "name": "stderr",
     "output_type": "stream",
     "text": [
      "2021-05-08 11:48:28,349 - mmaction - INFO - Evaluating top_k_accuracy ...\n",
      "2021-05-08 11:48:28,352 - mmaction - INFO - \n",
      "top1_acc\t0.9365\n",
      "top5_acc\t1.0000\n",
      "2021-05-08 11:48:28,353 - mmaction - INFO - Evaluating mean_class_accuracy ...\n",
      "2021-05-08 11:48:28,355 - mmaction - INFO - \n",
      "mean_acc\t0.9365\n",
      "2021-05-08 11:48:30,568 - mmaction - INFO - Now best checkpoint is saved as best_top1_acc_epoch_50.pth.\n",
      "2021-05-08 11:48:30,569 - mmaction - INFO - Best top1_acc is 0.9365 at 50 epoch.\n",
      "2021-05-08 11:48:30,570 - mmaction - INFO - Epoch(val) [50][132]\ttop1_acc: 0.9365, top5_acc: 1.0000, mean_class_accuracy: 0.9365\n",
      "2021-05-08 11:51:52,106 - mmaction - INFO - Epoch [51][100/132]\tlr: 1.250e-06, eta: 2:45:40, time: 2.015, data_time: 0.035, memory: 21787, top1_acc: 0.7863, top5_acc: 0.9900, loss_cls: 0.5662, loss: 0.5662, grad_norm: 18.5681\n",
      "2021-05-08 11:56:15,634 - mmaction - INFO - Epoch [52][100/132]\tlr: 1.250e-06, eta: 2:42:17, time: 2.005, data_time: 0.037, memory: 21787, top1_acc: 0.7875, top5_acc: 0.9825, loss_cls: 0.5439, loss: 0.5439, grad_norm: 17.4091\n",
      "2021-05-08 12:00:37,266 - mmaction - INFO - Epoch [53][100/132]\tlr: 1.250e-06, eta: 2:38:52, time: 1.989, data_time: 0.032, memory: 21787, top1_acc: 0.7712, top5_acc: 0.9850, loss_cls: 0.5810, loss: 0.5810, grad_norm: 18.3593\n",
      "2021-05-08 12:04:57,845 - mmaction - INFO - Epoch [54][100/132]\tlr: 1.250e-06, eta: 2:35:28, time: 1.988, data_time: 0.031, memory: 21787, top1_acc: 0.8025, top5_acc: 0.9900, loss_cls: 0.5311, loss: 0.5311, grad_norm: 18.0350\n",
      "2021-05-08 12:09:18,533 - mmaction - INFO - Epoch [55][100/132]\tlr: 1.250e-06, eta: 2:32:04, time: 1.989, data_time: 0.031, memory: 21787, top1_acc: 0.7987, top5_acc: 0.9912, loss_cls: 0.5130, loss: 0.5130, grad_norm: 16.9976\n"
     ]
    },
    {
     "name": "stdout",
     "output_type": "stream",
     "text": [
      "[>>>>>>>>>>>>>>>>>>>>>>>>>>>>>>] 126/126, 17.4 task/s, elapsed: 7s, ETA:     0s"
     ]
    },
    {
     "name": "stderr",
     "output_type": "stream",
     "text": [
      "2021-05-08 12:10:27,678 - mmaction - INFO - Evaluating top_k_accuracy ...\n",
      "2021-05-08 12:10:27,680 - mmaction - INFO - \n",
      "top1_acc\t0.9603\n",
      "top5_acc\t1.0000\n",
      "2021-05-08 12:10:27,681 - mmaction - INFO - Evaluating mean_class_accuracy ...\n",
      "2021-05-08 12:10:27,682 - mmaction - INFO - \n",
      "mean_acc\t0.9603\n",
      "2021-05-08 12:10:29,835 - mmaction - INFO - Now best checkpoint is saved as best_top1_acc_epoch_55.pth.\n",
      "2021-05-08 12:10:29,837 - mmaction - INFO - Best top1_acc is 0.9603 at 55 epoch.\n",
      "2021-05-08 12:10:29,838 - mmaction - INFO - Epoch(val) [55][132]\ttop1_acc: 0.9603, top5_acc: 1.0000, mean_class_accuracy: 0.9603\n",
      "2021-05-08 12:13:48,868 - mmaction - INFO - Epoch [56][100/132]\tlr: 1.250e-06, eta: 2:28:40, time: 1.990, data_time: 0.033, memory: 21787, top1_acc: 0.7837, top5_acc: 0.9862, loss_cls: 0.5498, loss: 0.5498, grad_norm: 18.4053\n",
      "2021-05-08 12:18:11,103 - mmaction - INFO - Epoch [57][100/132]\tlr: 1.250e-06, eta: 2:25:17, time: 1.993, data_time: 0.031, memory: 21787, top1_acc: 0.8000, top5_acc: 0.9875, loss_cls: 0.5363, loss: 0.5363, grad_norm: 17.9373\n",
      "2021-05-08 12:22:34,454 - mmaction - INFO - Epoch [58][100/132]\tlr: 1.250e-06, eta: 2:21:54, time: 2.008, data_time: 0.034, memory: 21787, top1_acc: 0.8075, top5_acc: 0.9900, loss_cls: 0.5194, loss: 0.5194, grad_norm: 17.5829\n",
      "2021-05-08 12:26:59,886 - mmaction - INFO - Epoch [59][100/132]\tlr: 1.250e-06, eta: 2:18:33, time: 2.020, data_time: 0.032, memory: 21787, top1_acc: 0.8100, top5_acc: 0.9950, loss_cls: 0.5028, loss: 0.5028, grad_norm: 17.8553\n",
      "2021-05-08 12:31:24,968 - mmaction - INFO - Epoch [60][100/132]\tlr: 1.250e-06, eta: 2:15:12, time: 2.025, data_time: 0.030, memory: 21787, top1_acc: 0.8225, top5_acc: 0.9850, loss_cls: 0.5137, loss: 0.5137, grad_norm: 17.0531\n",
      "2021-05-08 12:32:27,074 - mmaction - INFO - Saving checkpoint at 60 epochs\n"
     ]
    },
    {
     "name": "stdout",
     "output_type": "stream",
     "text": [
      "[>>>>>>>>>>>>>>>>>>>>>>>>>>>>>>] 126/126, 17.2 task/s, elapsed: 7s, ETA:     0s"
     ]
    },
    {
     "name": "stderr",
     "output_type": "stream",
     "text": [
      "2021-05-08 12:32:36,570 - mmaction - INFO - Evaluating top_k_accuracy ...\n",
      "2021-05-08 12:32:36,573 - mmaction - INFO - \n",
      "top1_acc\t0.9206\n",
      "top5_acc\t1.0000\n",
      "2021-05-08 12:32:36,574 - mmaction - INFO - Evaluating mean_class_accuracy ...\n",
      "2021-05-08 12:32:36,576 - mmaction - INFO - \n",
      "mean_acc\t0.9206\n",
      "2021-05-08 12:32:36,577 - mmaction - INFO - Epoch(val) [60][132]\ttop1_acc: 0.9206, top5_acc: 1.0000, mean_class_accuracy: 0.9206\n",
      "2021-05-08 12:35:56,667 - mmaction - INFO - Epoch [61][100/132]\tlr: 1.250e-06, eta: 2:11:50, time: 2.001, data_time: 0.032, memory: 21787, top1_acc: 0.8100, top5_acc: 0.9900, loss_cls: 0.5174, loss: 0.5174, grad_norm: 17.0661\n",
      "2021-05-08 12:40:18,465 - mmaction - INFO - Epoch [62][100/132]\tlr: 1.250e-06, eta: 2:08:27, time: 1.997, data_time: 0.031, memory: 21787, top1_acc: 0.7937, top5_acc: 0.9812, loss_cls: 0.5359, loss: 0.5359, grad_norm: 17.8362\n",
      "2021-05-08 12:44:40,701 - mmaction - INFO - Epoch [63][100/132]\tlr: 1.250e-06, eta: 2:05:04, time: 2.000, data_time: 0.032, memory: 21787, top1_acc: 0.7975, top5_acc: 0.9912, loss_cls: 0.5286, loss: 0.5286, grad_norm: 16.8071\n",
      "2021-05-08 12:49:02,453 - mmaction - INFO - Epoch [64][100/132]\tlr: 1.250e-06, eta: 2:01:42, time: 1.996, data_time: 0.030, memory: 21787, top1_acc: 0.8275, top5_acc: 0.9888, loss_cls: 0.5016, loss: 0.5016, grad_norm: 16.5031\n",
      "2021-05-08 12:53:24,800 - mmaction - INFO - Epoch [65][100/132]\tlr: 1.250e-06, eta: 1:58:19, time: 1.998, data_time: 0.031, memory: 21787, top1_acc: 0.8000, top5_acc: 0.9900, loss_cls: 0.5104, loss: 0.5104, grad_norm: 16.8568\n"
     ]
    },
    {
     "name": "stdout",
     "output_type": "stream",
     "text": [
      "[>>>>>>>>>>>>>>>>>>>>>>>>>>>>>>] 126/126, 17.7 task/s, elapsed: 7s, ETA:     0s"
     ]
    },
    {
     "name": "stderr",
     "output_type": "stream",
     "text": [
      "2021-05-08 12:54:34,131 - mmaction - INFO - Evaluating top_k_accuracy ...\n",
      "2021-05-08 12:54:34,133 - mmaction - INFO - \n",
      "top1_acc\t0.9365\n",
      "top5_acc\t1.0000\n",
      "2021-05-08 12:54:34,134 - mmaction - INFO - Evaluating mean_class_accuracy ...\n",
      "2021-05-08 12:54:34,136 - mmaction - INFO - \n",
      "mean_acc\t0.9365\n",
      "2021-05-08 12:54:34,137 - mmaction - INFO - Epoch(val) [65][132]\ttop1_acc: 0.9365, top5_acc: 1.0000, mean_class_accuracy: 0.9365\n",
      "2021-05-08 12:57:53,611 - mmaction - INFO - Epoch [66][100/132]\tlr: 1.250e-06, eta: 1:54:57, time: 1.995, data_time: 0.030, memory: 21787, top1_acc: 0.8125, top5_acc: 0.9900, loss_cls: 0.5049, loss: 0.5049, grad_norm: 18.1335\n",
      "2021-05-08 13:02:15,343 - mmaction - INFO - Epoch [67][100/132]\tlr: 1.250e-06, eta: 1:51:35, time: 1.996, data_time: 0.030, memory: 21787, top1_acc: 0.8137, top5_acc: 0.9912, loss_cls: 0.5367, loss: 0.5367, grad_norm: 16.9542\n",
      "2021-05-08 13:06:37,663 - mmaction - INFO - Epoch [68][100/132]\tlr: 1.250e-06, eta: 1:48:13, time: 2.003, data_time: 0.031, memory: 21787, top1_acc: 0.8050, top5_acc: 0.9862, loss_cls: 0.5404, loss: 0.5404, grad_norm: 17.3214\n",
      "2021-05-08 13:10:58,270 - mmaction - INFO - Epoch [69][100/132]\tlr: 1.250e-06, eta: 1:44:50, time: 1.988, data_time: 0.031, memory: 21787, top1_acc: 0.7688, top5_acc: 0.9838, loss_cls: 0.5896, loss: 0.5896, grad_norm: 19.6806\n",
      "2021-05-08 13:15:18,966 - mmaction - INFO - Epoch [70][100/132]\tlr: 1.250e-06, eta: 1:41:28, time: 1.988, data_time: 0.032, memory: 21787, top1_acc: 0.7850, top5_acc: 0.9875, loss_cls: 0.5473, loss: 0.5473, grad_norm: 18.5436\n"
     ]
    },
    {
     "name": "stdout",
     "output_type": "stream",
     "text": [
      "[>>>>>>>>>>>>>>>>>>>>>>>>>>>>>>] 126/126, 17.7 task/s, elapsed: 7s, ETA:     0s"
     ]
    },
    {
     "name": "stderr",
     "output_type": "stream",
     "text": [
      "2021-05-08 13:16:28,366 - mmaction - INFO - Evaluating top_k_accuracy ...\n",
      "2021-05-08 13:16:28,368 - mmaction - INFO - \n",
      "top1_acc\t0.9365\n",
      "top5_acc\t1.0000\n",
      "2021-05-08 13:16:28,369 - mmaction - INFO - Evaluating mean_class_accuracy ...\n",
      "2021-05-08 13:16:28,370 - mmaction - INFO - \n",
      "mean_acc\t0.9365\n",
      "2021-05-08 13:16:28,371 - mmaction - INFO - Epoch(val) [70][132]\ttop1_acc: 0.9365, top5_acc: 1.0000, mean_class_accuracy: 0.9365\n",
      "2021-05-08 13:19:47,998 - mmaction - INFO - Epoch [71][100/132]\tlr: 1.250e-06, eta: 1:38:06, time: 1.996, data_time: 0.033, memory: 21787, top1_acc: 0.8075, top5_acc: 0.9900, loss_cls: 0.5034, loss: 0.5034, grad_norm: 16.4006\n",
      "2021-05-08 13:24:09,766 - mmaction - INFO - Epoch [72][100/132]\tlr: 1.250e-06, eta: 1:34:43, time: 1.989, data_time: 0.031, memory: 21787, top1_acc: 0.8150, top5_acc: 0.9862, loss_cls: 0.5211, loss: 0.5211, grad_norm: 18.2336\n",
      "2021-05-08 13:28:32,406 - mmaction - INFO - Epoch [73][100/132]\tlr: 1.250e-06, eta: 1:31:22, time: 2.007, data_time: 0.030, memory: 21787, top1_acc: 0.8037, top5_acc: 0.9888, loss_cls: 0.5181, loss: 0.5181, grad_norm: 18.5651\n",
      "2021-05-08 13:32:54,769 - mmaction - INFO - Epoch [74][100/132]\tlr: 1.250e-06, eta: 1:28:00, time: 1.999, data_time: 0.030, memory: 21787, top1_acc: 0.7788, top5_acc: 0.9875, loss_cls: 0.5867, loss: 0.5867, grad_norm: 18.4654\n",
      "2021-05-08 13:37:17,869 - mmaction - INFO - Epoch [75][100/132]\tlr: 1.250e-06, eta: 1:24:39, time: 2.012, data_time: 0.032, memory: 21787, top1_acc: 0.7725, top5_acc: 0.9838, loss_cls: 0.5590, loss: 0.5590, grad_norm: 18.3595\n"
     ]
    },
    {
     "name": "stdout",
     "output_type": "stream",
     "text": [
      "[>>>>>>>>>>>>>>>>>>>>>>>>>>>>>>] 126/126, 17.7 task/s, elapsed: 7s, ETA:     0s"
     ]
    },
    {
     "name": "stderr",
     "output_type": "stream",
     "text": [
      "2021-05-08 13:38:27,718 - mmaction - INFO - Evaluating top_k_accuracy ...\n",
      "2021-05-08 13:38:27,719 - mmaction - INFO - \n",
      "top1_acc\t0.9444\n",
      "top5_acc\t1.0000\n",
      "2021-05-08 13:38:27,720 - mmaction - INFO - Evaluating mean_class_accuracy ...\n",
      "2021-05-08 13:38:27,720 - mmaction - INFO - \n",
      "mean_acc\t0.9444\n",
      "2021-05-08 13:38:27,721 - mmaction - INFO - Epoch(val) [75][132]\ttop1_acc: 0.9444, top5_acc: 1.0000, mean_class_accuracy: 0.9444\n",
      "2021-05-08 13:41:47,308 - mmaction - INFO - Epoch [76][100/132]\tlr: 1.250e-06, eta: 1:21:17, time: 1.996, data_time: 0.030, memory: 21787, top1_acc: 0.7662, top5_acc: 0.9888, loss_cls: 0.6005, loss: 0.6005, grad_norm: 19.9259\n",
      "2021-05-08 13:46:09,027 - mmaction - INFO - Epoch [77][100/132]\tlr: 1.250e-06, eta: 1:17:56, time: 1.996, data_time: 0.030, memory: 21787, top1_acc: 0.7963, top5_acc: 0.9888, loss_cls: 0.5387, loss: 0.5387, grad_norm: 18.2187\n",
      "2021-05-08 13:50:31,397 - mmaction - INFO - Epoch [78][100/132]\tlr: 1.250e-06, eta: 1:14:34, time: 1.999, data_time: 0.031, memory: 21787, top1_acc: 0.7913, top5_acc: 0.9900, loss_cls: 0.5303, loss: 0.5303, grad_norm: 17.6053\n",
      "2021-05-08 13:54:53,109 - mmaction - INFO - Epoch [79][100/132]\tlr: 1.250e-06, eta: 1:11:12, time: 1.999, data_time: 0.030, memory: 21787, top1_acc: 0.7762, top5_acc: 0.9838, loss_cls: 0.5769, loss: 0.5769, grad_norm: 18.0434\n",
      "2021-05-08 13:59:14,888 - mmaction - INFO - Epoch [80][100/132]\tlr: 1.250e-06, eta: 1:07:51, time: 1.996, data_time: 0.032, memory: 21787, top1_acc: 0.7812, top5_acc: 0.9912, loss_cls: 0.5525, loss: 0.5525, grad_norm: 18.2630\n",
      "2021-05-08 14:00:17,170 - mmaction - INFO - Saving checkpoint at 80 epochs\n"
     ]
    },
    {
     "name": "stdout",
     "output_type": "stream",
     "text": [
      "[>>>>>>>>>>>>>>>>>>>>>>>>>>>>>>] 126/126, 17.4 task/s, elapsed: 7s, ETA:     0s"
     ]
    },
    {
     "name": "stderr",
     "output_type": "stream",
     "text": [
      "2021-05-08 14:00:26,834 - mmaction - INFO - Evaluating top_k_accuracy ...\n",
      "2021-05-08 14:00:26,835 - mmaction - INFO - \n",
      "top1_acc\t0.9524\n",
      "top5_acc\t1.0000\n",
      "2021-05-08 14:00:26,835 - mmaction - INFO - Evaluating mean_class_accuracy ...\n",
      "2021-05-08 14:00:26,836 - mmaction - INFO - \n",
      "mean_acc\t0.9524\n",
      "2021-05-08 14:00:26,837 - mmaction - INFO - Epoch(val) [80][132]\ttop1_acc: 0.9524, top5_acc: 1.0000, mean_class_accuracy: 0.9524\n",
      "2021-05-08 14:03:45,535 - mmaction - INFO - Epoch [81][100/132]\tlr: 1.250e-06, eta: 1:04:29, time: 1.987, data_time: 0.030, memory: 21787, top1_acc: 0.7875, top5_acc: 0.9838, loss_cls: 0.5854, loss: 0.5854, grad_norm: 20.4285\n",
      "2021-05-08 14:08:06,264 - mmaction - INFO - Epoch [82][100/132]\tlr: 1.250e-06, eta: 1:01:08, time: 1.989, data_time: 0.030, memory: 21787, top1_acc: 0.7975, top5_acc: 0.9888, loss_cls: 0.5294, loss: 0.5294, grad_norm: 17.5508\n",
      "2021-05-08 14:12:28,173 - mmaction - INFO - Epoch [83][100/132]\tlr: 1.250e-06, eta: 0:57:46, time: 1.993, data_time: 0.030, memory: 21787, top1_acc: 0.7913, top5_acc: 0.9850, loss_cls: 0.5653, loss: 0.5653, grad_norm: 17.7271\n",
      "2021-05-08 14:16:49,041 - mmaction - INFO - Epoch [84][100/132]\tlr: 1.250e-06, eta: 0:54:25, time: 1.990, data_time: 0.031, memory: 21787, top1_acc: 0.7875, top5_acc: 0.9888, loss_cls: 0.5464, loss: 0.5464, grad_norm: 19.1699\n",
      "2021-05-08 14:21:09,786 - mmaction - INFO - Epoch [85][100/132]\tlr: 1.250e-06, eta: 0:51:03, time: 1.989, data_time: 0.031, memory: 21787, top1_acc: 0.7712, top5_acc: 0.9788, loss_cls: 0.5816, loss: 0.5816, grad_norm: 20.1628\n"
     ]
    },
    {
     "name": "stdout",
     "output_type": "stream",
     "text": [
      "[>>>>>>>>>>>>>>>>>>>>>>>>>>>>>>] 126/126, 17.4 task/s, elapsed: 7s, ETA:     0s"
     ]
    },
    {
     "name": "stderr",
     "output_type": "stream",
     "text": [
      "2021-05-08 14:22:18,861 - mmaction - INFO - Evaluating top_k_accuracy ...\n",
      "2021-05-08 14:22:18,863 - mmaction - INFO - \n",
      "top1_acc\t0.9444\n",
      "top5_acc\t1.0000\n",
      "2021-05-08 14:22:18,864 - mmaction - INFO - Evaluating mean_class_accuracy ...\n",
      "2021-05-08 14:22:18,865 - mmaction - INFO - \n",
      "mean_acc\t0.9444\n",
      "2021-05-08 14:22:18,866 - mmaction - INFO - Epoch(val) [85][132]\ttop1_acc: 0.9444, top5_acc: 1.0000, mean_class_accuracy: 0.9444\n",
      "2021-05-08 14:25:38,238 - mmaction - INFO - Epoch [86][100/132]\tlr: 1.250e-06, eta: 0:47:42, time: 1.994, data_time: 0.030, memory: 21787, top1_acc: 0.7987, top5_acc: 0.9838, loss_cls: 0.5510, loss: 0.5510, grad_norm: 18.0934\n",
      "2021-05-08 14:30:01,421 - mmaction - INFO - Epoch [87][100/132]\tlr: 1.250e-06, eta: 0:44:21, time: 2.013, data_time: 0.031, memory: 21787, top1_acc: 0.7963, top5_acc: 0.9938, loss_cls: 0.5224, loss: 0.5224, grad_norm: 18.0256\n",
      "2021-05-08 14:34:24,093 - mmaction - INFO - Epoch [88][100/132]\tlr: 1.250e-06, eta: 0:41:00, time: 1.999, data_time: 0.031, memory: 21787, top1_acc: 0.8150, top5_acc: 0.9912, loss_cls: 0.4970, loss: 0.4970, grad_norm: 18.7535\n",
      "2021-05-08 14:38:44,802 - mmaction - INFO - Epoch [89][100/132]\tlr: 1.250e-06, eta: 0:37:39, time: 1.989, data_time: 0.032, memory: 21787, top1_acc: 0.8150, top5_acc: 0.9888, loss_cls: 0.5223, loss: 0.5223, grad_norm: 17.5858\n",
      "2021-05-08 14:43:05,473 - mmaction - INFO - Epoch [90][100/132]\tlr: 1.250e-06, eta: 0:34:17, time: 1.989, data_time: 0.031, memory: 21787, top1_acc: 0.7937, top5_acc: 0.9775, loss_cls: 0.5880, loss: 0.5880, grad_norm: 20.1733\n"
     ]
    },
    {
     "name": "stdout",
     "output_type": "stream",
     "text": [
      "[>>>>>>>>>>>>>>>>>>>>>>>>>>>>>>] 126/126, 17.6 task/s, elapsed: 7s, ETA:     0s"
     ]
    },
    {
     "name": "stderr",
     "output_type": "stream",
     "text": [
      "2021-05-08 14:44:14,439 - mmaction - INFO - Evaluating top_k_accuracy ...\n",
      "2021-05-08 14:44:14,441 - mmaction - INFO - \n",
      "top1_acc\t0.9524\n",
      "top5_acc\t1.0000\n",
      "2021-05-08 14:44:14,442 - mmaction - INFO - Evaluating mean_class_accuracy ...\n",
      "2021-05-08 14:44:14,443 - mmaction - INFO - \n",
      "mean_acc\t0.9524\n",
      "2021-05-08 14:44:14,443 - mmaction - INFO - Epoch(val) [90][132]\ttop1_acc: 0.9524, top5_acc: 1.0000, mean_class_accuracy: 0.9524\n",
      "2021-05-08 14:47:33,259 - mmaction - INFO - Epoch [91][100/132]\tlr: 1.250e-06, eta: 0:30:56, time: 1.988, data_time: 0.031, memory: 21787, top1_acc: 0.7987, top5_acc: 0.9862, loss_cls: 0.5272, loss: 0.5272, grad_norm: 16.2025\n",
      "2021-05-08 14:51:53,965 - mmaction - INFO - Epoch [92][100/132]\tlr: 1.250e-06, eta: 0:27:35, time: 1.989, data_time: 0.031, memory: 21787, top1_acc: 0.7887, top5_acc: 0.9812, loss_cls: 0.5540, loss: 0.5540, grad_norm: 19.0217\n",
      "2021-05-08 14:56:14,643 - mmaction - INFO - Epoch [93][100/132]\tlr: 1.250e-06, eta: 0:24:14, time: 1.989, data_time: 0.032, memory: 21787, top1_acc: 0.7762, top5_acc: 0.9862, loss_cls: 0.5528, loss: 0.5528, grad_norm: 18.4287\n",
      "2021-05-08 15:00:35,326 - mmaction - INFO - Epoch [94][100/132]\tlr: 1.250e-06, eta: 0:20:53, time: 1.989, data_time: 0.031, memory: 21787, top1_acc: 0.8013, top5_acc: 0.9775, loss_cls: 0.5335, loss: 0.5335, grad_norm: 17.8954\n",
      "2021-05-08 15:04:56,112 - mmaction - INFO - Epoch [95][100/132]\tlr: 1.250e-06, eta: 0:17:32, time: 1.990, data_time: 0.032, memory: 21787, top1_acc: 0.8100, top5_acc: 0.9788, loss_cls: 0.5044, loss: 0.5044, grad_norm: 15.7742\n"
     ]
    },
    {
     "name": "stdout",
     "output_type": "stream",
     "text": [
      "[>>>>>>>>>>>>>>>>>>>>>>>>>>>>>>] 126/126, 17.5 task/s, elapsed: 7s, ETA:     0s"
     ]
    },
    {
     "name": "stderr",
     "output_type": "stream",
     "text": [
      "2021-05-08 15:06:05,225 - mmaction - INFO - Evaluating top_k_accuracy ...\n",
      "2021-05-08 15:06:05,227 - mmaction - INFO - \n",
      "top1_acc\t0.9524\n",
      "top5_acc\t1.0000\n",
      "2021-05-08 15:06:05,228 - mmaction - INFO - Evaluating mean_class_accuracy ...\n",
      "2021-05-08 15:06:05,229 - mmaction - INFO - \n",
      "mean_acc\t0.9524\n",
      "2021-05-08 15:06:05,230 - mmaction - INFO - Epoch(val) [95][132]\ttop1_acc: 0.9524, top5_acc: 1.0000, mean_class_accuracy: 0.9524\n",
      "2021-05-08 15:09:24,068 - mmaction - INFO - Epoch [96][100/132]\tlr: 1.250e-06, eta: 0:14:11, time: 1.988, data_time: 0.031, memory: 21787, top1_acc: 0.8025, top5_acc: 0.9875, loss_cls: 0.5494, loss: 0.5494, grad_norm: 18.6266\n",
      "2021-05-08 15:13:44,848 - mmaction - INFO - Epoch [97][100/132]\tlr: 1.250e-06, eta: 0:10:51, time: 1.990, data_time: 0.031, memory: 21787, top1_acc: 0.7612, top5_acc: 0.9862, loss_cls: 0.5925, loss: 0.5925, grad_norm: 21.1252\n",
      "2021-05-08 15:18:05,699 - mmaction - INFO - Epoch [98][100/132]\tlr: 1.250e-06, eta: 0:07:30, time: 1.990, data_time: 0.032, memory: 21787, top1_acc: 0.7937, top5_acc: 0.9875, loss_cls: 0.5587, loss: 0.5587, grad_norm: 19.3350\n",
      "2021-05-08 15:22:26,379 - mmaction - INFO - Epoch [99][100/132]\tlr: 1.250e-06, eta: 0:04:09, time: 1.989, data_time: 0.031, memory: 21787, top1_acc: 0.8050, top5_acc: 0.9825, loss_cls: 0.5221, loss: 0.5221, grad_norm: 17.3764\n",
      "2021-05-08 15:26:47,109 - mmaction - INFO - Epoch [100][100/132]\tlr: 1.250e-06, eta: 0:00:48, time: 1.989, data_time: 0.031, memory: 21787, top1_acc: 0.8000, top5_acc: 0.9938, loss_cls: 0.5115, loss: 0.5115, grad_norm: 17.9851\n",
      "2021-05-08 15:27:48,918 - mmaction - INFO - Saving checkpoint at 100 epochs\n"
     ]
    },
    {
     "name": "stdout",
     "output_type": "stream",
     "text": [
      "[>>>>>>>>>>>>>>>>>>>>>>>>>>>>>>] 126/126, 17.3 task/s, elapsed: 7s, ETA:     0s"
     ]
    },
    {
     "name": "stderr",
     "output_type": "stream",
     "text": [
      "2021-05-08 15:27:58,359 - mmaction - INFO - Evaluating top_k_accuracy ...\n",
      "2021-05-08 15:27:58,360 - mmaction - INFO - \n",
      "top1_acc\t0.9524\n",
      "top5_acc\t1.0000\n",
      "2021-05-08 15:27:58,361 - mmaction - INFO - Evaluating mean_class_accuracy ...\n",
      "2021-05-08 15:27:58,362 - mmaction - INFO - \n",
      "mean_acc\t0.9524\n",
      "2021-05-08 15:27:58,363 - mmaction - INFO - Epoch(val) [100][132]\ttop1_acc: 0.9524, top5_acc: 1.0000, mean_class_accuracy: 0.9524\n"
     ]
    }
   ],
   "source": [
    "import os.path as osp\n",
    "\n",
    "from mmaction.datasets import build_dataset\n",
    "from mmaction.models import build_model\n",
    "from mmaction.apis import train_model\n",
    "\n",
    "import mmcv\n",
    "\n",
    "# Build the dataset\n",
    "datasets = [build_dataset(cfg.data.train)]\n",
    "\n",
    "# Build the recognizer\n",
    "model = build_model(cfg.model, train_cfg=cfg.get('train_cfg'), test_cfg=cfg.get('test_cfg'))\n",
    "# model = build_model(cfg.model, train_cfg=cfg.get('train_cfg'), test_cfg=cfg.get('test_cfg'))\n",
    "# model = build_detector(cfg.model, train_cfg=cfg.get('train_cfg'), test_cfg=cfg.get('test_cfg'))\n",
    "# model = build_detector(cfg.model, train_cfg=cfg.train_cfg, test_cfg=cfg.test_cfg)\n",
    "\n",
    "# Create work_dir\n",
    "mmcv.mkdir_or_exist(osp.abspath(cfg.work_dir))\n",
    "train_model(model, datasets, cfg, distributed=False, validate=True)"
   ]
  },
  {
   "cell_type": "code",
   "execution_count": 11,
   "id": "1d6e6a38-2cc6-4eb7-b030-4ff874c7b000",
   "metadata": {},
   "outputs": [],
   "source": [
    "import pickle\n",
    "\n",
    "with open(f\"{cfg.work_dir}/model100e_ig65m\", 'wb') as f:\n",
    "    pickle.dump(model, f)"
   ]
  },
  {
   "cell_type": "code",
   "execution_count": null,
   "id": "db27ee76-06a0-431d-94f2-c330007ffa8a",
   "metadata": {},
   "outputs": [],
   "source": []
  },
  {
   "cell_type": "code",
   "execution_count": null,
   "id": "979e77b2-4aef-4fe7-a842-7a26fe9ec792",
   "metadata": {
    "tags": []
   },
   "outputs": [],
   "source": [
    "# import os.path as osp\n",
    "\n",
    "# from mmaction.datasets import build_dataset\n",
    "# from mmaction.models import build_model\n",
    "# from mmaction.apis import train_model\n",
    "# import pickle\n",
    "# import mmcv\n",
    "# # Build the dataset\n",
    "# datasets = [build_dataset(cfg.data.train)]\n",
    "\n",
    "# # Build the recognizer\n",
    "# model = build_model(cfg.model, train_cfg=cfg.get('train_cfg'), test_cfg=cfg.get('test_cfg'))\n",
    "\n",
    "# model = pickle.load(open(f\"{cfg.work_dir}/model50e\", 'rb'))"
   ]
  },
  {
   "cell_type": "code",
   "execution_count": 12,
   "id": "176ca9dc-6dea-4e53-b418-603248e4d725",
   "metadata": {
    "colab": {
     "base_uri": "https://localhost:8080/"
    },
    "id": "eyY3hCMwyTct",
    "outputId": "200e37c7-0da4-421f-98da-41418c3110ca",
    "tags": []
   },
   "outputs": [
    {
     "name": "stdout",
     "output_type": "stream",
     "text": [
      "[>>>>>>>>>>>>>>>>>>>>>>>>>>>>>] 126/126, 0.5 task/s, elapsed: 265s, ETA:     0s\n",
      "Evaluating top_k_accuracy ...\n",
      "\n",
      "top1_acc\t0.9683\n",
      "top5_acc\t1.0000\n",
      "\n",
      "Evaluating mean_class_accuracy ...\n",
      "\n",
      "mean_acc\t0.9683\n",
      "top1_acc: 0.9683\n",
      "top5_acc: 1.0000\n",
      "mean_class_accuracy: 0.9683\n"
     ]
    }
   ],
   "source": [
    "from mmaction.apis import single_gpu_test\n",
    "from mmaction.datasets import build_dataloader\n",
    "from mmcv.parallel import MMDataParallel\n",
    "from mmaction.models import build_model\n",
    "from mmaction.datasets import build_dataset\n",
    "\n",
    "# model = build_model(cfg.model, train_cfg=cfg.get('train_cfg'), test_cfg=cfg.get('test_cfg'))\n",
    "# Build a test dataloader\n",
    "dataset = build_dataset(cfg.data.test, dict(test_mode=True))\n",
    "data_loader = build_dataloader(\n",
    "        dataset,\n",
    "        videos_per_gpu=4,\n",
    "        workers_per_gpu=1,\n",
    "        dist=False,\n",
    "        shuffle=False)\n",
    "model = MMDataParallel(model, device_ids=[0])\n",
    "outputs = single_gpu_test(model, data_loader)\n",
    "\n",
    "eval_config = cfg.evaluation\n",
    "eval_config.pop('interval')\n",
    "eval_res = dataset.evaluate(outputs, **eval_config)\n",
    "for name, val in eval_res.items():\n",
    "    print(f'{name}: {val:.04f}')\n",
    "    \n",
    "output_config = cfg.output_config\n",
    "dataset.dump_results(outputs, **output_config)"
   ]
  },
  {
   "cell_type": "code",
   "execution_count": 13,
   "id": "80ce555a-19a6-46cc-ba4b-d51ba1c6bb02",
   "metadata": {
    "tags": []
   },
   "outputs": [
    {
     "data": {
      "text/plain": [
       "<AxesSubplot:>"
      ]
     },
     "execution_count": 13,
     "metadata": {},
     "output_type": "execute_result"
    },
    {
     "data": {
      "image/png": "[encoded data removed]",
      "text/plain": [
       "<Figure size 432x288 with 2 Axes>"
      ]
     },
     "metadata": {
      "needs_background": "light"
     },
     "output_type": "display_data"
    }
   ],
   "source": [
    "import seaborn as sns\n",
    "import numpy as np\n",
    "from mmaction.core import confusion_matrix \n",
    "\n",
    "gt_labels = [ann['label'] for ann in dataset.load_annotations()]\n",
    "pred = np.argmax(outputs, axis=1)\n",
    "cf_mat = confusion_matrix(pred, gt_labels).astype(float)\n",
    "\n",
    "sns.heatmap(cf_mat, annot=True, xticklabels = ['box', 'clap', 'go', 'jog', 'run', 'walk', 'wave'], yticklabels = ['box', 'clap', 'go', 'jog', 'run', 'walk', 'wave'])"
   ]
  }
 ],
 "metadata": {
  "kernelspec": {
   "display_name": "Python 3",
   "language": "python",
   "name": "python3"
  },
  "language_info": {
   "codemirror_mode": {
    "name": "ipython",
    "version": 3
   },
   "file_extension": ".py",
   "mimetype": "text/x-python",
   "name": "python",
   "nbconvert_exporter": "python",
   "pygments_lexer": "ipython3",
   "version": "3.7.10"
  }
 },
 "nbformat": 4,
 "nbformat_minor": 5
}
