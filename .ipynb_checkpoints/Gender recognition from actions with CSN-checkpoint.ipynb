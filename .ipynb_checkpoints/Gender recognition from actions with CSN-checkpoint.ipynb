{
 "cells": [
  {
   "cell_type": "markdown",
   "id": "7e05164d-f5e3-4b27-90d6-3c8ac8333984",
   "metadata": {},
   "source": [
    "# Gender recognition from actions with CSN"
   ]
  },
  {
   "cell_type": "code",
   "execution_count": 1,
   "id": "c387a898-e2c2-4f9a-89c5-e5880b99cdb3",
   "metadata": {
    "colab": {
     "base_uri": "https://localhost:8080/"
    },
    "id": "Bf8PpPXtVvmg",
    "outputId": "2c685a33-474b-4e71-8f98-c2533c66095e",
    "tags": []
   },
   "outputs": [
    {
     "name": "stdout",
     "output_type": "stream",
     "text": [
      "nvcc: NVIDIA (R) Cuda compiler driver\n",
      "Copyright (c) 2005-2019 NVIDIA Corporation\n",
      "Built on Sun_Jul_28_19:07:16_PDT_2019\n",
      "Cuda compilation tools, release 10.1, V10.1.243\n",
      "gcc (Ubuntu 8.4.0-3ubuntu2) 8.4.0\n",
      "Copyright (C) 2018 Free Software Foundation, Inc.\n",
      "This is free software; see the source for copying conditions.  There is NO\n",
      "warranty; not even for MERCHANTABILITY or FITNESS FOR A PARTICULAR PURPOSE.\n",
      "\n"
     ]
    }
   ],
   "source": [
    "# Check nvcc version\n",
    "!nvcc -V\n",
    "# Check GCC version\n",
    "!gcc --version"
   ]
  },
  {
   "cell_type": "code",
   "execution_count": 2,
   "id": "42fcd6f9-e94e-4059-9bbd-a3c34e879624",
   "metadata": {
    "colab": {
     "base_uri": "https://localhost:8080/"
    },
    "id": "5PAJ4ArzV5Ry",
    "outputId": "e48dbf61-fae0-431c-e964-04c7caaee4bc",
    "tags": []
   },
   "outputs": [],
   "source": [
    "# Install some optional requirements\n",
    "# !pip install -r requirements/optional.txt"
   ]
  },
  {
   "cell_type": "code",
   "execution_count": 3,
   "id": "88f32778-1d0a-4df2-839d-140081efb6e4",
   "metadata": {
    "colab": {
     "base_uri": "https://localhost:8080/"
    },
    "id": "No_zZAFpWC-a",
    "outputId": "1d425eea-d44e-434a-991c-01eb15abaab2",
    "scrolled": true,
    "tags": []
   },
   "outputs": [
    {
     "name": "stdout",
     "output_type": "stream",
     "text": [
      "1.9.0 True\n",
      "0.16.0\n",
      "10.2\n",
      "GCC 7.3\n"
     ]
    }
   ],
   "source": [
    "# Check Pytorch installation\n",
    "import torch, torchvision\n",
    "print(torch.__version__, torch.cuda.is_available())\n",
    "\n",
    "# Check MMAction2 installation\n",
    "import mmaction\n",
    "print(mmaction.__version__)\n",
    "\n",
    "# Check MMCV installation\n",
    "from mmcv.ops import get_compiling_cuda_version, get_compiler_version\n",
    "print(get_compiling_cuda_version())\n",
    "print(get_compiler_version())\n",
    "\n",
    "import sys\n",
    "# sys.path.append('/home/actrec/.local/lib/python3.6/site-packages/decord-0.5.3-py3.6-linux-x86_64.egg')\n",
    "# import decord\n",
    "import pickle"
   ]
  },
  {
   "cell_type": "code",
   "execution_count": 4,
   "id": "db0a4fa5-0d5b-4420-8a9f-6309f5c90766",
   "metadata": {},
   "outputs": [
    {
     "name": "stdout",
     "output_type": "stream",
     "text": [
      "/home/robt427nv/childact\n"
     ]
    }
   ],
   "source": [
    "cd /home/robt427nv/childact/"
   ]
  },
  {
   "cell_type": "code",
   "execution_count": 8,
   "id": "71d25ae8-362a-446e-aaeb-f16769a52115",
   "metadata": {},
   "outputs": [
    {
     "data": {
      "text/plain": [
       "'/home/robt427nv/childact'"
      ]
     },
     "execution_count": 8,
     "metadata": {},
     "output_type": "execute_result"
    }
   ],
   "source": [
    "pwd"
   ]
  },
  {
   "cell_type": "code",
   "execution_count": 11,
   "id": "b1d82e38-156e-4947-be2e-8f7d448387b4",
   "metadata": {},
   "outputs": [
    {
     "name": "stdout",
     "output_type": "stream",
     "text": [
      " \u001b[0m\u001b[01;34mage-gender-3split-rgb-frames\u001b[0m/\n",
      " \u001b[01;34mage-gender-3split-vids\u001b[0m/\n",
      " \u001b[01;34mcheckpoints\u001b[0m/\n",
      " ChildAct_age_gender.csv\n",
      " \u001b[34;42mchildact_videos_nosplit\u001b[0m/\n",
      " \u001b[01;34mmmaction2\u001b[0m/\n",
      " \u001b[01;32mmy-mmaction.ipynb\u001b[0m*\n",
      "\u001b[01;32m'Split by Folders and Annotation Files creation.ipynb'\u001b[0m*\n"
     ]
    }
   ],
   "source": [
    "ls"
   ]
  },
  {
   "cell_type": "markdown",
   "id": "09af24c9-89bf-4e69-88e0-334d26735a45",
   "metadata": {
    "heading_collapsed": "true",
    "tags": []
   },
   "source": [
    "# CSN gender "
   ]
  },
  {
   "cell_type": "code",
   "execution_count": 10,
   "id": "027528db-246f-417a-b543-9281b0ce7f16",
   "metadata": {
    "colab": {
     "base_uri": "https://localhost:8080/"
    },
    "id": "64CW6d_AaT-Q",
    "outputId": "3b284fd8-4ee7-4a34-90d7-5023cd123a04",
    "tags": []
   },
   "outputs": [
    {
     "name": "stdout",
     "output_type": "stream",
     "text": [
      "--2021-07-21 17:39:20--  https://download.openmmlab.com/mmaction/recognition/csn/ircsn_ig65m_pretrained_bnfrozen_r152_32x2x1_58e_kinetics400_rgb/ircsn_ig65m_pretrained_bnfrozen_r152_32x2x1_58e_kinetics400_rgb_20200812-9037a758.pth\n",
      "Resolving download.openmmlab.com (download.openmmlab.com)... 47.75.20.25\n",
      "Connecting to download.openmmlab.com (download.openmmlab.com)|47.75.20.25|:443... connected.\n",
      "HTTP request sent, awaiting response... 200 OK\n",
      "Length: 119580180 (114M) [application/octet-stream]\n",
      "Saving to: ‘checkpoints/ircsn_ig65m_pretrained_bnfrozen_r152_32x2x1_58e_kinetics400_rgb_20200812-9037a758.pth’\n",
      "\n",
      "checkpoints/ircsn_i 100%[===================>] 114,04M  6,78MB/s    in 17s     \n",
      "\n",
      "2021-07-21 17:39:39 (6,87 MB/s) - ‘checkpoints/ircsn_ig65m_pretrained_bnfrozen_r152_32x2x1_58e_kinetics400_rgb_20200812-9037a758.pth’ saved [119580180/119580180]\n",
      "\n"
     ]
    }
   ],
   "source": [
    "!mkdir checkpoints\n",
    "!wget -c https://download.openmmlab.com/mmaction/recognition/csn/ircsn_ig65m_pretrained_bnfrozen_r152_32x2x1_58e_kinetics400_rgb/ircsn_ig65m_pretrained_bnfrozen_r152_32x2x1_58e_kinetics400_rgb_20200812-9037a758.pth \\\n",
    "      -O checkpoints/ircsn_ig65m_pretrained_bnfrozen_r152_32x2x1_58e_kinetics400_rgb_20200812-9037a758.pth"
   ]
  },
  {
   "cell_type": "code",
   "execution_count": 27,
   "id": "91b025c7-4c84-456b-864a-6613a3cd53f1",
   "metadata": {
    "id": "LjCcmCKOjktc",
    "tags": []
   },
   "outputs": [],
   "source": [
    "from mmcv import Config\n",
    "cfg = Config.fromfile('mmaction2/configs/recognition/csn/ircsn_ig65m_pretrained_bnfrozen_r152_32x2x1_58e_kinetics400_rgb.py')"
   ]
  },
  {
   "cell_type": "code",
   "execution_count": 28,
   "id": "55c42484-9547-4010-8dd9-d848414e3ad5",
   "metadata": {
    "colab": {
     "base_uri": "https://localhost:8080/"
    },
    "collapsed": true,
    "id": "tlhu9byjjt-K",
    "jupyter": {
     "outputs_hidden": true,
     "source_hidden": true
    },
    "outputId": "13d1bb01-f351-48c0-9efb-0bdf2c125d29",
    "tags": []
   },
   "outputs": [
    {
     "name": "stdout",
     "output_type": "stream",
     "text": [
      "Config:\n",
      "model = dict(\n",
      "    type='Recognizer3D',\n",
      "    backbone=dict(\n",
      "        type='ResNet3dCSN',\n",
      "        pretrained2d=False,\n",
      "        pretrained=\n",
      "        'https://download.openmmlab.com/mmaction/recognition/csn/ircsn_from_scratch_r152_ig65m_20200807-771c4135.pth',\n",
      "        depth=152,\n",
      "        with_pool2=False,\n",
      "        bottleneck_mode='ir',\n",
      "        norm_eval=True,\n",
      "        zero_init_residual=False,\n",
      "        bn_frozen=True),\n",
      "    cls_head=dict(\n",
      "        type='I3DHead',\n",
      "        num_classes=2,\n",
      "        in_channels=2048,\n",
      "        spatial_type='avg',\n",
      "        dropout_ratio=0.5,\n",
      "        init_std=0.01),\n",
      "    train_cfg=None,\n",
      "    test_cfg=dict(average_clips='prob'))\n",
      "checkpoint_config = dict(interval=20)\n",
      "log_config = dict(interval=100, hooks=[dict(type='TextLoggerHook')])\n",
      "dist_params = dict(backend='nccl')\n",
      "log_level = 'INFO'\n",
      "load_from = 'checkpoints/ircsn_ig65m_pretrained_bnfrozen_r152_32x2x1_58e_kinetics400_rgb_20200812-9037a758.pth'\n",
      "resume_from = None\n",
      "workflow = [('train', 1)]\n",
      "dataset_type = 'RawframeDataset'\n",
      "data_root = 'age-gender-3split-rgb-frames/'\n",
      "data_root_val = 'age-gender-3split-rgb-frames/val/'\n",
      "ann_file_train = 'age-gender-3split-rgb-frames/childact_train_rgb320_gender.txt'\n",
      "ann_file_val = 'age-gender-3split-rgb-frames/childact_val_rgb320_gender.txt'\n",
      "ann_file_test = 'age-gender-3split-rgb-frames/childact_test_rgb320_gender.txt'\n",
      "img_norm_cfg = dict(\n",
      "    mean=[123.675, 116.28, 103.53], std=[58.395, 57.12, 57.375], to_bgr=False)\n",
      "train_pipeline = [\n",
      "    dict(type='SampleFrames', clip_len=32, frame_interval=2, num_clips=1),\n",
      "    dict(type='RawFrameDecode'),\n",
      "    dict(type='Resize', scale=(-1, 256)),\n",
      "    dict(type='RandomResizedCrop'),\n",
      "    dict(type='Resize', scale=(224, 224), keep_ratio=False),\n",
      "    dict(type='Flip', flip_ratio=0.5),\n",
      "    dict(\n",
      "        type='Normalize',\n",
      "        mean=[123.675, 116.28, 103.53],\n",
      "        std=[58.395, 57.12, 57.375],\n",
      "        to_bgr=False),\n",
      "    dict(type='FormatShape', input_format='NCTHW'),\n",
      "    dict(type='Collect', keys=['imgs', 'label'], meta_keys=[]),\n",
      "    dict(type='ToTensor', keys=['imgs', 'label'])\n",
      "]\n",
      "val_pipeline = [\n",
      "    dict(\n",
      "        type='SampleFrames',\n",
      "        clip_len=32,\n",
      "        frame_interval=2,\n",
      "        num_clips=1,\n",
      "        test_mode=True),\n",
      "    dict(type='RawFrameDecode'),\n",
      "    dict(type='Resize', scale=(-1, 256)),\n",
      "    dict(type='CenterCrop', crop_size=224),\n",
      "    dict(\n",
      "        type='Normalize',\n",
      "        mean=[123.675, 116.28, 103.53],\n",
      "        std=[58.395, 57.12, 57.375],\n",
      "        to_bgr=False),\n",
      "    dict(type='FormatShape', input_format='NCTHW'),\n",
      "    dict(type='Collect', keys=['imgs', 'label'], meta_keys=[]),\n",
      "    dict(type='ToTensor', keys=['imgs'])\n",
      "]\n",
      "test_pipeline = [\n",
      "    dict(\n",
      "        type='SampleFrames',\n",
      "        clip_len=32,\n",
      "        frame_interval=2,\n",
      "        num_clips=10,\n",
      "        test_mode=True),\n",
      "    dict(type='RawFrameDecode'),\n",
      "    dict(type='Resize', scale=(-1, 256)),\n",
      "    dict(type='ThreeCrop', crop_size=256),\n",
      "    dict(\n",
      "        type='Normalize',\n",
      "        mean=[123.675, 116.28, 103.53],\n",
      "        std=[58.395, 57.12, 57.375],\n",
      "        to_bgr=False),\n",
      "    dict(type='FormatShape', input_format='NCTHW'),\n",
      "    dict(type='Collect', keys=['imgs', 'label'], meta_keys=[]),\n",
      "    dict(type='ToTensor', keys=['imgs'])\n",
      "]\n",
      "data = dict(\n",
      "    videos_per_gpu=8,\n",
      "    workers_per_gpu=4,\n",
      "    train=dict(\n",
      "        type='RawframeDataset',\n",
      "        ann_file=\n",
      "        'age-gender-3split-rgb-frames/childact_train_rgb320_gender.txt',\n",
      "        data_prefix='age-gender-3split-rgb-frames/train/',\n",
      "        pipeline=[\n",
      "            dict(\n",
      "                type='SampleFrames',\n",
      "                clip_len=32,\n",
      "                frame_interval=2,\n",
      "                num_clips=1),\n",
      "            dict(type='RawFrameDecode'),\n",
      "            dict(type='Resize', scale=(-1, 256)),\n",
      "            dict(type='RandomResizedCrop'),\n",
      "            dict(type='Resize', scale=(224, 224), keep_ratio=False),\n",
      "            dict(type='Flip', flip_ratio=0.5),\n",
      "            dict(\n",
      "                type='Normalize',\n",
      "                mean=[123.675, 116.28, 103.53],\n",
      "                std=[58.395, 57.12, 57.375],\n",
      "                to_bgr=False),\n",
      "            dict(type='FormatShape', input_format='NCTHW'),\n",
      "            dict(type='Collect', keys=['imgs', 'label'], meta_keys=[]),\n",
      "            dict(type='ToTensor', keys=['imgs', 'label'])\n",
      "        ],\n",
      "        filename_tmpl='{:03}.jpeg'),\n",
      "    val=dict(\n",
      "        type='RawframeDataset',\n",
      "        ann_file='age-gender-3split-rgb-frames/childact_val_rgb320_gender.txt',\n",
      "        data_prefix='age-gender-3split-rgb-frames/val/',\n",
      "        pipeline=[\n",
      "            dict(\n",
      "                type='SampleFrames',\n",
      "                clip_len=32,\n",
      "                frame_interval=2,\n",
      "                num_clips=1,\n",
      "                test_mode=True),\n",
      "            dict(type='RawFrameDecode'),\n",
      "            dict(type='Resize', scale=(-1, 256)),\n",
      "            dict(type='CenterCrop', crop_size=224),\n",
      "            dict(\n",
      "                type='Normalize',\n",
      "                mean=[123.675, 116.28, 103.53],\n",
      "                std=[58.395, 57.12, 57.375],\n",
      "                to_bgr=False),\n",
      "            dict(type='FormatShape', input_format='NCTHW'),\n",
      "            dict(type='Collect', keys=['imgs', 'label'], meta_keys=[]),\n",
      "            dict(type='ToTensor', keys=['imgs'])\n",
      "        ],\n",
      "        filename_tmpl='{:03}.jpeg'),\n",
      "    test=dict(\n",
      "        type='RawframeDataset',\n",
      "        ann_file='age-gender-3split-rgb-frames/childact_test_rgb320_gender.txt',\n",
      "        data_prefix='age-gender-3split-rgb-frames/test/',\n",
      "        pipeline=[\n",
      "            dict(\n",
      "                type='SampleFrames',\n",
      "                clip_len=32,\n",
      "                frame_interval=2,\n",
      "                num_clips=10,\n",
      "                test_mode=True),\n",
      "            dict(type='RawFrameDecode'),\n",
      "            dict(type='Resize', scale=(-1, 256)),\n",
      "            dict(type='ThreeCrop', crop_size=256),\n",
      "            dict(\n",
      "                type='Normalize',\n",
      "                mean=[123.675, 116.28, 103.53],\n",
      "                std=[58.395, 57.12, 57.375],\n",
      "                to_bgr=False),\n",
      "            dict(type='FormatShape', input_format='NCTHW'),\n",
      "            dict(type='Collect', keys=['imgs', 'label'], meta_keys=[]),\n",
      "            dict(type='ToTensor', keys=['imgs'])\n",
      "        ],\n",
      "        filename_tmpl='{:03}.jpeg'))\n",
      "evaluation = dict(\n",
      "    interval=5, metrics=['top_k_accuracy', 'mean_class_accuracy'])\n",
      "optimizer = dict(type='SGD', lr=0.000125, momentum=0.9, weight_decay=0.0001)\n",
      "optimizer_config = dict(grad_clip=dict(max_norm=40, norm_type=2))\n",
      "lr_config = dict(\n",
      "    policy='step',\n",
      "    step=[32, 48],\n",
      "    warmup='linear',\n",
      "    warmup_ratio=0.1,\n",
      "    warmup_by_epoch=True,\n",
      "    warmup_iters=16)\n",
      "total_epochs = 50\n",
      "work_dir = './childact-checkpoints/CSN-gender'\n",
      "find_unused_parameters = True\n",
      "omnisource = False\n",
      "seed = 42\n",
      "gpu_ids = range(0, 1)\n",
      "output_config = dict(out='./childact-checkpoints/CSN-gender/results.json')\n",
      "\n"
     ]
    }
   ],
   "source": [
    "from mmcv.runner import set_random_seed\n",
    "\n",
    "# Modify dataset type and path\n",
    "# cfg.dataset_type = 'VideoDataset'\n",
    "cfg.data_root = 'age-gender-3split-rgb-frames/'\n",
    "cfg.data_root_val = 'age-gender-3split-rgb-frames/val/'\n",
    "cfg.ann_file_train = 'age-gender-3split-rgb-frames/childact_train_rgb320_gender.txt'\n",
    "cfg.ann_file_val = 'age-gender-3split-rgb-frames/childact_val_rgb320_gender.txt'\n",
    "cfg.ann_file_test = 'age-gender-3split-rgb-frames/childact_test_rgb320_gender.txt'\n",
    "\n",
    "# cfg.data.test.type = 'VideoDataset'\n",
    "cfg.data.test.ann_file = 'age-gender-3split-rgb-frames/childact_test_rgb320_gender.txt'\n",
    "cfg.data.test.data_prefix = 'age-gender-3split-rgb-frames/test/'\n",
    "\n",
    "# cfg.data.train.type = 'VideoDataset'\n",
    "cfg.data.train.ann_file = 'age-gender-3split-rgb-frames/childact_train_rgb320_gender.txt'\n",
    "cfg.data.train.data_prefix = 'age-gender-3split-rgb-frames/train/'\n",
    "\n",
    "# cfg.data.val.type = 'VideoDataset'\n",
    "cfg.data.val.ann_file = 'age-gender-3split-rgb-frames/childact_val_rgb320_gender.txt'\n",
    "cfg.data.val.data_prefix = 'age-gender-3split-rgb-frames/val/'\n",
    "\n",
    "# cfg.data.test.modality = 'Flow'\n",
    "# cfg.data.val.modality = 'Flow'\n",
    "# cfg.data.train.modality = 'Flow'\n",
    "\n",
    "# cfg.data.train.start_index = 0\n",
    "# cfg.data.test.start_index = 0\n",
    "# cfg.data.val.start_index = 0\n",
    "\n",
    "cfg.data.test.filename_tmpl = '{:03}.jpeg'\n",
    "cfg.data.train.filename_tmpl = '{:03}.jpeg'\n",
    "cfg.data.val.filename_tmpl = '{:03}.jpeg'\n",
    "# The flag is used to determine whether it is omnisource training\n",
    "cfg.setdefault('omnisource', False)\n",
    "# Modify num classes of the model in cls_head\n",
    "cfg.model.cls_head.num_classes = 2\n",
    "# We can use the pre-trained TSN model\n",
    "cfg.load_from = 'checkpoints/ircsn_ig65m_pretrained_bnfrozen_r152_32x2x1_58e_kinetics400_rgb_20200812-9037a758.pth'\n",
    "# cfg.resume_from = './childact-mm/latest.pth'\n",
    "\n",
    "# Set up working dir to save files and logs.\n",
    "cfg.work_dir = './childact-checkpoints/CSN-gender'\n",
    "\n",
    "# cfg.img_norm_cfg = dict(mean=[128, 128], std=[128, 128])\n",
    "\n",
    "\n",
    "# cfg.val_pipeline = [\n",
    "#     dict(\n",
    "#         type='SampleFrames',\n",
    "#         clip_len=32,\n",
    "#         frame_interval=2,\n",
    "#         num_clips=1,\n",
    "#         test_mode=True),\n",
    "#     dict(type='RawFrameDecode'),\n",
    "#     dict(type='Resize', scale=(-1, 256)),\n",
    "#     dict(type='CenterCrop', crop_size=224),\n",
    "# #     dict(type='Resize', scale=(224, 224), keep_ratio=False),\n",
    "# #     dict(type='Flip', flip_ratio=0.5)\n",
    "#     dict(type='Normalize', mean=[128, 128], std=[128, 128]),\n",
    "#     dict(type='FormatShape', input_format='NCTHW'),\n",
    "#     dict(type='Collect', keys=['imgs', 'label'], meta_keys=[]),\n",
    "#     dict(type='ToTensor', keys=['imgs'])\n",
    "# ]\n",
    "# cfg.test_pipeline = [\n",
    "#     dict(type='SampleFrames', clip_len=32, frame_interval=2, num_clips=10, test_mode=True),\n",
    "#     dict(type='RawFrameDecode'),\n",
    "#     dict(type='Resize', scale=(-1, 256)),\n",
    "#     dict(type='CenterCrop', crop_size=224),\n",
    "#     dict(type='Normalize', mean=[128, 128], std=[128, 128]),\n",
    "#     dict(type='FormatShape', input_format='NCTHW'),\n",
    "#     dict(type='Collect', keys=['imgs', 'label'], meta_keys=[]),\n",
    "#     dict(type='ToTensor', keys=['imgs'])\n",
    "# ]\n",
    "\n",
    "\n",
    "\n",
    "# cfg.train_pipeline = [\n",
    "#     dict(type='SampleFrames', clip_len=32, frame_interval=2, num_clips=1),\n",
    "#     dict(type='RawFrameDecode'),\n",
    "#     dict(type='Resize', scale=(-1, 256)),\n",
    "# #     dict(type='RandomCrop', size=224),\n",
    "#     dict(type='RandomResizedCrop'),\n",
    "#     dict(type='Resize', scale=(224, 224), keep_ratio=False),\n",
    "# #     dict(type='Flip', flip_ratio=0.5),\n",
    "#     dict(type='Normalize', mean=[128, 128], std=[128, 128]),\n",
    "#     dict(type='FormatShape', input_format='NCTHW'),\n",
    "#     dict(type='Collect', keys=['imgs', 'label'], meta_keys=[]),\n",
    "#     dict(type='ToTensor', keys=['imgs', 'label'])\n",
    "# ]\n",
    "\n",
    "# cfg.data.train.pipeline = cfg.train_pipeline\n",
    "# cfg.data.val.pipeline = cfg.val_pipeline\n",
    "# cfg.data.test.pipeline = cfg.test_pipeline\n",
    "\n",
    "\n",
    "# The original learning rate (LR) is set for 8-GPU training.\n",
    "# We divide it by 8 since we only use one GPU.\n",
    "# cfg.data.videos_per_gpu = 24\n",
    "# cfg.optimizer.type = 'Adam'\n",
    "# cfg.optimizer.weight_decay=0.0001\n",
    "\n",
    "# cfg.optimizer_config.grad_clip=None\n",
    "# cfg.optimizer.lr = 0.01\n",
    "\n",
    "# cfg.lr_config = dict(\n",
    "#     policy='cyclic',\n",
    "#     target_ratio=(10, 1e-5),\n",
    "#     cyclic_times=1,\n",
    "#     step_ratio_up=0.4,\n",
    "# )\n",
    "\n",
    "cfg.total_epochs = 50\n",
    "\n",
    "# cfg.momentum_config = dict(\n",
    "#     policy='cyclic',\n",
    "#     target_ratio=(0.85 / 0.95, 1),\n",
    "#     cyclic_times=1,\n",
    "#     step_ratio_up=0.4,\n",
    "# )\n",
    "\n",
    "# We can set the checkpoint saving interval to reduce the storage cost\n",
    "cfg.checkpoint_config.interval = 20\n",
    "# We can set the log print interval to reduce the the times of printing log\n",
    "cfg.log_config.interval = 100\n",
    "\n",
    "# Set seed thus the results are more reproducible\n",
    "cfg.seed = 42\n",
    "set_random_seed(42, deterministic=False)\n",
    "cfg.gpu_ids = range(1)\n",
    "\n",
    "cfg.data.videos_per_gpu=8\n",
    "\n",
    "# cfg.model.backbone.in_channels = 2\n",
    "\n",
    "cfg.output_config = dict(out=f'{cfg.work_dir}/results.json')\n",
    "# We can initialize the logger for training and have a look\n",
    "# at the final config used for training\n",
    "# del cfg.optimizer['momentum']\n",
    "print(f'Config:\\n{cfg.pretty_text}')"
   ]
  },
  {
   "cell_type": "raw",
   "id": "c86064bf-1e1a-4da9-a6f0-ebd7238fffa3",
   "metadata": {
    "colab": {
     "base_uri": "https://localhost:8080/"
    },
    "id": "dDBWkdDRk6oz",
    "jupyter": {
     "outputs_hidden": true
    },
    "outputId": "85a52ef3-7b5c-4c52-8fef-00322a8c65e6",
    "tags": []
   },
   "source": [
    "import os.path as osp\n",
    "\n",
    "from mmaction.datasets import build_dataset\n",
    "from mmaction.models import build_model\n",
    "from mmaction.apis import train_model\n",
    "\n",
    "import mmcv\n",
    "\n",
    "# Build the dataset\n",
    "datasets = [build_dataset(cfg.data.train)]\n",
    "\n",
    "# Build the recognizer\n",
    "model = build_model(cfg.model, train_cfg=cfg.get('train_cfg'), test_cfg=cfg.get('test_cfg'))\n",
    "# model = build_model(cfg.model, train_cfg=cfg.get('train_cfg'), test_cfg=cfg.get('test_cfg'))\n",
    "# model = build_detector(cfg.model, train_cfg=cfg.get('train_cfg'), test_cfg=cfg.get('test_cfg'))\n",
    "# model = build_detector(cfg.model, train_cfg=cfg.train_cfg, test_cfg=cfg.test_cfg)\n",
    "\n",
    "# Create work_dir\n",
    "mmcv.mkdir_or_exist(osp.abspath(cfg.work_dir))\n",
    "train_model(model, datasets, cfg, distributed=False, validate=True)"
   ]
  },
  {
   "cell_type": "code",
   "execution_count": 30,
   "id": "1d6e6a38-2cc6-4eb7-b030-4ff874c7b000",
   "metadata": {},
   "outputs": [],
   "source": [
    "import pickle\n",
    "\n",
    "with open(f\"{cfg.work_dir}/model50e_ig65m\", 'wb') as f:\n",
    "    pickle.dump(model, f)"
   ]
  },
  {
   "cell_type": "code",
   "execution_count": null,
   "id": "979e77b2-4aef-4fe7-a842-7a26fe9ec792",
   "metadata": {
    "tags": []
   },
   "outputs": [],
   "source": [
    "# import os.path as osp\n",
    "\n",
    "# from mmaction.datasets import build_dataset\n",
    "# from mmaction.models import build_model\n",
    "# from mmaction.apis import train_model\n",
    "# import pickle\n",
    "# import mmcv\n",
    "# # Build the dataset\n",
    "# datasets = [build_dataset(cfg.data.train)]\n",
    "\n",
    "# # Build the recognizer\n",
    "# model = build_model(cfg.model, train_cfg=cfg.get('train_cfg'), test_cfg=cfg.get('test_cfg'))\n",
    "\n",
    "# model = pickle.load(open(f\"{cfg.work_dir}/model50e\", 'rb'))"
   ]
  },
  {
   "cell_type": "code",
   "execution_count": 31,
   "id": "176ca9dc-6dea-4e53-b418-603248e4d725",
   "metadata": {
    "colab": {
     "base_uri": "https://localhost:8080/"
    },
    "id": "eyY3hCMwyTct",
    "outputId": "200e37c7-0da4-421f-98da-41418c3110ca",
    "tags": []
   },
   "outputs": [
    {
     "name": "stdout",
     "output_type": "stream",
     "text": [
      "[>>>>>>>>>>>>>>>>>>>>>>>>>>>>>>>>>>>>>>>>>>>>>>>>>>] 119/119, 0.2 task/s, elapsed: 591s, ETA:     0s\n",
      "Evaluating top_k_accuracy ...\n",
      "\n",
      "top1_acc\t0.9580\n",
      "top5_acc\t1.0000\n",
      "\n",
      "Evaluating mean_class_accuracy ...\n",
      "\n",
      "mean_acc\t0.9608\n",
      "top1_acc: 0.9580\n",
      "top5_acc: 1.0000\n",
      "mean_class_accuracy: 0.9608\n"
     ]
    }
   ],
   "source": [
    "from mmaction.apis import single_gpu_test\n",
    "from mmaction.datasets import build_dataloader\n",
    "from mmcv.parallel import MMDataParallel\n",
    "# from mmaction.models import build_model\n",
    "# from mmaction.datasets import build_dataset\n",
    "\n",
    "# model = build_model(cfg.model, train_cfg=cfg.get('train_cfg'), test_cfg=cfg.get('test_cfg'))\n",
    "# Build a test dataloader\n",
    "dataset = build_dataset(cfg.data.test, dict(test_mode=True))\n",
    "data_loader = build_dataloader(\n",
    "        dataset,\n",
    "        videos_per_gpu=1,\n",
    "        workers_per_gpu=1,\n",
    "        dist=False,\n",
    "        shuffle=False)\n",
    "model = MMDataParallel(model, device_ids=[0])\n",
    "outputs = single_gpu_test(model, data_loader)\n",
    "\n",
    "eval_config = cfg.evaluation\n",
    "eval_config.pop('interval')\n",
    "eval_res = dataset.evaluate(outputs, **eval_config)\n",
    "for name, val in eval_res.items():\n",
    "    print(f'{name}: {val:.04f}')\n",
    "    \n",
    "output_config = cfg.output_config\n",
    "dataset.dump_results(outputs, **output_config)"
   ]
  },
  {
   "cell_type": "code",
   "execution_count": 33,
   "id": "80ce555a-19a6-46cc-ba4b-d51ba1c6bb02",
   "metadata": {
    "tags": []
   },
   "outputs": [
    {
     "name": "stderr",
     "output_type": "stream",
     "text": [
      "Matplotlib is building the font cache; this may take a moment.\n"
     ]
    },
    {
     "data": {
      "text/plain": [
       "<AxesSubplot:>"
      ]
     },
     "execution_count": 33,
     "metadata": {},
     "output_type": "execute_result"
    },
    {
     "data": {
      "image/png": "[encoded data removed]",
      "text/plain": [
       "<Figure size 432x288 with 2 Axes>"
      ]
     },
     "metadata": {
      "needs_background": "light"
     },
     "output_type": "display_data"
    }
   ],
   "source": [
    "import seaborn as sns\n",
    "import numpy as np\n",
    "from mmaction.core import confusion_matrix \n",
    "\n",
    "gt_labels = [ann['label'] for ann in dataset.load_annotations()]\n",
    "pred = np.argmax(outputs, axis=1)\n",
    "cf_mat = confusion_matrix(pred, gt_labels).astype(float)\n",
    "\n",
    "sns.heatmap(cf_mat, annot=True, xticklabels = ['male', 'female'], yticklabels = ['male', 'female'])"
   ]
  },
  {
   "cell_type": "markdown",
   "id": "a7c09085-a907-4a74-9cf6-b69e7be4172c",
   "metadata": {
    "heading_collapsed": "true",
    "tags": []
   },
   "source": [
    "# CSN age "
   ]
  },
  {
   "cell_type": "code",
   "execution_count": 10,
   "id": "f26de9e1-1bc6-4935-81e7-6e0b8763ac22",
   "metadata": {
    "colab": {
     "base_uri": "https://localhost:8080/"
    },
    "id": "64CW6d_AaT-Q",
    "outputId": "3b284fd8-4ee7-4a34-90d7-5023cd123a04",
    "tags": []
   },
   "outputs": [
    {
     "name": "stdout",
     "output_type": "stream",
     "text": [
      "--2021-07-21 17:39:20--  https://download.openmmlab.com/mmaction/recognition/csn/ircsn_ig65m_pretrained_bnfrozen_r152_32x2x1_58e_kinetics400_rgb/ircsn_ig65m_pretrained_bnfrozen_r152_32x2x1_58e_kinetics400_rgb_20200812-9037a758.pth\n",
      "Resolving download.openmmlab.com (download.openmmlab.com)... 47.75.20.25\n",
      "Connecting to download.openmmlab.com (download.openmmlab.com)|47.75.20.25|:443... connected.\n",
      "HTTP request sent, awaiting response... 200 OK\n",
      "Length: 119580180 (114M) [application/octet-stream]\n",
      "Saving to: ‘checkpoints/ircsn_ig65m_pretrained_bnfrozen_r152_32x2x1_58e_kinetics400_rgb_20200812-9037a758.pth’\n",
      "\n",
      "checkpoints/ircsn_i 100%[===================>] 114,04M  6,78MB/s    in 17s     \n",
      "\n",
      "2021-07-21 17:39:39 (6,87 MB/s) - ‘checkpoints/ircsn_ig65m_pretrained_bnfrozen_r152_32x2x1_58e_kinetics400_rgb_20200812-9037a758.pth’ saved [119580180/119580180]\n",
      "\n"
     ]
    }
   ],
   "source": [
    "!mkdir checkpoints\n",
    "!wget -c https://download.openmmlab.com/mmaction/recognition/csn/ircsn_ig65m_pretrained_bnfrozen_r152_32x2x1_58e_kinetics400_rgb/ircsn_ig65m_pretrained_bnfrozen_r152_32x2x1_58e_kinetics400_rgb_20200812-9037a758.pth \\\n",
    "      -O checkpoints/ircsn_ig65m_pretrained_bnfrozen_r152_32x2x1_58e_kinetics400_rgb_20200812-9037a758.pth"
   ]
  },
  {
   "cell_type": "code",
   "execution_count": 3,
   "id": "c7aa1f91-3bf8-447b-afaf-ac2fc05de585",
   "metadata": {
    "id": "LjCcmCKOjktc",
    "tags": []
   },
   "outputs": [],
   "source": [
    "from mmcv import Config\n",
    "cfg = Config.fromfile('mmaction2/configs/recognition/csn/ircsn_ig65m_pretrained_bnfrozen_r152_32x2x1_58e_kinetics400_rgb.py')"
   ]
  },
  {
   "cell_type": "code",
   "execution_count": 4,
   "id": "790d890c-99f2-4b3d-8a3e-3951d8049065",
   "metadata": {
    "colab": {
     "base_uri": "https://localhost:8080/"
    },
    "collapsed": true,
    "id": "tlhu9byjjt-K",
    "jupyter": {
     "outputs_hidden": true,
     "source_hidden": true
    },
    "outputId": "13d1bb01-f351-48c0-9efb-0bdf2c125d29",
    "tags": []
   },
   "outputs": [
    {
     "name": "stdout",
     "output_type": "stream",
     "text": [
      "Config:\n",
      "model = dict(\n",
      "    type='Recognizer3D',\n",
      "    backbone=dict(\n",
      "        type='ResNet3dCSN',\n",
      "        pretrained2d=False,\n",
      "        pretrained=\n",
      "        'https://download.openmmlab.com/mmaction/recognition/csn/ircsn_from_scratch_r152_ig65m_20200807-771c4135.pth',\n",
      "        depth=152,\n",
      "        with_pool2=False,\n",
      "        bottleneck_mode='ir',\n",
      "        norm_eval=True,\n",
      "        zero_init_residual=False,\n",
      "        bn_frozen=True),\n",
      "    cls_head=dict(\n",
      "        type='I3DHead',\n",
      "        num_classes=6,\n",
      "        in_channels=2048,\n",
      "        spatial_type='avg',\n",
      "        dropout_ratio=0.5,\n",
      "        init_std=0.01),\n",
      "    train_cfg=None,\n",
      "    test_cfg=dict(average_clips='prob'))\n",
      "checkpoint_config = dict(interval=20)\n",
      "log_config = dict(interval=100, hooks=[dict(type='TextLoggerHook')])\n",
      "dist_params = dict(backend='nccl')\n",
      "log_level = 'INFO'\n",
      "load_from = 'checkpoints/ircsn_ig65m_pretrained_bnfrozen_r152_32x2x1_58e_kinetics400_rgb_20200812-9037a758.pth'\n",
      "resume_from = None\n",
      "workflow = [('train', 1)]\n",
      "dataset_type = 'RawframeDataset'\n",
      "data_root = 'age-gender-3split-rgb-frames/'\n",
      "data_root_val = 'age-gender-3split-rgb-frames/val/'\n",
      "ann_file_train = 'age-gender-3split-rgb-frames/childact_train_rgb320_age.txt'\n",
      "ann_file_val = 'age-gender-3split-rgb-frames/childact_val_rgb320_age.txt'\n",
      "ann_file_test = 'age-gender-3split-rgb-frames/childact_test_rgb320_age.txt'\n",
      "img_norm_cfg = dict(\n",
      "    mean=[123.675, 116.28, 103.53], std=[58.395, 57.12, 57.375], to_bgr=False)\n",
      "train_pipeline = [\n",
      "    dict(type='SampleFrames', clip_len=32, frame_interval=2, num_clips=1),\n",
      "    dict(type='RawFrameDecode'),\n",
      "    dict(type='Resize', scale=(-1, 256)),\n",
      "    dict(type='RandomResizedCrop'),\n",
      "    dict(type='Resize', scale=(224, 224), keep_ratio=False),\n",
      "    dict(type='Flip', flip_ratio=0.5),\n",
      "    dict(\n",
      "        type='Normalize',\n",
      "        mean=[123.675, 116.28, 103.53],\n",
      "        std=[58.395, 57.12, 57.375],\n",
      "        to_bgr=False),\n",
      "    dict(type='FormatShape', input_format='NCTHW'),\n",
      "    dict(type='Collect', keys=['imgs', 'label'], meta_keys=[]),\n",
      "    dict(type='ToTensor', keys=['imgs', 'label'])\n",
      "]\n",
      "val_pipeline = [\n",
      "    dict(\n",
      "        type='SampleFrames',\n",
      "        clip_len=32,\n",
      "        frame_interval=2,\n",
      "        num_clips=1,\n",
      "        test_mode=True),\n",
      "    dict(type='RawFrameDecode'),\n",
      "    dict(type='Resize', scale=(-1, 256)),\n",
      "    dict(type='CenterCrop', crop_size=224),\n",
      "    dict(\n",
      "        type='Normalize',\n",
      "        mean=[123.675, 116.28, 103.53],\n",
      "        std=[58.395, 57.12, 57.375],\n",
      "        to_bgr=False),\n",
      "    dict(type='FormatShape', input_format='NCTHW'),\n",
      "    dict(type='Collect', keys=['imgs', 'label'], meta_keys=[]),\n",
      "    dict(type='ToTensor', keys=['imgs'])\n",
      "]\n",
      "test_pipeline = [\n",
      "    dict(\n",
      "        type='SampleFrames',\n",
      "        clip_len=32,\n",
      "        frame_interval=2,\n",
      "        num_clips=10,\n",
      "        test_mode=True),\n",
      "    dict(type='RawFrameDecode'),\n",
      "    dict(type='Resize', scale=(-1, 256)),\n",
      "    dict(type='ThreeCrop', crop_size=256),\n",
      "    dict(\n",
      "        type='Normalize',\n",
      "        mean=[123.675, 116.28, 103.53],\n",
      "        std=[58.395, 57.12, 57.375],\n",
      "        to_bgr=False),\n",
      "    dict(type='FormatShape', input_format='NCTHW'),\n",
      "    dict(type='Collect', keys=['imgs', 'label'], meta_keys=[]),\n",
      "    dict(type='ToTensor', keys=['imgs'])\n",
      "]\n",
      "data = dict(\n",
      "    videos_per_gpu=4,\n",
      "    workers_per_gpu=4,\n",
      "    train=dict(\n",
      "        type='RawframeDataset',\n",
      "        ann_file='age-gender-3split-rgb-frames/childact_train_rgb320_age.txt',\n",
      "        data_prefix='age-gender-3split-rgb-frames/train/',\n",
      "        pipeline=[\n",
      "            dict(\n",
      "                type='SampleFrames',\n",
      "                clip_len=32,\n",
      "                frame_interval=2,\n",
      "                num_clips=1),\n",
      "            dict(type='RawFrameDecode'),\n",
      "            dict(type='Resize', scale=(-1, 256)),\n",
      "            dict(type='RandomResizedCrop'),\n",
      "            dict(type='Resize', scale=(224, 224), keep_ratio=False),\n",
      "            dict(type='Flip', flip_ratio=0.5),\n",
      "            dict(\n",
      "                type='Normalize',\n",
      "                mean=[123.675, 116.28, 103.53],\n",
      "                std=[58.395, 57.12, 57.375],\n",
      "                to_bgr=False),\n",
      "            dict(type='FormatShape', input_format='NCTHW'),\n",
      "            dict(type='Collect', keys=['imgs', 'label'], meta_keys=[]),\n",
      "            dict(type='ToTensor', keys=['imgs', 'label'])\n",
      "        ],\n",
      "        filename_tmpl='{:03}.jpeg'),\n",
      "    val=dict(\n",
      "        type='RawframeDataset',\n",
      "        ann_file='age-gender-3split-rgb-frames/childact_val_rgb320_age.txt',\n",
      "        data_prefix='age-gender-3split-rgb-frames/val/',\n",
      "        pipeline=[\n",
      "            dict(\n",
      "                type='SampleFrames',\n",
      "                clip_len=32,\n",
      "                frame_interval=2,\n",
      "                num_clips=1,\n",
      "                test_mode=True),\n",
      "            dict(type='RawFrameDecode'),\n",
      "            dict(type='Resize', scale=(-1, 256)),\n",
      "            dict(type='CenterCrop', crop_size=224),\n",
      "            dict(\n",
      "                type='Normalize',\n",
      "                mean=[123.675, 116.28, 103.53],\n",
      "                std=[58.395, 57.12, 57.375],\n",
      "                to_bgr=False),\n",
      "            dict(type='FormatShape', input_format='NCTHW'),\n",
      "            dict(type='Collect', keys=['imgs', 'label'], meta_keys=[]),\n",
      "            dict(type='ToTensor', keys=['imgs'])\n",
      "        ],\n",
      "        filename_tmpl='{:03}.jpeg'),\n",
      "    test=dict(\n",
      "        type='RawframeDataset',\n",
      "        ann_file='age-gender-3split-rgb-frames/childact_test_rgb320_age.txt',\n",
      "        data_prefix='age-gender-3split-rgb-frames/test/',\n",
      "        pipeline=[\n",
      "            dict(\n",
      "                type='SampleFrames',\n",
      "                clip_len=32,\n",
      "                frame_interval=2,\n",
      "                num_clips=10,\n",
      "                test_mode=True),\n",
      "            dict(type='RawFrameDecode'),\n",
      "            dict(type='Resize', scale=(-1, 256)),\n",
      "            dict(type='ThreeCrop', crop_size=256),\n",
      "            dict(\n",
      "                type='Normalize',\n",
      "                mean=[123.675, 116.28, 103.53],\n",
      "                std=[58.395, 57.12, 57.375],\n",
      "                to_bgr=False),\n",
      "            dict(type='FormatShape', input_format='NCTHW'),\n",
      "            dict(type='Collect', keys=['imgs', 'label'], meta_keys=[]),\n",
      "            dict(type='ToTensor', keys=['imgs'])\n",
      "        ],\n",
      "        filename_tmpl='{:03}.jpeg'))\n",
      "evaluation = dict(\n",
      "    interval=5, metrics=['top_k_accuracy', 'mean_class_accuracy'])\n",
      "optimizer = dict(type='SGD', lr=0.000125, momentum=0.9, weight_decay=0.0001)\n",
      "optimizer_config = dict(grad_clip=dict(max_norm=40, norm_type=2))\n",
      "lr_config = dict(\n",
      "    policy='step',\n",
      "    step=[32, 48],\n",
      "    warmup='linear',\n",
      "    warmup_ratio=0.1,\n",
      "    warmup_by_epoch=True,\n",
      "    warmup_iters=16)\n",
      "total_epochs = 50\n",
      "work_dir = './childact-checkpoints/CSN-age'\n",
      "find_unused_parameters = True\n",
      "omnisource = False\n",
      "seed = 42\n",
      "gpu_ids = range(0, 1)\n",
      "output_config = dict(out='./childact-checkpoints/CSN-age/results.json')\n",
      "\n"
     ]
    }
   ],
   "source": [
    "from mmcv.runner import set_random_seed\n",
    "\n",
    "# Modify dataset type and path\n",
    "# cfg.dataset_type = 'VideoDataset'\n",
    "cfg.data_root = 'age-gender-3split-rgb-frames/'\n",
    "cfg.data_root_val = 'age-gender-3split-rgb-frames/val/'\n",
    "cfg.ann_file_train = 'age-gender-3split-rgb-frames/childact_train_rgb320_age.txt'\n",
    "cfg.ann_file_val = 'age-gender-3split-rgb-frames/childact_val_rgb320_age.txt'\n",
    "cfg.ann_file_test = 'age-gender-3split-rgb-frames/childact_test_rgb320_age.txt'\n",
    "\n",
    "# cfg.data.test.type = 'VideoDataset'\n",
    "cfg.data.test.ann_file = 'age-gender-3split-rgb-frames/childact_test_rgb320_age.txt'\n",
    "cfg.data.test.data_prefix = 'age-gender-3split-rgb-frames/test/'\n",
    "\n",
    "# cfg.data.train.type = 'VideoDataset'\n",
    "cfg.data.train.ann_file = 'age-gender-3split-rgb-frames/childact_train_rgb320_age.txt'\n",
    "cfg.data.train.data_prefix = 'age-gender-3split-rgb-frames/train/'\n",
    "\n",
    "# cfg.data.val.type = 'VideoDataset'\n",
    "cfg.data.val.ann_file = 'age-gender-3split-rgb-frames/childact_val_rgb320_age.txt'\n",
    "cfg.data.val.data_prefix = 'age-gender-3split-rgb-frames/val/'\n",
    "\n",
    "# cfg.data.test.modality = 'Flow'\n",
    "# cfg.data.val.modality = 'Flow'\n",
    "# cfg.data.train.modality = 'Flow'\n",
    "\n",
    "# cfg.data.train.start_index = 0\n",
    "# cfg.data.test.start_index = 0\n",
    "# cfg.data.val.start_index = 0\n",
    "\n",
    "cfg.data.test.filename_tmpl = '{:03}.jpeg'\n",
    "cfg.data.train.filename_tmpl = '{:03}.jpeg'\n",
    "cfg.data.val.filename_tmpl = '{:03}.jpeg'\n",
    "# The flag is used to determine whether it is omnisource training\n",
    "cfg.setdefault('omnisource', False)\n",
    "# Modify num classes of the model in cls_head\n",
    "cfg.model.cls_head.num_classes = 6\n",
    "# We can use the pre-trained TSN model\n",
    "cfg.load_from = 'checkpoints/ircsn_ig65m_pretrained_bnfrozen_r152_32x2x1_58e_kinetics400_rgb_20200812-9037a758.pth'\n",
    "# cfg.resume_from = './childact-mm/latest.pth'\n",
    "\n",
    "# Set up working dir to save files and logs.\n",
    "cfg.work_dir = './childact-checkpoints/CSN-age'\n",
    "\n",
    "# cfg.img_norm_cfg = dict(mean=[128, 128], std=[128, 128])\n",
    "\n",
    "\n",
    "# cfg.val_pipeline = [\n",
    "#     dict(\n",
    "#         type='SampleFrames',\n",
    "#         clip_len=32,\n",
    "#         frame_interval=2,\n",
    "#         num_clips=1,\n",
    "#         test_mode=True),\n",
    "#     dict(type='RawFrameDecode'),\n",
    "#     dict(type='Resize', scale=(-1, 256)),\n",
    "#     dict(type='CenterCrop', crop_size=224),\n",
    "# #     dict(type='Resize', scale=(224, 224), keep_ratio=False),\n",
    "# #     dict(type='Flip', flip_ratio=0.5)\n",
    "#     dict(type='Normalize', mean=[128, 128], std=[128, 128]),\n",
    "#     dict(type='FormatShape', input_format='NCTHW'),\n",
    "#     dict(type='Collect', keys=['imgs', 'label'], meta_keys=[]),\n",
    "#     dict(type='ToTensor', keys=['imgs'])\n",
    "# ]\n",
    "# cfg.test_pipeline = [\n",
    "#     dict(type='SampleFrames', clip_len=32, frame_interval=2, num_clips=10, test_mode=True),\n",
    "#     dict(type='RawFrameDecode'),\n",
    "#     dict(type='Resize', scale=(-1, 256)),\n",
    "#     dict(type='CenterCrop', crop_size=224),\n",
    "#     dict(type='Normalize', mean=[128, 128], std=[128, 128]),\n",
    "#     dict(type='FormatShape', input_format='NCTHW'),\n",
    "#     dict(type='Collect', keys=['imgs', 'label'], meta_keys=[]),\n",
    "#     dict(type='ToTensor', keys=['imgs'])\n",
    "# ]\n",
    "\n",
    "\n",
    "\n",
    "# cfg.train_pipeline = [\n",
    "#     dict(type='SampleFrames', clip_len=32, frame_interval=2, num_clips=1),\n",
    "#     dict(type='RawFrameDecode'),\n",
    "#     dict(type='Resize', scale=(-1, 256)),\n",
    "# #     dict(type='RandomCrop', size=224),\n",
    "#     dict(type='RandomResizedCrop'),\n",
    "#     dict(type='Resize', scale=(224, 224), keep_ratio=False),\n",
    "# #     dict(type='Flip', flip_ratio=0.5),\n",
    "#     dict(type='Normalize', mean=[128, 128], std=[128, 128]),\n",
    "#     dict(type='FormatShape', input_format='NCTHW'),\n",
    "#     dict(type='Collect', keys=['imgs', 'label'], meta_keys=[]),\n",
    "#     dict(type='ToTensor', keys=['imgs', 'label'])\n",
    "# ]\n",
    "\n",
    "# cfg.data.train.pipeline = cfg.train_pipeline\n",
    "# cfg.data.val.pipeline = cfg.val_pipeline\n",
    "# cfg.data.test.pipeline = cfg.test_pipeline\n",
    "\n",
    "\n",
    "# The original learning rate (LR) is set for 8-GPU training.\n",
    "# We divide it by 8 since we only use one GPU.\n",
    "# cfg.data.videos_per_gpu = 24\n",
    "# cfg.optimizer.type = 'Adam'\n",
    "# cfg.optimizer.weight_decay=0.0001\n",
    "\n",
    "# cfg.optimizer_config.grad_clip=None\n",
    "# cfg.optimizer.lr = 0.01\n",
    "\n",
    "# cfg.lr_config = dict(\n",
    "#     policy='cyclic',\n",
    "#     target_ratio=(10, 1e-5),\n",
    "#     cyclic_times=1,\n",
    "#     step_ratio_up=0.4,\n",
    "# )\n",
    "\n",
    "cfg.total_epochs = 50\n",
    "\n",
    "# cfg.momentum_config = dict(\n",
    "#     policy='cyclic',\n",
    "#     target_ratio=(0.85 / 0.95, 1),\n",
    "#     cyclic_times=1,\n",
    "#     step_ratio_up=0.4,\n",
    "# )\n",
    "\n",
    "# We can set the checkpoint saving interval to reduce the storage cost\n",
    "cfg.checkpoint_config.interval = 20\n",
    "# We can set the log print interval to reduce the the times of printing log\n",
    "cfg.log_config.interval = 100\n",
    "\n",
    "# Set seed thus the results are more reproducible\n",
    "cfg.seed = 42\n",
    "set_random_seed(42, deterministic=False)\n",
    "cfg.gpu_ids = range(1)\n",
    "\n",
    "cfg.data.videos_per_gpu=4\n",
    "\n",
    "# cfg.model.backbone.in_channels = 2\n",
    "\n",
    "cfg.output_config = dict(out=f'{cfg.work_dir}/results.json')\n",
    "# We can initialize the logger for training and have a look\n",
    "# at the final config used for training\n",
    "# del cfg.optimizer['momentum']\n",
    "print(f'Config:\\n{cfg.pretty_text}')"
   ]
  },
  {
   "cell_type": "code",
   "execution_count": 5,
   "id": "e7a868ef-295d-4b41-842a-adf22e398367",
   "metadata": {
    "colab": {
     "base_uri": "https://localhost:8080/"
    },
    "collapsed": true,
    "id": "dDBWkdDRk6oz",
    "jupyter": {
     "outputs_hidden": true
    },
    "outputId": "85a52ef3-7b5c-4c52-8fef-00322a8c65e6",
    "tags": []
   },
   "outputs": [
    {
     "name": "stderr",
     "output_type": "stream",
     "text": [
      "2021-07-21 22:48:39,763 - mmaction - INFO - load model from: https://download.openmmlab.com/mmaction/recognition/csn/ircsn_from_scratch_r152_ig65m_20200807-771c4135.pth\n",
      "2021-07-21 22:48:39,764 - mmaction - INFO - Use load_from_http loader\n",
      "2021-07-21 22:48:41,828 - mmaction - INFO - load checkpoint from checkpoints/ircsn_ig65m_pretrained_bnfrozen_r152_32x2x1_58e_kinetics400_rgb_20200812-9037a758.pth\n",
      "2021-07-21 22:48:41,829 - mmaction - INFO - Use load_from_local loader\n",
      "2021-07-21 22:48:41,983 - mmaction - WARNING - The model and loaded state dict do not match exactly\n",
      "\n",
      "size mismatch for cls_head.fc_cls.weight: copying a param with shape torch.Size([400, 2048]) from checkpoint, the shape in current model is torch.Size([6, 2048]).\n",
      "size mismatch for cls_head.fc_cls.bias: copying a param with shape torch.Size([400]) from checkpoint, the shape in current model is torch.Size([6]).\n",
      "2021-07-21 22:48:41,989 - mmaction - INFO - Start running, host: robt427nv@robt427NV, work_dir: /home/robt427nv/childact/childact-checkpoints/CSN-age\n",
      "2021-07-21 22:48:41,990 - mmaction - INFO - Hooks will be executed in the following order:\n",
      "before_run:\n",
      "(VERY_HIGH   ) StepLrUpdaterHook                  \n",
      "(NORMAL      ) CheckpointHook                     \n",
      "(NORMAL      ) EvalHook                           \n",
      "(VERY_LOW    ) TextLoggerHook                     \n",
      " -------------------- \n",
      "before_train_epoch:\n",
      "(VERY_HIGH   ) StepLrUpdaterHook                  \n",
      "(NORMAL      ) EvalHook                           \n",
      "(LOW         ) IterTimerHook                      \n",
      "(VERY_LOW    ) TextLoggerHook                     \n",
      " -------------------- \n",
      "before_train_iter:\n",
      "(VERY_HIGH   ) StepLrUpdaterHook                  \n",
      "(NORMAL      ) EvalHook                           \n",
      "(LOW         ) IterTimerHook                      \n",
      " -------------------- \n",
      "after_train_iter:\n",
      "(ABOVE_NORMAL) OptimizerHook                      \n",
      "(NORMAL      ) CheckpointHook                     \n",
      "(NORMAL      ) EvalHook                           \n",
      "(LOW         ) IterTimerHook                      \n",
      "(VERY_LOW    ) TextLoggerHook                     \n",
      " -------------------- \n",
      "after_train_epoch:\n",
      "(NORMAL      ) CheckpointHook                     \n",
      "(NORMAL      ) EvalHook                           \n",
      "(VERY_LOW    ) TextLoggerHook                     \n",
      " -------------------- \n",
      "before_val_epoch:\n",
      "(LOW         ) IterTimerHook                      \n",
      "(VERY_LOW    ) TextLoggerHook                     \n",
      " -------------------- \n",
      "before_val_iter:\n",
      "(LOW         ) IterTimerHook                      \n",
      " -------------------- \n",
      "after_val_iter:\n",
      "(LOW         ) IterTimerHook                      \n",
      " -------------------- \n",
      "after_val_epoch:\n",
      "(VERY_LOW    ) TextLoggerHook                     \n",
      " -------------------- \n",
      "2021-07-21 22:48:41,990 - mmaction - INFO - workflow: [('train', 1)], max: 50 epochs\n",
      "/home/robt427nv/anaconda3/envs/open-mmlab/lib/python3.7/site-packages/mmcv/runner/hooks/evaluation.py:190: UserWarning: runner.meta is None. Creating an empty one.\n",
      "  warnings.warn('runner.meta is None. Creating an empty one.')\n",
      "2021-07-21 22:49:54,092 - mmaction - INFO - Epoch [1][100/237]\tlr: 1.544e-05, eta: 2:21:10, time: 0.721, data_time: 0.033, memory: 11051, top1_acc: 0.2650, top5_acc: 0.9025, loss_cls: 1.7592, loss: 1.7592, grad_norm: 49.2296\n",
      "2021-07-21 22:51:02,487 - mmaction - INFO - Epoch [1][200/237]\tlr: 1.840e-05, eta: 2:16:23, time: 0.684, data_time: 0.000, memory: 11051, top1_acc: 0.3500, top5_acc: 0.9725, loss_cls: 1.5581, loss: 1.5581, grad_norm: 40.7654\n",
      "2021-07-21 22:52:39,857 - mmaction - INFO - Epoch [2][100/237]\tlr: 2.247e-05, eta: 2:00:56, time: 0.719, data_time: 0.030, memory: 11051, top1_acc: 0.3700, top5_acc: 0.9800, loss_cls: 1.4840, loss: 1.4840, grad_norm: 37.1420\n",
      "2021-07-21 22:53:48,852 - mmaction - INFO - Epoch [2][200/237]\tlr: 2.544e-05, eta: 2:02:28, time: 0.690, data_time: 0.000, memory: 11051, top1_acc: 0.3425, top5_acc: 0.9850, loss_cls: 1.4951, loss: 1.4951, grad_norm: 36.4495\n",
      "2021-07-21 22:55:25,928 - mmaction - INFO - Epoch [3][100/237]\tlr: 2.950e-05, eta: 1:55:37, time: 0.718, data_time: 0.030, memory: 11051, top1_acc: 0.4300, top5_acc: 0.9800, loss_cls: 1.3998, loss: 1.3998, grad_norm: 38.7504\n",
      "2021-07-21 22:56:34,744 - mmaction - INFO - Epoch [3][200/237]\tlr: 3.247e-05, eta: 1:56:36, time: 0.688, data_time: 0.000, memory: 11051, top1_acc: 0.4075, top5_acc: 0.9800, loss_cls: 1.4127, loss: 1.4127, grad_norm: 39.1491\n",
      "2021-07-21 22:58:11,863 - mmaction - INFO - Epoch [4][100/237]\tlr: 3.653e-05, eta: 1:52:00, time: 0.718, data_time: 0.030, memory: 11051, top1_acc: 0.4450, top5_acc: 0.9750, loss_cls: 1.3275, loss: 1.3275, grad_norm: 41.3019\n",
      "2021-07-21 22:59:20,674 - mmaction - INFO - Epoch [4][200/237]\tlr: 3.950e-05, eta: 1:52:35, time: 0.688, data_time: 0.000, memory: 11051, top1_acc: 0.4675, top5_acc: 0.9850, loss_cls: 1.3715, loss: 1.3715, grad_norm: 47.4040\n",
      "2021-07-21 23:00:57,833 - mmaction - INFO - Epoch [5][100/237]\tlr: 4.356e-05, eta: 1:48:59, time: 0.719, data_time: 0.030, memory: 11051, top1_acc: 0.4500, top5_acc: 0.9725, loss_cls: 1.3856, loss: 1.3856, grad_norm: 40.9756\n",
      "2021-07-21 23:02:06,837 - mmaction - INFO - Epoch [5][200/237]\tlr: 4.653e-05, eta: 1:49:17, time: 0.690, data_time: 0.000, memory: 11051, top1_acc: 0.4275, top5_acc: 0.9850, loss_cls: 1.3536, loss: 1.3536, grad_norm: 40.2228\n"
     ]
    },
    {
     "name": "stdout",
     "output_type": "stream",
     "text": [
      "[>>>>>>>>>>>>>>>>>>>>>>>>>>>>>>>>>>>>>>>>>>>>>>>>>>] 118/118, 19.4 task/s, elapsed: 6s, ETA:     0s"
     ]
    },
    {
     "name": "stderr",
     "output_type": "stream",
     "text": [
      "2021-07-21 23:02:38,281 - mmaction - INFO - Evaluating top_k_accuracy ...\n",
      "2021-07-21 23:02:38,282 - mmaction - INFO - \n",
      "top1_acc\t0.4915\n",
      "top5_acc\t0.9492\n",
      "2021-07-21 23:02:38,282 - mmaction - INFO - Evaluating mean_class_accuracy ...\n",
      "2021-07-21 23:02:38,283 - mmaction - INFO - \n",
      "mean_acc\t0.3125\n",
      "2021-07-21 23:02:38,601 - mmaction - INFO - Now best checkpoint is saved as best_top1_acc_epoch_5.pth.\n",
      "2021-07-21 23:02:38,602 - mmaction - INFO - Best top1_acc is 0.4915 at 5 epoch.\n",
      "2021-07-21 23:02:38,603 - mmaction - INFO - Epoch(val) [5][30]\ttop1_acc: 0.4915, top5_acc: 0.9492, mean_class_accuracy: 0.3125\n",
      "2021-07-21 23:03:50,713 - mmaction - INFO - Epoch [6][100/237]\tlr: 5.059e-05, eta: 1:46:16, time: 0.721, data_time: 0.031, memory: 11051, top1_acc: 0.4700, top5_acc: 0.9825, loss_cls: 1.3064, loss: 1.3064, grad_norm: 40.6652\n",
      "2021-07-21 23:04:59,505 - mmaction - INFO - Epoch [6][200/237]\tlr: 5.356e-05, eta: 1:46:19, time: 0.688, data_time: 0.000, memory: 11051, top1_acc: 0.5175, top5_acc: 0.9775, loss_cls: 1.2236, loss: 1.2236, grad_norm: 45.5355\n",
      "2021-07-21 23:06:36,340 - mmaction - INFO - Epoch [7][100/237]\tlr: 5.762e-05, eta: 1:43:34, time: 0.715, data_time: 0.029, memory: 11051, top1_acc: 0.4725, top5_acc: 0.9800, loss_cls: 1.2835, loss: 1.2835, grad_norm: 40.9790\n",
      "2021-07-21 23:07:45,148 - mmaction - INFO - Epoch [7][200/237]\tlr: 6.059e-05, eta: 1:43:29, time: 0.688, data_time: 0.000, memory: 11051, top1_acc: 0.5175, top5_acc: 0.9900, loss_cls: 1.1966, loss: 1.1966, grad_norm: 42.6796\n",
      "2021-07-21 23:09:22,207 - mmaction - INFO - Epoch [8][100/237]\tlr: 6.466e-05, eta: 1:41:01, time: 0.719, data_time: 0.030, memory: 11051, top1_acc: 0.5025, top5_acc: 0.9775, loss_cls: 1.2348, loss: 1.2348, grad_norm: 44.0522\n",
      "2021-07-21 23:10:30,802 - mmaction - INFO - Epoch [8][200/237]\tlr: 6.762e-05, eta: 1:40:46, time: 0.686, data_time: 0.000, memory: 11051, top1_acc: 0.5650, top5_acc: 0.9750, loss_cls: 1.1561, loss: 1.1561, grad_norm: 44.0637\n",
      "2021-07-21 23:12:07,748 - mmaction - INFO - Epoch [9][100/237]\tlr: 7.169e-05, eta: 1:38:28, time: 0.717, data_time: 0.030, memory: 11051, top1_acc: 0.5450, top5_acc: 0.9875, loss_cls: 1.1540, loss: 1.1540, grad_norm: 42.4259\n",
      "2021-07-21 23:13:16,435 - mmaction - INFO - Epoch [9][200/237]\tlr: 7.465e-05, eta: 1:38:09, time: 0.687, data_time: 0.000, memory: 11051, top1_acc: 0.5175, top5_acc: 0.9900, loss_cls: 1.1738, loss: 1.1738, grad_norm: 40.9363\n",
      "2021-07-21 23:14:53,495 - mmaction - INFO - Epoch [10][100/237]\tlr: 7.872e-05, eta: 1:35:58, time: 0.716, data_time: 0.030, memory: 11051, top1_acc: 0.5350, top5_acc: 0.9900, loss_cls: 1.1855, loss: 1.1855, grad_norm: 41.6761\n",
      "2021-07-21 23:16:02,258 - mmaction - INFO - Epoch [10][200/237]\tlr: 8.169e-05, eta: 1:35:35, time: 0.688, data_time: 0.000, memory: 11051, top1_acc: 0.5775, top5_acc: 0.9900, loss_cls: 1.0994, loss: 1.0994, grad_norm: 40.7778\n"
     ]
    },
    {
     "name": "stdout",
     "output_type": "stream",
     "text": [
      "[>>>>>>>>>>>>>>>>>>>>>>>>>>>>>>>>>>>>>>>>>>>>>>>>>>] 118/118, 19.8 task/s, elapsed: 6s, ETA:     0s"
     ]
    },
    {
     "name": "stderr",
     "output_type": "stream",
     "text": [
      "2021-07-21 23:16:33,546 - mmaction - INFO - Evaluating top_k_accuracy ...\n",
      "2021-07-21 23:16:33,548 - mmaction - INFO - \n",
      "top1_acc\t0.5932\n",
      "top5_acc\t0.9661\n",
      "2021-07-21 23:16:33,549 - mmaction - INFO - Evaluating mean_class_accuracy ...\n",
      "2021-07-21 23:16:33,551 - mmaction - INFO - \n",
      "mean_acc\t0.4248\n",
      "2021-07-21 23:16:33,900 - mmaction - INFO - Now best checkpoint is saved as best_top1_acc_epoch_10.pth.\n",
      "2021-07-21 23:16:33,901 - mmaction - INFO - Best top1_acc is 0.5932 at 10 epoch.\n",
      "2021-07-21 23:16:33,902 - mmaction - INFO - Epoch(val) [10][30]\ttop1_acc: 0.5932, top5_acc: 0.9661, mean_class_accuracy: 0.4248\n",
      "2021-07-21 23:17:45,593 - mmaction - INFO - Epoch [11][100/237]\tlr: 8.575e-05, eta: 1:33:31, time: 0.717, data_time: 0.031, memory: 11051, top1_acc: 0.5150, top5_acc: 0.9925, loss_cls: 1.1275, loss: 1.1275, grad_norm: 44.7292\n",
      "2021-07-21 23:18:54,280 - mmaction - INFO - Epoch [11][200/237]\tlr: 8.872e-05, eta: 1:33:03, time: 0.687, data_time: 0.000, memory: 11051, top1_acc: 0.5800, top5_acc: 0.9875, loss_cls: 1.1251, loss: 1.1251, grad_norm: 44.4891\n",
      "2021-07-21 23:20:31,250 - mmaction - INFO - Epoch [12][100/237]\tlr: 9.278e-05, eta: 1:31:04, time: 0.717, data_time: 0.030, memory: 11051, top1_acc: 0.5475, top5_acc: 0.9825, loss_cls: 1.1480, loss: 1.1480, grad_norm: 47.5916\n",
      "2021-07-21 23:21:40,055 - mmaction - INFO - Epoch [12][200/237]\tlr: 9.575e-05, eta: 1:30:34, time: 0.688, data_time: 0.000, memory: 11051, top1_acc: 0.5950, top5_acc: 0.9900, loss_cls: 1.0764, loss: 1.0764, grad_norm: 46.7181\n",
      "2021-07-21 23:23:17,281 - mmaction - INFO - Epoch [13][100/237]\tlr: 9.981e-05, eta: 1:28:40, time: 0.720, data_time: 0.030, memory: 11051, top1_acc: 0.5725, top5_acc: 0.9875, loss_cls: 1.0496, loss: 1.0496, grad_norm: 47.3243\n",
      "2021-07-21 23:24:25,924 - mmaction - INFO - Epoch [13][200/237]\tlr: 1.028e-04, eta: 1:28:06, time: 0.686, data_time: 0.000, memory: 11051, top1_acc: 0.5225, top5_acc: 0.9800, loss_cls: 1.1579, loss: 1.1579, grad_norm: 45.5883\n",
      "2021-07-21 23:26:02,756 - mmaction - INFO - Epoch [14][100/237]\tlr: 1.068e-04, eta: 1:26:15, time: 0.716, data_time: 0.029, memory: 11051, top1_acc: 0.6150, top5_acc: 1.0000, loss_cls: 1.0203, loss: 1.0203, grad_norm: 45.6981\n",
      "2021-07-21 23:27:11,424 - mmaction - INFO - Epoch [14][200/237]\tlr: 1.098e-04, eta: 1:25:39, time: 0.687, data_time: 0.000, memory: 11051, top1_acc: 0.5950, top5_acc: 0.9950, loss_cls: 1.0970, loss: 1.0970, grad_norm: 44.2408\n",
      "2021-07-21 23:28:48,240 - mmaction - INFO - Epoch [15][100/237]\tlr: 1.139e-04, eta: 1:23:50, time: 0.717, data_time: 0.030, memory: 11051, top1_acc: 0.6175, top5_acc: 0.9875, loss_cls: 0.9826, loss: 0.9826, grad_norm: 44.4294\n",
      "2021-07-21 23:29:56,948 - mmaction - INFO - Epoch [15][200/237]\tlr: 1.168e-04, eta: 1:23:12, time: 0.687, data_time: 0.000, memory: 11051, top1_acc: 0.6000, top5_acc: 0.9850, loss_cls: 1.0743, loss: 1.0743, grad_norm: 41.5448\n"
     ]
    },
    {
     "name": "stdout",
     "output_type": "stream",
     "text": [
      "[>>>>>>>>>>>>>>>>>>>>>>>>>>>>>>>>>>>>>>>>>>>>>>>>>>] 118/118, 19.9 task/s, elapsed: 6s, ETA:     0s"
     ]
    },
    {
     "name": "stderr",
     "output_type": "stream",
     "text": [
      "2021-07-21 23:30:28,280 - mmaction - INFO - Evaluating top_k_accuracy ...\n",
      "2021-07-21 23:30:28,282 - mmaction - INFO - \n",
      "top1_acc\t0.6271\n",
      "top5_acc\t0.9831\n",
      "2021-07-21 23:30:28,282 - mmaction - INFO - Evaluating mean_class_accuracy ...\n",
      "2021-07-21 23:30:28,284 - mmaction - INFO - \n",
      "mean_acc\t0.4442\n",
      "2021-07-21 23:30:28,630 - mmaction - INFO - Now best checkpoint is saved as best_top1_acc_epoch_15.pth.\n",
      "2021-07-21 23:30:28,631 - mmaction - INFO - Best top1_acc is 0.6271 at 15 epoch.\n",
      "2021-07-21 23:30:28,632 - mmaction - INFO - Epoch(val) [15][30]\ttop1_acc: 0.6271, top5_acc: 0.9831, mean_class_accuracy: 0.4442\n",
      "2021-07-21 23:31:40,185 - mmaction - INFO - Epoch [16][100/237]\tlr: 1.209e-04, eta: 1:21:26, time: 0.715, data_time: 0.030, memory: 11051, top1_acc: 0.6200, top5_acc: 0.9925, loss_cls: 0.9786, loss: 0.9786, grad_norm: 40.6878\n",
      "2021-07-21 23:32:48,690 - mmaction - INFO - Epoch [16][200/237]\tlr: 1.239e-04, eta: 1:20:46, time: 0.685, data_time: 0.000, memory: 11051, top1_acc: 0.6075, top5_acc: 0.9950, loss_cls: 1.0333, loss: 1.0333, grad_norm: 40.3230\n",
      "2021-07-21 23:34:25,759 - mmaction - INFO - Epoch [17][100/237]\tlr: 1.250e-04, eta: 1:19:03, time: 0.719, data_time: 0.032, memory: 11051, top1_acc: 0.6075, top5_acc: 0.9950, loss_cls: 1.0410, loss: 1.0410, grad_norm: 45.8679\n",
      "2021-07-21 23:35:34,506 - mmaction - INFO - Epoch [17][200/237]\tlr: 1.250e-04, eta: 1:18:22, time: 0.687, data_time: 0.000, memory: 11051, top1_acc: 0.6125, top5_acc: 0.9900, loss_cls: 0.9971, loss: 0.9971, grad_norm: 47.9671\n",
      "2021-07-21 23:37:11,602 - mmaction - INFO - Epoch [18][100/237]\tlr: 1.250e-04, eta: 1:16:40, time: 0.717, data_time: 0.030, memory: 11051, top1_acc: 0.6700, top5_acc: 0.9925, loss_cls: 0.8811, loss: 0.8811, grad_norm: 48.6032\n",
      "2021-07-21 23:38:20,443 - mmaction - INFO - Epoch [18][200/237]\tlr: 1.250e-04, eta: 1:15:58, time: 0.688, data_time: 0.000, memory: 11051, top1_acc: 0.6350, top5_acc: 0.9900, loss_cls: 0.9526, loss: 0.9526, grad_norm: 51.5418\n",
      "2021-07-21 23:39:57,506 - mmaction - INFO - Epoch [19][100/237]\tlr: 1.250e-04, eta: 1:14:18, time: 0.718, data_time: 0.030, memory: 11051, top1_acc: 0.6350, top5_acc: 0.9925, loss_cls: 0.9253, loss: 0.9253, grad_norm: 45.8937\n",
      "2021-07-21 23:41:06,447 - mmaction - INFO - Epoch [19][200/237]\tlr: 1.250e-04, eta: 1:13:34, time: 0.689, data_time: 0.000, memory: 11051, top1_acc: 0.6075, top5_acc: 0.9925, loss_cls: 0.9695, loss: 0.9695, grad_norm: 42.6499\n",
      "2021-07-21 23:42:43,505 - mmaction - INFO - Epoch [20][100/237]\tlr: 1.250e-04, eta: 1:11:56, time: 0.718, data_time: 0.029, memory: 11051, top1_acc: 0.6550, top5_acc: 0.9875, loss_cls: 0.9122, loss: 0.9122, grad_norm: 43.3373\n",
      "2021-07-21 23:43:52,333 - mmaction - INFO - Epoch [20][200/237]\tlr: 1.250e-04, eta: 1:11:11, time: 0.688, data_time: 0.000, memory: 11051, top1_acc: 0.6575, top5_acc: 0.9950, loss_cls: 0.9290, loss: 0.9290, grad_norm: 43.3886\n",
      "2021-07-21 23:44:17,637 - mmaction - INFO - Saving checkpoint at 20 epochs\n"
     ]
    },
    {
     "name": "stdout",
     "output_type": "stream",
     "text": [
      "[>>>>>>>>>>>>>>>>>>>>>>>>>>>>>>>>>>>>>>>>>>>>>>>>>>] 118/118, 19.9 task/s, elapsed: 6s, ETA:     0s"
     ]
    },
    {
     "name": "stderr",
     "output_type": "stream",
     "text": [
      "2021-07-21 23:44:23,978 - mmaction - INFO - Evaluating top_k_accuracy ...\n",
      "2021-07-21 23:44:23,981 - mmaction - INFO - \n",
      "top1_acc\t0.6525\n",
      "top5_acc\t0.9831\n",
      "2021-07-21 23:44:23,981 - mmaction - INFO - Evaluating mean_class_accuracy ...\n",
      "2021-07-21 23:44:23,984 - mmaction - INFO - \n",
      "mean_acc\t0.5234\n",
      "2021-07-21 23:44:24,322 - mmaction - INFO - Now best checkpoint is saved as best_top1_acc_epoch_20.pth.\n",
      "2021-07-21 23:44:24,323 - mmaction - INFO - Best top1_acc is 0.6525 at 20 epoch.\n",
      "2021-07-21 23:44:24,324 - mmaction - INFO - Epoch(val) [20][30]\ttop1_acc: 0.6525, top5_acc: 0.9831, mean_class_accuracy: 0.5234\n",
      "2021-07-21 23:45:36,299 - mmaction - INFO - Epoch [21][100/237]\tlr: 1.250e-04, eta: 1:09:35, time: 0.720, data_time: 0.030, memory: 11051, top1_acc: 0.6700, top5_acc: 0.9950, loss_cls: 0.8806, loss: 0.8806, grad_norm: 41.3368\n",
      "2021-07-21 23:46:44,863 - mmaction - INFO - Epoch [21][200/237]\tlr: 1.250e-04, eta: 1:08:48, time: 0.686, data_time: 0.000, memory: 11051, top1_acc: 0.6750, top5_acc: 0.9975, loss_cls: 0.9267, loss: 0.9267, grad_norm: 46.1390\n",
      "2021-07-21 23:48:21,865 - mmaction - INFO - Epoch [22][100/237]\tlr: 1.250e-04, eta: 1:07:12, time: 0.718, data_time: 0.029, memory: 11051, top1_acc: 0.7050, top5_acc: 0.9975, loss_cls: 0.7728, loss: 0.7728, grad_norm: 45.4252\n",
      "2021-07-21 23:49:30,659 - mmaction - INFO - Epoch [22][200/237]\tlr: 1.250e-04, eta: 1:06:25, time: 0.688, data_time: 0.000, memory: 11051, top1_acc: 0.6550, top5_acc: 1.0000, loss_cls: 0.9206, loss: 0.9206, grad_norm: 48.6524\n",
      "2021-07-21 23:51:07,469 - mmaction - INFO - Epoch [23][100/237]\tlr: 1.250e-04, eta: 1:04:50, time: 0.716, data_time: 0.030, memory: 11051, top1_acc: 0.6950, top5_acc: 0.9950, loss_cls: 0.8558, loss: 0.8558, grad_norm: 47.0423\n",
      "2021-07-21 23:52:16,092 - mmaction - INFO - Epoch [23][200/237]\tlr: 1.250e-04, eta: 1:04:02, time: 0.686, data_time: 0.000, memory: 11051, top1_acc: 0.6775, top5_acc: 0.9950, loss_cls: 0.8354, loss: 0.8354, grad_norm: 42.2045\n",
      "2021-07-21 23:53:52,744 - mmaction - INFO - Epoch [24][100/237]\tlr: 1.250e-04, eta: 1:02:28, time: 0.714, data_time: 0.028, memory: 11051, top1_acc: 0.6925, top5_acc: 0.9975, loss_cls: 0.7774, loss: 0.7774, grad_norm: 44.8047\n",
      "2021-07-21 23:55:01,389 - mmaction - INFO - Epoch [24][200/237]\tlr: 1.250e-04, eta: 1:01:39, time: 0.686, data_time: 0.000, memory: 11051, top1_acc: 0.7100, top5_acc: 0.9925, loss_cls: 0.8201, loss: 0.8201, grad_norm: 43.8672\n",
      "2021-07-21 23:56:38,288 - mmaction - INFO - Epoch [25][100/237]\tlr: 1.250e-04, eta: 1:00:06, time: 0.717, data_time: 0.031, memory: 11051, top1_acc: 0.7175, top5_acc: 0.9875, loss_cls: 0.7830, loss: 0.7830, grad_norm: 43.3840\n",
      "2021-07-21 23:57:47,655 - mmaction - INFO - Epoch [25][200/237]\tlr: 1.250e-04, eta: 0:59:17, time: 0.694, data_time: 0.000, memory: 11051, top1_acc: 0.7375, top5_acc: 0.9975, loss_cls: 0.7082, loss: 0.7082, grad_norm: 47.9695\n"
     ]
    },
    {
     "name": "stdout",
     "output_type": "stream",
     "text": [
      "[>>>>>>>>>>>>>>>>>>>>>>>>>>>>>>>>>>>>>>>>>>>>>>>>>>] 118/118, 19.6 task/s, elapsed: 6s, ETA:     0s"
     ]
    },
    {
     "name": "stderr",
     "output_type": "stream",
     "text": [
      "2021-07-21 23:58:18,976 - mmaction - INFO - Evaluating top_k_accuracy ...\n",
      "2021-07-21 23:58:18,978 - mmaction - INFO - \n",
      "top1_acc\t0.6780\n",
      "top5_acc\t1.0000\n",
      "2021-07-21 23:58:18,978 - mmaction - INFO - Evaluating mean_class_accuracy ...\n",
      "2021-07-21 23:58:18,980 - mmaction - INFO - \n",
      "mean_acc\t0.4936\n",
      "2021-07-21 23:58:19,337 - mmaction - INFO - Now best checkpoint is saved as best_top1_acc_epoch_25.pth.\n",
      "2021-07-21 23:58:19,338 - mmaction - INFO - Best top1_acc is 0.6780 at 25 epoch.\n",
      "2021-07-21 23:58:19,339 - mmaction - INFO - Epoch(val) [25][30]\ttop1_acc: 0.6780, top5_acc: 1.0000, mean_class_accuracy: 0.4936\n",
      "2021-07-21 23:59:30,876 - mmaction - INFO - Epoch [26][100/237]\tlr: 1.250e-04, eta: 0:57:45, time: 0.715, data_time: 0.030, memory: 11051, top1_acc: 0.7475, top5_acc: 0.9975, loss_cls: 0.7710, loss: 0.7710, grad_norm: 49.8894\n",
      "2021-07-22 00:00:39,404 - mmaction - INFO - Epoch [26][200/237]\tlr: 1.250e-04, eta: 0:56:54, time: 0.685, data_time: 0.000, memory: 11051, top1_acc: 0.7000, top5_acc: 0.9950, loss_cls: 0.7735, loss: 0.7735, grad_norm: 43.3181\n",
      "2021-07-22 00:02:16,722 - mmaction - INFO - Epoch [27][100/237]\tlr: 1.250e-04, eta: 0:55:24, time: 0.719, data_time: 0.031, memory: 11051, top1_acc: 0.7100, top5_acc: 0.9975, loss_cls: 0.7708, loss: 0.7708, grad_norm: 46.8690\n",
      "2021-07-22 00:03:25,508 - mmaction - INFO - Epoch [27][200/237]\tlr: 1.250e-04, eta: 0:54:32, time: 0.688, data_time: 0.000, memory: 11051, top1_acc: 0.7100, top5_acc: 0.9800, loss_cls: 0.8031, loss: 0.8031, grad_norm: 45.5912\n",
      "2021-07-22 00:05:02,275 - mmaction - INFO - Epoch [28][100/237]\tlr: 1.250e-04, eta: 0:53:02, time: 0.715, data_time: 0.029, memory: 11051, top1_acc: 0.7225, top5_acc: 0.9900, loss_cls: 0.7528, loss: 0.7528, grad_norm: 41.9233\n",
      "2021-07-22 00:06:11,057 - mmaction - INFO - Epoch [28][200/237]\tlr: 1.250e-04, eta: 0:52:10, time: 0.688, data_time: 0.000, memory: 11051, top1_acc: 0.7300, top5_acc: 0.9975, loss_cls: 0.6726, loss: 0.6726, grad_norm: 46.6711\n",
      "2021-07-22 00:07:47,881 - mmaction - INFO - Epoch [29][100/237]\tlr: 1.250e-04, eta: 0:50:41, time: 0.716, data_time: 0.030, memory: 11051, top1_acc: 0.7775, top5_acc: 0.9975, loss_cls: 0.5959, loss: 0.5959, grad_norm: 39.3218\n",
      "2021-07-22 00:08:56,723 - mmaction - INFO - Epoch [29][200/237]\tlr: 1.250e-04, eta: 0:49:48, time: 0.688, data_time: 0.000, memory: 11051, top1_acc: 0.7550, top5_acc: 0.9950, loss_cls: 0.7252, loss: 0.7252, grad_norm: 42.5519\n",
      "2021-07-22 00:10:33,552 - mmaction - INFO - Epoch [30][100/237]\tlr: 1.250e-04, eta: 0:48:20, time: 0.716, data_time: 0.029, memory: 11051, top1_acc: 0.7175, top5_acc: 0.9950, loss_cls: 0.7369, loss: 0.7369, grad_norm: 40.1155\n",
      "2021-07-22 00:11:42,269 - mmaction - INFO - Epoch [30][200/237]\tlr: 1.250e-04, eta: 0:47:26, time: 0.687, data_time: 0.000, memory: 11051, top1_acc: 0.7575, top5_acc: 0.9975, loss_cls: 0.6359, loss: 0.6359, grad_norm: 43.9489\n"
     ]
    },
    {
     "name": "stdout",
     "output_type": "stream",
     "text": [
      "[>>>>>>>>>>>>>>>>>>>>>>>>>>>>>>>>>>>>>>>>>>>>>>>>>>] 118/118, 20.0 task/s, elapsed: 6s, ETA:     0s"
     ]
    },
    {
     "name": "stderr",
     "output_type": "stream",
     "text": [
      "2021-07-22 00:12:13,478 - mmaction - INFO - Evaluating top_k_accuracy ...\n",
      "2021-07-22 00:12:13,479 - mmaction - INFO - \n",
      "top1_acc\t0.7373\n",
      "top5_acc\t1.0000\n",
      "2021-07-22 00:12:13,479 - mmaction - INFO - Evaluating mean_class_accuracy ...\n",
      "2021-07-22 00:12:13,480 - mmaction - INFO - \n",
      "mean_acc\t0.6438\n",
      "2021-07-22 00:12:13,820 - mmaction - INFO - Now best checkpoint is saved as best_top1_acc_epoch_30.pth.\n",
      "2021-07-22 00:12:13,821 - mmaction - INFO - Best top1_acc is 0.7373 at 30 epoch.\n",
      "2021-07-22 00:12:13,821 - mmaction - INFO - Epoch(val) [30][30]\ttop1_acc: 0.7373, top5_acc: 1.0000, mean_class_accuracy: 0.6438\n",
      "2021-07-22 00:13:25,484 - mmaction - INFO - Epoch [31][100/237]\tlr: 1.250e-04, eta: 0:45:58, time: 0.717, data_time: 0.031, memory: 11051, top1_acc: 0.7600, top5_acc: 0.9950, loss_cls: 0.6114, loss: 0.6114, grad_norm: 36.9292\n",
      "2021-07-22 00:14:34,151 - mmaction - INFO - Epoch [31][200/237]\tlr: 1.250e-04, eta: 0:45:04, time: 0.687, data_time: 0.000, memory: 11051, top1_acc: 0.7750, top5_acc: 0.9950, loss_cls: 0.6142, loss: 0.6142, grad_norm: 42.1733\n",
      "2021-07-22 00:16:11,205 - mmaction - INFO - Epoch [32][100/237]\tlr: 1.250e-04, eta: 0:43:37, time: 0.719, data_time: 0.031, memory: 11051, top1_acc: 0.7425, top5_acc: 0.9875, loss_cls: 0.7475, loss: 0.7475, grad_norm: 50.4090\n",
      "2021-07-22 00:17:20,001 - mmaction - INFO - Epoch [32][200/237]\tlr: 1.250e-04, eta: 0:42:43, time: 0.688, data_time: 0.000, memory: 11051, top1_acc: 0.7875, top5_acc: 1.0000, loss_cls: 0.5770, loss: 0.5770, grad_norm: 42.4517\n",
      "2021-07-22 00:18:56,816 - mmaction - INFO - Epoch [33][100/237]\tlr: 1.250e-05, eta: 0:41:16, time: 0.716, data_time: 0.030, memory: 11051, top1_acc: 0.8200, top5_acc: 0.9975, loss_cls: 0.4785, loss: 0.4785, grad_norm: 35.9218\n",
      "2021-07-22 00:20:05,565 - mmaction - INFO - Epoch [33][200/237]\tlr: 1.250e-05, eta: 0:40:21, time: 0.687, data_time: 0.000, memory: 11051, top1_acc: 0.7975, top5_acc: 0.9975, loss_cls: 0.5674, loss: 0.5674, grad_norm: 31.9042\n",
      "2021-07-22 00:21:42,383 - mmaction - INFO - Epoch [34][100/237]\tlr: 1.250e-05, eta: 0:38:55, time: 0.716, data_time: 0.029, memory: 11051, top1_acc: 0.8200, top5_acc: 0.9975, loss_cls: 0.4331, loss: 0.4331, grad_norm: 30.1304\n",
      "2021-07-22 00:22:51,067 - mmaction - INFO - Epoch [34][200/237]\tlr: 1.250e-05, eta: 0:38:00, time: 0.687, data_time: 0.000, memory: 11051, top1_acc: 0.8125, top5_acc: 0.9875, loss_cls: 0.5013, loss: 0.5013, grad_norm: 34.1067\n",
      "2021-07-22 00:24:27,854 - mmaction - INFO - Epoch [35][100/237]\tlr: 1.250e-05, eta: 0:36:34, time: 0.716, data_time: 0.030, memory: 11051, top1_acc: 0.8250, top5_acc: 0.9975, loss_cls: 0.4739, loss: 0.4739, grad_norm: 34.2627\n",
      "2021-07-22 00:25:36,617 - mmaction - INFO - Epoch [35][200/237]\tlr: 1.250e-05, eta: 0:35:38, time: 0.688, data_time: 0.000, memory: 11051, top1_acc: 0.8650, top5_acc: 1.0000, loss_cls: 0.4002, loss: 0.4002, grad_norm: 27.0304\n"
     ]
    },
    {
     "name": "stdout",
     "output_type": "stream",
     "text": [
      "[>>>>>>>>>>>>>>>>>>>>>>>>>>>>>>>>>>>>>>>>>>>>>>>>>>] 118/118, 20.2 task/s, elapsed: 6s, ETA:     0s"
     ]
    },
    {
     "name": "stderr",
     "output_type": "stream",
     "text": [
      "2021-07-22 00:26:07,730 - mmaction - INFO - Evaluating top_k_accuracy ...\n",
      "2021-07-22 00:26:07,731 - mmaction - INFO - \n",
      "top1_acc\t0.8051\n",
      "top5_acc\t1.0000\n",
      "2021-07-22 00:26:07,732 - mmaction - INFO - Evaluating mean_class_accuracy ...\n",
      "2021-07-22 00:26:07,734 - mmaction - INFO - \n",
      "mean_acc\t0.7871\n",
      "2021-07-22 00:26:08,090 - mmaction - INFO - Now best checkpoint is saved as best_top1_acc_epoch_35.pth.\n",
      "2021-07-22 00:26:08,091 - mmaction - INFO - Best top1_acc is 0.8051 at 35 epoch.\n",
      "2021-07-22 00:26:08,092 - mmaction - INFO - Epoch(val) [35][30]\ttop1_acc: 0.8051, top5_acc: 1.0000, mean_class_accuracy: 0.7871\n",
      "2021-07-22 00:27:19,764 - mmaction - INFO - Epoch [36][100/237]\tlr: 1.250e-05, eta: 0:34:13, time: 0.717, data_time: 0.031, memory: 11051, top1_acc: 0.8400, top5_acc: 1.0000, loss_cls: 0.4026, loss: 0.4026, grad_norm: 31.7659\n",
      "2021-07-22 00:28:28,515 - mmaction - INFO - Epoch [36][200/237]\tlr: 1.250e-05, eta: 0:33:17, time: 0.688, data_time: 0.000, memory: 11051, top1_acc: 0.8275, top5_acc: 0.9975, loss_cls: 0.4631, loss: 0.4631, grad_norm: 37.4314\n",
      "2021-07-22 00:30:05,342 - mmaction - INFO - Epoch [37][100/237]\tlr: 1.250e-05, eta: 0:31:52, time: 0.717, data_time: 0.031, memory: 11051, top1_acc: 0.8250, top5_acc: 1.0000, loss_cls: 0.4345, loss: 0.4345, grad_norm: 34.8362\n",
      "2021-07-22 00:31:14,104 - mmaction - INFO - Epoch [37][200/237]\tlr: 1.250e-05, eta: 0:30:56, time: 0.688, data_time: 0.000, memory: 11051, top1_acc: 0.8350, top5_acc: 0.9975, loss_cls: 0.4178, loss: 0.4178, grad_norm: 31.7098\n",
      "2021-07-22 00:32:50,943 - mmaction - INFO - Epoch [38][100/237]\tlr: 1.250e-05, eta: 0:29:31, time: 0.716, data_time: 0.029, memory: 11051, top1_acc: 0.8575, top5_acc: 0.9975, loss_cls: 0.3995, loss: 0.3995, grad_norm: 33.8003\n",
      "2021-07-22 00:33:59,583 - mmaction - INFO - Epoch [38][200/237]\tlr: 1.250e-05, eta: 0:28:34, time: 0.686, data_time: 0.000, memory: 11051, top1_acc: 0.8475, top5_acc: 0.9900, loss_cls: 0.4688, loss: 0.4688, grad_norm: 35.3535\n",
      "2021-07-22 00:35:36,466 - mmaction - INFO - Epoch [39][100/237]\tlr: 1.250e-05, eta: 0:27:10, time: 0.717, data_time: 0.030, memory: 11051, top1_acc: 0.8675, top5_acc: 1.0000, loss_cls: 0.3652, loss: 0.3652, grad_norm: 32.2661\n",
      "2021-07-22 00:36:45,147 - mmaction - INFO - Epoch [39][200/237]\tlr: 1.250e-05, eta: 0:26:13, time: 0.687, data_time: 0.000, memory: 11051, top1_acc: 0.8100, top5_acc: 0.9950, loss_cls: 0.5076, loss: 0.5076, grad_norm: 39.6020\n",
      "2021-07-22 00:38:21,925 - mmaction - INFO - Epoch [40][100/237]\tlr: 1.250e-05, eta: 0:24:49, time: 0.716, data_time: 0.030, memory: 11051, top1_acc: 0.8075, top5_acc: 1.0000, loss_cls: 0.5364, loss: 0.5364, grad_norm: 36.3389\n",
      "2021-07-22 00:39:30,626 - mmaction - INFO - Epoch [40][200/237]\tlr: 1.250e-05, eta: 0:23:52, time: 0.687, data_time: 0.000, memory: 11051, top1_acc: 0.8700, top5_acc: 0.9975, loss_cls: 0.3931, loss: 0.3931, grad_norm: 28.6016\n",
      "2021-07-22 00:39:55,797 - mmaction - INFO - Saving checkpoint at 40 epochs\n"
     ]
    },
    {
     "name": "stdout",
     "output_type": "stream",
     "text": [
      "[>>>>>>>>>>>>>>>>>>>>>>>>>>>>>>>>>>>>>>>>>>>>>>>>>>] 118/118, 19.6 task/s, elapsed: 6s, ETA:     0s"
     ]
    },
    {
     "name": "stderr",
     "output_type": "stream",
     "text": [
      "2021-07-22 00:40:02,270 - mmaction - INFO - Evaluating top_k_accuracy ...\n",
      "2021-07-22 00:40:02,271 - mmaction - INFO - \n",
      "top1_acc\t0.8220\n",
      "top5_acc\t1.0000\n",
      "2021-07-22 00:40:02,271 - mmaction - INFO - Evaluating mean_class_accuracy ...\n",
      "2021-07-22 00:40:02,272 - mmaction - INFO - \n",
      "mean_acc\t0.7920\n",
      "2021-07-22 00:40:02,588 - mmaction - INFO - Now best checkpoint is saved as best_top1_acc_epoch_40.pth.\n",
      "2021-07-22 00:40:02,589 - mmaction - INFO - Best top1_acc is 0.8220 at 40 epoch.\n",
      "2021-07-22 00:40:02,590 - mmaction - INFO - Epoch(val) [40][30]\ttop1_acc: 0.8220, top5_acc: 1.0000, mean_class_accuracy: 0.7920\n",
      "2021-07-22 00:41:14,210 - mmaction - INFO - Epoch [41][100/237]\tlr: 1.250e-05, eta: 0:22:28, time: 0.716, data_time: 0.029, memory: 11051, top1_acc: 0.8375, top5_acc: 0.9975, loss_cls: 0.4445, loss: 0.4445, grad_norm: 34.0161\n",
      "2021-07-22 00:42:22,909 - mmaction - INFO - Epoch [41][200/237]\tlr: 1.250e-05, eta: 0:21:31, time: 0.687, data_time: 0.000, memory: 11051, top1_acc: 0.8775, top5_acc: 1.0000, loss_cls: 0.3147, loss: 0.3147, grad_norm: 29.0035\n",
      "2021-07-22 00:43:59,780 - mmaction - INFO - Epoch [42][100/237]\tlr: 1.250e-05, eta: 0:20:07, time: 0.716, data_time: 0.032, memory: 11051, top1_acc: 0.8550, top5_acc: 1.0000, loss_cls: 0.4157, loss: 0.4157, grad_norm: 35.9832\n",
      "2021-07-22 00:45:08,457 - mmaction - INFO - Epoch [42][200/237]\tlr: 1.250e-05, eta: 0:19:09, time: 0.687, data_time: 0.000, memory: 11051, top1_acc: 0.8450, top5_acc: 0.9925, loss_cls: 0.4213, loss: 0.4213, grad_norm: 32.6398\n",
      "2021-07-22 00:46:45,265 - mmaction - INFO - Epoch [43][100/237]\tlr: 1.250e-05, eta: 0:17:46, time: 0.716, data_time: 0.031, memory: 11051, top1_acc: 0.8275, top5_acc: 0.9975, loss_cls: 0.4393, loss: 0.4393, grad_norm: 39.4379\n",
      "2021-07-22 00:47:53,995 - mmaction - INFO - Epoch [43][200/237]\tlr: 1.250e-05, eta: 0:16:48, time: 0.687, data_time: 0.000, memory: 11051, top1_acc: 0.8650, top5_acc: 0.9975, loss_cls: 0.3601, loss: 0.3601, grad_norm: 29.3267\n",
      "2021-07-22 00:49:30,825 - mmaction - INFO - Epoch [44][100/237]\tlr: 1.250e-05, eta: 0:15:25, time: 0.716, data_time: 0.030, memory: 11051, top1_acc: 0.8350, top5_acc: 1.0000, loss_cls: 0.4207, loss: 0.4207, grad_norm: 36.8876\n",
      "2021-07-22 00:50:39,489 - mmaction - INFO - Epoch [44][200/237]\tlr: 1.250e-05, eta: 0:14:27, time: 0.687, data_time: 0.000, memory: 11051, top1_acc: 0.8225, top5_acc: 0.9950, loss_cls: 0.4808, loss: 0.4808, grad_norm: 33.3859\n",
      "2021-07-22 00:52:16,347 - mmaction - INFO - Epoch [45][100/237]\tlr: 1.250e-05, eta: 0:13:05, time: 0.717, data_time: 0.030, memory: 11051, top1_acc: 0.8675, top5_acc: 0.9950, loss_cls: 0.4052, loss: 0.4052, grad_norm: 35.3830\n",
      "2021-07-22 00:53:25,001 - mmaction - INFO - Epoch [45][200/237]\tlr: 1.250e-05, eta: 0:12:06, time: 0.687, data_time: 0.000, memory: 11051, top1_acc: 0.8575, top5_acc: 0.9975, loss_cls: 0.3713, loss: 0.3713, grad_norm: 31.8305\n"
     ]
    },
    {
     "name": "stdout",
     "output_type": "stream",
     "text": [
      "[>>>>>>>>>>>>>>>>>>>>>>>>>>>>>>>>>>>>>>>>>>>>>>>>>>] 118/118, 20.1 task/s, elapsed: 6s, ETA:     0s"
     ]
    },
    {
     "name": "stderr",
     "output_type": "stream",
     "text": [
      "2021-07-22 00:53:56,143 - mmaction - INFO - Evaluating top_k_accuracy ...\n",
      "2021-07-22 00:53:56,145 - mmaction - INFO - \n",
      "top1_acc\t0.8136\n",
      "top5_acc\t1.0000\n",
      "2021-07-22 00:53:56,145 - mmaction - INFO - Evaluating mean_class_accuracy ...\n",
      "2021-07-22 00:53:56,147 - mmaction - INFO - \n",
      "mean_acc\t0.8011\n",
      "2021-07-22 00:53:56,147 - mmaction - INFO - Epoch(val) [45][30]\ttop1_acc: 0.8136, top5_acc: 1.0000, mean_class_accuracy: 0.8011\n",
      "2021-07-22 00:55:07,701 - mmaction - INFO - Epoch [46][100/237]\tlr: 1.250e-05, eta: 0:10:44, time: 0.715, data_time: 0.029, memory: 11051, top1_acc: 0.8350, top5_acc: 1.0000, loss_cls: 0.4263, loss: 0.4263, grad_norm: 37.4217\n",
      "2021-07-22 00:56:16,377 - mmaction - INFO - Epoch [46][200/237]\tlr: 1.250e-05, eta: 0:09:45, time: 0.687, data_time: 0.000, memory: 11051, top1_acc: 0.8625, top5_acc: 1.0000, loss_cls: 0.3677, loss: 0.3677, grad_norm: 35.2459\n",
      "2021-07-22 00:57:53,042 - mmaction - INFO - Epoch [47][100/237]\tlr: 1.250e-05, eta: 0:08:23, time: 0.715, data_time: 0.030, memory: 11051, top1_acc: 0.8475, top5_acc: 0.9975, loss_cls: 0.3780, loss: 0.3780, grad_norm: 35.3920\n",
      "2021-07-22 00:59:01,659 - mmaction - INFO - Epoch [47][200/237]\tlr: 1.250e-05, eta: 0:07:24, time: 0.686, data_time: 0.000, memory: 11051, top1_acc: 0.8625, top5_acc: 0.9950, loss_cls: 0.4091, loss: 0.4091, grad_norm: 39.1088\n",
      "2021-07-22 01:00:38,543 - mmaction - INFO - Epoch [48][100/237]\tlr: 1.250e-05, eta: 0:06:02, time: 0.716, data_time: 0.030, memory: 11051, top1_acc: 0.8850, top5_acc: 0.9950, loss_cls: 0.3605, loss: 0.3605, grad_norm: 35.9703\n",
      "2021-07-22 01:01:47,247 - mmaction - INFO - Epoch [48][200/237]\tlr: 1.250e-05, eta: 0:05:03, time: 0.687, data_time: 0.000, memory: 11051, top1_acc: 0.8775, top5_acc: 0.9975, loss_cls: 0.3323, loss: 0.3323, grad_norm: 31.4444\n",
      "2021-07-22 01:03:23,938 - mmaction - INFO - Epoch [49][100/237]\tlr: 1.250e-06, eta: 0:03:42, time: 0.716, data_time: 0.029, memory: 11051, top1_acc: 0.8325, top5_acc: 0.9975, loss_cls: 0.4552, loss: 0.4552, grad_norm: 37.7999\n",
      "2021-07-22 01:04:32,642 - mmaction - INFO - Epoch [49][200/237]\tlr: 1.250e-06, eta: 0:02:42, time: 0.687, data_time: 0.000, memory: 11051, top1_acc: 0.8475, top5_acc: 0.9975, loss_cls: 0.3890, loss: 0.3890, grad_norm: 41.0210\n",
      "2021-07-22 01:06:09,387 - mmaction - INFO - Epoch [50][100/237]\tlr: 1.250e-06, eta: 0:01:21, time: 0.716, data_time: 0.031, memory: 11051, top1_acc: 0.8625, top5_acc: 1.0000, loss_cls: 0.3948, loss: 0.3948, grad_norm: 35.1510\n",
      "2021-07-22 01:07:18,135 - mmaction - INFO - Epoch [50][200/237]\tlr: 1.250e-06, eta: 0:00:21, time: 0.687, data_time: 0.000, memory: 11051, top1_acc: 0.8675, top5_acc: 1.0000, loss_cls: 0.3518, loss: 0.3518, grad_norm: 38.9234\n",
      "2021-07-22 01:07:43,332 - mmaction - INFO - Saving checkpoint at 50 epochs\n"
     ]
    },
    {
     "name": "stdout",
     "output_type": "stream",
     "text": [
      "[>>>>>>>>>>>>>>>>>>>>>>>>>>>>>>>>>>>>>>>>>>>>>>>>>>] 118/118, 20.5 task/s, elapsed: 6s, ETA:     0s"
     ]
    },
    {
     "name": "stderr",
     "output_type": "stream",
     "text": [
      "2021-07-22 01:07:49,476 - mmaction - INFO - Evaluating top_k_accuracy ...\n",
      "2021-07-22 01:07:49,478 - mmaction - INFO - \n",
      "top1_acc\t0.8136\n",
      "top5_acc\t1.0000\n",
      "2021-07-22 01:07:49,479 - mmaction - INFO - Evaluating mean_class_accuracy ...\n",
      "2021-07-22 01:07:49,481 - mmaction - INFO - \n",
      "mean_acc\t0.7959\n",
      "2021-07-22 01:07:49,482 - mmaction - INFO - Epoch(val) [50][30]\ttop1_acc: 0.8136, top5_acc: 1.0000, mean_class_accuracy: 0.7959\n"
     ]
    }
   ],
   "source": [
    "import os.path as osp\n",
    "\n",
    "from mmaction.datasets import build_dataset\n",
    "from mmaction.models import build_model\n",
    "from mmaction.apis import train_model\n",
    "\n",
    "import mmcv\n",
    "\n",
    "# Build the dataset\n",
    "datasets = [build_dataset(cfg.data.train)]\n",
    "\n",
    "# Build the recognizer\n",
    "model = build_model(cfg.model, train_cfg=cfg.get('train_cfg'), test_cfg=cfg.get('test_cfg'))\n",
    "# model = build_model(cfg.model, train_cfg=cfg.get('train_cfg'), test_cfg=cfg.get('test_cfg'))\n",
    "# model = build_detector(cfg.model, train_cfg=cfg.get('train_cfg'), test_cfg=cfg.get('test_cfg'))\n",
    "# model = build_detector(cfg.model, train_cfg=cfg.train_cfg, test_cfg=cfg.test_cfg)\n",
    "# CUDA_LAUNCH_BLOCKING=1\n",
    "# Create work_dir\n",
    "mmcv.mkdir_or_exist(osp.abspath(cfg.work_dir))\n",
    "train_model(model, datasets, cfg, distributed=False, validate=True)"
   ]
  },
  {
   "cell_type": "code",
   "execution_count": 6,
   "id": "22260f21-82bd-4137-96e2-fb3cee5ff83b",
   "metadata": {},
   "outputs": [],
   "source": [
    "import pickle\n",
    "\n",
    "with open(f\"{cfg.work_dir}/model50e_ig65m\", 'wb') as f:\n",
    "    pickle.dump(model, f)"
   ]
  },
  {
   "cell_type": "code",
   "execution_count": 5,
   "id": "570b3a4c-bb8d-41eb-808e-25f8febec0cd",
   "metadata": {
    "tags": []
   },
   "outputs": [
    {
     "name": "stderr",
     "output_type": "stream",
     "text": [
      "2021-07-22 09:29:01,780 - mmaction - INFO - load model from: https://download.openmmlab.com/mmaction/recognition/csn/ircsn_from_scratch_r152_ig65m_20200807-771c4135.pth\n",
      "2021-07-22 09:29:01,781 - mmaction - INFO - Use load_from_http loader\n"
     ]
    }
   ],
   "source": [
    "import os.path as osp\n",
    "\n",
    "from mmaction.datasets import build_dataset\n",
    "from mmaction.models import build_model\n",
    "from mmaction.apis import train_model\n",
    "import pickle\n",
    "import mmcv\n",
    "# Build the dataset\n",
    "datasets = [build_dataset(cfg.data.train)]\n",
    "\n",
    "# Build the recognizer\n",
    "model = build_model(cfg.model, train_cfg=cfg.get('train_cfg'), test_cfg=cfg.get('test_cfg'))\n",
    "\n",
    "model = pickle.load(open(f\"{cfg.work_dir}/model50e_ig65m\", 'rb'))"
   ]
  },
  {
   "cell_type": "code",
   "execution_count": 6,
   "id": "321181a3-e9b3-4218-bf74-af029f81546e",
   "metadata": {
    "colab": {
     "base_uri": "https://localhost:8080/"
    },
    "id": "eyY3hCMwyTct",
    "outputId": "200e37c7-0da4-421f-98da-41418c3110ca",
    "tags": []
   },
   "outputs": [
    {
     "name": "stdout",
     "output_type": "stream",
     "text": [
      "[>>>>>>>>>>>>>>>>>>>>>>>>>>>>>>>>>>>>>>>>>>>>>>>>>>] 119/119, 0.7 task/s, elapsed: 163s, ETA:     0s\n",
      "Evaluating top_k_accuracy ...\n",
      "\n",
      "top1_acc\t0.8403\n",
      "top5_acc\t1.0000\n",
      "\n",
      "Evaluating mean_class_accuracy ...\n",
      "\n",
      "mean_acc\t0.7495\n",
      "top1_acc: 0.8403\n",
      "top5_acc: 1.0000\n",
      "mean_class_accuracy: 0.7495\n"
     ]
    }
   ],
   "source": [
    "from mmaction.apis import single_gpu_test\n",
    "from mmaction.datasets import build_dataloader\n",
    "from mmcv.parallel import MMDataParallel\n",
    "# from mmaction.models import build_model\n",
    "# from mmaction.datasets import build_dataset\n",
    "\n",
    "# model = build_model(cfg.model, train_cfg=cfg.get('train_cfg'), test_cfg=cfg.get('test_cfg'))\n",
    "# Build a test dataloader\n",
    "dataset = build_dataset(cfg.data.test, dict(test_mode=True))\n",
    "data_loader = build_dataloader(\n",
    "        dataset,\n",
    "        videos_per_gpu=1,\n",
    "        workers_per_gpu=2,\n",
    "        dist=False,\n",
    "        shuffle=False)\n",
    "model = MMDataParallel(model, device_ids=[0])\n",
    "outputs = single_gpu_test(model, data_loader)\n",
    "\n",
    "eval_config = cfg.evaluation\n",
    "eval_config.pop('interval')\n",
    "eval_res = dataset.evaluate(outputs, **eval_config)\n",
    "for name, val in eval_res.items():\n",
    "    print(f'{name}: {val:.04f}')\n",
    "    \n",
    "output_config = cfg.output_config\n",
    "dataset.dump_results(outputs, **output_config)"
   ]
  },
  {
   "cell_type": "code",
   "execution_count": 13,
   "id": "822a20f3-d5d5-45e9-b947-47298f9df391",
   "metadata": {
    "tags": []
   },
   "outputs": [
    {
     "data": {
      "text/plain": [
       "<AxesSubplot:>"
      ]
     },
     "execution_count": 13,
     "metadata": {},
     "output_type": "execute_result"
    },
    {
     "data": {
      "image/png": "[encoded data removed]",
      "text/plain": [
       "<Figure size 432x288 with 2 Axes>"
      ]
     },
     "metadata": {
      "needs_background": "light"
     },
     "output_type": "display_data"
    }
   ],
   "source": [
    "import seaborn as sns\n",
    "import numpy as np\n",
    "from mmaction.core import confusion_matrix \n",
    "\n",
    "gt_labels = [ann['label'] for ann in dataset.load_annotations()]\n",
    "pred = np.argmax(outputs, axis=1)\n",
    "cf_mat = confusion_matrix(pred, gt_labels).astype(float)\n",
    "# cmap = sns.cubehelix_palette(50, hue=0.05, rot=0, light=0.9, dark=0, as_cmap=True)\n",
    "# /np.sum(cf_mat), fmt='.2%',\n",
    "sns.heatmap(cf_mat, cmap=cmap, annot=True, xticklabels = ['6yo', '7yo', '8yo', '9yo', '10yo', '11yo'], yticklabels = ['6yo', '7yo', '8yo', '9yo', '10yo', '11yo'])"
   ]
  },
  {
   "cell_type": "code",
   "execution_count": 14,
   "id": "fad81aee-59ff-4d1c-a357-d27f94aaa538",
   "metadata": {},
   "outputs": [
    {
     "name": "stdout",
     "output_type": "stream",
     "text": [
      "0.226890756302521\n"
     ]
    }
   ],
   "source": [
    "mean_error = (2+4+4+4+3+2+4+1+1+2)/119 #number of all tested videos\n",
    "print(mean_error)"
   ]
  },
  {
   "cell_type": "code",
   "execution_count": 24,
   "id": "fc0acd80-bedf-4a0b-b583-d87ac5a6b06e",
   "metadata": {},
   "outputs": [
    {
     "name": "stdout",
     "output_type": "stream",
     "text": [
      "1.5\n"
     ]
    }
   ],
   "source": [
    "mean_error = (2+4+4+4+3+2+4+1+1+2)/18 #number of all false classifications\n",
    "print(mean_error)"
   ]
  },
  {
   "cell_type": "code",
   "execution_count": 15,
   "id": "9193e30a-3997-4788-bb2b-ebb0d5401d71",
   "metadata": {},
   "outputs": [
    {
     "name": "stdout",
     "output_type": "stream",
     "text": [
      "[[ 2.  1.  0.  0.  1.  0.]\n",
      " [ 1. 21.  4.  2.  0.  0.]\n",
      " [ 0.  0. 42.  3.  0.  0.]\n",
      " [ 0.  0.  1. 23.  1.  0.]\n",
      " [ 0.  0.  2.  1.  8.  0.]\n",
      " [ 0.  0.  0.  1.  1.  4.]]\n"
     ]
    }
   ],
   "source": [
    "print(cf_mat)"
   ]
  },
  {
   "cell_type": "code",
   "execution_count": 23,
   "id": "8592d54f-9f38-49aa-9a0c-d077292bf92e",
   "metadata": {
    "tags": []
   },
   "outputs": [
    {
     "data": {
      "text/plain": [
       "<AxesSubplot:>"
      ]
     },
     "execution_count": 23,
     "metadata": {},
     "output_type": "execute_result"
    },
    {
     "data": {
      "image/png": "[encoded data removed]",
      "text/plain": [
       "<Figure size 432x288 with 2 Axes>"
      ]
     },
     "metadata": {
      "needs_background": "light"
     },
     "output_type": "display_data"
    }
   ],
   "source": [
    "import seaborn as sns\n",
    "import numpy as np\n",
    "from mmaction.core import confusion_matrix \n",
    "\n",
    "gt_labels = [ann['label'] for ann in dataset.load_annotations()]\n",
    "pred = np.argmax(outputs, axis=1)\n",
    "cf_mat = confusion_matrix(pred, gt_labels).astype(float)\n",
    "cmap = sns.cubehelix_palette(50, hue=0.05, rot=0, light=0.9, dark=0, as_cmap=True)\n",
    "# /np.sum(cf_mat), fmt='.2%',\n",
    "sns.heatmap(cf_mat/np.sum(cf_mat), fmt='.1%', cmap=cmap, annot=True, xticklabels = ['6yo', '7yo', '8yo', '9yo', '10yo', '11yo'], yticklabels = ['6yo', '7yo', '8yo', '9yo', '10yo', '11yo'])"
   ]
  },
  {
   "cell_type": "markdown",
   "id": "a0abd50b-9cb2-4825-ad6f-de1279db7deb",
   "metadata": {},
   "source": [
    "# CSN age BOX"
   ]
  },
  {
   "cell_type": "code",
   "execution_count": 10,
   "id": "ad7c6ac4-d3c0-48d0-accc-682cbf4fe1f3",
   "metadata": {
    "colab": {
     "base_uri": "https://localhost:8080/"
    },
    "id": "64CW6d_AaT-Q",
    "outputId": "3b284fd8-4ee7-4a34-90d7-5023cd123a04",
    "tags": []
   },
   "outputs": [
    {
     "name": "stdout",
     "output_type": "stream",
     "text": [
      "--2021-07-21 17:39:20--  https://download.openmmlab.com/mmaction/recognition/csn/ircsn_ig65m_pretrained_bnfrozen_r152_32x2x1_58e_kinetics400_rgb/ircsn_ig65m_pretrained_bnfrozen_r152_32x2x1_58e_kinetics400_rgb_20200812-9037a758.pth\n",
      "Resolving download.openmmlab.com (download.openmmlab.com)... 47.75.20.25\n",
      "Connecting to download.openmmlab.com (download.openmmlab.com)|47.75.20.25|:443... connected.\n",
      "HTTP request sent, awaiting response... 200 OK\n",
      "Length: 119580180 (114M) [application/octet-stream]\n",
      "Saving to: ‘checkpoints/ircsn_ig65m_pretrained_bnfrozen_r152_32x2x1_58e_kinetics400_rgb_20200812-9037a758.pth’\n",
      "\n",
      "checkpoints/ircsn_i 100%[===================>] 114,04M  6,78MB/s    in 17s     \n",
      "\n",
      "2021-07-21 17:39:39 (6,87 MB/s) - ‘checkpoints/ircsn_ig65m_pretrained_bnfrozen_r152_32x2x1_58e_kinetics400_rgb_20200812-9037a758.pth’ saved [119580180/119580180]\n",
      "\n"
     ]
    }
   ],
   "source": [
    "!mkdir checkpoints\n",
    "!wget -c https://download.openmmlab.com/mmaction/recognition/csn/ircsn_ig65m_pretrained_bnfrozen_r152_32x2x1_58e_kinetics400_rgb/ircsn_ig65m_pretrained_bnfrozen_r152_32x2x1_58e_kinetics400_rgb_20200812-9037a758.pth \\\n",
    "      -O checkpoints/ircsn_ig65m_pretrained_bnfrozen_r152_32x2x1_58e_kinetics400_rgb_20200812-9037a758.pth"
   ]
  },
  {
   "cell_type": "code",
   "execution_count": 6,
   "id": "be2dac68-e118-449a-8fc8-57e873746542",
   "metadata": {
    "id": "LjCcmCKOjktc",
    "tags": []
   },
   "outputs": [],
   "source": [
    "from mmcv import Config\n",
    "cfg = Config.fromfile('mmaction2/configs/recognition/csn/ircsn_ig65m_pretrained_bnfrozen_r152_32x2x1_58e_kinetics400_rgb.py')"
   ]
  },
  {
   "cell_type": "code",
   "execution_count": 7,
   "id": "2d3bdcf8-fe03-48b2-b6e8-e21585fa57cd",
   "metadata": {
    "colab": {
     "base_uri": "https://localhost:8080/"
    },
    "collapsed": true,
    "id": "tlhu9byjjt-K",
    "jupyter": {
     "outputs_hidden": true
    },
    "outputId": "13d1bb01-f351-48c0-9efb-0bdf2c125d29",
    "tags": []
   },
   "outputs": [
    {
     "name": "stdout",
     "output_type": "stream",
     "text": [
      "Config:\n",
      "model = dict(\n",
      "    type='Recognizer3D',\n",
      "    backbone=dict(\n",
      "        type='ResNet3dCSN',\n",
      "        pretrained2d=False,\n",
      "        pretrained=\n",
      "        'https://download.openmmlab.com/mmaction/recognition/csn/ircsn_from_scratch_r152_ig65m_20200807-771c4135.pth',\n",
      "        depth=152,\n",
      "        with_pool2=False,\n",
      "        bottleneck_mode='ir',\n",
      "        norm_eval=True,\n",
      "        zero_init_residual=False,\n",
      "        bn_frozen=True),\n",
      "    cls_head=dict(\n",
      "        type='I3DHead',\n",
      "        num_classes=6,\n",
      "        in_channels=2048,\n",
      "        spatial_type='avg',\n",
      "        dropout_ratio=0.5,\n",
      "        init_std=0.01),\n",
      "    train_cfg=None,\n",
      "    test_cfg=dict(average_clips='prob'))\n",
      "checkpoint_config = dict(interval=20)\n",
      "log_config = dict(interval=100, hooks=[dict(type='TextLoggerHook')])\n",
      "dist_params = dict(backend='nccl')\n",
      "log_level = 'INFO'\n",
      "load_from = 'checkpoints/ircsn_ig65m_pretrained_bnfrozen_r152_32x2x1_58e_kinetics400_rgb_20200812-9037a758.pth'\n",
      "resume_from = None\n",
      "workflow = [('train', 1)]\n",
      "dataset_type = 'RawframeDataset'\n",
      "data_root = 'age-gender-3split-rgb-frames/'\n",
      "data_root_val = 'age-gender-3split-rgb-frames/val/'\n",
      "ann_file_train = 'age-gender-3split-rgb-frames/childact_train_rgb320_age_box.txt'\n",
      "ann_file_val = 'age-gender-3split-rgb-frames/childact_val_rgb320_age_box.txt'\n",
      "ann_file_test = 'age-gender-3split-rgb-frames/childact_test_rgb320_age_box.txt'\n",
      "img_norm_cfg = dict(\n",
      "    mean=[123.675, 116.28, 103.53], std=[58.395, 57.12, 57.375], to_bgr=False)\n",
      "train_pipeline = [\n",
      "    dict(type='SampleFrames', clip_len=32, frame_interval=2, num_clips=1),\n",
      "    dict(type='RawFrameDecode'),\n",
      "    dict(type='Resize', scale=(-1, 256)),\n",
      "    dict(type='RandomResizedCrop'),\n",
      "    dict(type='Resize', scale=(224, 224), keep_ratio=False),\n",
      "    dict(type='Flip', flip_ratio=0.5),\n",
      "    dict(\n",
      "        type='Normalize',\n",
      "        mean=[123.675, 116.28, 103.53],\n",
      "        std=[58.395, 57.12, 57.375],\n",
      "        to_bgr=False),\n",
      "    dict(type='FormatShape', input_format='NCTHW'),\n",
      "    dict(type='Collect', keys=['imgs', 'label'], meta_keys=[]),\n",
      "    dict(type='ToTensor', keys=['imgs', 'label'])\n",
      "]\n",
      "val_pipeline = [\n",
      "    dict(\n",
      "        type='SampleFrames',\n",
      "        clip_len=32,\n",
      "        frame_interval=2,\n",
      "        num_clips=1,\n",
      "        test_mode=True),\n",
      "    dict(type='RawFrameDecode'),\n",
      "    dict(type='Resize', scale=(-1, 256)),\n",
      "    dict(type='CenterCrop', crop_size=224),\n",
      "    dict(\n",
      "        type='Normalize',\n",
      "        mean=[123.675, 116.28, 103.53],\n",
      "        std=[58.395, 57.12, 57.375],\n",
      "        to_bgr=False),\n",
      "    dict(type='FormatShape', input_format='NCTHW'),\n",
      "    dict(type='Collect', keys=['imgs', 'label'], meta_keys=[]),\n",
      "    dict(type='ToTensor', keys=['imgs'])\n",
      "]\n",
      "test_pipeline = [\n",
      "    dict(\n",
      "        type='SampleFrames',\n",
      "        clip_len=32,\n",
      "        frame_interval=2,\n",
      "        num_clips=10,\n",
      "        test_mode=True),\n",
      "    dict(type='RawFrameDecode'),\n",
      "    dict(type='Resize', scale=(-1, 256)),\n",
      "    dict(type='ThreeCrop', crop_size=256),\n",
      "    dict(\n",
      "        type='Normalize',\n",
      "        mean=[123.675, 116.28, 103.53],\n",
      "        std=[58.395, 57.12, 57.375],\n",
      "        to_bgr=False),\n",
      "    dict(type='FormatShape', input_format='NCTHW'),\n",
      "    dict(type='Collect', keys=['imgs', 'label'], meta_keys=[]),\n",
      "    dict(type='ToTensor', keys=['imgs'])\n",
      "]\n",
      "data = dict(\n",
      "    videos_per_gpu=4,\n",
      "    workers_per_gpu=4,\n",
      "    train=dict(\n",
      "        type='RawframeDataset',\n",
      "        ann_file=\n",
      "        'age-gender-3split-rgb-frames/childact_train_rgb320_age_box.txt',\n",
      "        data_prefix='age-gender-3split-rgb-frames/train/',\n",
      "        pipeline=[\n",
      "            dict(\n",
      "                type='SampleFrames',\n",
      "                clip_len=32,\n",
      "                frame_interval=2,\n",
      "                num_clips=1),\n",
      "            dict(type='RawFrameDecode'),\n",
      "            dict(type='Resize', scale=(-1, 256)),\n",
      "            dict(type='RandomResizedCrop'),\n",
      "            dict(type='Resize', scale=(224, 224), keep_ratio=False),\n",
      "            dict(type='Flip', flip_ratio=0.5),\n",
      "            dict(\n",
      "                type='Normalize',\n",
      "                mean=[123.675, 116.28, 103.53],\n",
      "                std=[58.395, 57.12, 57.375],\n",
      "                to_bgr=False),\n",
      "            dict(type='FormatShape', input_format='NCTHW'),\n",
      "            dict(type='Collect', keys=['imgs', 'label'], meta_keys=[]),\n",
      "            dict(type='ToTensor', keys=['imgs', 'label'])\n",
      "        ],\n",
      "        filename_tmpl='{:03}.jpeg'),\n",
      "    val=dict(\n",
      "        type='RawframeDataset',\n",
      "        ann_file='age-gender-3split-rgb-frames/childact_val_rgb320_age_box.txt',\n",
      "        data_prefix='age-gender-3split-rgb-frames/val/',\n",
      "        pipeline=[\n",
      "            dict(\n",
      "                type='SampleFrames',\n",
      "                clip_len=32,\n",
      "                frame_interval=2,\n",
      "                num_clips=1,\n",
      "                test_mode=True),\n",
      "            dict(type='RawFrameDecode'),\n",
      "            dict(type='Resize', scale=(-1, 256)),\n",
      "            dict(type='CenterCrop', crop_size=224),\n",
      "            dict(\n",
      "                type='Normalize',\n",
      "                mean=[123.675, 116.28, 103.53],\n",
      "                std=[58.395, 57.12, 57.375],\n",
      "                to_bgr=False),\n",
      "            dict(type='FormatShape', input_format='NCTHW'),\n",
      "            dict(type='Collect', keys=['imgs', 'label'], meta_keys=[]),\n",
      "            dict(type='ToTensor', keys=['imgs'])\n",
      "        ],\n",
      "        filename_tmpl='{:03}.jpeg'),\n",
      "    test=dict(\n",
      "        type='RawframeDataset',\n",
      "        ann_file=\n",
      "        'age-gender-3split-rgb-frames/childact_test_rgb320_age_box.txt',\n",
      "        data_prefix='age-gender-3split-rgb-frames/test/',\n",
      "        pipeline=[\n",
      "            dict(\n",
      "                type='SampleFrames',\n",
      "                clip_len=32,\n",
      "                frame_interval=2,\n",
      "                num_clips=10,\n",
      "                test_mode=True),\n",
      "            dict(type='RawFrameDecode'),\n",
      "            dict(type='Resize', scale=(-1, 256)),\n",
      "            dict(type='ThreeCrop', crop_size=256),\n",
      "            dict(\n",
      "                type='Normalize',\n",
      "                mean=[123.675, 116.28, 103.53],\n",
      "                std=[58.395, 57.12, 57.375],\n",
      "                to_bgr=False),\n",
      "            dict(type='FormatShape', input_format='NCTHW'),\n",
      "            dict(type='Collect', keys=['imgs', 'label'], meta_keys=[]),\n",
      "            dict(type='ToTensor', keys=['imgs'])\n",
      "        ],\n",
      "        filename_tmpl='{:03}.jpeg'))\n",
      "evaluation = dict(\n",
      "    interval=5, metrics=['top_k_accuracy', 'mean_class_accuracy'])\n",
      "optimizer = dict(type='SGD', lr=0.000125, momentum=0.9, weight_decay=0.0001)\n",
      "optimizer_config = dict(grad_clip=dict(max_norm=40, norm_type=2))\n",
      "lr_config = dict(\n",
      "    policy='step',\n",
      "    step=[32, 48],\n",
      "    warmup='linear',\n",
      "    warmup_ratio=0.1,\n",
      "    warmup_by_epoch=True,\n",
      "    warmup_iters=16)\n",
      "total_epochs = 50\n",
      "work_dir = './childact-checkpoints/CSN-age-box'\n",
      "find_unused_parameters = True\n",
      "omnisource = False\n",
      "seed = 42\n",
      "gpu_ids = range(0, 1)\n",
      "output_config = dict(out='./childact-checkpoints/CSN-age-box/results.json')\n",
      "\n"
     ]
    }
   ],
   "source": [
    "from mmcv.runner import set_random_seed\n",
    "\n",
    "# Modify dataset type and path\n",
    "# cfg.dataset_type = 'VideoDataset'\n",
    "cfg.data_root = 'age-gender-3split-rgb-frames/'\n",
    "cfg.data_root_val = 'age-gender-3split-rgb-frames/val/'\n",
    "cfg.ann_file_train = 'age-gender-3split-rgb-frames/childact_train_rgb320_age_box.txt'\n",
    "cfg.ann_file_val = 'age-gender-3split-rgb-frames/childact_val_rgb320_age_box.txt'\n",
    "cfg.ann_file_test = 'age-gender-3split-rgb-frames/childact_test_rgb320_age_box.txt'\n",
    "\n",
    "# cfg.data.test.type = 'VideoDataset'\n",
    "cfg.data.test.ann_file = 'age-gender-3split-rgb-frames/childact_test_rgb320_age_box.txt'\n",
    "cfg.data.test.data_prefix = 'age-gender-3split-rgb-frames/test/'\n",
    "\n",
    "# cfg.data.train.type = 'VideoDataset'\n",
    "cfg.data.train.ann_file = 'age-gender-3split-rgb-frames/childact_train_rgb320_age_box.txt'\n",
    "cfg.data.train.data_prefix = 'age-gender-3split-rgb-frames/train/'\n",
    "\n",
    "# cfg.data.val.type = 'VideoDataset'\n",
    "cfg.data.val.ann_file = 'age-gender-3split-rgb-frames/childact_val_rgb320_age_box.txt'\n",
    "cfg.data.val.data_prefix = 'age-gender-3split-rgb-frames/val/'\n",
    "\n",
    "# cfg.data.test.modality = 'Flow'\n",
    "# cfg.data.val.modality = 'Flow'\n",
    "# cfg.data.train.modality = 'Flow'\n",
    "\n",
    "# cfg.data.train.start_index = 0\n",
    "# cfg.data.test.start_index = 0\n",
    "# cfg.data.val.start_index = 0\n",
    "\n",
    "cfg.data.test.filename_tmpl = '{:03}.jpeg'\n",
    "cfg.data.train.filename_tmpl = '{:03}.jpeg'\n",
    "cfg.data.val.filename_tmpl = '{:03}.jpeg'\n",
    "# The flag is used to determine whether it is omnisource training\n",
    "cfg.setdefault('omnisource', False)\n",
    "# Modify num classes of the model in cls_head\n",
    "cfg.model.cls_head.num_classes = 6\n",
    "# We can use the pre-trained TSN model\n",
    "cfg.load_from = 'checkpoints/ircsn_ig65m_pretrained_bnfrozen_r152_32x2x1_58e_kinetics400_rgb_20200812-9037a758.pth'\n",
    "# cfg.resume_from = './childact-mm/latest.pth'\n",
    "\n",
    "# Set up working dir to save files and logs.\n",
    "cfg.work_dir = './childact-checkpoints/CSN-age-box'\n",
    "\n",
    "cfg.total_epochs = 50\n",
    "\n",
    "# cfg.momentum_config = dict(\n",
    "#     policy='cyclic',\n",
    "#     target_ratio=(0.85 / 0.95, 1),\n",
    "#     cyclic_times=1,\n",
    "#     step_ratio_up=0.4,\n",
    "# )\n",
    "\n",
    "# We can set the checkpoint saving interval to reduce the storage cost\n",
    "cfg.checkpoint_config.interval = 20\n",
    "# We can set the log print interval to reduce the the times of printing log\n",
    "cfg.log_config.interval = 100\n",
    "\n",
    "# Set seed thus the results are more reproducible\n",
    "cfg.seed = 42\n",
    "set_random_seed(42, deterministic=False)\n",
    "cfg.gpu_ids = range(1)\n",
    "\n",
    "cfg.data.videos_per_gpu=4\n",
    "\n",
    "# cfg.model.backbone.in_channels = 2\n",
    "\n",
    "cfg.output_config = dict(out=f'{cfg.work_dir}/results.json')\n",
    "# We can initialize the logger for training and have a look\n",
    "# at the final config used for training\n",
    "# del cfg.optimizer['momentum']\n",
    "print(f'Config:\\n{cfg.pretty_text}')"
   ]
  },
  {
   "cell_type": "code",
   "execution_count": 8,
   "id": "8eea5200-f323-4690-a363-b301cfa2d9bc",
   "metadata": {
    "colab": {
     "base_uri": "https://localhost:8080/"
    },
    "id": "dDBWkdDRk6oz",
    "outputId": "85a52ef3-7b5c-4c52-8fef-00322a8c65e6",
    "tags": []
   },
   "outputs": [
    {
     "name": "stderr",
     "output_type": "stream",
     "text": [
      "2021-08-10 08:19:33,116 - mmaction - INFO - load model from: https://download.openmmlab.com/mmaction/recognition/csn/ircsn_from_scratch_r152_ig65m_20200807-771c4135.pth\n",
      "2021-08-10 08:19:33,117 - mmaction - INFO - Use load_from_http loader\n",
      "2021-08-10 08:19:35,230 - mmaction - INFO - load checkpoint from checkpoints/ircsn_ig65m_pretrained_bnfrozen_r152_32x2x1_58e_kinetics400_rgb_20200812-9037a758.pth\n",
      "2021-08-10 08:19:35,231 - mmaction - INFO - Use load_from_local loader\n",
      "2021-08-10 08:19:35,407 - mmaction - WARNING - The model and loaded state dict do not match exactly\n",
      "\n",
      "size mismatch for cls_head.fc_cls.weight: copying a param with shape torch.Size([400, 2048]) from checkpoint, the shape in current model is torch.Size([6, 2048]).\n",
      "size mismatch for cls_head.fc_cls.bias: copying a param with shape torch.Size([400]) from checkpoint, the shape in current model is torch.Size([6]).\n",
      "2021-08-10 08:19:35,411 - mmaction - INFO - Start running, host: robt427nv@robt427NV, work_dir: /home/robt427nv/childact/childact-checkpoints/CSN-age-box\n",
      "2021-08-10 08:19:35,412 - mmaction - INFO - Hooks will be executed in the following order:\n",
      "before_run:\n",
      "(VERY_HIGH   ) StepLrUpdaterHook                  \n",
      "(NORMAL      ) CheckpointHook                     \n",
      "(NORMAL      ) EvalHook                           \n",
      "(VERY_LOW    ) TextLoggerHook                     \n",
      " -------------------- \n",
      "before_train_epoch:\n",
      "(VERY_HIGH   ) StepLrUpdaterHook                  \n",
      "(NORMAL      ) EvalHook                           \n",
      "(LOW         ) IterTimerHook                      \n",
      "(VERY_LOW    ) TextLoggerHook                     \n",
      " -------------------- \n",
      "before_train_iter:\n",
      "(VERY_HIGH   ) StepLrUpdaterHook                  \n",
      "(NORMAL      ) EvalHook                           \n",
      "(LOW         ) IterTimerHook                      \n",
      " -------------------- \n",
      "after_train_iter:\n",
      "(ABOVE_NORMAL) OptimizerHook                      \n",
      "(NORMAL      ) CheckpointHook                     \n",
      "(NORMAL      ) EvalHook                           \n",
      "(LOW         ) IterTimerHook                      \n",
      "(VERY_LOW    ) TextLoggerHook                     \n",
      " -------------------- \n",
      "after_train_epoch:\n",
      "(NORMAL      ) CheckpointHook                     \n",
      "(NORMAL      ) EvalHook                           \n",
      "(VERY_LOW    ) TextLoggerHook                     \n",
      " -------------------- \n",
      "before_val_epoch:\n",
      "(LOW         ) IterTimerHook                      \n",
      "(VERY_LOW    ) TextLoggerHook                     \n",
      " -------------------- \n",
      "before_val_iter:\n",
      "(LOW         ) IterTimerHook                      \n",
      " -------------------- \n",
      "after_val_iter:\n",
      "(LOW         ) IterTimerHook                      \n",
      " -------------------- \n",
      "after_val_epoch:\n",
      "(VERY_LOW    ) TextLoggerHook                     \n",
      " -------------------- \n",
      "2021-08-10 08:19:35,413 - mmaction - INFO - workflow: [('train', 1)], max: 50 epochs\n",
      "/home/robt427nv/anaconda3/envs/open-mmlab/lib/python3.7/site-packages/mmcv/runner/hooks/evaluation.py:190: UserWarning: runner.meta is None. Creating an empty one.\n",
      "  warnings.warn('runner.meta is None. Creating an empty one.')\n"
     ]
    },
    {
     "name": "stdout",
     "output_type": "stream",
     "text": [
      "[>>>>>>>>>>>>>>>>>>>>>>>>>>>>>>>>>>>>>>>>>>>>>>>>>>] 11/11, 9.7 task/s, elapsed: 1s, ETA:     0s"
     ]
    },
    {
     "name": "stderr",
     "output_type": "stream",
     "text": [
      "2021-08-10 08:21:45,103 - mmaction - INFO - Evaluating top_k_accuracy ...\n",
      "2021-08-10 08:21:45,105 - mmaction - INFO - \n",
      "top1_acc\t0.2727\n",
      "top5_acc\t1.0000\n",
      "2021-08-10 08:21:45,105 - mmaction - INFO - Evaluating mean_class_accuracy ...\n",
      "2021-08-10 08:21:45,107 - mmaction - INFO - \n",
      "mean_acc\t0.2500\n",
      "2021-08-10 08:21:45,432 - mmaction - INFO - Now best checkpoint is saved as best_top1_acc_epoch_5.pth.\n",
      "2021-08-10 08:21:45,433 - mmaction - INFO - Best top1_acc is 0.2727 at 5 epoch.\n",
      "2021-08-10 08:21:45,433 - mmaction - INFO - Epoch(val) [5][3]\ttop1_acc: 0.2727, top5_acc: 1.0000, mean_class_accuracy: 0.2500\n"
     ]
    },
    {
     "name": "stdout",
     "output_type": "stream",
     "text": [
      "[>>>>>>>>>>>>>>>>>>>>>>>>>>>>>>>>>>>>>>>>>>>>>>>>>>] 11/11, 9.0 task/s, elapsed: 1s, ETA:     0s"
     ]
    },
    {
     "name": "stderr",
     "output_type": "stream",
     "text": [
      "2021-08-10 08:23:56,335 - mmaction - INFO - Evaluating top_k_accuracy ...\n",
      "2021-08-10 08:23:56,337 - mmaction - INFO - \n",
      "top1_acc\t0.1818\n",
      "top5_acc\t1.0000\n",
      "2021-08-10 08:23:56,337 - mmaction - INFO - Evaluating mean_class_accuracy ...\n",
      "2021-08-10 08:23:56,338 - mmaction - INFO - \n",
      "mean_acc\t0.1667\n",
      "2021-08-10 08:23:56,338 - mmaction - INFO - Epoch(val) [10][3]\ttop1_acc: 0.1818, top5_acc: 1.0000, mean_class_accuracy: 0.1667\n"
     ]
    },
    {
     "name": "stdout",
     "output_type": "stream",
     "text": [
      "[>>>>>>>>>>>>>>>>>>>>>>>>>>>>>>>>>>>>>>>>>>>>>>>>>>] 11/11, 9.7 task/s, elapsed: 1s, ETA:     0s"
     ]
    },
    {
     "name": "stderr",
     "output_type": "stream",
     "text": [
      "2021-08-10 08:26:01,773 - mmaction - INFO - Evaluating top_k_accuracy ...\n",
      "2021-08-10 08:26:01,775 - mmaction - INFO - \n",
      "top1_acc\t0.2727\n",
      "top5_acc\t1.0000\n",
      "2021-08-10 08:26:01,775 - mmaction - INFO - Evaluating mean_class_accuracy ...\n",
      "2021-08-10 08:26:01,777 - mmaction - INFO - \n",
      "mean_acc\t0.2500\n",
      "2021-08-10 08:26:01,777 - mmaction - INFO - Epoch(val) [15][3]\ttop1_acc: 0.2727, top5_acc: 1.0000, mean_class_accuracy: 0.2500\n",
      "2021-08-10 08:28:08,388 - mmaction - INFO - Saving checkpoint at 20 epochs\n"
     ]
    },
    {
     "name": "stdout",
     "output_type": "stream",
     "text": [
      "[>>>>>>>>>>>>>>>>>>>>>>>>>>>>>>>>>>>>>>>>>>>>>>>>>>] 11/11, 9.5 task/s, elapsed: 1s, ETA:     0s"
     ]
    },
    {
     "name": "stderr",
     "output_type": "stream",
     "text": [
      "2021-08-10 08:28:09,906 - mmaction - INFO - Evaluating top_k_accuracy ...\n",
      "2021-08-10 08:28:09,907 - mmaction - INFO - \n",
      "top1_acc\t0.1818\n",
      "top5_acc\t1.0000\n",
      "2021-08-10 08:28:09,908 - mmaction - INFO - Evaluating mean_class_accuracy ...\n",
      "2021-08-10 08:28:09,909 - mmaction - INFO - \n",
      "mean_acc\t0.1333\n",
      "2021-08-10 08:28:09,909 - mmaction - INFO - Epoch(val) [20][3]\ttop1_acc: 0.1818, top5_acc: 1.0000, mean_class_accuracy: 0.1333\n"
     ]
    },
    {
     "name": "stdout",
     "output_type": "stream",
     "text": [
      "[>>>>>>>>>>>>>>>>>>>>>>>>>>>>>>>>>>>>>>>>>>>>>>>>>>] 11/11, 9.1 task/s, elapsed: 1s, ETA:     0s"
     ]
    },
    {
     "name": "stderr",
     "output_type": "stream",
     "text": [
      "2021-08-10 08:30:15,204 - mmaction - INFO - Evaluating top_k_accuracy ...\n",
      "2021-08-10 08:30:15,206 - mmaction - INFO - \n",
      "top1_acc\t0.2727\n",
      "top5_acc\t1.0000\n",
      "2021-08-10 08:30:15,207 - mmaction - INFO - Evaluating mean_class_accuracy ...\n",
      "2021-08-10 08:30:15,208 - mmaction - INFO - \n",
      "mean_acc\t0.1833\n",
      "2021-08-10 08:30:15,209 - mmaction - INFO - Epoch(val) [25][3]\ttop1_acc: 0.2727, top5_acc: 1.0000, mean_class_accuracy: 0.1833\n"
     ]
    },
    {
     "name": "stdout",
     "output_type": "stream",
     "text": [
      "[>>>>>>>>>>>>>>>>>>>>>>>>>>>>>>>>>>>>>>>>>>>>>>>>>>] 11/11, 9.6 task/s, elapsed: 1s, ETA:     0s"
     ]
    },
    {
     "name": "stderr",
     "output_type": "stream",
     "text": [
      "2021-08-10 08:32:21,612 - mmaction - INFO - Evaluating top_k_accuracy ...\n",
      "2021-08-10 08:32:21,614 - mmaction - INFO - \n",
      "top1_acc\t0.3636\n",
      "top5_acc\t1.0000\n",
      "2021-08-10 08:32:21,615 - mmaction - INFO - Evaluating mean_class_accuracy ...\n",
      "2021-08-10 08:32:21,617 - mmaction - INFO - \n",
      "mean_acc\t0.3125\n",
      "2021-08-10 08:32:21,940 - mmaction - INFO - Now best checkpoint is saved as best_top1_acc_epoch_30.pth.\n",
      "2021-08-10 08:32:21,941 - mmaction - INFO - Best top1_acc is 0.3636 at 30 epoch.\n",
      "2021-08-10 08:32:21,942 - mmaction - INFO - Epoch(val) [30][3]\ttop1_acc: 0.3636, top5_acc: 1.0000, mean_class_accuracy: 0.3125\n"
     ]
    },
    {
     "name": "stdout",
     "output_type": "stream",
     "text": [
      "[>>>>>>>>>>>>>>>>>>>>>>>>>>>>>>>>>>>>>>>>>>>>>>>>>>] 11/11, 9.6 task/s, elapsed: 1s, ETA:     0s"
     ]
    },
    {
     "name": "stderr",
     "output_type": "stream",
     "text": [
      "2021-08-10 08:34:28,553 - mmaction - INFO - Evaluating top_k_accuracy ...\n",
      "2021-08-10 08:34:28,554 - mmaction - INFO - \n",
      "top1_acc\t0.2727\n",
      "top5_acc\t1.0000\n",
      "2021-08-10 08:34:28,555 - mmaction - INFO - Evaluating mean_class_accuracy ...\n",
      "2021-08-10 08:34:28,555 - mmaction - INFO - \n",
      "mean_acc\t0.1833\n",
      "2021-08-10 08:34:28,556 - mmaction - INFO - Epoch(val) [35][3]\ttop1_acc: 0.2727, top5_acc: 1.0000, mean_class_accuracy: 0.1833\n",
      "2021-08-10 08:36:37,867 - mmaction - INFO - Saving checkpoint at 40 epochs\n"
     ]
    },
    {
     "name": "stdout",
     "output_type": "stream",
     "text": [
      "[>>>>>>>>>>>>>>>>>>>>>>>>>>>>>>>>>>>>>>>>>>>>>>>>>>] 11/11, 9.3 task/s, elapsed: 1s, ETA:     0s"
     ]
    },
    {
     "name": "stderr",
     "output_type": "stream",
     "text": [
      "2021-08-10 08:36:39,421 - mmaction - INFO - Evaluating top_k_accuracy ...\n",
      "2021-08-10 08:36:39,423 - mmaction - INFO - \n",
      "top1_acc\t0.2727\n",
      "top5_acc\t1.0000\n",
      "2021-08-10 08:36:39,423 - mmaction - INFO - Evaluating mean_class_accuracy ...\n",
      "2021-08-10 08:36:39,424 - mmaction - INFO - \n",
      "mean_acc\t0.1833\n",
      "2021-08-10 08:36:39,426 - mmaction - INFO - Epoch(val) [40][3]\ttop1_acc: 0.2727, top5_acc: 1.0000, mean_class_accuracy: 0.1833\n"
     ]
    },
    {
     "name": "stdout",
     "output_type": "stream",
     "text": [
      "[>>>>>>>>>>>>>>>>>>>>>>>>>>>>>>>>>>>>>>>>>>>>>>>>>>] 11/11, 9.1 task/s, elapsed: 1s, ETA:     0s"
     ]
    },
    {
     "name": "stderr",
     "output_type": "stream",
     "text": [
      "2021-08-10 08:38:50,814 - mmaction - INFO - Evaluating top_k_accuracy ...\n",
      "2021-08-10 08:38:50,816 - mmaction - INFO - \n",
      "top1_acc\t0.2727\n",
      "top5_acc\t1.0000\n",
      "2021-08-10 08:38:50,817 - mmaction - INFO - Evaluating mean_class_accuracy ...\n",
      "2021-08-10 08:38:50,819 - mmaction - INFO - \n",
      "mean_acc\t0.1833\n",
      "2021-08-10 08:38:50,820 - mmaction - INFO - Epoch(val) [45][3]\ttop1_acc: 0.2727, top5_acc: 1.0000, mean_class_accuracy: 0.1833\n",
      "2021-08-10 08:41:01,028 - mmaction - INFO - Saving checkpoint at 50 epochs\n"
     ]
    },
    {
     "name": "stdout",
     "output_type": "stream",
     "text": [
      "[>>>>>>>>>>>>>>>>>>>>>>>>>>>>>>>>>>>>>>>>>>>>>>>>>>] 11/11, 9.5 task/s, elapsed: 1s, ETA:     0s"
     ]
    },
    {
     "name": "stderr",
     "output_type": "stream",
     "text": [
      "2021-08-10 08:41:02,547 - mmaction - INFO - Evaluating top_k_accuracy ...\n",
      "2021-08-10 08:41:02,549 - mmaction - INFO - \n",
      "top1_acc\t0.1818\n",
      "top5_acc\t1.0000\n",
      "2021-08-10 08:41:02,550 - mmaction - INFO - Evaluating mean_class_accuracy ...\n",
      "2021-08-10 08:41:02,553 - mmaction - INFO - \n",
      "mean_acc\t0.1333\n",
      "2021-08-10 08:41:02,554 - mmaction - INFO - Epoch(val) [50][3]\ttop1_acc: 0.1818, top5_acc: 1.0000, mean_class_accuracy: 0.1333\n"
     ]
    }
   ],
   "source": [
    "import os.path as osp\n",
    "\n",
    "from mmaction.datasets import build_dataset\n",
    "from mmaction.models import build_model\n",
    "from mmaction.apis import train_model\n",
    "\n",
    "import mmcv\n",
    "\n",
    "# Build the dataset\n",
    "datasets = [build_dataset(cfg.data.train)]\n",
    "\n",
    "# Build the recognizer\n",
    "model = build_model(cfg.model, train_cfg=cfg.get('train_cfg'), test_cfg=cfg.get('test_cfg'))\n",
    "# model = build_model(cfg.model, train_cfg=cfg.get('train_cfg'), test_cfg=cfg.get('test_cfg'))\n",
    "# model = build_detector(cfg.model, train_cfg=cfg.get('train_cfg'), test_cfg=cfg.get('test_cfg'))\n",
    "# model = build_detector(cfg.model, train_cfg=cfg.train_cfg, test_cfg=cfg.test_cfg)\n",
    "# CUDA_LAUNCH_BLOCKING=1\n",
    "# Create work_dir\n",
    "mmcv.mkdir_or_exist(osp.abspath(cfg.work_dir))\n",
    "train_model(model, datasets, cfg, distributed=False, validate=True)"
   ]
  },
  {
   "cell_type": "code",
   "execution_count": 9,
   "id": "a8a30974-7783-4e06-9c26-2010b8bb6919",
   "metadata": {},
   "outputs": [],
   "source": [
    "import pickle\n",
    "\n",
    "with open(f\"{cfg.work_dir}/model50e\", 'wb') as f:\n",
    "    pickle.dump(model, f)"
   ]
  },
  {
   "cell_type": "code",
   "execution_count": 10,
   "id": "238b2637-eafb-4c0d-86d7-4587e4652585",
   "metadata": {
    "colab": {
     "base_uri": "https://localhost:8080/"
    },
    "id": "eyY3hCMwyTct",
    "outputId": "200e37c7-0da4-421f-98da-41418c3110ca",
    "tags": []
   },
   "outputs": [
    {
     "name": "stdout",
     "output_type": "stream",
     "text": [
      "[>>>>>>>>>>>>>>>>>>>>>>>>>>>>>>>>>>>>>>>>>>>>>>>>>>] 8/8, 0.4 task/s, elapsed: 18s, ETA:     0s\n",
      "Evaluating top_k_accuracy ...\n",
      "\n",
      "top1_acc\t0.0000\n",
      "top5_acc\t0.8750\n",
      "\n",
      "Evaluating mean_class_accuracy ...\n",
      "\n",
      "mean_acc\t0.0000\n",
      "top1_acc: 0.0000\n",
      "top5_acc: 0.8750\n",
      "mean_class_accuracy: 0.0000\n"
     ]
    }
   ],
   "source": [
    "from mmaction.apis import single_gpu_test\n",
    "from mmaction.datasets import build_dataloader\n",
    "from mmcv.parallel import MMDataParallel\n",
    "# from mmaction.models import build_model\n",
    "# from mmaction.datasets import build_dataset\n",
    "\n",
    "# model = build_model(cfg.model, train_cfg=cfg.get('train_cfg'), test_cfg=cfg.get('test_cfg'))\n",
    "# Build a test dataloader\n",
    "dataset = build_dataset(cfg.data.test, dict(test_mode=True))\n",
    "data_loader = build_dataloader(\n",
    "        dataset,\n",
    "        videos_per_gpu=1,\n",
    "        workers_per_gpu=2,\n",
    "        dist=False,\n",
    "        shuffle=False)\n",
    "model = MMDataParallel(model, device_ids=[0])\n",
    "outputs = single_gpu_test(model, data_loader)\n",
    "\n",
    "eval_config = cfg.evaluation\n",
    "eval_config.pop('interval')\n",
    "eval_res = dataset.evaluate(outputs, **eval_config)\n",
    "for name, val in eval_res.items():\n",
    "    print(f'{name}: {val:.04f}')\n",
    "    \n",
    "output_config = cfg.output_config\n",
    "dataset.dump_results(outputs, **output_config)"
   ]
  },
  {
   "cell_type": "code",
   "execution_count": 12,
   "id": "65e13ddb-894e-4059-873a-960b34ac7a88",
   "metadata": {
    "tags": []
   },
   "outputs": [
    {
     "data": {
      "text/plain": [
       "<AxesSubplot:>"
      ]
     },
     "execution_count": 12,
     "metadata": {},
     "output_type": "execute_result"
    },
    {
     "data": {
      "image/png": "[encoded data removed]",
      "text/plain": [
       "<Figure size 432x288 with 2 Axes>"
      ]
     },
     "metadata": {
      "needs_background": "light"
     },
     "output_type": "display_data"
    }
   ],
   "source": [
    "import seaborn as sns\n",
    "import numpy as np\n",
    "from mmaction.core import confusion_matrix \n",
    "\n",
    "gt_labels = [ann['label'] for ann in dataset.load_annotations()]\n",
    "pred = np.argmax(outputs, axis=1)\n",
    "cf_mat = confusion_matrix(pred, gt_labels).astype(float)\n",
    "cmap = sns.cubehelix_palette(50, hue=0.05, rot=0, light=0.9, dark=0, as_cmap=True)\n",
    "# /np.sum(cf_mat), fmt='.2%',\n",
    "sns.heatmap(cf_mat, cmap=cmap, annot=True, xticklabels = ['6yo', '7yo', '8yo', '9yo', '10yo', '11yo'], yticklabels = ['6yo', '7yo', '8yo', '9yo', '10yo', '11yo'])"
   ]
  },
  {
   "cell_type": "code",
   "execution_count": 14,
   "id": "eb55bc95-346e-4e2b-8a99-0d823104a28e",
   "metadata": {},
   "outputs": [
    {
     "name": "stdout",
     "output_type": "stream",
     "text": [
      "0.226890756302521\n"
     ]
    }
   ],
   "source": [
    "mean_error = (2+4+4+4+3+2+4+1+1+2)/119 #number of all tested videos\n",
    "print(mean_error)"
   ]
  },
  {
   "cell_type": "raw",
   "id": "d7ff2a6c-01ae-4f3f-8e98-3f8dbf02e761",
   "metadata": {},
   "source": []
  },
  {
   "cell_type": "code",
   "execution_count": null,
   "id": "94e11aaf-1799-4d50-9138-c5f882fb4d98",
   "metadata": {},
   "outputs": [],
   "source": []
  }
 ],
 "metadata": {
  "kernelspec": {
   "display_name": "Python 3",
   "language": "python",
   "name": "python3"
  },
  "language_info": {
   "codemirror_mode": {
    "name": "ipython",
    "version": 3
   },
   "file_extension": ".py",
   "mimetype": "text/x-python",
   "name": "python",
   "nbconvert_exporter": "python",
   "pygments_lexer": "ipython3",
   "version": "3.7.10"
  }
 },
 "nbformat": 4,
 "nbformat_minor": 5
}
