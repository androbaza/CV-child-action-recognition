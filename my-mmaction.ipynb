{
 "cells": [
  {
   "cell_type": "markdown",
   "metadata": {
    "colab_type": "text",
    "id": "view-in-github"
   },
   "source": [
    "<a href=\"https://colab.research.google.com/github/open-mmlab/mmaction2/blob/master/demo/mmaction2_tutorial.ipynb\" target=\"_parent\"><img src=\"https://colab.research.google.com/assets/colab-badge.svg\" alt=\"Open In Colab\"/></a>"
   ]
  },
  {
   "cell_type": "markdown",
   "metadata": {
    "id": "VcjSRFELVbNk",
    "tags": []
   },
   "source": [
    "# Import Dependencies"
   ]
  },
  {
   "cell_type": "code",
   "execution_count": 1,
   "metadata": {
    "colab": {
     "base_uri": "https://localhost:8080/"
    },
    "id": "Bf8PpPXtVvmg",
    "outputId": "2c685a33-474b-4e71-8f98-c2533c66095e",
    "tags": []
   },
   "outputs": [
    {
     "name": "stdout",
     "output_type": "stream",
     "text": [
      "nvcc: NVIDIA (R) Cuda compiler driver\n",
      "Copyright (c) 2005-2017 NVIDIA Corporation\n",
      "Built on Fri_Nov__3_21:07:56_CDT_2017\n",
      "Cuda compilation tools, release 9.1, V9.1.85\n",
      "gcc (Ubuntu 7.5.0-3ubuntu1~18.04) 7.5.0\n",
      "Copyright (C) 2017 Free Software Foundation, Inc.\n",
      "This is free software; see the source for copying conditions.  There is NO\n",
      "warranty; not even for MERCHANTABILITY or FITNESS FOR A PARTICULAR PURPOSE.\n",
      "\n"
     ]
    }
   ],
   "source": [
    "# Check nvcc version\n",
    "!nvcc -V\n",
    "# Check GCC version\n",
    "!gcc --version"
   ]
  },
  {
   "cell_type": "code",
   "execution_count": 2,
   "metadata": {
    "colab": {
     "base_uri": "https://localhost:8080/"
    },
    "id": "5PAJ4ArzV5Ry",
    "outputId": "e48dbf61-fae0-431c-e964-04c7caaee4bc",
    "tags": []
   },
   "outputs": [],
   "source": [
    "\n",
    "# Install some optional requirements\n",
    "# !pip install -r requirements/optional.txt"
   ]
  },
  {
   "cell_type": "code",
   "execution_count": 1,
   "metadata": {
    "colab": {
     "base_uri": "https://localhost:8080/"
    },
    "id": "No_zZAFpWC-a",
    "outputId": "1d425eea-d44e-434a-991c-01eb15abaab2",
    "scrolled": true,
    "tags": []
   },
   "outputs": [
    {
     "name": "stdout",
     "output_type": "stream",
     "text": [
      "1.7.0+cu110 True\n",
      "0.12.0\n",
      "11.0\n",
      "GCC 7.5\n"
     ]
    }
   ],
   "source": [
    "# Check Pytorch installation\n",
    "import torch, torchvision\n",
    "print(torch.__version__, torch.cuda.is_available())\n",
    "\n",
    "# Check MMAction2 installation\n",
    "import mmaction\n",
    "print(mmaction.__version__)\n",
    "\n",
    "# Check MMCV installation\n",
    "from mmcv.ops import get_compiling_cuda_version, get_compiler_version\n",
    "print(get_compiling_cuda_version())\n",
    "print(get_compiler_version())\n",
    "\n",
    "import sys\n",
    "sys.path.append('/home/actrec/.local/lib/python3.6/site-packages/decord-0.5.3-py3.6-linux-x86_64.egg')\n",
    "import decord\n",
    "import pickle"
   ]
  },
  {
   "cell_type": "code",
   "execution_count": 4,
   "metadata": {},
   "outputs": [
    {
     "name": "stdout",
     "output_type": "stream",
     "text": [
      "/home/actrec/.virtualenvs/mmaction/mmaction2\n"
     ]
    }
   ],
   "source": [
    "cd .."
   ]
  },
  {
   "cell_type": "code",
   "execution_count": 1,
   "metadata": {},
   "outputs": [
    {
     "name": "stdout",
     "output_type": "stream",
     "text": [
      "\u001b[0m\u001b[01;34mcheckpoints\u001b[0m/  \u001b[01;34mdemo\u001b[0m/        LICENSE              README.md         setup.cfg\n",
      "\u001b[01;34mchildact-mm\u001b[0m/  \u001b[01;34mdocker\u001b[0m/      \u001b[01;34mmmaction\u001b[0m/            README_zh-CN.md   setup.py\n",
      "\u001b[01;34mconfigs\u001b[0m/      \u001b[01;34mdocs\u001b[0m/        \u001b[01;34mmmaction2.egg-info\u001b[0m/  \u001b[01;34mrequirements\u001b[0m/     \u001b[01;34mtests\u001b[0m/\n",
      "\u001b[01;34mdata\u001b[0m/         \u001b[01;34mdocs_zh_CN\u001b[0m/  my-mmaction.ipynb    requirements.txt  \u001b[01;34mtools\u001b[0m/\n"
     ]
    }
   ],
   "source": [
    "ls"
   ]
  },
  {
   "cell_type": "markdown",
   "metadata": {
    "heading_collapsed": "true",
    "tags": []
   },
   "source": [
    "# TSN 90.48% "
   ]
  },
  {
   "cell_type": "code",
   "execution_count": 11,
   "metadata": {
    "id": "LjCcmCKOjktc",
    "tags": []
   },
   "outputs": [],
   "source": [
    "from mmcv import Config\n",
    "cfg = Config.fromfile('./configs/recognition/tsn/tsn_r50_video_1x1x8_100e_kinetics400_rgb.py')"
   ]
  },
  {
   "cell_type": "code",
   "execution_count": 25,
   "metadata": {
    "colab": {
     "base_uri": "https://localhost:8080/"
    },
    "collapsed": true,
    "id": "64CW6d_AaT-Q",
    "jupyter": {
     "outputs_hidden": true
    },
    "outputId": "3b284fd8-4ee7-4a34-90d7-5023cd123a04",
    "tags": []
   },
   "outputs": [
    {
     "name": "stdout",
     "output_type": "stream",
     "text": [
      "--2021-03-22 01:46:07--  https://download.openmmlab.com/mmaction/recognition/tsn/tsn_r50_video_1x1x8_100e_kinetics600_rgb/tsn_r50_video_1x1x8_100e_kinetics600_rgb_20201015-4db3c461.pth\n",
      "Resolving download.openmmlab.com (download.openmmlab.com)... 47.75.20.25\n",
      "Connecting to download.openmmlab.com (download.openmmlab.com)|47.75.20.25|:443... connected.\n",
      "HTTP request sent, awaiting response... 200 OK\n",
      "Length: 99220779 (95M) [application/octet-stream]\n",
      "Saving to: ‘checkpoints/tsn_r50_video_1x1x8_100e_kinetics600_rgb_20201015-4db3c461.pth’\n",
      "\n",
      "checkpoints/tsn_r50 100%[===================>]  94,62M  10,5MB/s    in 11s     \n",
      "\n",
      "2021-03-22 01:46:22 (8,61 MB/s) - ‘checkpoints/tsn_r50_video_1x1x8_100e_kinetics600_rgb_20201015-4db3c461.pth’ saved [99220779/99220779]\n",
      "\n"
     ]
    }
   ],
   "source": [
    "# !mkdir checkpoints\n",
    "# !wget -c https://download.openmmlab.com/   .pth \\\n",
    "#       -O checkpoints/db3c461.pth"
   ]
  },
  {
   "cell_type": "code",
   "execution_count": 12,
   "metadata": {
    "colab": {
     "base_uri": "https://localhost:8080/"
    },
    "id": "tlhu9byjjt-K",
    "outputId": "13d1bb01-f351-48c0-9efb-0bdf2c125d29",
    "tags": []
   },
   "outputs": [
    {
     "name": "stdout",
     "output_type": "stream",
     "text": [
      "Config:\n",
      "model = dict(\n",
      "    type='Recognizer2D',\n",
      "    backbone=dict(\n",
      "        type='ResNet',\n",
      "        pretrained='torchvision://resnet50',\n",
      "        depth=50,\n",
      "        norm_eval=False),\n",
      "    cls_head=dict(\n",
      "        type='TSNHead',\n",
      "        num_classes=7,\n",
      "        in_channels=2048,\n",
      "        spatial_type='avg',\n",
      "        consensus=dict(type='AvgConsensus', dim=1),\n",
      "        dropout_ratio=0.4,\n",
      "        init_std=0.01),\n",
      "    train_cfg=None,\n",
      "    test_cfg=dict(average_clips=None))\n",
      "optimizer = dict(type='SGD', lr=0.0001, momentum=0.9, weight_decay=0.0001)\n",
      "optimizer_config = dict(grad_clip=dict(max_norm=40, norm_type=2))\n",
      "lr_config = dict(policy='step', step=[40, 80])\n",
      "total_epochs = 30\n",
      "checkpoint_config = dict(interval=2)\n",
      "log_config = dict(interval=10, hooks=[dict(type='TextLoggerHook')])\n",
      "dist_params = dict(backend='nccl')\n",
      "log_level = 'INFO'\n",
      "load_from = None\n",
      "resume_from = './childact-mm/latest.pth'\n",
      "workflow = [('train', 1)]\n",
      "dataset_type = 'VideoDataset'\n",
      "data_root = 'data/childact_split/train/'\n",
      "data_root_val = 'data/childact_split/val/'\n",
      "ann_file_train = 'data/childact_split/childact_train_video.txt'\n",
      "ann_file_val = 'data/childact_split/childact_val_video.txt'\n",
      "ann_file_test = 'data/childact_split/childact_test_video.txt'\n",
      "img_norm_cfg = dict(\n",
      "    mean=[123.675, 116.28, 103.53], std=[58.395, 57.12, 57.375], to_bgr=False)\n",
      "train_pipeline = [\n",
      "    dict(type='DecordInit'),\n",
      "    dict(type='SampleFrames', clip_len=1, frame_interval=1, num_clips=8),\n",
      "    dict(type='DecordDecode'),\n",
      "    dict(\n",
      "        type='MultiScaleCrop',\n",
      "        input_size=224,\n",
      "        scales=(1, 0.875, 0.75, 0.66),\n",
      "        random_crop=False,\n",
      "        max_wh_scale_gap=1),\n",
      "    dict(type='Resize', scale=(224, 224), keep_ratio=False),\n",
      "    dict(type='Flip', flip_ratio=0.5),\n",
      "    dict(\n",
      "        type='Normalize',\n",
      "        mean=[123.675, 116.28, 103.53],\n",
      "        std=[58.395, 57.12, 57.375],\n",
      "        to_bgr=False),\n",
      "    dict(type='FormatShape', input_format='NCHW'),\n",
      "    dict(type='Collect', keys=['imgs', 'label'], meta_keys=[]),\n",
      "    dict(type='ToTensor', keys=['imgs', 'label'])\n",
      "]\n",
      "val_pipeline = [\n",
      "    dict(type='DecordInit'),\n",
      "    dict(\n",
      "        type='SampleFrames',\n",
      "        clip_len=1,\n",
      "        frame_interval=1,\n",
      "        num_clips=8,\n",
      "        test_mode=True),\n",
      "    dict(type='DecordDecode'),\n",
      "    dict(type='Resize', scale=(-1, 256)),\n",
      "    dict(type='CenterCrop', crop_size=224),\n",
      "    dict(type='Flip', flip_ratio=0),\n",
      "    dict(\n",
      "        type='Normalize',\n",
      "        mean=[123.675, 116.28, 103.53],\n",
      "        std=[58.395, 57.12, 57.375],\n",
      "        to_bgr=False),\n",
      "    dict(type='FormatShape', input_format='NCHW'),\n",
      "    dict(type='Collect', keys=['imgs', 'label'], meta_keys=[]),\n",
      "    dict(type='ToTensor', keys=['imgs'])\n",
      "]\n",
      "test_pipeline = [\n",
      "    dict(type='DecordInit'),\n",
      "    dict(\n",
      "        type='SampleFrames',\n",
      "        clip_len=1,\n",
      "        frame_interval=1,\n",
      "        num_clips=25,\n",
      "        test_mode=True),\n",
      "    dict(type='DecordDecode'),\n",
      "    dict(type='Resize', scale=(-1, 256)),\n",
      "    dict(type='ThreeCrop', crop_size=256),\n",
      "    dict(type='Flip', flip_ratio=0),\n",
      "    dict(\n",
      "        type='Normalize',\n",
      "        mean=[123.675, 116.28, 103.53],\n",
      "        std=[58.395, 57.12, 57.375],\n",
      "        to_bgr=False),\n",
      "    dict(type='FormatShape', input_format='NCHW'),\n",
      "    dict(type='Collect', keys=['imgs', 'label'], meta_keys=[]),\n",
      "    dict(type='ToTensor', keys=['imgs'])\n",
      "]\n",
      "data = dict(\n",
      "    videos_per_gpu=32,\n",
      "    workers_per_gpu=4,\n",
      "    train=dict(\n",
      "        type='VideoDataset',\n",
      "        ann_file='data/childact_split/childact_train_video.txt',\n",
      "        data_prefix='data/childact_split/train/',\n",
      "        pipeline=[\n",
      "            dict(type='DecordInit'),\n",
      "            dict(\n",
      "                type='SampleFrames', clip_len=1, frame_interval=1,\n",
      "                num_clips=8),\n",
      "            dict(type='DecordDecode'),\n",
      "            dict(\n",
      "                type='MultiScaleCrop',\n",
      "                input_size=224,\n",
      "                scales=(1, 0.875, 0.75, 0.66),\n",
      "                random_crop=False,\n",
      "                max_wh_scale_gap=1),\n",
      "            dict(type='Resize', scale=(224, 224), keep_ratio=False),\n",
      "            dict(type='Flip', flip_ratio=0.5),\n",
      "            dict(\n",
      "                type='Normalize',\n",
      "                mean=[123.675, 116.28, 103.53],\n",
      "                std=[58.395, 57.12, 57.375],\n",
      "                to_bgr=False),\n",
      "            dict(type='FormatShape', input_format='NCHW'),\n",
      "            dict(type='Collect', keys=['imgs', 'label'], meta_keys=[]),\n",
      "            dict(type='ToTensor', keys=['imgs', 'label'])\n",
      "        ]),\n",
      "    val=dict(\n",
      "        type='VideoDataset',\n",
      "        ann_file='data/childact_split/childact_val_video.txt',\n",
      "        data_prefix='data/childact_split/val/',\n",
      "        pipeline=[\n",
      "            dict(type='DecordInit'),\n",
      "            dict(\n",
      "                type='SampleFrames',\n",
      "                clip_len=1,\n",
      "                frame_interval=1,\n",
      "                num_clips=8,\n",
      "                test_mode=True),\n",
      "            dict(type='DecordDecode'),\n",
      "            dict(type='Resize', scale=(-1, 256)),\n",
      "            dict(type='CenterCrop', crop_size=224),\n",
      "            dict(type='Flip', flip_ratio=0),\n",
      "            dict(\n",
      "                type='Normalize',\n",
      "                mean=[123.675, 116.28, 103.53],\n",
      "                std=[58.395, 57.12, 57.375],\n",
      "                to_bgr=False),\n",
      "            dict(type='FormatShape', input_format='NCHW'),\n",
      "            dict(type='Collect', keys=['imgs', 'label'], meta_keys=[]),\n",
      "            dict(type='ToTensor', keys=['imgs'])\n",
      "        ]),\n",
      "    test=dict(\n",
      "        type='VideoDataset',\n",
      "        ann_file='data/childact_split/childact_test_video.txt',\n",
      "        data_prefix='data/childact_split/test/',\n",
      "        pipeline=[\n",
      "            dict(type='DecordInit'),\n",
      "            dict(\n",
      "                type='SampleFrames',\n",
      "                clip_len=1,\n",
      "                frame_interval=1,\n",
      "                num_clips=25,\n",
      "                test_mode=True),\n",
      "            dict(type='DecordDecode'),\n",
      "            dict(type='Resize', scale=(-1, 256)),\n",
      "            dict(type='ThreeCrop', crop_size=256),\n",
      "            dict(type='Flip', flip_ratio=0),\n",
      "            dict(\n",
      "                type='Normalize',\n",
      "                mean=[123.675, 116.28, 103.53],\n",
      "                std=[58.395, 57.12, 57.375],\n",
      "                to_bgr=False),\n",
      "            dict(type='FormatShape', input_format='NCHW'),\n",
      "            dict(type='Collect', keys=['imgs', 'label'], meta_keys=[]),\n",
      "            dict(type='ToTensor', keys=['imgs'])\n",
      "        ]))\n",
      "evaluation = dict(\n",
      "    interval=5, metrics=['top_k_accuracy', 'mean_class_accuracy'])\n",
      "work_dir = './childact-mm/'\n",
      "omnisource = False\n",
      "seed = 42\n",
      "gpu_ids = range(0, 1)\n",
      "\n"
     ]
    }
   ],
   "source": [
    "from mmcv.runner import set_random_seed\n",
    "\n",
    "# Modify dataset type and path\n",
    "cfg.dataset_type = 'VideoDataset'\n",
    "cfg.data_root = 'data/childact_split/train/'\n",
    "cfg.data_root_val = 'data/childact_split/val/'\n",
    "cfg.ann_file_train = 'data/childact_split/childact_train_video.txt'\n",
    "cfg.ann_file_val = 'data/childact_split/childact_val_video.txt'\n",
    "cfg.ann_file_test = 'data/childact_split/childact_test_video.txt'\n",
    "\n",
    "cfg.data.test.type = 'VideoDataset'\n",
    "cfg.data.test.ann_file = 'data/childact_split/childact_test_video.txt'\n",
    "cfg.data.test.data_prefix = 'data/childact_split/test/'\n",
    "\n",
    "cfg.data.train.type = 'VideoDataset'\n",
    "cfg.data.train.ann_file = 'data/childact_split/childact_train_video.txt'\n",
    "cfg.data.train.data_prefix = 'data/childact_split/train/'\n",
    "\n",
    "cfg.data.val.type = 'VideoDataset'\n",
    "cfg.data.val.ann_file = 'data/childact_split/childact_val_video.txt'\n",
    "cfg.data.val.data_prefix = 'data/childact_split/val/'\n",
    "\n",
    "# The flag is used to determine whether it is omnisource training\n",
    "cfg.setdefault('omnisource', False)\n",
    "# Modify num classes of the model in cls_head\n",
    "cfg.model.cls_head.num_classes = 7\n",
    "# We can use the pre-trained TSN model\n",
    "# cfg.load_from = './checkpoints/best_top1_acc_epoch_5.pth'\n",
    "cfg.resume_from = './childact-mm/latest.pth'\n",
    "\n",
    "# Set up working dir to save files and logs.\n",
    "cfg.work_dir = './childact-mm/'\n",
    "\n",
    "# The original learning rate (LR) is set for 8-GPU training.\n",
    "# We divide it by 8 since we only use one GPU.\n",
    "cfg.data.videos_per_gpu = 32\n",
    "cfg.optimizer.lr = 0.0001\n",
    "# cfg.lr_config.type = 'cyclic'\n",
    "cfg.total_epochs = 30\n",
    "\n",
    "# We can set the checkpoint saving interval to reduce the storage cost\n",
    "cfg.checkpoint_config.interval = 2\n",
    "# We can set the log print interval to reduce the the times of printing log\n",
    "cfg.log_config.interval = 10\n",
    "\n",
    "# Set seed thus the results are more reproducible\n",
    "cfg.seed = 42\n",
    "set_random_seed(42, deterministic=False)\n",
    "cfg.gpu_ids = range(1)\n",
    "\n",
    "# We can initialize the logger for training and have a look\n",
    "# at the final config used for training\n",
    "print(f'Config:\\n{cfg.pretty_text}')\n"
   ]
  },
  {
   "cell_type": "markdown",
   "metadata": {
    "id": "tES-qnZ3k38Z"
   },
   "source": [
    "### Train a new recognizer\n",
    "\n",
    "Finally, lets initialize the dataset and recognizer, then train a new recognizer!"
   ]
  },
  {
   "cell_type": "code",
   "execution_count": 13,
   "metadata": {
    "colab": {
     "base_uri": "https://localhost:8080/"
    },
    "collapsed": true,
    "id": "dDBWkdDRk6oz",
    "jupyter": {
     "outputs_hidden": true
    },
    "outputId": "85a52ef3-7b5c-4c52-8fef-00322a8c65e6",
    "tags": []
   },
   "outputs": [
    {
     "name": "stderr",
     "output_type": "stream",
     "text": [
      "2021-03-22 16:04:14,045 - mmaction - INFO - These parameters in pretrained checkpoint are not loaded: {'fc.bias', 'fc.weight'}\n"
     ]
    },
    {
     "name": "stdout",
     "output_type": "stream",
     "text": [
      "Use load_from_torchvision loader\n"
     ]
    },
    {
     "name": "stderr",
     "output_type": "stream",
     "text": [
      "2021-03-22 16:04:16,416 - mmaction - INFO - load checkpoint from ./childact-mm/latest.pth\n",
      "2021-03-22 16:04:16,417 - mmaction - INFO - Use load_from_local loader\n",
      "2021-03-22 16:04:16,539 - mmaction - INFO - resumed epoch 12, iter 561\n",
      "2021-03-22 16:04:16,541 - mmaction - INFO - Start running, host: actrec@actrec-HP-Z4-G4-Workstation, work_dir: /home/actrec/.virtualenvs/mmaction/mmaction2/childact-mm\n",
      "2021-03-22 16:04:16,542 - mmaction - INFO - workflow: [('train', 1)], max: 30 epochs\n",
      "/home/actrec/.virtualenvs/mmaction/mmaction2/mmaction/core/evaluation/eval_hooks.py:131: UserWarning: runner.meta is None. Creating a empty one.\n",
      "  warnings.warn('runner.meta is None. Creating a empty one.')\n",
      "2021-03-22 16:05:56,931 - mmaction - INFO - Epoch [13][10/33]\tlr: 5.000e-04, eta: 1:10:06, time: 10.039, data_time: 9.158, memory: 21448, top1_acc: 0.9375, top5_acc: 1.0000, loss_cls: 0.2199, loss: 0.2199, grad_norm: 3.0833\n",
      "2021-03-22 16:07:05,519 - mmaction - INFO - Epoch [13][20/33]\tlr: 5.000e-04, eta: 0:57:35, time: 6.859, data_time: 5.968, memory: 21448, top1_acc: 0.8750, top5_acc: 1.0000, loss_cls: 0.2856, loss: 0.2856, grad_norm: 3.9159\n",
      "2021-03-22 16:08:40,494 - mmaction - INFO - Epoch [13][30/33]\tlr: 5.000e-04, eta: 0:58:30, time: 9.498, data_time: 8.622, memory: 21448, top1_acc: 0.8875, top5_acc: 1.0000, loss_cls: 0.2845, loss: 0.2845, grad_norm: 3.6887\n",
      "2021-03-22 16:10:45,688 - mmaction - INFO - Epoch [14][10/33]\tlr: 5.000e-04, eta: 0:55:00, time: 10.373, data_time: 9.495, memory: 21448, top1_acc: 0.9375, top5_acc: 1.0000, loss_cls: 0.2317, loss: 0.2317, grad_norm: 3.2582\n",
      "2021-03-22 16:11:54,243 - mmaction - INFO - Epoch [14][20/33]\tlr: 5.000e-04, eta: 0:51:34, time: 6.856, data_time: 5.979, memory: 21448, top1_acc: 0.8969, top5_acc: 1.0000, loss_cls: 0.2885, loss: 0.2885, grad_norm: 3.9673\n",
      "2021-03-22 16:13:30,616 - mmaction - INFO - Epoch [14][30/33]\tlr: 5.000e-04, eta: 0:51:34, time: 9.637, data_time: 8.756, memory: 21448, top1_acc: 0.9219, top5_acc: 1.0000, loss_cls: 0.2582, loss: 0.2582, grad_norm: 3.7690\n",
      "2021-03-22 16:13:46,849 - mmaction - INFO - Saving checkpoint at 14 epochs\n",
      "2021-03-22 16:15:31,371 - mmaction - INFO - Epoch [15][10/33]\tlr: 5.000e-04, eta: 0:49:17, time: 10.422, data_time: 9.546, memory: 21448, top1_acc: 0.9156, top5_acc: 1.0000, loss_cls: 0.2607, loss: 0.2607, grad_norm: 3.9742\n",
      "2021-03-22 16:16:36,546 - mmaction - INFO - Epoch [15][20/33]\tlr: 5.000e-04, eta: 0:46:39, time: 6.518, data_time: 5.645, memory: 21448, top1_acc: 0.8906, top5_acc: 1.0000, loss_cls: 0.2774, loss: 0.2774, grad_norm: 4.2109\n",
      "2021-03-22 16:18:12,739 - mmaction - INFO - Epoch [15][30/33]\tlr: 5.000e-04, eta: 0:46:08, time: 9.619, data_time: 8.747, memory: 21448, top1_acc: 0.9000, top5_acc: 1.0000, loss_cls: 0.2686, loss: 0.2686, grad_norm: 4.0837\n"
     ]
    },
    {
     "name": "stdout",
     "output_type": "stream",
     "text": [
      "[>>>>>>>>>>>>>>>>>>>>>>>>>>>>>>>>>>>>>>>>>>>>>>>>>>] 126/126, 3.5 task/s, elapsed: 35s, ETA:     0s"
     ]
    },
    {
     "name": "stderr",
     "output_type": "stream",
     "text": [
      "2021-03-22 16:19:08,703 - mmaction - INFO - Evaluating top_k_accuracy ...\n",
      "2021-03-22 16:19:08,705 - mmaction - INFO - \n",
      "top1_acc\t0.8492\n",
      "top5_acc\t1.0000\n",
      "2021-03-22 16:19:08,706 - mmaction - INFO - Evaluating mean_class_accuracy ...\n",
      "2021-03-22 16:19:08,707 - mmaction - INFO - \n",
      "mean_acc\t0.8492\n",
      "2021-03-22 16:19:09,000 - mmaction - INFO - Now best checkpoint is saved as best_top1_acc_epoch_15.pth.\n",
      "2021-03-22 16:19:09,001 - mmaction - INFO - Best top1_acc is 0.8492 at 15 epoch.\n",
      "2021-03-22 16:19:09,002 - mmaction - INFO - Epoch(val) [15][33]\ttop1_acc: 0.8492, top5_acc: 1.0000, mean_class_accuracy: 0.8492\n",
      "2021-03-22 16:20:54,290 - mmaction - INFO - Epoch [16][10/33]\tlr: 5.000e-04, eta: 0:44:12, time: 10.529, data_time: 9.656, memory: 21448, top1_acc: 0.8656, top5_acc: 1.0000, loss_cls: 0.3135, loss: 0.3135, grad_norm: 5.0392\n",
      "2021-03-22 16:22:01,583 - mmaction - INFO - Epoch [16][20/33]\tlr: 5.000e-04, eta: 0:42:08, time: 6.729, data_time: 5.830, memory: 21448, top1_acc: 0.9094, top5_acc: 0.9969, loss_cls: 0.2887, loss: 0.2887, grad_norm: 4.6742\n",
      "2021-03-22 16:23:36,416 - mmaction - INFO - Epoch [16][30/33]\tlr: 5.000e-04, eta: 0:41:18, time: 9.483, data_time: 8.587, memory: 21448, top1_acc: 0.8875, top5_acc: 1.0000, loss_cls: 0.2946, loss: 0.2946, grad_norm: 4.6754\n",
      "2021-03-22 16:23:49,993 - mmaction - INFO - Saving checkpoint at 16 epochs\n",
      "2021-03-22 16:25:33,204 - mmaction - INFO - Epoch [17][10/33]\tlr: 5.000e-04, eta: 0:39:21, time: 10.292, data_time: 9.408, memory: 21448, top1_acc: 0.8656, top5_acc: 1.0000, loss_cls: 0.3344, loss: 0.3344, grad_norm: 4.8666\n",
      "2021-03-22 16:26:46,080 - mmaction - INFO - Epoch [17][20/33]\tlr: 5.000e-04, eta: 0:37:42, time: 7.288, data_time: 6.408, memory: 21448, top1_acc: 0.9344, top5_acc: 1.0000, loss_cls: 0.2459, loss: 0.2459, grad_norm: 4.0389\n",
      "2021-03-22 16:28:21,720 - mmaction - INFO - Epoch [17][30/33]\tlr: 5.000e-04, eta: 0:36:43, time: 9.564, data_time: 8.689, memory: 21448, top1_acc: 0.8844, top5_acc: 1.0000, loss_cls: 0.3178, loss: 0.3178, grad_norm: 4.5435\n",
      "2021-03-22 16:30:33,123 - mmaction - INFO - Epoch [18][10/33]\tlr: 5.000e-04, eta: 0:34:58, time: 10.863, data_time: 9.958, memory: 21448, top1_acc: 0.9219, top5_acc: 1.0000, loss_cls: 0.2423, loss: 0.2423, grad_norm: 3.7765\n",
      "2021-03-22 16:31:40,469 - mmaction - INFO - Epoch [18][20/33]\tlr: 5.000e-04, eta: 0:33:15, time: 6.735, data_time: 5.828, memory: 21448, top1_acc: 0.9187, top5_acc: 1.0000, loss_cls: 0.2488, loss: 0.2488, grad_norm: 3.7101\n",
      "2021-03-22 16:33:15,571 - mmaction - INFO - Epoch [18][30/33]\tlr: 5.000e-04, eta: 0:32:09, time: 9.510, data_time: 8.597, memory: 21448, top1_acc: 0.9281, top5_acc: 1.0000, loss_cls: 0.2478, loss: 0.2478, grad_norm: 3.9696\n",
      "2021-03-22 16:33:38,128 - mmaction - INFO - Saving checkpoint at 18 epochs\n",
      "2021-03-22 16:35:26,146 - mmaction - INFO - Epoch [19][10/33]\tlr: 5.000e-04, eta: 0:30:23, time: 10.771, data_time: 9.890, memory: 21448, top1_acc: 0.9281, top5_acc: 1.0000, loss_cls: 0.2272, loss: 0.2272, grad_norm: 4.1818\n",
      "2021-03-22 16:36:30,975 - mmaction - INFO - Epoch [19][20/33]\tlr: 5.000e-04, eta: 0:28:43, time: 6.483, data_time: 5.602, memory: 21448, top1_acc: 0.9094, top5_acc: 1.0000, loss_cls: 0.2351, loss: 0.2351, grad_norm: 4.1198\n",
      "2021-03-22 16:38:01,164 - mmaction - INFO - Epoch [19][30/33]\tlr: 5.000e-04, eta: 0:27:29, time: 9.019, data_time: 8.134, memory: 21448, top1_acc: 0.9281, top5_acc: 1.0000, loss_cls: 0.2176, loss: 0.2176, grad_norm: 3.7628\n",
      "2021-03-22 16:40:05,490 - mmaction - INFO - Epoch [20][10/33]\tlr: 5.000e-04, eta: 0:25:38, time: 10.189, data_time: 9.315, memory: 21448, top1_acc: 0.8906, top5_acc: 1.0000, loss_cls: 0.3233, loss: 0.3233, grad_norm: 4.8384\n",
      "2021-03-22 16:41:11,675 - mmaction - INFO - Epoch [20][20/33]\tlr: 5.000e-04, eta: 0:24:05, time: 6.619, data_time: 5.745, memory: 21448, top1_acc: 0.9062, top5_acc: 1.0000, loss_cls: 0.2407, loss: 0.2407, grad_norm: 4.3140\n",
      "2021-03-22 16:42:46,974 - mmaction - INFO - Epoch [20][30/33]\tlr: 5.000e-04, eta: 0:22:53, time: 9.530, data_time: 8.654, memory: 21448, top1_acc: 0.9031, top5_acc: 1.0000, loss_cls: 0.2469, loss: 0.2469, grad_norm: 3.9892\n",
      "2021-03-22 16:43:06,859 - mmaction - INFO - Saving checkpoint at 20 epochs\n"
     ]
    },
    {
     "name": "stdout",
     "output_type": "stream",
     "text": [
      "[>>>>>>>>>>>>>>>>>>>>>>>>>>>>>>>>>>>>>>>>>>>>>>>>>>] 126/126, 3.5 task/s, elapsed: 36s, ETA:     0s"
     ]
    },
    {
     "name": "stderr",
     "output_type": "stream",
     "text": [
      "2021-03-22 16:43:42,967 - mmaction - INFO - Evaluating top_k_accuracy ...\n",
      "2021-03-22 16:43:42,969 - mmaction - INFO - \n",
      "top1_acc\t0.8571\n",
      "top5_acc\t1.0000\n",
      "2021-03-22 16:43:42,970 - mmaction - INFO - Evaluating mean_class_accuracy ...\n",
      "2021-03-22 16:43:42,971 - mmaction - INFO - \n",
      "mean_acc\t0.8571\n",
      "2021-03-22 16:43:43,294 - mmaction - INFO - Now best checkpoint is saved as best_top1_acc_epoch_20.pth.\n",
      "2021-03-22 16:43:43,295 - mmaction - INFO - Best top1_acc is 0.8571 at 20 epoch.\n",
      "2021-03-22 16:43:43,296 - mmaction - INFO - Epoch(val) [20][33]\ttop1_acc: 0.8571, top5_acc: 1.0000, mean_class_accuracy: 0.8571\n",
      "2021-03-22 16:45:20,813 - mmaction - INFO - Epoch [21][10/33]\tlr: 5.000e-04, eta: 0:21:02, time: 9.751, data_time: 8.872, memory: 21448, top1_acc: 0.8875, top5_acc: 1.0000, loss_cls: 0.2959, loss: 0.2959, grad_norm: 5.2473\n",
      "2021-03-22 16:46:30,437 - mmaction - INFO - Epoch [21][20/33]\tlr: 5.000e-04, eta: 0:19:34, time: 6.962, data_time: 6.085, memory: 21448, top1_acc: 0.8875, top5_acc: 1.0000, loss_cls: 0.2686, loss: 0.2686, grad_norm: 4.9177\n",
      "2021-03-22 16:48:02,045 - mmaction - INFO - Epoch [21][30/33]\tlr: 5.000e-04, eta: 0:18:18, time: 9.161, data_time: 8.283, memory: 21448, top1_acc: 0.9031, top5_acc: 1.0000, loss_cls: 0.3019, loss: 0.3019, grad_norm: 4.7605\n",
      "2021-03-22 16:50:06,699 - mmaction - INFO - Epoch [22][10/33]\tlr: 5.000e-04, eta: 0:16:30, time: 10.034, data_time: 9.160, memory: 21448, top1_acc: 0.8688, top5_acc: 1.0000, loss_cls: 0.3052, loss: 0.3052, grad_norm: 5.0368\n",
      "2021-03-22 16:51:13,408 - mmaction - INFO - Epoch [22][20/33]\tlr: 5.000e-04, eta: 0:15:04, time: 6.671, data_time: 5.797, memory: 21448, top1_acc: 0.9094, top5_acc: 1.0000, loss_cls: 0.2709, loss: 0.2709, grad_norm: 5.0456\n",
      "2021-03-22 16:52:45,713 - mmaction - INFO - Epoch [22][30/33]\tlr: 5.000e-04, eta: 0:13:47, time: 9.230, data_time: 8.352, memory: 21448, top1_acc: 0.8875, top5_acc: 1.0000, loss_cls: 0.3308, loss: 0.3308, grad_norm: 5.8989\n",
      "2021-03-22 16:53:09,991 - mmaction - INFO - Saving checkpoint at 22 epochs\n",
      "2021-03-22 16:54:55,630 - mmaction - INFO - Epoch [23][10/33]\tlr: 5.000e-04, eta: 0:12:01, time: 10.536, data_time: 9.659, memory: 21448, top1_acc: 0.8781, top5_acc: 1.0000, loss_cls: 0.2764, loss: 0.2764, grad_norm: 4.5259\n",
      "2021-03-22 16:56:03,253 - mmaction - INFO - Epoch [23][20/33]\tlr: 5.000e-04, eta: 0:10:37, time: 6.762, data_time: 5.851, memory: 21448, top1_acc: 0.9187, top5_acc: 1.0000, loss_cls: 0.2443, loss: 0.2443, grad_norm: 4.7793\n",
      "2021-03-22 16:57:41,139 - mmaction - INFO - Epoch [23][30/33]\tlr: 5.000e-04, eta: 0:09:20, time: 9.789, data_time: 8.896, memory: 21448, top1_acc: 0.8875, top5_acc: 1.0000, loss_cls: 0.2643, loss: 0.2643, grad_norm: 4.7593\n",
      "2021-03-22 16:59:43,807 - mmaction - INFO - Epoch [24][10/33]\tlr: 5.000e-04, eta: 0:07:33, time: 10.066, data_time: 9.187, memory: 21448, top1_acc: 0.8844, top5_acc: 0.9969, loss_cls: 0.2928, loss: 0.2928, grad_norm: 4.9920\n",
      "2021-03-22 17:00:52,804 - mmaction - INFO - Epoch [24][20/33]\tlr: 5.000e-04, eta: 0:06:11, time: 6.900, data_time: 6.024, memory: 21448, top1_acc: 0.9094, top5_acc: 0.9969, loss_cls: 0.2648, loss: 0.2648, grad_norm: 4.4870\n",
      "2021-03-22 17:02:26,723 - mmaction - INFO - Epoch [24][30/33]\tlr: 5.000e-04, eta: 0:04:51, time: 9.392, data_time: 8.515, memory: 21448, top1_acc: 0.8938, top5_acc: 0.9969, loss_cls: 0.2742, loss: 0.2742, grad_norm: 4.9958\n",
      "2021-03-22 17:02:48,610 - mmaction - INFO - Saving checkpoint at 24 epochs\n",
      "2021-03-22 17:04:31,720 - mmaction - INFO - Epoch [25][10/33]\tlr: 5.000e-04, eta: 0:03:06, time: 10.283, data_time: 9.394, memory: 21448, top1_acc: 0.9125, top5_acc: 1.0000, loss_cls: 0.2537, loss: 0.2537, grad_norm: 4.5034\n",
      "2021-03-22 17:05:39,963 - mmaction - INFO - Epoch [25][20/33]\tlr: 5.000e-04, eta: 0:01:44, time: 6.824, data_time: 5.936, memory: 21448, top1_acc: 0.8750, top5_acc: 1.0000, loss_cls: 0.2804, loss: 0.2804, grad_norm: 4.7272\n",
      "2021-03-22 17:07:15,466 - mmaction - INFO - Epoch [25][30/33]\tlr: 5.000e-04, eta: 0:00:24, time: 9.550, data_time: 8.677, memory: 21448, top1_acc: 0.9000, top5_acc: 1.0000, loss_cls: 0.2522, loss: 0.2522, grad_norm: 4.5856\n"
     ]
    },
    {
     "name": "stdout",
     "output_type": "stream",
     "text": [
      "[>>>>>>>>>>>>>>>>>>>>>>>>>>>>>>>>>>>>>>>>>>>>>>>>>>] 126/126, 3.5 task/s, elapsed: 36s, ETA:     0s"
     ]
    },
    {
     "name": "stderr",
     "output_type": "stream",
     "text": [
      "2021-03-22 17:08:12,494 - mmaction - INFO - Evaluating top_k_accuracy ...\n",
      "2021-03-22 17:08:12,496 - mmaction - INFO - \n",
      "top1_acc\t0.8571\n",
      "top5_acc\t1.0000\n",
      "2021-03-22 17:08:12,496 - mmaction - INFO - Evaluating mean_class_accuracy ...\n",
      "2021-03-22 17:08:12,497 - mmaction - INFO - \n",
      "mean_acc\t0.8571\n",
      "2021-03-22 17:08:12,497 - mmaction - INFO - Epoch(val) [25][33]\ttop1_acc: 0.8571, top5_acc: 1.0000, mean_class_accuracy: 0.8571\n",
      "2021-03-22 17:09:53,555 - mmaction - INFO - Epoch [26][10/33]\tlr: 5.000e-04, eta: -1 day, 23:58:40, time: 10.105, data_time: 9.229, memory: 21448, top1_acc: 0.8969, top5_acc: 1.0000, loss_cls: 0.2787, loss: 0.2787, grad_norm: 4.8332\n",
      "2021-03-22 17:11:02,020 - mmaction - INFO - Epoch [26][20/33]\tlr: 5.000e-04, eta: -1 day, 23:57:19, time: 6.847, data_time: 5.975, memory: 21448, top1_acc: 0.9000, top5_acc: 1.0000, loss_cls: 0.2513, loss: 0.2513, grad_norm: 5.1216\n",
      "2021-03-22 17:12:38,741 - mmaction - INFO - Epoch [26][30/33]\tlr: 5.000e-04, eta: -1 day, 23:55:57, time: 9.672, data_time: 8.776, memory: 21448, top1_acc: 0.8812, top5_acc: 1.0000, loss_cls: 0.2711, loss: 0.2711, grad_norm: 5.1664\n",
      "2021-03-22 17:12:58,372 - mmaction - INFO - Saving checkpoint at 26 epochs\n",
      "2021-03-22 17:14:39,326 - mmaction - INFO - Epoch [27][10/33]\tlr: 5.000e-04, eta: -1 day, 23:54:12, time: 10.068, data_time: 9.185, memory: 21448, top1_acc: 0.9125, top5_acc: 1.0000, loss_cls: 0.2284, loss: 0.2284, grad_norm: 4.4295\n",
      "2021-03-22 17:15:48,990 - mmaction - INFO - Epoch [27][20/33]\tlr: 5.000e-04, eta: -1 day, 23:52:53, time: 6.966, data_time: 6.081, memory: 21448, top1_acc: 0.8906, top5_acc: 1.0000, loss_cls: 0.2763, loss: 0.2763, grad_norm: 4.5929\n",
      "2021-03-22 17:17:19,566 - mmaction - INFO - Epoch [27][30/33]\tlr: 5.000e-04, eta: -1 day, 23:51:31, time: 9.058, data_time: 8.169, memory: 21448, top1_acc: 0.9062, top5_acc: 1.0000, loss_cls: 0.2449, loss: 0.2449, grad_norm: 5.1436\n",
      "2021-03-22 17:19:25,203 - mmaction - INFO - Epoch [28][10/33]\tlr: 5.000e-04, eta: -1 day, 23:49:46, time: 10.396, data_time: 9.516, memory: 21448, top1_acc: 0.8844, top5_acc: 1.0000, loss_cls: 0.2822, loss: 0.2822, grad_norm: 5.1844\n",
      "2021-03-22 17:20:36,427 - mmaction - INFO - Epoch [28][20/33]\tlr: 5.000e-04, eta: -1 day, 23:48:27, time: 7.122, data_time: 6.221, memory: 21448, top1_acc: 0.8875, top5_acc: 1.0000, loss_cls: 0.2617, loss: 0.2617, grad_norm: 4.6933\n",
      "2021-03-22 17:22:09,101 - mmaction - INFO - Epoch [28][30/33]\tlr: 5.000e-04, eta: -1 day, 23:47:04, time: 9.267, data_time: 8.391, memory: 21448, top1_acc: 0.8781, top5_acc: 1.0000, loss_cls: 0.2761, loss: 0.2761, grad_norm: 5.3211\n",
      "2021-03-22 17:22:29,398 - mmaction - INFO - Saving checkpoint at 28 epochs\n",
      "2021-03-22 17:24:12,905 - mmaction - INFO - Epoch [29][10/33]\tlr: 5.000e-04, eta: -1 day, 23:45:19, time: 10.320, data_time: 9.411, memory: 21448, top1_acc: 0.8906, top5_acc: 1.0000, loss_cls: 0.2990, loss: 0.2990, grad_norm: 5.5218\n",
      "2021-03-22 17:25:21,920 - mmaction - INFO - Epoch [29][20/33]\tlr: 5.000e-04, eta: -1 day, 23:44:01, time: 6.902, data_time: 6.019, memory: 21448, top1_acc: 0.8719, top5_acc: 1.0000, loss_cls: 0.2904, loss: 0.2904, grad_norm: 5.0257\n",
      "2021-03-22 17:26:59,871 - mmaction - INFO - Epoch [29][30/33]\tlr: 5.000e-04, eta: -1 day, 23:42:36, time: 9.795, data_time: 8.907, memory: 21448, top1_acc: 0.9031, top5_acc: 1.0000, loss_cls: 0.2559, loss: 0.2559, grad_norm: 5.4150\n",
      "2021-03-22 17:28:54,465 - mmaction - INFO - Epoch [30][10/33]\tlr: 5.000e-04, eta: -1 day, 23:40:52, time: 10.129, data_time: 9.256, memory: 21448, top1_acc: 0.9000, top5_acc: 1.0000, loss_cls: 0.2891, loss: 0.2891, grad_norm: 6.1167\n",
      "2021-03-22 17:30:05,159 - mmaction - INFO - Epoch [30][20/33]\tlr: 5.000e-04, eta: -1 day, 23:39:33, time: 7.069, data_time: 6.184, memory: 21448, top1_acc: 0.8750, top5_acc: 1.0000, loss_cls: 0.2935, loss: 0.2935, grad_norm: 5.4480\n",
      "2021-03-22 17:31:41,483 - mmaction - INFO - Epoch [30][30/33]\tlr: 5.000e-04, eta: -1 day, 23:38:08, time: 9.632, data_time: 8.729, memory: 21448, top1_acc: 0.9375, top5_acc: 1.0000, loss_cls: 0.2138, loss: 0.2138, grad_norm: 4.4516\n",
      "2021-03-22 17:32:03,974 - mmaction - INFO - Saving checkpoint at 30 epochs\n"
     ]
    },
    {
     "name": "stdout",
     "output_type": "stream",
     "text": [
      "[>>>>>>>>>>>>>>>>>>>>>>>>>>>>>>>>>>>>>>>>>>>>>>>>>>] 126/126, 3.5 task/s, elapsed: 36s, ETA:     0s"
     ]
    },
    {
     "name": "stderr",
     "output_type": "stream",
     "text": [
      "2021-03-22 17:32:40,845 - mmaction - INFO - Evaluating top_k_accuracy ...\n",
      "2021-03-22 17:32:40,847 - mmaction - INFO - \n",
      "top1_acc\t0.8413\n",
      "top5_acc\t1.0000\n",
      "2021-03-22 17:32:40,848 - mmaction - INFO - Evaluating mean_class_accuracy ...\n",
      "2021-03-22 17:32:40,849 - mmaction - INFO - \n",
      "mean_acc\t0.8413\n",
      "2021-03-22 17:32:40,850 - mmaction - INFO - Epoch(val) [30][33]\ttop1_acc: 0.8413, top5_acc: 1.0000, mean_class_accuracy: 0.8413\n"
     ]
    }
   ],
   "source": [
    "import os.path as osp\n",
    "\n",
    "from mmaction.datasets import build_dataset\n",
    "from mmaction.models import build_model\n",
    "from mmaction.apis import train_model\n",
    "\n",
    "import mmcv\n",
    "\n",
    "# Build the dataset\n",
    "datasets = [build_dataset(cfg.data.train)]\n",
    "\n",
    "# Build the recognizer\n",
    "model = build_model(cfg.model, train_cfg=cfg.get('train_cfg'), test_cfg=cfg.get('test_cfg'))\n",
    "# model = build_model(cfg.model, train_cfg=cfg.get('train_cfg'), test_cfg=cfg.get('test_cfg'))\n",
    "# model = build_detector(cfg.model, train_cfg=cfg.get('train_cfg'), test_cfg=cfg.get('test_cfg'))\n",
    "# model = build_detector(cfg.model, train_cfg=cfg.train_cfg, test_cfg=cfg.test_cfg)\n",
    "\n",
    "# Create work_dir\n",
    "mmcv.mkdir_or_exist(osp.abspath(cfg.work_dir))\n",
    "train_model(model, datasets, cfg, distributed=False, validate=True)"
   ]
  },
  {
   "cell_type": "markdown",
   "metadata": {
    "id": "ryVoSfZVmogw",
    "tags": []
   },
   "source": [
    "## Test the trained recognizer\n",
    "\n",
    "After finetuning the recognizer, let's check the prediction results!"
   ]
  },
  {
   "cell_type": "code",
   "execution_count": 14,
   "metadata": {
    "colab": {
     "base_uri": "https://localhost:8080/"
    },
    "id": "eyY3hCMwyTct",
    "outputId": "200e37c7-0da4-421f-98da-41418c3110ca",
    "tags": []
   },
   "outputs": [
    {
     "name": "stdout",
     "output_type": "stream",
     "text": [
      "[>>>>>>>>>>>>>>>>>>>>>>>>>>>>>>>>>>>>>>>>>>>>>>>>>>] 126/126, 2.1 task/s, elapsed: 59s, ETA:     0s\n",
      "Evaluating top_k_accuracy ...\n",
      "\n",
      "top1_acc\t0.9048\n",
      "top5_acc\t1.0000\n",
      "\n",
      "Evaluating mean_class_accuracy ...\n",
      "\n",
      "mean_acc\t0.9048\n",
      "top1_acc: 0.9048\n",
      "top5_acc: 1.0000\n",
      "mean_class_accuracy: 0.9048\n"
     ]
    }
   ],
   "source": [
    "from mmaction.apis import single_gpu_test\n",
    "from mmaction.datasets import build_dataloader\n",
    "from mmcv.parallel import MMDataParallel\n",
    "\n",
    "# Build a test dataloader\n",
    "dataset = build_dataset(cfg.data.test, dict(test_mode=True))\n",
    "data_loader = build_dataloader(\n",
    "        dataset,\n",
    "        videos_per_gpu=16,\n",
    "        workers_per_gpu=cfg.data.workers_per_gpu,\n",
    "        dist=False,\n",
    "        shuffle=False)\n",
    "model = MMDataParallel(model, device_ids=[0])\n",
    "outputs = single_gpu_test(model, data_loader)\n",
    "\n",
    "eval_config = cfg.evaluation\n",
    "eval_config.pop('interval')\n",
    "eval_res = dataset.evaluate(outputs, **eval_config)\n",
    "for name, val in eval_res.items():\n",
    "    print(f'{name}: {val:.04f}')"
   ]
  },
  {
   "cell_type": "markdown",
   "metadata": {
    "heading_collapsed": "true",
    "tags": []
   },
   "source": [
    "# SlowFast 91.27%"
   ]
  },
  {
   "cell_type": "code",
   "execution_count": 2,
   "metadata": {
    "colab": {
     "base_uri": "https://localhost:8080/"
    },
    "collapsed": true,
    "id": "64CW6d_AaT-Q",
    "jupyter": {
     "outputs_hidden": true
    },
    "outputId": "3b284fd8-4ee7-4a34-90d7-5023cd123a04",
    "tags": []
   },
   "outputs": [
    {
     "name": "stdout",
     "output_type": "stream",
     "text": [
      "--2021-03-22 18:16:35--  https://download.openmmlab.com/mmaction/recognition/slowfast/slowfast_r50_video_4x16x1_256e_kinetics400_rgb/slowfast_r50_video_4x16x1_256e_kinetics400_rgb_20200826-f85b90c5.pth\n",
      "Resolving download.openmmlab.com (download.openmmlab.com)... 47.254.186.225\n",
      "Connecting to download.openmmlab.com (download.openmmlab.com)|47.254.186.225|:443... connected.\n",
      "HTTP request sent, awaiting response... 200 OK\n",
      "Length: 138274276 (132M) [application/octet-stream]\n",
      "Saving to: ‘checkpoints/slowfast_r50_video_4x16x1_256e_kinetics400_rgb_20200826-f85b90c5.pth’\n",
      "\n",
      "checkpoints/slowfas 100%[===================>] 131,87M  6,72MB/s    in 17s     \n",
      "\n",
      "2021-03-22 18:16:55 (7,79 MB/s) - ‘checkpoints/slowfast_r50_video_4x16x1_256e_kinetics400_rgb_20200826-f85b90c5.pth’ saved [138274276/138274276]\n",
      "\n"
     ]
    }
   ],
   "source": [
    "# !mkdir checkpoints\n",
    "!wget -c https://download.openmmlab.com/mmaction/recognition/slowfast/slowfast_r50_video_4x16x1_256e_kinetics400_rgb/slowfast_r50_video_4x16x1_256e_kinetics400_rgb_20200826-f85b90c5.pth \\\n",
    "      -O checkpoints/slowfast_r50_video_4x16x1_256e_kinetics400_rgb_20200826-f85b90c5.pth"
   ]
  },
  {
   "cell_type": "code",
   "execution_count": 2,
   "metadata": {
    "id": "LjCcmCKOjktc",
    "tags": []
   },
   "outputs": [],
   "source": [
    "from mmcv import Config\n",
    "cfg = Config.fromfile('./configs/recognition/slowfast/slowfast_r50_video_4x16x1_256e_kinetics400_rgb.py')"
   ]
  },
  {
   "cell_type": "code",
   "execution_count": 3,
   "metadata": {
    "colab": {
     "base_uri": "https://localhost:8080/"
    },
    "id": "tlhu9byjjt-K",
    "outputId": "13d1bb01-f351-48c0-9efb-0bdf2c125d29",
    "tags": []
   },
   "outputs": [],
   "source": [
    "from mmcv.runner import set_random_seed\n",
    "\n",
    "# Modify dataset type and path\n",
    "cfg.dataset_type = 'VideoDataset'\n",
    "cfg.data_root = 'data/childact_split/train/'\n",
    "cfg.data_root_val = 'data/childact_split/val/'\n",
    "cfg.ann_file_train = 'data/childact_split/childact_train_video.txt'\n",
    "cfg.ann_file_val = 'data/childact_split/childact_val_video.txt'\n",
    "cfg.ann_file_test = 'data/childact_split/childact_test_video.txt'\n",
    "\n",
    "cfg.data.test.type = 'VideoDataset'\n",
    "cfg.data.test.ann_file = 'data/childact_split/childact_test_video.txt'\n",
    "cfg.data.test.data_prefix = 'data/childact_split/test/'\n",
    "\n",
    "cfg.data.train.type = 'VideoDataset'\n",
    "cfg.data.train.ann_file = 'data/childact_split/childact_train_video.txt'\n",
    "cfg.data.train.data_prefix = 'data/childact_split/train/'\n",
    "\n",
    "cfg.data.val.type = 'VideoDataset'\n",
    "cfg.data.val.ann_file = 'data/childact_split/childact_val_video.txt'\n",
    "cfg.data.val.data_prefix = 'data/childact_split/val/'\n",
    "\n",
    "# The flag is used to determine whether it is omnisource training\n",
    "cfg.setdefault('omnisource', False)\n",
    "# Modify num classes of the model in cls_head\n",
    "cfg.model.cls_head.num_classes = 7\n",
    "# We can use the pre-trained TSN model\n",
    "cfg.load_from = './childact-checkpoints/childact-slowfast2/best_top1_acc_epoch_5.pth'\n",
    "# cfg.resume_from = './childact-checkpoints/childact-slowfast/best_top1_acc_epoch_50.pth'\n",
    "\n",
    "# Set up working dir to save files and logs.\n",
    "cfg.work_dir = './childact-checkpoints/childact-slowfast3/'\n",
    "\n",
    "# The original learning rate (LR) is set for 8-GPU training.\n",
    "# We divide it by 8 since we only use one GPU.\n",
    "cfg.data.videos_per_gpu = 16\n",
    "# cfg.data.workers_per_gpu = 4\n",
    "# cfg.optimizer.type = 'Adam'\n",
    "# cfg.optimizer.weight_decay=0.0001\n",
    "\n",
    "# cfg.optimizer_config.grad_clip=None\n",
    "# cfg.optimizer.lr = 0.01\n",
    "\n",
    "cfg.lr_config.type = 'cyclic'\n",
    "cfg.total_epochs = 5\n",
    "\n",
    "# We can set the checkpoint saving interval to reduce the storage cost\n",
    "cfg.checkpoint_config.interval = 4\n",
    "# We can set the log print interval to reduce the the times of printing log\n",
    "cfg.log_config.interval = 40\n",
    "\n",
    "# Set seed thus the results are more reproducible\n",
    "cfg.seed = 42\n",
    "set_random_seed(42, deterministic=False)\n",
    "cfg.gpu_ids = range(1)\n",
    "\n",
    "# We can initialize the logger for training and have a look\n",
    "# at the final config used for training\n",
    "# print(f'Config:\\n{cfg.pretty_text}')\n"
   ]
  },
  {
   "cell_type": "code",
   "execution_count": 9,
   "metadata": {},
   "outputs": [],
   "source": [
    "# del cfg.optimizer['momentum']"
   ]
  },
  {
   "cell_type": "markdown",
   "metadata": {
    "id": "tES-qnZ3k38Z"
   },
   "source": [
    "### Train a new recognizer\n",
    "\n",
    "Finally, lets initialize the dataset and recognizer, then train a new recognizer!"
   ]
  },
  {
   "cell_type": "code",
   "execution_count": 4,
   "metadata": {
    "colab": {
     "base_uri": "https://localhost:8080/"
    },
    "id": "dDBWkdDRk6oz",
    "outputId": "85a52ef3-7b5c-4c52-8fef-00322a8c65e6",
    "tags": []
   },
   "outputs": [
    {
     "name": "stderr",
     "output_type": "stream",
     "text": [
      "2021-03-24 13:17:39,463 - mmaction - INFO - load checkpoint from ./childact-checkpoints/childact-slowfast2/best_top1_acc_epoch_5.pth\n",
      "2021-03-24 13:17:39,464 - mmaction - INFO - Use load_from_local loader\n",
      "2021-03-24 13:17:40,173 - mmaction - INFO - Start running, host: actrec@actrec-HP-Z4-G4-Workstation, work_dir: /home/actrec/.virtualenvs/mmaction/mmaction2/childact-checkpoints/childact-slowfast3\n",
      "2021-03-24 13:17:40,174 - mmaction - INFO - workflow: [('train', 1)], max: 5 epochs\n",
      "/home/actrec/.virtualenvs/mmaction/mmaction2/mmaction/core/evaluation/eval_hooks.py:131: UserWarning: runner.meta is None. Creating a empty one.\n",
      "  warnings.warn('runner.meta is None. Creating a empty one.')\n",
      "/home/actrec/.virtualenvs/mmaction/lib/python3.6/site-packages/torch/nn/functional.py:3103: UserWarning: The default behavior for interpolate/upsample with float scale_factor changed in 1.6.0 to align with other frameworks/libraries, and now uses scale_factor directly, instead of relying on the computed output size. If you wish to restore the old behavior, please set recompute_scale_factor=True. See the documentation of nn.Upsample for details. \n",
      "  warnings.warn(\"The default behavior for interpolate/upsample with float scale_factor changed \"\n",
      "2021-03-24 13:19:14,433 - mmaction - INFO - Epoch [1][40/66]\tlr: 1.156e-02, eta: 0:11:23, time: 2.356, data_time: 1.445, memory: 12209, top1_acc: 0.7344, top5_acc: 0.9844, loss_cls: 0.6538, loss: 0.6538, grad_norm: 0.9537\n",
      "2021-03-24 13:21:38,875 - mmaction - INFO - Epoch [2][40/66]\tlr: 1.285e-02, eta: 0:06:30, time: 2.263, data_time: 1.342, memory: 12209, top1_acc: 0.7125, top5_acc: 0.9922, loss_cls: 0.6799, loss: 0.6799, grad_norm: 1.0023\n",
      "2021-03-24 13:24:06,492 - mmaction - INFO - Epoch [3][40/66]\tlr: 1.103e-02, eta: 0:04:14, time: 2.302, data_time: 1.392, memory: 12209, top1_acc: 0.7234, top5_acc: 0.9891, loss_cls: 0.6831, loss: 0.6831, grad_norm: 0.9548\n",
      "2021-03-24 13:26:32,066 - mmaction - INFO - Epoch [4][40/66]\tlr: 6.739e-03, eta: 0:02:21, time: 2.258, data_time: 1.358, memory: 12209, top1_acc: 0.7172, top5_acc: 0.9906, loss_cls: 0.6565, loss: 0.6565, grad_norm: 0.9893\n",
      "2021-03-24 13:27:28,452 - mmaction - INFO - Saving checkpoint at 4 epochs\n",
      "2021-03-24 13:29:00,810 - mmaction - INFO - Epoch [5][40/66]\tlr: 2.115e-03, eta: 0:00:39, time: 2.300, data_time: 1.373, memory: 12209, top1_acc: 0.7172, top5_acc: 0.9875, loss_cls: 0.7379, loss: 0.7379, grad_norm: 1.1530\n"
     ]
    },
    {
     "name": "stdout",
     "output_type": "stream",
     "text": [
      "[>>>>>>>>>>>>>>>>>>>>>>>>>>>>>>] 126/126, 6.3 task/s, elapsed: 20s, ETA:     0s"
     ]
    },
    {
     "name": "stderr",
     "output_type": "stream",
     "text": [
      "2021-03-24 13:30:14,656 - mmaction - INFO - Evaluating top_k_accuracy ...\n",
      "2021-03-24 13:30:14,658 - mmaction - INFO - \n",
      "top1_acc\t0.8571\n",
      "top5_acc\t1.0000\n",
      "2021-03-24 13:30:14,658 - mmaction - INFO - Evaluating mean_class_accuracy ...\n",
      "2021-03-24 13:30:14,659 - mmaction - INFO - \n",
      "mean_acc\t0.8571\n",
      "2021-03-24 13:30:15,020 - mmaction - INFO - Now best checkpoint is saved as best_top1_acc_epoch_5.pth.\n",
      "2021-03-24 13:30:15,021 - mmaction - INFO - Best top1_acc is 0.8571 at 5 epoch.\n",
      "2021-03-24 13:30:15,021 - mmaction - INFO - Epoch(val) [5][66]\ttop1_acc: 0.8571, top5_acc: 1.0000, mean_class_accuracy: 0.8571\n"
     ]
    }
   ],
   "source": [
    "import os.path as osp\n",
    "\n",
    "from mmaction.datasets import build_dataset\n",
    "from mmaction.models import build_model\n",
    "from mmaction.apis import train_model\n",
    "\n",
    "import mmcv\n",
    "\n",
    "# Build the dataset\n",
    "datasets = [build_dataset(cfg.data.train)]\n",
    "\n",
    "# Build the recognizer\n",
    "model = build_model(cfg.model, train_cfg=cfg.get('train_cfg'), test_cfg=cfg.get('test_cfg'))\n",
    "# model = build_model(cfg.model, train_cfg=cfg.get('train_cfg'), test_cfg=cfg.get('test_cfg'))\n",
    "# model = build_detector(cfg.model, train_cfg=cfg.get('train_cfg'), test_cfg=cfg.get('test_cfg'))\n",
    "# model = build_detector(cfg.model, train_cfg=cfg.train_cfg, test_cfg=cfg.test_cfg)\n",
    "\n",
    "# Create work_dir\n",
    "mmcv.mkdir_or_exist(osp.abspath(cfg.work_dir))\n",
    "train_model(model, datasets, cfg, distributed=False, validate=True)"
   ]
  },
  {
   "cell_type": "code",
   "execution_count": 5,
   "metadata": {},
   "outputs": [
    {
     "data": {
      "text/plain": [
       "0"
      ]
     },
     "execution_count": 5,
     "metadata": {},
     "output_type": "execute_result"
    }
   ],
   "source": [
    "torch.cuda.ipc_collect()\n",
    "torch.cuda.empty_cache()\n",
    "import gc\n",
    "# gc.enable()\n",
    "gc.collect()"
   ]
  },
  {
   "cell_type": "markdown",
   "metadata": {
    "id": "ryVoSfZVmogw"
   },
   "source": [
    "## Test the trained recognizer\n",
    "\n",
    "After finetuning the recognizer, let's check the prediction results!"
   ]
  },
  {
   "cell_type": "code",
   "execution_count": 31,
   "metadata": {},
   "outputs": [],
   "source": [
    "from mmaction.apis import single_gpu_test, inference_recognizer, init_recognizer\n",
    "from mmaction.datasets import build_dataloader\n",
    "from mmcv.parallel import MMDataParallel\n",
    "from mmaction.models import build_model\n",
    "from mmaction.datasets import build_dataset"
   ]
  },
  {
   "cell_type": "code",
   "execution_count": 5,
   "metadata": {
    "colab": {
     "base_uri": "https://localhost:8080/"
    },
    "id": "eyY3hCMwyTct",
    "outputId": "200e37c7-0da4-421f-98da-41418c3110ca",
    "tags": []
   },
   "outputs": [
    {
     "name": "stdout",
     "output_type": "stream",
     "text": [
      "[>>>>>>>>>>>>>>>>>>>>>>>>>>>>>] 126/126, 0.4 task/s, elapsed: 303s, ETA:     0s\n",
      "Evaluating top_k_accuracy ...\n",
      "\n",
      "top1_acc\t0.9127\n",
      "top5_acc\t1.0000\n",
      "\n",
      "Evaluating mean_class_accuracy ...\n",
      "\n",
      "mean_acc\t0.9127\n",
      "top1_acc: 0.9127\n",
      "top5_acc: 1.0000\n",
      "mean_class_accuracy: 0.9127\n"
     ]
    }
   ],
   "source": [
    "from mmaction.apis import single_gpu_test\n",
    "from mmaction.datasets import build_dataloader\n",
    "from mmcv.parallel import MMDataParallel\n",
    "from mmaction.models import build_model\n",
    "from mmaction.datasets import build_dataset\n",
    "\n",
    "# checkpoint = './childact-checkpoints/childact-slowfast/best_top1_acc_epoch_50.pth'\n",
    "# modelt = init_recognizer(cfg, checkpoint, device='cuda:0')\n",
    "# model = build_model(cfg.model, train_cfg=cfg.get('train_cfg'), test_cfg=cfg.get('test_cfg'))\n",
    "# Build a test dataloader\n",
    "dataset = build_dataset(cfg.data.test, dict(test_mode=True))\n",
    "data_loader = build_dataloader(\n",
    "        dataset,\n",
    "        videos_per_gpu=2,\n",
    "        workers_per_gpu=1,\n",
    "        dist=False,\n",
    "        shuffle=False)\n",
    "model = MMDataParallel(model, device_ids=[0])\n",
    "outputs = single_gpu_test(model, data_loader)\n",
    "\n",
    "eval_config = cfg.evaluation\n",
    "eval_config.pop('interval')\n",
    "eval_res = dataset.evaluate(outputs, **eval_config)\n",
    "for name, val in eval_res.items():\n",
    "    print(f'{name}: {val:.04f}')"
   ]
  },
  {
   "cell_type": "code",
   "execution_count": null,
   "metadata": {},
   "outputs": [],
   "source": [
    "# mmaction.core.evaluation.confusion_matrix()\n",
    "# gt_confusion_matrix()"
   ]
  },
  {
   "cell_type": "markdown",
   "metadata": {
    "tags": []
   },
   "source": [
    "# R(2+1)D"
   ]
  },
  {
   "cell_type": "code",
   "execution_count": 6,
   "metadata": {
    "colab": {
     "base_uri": "https://localhost:8080/"
    },
    "id": "64CW6d_AaT-Q",
    "outputId": "3b284fd8-4ee7-4a34-90d7-5023cd123a04",
    "tags": []
   },
   "outputs": [
    {
     "name": "stdout",
     "output_type": "stream",
     "text": [
      "--2021-03-24 13:44:27--  https://download.openmmlab.com/mmaction/recognition/r2plus1d/r2plus1d_r34_video_8x8x1_180e_kinetics400_rgb/r2plus1d_r34_video_8x8x1_180e_kinetics400_rgb_20200826-ab35a529.pth\n",
      "Resolving download.openmmlab.com (download.openmmlab.com)... 47.252.96.35\n",
      "Connecting to download.openmmlab.com (download.openmmlab.com)|47.252.96.35|:443... connected.\n",
      "HTTP request sent, awaiting response... 200 OK\n",
      "Length: 255320099 (243M) [application/octet-stream]\n",
      "Saving to: ‘checkpoints/r2plus1d_r34_video_8x8x1_180e_kinetics400_rgb_20200826-ab35a529.pth’\n",
      "\n",
      "checkpoints/r2plus1 100%[===================>] 243,49M  6,98MB/s    in 32s     \n",
      "\n",
      "2021-03-24 13:45:05 (7,72 MB/s) - ‘checkpoints/r2plus1d_r34_video_8x8x1_180e_kinetics400_rgb_20200826-ab35a529.pth’ saved [255320099/255320099]\n",
      "\n"
     ]
    }
   ],
   "source": [
    "# !mkdir checkpoints\n",
    "!wget -c https://download.openmmlab.com/mmaction/recognition/r2plus1d/r2plus1d_r34_video_8x8x1_180e_kinetics400_rgb/r2plus1d_r34_video_8x8x1_180e_kinetics400_rgb_20200826-ab35a529.pth \\\n",
    "      -O checkpoints/r2plus1d_r34_video_8x8x1_180e_kinetics400_rgb_20200826-ab35a529.pth"
   ]
  },
  {
   "cell_type": "code",
   "execution_count": 26,
   "metadata": {
    "id": "LjCcmCKOjktc",
    "tags": []
   },
   "outputs": [],
   "source": [
    "from mmcv import Config\n",
    "cfg = Config.fromfile('./configs/recognition/r2plus1d/r2plus1d_r34_video_8x8x1_180e_kinetics400_rgb.py')"
   ]
  },
  {
   "cell_type": "code",
   "execution_count": 27,
   "metadata": {
    "colab": {
     "base_uri": "https://localhost:8080/"
    },
    "collapsed": true,
    "id": "tlhu9byjjt-K",
    "jupyter": {
     "outputs_hidden": true
    },
    "outputId": "13d1bb01-f351-48c0-9efb-0bdf2c125d29",
    "tags": []
   },
   "outputs": [
    {
     "name": "stdout",
     "output_type": "stream",
     "text": [
      "Config:\n",
      "model = dict(\n",
      "    type='Recognizer3D',\n",
      "    backbone=dict(\n",
      "        type='ResNet2Plus1d',\n",
      "        depth=34,\n",
      "        pretrained=None,\n",
      "        pretrained2d=False,\n",
      "        norm_eval=False,\n",
      "        conv_cfg=dict(type='Conv2plus1d'),\n",
      "        norm_cfg=dict(type='BN3d', requires_grad=True, eps=0.001),\n",
      "        conv1_kernel=(3, 7, 7),\n",
      "        conv1_stride_t=1,\n",
      "        pool1_stride_t=1,\n",
      "        inflate=(1, 1, 1, 1),\n",
      "        spatial_strides=(1, 2, 2, 2),\n",
      "        temporal_strides=(1, 2, 2, 2),\n",
      "        zero_init_residual=False,\n",
      "        act_cfg=dict(type='ReLU')),\n",
      "    cls_head=dict(\n",
      "        type='I3DHead',\n",
      "        num_classes=7,\n",
      "        in_channels=512,\n",
      "        spatial_type='avg',\n",
      "        dropout_ratio=0.5,\n",
      "        init_std=0.01),\n",
      "    train_cfg=None,\n",
      "    test_cfg=dict(average_clips='prob'))\n",
      "checkpoint_config = dict(interval=7)\n",
      "log_config = dict(interval=40, hooks=[dict(type='TextLoggerHook')])\n",
      "dist_params = dict(backend='nccl')\n",
      "log_level = 'INFO'\n",
      "load_from = './checkpoints/r2plus1d_r34_video_8x8x1_180e_kinetics400_rgb_20200826-ab35a529.pth'\n",
      "resume_from = None\n",
      "workflow = [('train', 1)]\n",
      "dataset_type = 'VideoDataset'\n",
      "data_root = 'data/childact_split/train/'\n",
      "data_root_val = 'data/childact_split/val/'\n",
      "ann_file_train = 'data/childact_split/childact_train_video.txt'\n",
      "ann_file_val = 'data/childact_split/childact_val_video.txt'\n",
      "ann_file_test = 'data/childact_split/childact_test_video.txt'\n",
      "img_norm_cfg = dict(\n",
      "    mean=[123.675, 116.28, 103.53], std=[58.395, 57.12, 57.375], to_bgr=False)\n",
      "train_pipeline = [\n",
      "    dict(type='DecordInit'),\n",
      "    dict(type='SampleFrames', clip_len=8, frame_interval=8, num_clips=1),\n",
      "    dict(type='DecordDecode'),\n",
      "    dict(type='Resize', scale=(-1, 256)),\n",
      "    dict(type='RandomResizedCrop'),\n",
      "    dict(type='Resize', scale=(224, 224), keep_ratio=False),\n",
      "    dict(type='Flip', flip_ratio=0.5),\n",
      "    dict(\n",
      "        type='Normalize',\n",
      "        mean=[123.675, 116.28, 103.53],\n",
      "        std=[58.395, 57.12, 57.375],\n",
      "        to_bgr=False),\n",
      "    dict(type='FormatShape', input_format='NCTHW'),\n",
      "    dict(type='Collect', keys=['imgs', 'label'], meta_keys=[]),\n",
      "    dict(type='ToTensor', keys=['imgs', 'label'])\n",
      "]\n",
      "val_pipeline = [\n",
      "    dict(type='DecordInit'),\n",
      "    dict(\n",
      "        type='SampleFrames',\n",
      "        clip_len=8,\n",
      "        frame_interval=8,\n",
      "        num_clips=1,\n",
      "        test_mode=True),\n",
      "    dict(type='DecordDecode'),\n",
      "    dict(type='Resize', scale=(-1, 256)),\n",
      "    dict(type='CenterCrop', crop_size=224),\n",
      "    dict(type='Flip', flip_ratio=0),\n",
      "    dict(\n",
      "        type='Normalize',\n",
      "        mean=[123.675, 116.28, 103.53],\n",
      "        std=[58.395, 57.12, 57.375],\n",
      "        to_bgr=False),\n",
      "    dict(type='FormatShape', input_format='NCTHW'),\n",
      "    dict(type='Collect', keys=['imgs', 'label'], meta_keys=[]),\n",
      "    dict(type='ToTensor', keys=['imgs'])\n",
      "]\n",
      "test_pipeline = [\n",
      "    dict(type='DecordInit'),\n",
      "    dict(\n",
      "        type='SampleFrames',\n",
      "        clip_len=8,\n",
      "        frame_interval=8,\n",
      "        num_clips=10,\n",
      "        test_mode=True),\n",
      "    dict(type='DecordDecode'),\n",
      "    dict(type='Resize', scale=(-1, 256)),\n",
      "    dict(type='ThreeCrop', crop_size=256),\n",
      "    dict(type='Flip', flip_ratio=0),\n",
      "    dict(\n",
      "        type='Normalize',\n",
      "        mean=[123.675, 116.28, 103.53],\n",
      "        std=[58.395, 57.12, 57.375],\n",
      "        to_bgr=False),\n",
      "    dict(type='FormatShape', input_format='NCTHW'),\n",
      "    dict(type='Collect', keys=['imgs', 'label'], meta_keys=[]),\n",
      "    dict(type='ToTensor', keys=['imgs'])\n",
      "]\n",
      "data = dict(\n",
      "    videos_per_gpu=16,\n",
      "    workers_per_gpu=4,\n",
      "    train=dict(\n",
      "        type='VideoDataset',\n",
      "        ann_file='data/childact_split/childact_train_video.txt',\n",
      "        data_prefix='data/childact_split/train/',\n",
      "        pipeline=[\n",
      "            dict(type='DecordInit'),\n",
      "            dict(\n",
      "                type='SampleFrames', clip_len=8, frame_interval=8,\n",
      "                num_clips=1),\n",
      "            dict(type='DecordDecode'),\n",
      "            dict(type='Resize', scale=(-1, 256)),\n",
      "            dict(type='RandomResizedCrop'),\n",
      "            dict(type='Resize', scale=(224, 224), keep_ratio=False),\n",
      "            dict(type='Flip', flip_ratio=0.5),\n",
      "            dict(\n",
      "                type='Normalize',\n",
      "                mean=[123.675, 116.28, 103.53],\n",
      "                std=[58.395, 57.12, 57.375],\n",
      "                to_bgr=False),\n",
      "            dict(type='FormatShape', input_format='NCTHW'),\n",
      "            dict(type='Collect', keys=['imgs', 'label'], meta_keys=[]),\n",
      "            dict(type='ToTensor', keys=['imgs', 'label'])\n",
      "        ]),\n",
      "    val=dict(\n",
      "        type='VideoDataset',\n",
      "        ann_file='data/childact_split/childact_val_video.txt',\n",
      "        data_prefix='data/childact_split/val/',\n",
      "        pipeline=[\n",
      "            dict(type='DecordInit'),\n",
      "            dict(\n",
      "                type='SampleFrames',\n",
      "                clip_len=8,\n",
      "                frame_interval=8,\n",
      "                num_clips=1,\n",
      "                test_mode=True),\n",
      "            dict(type='DecordDecode'),\n",
      "            dict(type='Resize', scale=(-1, 256)),\n",
      "            dict(type='CenterCrop', crop_size=224),\n",
      "            dict(type='Flip', flip_ratio=0),\n",
      "            dict(\n",
      "                type='Normalize',\n",
      "                mean=[123.675, 116.28, 103.53],\n",
      "                std=[58.395, 57.12, 57.375],\n",
      "                to_bgr=False),\n",
      "            dict(type='FormatShape', input_format='NCTHW'),\n",
      "            dict(type='Collect', keys=['imgs', 'label'], meta_keys=[]),\n",
      "            dict(type='ToTensor', keys=['imgs'])\n",
      "        ],\n",
      "        test_mode=True),\n",
      "    test=dict(\n",
      "        type='VideoDataset',\n",
      "        ann_file='data/childact_split/childact_test_video.txt',\n",
      "        data_prefix='data/childact_split/test/',\n",
      "        pipeline=[\n",
      "            dict(type='DecordInit'),\n",
      "            dict(\n",
      "                type='SampleFrames',\n",
      "                clip_len=8,\n",
      "                frame_interval=8,\n",
      "                num_clips=10,\n",
      "                test_mode=True),\n",
      "            dict(type='DecordDecode'),\n",
      "            dict(type='Resize', scale=(-1, 256)),\n",
      "            dict(type='ThreeCrop', crop_size=256),\n",
      "            dict(type='Flip', flip_ratio=0),\n",
      "            dict(\n",
      "                type='Normalize',\n",
      "                mean=[123.675, 116.28, 103.53],\n",
      "                std=[58.395, 57.12, 57.375],\n",
      "                to_bgr=False),\n",
      "            dict(type='FormatShape', input_format='NCTHW'),\n",
      "            dict(type='Collect', keys=['imgs', 'label'], meta_keys=[]),\n",
      "            dict(type='ToTensor', keys=['imgs'])\n",
      "        ],\n",
      "        test_mode=True))\n",
      "evaluation = dict(\n",
      "    interval=5, metrics=['top_k_accuracy', 'mean_class_accuracy'])\n",
      "optimizer = dict(type='Adam', lr=0.01, weight_decay=0.0001)\n",
      "optimizer_config = dict(grad_clip=None)\n",
      "lr_config = dict(policy='CosineAnnealing', min_lr=0, type='cyclic')\n",
      "total_epochs = 50\n",
      "work_dir = './childact-checkpoints/childact-r2plus1d/'\n",
      "find_unused_parameters = False\n",
      "omnisource = False\n",
      "seed = 42\n",
      "gpu_ids = range(0, 1)\n",
      "\n"
     ]
    }
   ],
   "source": [
    "from mmcv.runner import set_random_seed\n",
    "\n",
    "# Modify dataset type and path\n",
    "cfg.dataset_type = 'VideoDataset'\n",
    "cfg.data_root = 'data/childact_split/train/'\n",
    "cfg.data_root_val = 'data/childact_split/val/'\n",
    "cfg.ann_file_train = 'data/childact_split/childact_train_video.txt'\n",
    "cfg.ann_file_val = 'data/childact_split/childact_val_video.txt'\n",
    "cfg.ann_file_test = 'data/childact_split/childact_test_video.txt'\n",
    "\n",
    "cfg.data.test.type = 'VideoDataset'\n",
    "cfg.data.test.ann_file = 'data/childact_split/childact_test_video.txt'\n",
    "cfg.data.test.data_prefix = 'data/childact_split/test/'\n",
    "\n",
    "cfg.data.train.type = 'VideoDataset'\n",
    "cfg.data.train.ann_file = 'data/childact_split/childact_train_video.txt'\n",
    "cfg.data.train.data_prefix = 'data/childact_split/train/'\n",
    "\n",
    "cfg.data.val.type = 'VideoDataset'\n",
    "cfg.data.val.ann_file = 'data/childact_split/childact_val_video.txt'\n",
    "cfg.data.val.data_prefix = 'data/childact_split/val/'\n",
    "\n",
    "# The flag is used to determine whether it is omnisource training\n",
    "cfg.setdefault('omnisource', False)\n",
    "# Modify num classes of the model in cls_head\n",
    "cfg.model.cls_head.num_classes = 7\n",
    "# We can use the pre-trained TSN model\n",
    "# cfg.load_from = './checkpoints/r2plus1d_r34_video_8x8x1_180e_kinetics400_rgb_20200826-ab35a529.pth'\n",
    "cfg.resume_from = './childact-checkpoints/childact-r2plus1d/latest.pth'\n",
    "\n",
    "# Set up working dir to save files and logs.\n",
    "cfg.work_dir = './childact-checkpoints/childact-r2plus1d/'\n",
    "\n",
    "# The original learning rate (LR) is set for 8-GPU training.\n",
    "# We divide it by 8 since we only use one GPU.\n",
    "cfg.data.videos_per_gpu = 16\n",
    "cfg.optimizer.type = 'Adam'\n",
    "cfg.optimizer.weight_decay=0.0001\n",
    "\n",
    "cfg.optimizer_config.grad_clip=None\n",
    "cfg.optimizer.lr = 0.01\n",
    "\n",
    "cfg.lr_config.type = 'cyclic'\n",
    "cfg.total_epochs = 151\n",
    "\n",
    "# We can set the checkpoint saving interval to reduce the storage cost\n",
    "cfg.checkpoint_config.interval = 12\n",
    "# We can set the log print interval to reduce the the times of printing log\n",
    "cfg.log_config.interval = 40\n",
    "\n",
    "# Set seed thus the results are more reproducible\n",
    "cfg.seed = 42\n",
    "set_random_seed(42, deterministic=False)\n",
    "cfg.gpu_ids = range(1)\n",
    "\n",
    "# We can initialize the logger for training and have a look\n",
    "# at the final config used for training\n",
    "cfg.model.backbone.norm_cfg.type = 'BN3d'\n",
    "# cfg.model.cls_head.type = 'X3DHead'\n",
    "del cfg.optimizer['momentum']\n",
    "print(f'Config:\\n{cfg.pretty_text}')\n"
   ]
  },
  {
   "cell_type": "code",
   "execution_count": 28,
   "metadata": {
    "colab": {
     "base_uri": "https://localhost:8080/"
    },
    "collapsed": true,
    "id": "dDBWkdDRk6oz",
    "jupyter": {
     "outputs_hidden": true
    },
    "outputId": "85a52ef3-7b5c-4c52-8fef-00322a8c65e6",
    "tags": []
   },
   "outputs": [
    {
     "name": "stderr",
     "output_type": "stream",
     "text": [
      "2021-03-24 14:32:25,738 - mmaction - INFO - load checkpoint from ./checkpoints/r2plus1d_r34_video_8x8x1_180e_kinetics400_rgb_20200826-ab35a529.pth\n",
      "2021-03-24 14:32:25,739 - mmaction - INFO - Use load_from_local loader\n",
      "2021-03-24 14:32:25,890 - mmaction - WARNING - The model and loaded state dict do not match exactly\n",
      "\n",
      "size mismatch for cls_head.fc_cls.weight: copying a param with shape torch.Size([400, 512]) from checkpoint, the shape in current model is torch.Size([7, 512]).\n",
      "size mismatch for cls_head.fc_cls.bias: copying a param with shape torch.Size([400]) from checkpoint, the shape in current model is torch.Size([7]).\n",
      "2021-03-24 14:32:25,891 - mmaction - INFO - Start running, host: actrec@actrec-HP-Z4-G4-Workstation, work_dir: /home/actrec/.virtualenvs/mmaction/mmaction2/childact-checkpoints/childact-r2plus1d\n",
      "2021-03-24 14:32:25,892 - mmaction - INFO - workflow: [('train', 1)], max: 50 epochs\n",
      "2021-03-24 14:33:32,975 - mmaction - INFO - Epoch [1][40/66]\tlr: 1.000e-02, eta: 1:31:06, time: 1.677, data_time: 0.983, memory: 11178, top1_acc: 0.2031, top5_acc: 0.8328, loss_cls: 1.9598, loss: 1.9598\n",
      "2021-03-24 14:35:25,753 - mmaction - INFO - Epoch [2][40/66]\tlr: 9.990e-03, eta: 1:08:02, time: 1.710, data_time: 1.009, memory: 11178, top1_acc: 0.2625, top5_acc: 0.9375, loss_cls: 1.6696, loss: 1.6696\n",
      "2021-03-24 14:37:15,385 - mmaction - INFO - Epoch [3][40/66]\tlr: 9.961e-03, eta: 1:02:03, time: 1.731, data_time: 1.021, memory: 11178, top1_acc: 0.2766, top5_acc: 0.9359, loss_cls: 1.6528, loss: 1.6528\n",
      "2021-03-24 14:39:04,674 - mmaction - INFO - Epoch [4][40/66]\tlr: 9.911e-03, eta: 0:58:27, time: 1.698, data_time: 1.015, memory: 11178, top1_acc: 0.2844, top5_acc: 0.9531, loss_cls: 1.6497, loss: 1.6497\n",
      "2021-03-24 14:40:53,643 - mmaction - INFO - Epoch [5][40/66]\tlr: 9.843e-03, eta: 0:55:57, time: 1.701, data_time: 0.983, memory: 11178, top1_acc: 0.3219, top5_acc: 0.9594, loss_cls: 1.5450, loss: 1.5450\n"
     ]
    },
    {
     "name": "stdout",
     "output_type": "stream",
     "text": [
      "[>>>>>>>>>>>>>>>>>>>>>>>>>>>>>>] 126/126, 8.3 task/s, elapsed: 15s, ETA:     0s"
     ]
    },
    {
     "name": "stderr",
     "output_type": "stream",
     "text": [
      "2021-03-24 14:41:51,620 - mmaction - INFO - Evaluating top_k_accuracy ...\n",
      "2021-03-24 14:41:51,623 - mmaction - INFO - \n",
      "top1_acc\t0.3016\n",
      "top5_acc\t1.0000\n",
      "2021-03-24 14:41:51,624 - mmaction - INFO - Evaluating mean_class_accuracy ...\n",
      "2021-03-24 14:41:51,626 - mmaction - INFO - \n",
      "mean_acc\t0.3016\n",
      "2021-03-24 14:41:52,616 - mmaction - INFO - Now best checkpoint is saved as best_top1_acc_epoch_5.pth.\n",
      "2021-03-24 14:41:52,617 - mmaction - INFO - Best top1_acc is 0.3016 at 5 epoch.\n",
      "2021-03-24 14:41:52,618 - mmaction - INFO - Epoch(val) [5][66]\ttop1_acc: 0.3016, top5_acc: 1.0000, mean_class_accuracy: 0.3016\n",
      "2021-03-24 14:43:00,926 - mmaction - INFO - Epoch [6][40/66]\tlr: 9.755e-03, eta: 0:53:58, time: 1.707, data_time: 1.028, memory: 11178, top1_acc: 0.3141, top5_acc: 0.9625, loss_cls: 1.5000, loss: 1.5000\n",
      "2021-03-24 14:44:50,937 - mmaction - INFO - Epoch [7][40/66]\tlr: 9.649e-03, eta: 0:52:19, time: 1.724, data_time: 1.045, memory: 11178, top1_acc: 0.2891, top5_acc: 0.9313, loss_cls: 1.6030, loss: 1.6030\n",
      "2021-03-24 14:45:31,235 - mmaction - INFO - Saving checkpoint at 7 epochs\n",
      "2021-03-24 14:46:43,049 - mmaction - INFO - Epoch [8][40/66]\tlr: 9.524e-03, eta: 0:50:58, time: 1.771, data_time: 1.091, memory: 11178, top1_acc: 0.3000, top5_acc: 0.9500, loss_cls: 1.5712, loss: 1.5712\n",
      "2021-03-24 14:48:30,856 - mmaction - INFO - Epoch [9][40/66]\tlr: 9.382e-03, eta: 0:49:27, time: 1.706, data_time: 1.029, memory: 11178, top1_acc: 0.2953, top5_acc: 0.9500, loss_cls: 1.5545, loss: 1.5545\n",
      "2021-03-24 14:50:19,332 - mmaction - INFO - Epoch [10][40/66]\tlr: 9.222e-03, eta: 0:47:59, time: 1.696, data_time: 1.019, memory: 11178, top1_acc: 0.3203, top5_acc: 0.9406, loss_cls: 1.5114, loss: 1.5114\n"
     ]
    },
    {
     "name": "stdout",
     "output_type": "stream",
     "text": [
      "[>>>>>>>>>>>>>>>>>>>>>>>>>>>>>>] 126/126, 8.3 task/s, elapsed: 15s, ETA:     0s"
     ]
    },
    {
     "name": "stderr",
     "output_type": "stream",
     "text": [
      "2021-03-24 14:51:13,792 - mmaction - INFO - Evaluating top_k_accuracy ...\n",
      "2021-03-24 14:51:13,794 - mmaction - INFO - \n",
      "top1_acc\t0.2063\n",
      "top5_acc\t0.9444\n",
      "2021-03-24 14:51:13,795 - mmaction - INFO - Evaluating mean_class_accuracy ...\n",
      "2021-03-24 14:51:13,796 - mmaction - INFO - \n",
      "mean_acc\t0.2063\n",
      "2021-03-24 14:51:13,797 - mmaction - INFO - Epoch(val) [10][66]\ttop1_acc: 0.2063, top5_acc: 0.9444, mean_class_accuracy: 0.2063\n",
      "2021-03-24 14:52:21,981 - mmaction - INFO - Epoch [11][40/66]\tlr: 9.045e-03, eta: 0:46:36, time: 1.704, data_time: 1.030, memory: 11178, top1_acc: 0.3688, top5_acc: 0.9625, loss_cls: 1.4341, loss: 1.4341\n",
      "2021-03-24 14:54:09,767 - mmaction - INFO - Epoch [12][40/66]\tlr: 8.853e-03, eta: 0:45:21, time: 1.743, data_time: 1.067, memory: 11178, top1_acc: 0.2859, top5_acc: 0.9500, loss_cls: 1.5347, loss: 1.5347\n",
      "2021-03-24 14:55:58,080 - mmaction - INFO - Epoch [13][40/66]\tlr: 8.645e-03, eta: 0:44:01, time: 1.693, data_time: 1.017, memory: 11178, top1_acc: 0.3297, top5_acc: 0.9719, loss_cls: 1.5051, loss: 1.5051\n",
      "2021-03-24 14:57:42,161 - mmaction - INFO - Epoch [14][40/66]\tlr: 8.423e-03, eta: 0:42:36, time: 1.637, data_time: 0.960, memory: 11178, top1_acc: 0.3578, top5_acc: 0.9469, loss_cls: 1.4708, loss: 1.4708\n",
      "2021-03-24 14:58:21,312 - mmaction - INFO - Saving checkpoint at 14 epochs\n",
      "2021-03-24 14:59:30,764 - mmaction - INFO - Epoch [15][40/66]\tlr: 8.187e-03, eta: 0:41:22, time: 1.712, data_time: 1.036, memory: 11178, top1_acc: 0.3422, top5_acc: 0.9641, loss_cls: 1.4749, loss: 1.4749\n"
     ]
    },
    {
     "name": "stdout",
     "output_type": "stream",
     "text": [
      "[>>>>>>>>>>>>>>>>>>>>>>>>>>>>>>] 126/126, 8.4 task/s, elapsed: 15s, ETA:     0s"
     ]
    },
    {
     "name": "stderr",
     "output_type": "stream",
     "text": [
      "2021-03-24 15:00:24,292 - mmaction - INFO - Evaluating top_k_accuracy ...\n",
      "2021-03-24 15:00:24,295 - mmaction - INFO - \n",
      "top1_acc\t0.3810\n",
      "top5_acc\t1.0000\n",
      "2021-03-24 15:00:24,295 - mmaction - INFO - Evaluating mean_class_accuracy ...\n",
      "2021-03-24 15:00:24,297 - mmaction - INFO - \n",
      "mean_acc\t0.3810\n",
      "2021-03-24 15:00:25,331 - mmaction - INFO - Now best checkpoint is saved as best_top1_acc_epoch_15.pth.\n",
      "2021-03-24 15:00:25,332 - mmaction - INFO - Best top1_acc is 0.3810 at 15 epoch.\n",
      "2021-03-24 15:00:25,333 - mmaction - INFO - Epoch(val) [15][66]\ttop1_acc: 0.3810, top5_acc: 1.0000, mean_class_accuracy: 0.3810\n",
      "2021-03-24 15:01:33,162 - mmaction - INFO - Epoch [16][40/66]\tlr: 7.939e-03, eta: 0:40:07, time: 1.695, data_time: 1.020, memory: 11178, top1_acc: 0.3500, top5_acc: 0.9578, loss_cls: 1.4660, loss: 1.4660\n",
      "2021-03-24 15:03:18,413 - mmaction - INFO - Epoch [17][40/66]\tlr: 7.679e-03, eta: 0:38:51, time: 1.676, data_time: 1.003, memory: 11178, top1_acc: 0.3547, top5_acc: 0.9578, loss_cls: 1.4680, loss: 1.4680\n",
      "2021-03-24 15:05:06,495 - mmaction - INFO - Epoch [18][40/66]\tlr: 7.409e-03, eta: 0:37:37, time: 1.693, data_time: 1.021, memory: 11178, top1_acc: 0.3656, top5_acc: 0.9703, loss_cls: 1.4354, loss: 1.4354\n",
      "2021-03-24 15:06:56,733 - mmaction - INFO - Epoch [19][40/66]\tlr: 7.129e-03, eta: 0:36:27, time: 1.733, data_time: 1.059, memory: 11178, top1_acc: 0.3688, top5_acc: 0.9625, loss_cls: 1.4435, loss: 1.4435\n",
      "2021-03-24 15:08:50,946 - mmaction - INFO - Epoch [20][40/66]\tlr: 6.841e-03, eta: 0:35:21, time: 1.812, data_time: 1.141, memory: 11178, top1_acc: 0.3609, top5_acc: 0.9703, loss_cls: 1.4442, loss: 1.4442\n"
     ]
    },
    {
     "name": "stdout",
     "output_type": "stream",
     "text": [
      "[>>>>>>>>>>>>>>>>>>>>>>>>>>>>>>] 126/126, 8.3 task/s, elapsed: 15s, ETA:     0s"
     ]
    },
    {
     "name": "stderr",
     "output_type": "stream",
     "text": [
      "2021-03-24 15:09:44,637 - mmaction - INFO - Evaluating top_k_accuracy ...\n",
      "2021-03-24 15:09:44,639 - mmaction - INFO - \n",
      "top1_acc\t0.4127\n",
      "top5_acc\t1.0000\n",
      "2021-03-24 15:09:44,640 - mmaction - INFO - Evaluating mean_class_accuracy ...\n",
      "2021-03-24 15:09:44,641 - mmaction - INFO - \n",
      "mean_acc\t0.4127\n",
      "2021-03-24 15:09:45,665 - mmaction - INFO - Now best checkpoint is saved as best_top1_acc_epoch_20.pth.\n",
      "2021-03-24 15:09:45,666 - mmaction - INFO - Best top1_acc is 0.4127 at 20 epoch.\n",
      "2021-03-24 15:09:45,667 - mmaction - INFO - Epoch(val) [20][66]\ttop1_acc: 0.4127, top5_acc: 1.0000, mean_class_accuracy: 0.4127\n",
      "2021-03-24 15:10:54,647 - mmaction - INFO - Epoch [21][40/66]\tlr: 6.545e-03, eta: 0:34:10, time: 1.724, data_time: 1.052, memory: 11178, top1_acc: 0.3625, top5_acc: 0.9547, loss_cls: 1.4422, loss: 1.4422\n",
      "2021-03-24 15:11:33,890 - mmaction - INFO - Saving checkpoint at 21 epochs\n",
      "2021-03-24 15:12:45,596 - mmaction - INFO - Epoch [22][40/66]\tlr: 6.243e-03, eta: 0:33:02, time: 1.768, data_time: 1.093, memory: 11178, top1_acc: 0.3781, top5_acc: 0.9656, loss_cls: 1.4264, loss: 1.4264\n",
      "2021-03-24 15:14:32,993 - mmaction - INFO - Epoch [23][40/66]\tlr: 5.937e-03, eta: 0:31:52, time: 1.753, data_time: 1.080, memory: 11178, top1_acc: 0.3875, top5_acc: 0.9578, loss_cls: 1.3607, loss: 1.3607\n",
      "2021-03-24 15:16:16,707 - mmaction - INFO - Epoch [24][40/66]\tlr: 5.627e-03, eta: 0:30:39, time: 1.657, data_time: 0.982, memory: 11178, top1_acc: 0.3750, top5_acc: 0.9656, loss_cls: 1.4176, loss: 1.4176\n",
      "2021-03-24 15:18:03,693 - mmaction - INFO - Epoch [25][40/66]\tlr: 5.314e-03, eta: 0:29:26, time: 1.661, data_time: 0.988, memory: 11178, top1_acc: 0.3906, top5_acc: 0.9656, loss_cls: 1.4189, loss: 1.4189\n"
     ]
    },
    {
     "name": "stdout",
     "output_type": "stream",
     "text": [
      "[>>>>>>>>>>>>>>>>>>>>>>>>>>>>>>] 126/126, 8.3 task/s, elapsed: 15s, ETA:     0s"
     ]
    },
    {
     "name": "stderr",
     "output_type": "stream",
     "text": [
      "2021-03-24 15:19:00,266 - mmaction - INFO - Evaluating top_k_accuracy ...\n",
      "2021-03-24 15:19:00,268 - mmaction - INFO - \n",
      "top1_acc\t0.4048\n",
      "top5_acc\t1.0000\n",
      "2021-03-24 15:19:00,269 - mmaction - INFO - Evaluating mean_class_accuracy ...\n",
      "2021-03-24 15:19:00,270 - mmaction - INFO - \n",
      "mean_acc\t0.4048\n",
      "2021-03-24 15:19:00,271 - mmaction - INFO - Epoch(val) [25][66]\ttop1_acc: 0.4048, top5_acc: 1.0000, mean_class_accuracy: 0.4048\n",
      "2021-03-24 15:20:06,655 - mmaction - INFO - Epoch [26][40/66]\tlr: 5.000e-03, eta: 0:28:13, time: 1.659, data_time: 0.987, memory: 11178, top1_acc: 0.4062, top5_acc: 0.9563, loss_cls: 1.3957, loss: 1.3957\n",
      "2021-03-24 15:21:59,940 - mmaction - INFO - Epoch [27][40/66]\tlr: 4.686e-03, eta: 0:27:05, time: 1.784, data_time: 1.111, memory: 11178, top1_acc: 0.3578, top5_acc: 0.9703, loss_cls: 1.4237, loss: 1.4237\n",
      "2021-03-24 15:23:44,325 - mmaction - INFO - Epoch [28][40/66]\tlr: 4.373e-03, eta: 0:25:54, time: 1.691, data_time: 1.017, memory: 11178, top1_acc: 0.3984, top5_acc: 0.9609, loss_cls: 1.3747, loss: 1.3747\n",
      "2021-03-24 15:24:27,438 - mmaction - INFO - Saving checkpoint at 28 epochs\n",
      "2021-03-24 15:25:34,647 - mmaction - INFO - Epoch [29][40/66]\tlr: 4.063e-03, eta: 0:24:42, time: 1.656, data_time: 0.985, memory: 11178, top1_acc: 0.4078, top5_acc: 0.9703, loss_cls: 1.3560, loss: 1.3560\n",
      "2021-03-24 15:27:24,109 - mmaction - INFO - Epoch [30][40/66]\tlr: 3.757e-03, eta: 0:23:33, time: 1.740, data_time: 1.067, memory: 11178, top1_acc: 0.3641, top5_acc: 0.9563, loss_cls: 1.4754, loss: 1.4754\n"
     ]
    },
    {
     "name": "stdout",
     "output_type": "stream",
     "text": [
      "[>>>>>>>>>>>>>>>>>>>>>>>>>>>>>>] 126/126, 8.3 task/s, elapsed: 15s, ETA:     0s"
     ]
    },
    {
     "name": "stderr",
     "output_type": "stream",
     "text": [
      "2021-03-24 15:28:18,839 - mmaction - INFO - Evaluating top_k_accuracy ...\n",
      "2021-03-24 15:28:18,840 - mmaction - INFO - \n",
      "top1_acc\t0.4762\n",
      "top5_acc\t1.0000\n",
      "2021-03-24 15:28:18,841 - mmaction - INFO - Evaluating mean_class_accuracy ...\n",
      "2021-03-24 15:28:18,842 - mmaction - INFO - \n",
      "mean_acc\t0.4762\n",
      "2021-03-24 15:28:19,865 - mmaction - INFO - Now best checkpoint is saved as best_top1_acc_epoch_30.pth.\n",
      "2021-03-24 15:28:19,866 - mmaction - INFO - Best top1_acc is 0.4762 at 30 epoch.\n",
      "2021-03-24 15:28:19,867 - mmaction - INFO - Epoch(val) [30][66]\ttop1_acc: 0.4762, top5_acc: 1.0000, mean_class_accuracy: 0.4762\n",
      "2021-03-24 15:29:26,630 - mmaction - INFO - Epoch [31][40/66]\tlr: 3.455e-03, eta: 0:22:22, time: 1.669, data_time: 0.999, memory: 11178, top1_acc: 0.3812, top5_acc: 0.9578, loss_cls: 1.3876, loss: 1.3876\n",
      "2021-03-24 15:31:13,870 - mmaction - INFO - Epoch [32][40/66]\tlr: 3.159e-03, eta: 0:21:13, time: 1.709, data_time: 1.037, memory: 11178, top1_acc: 0.4016, top5_acc: 0.9703, loss_cls: 1.3885, loss: 1.3885\n",
      "2021-03-24 15:33:04,263 - mmaction - INFO - Epoch [33][40/66]\tlr: 2.871e-03, eta: 0:20:03, time: 1.728, data_time: 1.056, memory: 11178, top1_acc: 0.3875, top5_acc: 0.9531, loss_cls: 1.3725, loss: 1.3725\n",
      "2021-03-24 15:34:50,552 - mmaction - INFO - Epoch [34][40/66]\tlr: 2.591e-03, eta: 0:18:54, time: 1.708, data_time: 1.037, memory: 11178, top1_acc: 0.4062, top5_acc: 0.9641, loss_cls: 1.3693, loss: 1.3693\n",
      "2021-03-24 15:36:38,159 - mmaction - INFO - Epoch [35][40/66]\tlr: 2.321e-03, eta: 0:17:44, time: 1.723, data_time: 1.051, memory: 11178, top1_acc: 0.3953, top5_acc: 0.9750, loss_cls: 1.3193, loss: 1.3193\n",
      "2021-03-24 15:37:17,432 - mmaction - INFO - Saving checkpoint at 35 epochs\n"
     ]
    },
    {
     "name": "stdout",
     "output_type": "stream",
     "text": [
      "[>>>>>>>>>>>>>>>>>>>>>>>>>>>>>>] 126/126, 8.3 task/s, elapsed: 15s, ETA:     0s"
     ]
    },
    {
     "name": "stderr",
     "output_type": "stream",
     "text": [
      "2021-03-24 15:37:33,647 - mmaction - INFO - Evaluating top_k_accuracy ...\n",
      "2021-03-24 15:37:33,650 - mmaction - INFO - \n",
      "top1_acc\t0.4921\n",
      "top5_acc\t1.0000\n",
      "2021-03-24 15:37:33,651 - mmaction - INFO - Evaluating mean_class_accuracy ...\n",
      "2021-03-24 15:37:33,653 - mmaction - INFO - \n",
      "mean_acc\t0.4921\n",
      "2021-03-24 15:37:34,694 - mmaction - INFO - Now best checkpoint is saved as best_top1_acc_epoch_35.pth.\n",
      "2021-03-24 15:37:34,695 - mmaction - INFO - Best top1_acc is 0.4921 at 35 epoch.\n",
      "2021-03-24 15:37:34,696 - mmaction - INFO - Epoch(val) [35][66]\ttop1_acc: 0.4921, top5_acc: 1.0000, mean_class_accuracy: 0.4921\n",
      "2021-03-24 15:38:41,597 - mmaction - INFO - Epoch [36][40/66]\tlr: 2.061e-03, eta: 0:16:34, time: 1.672, data_time: 1.002, memory: 11178, top1_acc: 0.4141, top5_acc: 0.9703, loss_cls: 1.3533, loss: 1.3533\n",
      "2021-03-24 15:40:29,401 - mmaction - INFO - Epoch [37][40/66]\tlr: 1.813e-03, eta: 0:15:25, time: 1.690, data_time: 1.018, memory: 11178, top1_acc: 0.3828, top5_acc: 0.9641, loss_cls: 1.3798, loss: 1.3798\n",
      "2021-03-24 15:42:14,313 - mmaction - INFO - Epoch [38][40/66]\tlr: 1.577e-03, eta: 0:14:15, time: 1.673, data_time: 1.000, memory: 11178, top1_acc: 0.4062, top5_acc: 0.9609, loss_cls: 1.3502, loss: 1.3502\n",
      "2021-03-24 15:44:03,677 - mmaction - INFO - Epoch [39][40/66]\tlr: 1.355e-03, eta: 0:13:06, time: 1.705, data_time: 1.031, memory: 11178, top1_acc: 0.4203, top5_acc: 0.9688, loss_cls: 1.3208, loss: 1.3208\n",
      "2021-03-24 15:45:52,517 - mmaction - INFO - Epoch [40][40/66]\tlr: 1.147e-03, eta: 0:11:56, time: 1.708, data_time: 1.037, memory: 11178, top1_acc: 0.4188, top5_acc: 0.9719, loss_cls: 1.3025, loss: 1.3025\n"
     ]
    },
    {
     "name": "stdout",
     "output_type": "stream",
     "text": [
      "[>>>>>>>>>>>>>>>>>>>>>>>>>>>>>>] 126/126, 8.4 task/s, elapsed: 15s, ETA:     0s"
     ]
    },
    {
     "name": "stderr",
     "output_type": "stream",
     "text": [
      "2021-03-24 15:46:48,585 - mmaction - INFO - Evaluating top_k_accuracy ...\n",
      "2021-03-24 15:46:48,587 - mmaction - INFO - \n",
      "top1_acc\t0.5000\n",
      "top5_acc\t1.0000\n",
      "2021-03-24 15:46:48,588 - mmaction - INFO - Evaluating mean_class_accuracy ...\n",
      "2021-03-24 15:46:48,589 - mmaction - INFO - \n",
      "mean_acc\t0.5000\n",
      "2021-03-24 15:46:49,615 - mmaction - INFO - Now best checkpoint is saved as best_top1_acc_epoch_40.pth.\n",
      "2021-03-24 15:46:49,616 - mmaction - INFO - Best top1_acc is 0.5000 at 40 epoch.\n",
      "2021-03-24 15:46:49,617 - mmaction - INFO - Epoch(val) [40][66]\ttop1_acc: 0.5000, top5_acc: 1.0000, mean_class_accuracy: 0.5000\n",
      "2021-03-24 15:48:02,324 - mmaction - INFO - Epoch [41][40/66]\tlr: 9.549e-04, eta: 0:10:48, time: 1.817, data_time: 1.149, memory: 11178, top1_acc: 0.4219, top5_acc: 0.9578, loss_cls: 1.3856, loss: 1.3856\n",
      "2021-03-24 15:49:52,341 - mmaction - INFO - Epoch [42][40/66]\tlr: 7.784e-04, eta: 0:09:39, time: 1.715, data_time: 1.043, memory: 11178, top1_acc: 0.4141, top5_acc: 0.9719, loss_cls: 1.3213, loss: 1.3213\n",
      "2021-03-24 15:50:31,846 - mmaction - INFO - Saving checkpoint at 42 epochs\n",
      "2021-03-24 15:51:40,216 - mmaction - INFO - Epoch [43][40/66]\tlr: 6.185e-04, eta: 0:08:30, time: 1.685, data_time: 1.016, memory: 11178, top1_acc: 0.4375, top5_acc: 0.9703, loss_cls: 1.2590, loss: 1.2590\n",
      "2021-03-24 15:53:29,426 - mmaction - INFO - Epoch [44][40/66]\tlr: 4.759e-04, eta: 0:07:21, time: 1.744, data_time: 1.073, memory: 11178, top1_acc: 0.4500, top5_acc: 0.9688, loss_cls: 1.2970, loss: 1.2970\n",
      "2021-03-24 15:55:18,177 - mmaction - INFO - Epoch [45][40/66]\tlr: 3.511e-04, eta: 0:06:12, time: 1.729, data_time: 1.056, memory: 11178, top1_acc: 0.4375, top5_acc: 0.9734, loss_cls: 1.2852, loss: 1.2852\n"
     ]
    },
    {
     "name": "stdout",
     "output_type": "stream",
     "text": [
      "[>>>>>>>>>>>>>>>>>>>>>>>>>>>>>>] 126/126, 8.4 task/s, elapsed: 15s, ETA:     0s"
     ]
    },
    {
     "name": "stderr",
     "output_type": "stream",
     "text": [
      "2021-03-24 15:56:11,961 - mmaction - INFO - Evaluating top_k_accuracy ...\n",
      "2021-03-24 15:56:11,964 - mmaction - INFO - \n",
      "top1_acc\t0.5476\n",
      "top5_acc\t1.0000\n",
      "2021-03-24 15:56:11,965 - mmaction - INFO - Evaluating mean_class_accuracy ...\n",
      "2021-03-24 15:56:11,967 - mmaction - INFO - \n",
      "mean_acc\t0.5476\n",
      "2021-03-24 15:56:12,994 - mmaction - INFO - Now best checkpoint is saved as best_top1_acc_epoch_45.pth.\n",
      "2021-03-24 15:56:12,995 - mmaction - INFO - Best top1_acc is 0.5476 at 45 epoch.\n",
      "2021-03-24 15:56:12,996 - mmaction - INFO - Epoch(val) [45][66]\ttop1_acc: 0.5476, top5_acc: 1.0000, mean_class_accuracy: 0.5476\n",
      "2021-03-24 15:57:20,245 - mmaction - INFO - Epoch [46][40/66]\tlr: 2.447e-04, eta: 0:05:03, time: 1.681, data_time: 1.011, memory: 11178, top1_acc: 0.4688, top5_acc: 0.9641, loss_cls: 1.3108, loss: 1.3108\n",
      "2021-03-24 15:59:10,946 - mmaction - INFO - Epoch [47][40/66]\tlr: 1.571e-04, eta: 0:03:54, time: 1.732, data_time: 1.062, memory: 11178, top1_acc: 0.4000, top5_acc: 0.9578, loss_cls: 1.3806, loss: 1.3806\n",
      "2021-03-24 16:00:58,073 - mmaction - INFO - Epoch [48][40/66]\tlr: 8.856e-05, eta: 0:02:45, time: 1.680, data_time: 1.010, memory: 11178, top1_acc: 0.4484, top5_acc: 0.9734, loss_cls: 1.2792, loss: 1.2792\n",
      "2021-03-24 16:02:49,079 - mmaction - INFO - Epoch [49][40/66]\tlr: 3.943e-05, eta: 0:01:36, time: 1.717, data_time: 1.048, memory: 11178, top1_acc: 0.4484, top5_acc: 0.9812, loss_cls: 1.2598, loss: 1.2598\n",
      "2021-03-24 16:03:30,744 - mmaction - INFO - Saving checkpoint at 49 epochs\n",
      "2021-03-24 16:04:39,159 - mmaction - INFO - Epoch [50][40/66]\tlr: 9.866e-06, eta: 0:00:27, time: 1.686, data_time: 1.017, memory: 11178, top1_acc: 0.4641, top5_acc: 0.9719, loss_cls: 1.2794, loss: 1.2794\n"
     ]
    },
    {
     "name": "stdout",
     "output_type": "stream",
     "text": [
      "[>>>>>>>>>>>>>>>>>>>>>>>>>>>>>>] 126/126, 8.3 task/s, elapsed: 15s, ETA:     0s"
     ]
    },
    {
     "name": "stderr",
     "output_type": "stream",
     "text": [
      "2021-03-24 16:05:34,909 - mmaction - INFO - Evaluating top_k_accuracy ...\n",
      "2021-03-24 16:05:34,912 - mmaction - INFO - \n",
      "top1_acc\t0.5476\n",
      "top5_acc\t1.0000\n",
      "2021-03-24 16:05:34,912 - mmaction - INFO - Evaluating mean_class_accuracy ...\n",
      "2021-03-24 16:05:34,915 - mmaction - INFO - \n",
      "mean_acc\t0.5476\n",
      "2021-03-24 16:05:34,916 - mmaction - INFO - Epoch(val) [50][66]\ttop1_acc: 0.5476, top5_acc: 1.0000, mean_class_accuracy: 0.5476\n"
     ]
    }
   ],
   "source": [
    "import os.path as osp\n",
    "\n",
    "from mmaction.datasets import build_dataset\n",
    "from mmaction.models import build_model\n",
    "from mmaction.apis import train_model\n",
    "\n",
    "import mmcv\n",
    "\n",
    "# Build the dataset\n",
    "datasets = [build_dataset(cfg.data.train)]\n",
    "\n",
    "# Build the recognizer\n",
    "model = build_model(cfg.model, train_cfg=cfg.get('train_cfg'), test_cfg=cfg.get('test_cfg'))\n",
    "# model = build_model(cfg.model, train_cfg=cfg.get('train_cfg'), test_cfg=cfg.get('test_cfg'))\n",
    "# model = build_detector(cfg.model, train_cfg=cfg.get('train_cfg'), test_cfg=cfg.get('test_cfg'))\n",
    "# model = build_detector(cfg.model, train_cfg=cfg.train_cfg, test_cfg=cfg.test_cfg)\n",
    "\n",
    "# Create work_dir\n",
    "mmcv.mkdir_or_exist(osp.abspath(cfg.work_dir))\n",
    "train_model(model, datasets, cfg, distributed=False, validate=True)"
   ]
  },
  {
   "cell_type": "code",
   "execution_count": 30,
   "metadata": {},
   "outputs": [],
   "source": [
    "import pickle\n",
    "\n",
    "with open('f'{cfg.work_dir}/model50e', 'wb') as f:\n",
    "    pickle.dump(model, f)"
   ]
  },
  {
   "cell_type": "code",
   "execution_count": 34,
   "metadata": {
    "colab": {
     "base_uri": "https://localhost:8080/"
    },
    "id": "eyY3hCMwyTct",
    "outputId": "200e37c7-0da4-421f-98da-41418c3110ca",
    "tags": []
   },
   "outputs": [
    {
     "name": "stdout",
     "output_type": "stream",
     "text": [
      "[>>>>>>>>>>>>>>>>>>>>>>>>>>>>>] 126/126, 0.7 task/s, elapsed: 180s, ETA:     0s\n",
      "Evaluating top_k_accuracy ...\n",
      "\n",
      "top1_acc\t0.5952\n",
      "top5_acc\t1.0000\n",
      "\n",
      "Evaluating mean_class_accuracy ...\n",
      "\n",
      "mean_acc\t0.5952\n",
      "top1_acc: 0.5952\n",
      "top5_acc: 1.0000\n",
      "mean_class_accuracy: 0.5952\n"
     ]
    }
   ],
   "source": [
    "from mmaction.apis import single_gpu_test\n",
    "from mmaction.datasets import build_dataloader, load_annotations, build_dataset\n",
    "from mmcv.parallel import MMDataParallel\n",
    "from mmaction.models import build_model\n",
    "\n",
    "# model = build_model(cfg.model, train_cfg=cfg.get('train_cfg'), test_cfg=cfg.get('test_cfg'))\n",
    "# Build a test dataloader\n",
    "dataset = build_dataset(cfg.data.test, dict(test_mode=True))\n",
    "data_loader = build_dataloader(\n",
    "        dataset,\n",
    "        videos_per_gpu=4,\n",
    "        workers_per_gpu=1,\n",
    "        dist=False,\n",
    "        shuffle=False)\n",
    "model = MMDataParallel(model, device_ids=[0])\n",
    "outputs = single_gpu_test(model, data_loader)\n",
    "\n",
    "eval_config = cfg.evaluation\n",
    "eval_config.pop('interval')\n",
    "eval_res = dataset.evaluate(outputs, **eval_config)\n",
    "for name, val in eval_res.items():\n",
    "    print(f'{name}: {val:.04f}')"
   ]
  },
  {
   "cell_type": "code",
   "execution_count": 73,
   "metadata": {},
   "outputs": [
    {
     "data": {
      "text/plain": [
       "<AxesSubplot:>"
      ]
     },
     "execution_count": 73,
     "metadata": {},
     "output_type": "execute_result"
    },
    {
     "data": {
      "image/png": "[encoded data removed]",
      "text/plain": [
       "<Figure size 432x288 with 2 Axes>"
      ]
     },
     "metadata": {
      "needs_background": "light"
     },
     "output_type": "display_data"
    }
   ],
   "source": [
    "import seaborn as sns\n",
    "import numpy as np\n",
    "from mmaction.core import confusion_matrix \n",
    "\n",
    "gt_labels = [ann['label'] for ann in dataset.load_annotations()]\n",
    "pred = np.argmax(outputs, axis=1)\n",
    "cf_mat = confusion_matrix(pred, gt_labels).astype(float)\n",
    "\n",
    "sns.heatmap(cf_mat, annot=True)"
   ]
  },
  {
   "cell_type": "markdown",
   "metadata": {
    "tags": []
   },
   "source": [
    "# TSM"
   ]
  },
  {
   "cell_type": "code",
   "execution_count": 2,
   "metadata": {
    "colab": {
     "base_uri": "https://localhost:8080/"
    },
    "collapsed": true,
    "id": "64CW6d_AaT-Q",
    "jupyter": {
     "outputs_hidden": true
    },
    "outputId": "3b284fd8-4ee7-4a34-90d7-5023cd123a04",
    "tags": []
   },
   "outputs": [
    {
     "name": "stdout",
     "output_type": "stream",
     "text": [
      "--2021-03-22 18:16:35--  https://download.openmmlab.com/mmaction/recognition/slowfast/slowfast_r50_video_4x16x1_256e_kinetics400_rgb/slowfast_r50_video_4x16x1_256e_kinetics400_rgb_20200826-f85b90c5.pth\n",
      "Resolving download.openmmlab.com (download.openmmlab.com)... 47.254.186.225\n",
      "Connecting to download.openmmlab.com (download.openmmlab.com)|47.254.186.225|:443... connected.\n",
      "HTTP request sent, awaiting response... 200 OK\n",
      "Length: 138274276 (132M) [application/octet-stream]\n",
      "Saving to: ‘checkpoints/slowfast_r50_video_4x16x1_256e_kinetics400_rgb_20200826-f85b90c5.pth’\n",
      "\n",
      "checkpoints/slowfas 100%[===================>] 131,87M  6,72MB/s    in 17s     \n",
      "\n",
      "2021-03-22 18:16:55 (7,79 MB/s) - ‘checkpoints/slowfast_r50_video_4x16x1_256e_kinetics400_rgb_20200826-f85b90c5.pth’ saved [138274276/138274276]\n",
      "\n"
     ]
    }
   ],
   "source": [
    "# !mkdir checkpoints\n",
    "!wget -c https://download.openmmlab.com/mmaction/recognition/tsm/tsm_r50_video_1x1x8_100e_kinetics400_rgb/tsm_r50_video_1x1x8_100e_kinetics400_rgb_20200702-a77f4328.pth \\\n",
    "      -O checkpoints/tsm_r50_video_1x1x8_100e_kinetics400_rgb_20200702-a77f4328.pth"
   ]
  },
  {
   "cell_type": "code",
   "execution_count": 2,
   "metadata": {
    "id": "LjCcmCKOjktc",
    "tags": []
   },
   "outputs": [],
   "source": [
    "from mmcv import Config\n",
    "cfg = Config.fromfile('./configs/recognition/r2plus1d/r2plus1d_r34_video_8x8x1_180e_kinetics400_rgb.py')"
   ]
  },
  {
   "cell_type": "code",
   "execution_count": 3,
   "metadata": {
    "colab": {
     "base_uri": "https://localhost:8080/"
    },
    "id": "tlhu9byjjt-K",
    "outputId": "13d1bb01-f351-48c0-9efb-0bdf2c125d29",
    "tags": []
   },
   "outputs": [],
   "source": [
    "from mmcv.runner import set_random_seed\n",
    "\n",
    "# Modify dataset type and path\n",
    "cfg.dataset_type = 'VideoDataset'\n",
    "cfg.data_root = 'data/childact_split/train/'\n",
    "cfg.data_root_val = 'data/childact_split/val/'\n",
    "cfg.ann_file_train = 'data/childact_split/childact_train_video.txt'\n",
    "cfg.ann_file_val = 'data/childact_split/childact_val_video.txt'\n",
    "cfg.ann_file_test = 'data/childact_split/childact_test_video.txt'\n",
    "\n",
    "cfg.data.test.type = 'VideoDataset'\n",
    "cfg.data.test.ann_file = 'data/childact_split/childact_test_video.txt'\n",
    "cfg.data.test.data_prefix = 'data/childact_split/test/'\n",
    "\n",
    "cfg.data.train.type = 'VideoDataset'\n",
    "cfg.data.train.ann_file = 'data/childact_split/childact_train_video.txt'\n",
    "cfg.data.train.data_prefix = 'data/childact_split/train/'\n",
    "\n",
    "cfg.data.val.type = 'VideoDataset'\n",
    "cfg.data.val.ann_file = 'data/childact_split/childact_val_video.txt'\n",
    "cfg.data.val.data_prefix = 'data/childact_split/val/'\n",
    "\n",
    "# The flag is used to determine whether it is omnisource training\n",
    "cfg.setdefault('omnisource', False)\n",
    "# Modify num classes of the model in cls_head\n",
    "cfg.model.cls_head.num_classes = 7\n",
    "# We can use the pre-trained TSN model\n",
    "# cfg.load_from = './checkpoints/slowfast_r50_video_4x16x1_256e_kinetics400_rgb_20200826-f85b90c5.pth'\n",
    "# cfg.resume_from = './childact-mm/latest.pth'\n",
    "\n",
    "# Set up working dir to save files and logs.\n",
    "cfg.work_dir = './childact-checkpoints/childact-r2plus1d/'\n",
    "\n",
    "# The original learning rate (LR) is set for 8-GPU training.\n",
    "# We divide it by 8 since we only use one GPU.\n",
    "cfg.data.videos_per_gpu = 16\n",
    "cfg.optimizer.type = 'Adam'\n",
    "cfg.optimizer.weight_decay=0.0001\n",
    "\n",
    "cfg.optimizer_config.grad_clip=None\n",
    "cfg.optimizer.lr = 0.01\n",
    "\n",
    "cfg.lr_config.type = 'cyclic'\n",
    "cfg.total_epochs = 50\n",
    "\n",
    "# We can set the checkpoint saving interval to reduce the storage cost\n",
    "cfg.checkpoint_config.interval = 7\n",
    "# We can set the log print interval to reduce the the times of printing log\n",
    "cfg.log_config.interval = 40\n",
    "\n",
    "# Set seed thus the results are more reproducible\n",
    "cfg.seed = 42\n",
    "set_random_seed(42, deterministic=False)\n",
    "cfg.gpu_ids = range(1)\n",
    "\n",
    "cfg.output_config = dict(out=f'{cfg.work_dir}/results.json')\n",
    "# We can initialize the logger for training and have a look\n",
    "# at the final config used for training\n",
    "print(f'Config:\\n{cfg.pretty_text}')\n"
   ]
  },
  {
   "cell_type": "code",
   "execution_count": 4,
   "metadata": {},
   "outputs": [],
   "source": [
    "del cfg.optimizer['momentum']"
   ]
  },
  {
   "cell_type": "code",
   "execution_count": 5,
   "metadata": {
    "colab": {
     "base_uri": "https://localhost:8080/"
    },
    "collapsed": true,
    "id": "dDBWkdDRk6oz",
    "jupyter": {
     "outputs_hidden": true
    },
    "outputId": "85a52ef3-7b5c-4c52-8fef-00322a8c65e6",
    "tags": []
   },
   "outputs": [
    {
     "name": "stderr",
     "output_type": "stream",
     "text": [
      "2021-03-22 19:47:45,954 - mmaction - INFO - Start running, host: actrec@actrec-HP-Z4-G4-Workstation, work_dir: /home/actrec/.virtualenvs/mmaction/mmaction2/childact-checkpoints/childact-slowfast\n",
      "2021-03-22 19:47:45,955 - mmaction - INFO - workflow: [('train', 1)], max: 50 epochs\n",
      "/home/actrec/.virtualenvs/mmaction/mmaction2/mmaction/core/evaluation/eval_hooks.py:131: UserWarning: runner.meta is None. Creating a empty one.\n",
      "  warnings.warn('runner.meta is None. Creating a empty one.')\n",
      "/home/actrec/.virtualenvs/mmaction/lib/python3.6/site-packages/torch/nn/functional.py:3103: UserWarning: The default behavior for interpolate/upsample with float scale_factor changed in 1.6.0 to align with other frameworks/libraries, and now uses scale_factor directly, instead of relying on the computed output size. If you wish to restore the old behavior, please set recompute_scale_factor=True. See the documentation of nn.Upsample for details. \n",
      "  warnings.warn(\"The default behavior for interpolate/upsample with float scale_factor changed \"\n",
      "2021-03-22 19:48:25,893 - mmaction - INFO - Epoch [1][15/66]\tlr: 1.056e-03, eta: 2:25:45, time: 2.662, data_time: 1.772, memory: 12339, top1_acc: 0.2167, top5_acc: 0.8625, loss_cls: 1.8703, loss: 1.8703\n",
      "2021-03-22 19:49:00,519 - mmaction - INFO - Epoch [1][30/66]\tlr: 1.116e-03, eta: 2:15:27, time: 2.308, data_time: 1.420, memory: 12339, top1_acc: 0.3000, top5_acc: 0.9333, loss_cls: 1.7411, loss: 1.7411\n",
      "2021-03-22 19:49:31,800 - mmaction - INFO - Epoch [1][45/66]\tlr: 1.176e-03, eta: 2:07:35, time: 2.085, data_time: 1.193, memory: 12339, top1_acc: 0.2458, top5_acc: 0.9333, loss_cls: 1.7249, loss: 1.7249\n",
      "2021-03-22 19:50:03,654 - mmaction - INFO - Epoch [1][60/66]\tlr: 1.237e-03, eta: 2:03:55, time: 2.124, data_time: 1.232, memory: 12339, top1_acc: 0.2500, top5_acc: 0.9458, loss_cls: 1.6498, loss: 1.6498\n",
      "2021-03-22 19:50:50,035 - mmaction - INFO - Epoch [2][15/66]\tlr: 1.320e-03, eta: 1:55:57, time: 2.491, data_time: 1.596, memory: 12339, top1_acc: 0.3000, top5_acc: 0.9667, loss_cls: 1.6173, loss: 1.6173\n",
      "2021-03-22 19:51:24,384 - mmaction - INFO - Epoch [2][30/66]\tlr: 1.380e-03, eta: 1:56:29, time: 2.290, data_time: 1.389, memory: 12339, top1_acc: 0.3625, top5_acc: 0.9625, loss_cls: 1.5299, loss: 1.5299\n",
      "2021-03-22 19:51:58,423 - mmaction - INFO - Epoch [2][45/66]\tlr: 1.440e-03, eta: 1:56:34, time: 2.269, data_time: 1.366, memory: 12339, top1_acc: 0.3000, top5_acc: 0.9083, loss_cls: 1.6346, loss: 1.6346\n",
      "2021-03-22 19:52:26,751 - mmaction - INFO - Epoch [2][60/66]\tlr: 1.500e-03, eta: 1:54:06, time: 1.888, data_time: 0.992, memory: 12339, top1_acc: 0.3667, top5_acc: 0.9667, loss_cls: 1.5428, loss: 1.5428\n",
      "2021-03-22 19:52:38,791 - mmaction - INFO - Saving checkpoint at 2 epochs\n",
      "2021-03-22 19:53:18,139 - mmaction - INFO - Epoch [3][15/66]\tlr: 1.579e-03, eta: 1:51:01, time: 2.585, data_time: 1.687, memory: 12339, top1_acc: 0.3792, top5_acc: 0.9417, loss_cls: 1.5213, loss: 1.5213\n",
      "2021-03-22 19:53:52,512 - mmaction - INFO - Epoch [3][30/66]\tlr: 1.639e-03, eta: 1:51:21, time: 2.291, data_time: 1.389, memory: 12339, top1_acc: 0.4125, top5_acc: 0.9833, loss_cls: 1.4196, loss: 1.4196\n",
      "2021-03-22 19:54:27,544 - mmaction - INFO - Epoch [3][45/66]\tlr: 1.699e-03, eta: 1:51:44, time: 2.336, data_time: 1.437, memory: 12339, top1_acc: 0.3333, top5_acc: 0.9667, loss_cls: 1.5466, loss: 1.5466\n",
      "2021-03-22 19:54:56,374 - mmaction - INFO - Epoch [3][60/66]\tlr: 1.759e-03, eta: 1:50:17, time: 1.922, data_time: 1.022, memory: 12339, top1_acc: 0.4000, top5_acc: 0.9750, loss_cls: 1.3929, loss: 1.3929\n",
      "2021-03-22 19:55:48,040 - mmaction - INFO - Epoch [4][15/66]\tlr: 1.834e-03, eta: 1:47:58, time: 2.549, data_time: 1.654, memory: 12339, top1_acc: 0.3875, top5_acc: 0.9750, loss_cls: 1.4388, loss: 1.4388\n",
      "2021-03-22 19:56:21,759 - mmaction - INFO - Epoch [4][30/66]\tlr: 1.894e-03, eta: 1:47:57, time: 2.248, data_time: 1.343, memory: 12339, top1_acc: 0.4250, top5_acc: 0.9583, loss_cls: 1.3696, loss: 1.3696\n",
      "2021-03-22 19:56:56,108 - mmaction - INFO - Epoch [4][45/66]\tlr: 1.953e-03, eta: 1:48:00, time: 2.290, data_time: 1.386, memory: 12339, top1_acc: 0.4792, top5_acc: 0.9625, loss_cls: 1.3858, loss: 1.3858\n",
      "2021-03-22 19:57:26,357 - mmaction - INFO - Epoch [4][60/66]\tlr: 2.013e-03, eta: 1:47:09, time: 2.017, data_time: 1.120, memory: 12339, top1_acc: 0.3792, top5_acc: 0.9750, loss_cls: 1.4442, loss: 1.4442\n",
      "2021-03-22 19:57:38,023 - mmaction - INFO - Saving checkpoint at 4 epochs\n",
      "2021-03-22 19:58:16,651 - mmaction - INFO - Epoch [5][15/66]\tlr: 2.082e-03, eta: 1:45:16, time: 2.536, data_time: 1.638, memory: 12339, top1_acc: 0.3958, top5_acc: 0.9500, loss_cls: 1.4932, loss: 1.4932\n",
      "2021-03-22 19:58:51,112 - mmaction - INFO - Epoch [5][30/66]\tlr: 2.141e-03, eta: 1:45:17, time: 2.297, data_time: 1.395, memory: 12339, top1_acc: 0.4000, top5_acc: 0.9667, loss_cls: 1.4321, loss: 1.4321\n",
      "2021-03-22 19:59:23,371 - mmaction - INFO - Epoch [5][45/66]\tlr: 2.200e-03, eta: 1:44:52, time: 2.151, data_time: 1.243, memory: 12339, top1_acc: 0.4542, top5_acc: 0.9750, loss_cls: 1.2805, loss: 1.2805\n",
      "2021-03-22 19:59:52,614 - mmaction - INFO - Epoch [5][60/66]\tlr: 2.259e-03, eta: 1:43:59, time: 1.950, data_time: 1.047, memory: 12339, top1_acc: 0.4417, top5_acc: 0.9708, loss_cls: 1.3793, loss: 1.3793\n"
     ]
    },
    {
     "name": "stdout",
     "output_type": "stream",
     "text": [
      "[>>>>>>>>>>>>>>>>>>>>>>>>>>>>>>>>>>>>>>>>>>>>>>>>>>] 126/126, 6.4 task/s, elapsed: 20s, ETA:     0s"
     ]
    },
    {
     "name": "stderr",
     "output_type": "stream",
     "text": [
      "2021-03-22 20:00:23,057 - mmaction - INFO - Evaluating top_k_accuracy ...\n",
      "2021-03-22 20:00:23,059 - mmaction - INFO - \n",
      "top1_acc\t0.5635\n",
      "top5_acc\t1.0000\n",
      "2021-03-22 20:00:23,060 - mmaction - INFO - Evaluating mean_class_accuracy ...\n",
      "2021-03-22 20:00:23,062 - mmaction - INFO - \n",
      "mean_acc\t0.5635\n",
      "2021-03-22 20:00:23,632 - mmaction - INFO - Now best checkpoint is saved as best_top1_acc_epoch_5.pth.\n",
      "2021-03-22 20:00:23,633 - mmaction - INFO - Best top1_acc is 0.5635 at 5 epoch.\n",
      "2021-03-22 20:00:23,634 - mmaction - INFO - Epoch(val) [5][66]\ttop1_acc: 0.5635, top5_acc: 1.0000, mean_class_accuracy: 0.5635\n",
      "2021-03-22 20:01:03,115 - mmaction - INFO - Epoch [6][15/66]\tlr: 2.321e-03, eta: 1:42:36, time: 2.632, data_time: 1.736, memory: 12339, top1_acc: 0.4500, top5_acc: 0.9750, loss_cls: 1.2493, loss: 1.2493\n",
      "2021-03-22 20:01:36,778 - mmaction - INFO - Epoch [6][30/66]\tlr: 2.380e-03, eta: 1:42:25, time: 2.244, data_time: 1.331, memory: 12339, top1_acc: 0.4417, top5_acc: 0.9917, loss_cls: 1.3425, loss: 1.3425\n",
      "2021-03-22 20:02:07,262 - mmaction - INFO - Epoch [6][45/66]\tlr: 2.439e-03, eta: 1:41:47, time: 2.032, data_time: 1.131, memory: 12339, top1_acc: 0.4208, top5_acc: 0.9750, loss_cls: 1.3391, loss: 1.3391\n",
      "2021-03-22 20:02:38,807 - mmaction - INFO - Epoch [6][60/66]\tlr: 2.498e-03, eta: 1:41:17, time: 2.103, data_time: 1.201, memory: 12339, top1_acc: 0.4292, top5_acc: 0.9667, loss_cls: 1.3890, loss: 1.3890\n",
      "2021-03-22 20:02:49,150 - mmaction - INFO - Saving checkpoint at 6 epochs\n",
      "2021-03-22 20:03:28,403 - mmaction - INFO - Epoch [7][15/66]\tlr: 2.552e-03, eta: 1:39:57, time: 2.579, data_time: 1.677, memory: 12339, top1_acc: 0.4625, top5_acc: 0.9625, loss_cls: 1.3201, loss: 1.3201\n",
      "2021-03-22 20:04:00,265 - mmaction - INFO - Epoch [7][30/66]\tlr: 2.610e-03, eta: 1:39:31, time: 2.124, data_time: 1.215, memory: 12339, top1_acc: 0.5292, top5_acc: 0.9833, loss_cls: 1.2455, loss: 1.2455\n",
      "2021-03-22 20:04:32,643 - mmaction - INFO - Epoch [7][45/66]\tlr: 2.668e-03, eta: 1:39:07, time: 2.158, data_time: 1.255, memory: 12339, top1_acc: 0.4583, top5_acc: 0.9875, loss_cls: 1.3009, loss: 1.3009\n",
      "2021-03-22 20:05:02,262 - mmaction - INFO - Epoch [7][60/66]\tlr: 2.726e-03, eta: 1:38:26, time: 1.975, data_time: 1.074, memory: 12339, top1_acc: 0.4917, top5_acc: 0.9625, loss_cls: 1.2684, loss: 1.2684\n",
      "2021-03-22 20:05:53,051 - mmaction - INFO - Epoch [8][15/66]\tlr: 2.771e-03, eta: 1:37:17, time: 2.624, data_time: 1.724, memory: 12339, top1_acc: 0.5083, top5_acc: 0.9792, loss_cls: 1.2648, loss: 1.2648\n",
      "2021-03-22 20:06:27,143 - mmaction - INFO - Epoch [8][30/66]\tlr: 2.828e-03, eta: 1:37:04, time: 2.273, data_time: 1.373, memory: 12339, top1_acc: 0.4708, top5_acc: 0.9833, loss_cls: 1.2630, loss: 1.2630\n",
      "2021-03-22 20:07:00,810 - mmaction - INFO - Epoch [8][45/66]\tlr: 2.885e-03, eta: 1:36:47, time: 2.244, data_time: 1.345, memory: 12339, top1_acc: 0.5208, top5_acc: 0.9875, loss_cls: 1.1944, loss: 1.1944\n",
      "2021-03-22 20:07:29,438 - mmaction - INFO - Epoch [8][60/66]\tlr: 2.943e-03, eta: 1:36:02, time: 1.909, data_time: 1.011, memory: 12339, top1_acc: 0.5000, top5_acc: 0.9792, loss_cls: 1.2005, loss: 1.2005\n",
      "2021-03-22 20:07:42,329 - mmaction - INFO - Saving checkpoint at 8 epochs\n",
      "2021-03-22 20:08:21,833 - mmaction - INFO - Epoch [9][15/66]\tlr: 2.978e-03, eta: 1:34:55, time: 2.594, data_time: 1.696, memory: 12339, top1_acc: 0.4750, top5_acc: 0.9833, loss_cls: 1.1876, loss: 1.1876\n",
      "2021-03-22 20:08:58,454 - mmaction - INFO - Epoch [9][30/66]\tlr: 3.034e-03, eta: 1:34:52, time: 2.441, data_time: 1.541, memory: 12339, top1_acc: 0.5125, top5_acc: 0.9958, loss_cls: 1.1709, loss: 1.1709\n",
      "2021-03-22 20:09:32,244 - mmaction - INFO - Epoch [9][45/66]\tlr: 3.090e-03, eta: 1:34:33, time: 2.253, data_time: 1.353, memory: 12339, top1_acc: 0.5542, top5_acc: 0.9792, loss_cls: 1.1543, loss: 1.1543\n",
      "2021-03-22 20:09:58,497 - mmaction - INFO - Epoch [9][60/66]\tlr: 3.147e-03, eta: 1:33:39, time: 1.750, data_time: 0.847, memory: 12339, top1_acc: 0.4417, top5_acc: 0.9833, loss_cls: 1.2799, loss: 1.2799\n",
      "2021-03-22 20:10:51,716 - mmaction - INFO - Epoch [10][15/66]\tlr: 3.171e-03, eta: 1:32:40, time: 2.674, data_time: 1.777, memory: 12339, top1_acc: 0.5167, top5_acc: 0.9750, loss_cls: 1.2208, loss: 1.2208\n",
      "2021-03-22 20:11:23,874 - mmaction - INFO - Epoch [10][30/66]\tlr: 3.226e-03, eta: 1:32:14, time: 2.144, data_time: 1.244, memory: 12339, top1_acc: 0.5208, top5_acc: 0.9792, loss_cls: 1.1917, loss: 1.1917\n",
      "2021-03-22 20:11:59,039 - mmaction - INFO - Epoch [10][45/66]\tlr: 3.282e-03, eta: 1:32:01, time: 2.344, data_time: 1.444, memory: 12339, top1_acc: 0.5292, top5_acc: 1.0000, loss_cls: 1.1664, loss: 1.1664\n",
      "2021-03-22 20:12:28,782 - mmaction - INFO - Epoch [10][60/66]\tlr: 3.337e-03, eta: 1:31:24, time: 1.983, data_time: 1.086, memory: 12339, top1_acc: 0.5042, top5_acc: 0.9750, loss_cls: 1.1875, loss: 1.1875\n",
      "2021-03-22 20:12:40,623 - mmaction - INFO - Saving checkpoint at 10 epochs\n"
     ]
    },
    {
     "name": "stdout",
     "output_type": "stream",
     "text": [
      "[>>>>>>>>>>>>>>>>>>>>>>>>>>>>>>>>>>>>>>>>>>>>>>>>>>] 126/126, 6.4 task/s, elapsed: 20s, ETA:     0s"
     ]
    },
    {
     "name": "stderr",
     "output_type": "stream",
     "text": [
      "2021-03-22 20:13:00,840 - mmaction - INFO - Evaluating top_k_accuracy ...\n",
      "2021-03-22 20:13:00,843 - mmaction - INFO - \n",
      "top1_acc\t0.6349\n",
      "top5_acc\t1.0000\n",
      "2021-03-22 20:13:00,844 - mmaction - INFO - Evaluating mean_class_accuracy ...\n",
      "2021-03-22 20:13:00,846 - mmaction - INFO - \n",
      "mean_acc\t0.6349\n",
      "2021-03-22 20:13:01,476 - mmaction - INFO - Now best checkpoint is saved as best_top1_acc_epoch_10.pth.\n",
      "2021-03-22 20:13:01,477 - mmaction - INFO - Best top1_acc is 0.6349 at 10 epoch.\n",
      "2021-03-22 20:13:01,478 - mmaction - INFO - Epoch(val) [10][66]\ttop1_acc: 0.6349, top5_acc: 1.0000, mean_class_accuracy: 0.6349\n",
      "2021-03-22 20:13:41,946 - mmaction - INFO - Epoch [11][15/66]\tlr: 3.350e-03, eta: 1:30:28, time: 2.698, data_time: 1.792, memory: 12339, top1_acc: 0.4792, top5_acc: 0.9833, loss_cls: 1.1690, loss: 1.1690\n",
      "2021-03-22 20:14:15,408 - mmaction - INFO - Epoch [11][30/66]\tlr: 3.404e-03, eta: 1:30:07, time: 2.231, data_time: 1.312, memory: 12339, top1_acc: 0.5167, top5_acc: 0.9833, loss_cls: 1.1080, loss: 1.1080\n",
      "2021-03-22 20:14:46,957 - mmaction - INFO - Epoch [11][45/66]\tlr: 3.458e-03, eta: 1:29:37, time: 2.103, data_time: 1.163, memory: 12339, top1_acc: 0.4875, top5_acc: 0.9792, loss_cls: 1.3468, loss: 1.3468\n",
      "2021-03-22 20:15:15,329 - mmaction - INFO - Epoch [11][60/66]\tlr: 3.513e-03, eta: 1:28:57, time: 1.892, data_time: 0.982, memory: 12339, top1_acc: 0.4958, top5_acc: 0.9833, loss_cls: 1.1462, loss: 1.1462\n",
      "2021-03-22 20:16:08,583 - mmaction - INFO - Epoch [12][15/66]\tlr: 3.513e-03, eta: 1:28:07, time: 2.778, data_time: 1.881, memory: 12339, top1_acc: 0.5417, top5_acc: 0.9792, loss_cls: 1.0978, loss: 1.0978\n",
      "2021-03-22 20:16:41,866 - mmaction - INFO - Epoch [12][30/66]\tlr: 3.566e-03, eta: 1:27:44, time: 2.219, data_time: 1.324, memory: 12339, top1_acc: 0.5167, top5_acc: 0.9875, loss_cls: 1.2518, loss: 1.2518\n",
      "2021-03-22 20:17:16,490 - mmaction - INFO - Epoch [12][45/66]\tlr: 3.619e-03, eta: 1:27:24, time: 2.308, data_time: 1.408, memory: 12339, top1_acc: 0.5125, top5_acc: 0.9917, loss_cls: 1.2064, loss: 1.2064\n",
      "2021-03-22 20:17:43,876 - mmaction - INFO - Epoch [12][60/66]\tlr: 3.672e-03, eta: 1:26:41, time: 1.826, data_time: 0.929, memory: 12339, top1_acc: 0.5250, top5_acc: 0.9708, loss_cls: 1.2783, loss: 1.2783\n",
      "2021-03-22 20:17:56,181 - mmaction - INFO - Saving checkpoint at 12 epochs\n",
      "2021-03-22 20:18:35,888 - mmaction - INFO - Epoch [13][15/66]\tlr: 3.659e-03, eta: 1:25:45, time: 2.609, data_time: 1.711, memory: 12339, top1_acc: 0.5042, top5_acc: 0.9917, loss_cls: 1.0540, loss: 1.0540\n",
      "2021-03-22 20:19:09,737 - mmaction - INFO - Epoch [13][30/66]\tlr: 3.711e-03, eta: 1:25:22, time: 2.256, data_time: 1.351, memory: 12339, top1_acc: 0.4875, top5_acc: 0.9792, loss_cls: 1.1792, loss: 1.1792\n",
      "2021-03-22 20:19:39,724 - mmaction - INFO - Epoch [13][45/66]\tlr: 3.763e-03, eta: 1:24:48, time: 1.999, data_time: 1.100, memory: 12339, top1_acc: 0.5375, top5_acc: 0.9875, loss_cls: 1.0700, loss: 1.0700\n",
      "2021-03-22 20:20:11,872 - mmaction - INFO - Epoch [13][60/66]\tlr: 3.815e-03, eta: 1:24:21, time: 2.143, data_time: 1.247, memory: 12339, top1_acc: 0.5875, top5_acc: 0.9583, loss_cls: 1.2280, loss: 1.2280\n",
      "2021-03-22 20:21:00,455 - mmaction - INFO - Epoch [14][15/66]\tlr: 3.788e-03, eta: 1:23:23, time: 2.542, data_time: 1.641, memory: 12339, top1_acc: 0.4833, top5_acc: 0.9833, loss_cls: 1.2047, loss: 1.2047\n",
      "2021-03-22 20:21:30,451 - mmaction - INFO - Epoch [14][30/66]\tlr: 3.839e-03, eta: 1:22:49, time: 2.000, data_time: 1.095, memory: 12339, top1_acc: 0.5042, top5_acc: 0.9750, loss_cls: 1.1776, loss: 1.1776\n",
      "2021-03-22 20:22:05,630 - mmaction - INFO - Epoch [14][45/66]\tlr: 3.889e-03, eta: 1:22:30, time: 2.345, data_time: 1.437, memory: 12339, top1_acc: 0.6000, top5_acc: 0.9750, loss_cls: 1.0529, loss: 1.0529\n",
      "2021-03-22 20:22:35,068 - mmaction - INFO - Epoch [14][60/66]\tlr: 3.940e-03, eta: 1:21:55, time: 1.963, data_time: 1.062, memory: 12339, top1_acc: 0.6167, top5_acc: 0.9667, loss_cls: 1.0359, loss: 1.0359\n",
      "2021-03-22 20:22:47,170 - mmaction - INFO - Saving checkpoint at 14 epochs\n",
      "2021-03-22 20:23:27,036 - mmaction - INFO - Epoch [15][15/66]\tlr: 3.899e-03, eta: 1:21:01, time: 2.616, data_time: 1.717, memory: 12339, top1_acc: 0.5542, top5_acc: 0.9667, loss_cls: 1.1866, loss: 1.1866\n",
      "2021-03-22 20:24:01,605 - mmaction - INFO - Epoch [15][30/66]\tlr: 3.948e-03, eta: 1:20:39, time: 2.305, data_time: 1.408, memory: 12339, top1_acc: 0.4958, top5_acc: 0.9792, loss_cls: 1.2609, loss: 1.2609\n",
      "2021-03-22 20:24:36,335 - mmaction - INFO - Epoch [15][45/66]\tlr: 3.997e-03, eta: 1:20:17, time: 2.315, data_time: 1.419, memory: 12339, top1_acc: 0.5292, top5_acc: 0.9667, loss_cls: 1.1871, loss: 1.1871\n",
      "2021-03-22 20:25:03,474 - mmaction - INFO - Epoch [15][60/66]\tlr: 4.046e-03, eta: 1:19:37, time: 1.809, data_time: 0.918, memory: 12339, top1_acc: 0.5292, top5_acc: 0.9667, loss_cls: 1.1617, loss: 1.1617\n"
     ]
    },
    {
     "name": "stdout",
     "output_type": "stream",
     "text": [
      "[>>>>>>>>>>>>>>>>>>>>>>>>>>>>>>>>>>>>>>>>>>>>>>>>>>] 126/126, 6.4 task/s, elapsed: 20s, ETA:     0s"
     ]
    },
    {
     "name": "stderr",
     "output_type": "stream",
     "text": [
      "2021-03-22 20:25:35,202 - mmaction - INFO - Evaluating top_k_accuracy ...\n",
      "2021-03-22 20:25:35,205 - mmaction - INFO - \n",
      "top1_acc\t0.7619\n",
      "top5_acc\t1.0000\n",
      "2021-03-22 20:25:35,206 - mmaction - INFO - Evaluating mean_class_accuracy ...\n",
      "2021-03-22 20:25:35,208 - mmaction - INFO - \n",
      "mean_acc\t0.7619\n",
      "2021-03-22 20:25:35,825 - mmaction - INFO - Now best checkpoint is saved as best_top1_acc_epoch_15.pth.\n",
      "2021-03-22 20:25:35,826 - mmaction - INFO - Best top1_acc is 0.7619 at 15 epoch.\n",
      "2021-03-22 20:25:35,827 - mmaction - INFO - Epoch(val) [15][66]\ttop1_acc: 0.7619, top5_acc: 1.0000, mean_class_accuracy: 0.7619\n",
      "2021-03-22 20:26:12,605 - mmaction - INFO - Epoch [16][15/66]\tlr: 3.991e-03, eta: 1:18:39, time: 2.451, data_time: 1.555, memory: 12339, top1_acc: 0.5000, top5_acc: 0.9708, loss_cls: 1.0873, loss: 1.0873\n",
      "2021-03-22 20:26:47,546 - mmaction - INFO - Epoch [16][30/66]\tlr: 4.038e-03, eta: 1:18:17, time: 2.329, data_time: 1.427, memory: 12339, top1_acc: 0.5625, top5_acc: 0.9833, loss_cls: 1.0458, loss: 1.0458\n",
      "2021-03-22 20:27:21,021 - mmaction - INFO - Epoch [16][45/66]\tlr: 4.086e-03, eta: 1:17:52, time: 2.232, data_time: 1.332, memory: 12339, top1_acc: 0.5958, top5_acc: 0.9917, loss_cls: 1.0043, loss: 1.0043\n",
      "2021-03-22 20:27:51,566 - mmaction - INFO - Epoch [16][60/66]\tlr: 4.134e-03, eta: 1:17:20, time: 2.036, data_time: 1.135, memory: 12339, top1_acc: 0.5500, top5_acc: 0.9792, loss_cls: 1.1383, loss: 1.1383\n",
      "2021-03-22 20:28:01,338 - mmaction - INFO - Saving checkpoint at 16 epochs\n",
      "2021-03-22 20:28:41,541 - mmaction - INFO - Epoch [17][15/66]\tlr: 4.063e-03, eta: 1:16:29, time: 2.642, data_time: 1.740, memory: 12339, top1_acc: 0.5458, top5_acc: 0.9750, loss_cls: 1.0473, loss: 1.0473\n",
      "2021-03-22 20:29:14,907 - mmaction - INFO - Epoch [17][30/66]\tlr: 4.110e-03, eta: 1:16:03, time: 2.224, data_time: 1.308, memory: 12339, top1_acc: 0.6000, top5_acc: 0.9667, loss_cls: 1.0735, loss: 1.0735\n",
      "2021-03-22 20:29:45,462 - mmaction - INFO - Epoch [17][45/66]\tlr: 4.156e-03, eta: 1:15:32, time: 2.037, data_time: 1.130, memory: 12339, top1_acc: 0.5708, top5_acc: 0.9583, loss_cls: 1.1613, loss: 1.1613\n",
      "2021-03-22 20:30:17,191 - mmaction - INFO - Epoch [17][60/66]\tlr: 4.202e-03, eta: 1:15:02, time: 2.115, data_time: 1.203, memory: 12339, top1_acc: 0.5375, top5_acc: 0.9875, loss_cls: 1.0684, loss: 1.0684\n",
      "2021-03-22 20:31:07,565 - mmaction - INFO - Epoch [18][15/66]\tlr: 4.116e-03, eta: 1:14:15, time: 2.727, data_time: 1.831, memory: 12339, top1_acc: 0.5250, top5_acc: 0.9792, loss_cls: 1.2186, loss: 1.2186\n",
      "2021-03-22 20:31:40,451 - mmaction - INFO - Epoch [18][30/66]\tlr: 4.161e-03, eta: 1:13:47, time: 2.192, data_time: 1.295, memory: 12339, top1_acc: 0.5458, top5_acc: 0.9708, loss_cls: 1.0648, loss: 1.0648\n",
      "2021-03-22 20:32:13,301 - mmaction - INFO - Epoch [18][45/66]\tlr: 4.206e-03, eta: 1:13:20, time: 2.190, data_time: 1.292, memory: 12339, top1_acc: 0.6083, top5_acc: 0.9917, loss_cls: 1.0137, loss: 1.0137\n",
      "2021-03-22 20:32:40,953 - mmaction - INFO - Epoch [18][60/66]\tlr: 4.250e-03, eta: 1:12:43, time: 1.843, data_time: 0.946, memory: 12339, top1_acc: 0.5958, top5_acc: 0.9833, loss_cls: 1.0944, loss: 1.0944\n",
      "2021-03-22 20:32:52,726 - mmaction - INFO - Saving checkpoint at 18 epochs\n",
      "2021-03-22 20:33:33,509 - mmaction - INFO - Epoch [19][15/66]\tlr: 4.150e-03, eta: 1:11:54, time: 2.680, data_time: 1.782, memory: 12339, top1_acc: 0.5875, top5_acc: 0.9750, loss_cls: 0.9655, loss: 0.9655\n",
      "2021-03-22 20:34:07,436 - mmaction - INFO - Epoch [19][30/66]\tlr: 4.193e-03, eta: 1:11:29, time: 2.262, data_time: 1.345, memory: 12339, top1_acc: 0.5875, top5_acc: 0.9875, loss_cls: 1.1957, loss: 1.1957\n",
      "2021-03-22 20:34:40,723 - mmaction - INFO - Epoch [19][45/66]\tlr: 4.235e-03, eta: 1:11:02, time: 2.219, data_time: 1.296, memory: 12339, top1_acc: 0.4417, top5_acc: 0.9458, loss_cls: 1.5195, loss: 1.5195\n",
      "2021-03-22 20:35:13,661 - mmaction - INFO - Epoch [19][60/66]\tlr: 4.278e-03, eta: 1:10:34, time: 2.196, data_time: 1.278, memory: 12339, top1_acc: 0.4875, top5_acc: 0.9625, loss_cls: 1.4978, loss: 1.4978\n",
      "2021-03-22 20:36:00,431 - mmaction - INFO - Epoch [20][15/66]\tlr: 4.163e-03, eta: 1:09:44, time: 2.589, data_time: 1.695, memory: 12339, top1_acc: 0.5375, top5_acc: 0.9833, loss_cls: 1.1015, loss: 1.1015\n",
      "2021-03-22 20:36:35,920 - mmaction - INFO - Epoch [20][30/66]\tlr: 4.204e-03, eta: 1:09:20, time: 2.366, data_time: 1.443, memory: 12339, top1_acc: 0.5333, top5_acc: 0.9750, loss_cls: 1.1717, loss: 1.1717\n",
      "2021-03-22 20:37:09,630 - mmaction - INFO - Epoch [20][45/66]\tlr: 4.245e-03, eta: 1:08:53, time: 2.247, data_time: 1.344, memory: 12339, top1_acc: 0.5583, top5_acc: 0.9792, loss_cls: 1.1670, loss: 1.1670\n",
      "2021-03-22 20:37:38,665 - mmaction - INFO - Epoch [20][60/66]\tlr: 4.286e-03, eta: 1:08:19, time: 1.936, data_time: 1.038, memory: 12339, top1_acc: 0.6167, top5_acc: 0.9875, loss_cls: 0.9873, loss: 0.9873\n",
      "2021-03-22 20:37:52,272 - mmaction - INFO - Saving checkpoint at 20 epochs\n"
     ]
    },
    {
     "name": "stdout",
     "output_type": "stream",
     "text": [
      "[>>>>>>>>>>>>>>>>>>>>>>>>>>>>>>>>>>>>>>>>>>>>>>>>>>] 126/126, 6.4 task/s, elapsed: 20s, ETA:     0s"
     ]
    },
    {
     "name": "stderr",
     "output_type": "stream",
     "text": [
      "2021-03-22 20:38:12,703 - mmaction - INFO - Evaluating top_k_accuracy ...\n",
      "2021-03-22 20:38:12,706 - mmaction - INFO - \n",
      "top1_acc\t0.6746\n",
      "top5_acc\t1.0000\n",
      "2021-03-22 20:38:12,706 - mmaction - INFO - Evaluating mean_class_accuracy ...\n",
      "2021-03-22 20:38:12,708 - mmaction - INFO - \n",
      "mean_acc\t0.6746\n",
      "2021-03-22 20:38:12,709 - mmaction - INFO - Epoch(val) [20][66]\ttop1_acc: 0.6746, top5_acc: 1.0000, mean_class_accuracy: 0.6746\n",
      "2021-03-22 20:38:54,224 - mmaction - INFO - Epoch [21][15/66]\tlr: 4.156e-03, eta: 1:07:33, time: 2.767, data_time: 1.856, memory: 12339, top1_acc: 0.5208, top5_acc: 0.9667, loss_cls: 1.1929, loss: 1.1929\n",
      "2021-03-22 20:39:27,883 - mmaction - INFO - Epoch [21][30/66]\tlr: 4.196e-03, eta: 1:07:06, time: 2.244, data_time: 1.315, memory: 12339, top1_acc: 0.5667, top5_acc: 0.9750, loss_cls: 1.1067, loss: 1.1067\n",
      "2021-03-22 20:40:01,738 - mmaction - INFO - Epoch [21][45/66]\tlr: 4.235e-03, eta: 1:06:39, time: 2.256, data_time: 1.321, memory: 12339, top1_acc: 0.6000, top5_acc: 0.9708, loss_cls: 1.0109, loss: 1.0109\n",
      "2021-03-22 20:40:31,070 - mmaction - INFO - Epoch [21][60/66]\tlr: 4.274e-03, eta: 1:06:06, time: 1.956, data_time: 1.013, memory: 12339, top1_acc: 0.5625, top5_acc: 0.9708, loss_cls: 0.9716, loss: 0.9716\n",
      "2021-03-22 20:41:25,205 - mmaction - INFO - Epoch [22][15/66]\tlr: 4.130e-03, eta: 1:05:20, time: 2.768, data_time: 1.873, memory: 12339, top1_acc: 0.4875, top5_acc: 0.9625, loss_cls: 1.2475, loss: 1.2475\n",
      "2021-03-22 20:41:57,159 - mmaction - INFO - Epoch [22][30/66]\tlr: 4.168e-03, eta: 1:04:50, time: 2.130, data_time: 1.233, memory: 12339, top1_acc: 0.5625, top5_acc: 0.9792, loss_cls: 1.0899, loss: 1.0899\n",
      "2021-03-22 20:42:32,028 - mmaction - INFO - Epoch [22][45/66]\tlr: 4.205e-03, eta: 1:04:25, time: 2.325, data_time: 1.399, memory: 12339, top1_acc: 0.5750, top5_acc: 0.9833, loss_cls: 1.0154, loss: 1.0154\n",
      "2021-03-22 20:43:01,565 - mmaction - INFO - Epoch [22][60/66]\tlr: 4.243e-03, eta: 1:03:52, time: 1.969, data_time: 1.033, memory: 12339, top1_acc: 0.6000, top5_acc: 0.9667, loss_cls: 1.0380, loss: 1.0380\n",
      "2021-03-22 20:43:15,700 - mmaction - INFO - Saving checkpoint at 22 epochs\n",
      "2021-03-22 20:43:58,794 - mmaction - INFO - Epoch [23][15/66]\tlr: 4.084e-03, eta: 1:03:07, time: 2.833, data_time: 1.911, memory: 12339, top1_acc: 0.6458, top5_acc: 0.9833, loss_cls: 0.8939, loss: 0.8939\n",
      "2021-03-22 20:44:33,118 - mmaction - INFO - Epoch [23][30/66]\tlr: 4.120e-03, eta: 1:02:40, time: 2.288, data_time: 1.377, memory: 12339, top1_acc: 0.6458, top5_acc: 0.9833, loss_cls: 0.9370, loss: 0.9370\n",
      "2021-03-22 20:45:06,353 - mmaction - INFO - Epoch [23][45/66]\tlr: 4.156e-03, eta: 1:02:12, time: 2.216, data_time: 1.310, memory: 12339, top1_acc: 0.6292, top5_acc: 0.9750, loss_cls: 0.9127, loss: 0.9127\n",
      "2021-03-22 20:45:33,799 - mmaction - INFO - Epoch [23][60/66]\tlr: 4.192e-03, eta: 1:01:37, time: 1.830, data_time: 0.935, memory: 12339, top1_acc: 0.6333, top5_acc: 0.9792, loss_cls: 0.8640, loss: 0.8640\n",
      "2021-03-22 20:46:28,560 - mmaction - INFO - Epoch [24][15/66]\tlr: 4.020e-03, eta: 1:00:50, time: 2.740, data_time: 1.825, memory: 12339, top1_acc: 0.5958, top5_acc: 0.9833, loss_cls: 0.9204, loss: 0.9204\n",
      "2021-03-22 20:47:04,612 - mmaction - INFO - Epoch [24][30/66]\tlr: 4.054e-03, eta: 1:00:25, time: 2.404, data_time: 1.458, memory: 12339, top1_acc: 0.6042, top5_acc: 0.9875, loss_cls: 0.9700, loss: 0.9700\n",
      "2021-03-22 20:47:35,348 - mmaction - INFO - Epoch [24][45/66]\tlr: 4.088e-03, eta: 0:59:54, time: 2.049, data_time: 1.130, memory: 12339, top1_acc: 0.5667, top5_acc: 0.9500, loss_cls: 1.0713, loss: 1.0713\n",
      "2021-03-22 20:48:05,299 - mmaction - INFO - Epoch [24][60/66]\tlr: 4.121e-03, eta: 0:59:22, time: 1.997, data_time: 1.052, memory: 12339, top1_acc: 0.6333, top5_acc: 0.9875, loss_cls: 0.8604, loss: 0.8604\n",
      "2021-03-22 20:48:16,227 - mmaction - INFO - Saving checkpoint at 24 epochs\n",
      "2021-03-22 20:48:57,469 - mmaction - INFO - Epoch [25][15/66]\tlr: 3.937e-03, eta: 0:58:35, time: 2.710, data_time: 1.808, memory: 12339, top1_acc: 0.6125, top5_acc: 0.9708, loss_cls: 1.0262, loss: 1.0262\n",
      "2021-03-22 20:49:30,926 - mmaction - INFO - Epoch [25][30/66]\tlr: 3.969e-03, eta: 0:58:07, time: 2.230, data_time: 1.330, memory: 12339, top1_acc: 0.5667, top5_acc: 0.9708, loss_cls: 1.0396, loss: 1.0396\n",
      "2021-03-22 20:50:05,745 - mmaction - INFO - Epoch [25][45/66]\tlr: 4.001e-03, eta: 0:57:40, time: 2.321, data_time: 1.411, memory: 12339, top1_acc: 0.6250, top5_acc: 1.0000, loss_cls: 0.8831, loss: 0.8831\n",
      "2021-03-22 20:50:34,655 - mmaction - INFO - Epoch [25][60/66]\tlr: 4.033e-03, eta: 0:57:06, time: 1.927, data_time: 1.024, memory: 12339, top1_acc: 0.6375, top5_acc: 0.9917, loss_cls: 0.8603, loss: 0.8603\n"
     ]
    },
    {
     "name": "stdout",
     "output_type": "stream",
     "text": [
      "[>>>>>>>>>>>>>>>>>>>>>>>>>>>>>>>>>>>>>>>>>>>>>>>>>>] 126/126, 6.3 task/s, elapsed: 20s, ETA:     0s"
     ]
    },
    {
     "name": "stderr",
     "output_type": "stream",
     "text": [
      "2021-03-22 20:51:08,305 - mmaction - INFO - Evaluating top_k_accuracy ...\n",
      "2021-03-22 20:51:08,307 - mmaction - INFO - \n",
      "top1_acc\t0.8016\n",
      "top5_acc\t1.0000\n",
      "2021-03-22 20:51:08,307 - mmaction - INFO - Evaluating mean_class_accuracy ...\n",
      "2021-03-22 20:51:08,308 - mmaction - INFO - \n",
      "mean_acc\t0.8016\n",
      "2021-03-22 20:51:08,927 - mmaction - INFO - Now best checkpoint is saved as best_top1_acc_epoch_25.pth.\n",
      "2021-03-22 20:51:08,928 - mmaction - INFO - Best top1_acc is 0.8016 at 25 epoch.\n",
      "2021-03-22 20:51:08,929 - mmaction - INFO - Epoch(val) [25][66]\ttop1_acc: 0.8016, top5_acc: 1.0000, mean_class_accuracy: 0.8016\n",
      "2021-03-22 20:51:49,815 - mmaction - INFO - Epoch [26][15/66]\tlr: 3.837e-03, eta: 0:56:20, time: 2.725, data_time: 1.831, memory: 12339, top1_acc: 0.6625, top5_acc: 0.9833, loss_cls: 0.8038, loss: 0.8038\n",
      "2021-03-22 20:52:23,245 - mmaction - INFO - Epoch [26][30/66]\tlr: 3.867e-03, eta: 0:55:52, time: 2.229, data_time: 1.328, memory: 12339, top1_acc: 0.6583, top5_acc: 0.9833, loss_cls: 0.9013, loss: 0.9013\n",
      "2021-03-22 20:52:57,292 - mmaction - INFO - Epoch [26][45/66]\tlr: 3.897e-03, eta: 0:55:23, time: 2.270, data_time: 1.370, memory: 12339, top1_acc: 0.5875, top5_acc: 0.9750, loss_cls: 0.9879, loss: 0.9879\n",
      "2021-03-22 20:53:25,066 - mmaction - INFO - Epoch [26][60/66]\tlr: 3.927e-03, eta: 0:54:49, time: 1.852, data_time: 0.955, memory: 12339, top1_acc: 0.6042, top5_acc: 0.9667, loss_cls: 0.9551, loss: 0.9551\n",
      "2021-03-22 20:53:37,064 - mmaction - INFO - Saving checkpoint at 26 epochs\n",
      "2021-03-22 20:54:16,704 - mmaction - INFO - Epoch [27][15/66]\tlr: 3.720e-03, eta: 0:54:02, time: 2.602, data_time: 1.702, memory: 12339, top1_acc: 0.6125, top5_acc: 0.9958, loss_cls: 0.9103, loss: 0.9103\n",
      "2021-03-22 20:54:50,905 - mmaction - INFO - Epoch [27][30/66]\tlr: 3.748e-03, eta: 0:53:34, time: 2.280, data_time: 1.377, memory: 12339, top1_acc: 0.6667, top5_acc: 1.0000, loss_cls: 0.8366, loss: 0.8366\n",
      "2021-03-22 20:55:25,619 - mmaction - INFO - Epoch [27][45/66]\tlr: 3.776e-03, eta: 0:53:06, time: 2.314, data_time: 1.416, memory: 12339, top1_acc: 0.5875, top5_acc: 0.9792, loss_cls: 0.9333, loss: 0.9333\n",
      "2021-03-22 20:55:54,505 - mmaction - INFO - Epoch [27][60/66]\tlr: 3.805e-03, eta: 0:52:33, time: 1.926, data_time: 1.030, memory: 12339, top1_acc: 0.6083, top5_acc: 0.9875, loss_cls: 0.9751, loss: 0.9751\n",
      "2021-03-22 20:56:43,511 - mmaction - INFO - Epoch [28][15/66]\tlr: 3.588e-03, eta: 0:51:45, time: 2.561, data_time: 1.656, memory: 12339, top1_acc: 0.6125, top5_acc: 0.9833, loss_cls: 0.9303, loss: 0.9303\n",
      "2021-03-22 20:57:16,868 - mmaction - INFO - Epoch [28][30/66]\tlr: 3.614e-03, eta: 0:51:16, time: 2.224, data_time: 1.324, memory: 12339, top1_acc: 0.6458, top5_acc: 0.9958, loss_cls: 0.8546, loss: 0.8546\n",
      "2021-03-22 20:57:50,210 - mmaction - INFO - Epoch [28][45/66]\tlr: 3.640e-03, eta: 0:50:47, time: 2.223, data_time: 1.321, memory: 12339, top1_acc: 0.6917, top5_acc: 0.9917, loss_cls: 0.8387, loss: 0.8387\n",
      "2021-03-22 20:58:24,875 - mmaction - INFO - Epoch [28][60/66]\tlr: 3.666e-03, eta: 0:50:19, time: 2.311, data_time: 1.413, memory: 12339, top1_acc: 0.6250, top5_acc: 0.9958, loss_cls: 0.8841, loss: 0.8841\n",
      "2021-03-22 20:58:33,739 - mmaction - INFO - Saving checkpoint at 28 epochs\n",
      "2021-03-22 20:59:12,070 - mmaction - INFO - Epoch [29][15/66]\tlr: 3.441e-03, eta: 0:49:31, time: 2.516, data_time: 1.614, memory: 12339, top1_acc: 0.5833, top5_acc: 0.9750, loss_cls: 1.0453, loss: 1.0453\n",
      "2021-03-22 20:59:45,983 - mmaction - INFO - Epoch [29][30/66]\tlr: 3.465e-03, eta: 0:49:02, time: 2.261, data_time: 1.357, memory: 12339, top1_acc: 0.6375, top5_acc: 0.9958, loss_cls: 0.8720, loss: 0.8720\n",
      "2021-03-22 21:00:17,594 - mmaction - INFO - Epoch [29][45/66]\tlr: 3.489e-03, eta: 0:48:32, time: 2.107, data_time: 1.205, memory: 12339, top1_acc: 0.6375, top5_acc: 0.9750, loss_cls: 0.9147, loss: 0.9147\n",
      "2021-03-22 21:00:50,778 - mmaction - INFO - Epoch [29][60/66]\tlr: 3.514e-03, eta: 0:48:02, time: 2.212, data_time: 1.311, memory: 12339, top1_acc: 0.6208, top5_acc: 0.9833, loss_cls: 1.0104, loss: 1.0104\n",
      "2021-03-22 21:01:40,717 - mmaction - INFO - Epoch [30][15/66]\tlr: 3.280e-03, eta: 0:47:17, time: 2.725, data_time: 1.829, memory: 12339, top1_acc: 0.5958, top5_acc: 0.9875, loss_cls: 0.9572, loss: 0.9572\n",
      "2021-03-22 21:02:15,134 - mmaction - INFO - Epoch [30][30/66]\tlr: 3.303e-03, eta: 0:46:48, time: 2.294, data_time: 1.398, memory: 12339, top1_acc: 0.6333, top5_acc: 0.9917, loss_cls: 0.9253, loss: 0.9253\n",
      "2021-03-22 21:02:47,655 - mmaction - INFO - Epoch [30][45/66]\tlr: 3.326e-03, eta: 0:46:18, time: 2.168, data_time: 1.269, memory: 12339, top1_acc: 0.7125, top5_acc: 0.9917, loss_cls: 0.7480, loss: 0.7480\n",
      "2021-03-22 21:03:16,705 - mmaction - INFO - Epoch [30][60/66]\tlr: 3.348e-03, eta: 0:45:46, time: 1.937, data_time: 1.038, memory: 12339, top1_acc: 0.6458, top5_acc: 0.9917, loss_cls: 0.8760, loss: 0.8760\n",
      "2021-03-22 21:03:27,716 - mmaction - INFO - Saving checkpoint at 30 epochs\n"
     ]
    },
    {
     "name": "stdout",
     "output_type": "stream",
     "text": [
      "[>>>>>>>>>>>>>>>>>>>>>>>>>>>>>>>>>>>>>>>>>>>>>>>>>>] 126/126, 6.4 task/s, elapsed: 20s, ETA:     0s"
     ]
    },
    {
     "name": "stderr",
     "output_type": "stream",
     "text": [
      "2021-03-22 21:03:48,187 - mmaction - INFO - Evaluating top_k_accuracy ...\n",
      "2021-03-22 21:03:48,189 - mmaction - INFO - \n",
      "top1_acc\t0.7460\n",
      "top5_acc\t1.0000\n",
      "2021-03-22 21:03:48,190 - mmaction - INFO - Evaluating mean_class_accuracy ...\n",
      "2021-03-22 21:03:48,191 - mmaction - INFO - \n",
      "mean_acc\t0.7460\n",
      "2021-03-22 21:03:48,192 - mmaction - INFO - Epoch(val) [30][66]\ttop1_acc: 0.7460, top5_acc: 1.0000, mean_class_accuracy: 0.7460\n",
      "2021-03-22 21:04:28,485 - mmaction - INFO - Epoch [31][15/66]\tlr: 3.108e-03, eta: 0:45:00, time: 2.686, data_time: 1.787, memory: 12339, top1_acc: 0.6042, top5_acc: 0.9917, loss_cls: 0.9208, loss: 0.9208\n",
      "2021-03-22 21:05:03,435 - mmaction - INFO - Epoch [31][30/66]\tlr: 3.129e-03, eta: 0:44:31, time: 2.330, data_time: 1.419, memory: 12339, top1_acc: 0.6000, top5_acc: 0.9875, loss_cls: 0.9167, loss: 0.9167\n",
      "2021-03-22 21:05:32,025 - mmaction - INFO - Epoch [31][45/66]\tlr: 3.150e-03, eta: 0:43:59, time: 1.906, data_time: 0.976, memory: 12339, top1_acc: 0.6625, top5_acc: 0.9833, loss_cls: 0.8437, loss: 0.8437\n",
      "2021-03-22 21:06:07,354 - mmaction - INFO - Epoch [31][60/66]\tlr: 3.171e-03, eta: 0:43:30, time: 2.355, data_time: 1.439, memory: 12339, top1_acc: 0.6708, top5_acc: 0.9833, loss_cls: 0.8911, loss: 0.8911\n",
      "2021-03-22 21:06:56,497 - mmaction - INFO - Epoch [32][15/66]\tlr: 2.926e-03, eta: 0:42:44, time: 2.546, data_time: 1.648, memory: 12339, top1_acc: 0.5875, top5_acc: 0.9833, loss_cls: 0.9838, loss: 0.9838\n",
      "2021-03-22 21:07:30,372 - mmaction - INFO - Epoch [32][30/66]\tlr: 2.945e-03, eta: 0:42:14, time: 2.258, data_time: 1.361, memory: 12339, top1_acc: 0.6208, top5_acc: 0.9750, loss_cls: 1.0034, loss: 1.0034\n",
      "2021-03-22 21:08:02,077 - mmaction - INFO - Epoch [32][45/66]\tlr: 2.964e-03, eta: 0:41:44, time: 2.114, data_time: 1.218, memory: 12339, top1_acc: 0.6625, top5_acc: 0.9792, loss_cls: 0.8300, loss: 0.8300\n",
      "2021-03-22 21:08:31,333 - mmaction - INFO - Epoch [32][60/66]\tlr: 2.983e-03, eta: 0:41:12, time: 1.950, data_time: 1.051, memory: 12339, top1_acc: 0.6583, top5_acc: 0.9958, loss_cls: 0.8326, loss: 0.8326\n",
      "2021-03-22 21:08:43,256 - mmaction - INFO - Saving checkpoint at 32 epochs\n",
      "2021-03-22 21:09:21,824 - mmaction - INFO - Epoch [33][15/66]\tlr: 2.735e-03, eta: 0:40:25, time: 2.533, data_time: 1.637, memory: 12339, top1_acc: 0.6833, top5_acc: 0.9875, loss_cls: 0.8903, loss: 0.8903\n",
      "2021-03-22 21:09:54,393 - mmaction - INFO - Epoch [33][30/66]\tlr: 2.752e-03, eta: 0:39:55, time: 2.171, data_time: 1.276, memory: 12339, top1_acc: 0.5833, top5_acc: 0.9875, loss_cls: 0.9027, loss: 0.9027\n",
      "2021-03-22 21:10:29,277 - mmaction - INFO - Epoch [33][45/66]\tlr: 2.770e-03, eta: 0:39:26, time: 2.326, data_time: 1.429, memory: 12339, top1_acc: 0.6917, top5_acc: 0.9792, loss_cls: 0.7635, loss: 0.7635\n",
      "2021-03-22 21:10:58,330 - mmaction - INFO - Epoch [33][60/66]\tlr: 2.787e-03, eta: 0:38:54, time: 1.937, data_time: 1.046, memory: 12339, top1_acc: 0.6250, top5_acc: 0.9875, loss_cls: 0.8772, loss: 0.8772\n",
      "2021-03-22 21:11:46,655 - mmaction - INFO - Epoch [34][15/66]\tlr: 2.537e-03, eta: 0:38:07, time: 2.506, data_time: 1.609, memory: 12339, top1_acc: 0.5917, top5_acc: 0.9833, loss_cls: 0.9598, loss: 0.9598\n",
      "2021-03-22 21:12:20,201 - mmaction - INFO - Epoch [34][30/66]\tlr: 2.553e-03, eta: 0:37:38, time: 2.236, data_time: 1.339, memory: 12339, top1_acc: 0.6250, top5_acc: 0.9833, loss_cls: 0.9368, loss: 0.9368\n",
      "2021-03-22 21:12:55,201 - mmaction - INFO - Epoch [34][45/66]\tlr: 2.568e-03, eta: 0:37:09, time: 2.333, data_time: 1.433, memory: 12339, top1_acc: 0.6708, top5_acc: 0.9875, loss_cls: 0.7796, loss: 0.7796\n",
      "2021-03-22 21:13:23,788 - mmaction - INFO - Epoch [34][60/66]\tlr: 2.584e-03, eta: 0:36:36, time: 1.906, data_time: 1.009, memory: 12339, top1_acc: 0.6458, top5_acc: 0.9708, loss_cls: 0.9592, loss: 0.9592\n",
      "2021-03-22 21:13:35,886 - mmaction - INFO - Saving checkpoint at 34 epochs\n",
      "2021-03-22 21:14:16,153 - mmaction - INFO - Epoch [35][15/66]\tlr: 2.321e-03, eta: 0:35:51, time: 2.646, data_time: 1.746, memory: 12339, top1_acc: 0.6500, top5_acc: 0.9833, loss_cls: 0.8827, loss: 0.8827\n",
      "2021-03-22 21:14:46,740 - mmaction - INFO - Epoch [35][30/66]\tlr: 2.321e-03, eta: 0:35:20, time: 2.039, data_time: 1.138, memory: 12339, top1_acc: 0.5958, top5_acc: 0.9833, loss_cls: 0.9579, loss: 0.9579\n",
      "2021-03-22 21:15:18,028 - mmaction - INFO - Epoch [35][45/66]\tlr: 2.321e-03, eta: 0:34:49, time: 2.086, data_time: 1.190, memory: 12339, top1_acc: 0.6542, top5_acc: 0.9833, loss_cls: 0.8533, loss: 0.8533\n",
      "2021-03-22 21:15:51,543 - mmaction - INFO - Epoch [35][60/66]\tlr: 2.321e-03, eta: 0:34:19, time: 2.234, data_time: 1.338, memory: 12339, top1_acc: 0.6458, top5_acc: 0.9708, loss_cls: 0.8691, loss: 0.8691\n"
     ]
    },
    {
     "name": "stdout",
     "output_type": "stream",
     "text": [
      "[>>>>>>>>>>>>>>>>>>>>>>>>>>>>>>>>>>>>>>>>>>>>>>>>>>] 126/126, 6.5 task/s, elapsed: 19s, ETA:     0s"
     ]
    },
    {
     "name": "stderr",
     "output_type": "stream",
     "text": [
      "2021-03-22 21:16:19,925 - mmaction - INFO - Evaluating top_k_accuracy ...\n",
      "2021-03-22 21:16:19,927 - mmaction - INFO - \n",
      "top1_acc\t0.8175\n",
      "top5_acc\t1.0000\n",
      "2021-03-22 21:16:19,927 - mmaction - INFO - Evaluating mean_class_accuracy ...\n",
      "2021-03-22 21:16:19,929 - mmaction - INFO - \n",
      "mean_acc\t0.8175\n",
      "2021-03-22 21:16:20,539 - mmaction - INFO - Now best checkpoint is saved as best_top1_acc_epoch_35.pth.\n",
      "2021-03-22 21:16:20,540 - mmaction - INFO - Best top1_acc is 0.8175 at 35 epoch.\n",
      "2021-03-22 21:16:20,541 - mmaction - INFO - Epoch(val) [35][66]\ttop1_acc: 0.8175, top5_acc: 1.0000, mean_class_accuracy: 0.8175\n",
      "2021-03-22 21:17:00,917 - mmaction - INFO - Epoch [36][15/66]\tlr: 2.061e-03, eta: 0:33:34, time: 2.691, data_time: 1.799, memory: 12339, top1_acc: 0.6792, top5_acc: 0.9875, loss_cls: 0.8449, loss: 0.8449\n",
      "2021-03-22 21:17:36,667 - mmaction - INFO - Epoch [36][30/66]\tlr: 2.061e-03, eta: 0:33:05, time: 2.383, data_time: 1.484, memory: 12339, top1_acc: 0.7083, top5_acc: 0.9958, loss_cls: 0.7828, loss: 0.7828\n",
      "2021-03-22 21:18:08,227 - mmaction - INFO - Epoch [36][45/66]\tlr: 2.061e-03, eta: 0:32:35, time: 2.104, data_time: 1.207, memory: 12339, top1_acc: 0.7000, top5_acc: 0.9875, loss_cls: 0.7940, loss: 0.7940\n",
      "2021-03-22 21:18:40,849 - mmaction - INFO - Epoch [36][60/66]\tlr: 2.061e-03, eta: 0:32:04, time: 2.175, data_time: 1.276, memory: 12339, top1_acc: 0.6667, top5_acc: 0.9750, loss_cls: 0.8135, loss: 0.8135\n",
      "2021-03-22 21:18:50,219 - mmaction - INFO - Saving checkpoint at 36 epochs\n",
      "2021-03-22 21:19:30,158 - mmaction - INFO - Epoch [37][15/66]\tlr: 1.813e-03, eta: 0:31:19, time: 2.625, data_time: 1.732, memory: 12339, top1_acc: 0.6958, top5_acc: 0.9917, loss_cls: 0.8365, loss: 0.8365\n",
      "2021-03-22 21:20:05,252 - mmaction - INFO - Epoch [37][30/66]\tlr: 1.813e-03, eta: 0:30:50, time: 2.340, data_time: 1.441, memory: 12339, top1_acc: 0.6792, top5_acc: 0.9833, loss_cls: 0.8611, loss: 0.8611\n",
      "2021-03-22 21:20:34,439 - mmaction - INFO - Epoch [37][45/66]\tlr: 1.813e-03, eta: 0:30:18, time: 1.946, data_time: 1.045, memory: 12339, top1_acc: 0.6625, top5_acc: 1.0000, loss_cls: 0.8035, loss: 0.8035\n",
      "2021-03-22 21:21:08,670 - mmaction - INFO - Epoch [37][60/66]\tlr: 1.813e-03, eta: 0:29:48, time: 2.282, data_time: 1.388, memory: 12339, top1_acc: 0.6292, top5_acc: 0.9792, loss_cls: 0.9412, loss: 0.9412\n",
      "2021-03-22 21:21:55,978 - mmaction - INFO - Epoch [38][15/66]\tlr: 1.577e-03, eta: 0:29:03, time: 2.507, data_time: 1.608, memory: 12339, top1_acc: 0.6625, top5_acc: 0.9958, loss_cls: 0.7975, loss: 0.7975\n",
      "2021-03-22 21:22:29,700 - mmaction - INFO - Epoch [38][30/66]\tlr: 1.577e-03, eta: 0:28:32, time: 2.248, data_time: 1.341, memory: 12339, top1_acc: 0.6542, top5_acc: 0.9958, loss_cls: 0.8222, loss: 0.8222\n",
      "2021-03-22 21:23:01,317 - mmaction - INFO - Epoch [38][45/66]\tlr: 1.577e-03, eta: 0:28:02, time: 2.108, data_time: 1.209, memory: 12339, top1_acc: 0.7000, top5_acc: 0.9958, loss_cls: 0.7567, loss: 0.7567\n",
      "2021-03-22 21:23:31,474 - mmaction - INFO - Epoch [38][60/66]\tlr: 1.577e-03, eta: 0:27:30, time: 2.011, data_time: 1.109, memory: 12339, top1_acc: 0.6792, top5_acc: 0.9958, loss_cls: 0.8473, loss: 0.8473\n",
      "2021-03-22 21:23:41,857 - mmaction - INFO - Saving checkpoint at 38 epochs\n",
      "2021-03-22 21:24:22,464 - mmaction - INFO - Epoch [39][15/66]\tlr: 1.355e-03, eta: 0:26:46, time: 2.667, data_time: 1.748, memory: 12339, top1_acc: 0.6542, top5_acc: 0.9958, loss_cls: 0.7369, loss: 0.7369\n",
      "2021-03-22 21:24:57,514 - mmaction - INFO - Epoch [39][30/66]\tlr: 1.355e-03, eta: 0:26:16, time: 2.337, data_time: 1.426, memory: 12339, top1_acc: 0.6542, top5_acc: 0.9667, loss_cls: 0.8694, loss: 0.8694\n",
      "2021-03-22 21:25:30,049 - mmaction - INFO - Epoch [39][45/66]\tlr: 1.355e-03, eta: 0:25:45, time: 2.169, data_time: 1.263, memory: 12339, top1_acc: 0.6875, top5_acc: 0.9875, loss_cls: 0.7300, loss: 0.7300\n",
      "2021-03-22 21:26:03,137 - mmaction - INFO - Epoch [39][60/66]\tlr: 1.355e-03, eta: 0:25:15, time: 2.206, data_time: 1.300, memory: 12339, top1_acc: 0.7333, top5_acc: 0.9792, loss_cls: 0.7037, loss: 0.7037\n",
      "2021-03-22 21:26:53,427 - mmaction - INFO - Epoch [40][15/66]\tlr: 1.147e-03, eta: 0:24:31, time: 2.713, data_time: 1.819, memory: 12339, top1_acc: 0.6917, top5_acc: 0.9833, loss_cls: 0.7536, loss: 0.7536\n",
      "2021-03-22 21:27:25,975 - mmaction - INFO - Epoch [40][30/66]\tlr: 1.147e-03, eta: 0:24:00, time: 2.170, data_time: 1.269, memory: 12339, top1_acc: 0.6542, top5_acc: 0.9792, loss_cls: 0.8498, loss: 0.8498\n",
      "2021-03-22 21:28:01,315 - mmaction - INFO - Epoch [40][45/66]\tlr: 1.147e-03, eta: 0:23:30, time: 2.356, data_time: 1.449, memory: 12339, top1_acc: 0.6458, top5_acc: 0.9792, loss_cls: 0.8617, loss: 0.8617\n",
      "2021-03-22 21:28:28,183 - mmaction - INFO - Epoch [40][60/66]\tlr: 1.147e-03, eta: 0:22:58, time: 1.791, data_time: 0.879, memory: 12339, top1_acc: 0.6875, top5_acc: 0.9792, loss_cls: 0.8052, loss: 0.8052\n",
      "2021-03-22 21:28:40,639 - mmaction - INFO - Saving checkpoint at 40 epochs\n"
     ]
    },
    {
     "name": "stdout",
     "output_type": "stream",
     "text": [
      "[>>>>>>>>>>>>>>>>>>>>>>>>>>>>>>>>>>>>>>>>>>>>>>>>>>] 126/126, 6.4 task/s, elapsed: 20s, ETA:     0s"
     ]
    },
    {
     "name": "stderr",
     "output_type": "stream",
     "text": [
      "2021-03-22 21:29:01,018 - mmaction - INFO - Evaluating top_k_accuracy ...\n",
      "2021-03-22 21:29:01,020 - mmaction - INFO - \n",
      "top1_acc\t0.8254\n",
      "top5_acc\t1.0000\n",
      "2021-03-22 21:29:01,020 - mmaction - INFO - Evaluating mean_class_accuracy ...\n",
      "2021-03-22 21:29:01,022 - mmaction - INFO - \n",
      "mean_acc\t0.8254\n",
      "2021-03-22 21:29:01,660 - mmaction - INFO - Now best checkpoint is saved as best_top1_acc_epoch_40.pth.\n",
      "2021-03-22 21:29:01,661 - mmaction - INFO - Best top1_acc is 0.8254 at 40 epoch.\n",
      "2021-03-22 21:29:01,662 - mmaction - INFO - Epoch(val) [40][66]\ttop1_acc: 0.8254, top5_acc: 1.0000, mean_class_accuracy: 0.8254\n",
      "2021-03-22 21:29:40,568 - mmaction - INFO - Epoch [41][15/66]\tlr: 9.549e-04, eta: 0:22:13, time: 2.594, data_time: 1.702, memory: 12339, top1_acc: 0.6625, top5_acc: 0.9792, loss_cls: 0.8165, loss: 0.8165\n",
      "2021-03-22 21:30:16,044 - mmaction - INFO - Epoch [41][30/66]\tlr: 9.549e-04, eta: 0:21:43, time: 2.365, data_time: 1.467, memory: 12339, top1_acc: 0.7542, top5_acc: 0.9875, loss_cls: 0.6915, loss: 0.6915\n",
      "2021-03-22 21:30:46,710 - mmaction - INFO - Epoch [41][45/66]\tlr: 9.549e-04, eta: 0:21:12, time: 2.044, data_time: 1.101, memory: 12339, top1_acc: 0.6958, top5_acc: 0.9792, loss_cls: 0.7526, loss: 0.7526\n",
      "2021-03-22 21:31:17,500 - mmaction - INFO - Epoch [41][60/66]\tlr: 9.549e-04, eta: 0:20:41, time: 2.053, data_time: 1.140, memory: 12339, top1_acc: 0.6875, top5_acc: 0.9958, loss_cls: 0.7755, loss: 0.7755\n",
      "2021-03-22 21:32:10,058 - mmaction - INFO - Epoch [42][15/66]\tlr: 7.784e-04, eta: 0:19:57, time: 2.617, data_time: 1.705, memory: 12339, top1_acc: 0.6458, top5_acc: 0.9833, loss_cls: 0.8781, loss: 0.8781\n",
      "2021-03-22 21:32:44,971 - mmaction - INFO - Epoch [42][30/66]\tlr: 7.784e-04, eta: 0:19:27, time: 2.328, data_time: 1.391, memory: 12339, top1_acc: 0.7042, top5_acc: 0.9917, loss_cls: 0.7262, loss: 0.7262\n",
      "2021-03-22 21:33:18,921 - mmaction - INFO - Epoch [42][45/66]\tlr: 7.784e-04, eta: 0:18:56, time: 2.263, data_time: 1.347, memory: 12339, top1_acc: 0.7000, top5_acc: 0.9958, loss_cls: 0.7966, loss: 0.7966\n",
      "2021-03-22 21:33:47,818 - mmaction - INFO - Epoch [42][60/66]\tlr: 7.784e-04, eta: 0:18:25, time: 1.926, data_time: 1.008, memory: 12339, top1_acc: 0.6792, top5_acc: 0.9917, loss_cls: 0.7698, loss: 0.7698\n",
      "2021-03-22 21:33:59,851 - mmaction - INFO - Saving checkpoint at 42 epochs\n",
      "2021-03-22 21:34:41,372 - mmaction - INFO - Epoch [43][15/66]\tlr: 6.185e-04, eta: 0:17:41, time: 2.729, data_time: 1.806, memory: 12339, top1_acc: 0.7250, top5_acc: 0.9792, loss_cls: 0.7314, loss: 0.7314\n",
      "2021-03-22 21:35:15,975 - mmaction - INFO - Epoch [43][30/66]\tlr: 6.185e-04, eta: 0:17:10, time: 2.307, data_time: 1.380, memory: 12339, top1_acc: 0.6875, top5_acc: 0.9917, loss_cls: 0.8057, loss: 0.8057\n",
      "2021-03-22 21:35:49,499 - mmaction - INFO - Epoch [43][45/66]\tlr: 6.185e-04, eta: 0:16:40, time: 2.235, data_time: 1.340, memory: 12339, top1_acc: 0.6917, top5_acc: 0.9833, loss_cls: 0.7531, loss: 0.7531\n",
      "2021-03-22 21:36:17,517 - mmaction - INFO - Epoch [43][60/66]\tlr: 6.185e-04, eta: 0:16:08, time: 1.868, data_time: 0.974, memory: 12339, top1_acc: 0.6750, top5_acc: 0.9833, loss_cls: 0.8130, loss: 0.8130\n",
      "2021-03-22 21:37:11,032 - mmaction - INFO - Epoch [44][15/66]\tlr: 4.759e-04, eta: 0:15:24, time: 2.782, data_time: 1.848, memory: 12339, top1_acc: 0.6667, top5_acc: 0.9792, loss_cls: 0.7995, loss: 0.7995\n",
      "2021-03-22 21:37:45,550 - mmaction - INFO - Epoch [44][30/66]\tlr: 4.759e-04, eta: 0:14:54, time: 2.301, data_time: 1.381, memory: 12339, top1_acc: 0.6917, top5_acc: 0.9792, loss_cls: 0.7928, loss: 0.7928\n",
      "2021-03-22 21:38:17,050 - mmaction - INFO - Epoch [44][45/66]\tlr: 4.759e-04, eta: 0:14:23, time: 2.100, data_time: 1.175, memory: 12339, top1_acc: 0.7417, top5_acc: 0.9917, loss_cls: 0.7210, loss: 0.7210\n",
      "2021-03-22 21:38:48,221 - mmaction - INFO - Epoch [44][60/66]\tlr: 4.759e-04, eta: 0:13:52, time: 2.078, data_time: 1.182, memory: 12339, top1_acc: 0.7167, top5_acc: 0.9833, loss_cls: 0.7606, loss: 0.7606\n",
      "2021-03-22 21:38:59,578 - mmaction - INFO - Saving checkpoint at 44 epochs\n",
      "2021-03-22 21:39:40,903 - mmaction - INFO - Epoch [45][15/66]\tlr: 3.511e-04, eta: 0:13:08, time: 2.716, data_time: 1.825, memory: 12339, top1_acc: 0.6583, top5_acc: 0.9875, loss_cls: 0.7645, loss: 0.7645\n",
      "2021-03-22 21:40:15,185 - mmaction - INFO - Epoch [45][30/66]\tlr: 3.511e-04, eta: 0:12:37, time: 2.285, data_time: 1.390, memory: 12339, top1_acc: 0.7000, top5_acc: 1.0000, loss_cls: 0.6858, loss: 0.6858\n",
      "2021-03-22 21:40:47,049 - mmaction - INFO - Epoch [45][45/66]\tlr: 3.511e-04, eta: 0:12:06, time: 2.124, data_time: 1.228, memory: 12339, top1_acc: 0.7000, top5_acc: 0.9917, loss_cls: 0.7305, loss: 0.7305\n",
      "2021-03-22 21:41:16,032 - mmaction - INFO - Epoch [45][60/66]\tlr: 3.511e-04, eta: 0:11:35, time: 1.932, data_time: 1.034, memory: 12339, top1_acc: 0.6833, top5_acc: 0.9958, loss_cls: 0.7058, loss: 0.7058\n"
     ]
    },
    {
     "name": "stdout",
     "output_type": "stream",
     "text": [
      "[>>>>>>>>>>>>>>>>>>>>>>>>>>>>>>>>>>>>>>>>>>>>>>>>>>] 126/126, 6.4 task/s, elapsed: 20s, ETA:     0s"
     ]
    },
    {
     "name": "stderr",
     "output_type": "stream",
     "text": [
      "2021-03-22 21:41:47,273 - mmaction - INFO - Evaluating top_k_accuracy ...\n",
      "2021-03-22 21:41:47,275 - mmaction - INFO - \n",
      "top1_acc\t0.8571\n",
      "top5_acc\t1.0000\n",
      "2021-03-22 21:41:47,276 - mmaction - INFO - Evaluating mean_class_accuracy ...\n",
      "2021-03-22 21:41:47,277 - mmaction - INFO - \n",
      "mean_acc\t0.8571\n",
      "2021-03-22 21:41:47,904 - mmaction - INFO - Now best checkpoint is saved as best_top1_acc_epoch_45.pth.\n",
      "2021-03-22 21:41:47,905 - mmaction - INFO - Best top1_acc is 0.8571 at 45 epoch.\n",
      "2021-03-22 21:41:47,906 - mmaction - INFO - Epoch(val) [45][66]\ttop1_acc: 0.8571, top5_acc: 1.0000, mean_class_accuracy: 0.8571\n",
      "2021-03-22 21:42:28,871 - mmaction - INFO - Epoch [46][15/66]\tlr: 2.447e-04, eta: 0:10:51, time: 2.731, data_time: 1.792, memory: 12339, top1_acc: 0.7083, top5_acc: 1.0000, loss_cls: 0.6688, loss: 0.6688\n",
      "2021-03-22 21:43:01,248 - mmaction - INFO - Epoch [46][30/66]\tlr: 2.447e-04, eta: 0:10:21, time: 2.158, data_time: 1.232, memory: 12339, top1_acc: 0.6833, top5_acc: 0.9958, loss_cls: 0.7538, loss: 0.7538\n",
      "2021-03-22 21:43:34,084 - mmaction - INFO - Epoch [46][45/66]\tlr: 2.447e-04, eta: 0:09:50, time: 2.189, data_time: 1.285, memory: 12339, top1_acc: 0.7083, top5_acc: 0.9750, loss_cls: 0.7611, loss: 0.7611\n",
      "2021-03-22 21:44:03,255 - mmaction - INFO - Epoch [46][60/66]\tlr: 2.447e-04, eta: 0:09:18, time: 1.945, data_time: 1.019, memory: 12339, top1_acc: 0.7250, top5_acc: 0.9875, loss_cls: 0.7546, loss: 0.7546\n",
      "2021-03-22 21:44:15,841 - mmaction - INFO - Saving checkpoint at 46 epochs\n",
      "2021-03-22 21:44:57,028 - mmaction - INFO - Epoch [47][15/66]\tlr: 1.571e-04, eta: 0:08:35, time: 2.708, data_time: 1.803, memory: 12339, top1_acc: 0.7042, top5_acc: 0.9875, loss_cls: 0.7166, loss: 0.7166\n",
      "2021-03-22 21:45:33,151 - mmaction - INFO - Epoch [47][30/66]\tlr: 1.571e-04, eta: 0:08:04, time: 2.408, data_time: 1.491, memory: 12339, top1_acc: 0.7208, top5_acc: 0.9958, loss_cls: 0.7393, loss: 0.7393\n",
      "2021-03-22 21:46:09,635 - mmaction - INFO - Epoch [47][45/66]\tlr: 1.571e-04, eta: 0:07:33, time: 2.432, data_time: 1.491, memory: 12339, top1_acc: 0.6875, top5_acc: 0.9833, loss_cls: 0.8408, loss: 0.8408\n",
      "2021-03-22 21:46:37,551 - mmaction - INFO - Epoch [47][60/66]\tlr: 1.571e-04, eta: 0:07:02, time: 1.861, data_time: 0.939, memory: 12339, top1_acc: 0.7083, top5_acc: 0.9833, loss_cls: 0.7950, loss: 0.7950\n",
      "2021-03-22 21:47:28,586 - mmaction - INFO - Epoch [48][15/66]\tlr: 8.856e-05, eta: 0:06:18, time: 2.645, data_time: 1.739, memory: 12339, top1_acc: 0.7000, top5_acc: 0.9917, loss_cls: 0.7582, loss: 0.7582\n",
      "2021-03-22 21:48:02,958 - mmaction - INFO - Epoch [48][30/66]\tlr: 8.856e-05, eta: 0:05:47, time: 2.291, data_time: 1.375, memory: 12339, top1_acc: 0.7125, top5_acc: 0.9792, loss_cls: 0.7622, loss: 0.7622\n",
      "2021-03-22 21:48:36,870 - mmaction - INFO - Epoch [48][45/66]\tlr: 8.856e-05, eta: 0:05:17, time: 2.261, data_time: 1.358, memory: 12339, top1_acc: 0.7083, top5_acc: 0.9708, loss_cls: 0.7532, loss: 0.7532\n",
      "2021-03-22 21:49:07,702 - mmaction - INFO - Epoch [48][60/66]\tlr: 8.856e-05, eta: 0:04:45, time: 2.055, data_time: 1.110, memory: 12339, top1_acc: 0.6833, top5_acc: 0.9917, loss_cls: 0.7512, loss: 0.7512\n",
      "2021-03-22 21:49:19,232 - mmaction - INFO - Saving checkpoint at 48 epochs\n",
      "2021-03-22 21:49:58,236 - mmaction - INFO - Epoch [49][15/66]\tlr: 3.943e-05, eta: 0:04:02, time: 2.561, data_time: 1.663, memory: 12339, top1_acc: 0.7167, top5_acc: 0.9958, loss_cls: 0.6422, loss: 0.6422\n",
      "2021-03-22 21:50:30,421 - mmaction - INFO - Epoch [49][30/66]\tlr: 3.943e-05, eta: 0:03:31, time: 2.146, data_time: 1.242, memory: 12339, top1_acc: 0.6833, top5_acc: 0.9875, loss_cls: 0.7696, loss: 0.7696\n",
      "2021-03-22 21:51:02,211 - mmaction - INFO - Epoch [49][45/66]\tlr: 3.943e-05, eta: 0:03:00, time: 2.119, data_time: 1.215, memory: 12339, top1_acc: 0.7458, top5_acc: 0.9833, loss_cls: 0.6868, loss: 0.6868\n",
      "2021-03-22 21:51:37,185 - mmaction - INFO - Epoch [49][60/66]\tlr: 3.943e-05, eta: 0:02:29, time: 2.332, data_time: 1.423, memory: 12339, top1_acc: 0.7333, top5_acc: 0.9708, loss_cls: 0.7660, loss: 0.7660\n",
      "2021-03-22 21:52:27,844 - mmaction - INFO - Epoch [50][15/66]\tlr: 9.866e-06, eta: 0:01:45, time: 2.803, data_time: 1.905, memory: 12339, top1_acc: 0.7625, top5_acc: 0.9917, loss_cls: 0.6727, loss: 0.6727\n",
      "2021-03-22 21:53:04,232 - mmaction - INFO - Epoch [50][30/66]\tlr: 9.866e-06, eta: 0:01:14, time: 2.426, data_time: 1.496, memory: 12339, top1_acc: 0.7125, top5_acc: 0.9875, loss_cls: 0.7552, loss: 0.7552\n",
      "2021-03-22 21:53:38,114 - mmaction - INFO - Epoch [50][45/66]\tlr: 9.866e-06, eta: 0:00:43, time: 2.259, data_time: 1.326, memory: 12339, top1_acc: 0.6750, top5_acc: 0.9792, loss_cls: 0.7743, loss: 0.7743\n",
      "2021-03-22 21:54:08,099 - mmaction - INFO - Epoch [50][60/66]\tlr: 9.866e-06, eta: 0:00:12, time: 1.999, data_time: 1.085, memory: 12339, top1_acc: 0.7250, top5_acc: 0.9750, loss_cls: 0.7192, loss: 0.7192\n",
      "2021-03-22 21:54:17,592 - mmaction - INFO - Saving checkpoint at 50 epochs\n"
     ]
    },
    {
     "name": "stdout",
     "output_type": "stream",
     "text": [
      "[>>>>>>>>>>>>>>>>>>>>>>>>>>>>>>>>>>>>>>>>>>>>>>>>>>] 126/126, 6.3 task/s, elapsed: 20s, ETA:     0s"
     ]
    },
    {
     "name": "stderr",
     "output_type": "stream",
     "text": [
      "2021-03-22 21:54:38,155 - mmaction - INFO - Evaluating top_k_accuracy ...\n",
      "2021-03-22 21:54:38,156 - mmaction - INFO - \n",
      "top1_acc\t0.8730\n",
      "top5_acc\t1.0000\n",
      "2021-03-22 21:54:38,157 - mmaction - INFO - Evaluating mean_class_accuracy ...\n",
      "2021-03-22 21:54:38,158 - mmaction - INFO - \n",
      "mean_acc\t0.8730\n",
      "2021-03-22 21:54:38,777 - mmaction - INFO - Now best checkpoint is saved as best_top1_acc_epoch_50.pth.\n",
      "2021-03-22 21:54:38,778 - mmaction - INFO - Best top1_acc is 0.8730 at 50 epoch.\n",
      "2021-03-22 21:54:38,779 - mmaction - INFO - Epoch(val) [50][66]\ttop1_acc: 0.8730, top5_acc: 1.0000, mean_class_accuracy: 0.8730\n"
     ]
    }
   ],
   "source": [
    "import os.path as osp\n",
    "\n",
    "from mmaction.datasets import build_dataset\n",
    "from mmaction.models import build_model\n",
    "from mmaction.apis import train_model\n",
    "\n",
    "import mmcv\n",
    "\n",
    "# Build the dataset\n",
    "datasets = [build_dataset(cfg.data.train)]\n",
    "\n",
    "# Build the recognizer\n",
    "model = build_model(cfg.model, train_cfg=cfg.get('train_cfg'), test_cfg=cfg.get('test_cfg'))\n",
    "# model = build_model(cfg.model, train_cfg=cfg.get('train_cfg'), test_cfg=cfg.get('test_cfg'))\n",
    "# model = build_detector(cfg.model, train_cfg=cfg.get('train_cfg'), test_cfg=cfg.get('test_cfg'))\n",
    "# model = build_detector(cfg.model, train_cfg=cfg.train_cfg, test_cfg=cfg.test_cfg)\n",
    "\n",
    "# Create work_dir\n",
    "mmcv.mkdir_or_exist(osp.abspath(cfg.work_dir))\n",
    "train_model(model, datasets, cfg, distributed=False, validate=True)"
   ]
  },
  {
   "cell_type": "code",
   "execution_count": 30,
   "metadata": {},
   "outputs": [],
   "source": [
    "import pickle\n",
    "\n",
    "with open('f'{cfg.work_dir}/model50e', 'wb') as f:\n",
    "    pickle.dump(model, f)"
   ]
  },
  {
   "cell_type": "code",
   "execution_count": 5,
   "metadata": {
    "colab": {
     "base_uri": "https://localhost:8080/"
    },
    "collapsed": true,
    "id": "eyY3hCMwyTct",
    "jupyter": {
     "outputs_hidden": true
    },
    "outputId": "200e37c7-0da4-421f-98da-41418c3110ca",
    "tags": []
   },
   "outputs": [
    {
     "name": "stdout",
     "output_type": "stream",
     "text": [
      "[                                                  ] 0/126, elapsed: 0s, ETA:"
     ]
    },
    {
     "name": "stderr",
     "output_type": "stream",
     "text": [
      "/home/actrec/.virtualenvs/mmaction/lib/python3.6/site-packages/torch/nn/functional.py:3103: UserWarning: The default behavior for interpolate/upsample with float scale_factor changed in 1.6.0 to align with other frameworks/libraries, and now uses scale_factor directly, instead of relying on the computed output size. If you wish to restore the old behavior, please set recompute_scale_factor=True. See the documentation of nn.Upsample for details. \n",
      "  warnings.warn(\"The default behavior for interpolate/upsample with float scale_factor changed \"\n"
     ]
    },
    {
     "name": "stdout",
     "output_type": "stream",
     "text": [
      "[>>>>>>>>>>>>>>>>>>>>>>>>>>>>>>>>>>>>>>>>>>>>>>>>>>] 126/126, 0.4 task/s, elapsed: 310s, ETA:     0s\n",
      "Evaluating top_k_accuracy ...\n",
      "\n",
      "top1_acc\t0.1429\n",
      "top5_acc\t0.7143\n",
      "\n",
      "Evaluating mean_class_accuracy ...\n",
      "\n",
      "mean_acc\t0.1429\n",
      "top1_acc: 0.1429\n",
      "top5_acc: 0.7143\n",
      "mean_class_accuracy: 0.1429\n"
     ]
    }
   ],
   "source": [
    "from mmaction.apis import single_gpu_test\n",
    "from mmaction.datasets import build_dataloader\n",
    "from mmcv.parallel import MMDataParallel\n",
    "from mmaction.models import build_model\n",
    "from mmaction.datasets import build_dataset\n",
    "\n",
    "# model = build_model(cfg.model, train_cfg=cfg.get('train_cfg'), test_cfg=cfg.get('test_cfg'))\n",
    "# Build a test dataloader\n",
    "dataset = build_dataset(cfg.data.test, dict(test_mode=True))\n",
    "data_loader = build_dataloader(\n",
    "        dataset,\n",
    "        videos_per_gpu=4,\n",
    "        workers_per_gpu=1,\n",
    "        dist=False,\n",
    "        shuffle=False)\n",
    "model = MMDataParallel(model, device_ids=[0])\n",
    "outputs = single_gpu_test(model, data_loader)\n",
    "\n",
    "eval_config = cfg.evaluation\n",
    "eval_config.pop('interval')\n",
    "eval_res = dataset.evaluate(outputs, **eval_config)\n",
    "for name, val in eval_res.items():\n",
    "    print(f'{name}: {val:.04f}')\n",
    "    \n",
    "output_config = cfg.output_config\n",
    "dataset.dump_results(outputs, **output_config)"
   ]
  },
  {
   "cell_type": "code",
   "execution_count": 73,
   "metadata": {
    "collapsed": true,
    "jupyter": {
     "outputs_hidden": true
    },
    "tags": []
   },
   "outputs": [
    {
     "data": {
      "text/plain": [
       "<AxesSubplot:>"
      ]
     },
     "execution_count": 73,
     "metadata": {},
     "output_type": "execute_result"
    },
    {
     "data": {
      "image/png": "[encoded data removed]",
      "text/plain": [
       "<Figure size 432x288 with 2 Axes>"
      ]
     },
     "metadata": {
      "needs_background": "light"
     },
     "output_type": "display_data"
    }
   ],
   "source": [
    "import seaborn as sns\n",
    "import numpy as np\n",
    "from mmaction.core import confusion_matrix \n",
    "\n",
    "gt_labels = [ann['label'] for ann in dataset.load_annotations()]\n",
    "pred = np.argmax(outputs, axis=1)\n",
    "cf_mat = confusion_matrix(pred, gt_labels).astype(float)\n",
    "\n",
    "sns.heatmap(cf_mat, annot=True)"
   ]
  }
 ],
 "metadata": {
  "accelerator": "GPU",
  "colab": {
   "collapsed_sections": [],
   "include_colab_link": true,
   "name": "MMAction2 Tutorial.ipynb",
   "provenance": [],
   "toc_visible": true
  },
  "kernelspec": {
   "display_name": "Python 3",
   "language": "python",
   "name": "python3"
  },
  "language_info": {
   "codemirror_mode": {
    "name": "ipython",
    "version": 3
   },
   "file_extension": ".py",
   "mimetype": "text/x-python",
   "name": "python",
   "nbconvert_exporter": "python",
   "pygments_lexer": "ipython3",
   "version": "3.6.9"
  },
  "toc-autonumbering": false,
  "toc-showmarkdowntxt": false
 },
 "nbformat": 4,
 "nbformat_minor": 4
}
