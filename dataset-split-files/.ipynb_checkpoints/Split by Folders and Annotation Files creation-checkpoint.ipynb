{
 "cells": [
  {
   "cell_type": "code",
   "execution_count": 2,
   "id": "worthy-dairy",
   "metadata": {},
   "outputs": [],
   "source": [
    "import os\n",
    "from pathlib import Path\n",
    "import splitfolders"
   ]
  },
  {
   "cell_type": "code",
   "execution_count": null,
   "id": "acute-senate",
   "metadata": {},
   "outputs": [],
   "source": [
    "splitfolders --output childact_split/ --fixed 18 18 --seed 42 --oversample childact"
   ]
  },
  {
   "cell_type": "code",
   "execution_count": null,
   "id": "sealed-conviction",
   "metadata": {},
   "outputs": [],
   "source": [
    "splitfolders --output /media/actrec/DATA/.virtualenvs/mmaction/mmaction2/data/kth-rawframe --ratio .8 .2 --seed 42 /media/actrec/DATA/.virtualenvs/mmaction/mmaction2/data/kth-flow"
   ]
  },
  {
   "cell_type": "code",
   "execution_count": 17,
   "id": "textile-serial",
   "metadata": {},
   "outputs": [],
   "source": [
    "dir_path = '/home/actrec/.virtualenvs/mmaction/mmaction2/data/childact_split/test' "
   ]
  },
  {
   "cell_type": "code",
   "execution_count": 58,
   "id": "adverse-helena",
   "metadata": {},
   "outputs": [],
   "source": [
    "def file_list_with_class(dir_path, split_f):\n",
    "    \n",
    "    dirs = []\n",
    "    for entry in sorted(os.listdir(dir_path)):\n",
    "        if os.path.isdir(os.path.join(dir_path, entry)):\n",
    "            dirs.append(os.path.join(dir_path, entry))\n",
    "#             print(os.path.join(dir_path, entry))\n",
    "    \n",
    "    label = 0                \n",
    "    for action in dirs:\n",
    "#         print(action)\n",
    "        action_category = os.path.basename(os.path.normpath(action))\n",
    "        for video in os.listdir(action):\n",
    "            with open(\"{0}.txt\".format(split_f), \"a\") as f:   # Opens file and casts as f \n",
    "                f.write(action_category + '/' + video + ' ' + repr(label) + '\\n')       # Writing\n",
    "        label = label + 1"
   ]
  },
  {
   "cell_type": "code",
   "execution_count": 63,
   "id": "outstanding-pierce",
   "metadata": {},
   "outputs": [],
   "source": [
    "file_list_with_class(\"val\", \"val\")"
   ]
  },
  {
   "cell_type": "markdown",
   "id": "promising-glance",
   "metadata": {},
   "source": [
    "## create list of files for the denseflow"
   ]
  },
  {
   "cell_type": "code",
   "execution_count": null,
   "id": "round-anthropology",
   "metadata": {},
   "outputs": [],
   "source": [
    "# python build_rawframes.py /home/actrec/.virtualenvs/mmaction/mmaction2/data/childact_split/val /home/actrec/.virtualenvs/mmaction/mmaction2/data/childact_rawframe/val --flow-type farn --ext mp4 --new-short 320 --num-gpu 1"
   ]
  },
  {
   "cell_type": "code",
   "execution_count": null,
   "id": "following-calculation",
   "metadata": {},
   "outputs": [],
   "source": [
    "python build_rawframes.py /media/actrec/DATA/.virtualenvs/mmaction/mmaction2/data/kth-split/val /media/actrec/DATA/.virtualenvs/mmaction/mmaction2/data/kth-flow/val --flow-type farn --ext avi --new-short 320 --num-gpu 1"
   ]
  },
  {
   "cell_type": "code",
   "execution_count": null,
   "id": "twelve-services",
   "metadata": {},
   "outputs": [],
   "source": [
    "python build_rawframes.py /media/actrec/DATA/.virtualenvs/mmaction/mmaction2/data/kth-split/train /media/actrec/DATA/.virtualenvs/mmaction/mmaction2/data/kth-flow/train --flow-type farn --ext avi --new-short 320 --num-gpu 1"
   ]
  },
  {
   "cell_type": "code",
   "execution_count": null,
   "id": "occupational-serve",
   "metadata": {},
   "outputs": [],
   "source": [
    "python build_rawframes.py /media/actrec/DATA/.virtualenvs/mmaction/mmaction2/data/kth-split/train /media/actrec/DATA/.virtualenvs/mmaction/mmaction2/data/kth-rgb320/train --task rgb --ext avi --new-width 320 --new-height 240 --num-worker 10 --num-gpu 1"
   ]
  },
  {
   "cell_type": "code",
   "execution_count": null,
   "id": "tough-demonstration",
   "metadata": {},
   "outputs": [],
   "source": [
    "python build_rawframes.py /media/actrec/DATA/.virtualenvs/mmaction/mmaction2/data/kth-split/val /media/actrec/DATA/.virtualenvs/mmaction/mmaction2/data/kth-rgb320/val --task rgb --ext avi --new-width 320 --new-height 240 --num-worker 10 --num-gpu 1"
   ]
  },
  {
   "cell_type": "code",
   "execution_count": null,
   "id": "hairy-sacramento",
   "metadata": {},
   "outputs": [],
   "source": []
  },
  {
   "cell_type": "code",
   "execution_count": null,
   "id": "blank-chicago",
   "metadata": {},
   "outputs": [],
   "source": [
    "python build_rawframes.py  /home/actrec/.virtualenvs/mmaction/mmaction2/data/childact_RGB_rawframe/train --task rgb --ext mp4 --new-short 320 --num-worker 10 --num-gpu 1"
   ]
  },
  {
   "cell_type": "code",
   "execution_count": null,
   "id": "neutral-polymer",
   "metadata": {},
   "outputs": [],
   "source": [
    "python build_rawframes.py /home/actrec/.virtualenvs/mmaction/mmaction2/data/childact_split/test /home/actrec/.virtualenvs/mmaction/mmaction2/data/childact_RGB_rawframe/test --task rgb --ext mp4 --new-short 320 --num-worker 20 --num-gpu 1"
   ]
  },
  {
   "cell_type": "code",
   "execution_count": null,
   "id": "floppy-scheduling",
   "metadata": {},
   "outputs": [],
   "source": [
    "python build_rawframes.py /home/actrec/.virtualenvs/mmaction/mmaction2/data/childact_split/train /home/actrec/.virtualenvs/mmaction/mmaction2/data/childact_RGB_rawframe/train --task rgb --ext mp4 --new-short 320 --num-worker 20 --num-gpu 1"
   ]
  },
  {
   "cell_type": "code",
   "execution_count": 1,
   "id": "further-plastic",
   "metadata": {},
   "outputs": [
    {
     "name": "stdout",
     "output_type": "stream",
     "text": [
      "/home/actrec/.virtualenvs/mmaction/mmaction2/data/childact_rgb_rawframe\n"
     ]
    }
   ],
   "source": [
    "cd /home/actrec/.virtualenvs/mmaction/mmaction2/data/childact_rgb_rawframe/"
   ]
  },
  {
   "cell_type": "code",
   "execution_count": 41,
   "id": "preceding-schema",
   "metadata": {},
   "outputs": [],
   "source": [
    "def file_list_flow(dir_path, split_f):\n",
    "    \n",
    "    dirs = []\n",
    "    for entry in sorted(os.listdir(dir_path)):\n",
    "        if os.path.isdir(os.path.join(dir_path, entry)):\n",
    "            dirs.append(os.path.join(dir_path, entry))\n",
    "#             print(os.path.join(dir_path, entry))\n",
    "    \n",
    "    label = 0                \n",
    "    for action in dirs:\n",
    "#         print(action)\n",
    "        action_category = os.path.basename(os.path.normpath(action))\n",
    "        for video in os.listdir(action):\n",
    "#             print(video)\n",
    "            total_num = len(os.listdir(str(action+\"/\"+video)))//2\n",
    "            with open(\"{0}.txt\".format(split_f), \"a\") as f:   \n",
    "                f.write(action_category + '/' + video + ' ' + repr(total_num) + ' ' + repr(label) + '\\n')       # Writing\n",
    "        label = label + 1"
   ]
  },
  {
   "cell_type": "code",
   "execution_count": 42,
   "id": "automated-exchange",
   "metadata": {
    "tags": []
   },
   "outputs": [],
   "source": [
    "# test = '/home/actrec/.virtualenvs/mmaction/mmaction2/data/childact_rawframe/test'\n",
    "# out = '/home/actrec/.virtualenvs/mmaction/mmaction2/data/childact_rawframe/test_list'\n",
    "# file_list('test', 'test_list')\n",
    "file_list_flow('train', 'childact_train_rawframe')\n",
    "file_list_flow('val', 'childact_val_rawframe')"
   ]
  },
  {
   "cell_type": "code",
   "execution_count": 1,
   "id": "bound-catholic",
   "metadata": {},
   "outputs": [],
   "source": [
    "def file_list_rgb(dir_path, split_f):\n",
    "    \n",
    "    dirs = []\n",
    "    for entry in sorted(os.listdir(dir_path)):\n",
    "        if os.path.isdir(os.path.join(dir_path, entry)):\n",
    "            dirs.append(os.path.join(dir_path, entry))\n",
    "#             print(os.path.join(dir_path, entry))\n",
    "    \n",
    "    label = 0                \n",
    "    for action in dirs:\n",
    "#         print(action)\n",
    "        action_category = os.path.basename(os.path.normpath(action))\n",
    "        for video in os.listdir(action):\n",
    "#             print(video)\n",
    "            total_num = len(os.listdir(str(action+\"/\"+video)))\n",
    "            with open(\"{0}.txt\".format(split_f), \"a\") as f:   \n",
    "                f.write(action_category + '/' + video + ' ' + repr(total_num) + ' ' + repr(label) + '\\n')       # Writing\n",
    "        label = label + 1"
   ]
  },
  {
   "cell_type": "code",
   "execution_count": 7,
   "id": "stopped-lyric",
   "metadata": {
    "tags": []
   },
   "outputs": [],
   "source": [
    "# test = '/home/actrec/.virtualenvs/mmaction/mmaction2/data/childact_rawframe/test'\n",
    "# out = '/home/actrec/.virtualenvs/mmaction/mmaction2/data/childact_rawframe/test_list'\n",
    "# file_list('test', 'test_list')\n",
    "file_list_rgb('/media/actrec/DATA/.virtualenvs/mmaction/mmaction2/data/kth-rgb/train', 'kth_train_rgb_rawframe')\n",
    "# file_list_rgb('test', 'childact_test_rgb_rawframe')\n",
    "file_list_rgb('/media/actrec/DATA/.virtualenvs/mmaction/mmaction2/data/kth-rgb/val', 'kth_val_rgb_rawframe')"
   ]
  },
  {
   "cell_type": "code",
   "execution_count": 5,
   "id": "searching-pontiac",
   "metadata": {},
   "outputs": [],
   "source": [
    "dir_path = '/media/actrec/DATA/.virtualenvs/mmaction/mmaction2/data/kth-rgb/'"
   ]
  },
  {
   "cell_type": "code",
   "execution_count": 9,
   "id": "starting-reducing",
   "metadata": {},
   "outputs": [],
   "source": [
    "def file_list_rgb(dir_path, split_f):\n",
    "    \n",
    "    dirs = []\n",
    "    for entry in sorted(os.listdir(dir_path)):\n",
    "        if os.path.isdir(os.path.join(dir_path, entry)):\n",
    "            dirs.append(os.path.join(dir_path, entry))\n",
    "#             print(os.path.join(dir_path, entry))\n",
    "    \n",
    "    label = 0                \n",
    "    for action in dirs:\n",
    "#         print(action)\n",
    "        action_category = os.path.basename(os.path.normpath(action))\n",
    "        for video in os.listdir(action):\n",
    "#             print(video)\n",
    "            total_num = len(os.listdir(str(action+\"/\"+video)))\n",
    "            with open(\"{0}.txt\".format(split_f), \"a\") as f:   \n",
    "                f.write(action_category + '/' + video + ' ' + repr(total_num) + ' ' + repr(label) + '\\n')       # Writing\n",
    "        label = label + 1"
   ]
  },
  {
   "cell_type": "code",
   "execution_count": 13,
   "id": "fifth-morris",
   "metadata": {
    "tags": []
   },
   "outputs": [],
   "source": [
    "# test = '/home/actrec/.virtualenvs/mmaction/mmaction2/data/childact_rawframe/test'\n",
    "# out = '/home/actrec/.virtualenvs/mmaction/mmaction2/data/childact_rawframe/test_list'\n",
    "# file_list('test', 'test_list')\n",
    "file_list_rgb('/media/actrec/DATA/.virtualenvs/mmaction/mmaction2/data/hmdb51-rgb/train', 'hmdb51_train_rgb_rawframe')\n",
    "# file_list_rgb('test', 'childact_test_rgb_rawframe')\n",
    "file_list_rgb('/media/actrec/DATA/.virtualenvs/mmaction/mmaction2/data/hmdb51-rgb/val', 'hmdb51_val_rgb_rawframe')"
   ]
  },
  {
   "cell_type": "code",
   "execution_count": 5,
   "id": "pregnant-annual",
   "metadata": {},
   "outputs": [],
   "source": [
    "dir_path = '/media/actrec/DATA/.virtualenvs/mmaction/mmaction2/data/hmdb51-rgb/'"
   ]
  },
  {
   "cell_type": "code",
   "execution_count": 3,
   "id": "coupled-sewing",
   "metadata": {},
   "outputs": [
    {
     "data": {
      "text/plain": [
       "'/home/robt427nv/childact'"
      ]
     },
     "execution_count": 3,
     "metadata": {},
     "output_type": "execute_result"
    }
   ],
   "source": [
    "pwd"
   ]
  },
  {
   "cell_type": "code",
   "execution_count": 1,
   "id": "8b4922d1-d898-4c65-a42d-cc00ed585b82",
   "metadata": {
    "tags": []
   },
   "outputs": [],
   "source": [
    "#read through csv\n",
    "#if find same number_\n",
    "    #write all instances + TAG to annotation file\n",
    "\n",
    "import os\n",
    "from pathlib import Path\n",
    "import pandas as pd\n",
    "import splitfolders"
   ]
  },
  {
   "cell_type": "code",
   "execution_count": null,
   "id": "6dc217bf-6bb5-4c09-8d39-103990936c7b",
   "metadata": {},
   "outputs": [],
   "source": [
    "# splitfolders --output childact_split/ --fixed 18 18 --seed 42 --oversample childact"
   ]
  },
  {
   "cell_type": "code",
   "execution_count": null,
   "id": "b17eaec9-4a78-4aa9-baff-1f1c317721c4",
   "metadata": {},
   "outputs": [],
   "source": [
    "splitfolders --output /home/robt427nv/childact/age-3split-rgb-frames --ratio .8 .1 .1 --seed 42 /home/robt427nv/childact/childact-rgb-frames-nosplit"
   ]
  },
  {
   "cell_type": "code",
   "execution_count": 4,
   "id": "54ef7360-db0c-4589-b0e3-aa595affd21b",
   "metadata": {},
   "outputs": [
    {
     "name": "stdout",
     "output_type": "stream",
     "text": [
      " \u001b[0m\u001b[01;34mage-gender-3split-rgb-frames\u001b[0m/\n",
      " \u001b[01;34mage-gender-3split-vids\u001b[0m/\n",
      " ChildAct_age_gender.csv\n",
      " \u001b[34;42mchildact_videos_nosplit\u001b[0m/\n",
      " \u001b[01;32mmy-mmaction.ipynb\u001b[0m*\n",
      "\u001b[01;32m'Split by Folders and Annotation Files creation.ipynb'\u001b[0m*\n"
     ]
    }
   ],
   "source": [
    "ls"
   ]
  },
  {
   "cell_type": "code",
   "execution_count": 3,
   "id": "a6537ce7-85d3-4d07-9a1f-801e69038261",
   "metadata": {},
   "outputs": [],
   "source": [
    "import re\n",
    "import os\n",
    "from pathlib import Path\n",
    "import pandas as pd\n",
    "\n",
    "def get_numbers_from_filename(filename):\n",
    "    return re.search(r'\\d+', filename).group(0)"
   ]
  },
  {
   "cell_type": "code",
   "execution_count": 4,
   "id": "9b38791f-4755-42c9-8010-6e5a1158367a",
   "metadata": {},
   "outputs": [
    {
     "name": "stdout",
     "output_type": "stream",
     "text": [
      "/home/robt427nv/childact/age-gender-3split-rgb-frames\n"
     ]
    }
   ],
   "source": [
    "cd /home/robt427nv/childact/age-gender-3split-rgb-frames/"
   ]
  },
  {
   "cell_type": "code",
   "execution_count": 5,
   "id": "7fd970da-b181-424a-9361-243c3ebee32d",
   "metadata": {},
   "outputs": [
    {
     "data": {
      "text/html": [
       "<div>\n",
       "<style scoped>\n",
       "    .dataframe tbody tr th:only-of-type {\n",
       "        vertical-align: middle;\n",
       "    }\n",
       "\n",
       "    .dataframe tbody tr th {\n",
       "        vertical-align: top;\n",
       "    }\n",
       "\n",
       "    .dataframe thead th {\n",
       "        text-align: right;\n",
       "    }\n",
       "</style>\n",
       "<table border=\"1\" class=\"dataframe\">\n",
       "  <thead>\n",
       "    <tr style=\"text-align: right;\">\n",
       "      <th></th>\n",
       "      <th>Activity</th>\n",
       "      <th>Age</th>\n",
       "      <th>gender</th>\n",
       "    </tr>\n",
       "  </thead>\n",
       "  <tbody>\n",
       "    <tr>\n",
       "      <th>0</th>\n",
       "      <td>1</td>\n",
       "      <td>7</td>\n",
       "      <td>F</td>\n",
       "    </tr>\n",
       "    <tr>\n",
       "      <th>1</th>\n",
       "      <td>2</td>\n",
       "      <td>6</td>\n",
       "      <td>M</td>\n",
       "    </tr>\n",
       "    <tr>\n",
       "      <th>2</th>\n",
       "      <td>3</td>\n",
       "      <td>7</td>\n",
       "      <td>F</td>\n",
       "    </tr>\n",
       "    <tr>\n",
       "      <th>3</th>\n",
       "      <td>4</td>\n",
       "      <td>7</td>\n",
       "      <td>M</td>\n",
       "    </tr>\n",
       "    <tr>\n",
       "      <th>4</th>\n",
       "      <td>5</td>\n",
       "      <td>7</td>\n",
       "      <td>F</td>\n",
       "    </tr>\n",
       "  </tbody>\n",
       "</table>\n",
       "</div>"
      ],
      "text/plain": [
       "   Activity  Age gender\n",
       "0         1    7      F\n",
       "1         2    6      M\n",
       "2         3    7      F\n",
       "3         4    7      M\n",
       "4         5    7      F"
      ]
     },
     "execution_count": 5,
     "metadata": {},
     "output_type": "execute_result"
    }
   ],
   "source": [
    "ag_data = pd.read_csv(\"/home/robt427nv/childact/ChildAct_age_gender.csv\", delimiter=';')\n",
    "ag_data.head()"
   ]
  },
  {
   "cell_type": "code",
   "execution_count": 18,
   "id": "5038abdf-2943-4be6-b55b-81da26b3b587",
   "metadata": {},
   "outputs": [],
   "source": [
    "def file_list_rgb_gender(dir_path, split_f):\n",
    "    \n",
    "    dirs = []\n",
    "    for entry in sorted(os.listdir(dir_path)):\n",
    "        if os.path.isdir(os.path.join(dir_path, entry)):\n",
    "            dirs.append(os.path.join(dir_path, entry))\n",
    "\n",
    "    for video in dirs:\n",
    "        #take video\n",
    "        #find number\n",
    "        childN = int(get_numbers_from_filename(os.path.basename(os.path.normpath(video))))\n",
    "#         print(childN)\n",
    "        #match number in csv\n",
    "        #take the label from that row\n",
    "        gender = ag_data.loc[ag_data['Activity'] == childN, 'gender']\n",
    "        if gender.size != 0:\n",
    "#             print(gender.values[0])\n",
    "            total_num = len(os.listdir(str(video)))\n",
    "            if gender.values[0] == 'M':\n",
    "                with open(\"{0}.txt\".format(split_f), \"a\") as f:   \n",
    "                    f.write(os.path.basename(os.path.normpath(video)) + ' ' + repr(total_num) + ' ' + '0' + '\\n')      \n",
    "            else:\n",
    "                with open(\"{0}.txt\".format(split_f), \"a\") as f:   \n",
    "                    f.write(os.path.basename(os.path.normpath(video)) + ' ' + repr(total_num) + ' ' + '1' + '\\n')       # Writing\n"
   ]
  },
  {
   "cell_type": "code",
   "execution_count": 19,
   "id": "cb02ead3-8ada-41b6-b3a6-e26f506f440d",
   "metadata": {},
   "outputs": [],
   "source": [
    "file_list_rgb_gender('train', 'childact_train_rgb320_gender')\n",
    "file_list_rgb_gender('test', 'childact_test_rgb320_gender')\n",
    "file_list_rgb_gender('val', 'childact_val_rgb320_gender')"
   ]
  },
  {
   "cell_type": "code",
   "execution_count": 32,
   "id": "70e6dbeb-8271-4e46-9b6c-2c0595cff028",
   "metadata": {},
   "outputs": [],
   "source": [
    "def file_list_rgb_age(dir_path, split_f):\n",
    "    \n",
    "    dirs = []\n",
    "    for entry in sorted(os.listdir(dir_path)):\n",
    "        if os.path.isdir(os.path.join(dir_path, entry)):\n",
    "            dirs.append(os.path.join(dir_path, entry))\n",
    "\n",
    "    for video in dirs:\n",
    "        #take video\n",
    "        #find number\n",
    "        childN = int(get_numbers_from_filename(os.path.basename(os.path.normpath(video))))\n",
    "#         print(childN)\n",
    "        #match number in csv\n",
    "        #take the label from that row\n",
    "        gender = ag_data.loc[ag_data['Activity'] == childN, 'Age']\n",
    "        \n",
    "        if gender.size != 0:\n",
    "#             print(gender.values[0])\n",
    "            total_num = len(os.listdir(str(video)))\n",
    "            with open(\"{0}.txt\".format(split_f), \"a\") as f:   \n",
    "                f.write(os.path.basename(os.path.normpath(video)) + ' ' + repr(total_num) + ' ' + repr(gender.values[0]-6) + '\\n')         # Writing\n"
   ]
  },
  {
   "cell_type": "code",
   "execution_count": 33,
   "id": "29f9bad4-4f55-429b-a221-0e3ed6226d82",
   "metadata": {},
   "outputs": [],
   "source": [
    "file_list_rgb_age('train', 'childact_train_rgb320_age')\n",
    "file_list_rgb_age('test', 'childact_test_rgb320_age')\n",
    "file_list_rgb_age('val', 'childact_val_rgb320_age')"
   ]
  },
  {
   "cell_type": "code",
   "execution_count": 34,
   "id": "a52e22aa-04db-4405-91c5-8e5e035aa78d",
   "metadata": {},
   "outputs": [],
   "source": [
    "def file_list_rgb_age_actionN(dir_path, split_f, action_name):\n",
    "    \n",
    "    dirs = []\n",
    "    for entry in sorted(os.listdir(dir_path)):\n",
    "        if os.path.isdir(os.path.join(dir_path, entry)):\n",
    "            dirs.append(os.path.join(dir_path, entry))\n",
    "\n",
    "    for video in dirs:\n",
    "        if action_name in video:\n",
    "            #take video\n",
    "            #find number\n",
    "            childN = int(get_numbers_from_filename(os.path.basename(os.path.normpath(video))))\n",
    "    #         print(childN)\n",
    "            #match number in csv\n",
    "            #take the label from that row\n",
    "            gender = ag_data.loc[ag_data['Activity'] == childN, 'Age']\n",
    "\n",
    "            if gender.size != 0:\n",
    "    #             print(gender.values[0])\n",
    "                total_num = len(os.listdir(str(video)))\n",
    "                with open(\"{0}.txt\".format(split_f), \"a\") as f:   \n",
    "                    f.write(os.path.basename(os.path.normpath(video)) + ' ' + repr(total_num) + ' ' + repr(gender.values[0]-6) + '\\n')         # Writing\n"
   ]
  },
  {
   "cell_type": "code",
   "execution_count": null,
   "id": "1e2947ec-a89f-41be-ba56-5cb0b3feb463",
   "metadata": {},
   "outputs": [],
   "source": [
    "file_list_rgb_age_actionN('train', 'childact_train_rgb320_age_box', 'box')\n",
    "file_list_rgb_age_actionN('test', 'childact_test_rgb320_age_box', 'box')\n",
    "file_list_rgb_age_actionN('val', 'childact_val_rgb320_age_box', 'box')"
   ]
  }
 ],
 "metadata": {
  "kernelspec": {
   "display_name": "Python 3",
   "language": "python",
   "name": "python3"
  },
  "language_info": {
   "codemirror_mode": {
    "name": "ipython",
    "version": 3
   },
   "file_extension": ".py",
   "mimetype": "text/x-python",
   "name": "python",
   "nbconvert_exporter": "python",
   "pygments_lexer": "ipython3",
   "version": "3.7.10"
  }
 },
 "nbformat": 4,
 "nbformat_minor": 5
}
