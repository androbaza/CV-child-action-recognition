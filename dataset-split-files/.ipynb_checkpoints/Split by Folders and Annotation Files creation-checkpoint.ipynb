{
 "cells": [
  {
   "cell_type": "code",
   "execution_count": 1,
   "id": "worthy-dairy",
   "metadata": {
    "collapsed": true,
    "jupyter": {
     "outputs_hidden": true
    },
    "tags": []
   },
   "outputs": [
    {
     "ename": "ModuleNotFoundError",
     "evalue": "No module named 'splitfolders'",
     "output_type": "error",
     "traceback": [
      "\u001b[0;31m---------------------------------------------------------------------------\u001b[0m",
      "\u001b[0;31mModuleNotFoundError\u001b[0m                       Traceback (most recent call last)",
      "\u001b[0;32m<ipython-input-1-d8e8e420da17>\u001b[0m in \u001b[0;36m<module>\u001b[0;34m\u001b[0m\n\u001b[1;32m      1\u001b[0m \u001b[0;32mimport\u001b[0m \u001b[0mos\u001b[0m\u001b[0;34m\u001b[0m\u001b[0;34m\u001b[0m\u001b[0m\n\u001b[1;32m      2\u001b[0m \u001b[0;32mfrom\u001b[0m \u001b[0mpathlib\u001b[0m \u001b[0;32mimport\u001b[0m \u001b[0mPath\u001b[0m\u001b[0;34m\u001b[0m\u001b[0;34m\u001b[0m\u001b[0m\n\u001b[0;32m----> 3\u001b[0;31m \u001b[0;32mimport\u001b[0m \u001b[0msplitfolders\u001b[0m\u001b[0;34m\u001b[0m\u001b[0;34m\u001b[0m\u001b[0m\n\u001b[0m",
      "\u001b[0;31mModuleNotFoundError\u001b[0m: No module named 'splitfolders'"
     ]
    }
   ],
   "source": [
    "import os\n",
    "from pathlib import Path\n",
    "import splitfolders"
   ]
  },
  {
   "cell_type": "code",
   "execution_count": null,
   "id": "acute-senate",
   "metadata": {},
   "outputs": [],
   "source": [
    "splitfolders --output childact_split/ --fixed 18 18 --seed 42 --oversample childact"
   ]
  },
  {
   "cell_type": "code",
   "execution_count": null,
   "id": "sealed-conviction",
   "metadata": {},
   "outputs": [],
   "source": [
    "splitfolders --output /media/actrec/DATA/.virtualenvs/mmaction/mmaction2/data/kth-rawframe --ratio .8 .2 --seed 42 /media/actrec/DATA/.virtualenvs/mmaction/mmaction2/data/kth-flow"
   ]
  },
  {
   "cell_type": "code",
   "execution_count": 17,
   "id": "textile-serial",
   "metadata": {},
   "outputs": [],
   "source": [
    "dir_path = '/home/actrec/.virtualenvs/mmaction/mmaction2/data/childact_split/test' "
   ]
  },
  {
   "cell_type": "code",
   "execution_count": 58,
   "id": "adverse-helena",
   "metadata": {},
   "outputs": [],
   "source": [
    "def file_list_with_class(dir_path, split_f):\n",
    "    \n",
    "    dirs = []\n",
    "    for entry in sorted(os.listdir(dir_path)):\n",
    "        if os.path.isdir(os.path.join(dir_path, entry)):\n",
    "            dirs.append(os.path.join(dir_path, entry))\n",
    "#             print(os.path.join(dir_path, entry))\n",
    "    \n",
    "    label = 0                \n",
    "    for action in dirs:\n",
    "#         print(action)\n",
    "        action_category = os.path.basename(os.path.normpath(action))\n",
    "        for video in os.listdir(action):\n",
    "            with open(\"{0}.txt\".format(split_f), \"a\") as f:   # Opens file and casts as f \n",
    "                f.write(action_category + '/' + video + ' ' + repr(label) + '\\n')       # Writing\n",
    "        label = label + 1"
   ]
  },
  {
   "cell_type": "code",
   "execution_count": 63,
   "id": "outstanding-pierce",
   "metadata": {},
   "outputs": [],
   "source": [
    "file_list_with_class(\"val\", \"val\")"
   ]
  },
  {
   "cell_type": "markdown",
   "id": "promising-glance",
   "metadata": {},
   "source": [
    "## create list of files for the denseflow"
   ]
  },
  {
   "cell_type": "code",
   "execution_count": null,
   "id": "round-anthropology",
   "metadata": {},
   "outputs": [],
   "source": [
    "# python build_rawframes.py /home/actrec/.virtualenvs/mmaction/mmaction2/data/childact_split/val /home/actrec/.virtualenvs/mmaction/mmaction2/data/childact_rawframe/val --flow-type farn --ext mp4 --new-short 320 --num-gpu 1"
   ]
  },
  {
   "cell_type": "code",
   "execution_count": null,
   "id": "following-calculation",
   "metadata": {},
   "outputs": [],
   "source": [
    "python build_rawframes.py /media/actrec/DATA/.virtualenvs/mmaction/mmaction2/data/kth-split/val /media/actrec/DATA/.virtualenvs/mmaction/mmaction2/data/kth-flow/val --flow-type farn --ext avi --new-short 320 --num-gpu 1"
   ]
  },
  {
   "cell_type": "code",
   "execution_count": null,
   "id": "twelve-services",
   "metadata": {},
   "outputs": [],
   "source": [
    "python build_rawframes.py /media/actrec/DATA/.virtualenvs/mmaction/mmaction2/data/kth-split/train /media/actrec/DATA/.virtualenvs/mmaction/mmaction2/data/kth-flow/train --flow-type farn --ext avi --new-short 320 --num-gpu 1"
   ]
  },
  {
   "cell_type": "code",
   "execution_count": null,
   "id": "occupational-serve",
   "metadata": {},
   "outputs": [],
   "source": [
    "python build_rawframes.py /media/actrec/DATA/.virtualenvs/mmaction/mmaction2/data/kth-split/train /media/actrec/DATA/.virtualenvs/mmaction/mmaction2/data/kth-rgb320/train --task rgb --ext avi --new-width 320 --new-height 240 --num-worker 10 --num-gpu 1"
   ]
  },
  {
   "cell_type": "code",
   "execution_count": null,
   "id": "tough-demonstration",
   "metadata": {},
   "outputs": [],
   "source": [
    "python build_rawframes.py /media/actrec/DATA/.virtualenvs/mmaction/mmaction2/data/kth-split/val /media/actrec/DATA/.virtualenvs/mmaction/mmaction2/data/kth-rgb320/val --task rgb --ext avi --new-width 320 --new-height 240 --num-worker 10 --num-gpu 1"
   ]
  },
  {
   "cell_type": "code",
   "execution_count": null,
   "id": "hairy-sacramento",
   "metadata": {},
   "outputs": [],
   "source": []
  },
  {
   "cell_type": "code",
   "execution_count": null,
   "id": "blank-chicago",
   "metadata": {},
   "outputs": [],
   "source": [
    "python build_rawframes.py  /home/actrec/.virtualenvs/mmaction/mmaction2/data/childact_RGB_rawframe/train --task rgb --ext mp4 --new-short 320 --num-worker 10 --num-gpu 1"
   ]
  },
  {
   "cell_type": "code",
   "execution_count": null,
   "id": "neutral-polymer",
   "metadata": {},
   "outputs": [],
   "source": [
    "python build_rawframes.py /home/actrec/.virtualenvs/mmaction/mmaction2/data/childact_split/test /home/actrec/.virtualenvs/mmaction/mmaction2/data/childact_RGB_rawframe/test --task rgb --ext mp4 --new-short 320 --num-worker 20 --num-gpu 1"
   ]
  },
  {
   "cell_type": "code",
   "execution_count": null,
   "id": "floppy-scheduling",
   "metadata": {},
   "outputs": [],
   "source": [
    "python build_rawframes.py /home/actrec/.virtualenvs/mmaction/mmaction2/data/childact_split/train /home/actrec/.virtualenvs/mmaction/mmaction2/data/childact_RGB_rawframe/train --task rgb --ext mp4 --new-short 320 --num-worker 20 --num-gpu 1"
   ]
  },
  {
   "cell_type": "code",
   "execution_count": 1,
   "id": "further-plastic",
   "metadata": {},
   "outputs": [
    {
     "name": "stdout",
     "output_type": "stream",
     "text": [
      "/home/actrec/.virtualenvs/mmaction/mmaction2/data/childact_rgb_rawframe\n"
     ]
    }
   ],
   "source": [
    "cd /home/actrec/.virtualenvs/mmaction/mmaction2/data/childact_rgb_rawframe/"
   ]
  },
  {
   "cell_type": "code",
   "execution_count": 41,
   "id": "preceding-schema",
   "metadata": {},
   "outputs": [],
   "source": [
    "def file_list_flow(dir_path, split_f):\n",
    "    \n",
    "    dirs = []\n",
    "    for entry in sorted(os.listdir(dir_path)):\n",
    "        if os.path.isdir(os.path.join(dir_path, entry)):\n",
    "            dirs.append(os.path.join(dir_path, entry))\n",
    "#             print(os.path.join(dir_path, entry))\n",
    "    \n",
    "    label = 0                \n",
    "    for action in dirs:\n",
    "#         print(action)\n",
    "        action_category = os.path.basename(os.path.normpath(action))\n",
    "        for video in os.listdir(action):\n",
    "#             print(video)\n",
    "            total_num = len(os.listdir(str(action+\"/\"+video)))//2\n",
    "            with open(\"{0}.txt\".format(split_f), \"a\") as f:   \n",
    "                f.write(action_category + '/' + video + ' ' + repr(total_num) + ' ' + repr(label) + '\\n')       # Writing\n",
    "        label = label + 1"
   ]
  },
  {
   "cell_type": "code",
   "execution_count": 42,
   "id": "automated-exchange",
   "metadata": {
    "tags": []
   },
   "outputs": [],
   "source": [
    "# test = '/home/actrec/.virtualenvs/mmaction/mmaction2/data/childact_rawframe/test'\n",
    "# out = '/home/actrec/.virtualenvs/mmaction/mmaction2/data/childact_rawframe/test_list'\n",
    "# file_list('test', 'test_list')\n",
    "file_list_flow('train', 'childact_train_rawframe')\n",
    "file_list_flow('val', 'childact_val_rawframe')"
   ]
  },
  {
   "cell_type": "code",
   "execution_count": 1,
   "id": "bound-catholic",
   "metadata": {},
   "outputs": [],
   "source": [
    "def file_list_rgb(dir_path, split_f):\n",
    "    \n",
    "    dirs = []\n",
    "    for entry in sorted(os.listdir(dir_path)):\n",
    "        if os.path.isdir(os.path.join(dir_path, entry)):\n",
    "            dirs.append(os.path.join(dir_path, entry))\n",
    "#             print(os.path.join(dir_path, entry))\n",
    "    \n",
    "    label = 0                \n",
    "    for action in dirs:\n",
    "#         print(action)\n",
    "        action_category = os.path.basename(os.path.normpath(action))\n",
    "        for video in os.listdir(action):\n",
    "#             print(video)\n",
    "            total_num = len(os.listdir(str(action+\"/\"+video)))\n",
    "            with open(\"{0}.txt\".format(split_f), \"a\") as f:   \n",
    "                f.write(action_category + '/' + video + ' ' + repr(total_num) + ' ' + repr(label) + '\\n')       # Writing\n",
    "        label = label + 1"
   ]
  },
  {
   "cell_type": "code",
   "execution_count": 7,
   "id": "stopped-lyric",
   "metadata": {
    "tags": []
   },
   "outputs": [],
   "source": [
    "# test = '/home/actrec/.virtualenvs/mmaction/mmaction2/data/childact_rawframe/test'\n",
    "# out = '/home/actrec/.virtualenvs/mmaction/mmaction2/data/childact_rawframe/test_list'\n",
    "# file_list('test', 'test_list')\n",
    "file_list_rgb('/media/actrec/DATA/.virtualenvs/mmaction/mmaction2/data/kth-rgb/train', 'kth_train_rgb_rawframe')\n",
    "# file_list_rgb('test', 'childact_test_rgb_rawframe')\n",
    "file_list_rgb('/media/actrec/DATA/.virtualenvs/mmaction/mmaction2/data/kth-rgb/val', 'kth_val_rgb_rawframe')"
   ]
  },
  {
   "cell_type": "code",
   "execution_count": 5,
   "id": "searching-pontiac",
   "metadata": {},
   "outputs": [],
   "source": [
    "dir_path = '/media/actrec/DATA/.virtualenvs/mmaction/mmaction2/data/kth-rgb/'"
   ]
  },
  {
   "cell_type": "code",
   "execution_count": 9,
   "id": "starting-reducing",
   "metadata": {},
   "outputs": [],
   "source": [
    "def file_list_rgb(dir_path, split_f):\n",
    "    \n",
    "    dirs = []\n",
    "    for entry in sorted(os.listdir(dir_path)):\n",
    "        if os.path.isdir(os.path.join(dir_path, entry)):\n",
    "            dirs.append(os.path.join(dir_path, entry))\n",
    "#             print(os.path.join(dir_path, entry))\n",
    "    \n",
    "    label = 0                \n",
    "    for action in dirs:\n",
    "#         print(action)\n",
    "        action_category = os.path.basename(os.path.normpath(action))\n",
    "        for video in os.listdir(action):\n",
    "#             print(video)\n",
    "            total_num = len(os.listdir(str(action+\"/\"+video)))\n",
    "            with open(\"{0}.txt\".format(split_f), \"a\") as f:   \n",
    "                f.write(action_category + '/' + video + ' ' + repr(total_num) + ' ' + repr(label) + '\\n')       # Writing\n",
    "        label = label + 1"
   ]
  },
  {
   "cell_type": "code",
   "execution_count": 13,
   "id": "fifth-morris",
   "metadata": {
    "tags": []
   },
   "outputs": [],
   "source": [
    "# test = '/home/actrec/.virtualenvs/mmaction/mmaction2/data/childact_rawframe/test'\n",
    "# out = '/home/actrec/.virtualenvs/mmaction/mmaction2/data/childact_rawframe/test_list'\n",
    "# file_list('test', 'test_list')\n",
    "file_list_rgb('/media/actrec/DATA/.virtualenvs/mmaction/mmaction2/data/hmdb51-rgb/train', 'hmdb51_train_rgb_rawframe')\n",
    "# file_list_rgb('test', 'childact_test_rgb_rawframe')\n",
    "file_list_rgb('/media/actrec/DATA/.virtualenvs/mmaction/mmaction2/data/hmdb51-rgb/val', 'hmdb51_val_rgb_rawframe')"
   ]
  },
  {
   "cell_type": "code",
   "execution_count": 5,
   "id": "pregnant-annual",
   "metadata": {},
   "outputs": [],
   "source": [
    "dir_path = '/media/actrec/DATA/.virtualenvs/mmaction/mmaction2/data/hmdb51-rgb/'"
   ]
  },
  {
   "cell_type": "code",
   "execution_count": 3,
   "id": "coupled-sewing",
   "metadata": {},
   "outputs": [
    {
     "data": {
      "text/plain": [
       "'/home/robt427nv/childact'"
      ]
     },
     "execution_count": 3,
     "metadata": {},
     "output_type": "execute_result"
    }
   ],
   "source": [
    "pwd"
   ]
  },
  {
   "cell_type": "code",
   "execution_count": 1,
   "id": "8b4922d1-d898-4c65-a42d-cc00ed585b82",
   "metadata": {
    "tags": []
   },
   "outputs": [],
   "source": [
    "#read through csv\n",
    "#if find same number_\n",
    "    #write all instances + TAG to annotation file\n",
    "\n",
    "import os\n",
    "from pathlib import Path\n",
    "import pandas as pd\n",
    "import splitfolders"
   ]
  },
  {
   "cell_type": "code",
   "execution_count": null,
   "id": "6dc217bf-6bb5-4c09-8d39-103990936c7b",
   "metadata": {},
   "outputs": [],
   "source": [
    "# splitfolders --output childact_split/ --fixed 18 18 --seed 42 --oversample childact"
   ]
  },
  {
   "cell_type": "code",
   "execution_count": null,
   "id": "b17eaec9-4a78-4aa9-baff-1f1c317721c4",
   "metadata": {},
   "outputs": [],
   "source": [
    "splitfolders --output /home/robt427nv/childact/age-3split-rgb-frames --ratio .8 .1 .1 --seed 42 /home/robt427nv/childact/childact-rgb-frames-nosplit"
   ]
  },
  {
   "cell_type": "code",
   "execution_count": 4,
   "id": "54ef7360-db0c-4589-b0e3-aa595affd21b",
   "metadata": {},
   "outputs": [
    {
     "name": "stdout",
     "output_type": "stream",
     "text": [
      " \u001b[0m\u001b[01;34mage-gender-3split-rgb-frames\u001b[0m/\n",
      " \u001b[01;34mage-gender-3split-vids\u001b[0m/\n",
      " ChildAct_age_gender.csv\n",
      " \u001b[34;42mchildact_videos_nosplit\u001b[0m/\n",
      " \u001b[01;32mmy-mmaction.ipynb\u001b[0m*\n",
      "\u001b[01;32m'Split by Folders and Annotation Files creation.ipynb'\u001b[0m*\n"
     ]
    }
   ],
   "source": [
    "ls"
   ]
  },
  {
   "cell_type": "code",
   "execution_count": 3,
   "id": "a6537ce7-85d3-4d07-9a1f-801e69038261",
   "metadata": {},
   "outputs": [],
   "source": [
    "import re\n",
    "import os\n",
    "from pathlib import Path\n",
    "import pandas as pd\n",
    "\n",
    "def get_numbers_from_filename(filename):\n",
    "    return re.search(r'\\d+', filename).group(0)"
   ]
  },
  {
   "cell_type": "code",
   "execution_count": 2,
   "id": "9b38791f-4755-42c9-8010-6e5a1158367a",
   "metadata": {},
   "outputs": [
    {
     "name": "stdout",
     "output_type": "stream",
     "text": [
      "/home/robt427nv/childact/age-gender-3split-rgb-frames\n"
     ]
    }
   ],
   "source": [
    "cd /home/robt427nv/childact/age-gender-3split-rgb-frames/"
   ]
  },
  {
   "cell_type": "code",
   "execution_count": 7,
   "id": "7fd970da-b181-424a-9361-243c3ebee32d",
   "metadata": {},
   "outputs": [
    {
     "data": {
      "text/html": [
       "<div>\n",
       "<style scoped>\n",
       "    .dataframe tbody tr th:only-of-type {\n",
       "        vertical-align: middle;\n",
       "    }\n",
       "\n",
       "    .dataframe tbody tr th {\n",
       "        vertical-align: top;\n",
       "    }\n",
       "\n",
       "    .dataframe thead th {\n",
       "        text-align: right;\n",
       "    }\n",
       "</style>\n",
       "<table border=\"1\" class=\"dataframe\">\n",
       "  <thead>\n",
       "    <tr style=\"text-align: right;\">\n",
       "      <th></th>\n",
       "      <th>Activity</th>\n",
       "      <th>Age</th>\n",
       "      <th>gender</th>\n",
       "    </tr>\n",
       "  </thead>\n",
       "  <tbody>\n",
       "    <tr>\n",
       "      <th>0</th>\n",
       "      <td>1</td>\n",
       "      <td>7</td>\n",
       "      <td>F</td>\n",
       "    </tr>\n",
       "    <tr>\n",
       "      <th>1</th>\n",
       "      <td>2</td>\n",
       "      <td>6</td>\n",
       "      <td>M</td>\n",
       "    </tr>\n",
       "    <tr>\n",
       "      <th>2</th>\n",
       "      <td>3</td>\n",
       "      <td>7</td>\n",
       "      <td>F</td>\n",
       "    </tr>\n",
       "    <tr>\n",
       "      <th>3</th>\n",
       "      <td>4</td>\n",
       "      <td>7</td>\n",
       "      <td>M</td>\n",
       "    </tr>\n",
       "    <tr>\n",
       "      <th>4</th>\n",
       "      <td>5</td>\n",
       "      <td>7</td>\n",
       "      <td>F</td>\n",
       "    </tr>\n",
       "  </tbody>\n",
       "</table>\n",
       "</div>"
      ],
      "text/plain": [
       "   Activity  Age gender\n",
       "0         1    7      F\n",
       "1         2    6      M\n",
       "2         3    7      F\n",
       "3         4    7      M\n",
       "4         5    7      F"
      ]
     },
     "execution_count": 7,
     "metadata": {},
     "output_type": "execute_result"
    }
   ],
   "source": [
    "ag_data = pd.read_csv(\"/home/robt427nv/childact/ChildAct_age_gender.csv\", delimiter=';')\n",
    "ag_data.head()"
   ]
  },
  {
   "cell_type": "code",
   "execution_count": 18,
   "id": "5038abdf-2943-4be6-b55b-81da26b3b587",
   "metadata": {},
   "outputs": [],
   "source": [
    "def file_list_rgb_gender(dir_path, split_f):\n",
    "    \n",
    "    dirs = []\n",
    "    for entry in sorted(os.listdir(dir_path)):\n",
    "        if os.path.isdir(os.path.join(dir_path, entry)):\n",
    "            dirs.append(os.path.join(dir_path, entry))\n",
    "\n",
    "    for video in dirs:\n",
    "        #take video\n",
    "        #find number\n",
    "        childN = int(get_numbers_from_filename(os.path.basename(os.path.normpath(video))))\n",
    "#         print(childN)\n",
    "        #match number in csv\n",
    "        #take the label from that row\n",
    "        gender = ag_data.loc[ag_data['Activity'] == childN, 'gender']\n",
    "        if gender.size != 0:\n",
    "#             print(gender.values[0])\n",
    "            total_num = len(os.listdir(str(video)))\n",
    "            if gender.values[0] == 'M':\n",
    "                with open(\"{0}.txt\".format(split_f), \"a\") as f:   \n",
    "                    f.write(os.path.basename(os.path.normpath(video)) + ' ' + repr(total_num) + ' ' + '0' + '\\n')      \n",
    "            else:\n",
    "                with open(\"{0}.txt\".format(split_f), \"a\") as f:   \n",
    "                    f.write(os.path.basename(os.path.normpath(video)) + ' ' + repr(total_num) + ' ' + '1' + '\\n')       # Writing\n"
   ]
  },
  {
   "cell_type": "code",
   "execution_count": 19,
   "id": "cb02ead3-8ada-41b6-b3a6-e26f506f440d",
   "metadata": {},
   "outputs": [],
   "source": [
    "file_list_rgb_gender('train', 'childact_train_rgb320_gender')\n",
    "file_list_rgb_gender('test', 'childact_test_rgb320_gender')\n",
    "file_list_rgb_gender('val', 'childact_val_rgb320_gender')"
   ]
  },
  {
   "cell_type": "code",
   "execution_count": 32,
   "id": "70e6dbeb-8271-4e46-9b6c-2c0595cff028",
   "metadata": {},
   "outputs": [],
   "source": [
    "def file_list_rgb_age(dir_path, split_f):\n",
    "    \n",
    "    dirs = []\n",
    "    for entry in sorted(os.listdir(dir_path)):\n",
    "        if os.path.isdir(os.path.join(dir_path, entry)):\n",
    "            dirs.append(os.path.join(dir_path, entry))\n",
    "\n",
    "    for video in dirs:\n",
    "        #take video\n",
    "        #find number\n",
    "        childN = int(get_numbers_from_filename(os.path.basename(os.path.normpath(video))))\n",
    "#         print(childN)\n",
    "        #match number in csv\n",
    "        #take the label from that row\n",
    "        gender = ag_data.loc[ag_data['Activity'] == childN, 'Age']\n",
    "        \n",
    "        if gender.size != 0:\n",
    "#             print(gender.values[0])\n",
    "            total_num = len(os.listdir(str(video)))\n",
    "            with open(\"{0}.txt\".format(split_f), \"a\") as f:   \n",
    "                f.write(os.path.basename(os.path.normpath(video)) + ' ' + repr(total_num) + ' ' + repr(gender.values[0]-6) + '\\n')         # Writing\n"
   ]
  },
  {
   "cell_type": "code",
   "execution_count": 33,
   "id": "29f9bad4-4f55-429b-a221-0e3ed6226d82",
   "metadata": {},
   "outputs": [],
   "source": [
    "file_list_rgb_age('train', 'childact_train_rgb320_age')\n",
    "file_list_rgb_age('test', 'childact_test_rgb320_age')\n",
    "file_list_rgb_age('val', 'childact_val_rgb320_age')"
   ]
  },
  {
   "cell_type": "code",
   "execution_count": 4,
   "id": "a52e22aa-04db-4405-91c5-8e5e035aa78d",
   "metadata": {},
   "outputs": [],
   "source": [
    "def file_list_rgb_age_actionN(dir_path, split_f, action_name):\n",
    "    \n",
    "    dirs = []\n",
    "    for entry in sorted(os.listdir(dir_path)):\n",
    "        if os.path.isdir(os.path.join(dir_path, entry)):\n",
    "            dirs.append(os.path.join(dir_path, entry))\n",
    "\n",
    "    for video in dirs:\n",
    "        if action_name in video:\n",
    "            #take video\n",
    "            #find number\n",
    "            childN = int(get_numbers_from_filename(os.path.basename(os.path.normpath(video))))\n",
    "#             print(childN)\n",
    "            #match number in csv\n",
    "            #take the label from that row\n",
    "            gender = ag_data.loc[ag_data['Activity'] == childN, 'Age']\n",
    "\n",
    "            if gender.size != 0:\n",
    "#                 print(gender.values[0])\n",
    "                total_num = len(os.listdir(str(video)))\n",
    "                with open(\"{0}.txt\".format(split_f), \"a\") as f:   \n",
    "                    f.write(os.path.basename(os.path.normpath(video)) + ' ' + repr(total_num) + ' ' + repr(gender.values[0]-6) + '\\n')         # Writing\n"
   ]
  },
  {
   "cell_type": "code",
   "execution_count": 37,
   "id": "1e2947ec-a89f-41be-ba56-5cb0b3feb463",
   "metadata": {},
   "outputs": [],
   "source": [
    "file_list_rgb_age_actionN('train', 'childact_train_rgb320_age_box', 'box')\n",
    "file_list_rgb_age_actionN('test', 'childact_test_rgb320_age_box', 'box')\n",
    "file_list_rgb_age_actionN('val', 'childact_val_rgb320_age_box', 'box')"
   ]
  },
  {
   "cell_type": "code",
   "execution_count": 39,
   "id": "56eb4c5a-8f1a-4aa8-9017-5cd45a17cb08",
   "metadata": {},
   "outputs": [],
   "source": [
    "file_list_rgb_age_actionN('train', 'childact_train_rgb320_age_clap', 'clap')\n",
    "file_list_rgb_age_actionN('test', 'childact_test_rgb320_age_clap', 'clap')\n",
    "file_list_rgb_age_actionN('val', 'childact_val_rgb320_age_clap', 'clap')\n",
    "\n",
    "file_list_rgb_age_actionN('train', 'childact_train_rgb320_age_jog', 'jog')\n",
    "file_list_rgb_age_actionN('test', 'childact_test_rgb320_age_jog', 'jog')\n",
    "file_list_rgb_age_actionN('val', 'childact_val_rgb320_age_jog', 'jog')\n",
    "                          \n",
    "file_list_rgb_age_actionN('train', 'childact_train_rgb320_age_run', 'run')\n",
    "file_list_rgb_age_actionN('test', 'childact_test_rgb320_age_run', 'run')\n",
    "file_list_rgb_age_actionN('val', 'childact_val_rgb320_age_run', 'run')\n",
    "                          \n",
    "file_list_rgb_age_actionN('train', 'childact_train_rgb320_age_wave', 'wave')\n",
    "file_list_rgb_age_actionN('test', 'childact_test_rgb320_age_wave', 'wave')\n",
    "file_list_rgb_age_actionN('val', 'childact_val_rgb320_age_wave', 'wave')\n",
    "                          \n",
    "file_list_rgb_age_actionN('train', 'childact_train_rgb320_age_go', 'go')\n",
    "file_list_rgb_age_actionN('test', 'childact_test_rgb320_age_go', 'go')\n",
    "file_list_rgb_age_actionN('val', 'childact_val_rgb320_age_go', 'go')\n",
    "                                              \n",
    "file_list_rgb_age_actionN('train', 'childact_train_rgb320_age_walk', 'walk')\n",
    "file_list_rgb_age_actionN('test', 'childact_test_rgb320_age_walk', 'walk')\n",
    "file_list_rgb_age_actionN('val', 'childact_val_rgb320_age_walk', 'walk')                          "
   ]
  },
  {
   "cell_type": "code",
   "execution_count": 8,
   "id": "f030ef07-c81d-4a7a-ad68-5e5be2dcd94e",
   "metadata": {
    "collapsed": true,
    "jupyter": {
     "outputs_hidden": true
    },
    "tags": []
   },
   "outputs": [
    {
     "name": "stdout",
     "output_type": "stream",
     "text": [
      "102\n",
      "8\n",
      "103\n",
      "8\n",
      "104\n",
      "8\n",
      "105\n",
      "7\n",
      "106\n",
      "8\n",
      "10\n",
      "9\n",
      "110\n",
      "8\n",
      "112\n",
      "113\n",
      "8\n",
      "114\n",
      "8\n",
      "115\n",
      "8\n",
      "116\n",
      "8\n",
      "118\n",
      "7\n",
      "119\n",
      "8\n",
      "11\n",
      "10\n",
      "120\n",
      "8\n",
      "122\n",
      "8\n",
      "123\n",
      "8\n",
      "124\n",
      "8\n",
      "127\n",
      "9\n",
      "128\n",
      "9\n",
      "130\n",
      "9\n",
      "131\n",
      "9\n",
      "132\n",
      "9\n",
      "133\n",
      "8\n",
      "134\n",
      "9\n",
      "135\n",
      "9\n",
      "136\n",
      "9\n",
      "137\n",
      "9\n",
      "138\n",
      "9\n",
      "139\n",
      "9\n",
      "13\n",
      "10\n",
      "140\n",
      "9\n",
      "142\n",
      "6\n",
      "145\n",
      "7\n",
      "146\n",
      "7\n",
      "147\n",
      "10\n",
      "149\n",
      "10\n",
      "14\n",
      "8\n",
      "150\n",
      "10\n",
      "151\n",
      "10\n",
      "153\n",
      "10\n",
      "154\n",
      "10\n",
      "156\n",
      "7\n",
      "157\n",
      "7\n",
      "158\n",
      "9\n",
      "159\n",
      "11\n",
      "15\n",
      "8\n",
      "161\n",
      "6\n",
      "162\n",
      "6\n",
      "163\n",
      "7\n",
      "165\n",
      "10\n",
      "166\n",
      "10\n",
      "167\n",
      "11\n",
      "169\n",
      "9\n",
      "16\n",
      "8\n",
      "170\n",
      "9\n",
      "171\n",
      "8\n",
      "17\n",
      "8\n",
      "198\n",
      "10\n",
      "199\n",
      "10\n",
      "19\n",
      "8\n",
      "1\n",
      "7\n",
      "200\n",
      "11\n",
      "201\n",
      "9\n",
      "202\n",
      "10\n",
      "203\n",
      "10\n",
      "204\n",
      "10\n",
      "205\n",
      "6\n",
      "206\n",
      "7\n",
      "207\n",
      "8\n",
      "208\n",
      "7\n",
      "209\n",
      "7\n",
      "20\n",
      "8\n",
      "210\n",
      "7\n",
      "211\n",
      "7\n",
      "212\n",
      "7\n",
      "213\n",
      "7\n",
      "214\n",
      "7\n",
      "217\n",
      "7\n",
      "218\n",
      "7\n",
      "219\n",
      "8\n",
      "21\n",
      "8\n",
      "22\n",
      "8\n",
      "23\n",
      "9\n",
      "24\n",
      "8\n",
      "25\n",
      "8\n",
      "26\n",
      "8\n",
      "27\n",
      "9\n",
      "30\n",
      "7\n",
      "33\n",
      "8\n",
      "34\n",
      "7\n",
      "35\n",
      "8\n",
      "37\n",
      "7\n",
      "38\n",
      "8\n",
      "39\n",
      "8\n",
      "3\n",
      "7\n",
      "41\n",
      "9\n",
      "42\n",
      "8\n",
      "43\n",
      "9\n",
      "44\n",
      "9\n",
      "45\n",
      "9\n",
      "46\n",
      "9\n",
      "4\n",
      "7\n",
      "58\n",
      "8\n",
      "60\n",
      "8\n",
      "61\n",
      "9\n",
      "62\n",
      "9\n",
      "63\n",
      "9\n",
      "64\n",
      "9\n",
      "65\n",
      "10\n",
      "66\n",
      "10\n",
      "67\n",
      "9\n",
      "69\n",
      "7\n",
      "6\n",
      "7\n",
      "70\n",
      "7\n",
      "71\n",
      "7\n",
      "72\n",
      "7\n",
      "73\n",
      "7\n",
      "74\n",
      "7\n",
      "75\n",
      "7\n",
      "76\n",
      "8\n",
      "77\n",
      "7\n",
      "78\n",
      "7\n",
      "79\n",
      "7\n",
      "7\n",
      "80\n",
      "10\n",
      "81\n",
      "11\n",
      "82\n",
      "11\n",
      "83\n",
      "8\n",
      "84\n",
      "8\n",
      "85\n",
      "8\n",
      "86\n",
      "8\n",
      "87\n",
      "8\n",
      "88\n",
      "8\n",
      "89\n",
      "8\n",
      "8\n",
      "11\n",
      "90\n",
      "8\n",
      "91\n",
      "8\n",
      "92\n",
      "8\n",
      "94\n",
      "8\n",
      "95\n",
      "8\n",
      "96\n",
      "7\n",
      "97\n",
      "8\n",
      "98\n",
      "9\n",
      "101\n",
      "9\n",
      "111\n",
      "8\n",
      "117\n",
      "8\n",
      "121\n",
      "8\n",
      "125\n",
      "8\n",
      "126\n",
      "9\n",
      "12\n",
      "9\n",
      "141\n",
      "7\n",
      "143\n",
      "7\n",
      "144\n",
      "7\n",
      "152\n",
      "11\n",
      "160\n",
      "7\n",
      "18\n",
      "8\n",
      "28\n",
      "8\n",
      "29\n",
      "8\n",
      "31\n",
      "9\n",
      "36\n",
      "7\n",
      "40\n",
      "9\n",
      "47\n",
      "8\n",
      "48\n",
      "8\n",
      "59\n",
      "7\n",
      "68\n",
      "9\n",
      "99\n",
      "8\n",
      "9\n",
      "10\n",
      "100\n",
      "8\n",
      "107\n",
      "7\n",
      "108\n",
      "8\n",
      "109\n",
      "8\n",
      "129\n",
      "9\n",
      "148\n",
      "10\n",
      "155\n",
      "7\n",
      "164\n",
      "11\n",
      "168\n",
      "10\n",
      "172\n",
      "9\n",
      "215\n",
      "7\n",
      "216\n",
      "7\n",
      "2\n",
      "6\n",
      "32\n",
      "8\n",
      "50\n",
      "8\n",
      "5\n",
      "7\n",
      "93\n",
      "8\n"
     ]
    }
   ],
   "source": [
    "file_list_rgb_age_actionN('train', 'childact_train_rgb320_age_wave', 'wawe')\n",
    "file_list_rgb_age_actionN('test', 'childact_test_rgb320_age_wave', 'wawe')\n",
    "file_list_rgb_age_actionN('val', 'childact_val_rgb320_age_wave', 'wawe')"
   ]
  },
  {
   "cell_type": "code",
   "execution_count": null,
   "id": "7bfc614d-af41-4812-98d0-1cb3bebe677f",
   "metadata": {},
   "outputs": [],
   "source": []
  },
  {
   "cell_type": "code",
   "execution_count": 10,
   "id": "3a2f00bd-943c-4287-aea1-0b3950277551",
   "metadata": {},
   "outputs": [],
   "source": [
    "def file_list_rgb_gender_actionN(dir_path, split_f, action_name):\n",
    "    \n",
    "    dirs = []\n",
    "    for entry in sorted(os.listdir(dir_path)):\n",
    "        if os.path.isdir(os.path.join(dir_path, entry)):\n",
    "            dirs.append(os.path.join(dir_path, entry))\n",
    "\n",
    "    for video in dirs:\n",
    "        if action_name in video:\n",
    "            #take video\n",
    "            #find number\n",
    "            childN = int(get_numbers_from_filename(os.path.basename(os.path.normpath(video))))\n",
    "#             print(childN)\n",
    "            #match number in csv\n",
    "            #take the label from that row\n",
    "            gender = ag_data.loc[ag_data['Activity'] == childN, 'gender']\n",
    "\n",
    "            if gender.size != 0:\n",
    "#             print(gender.values[0])\n",
    "                total_num = len(os.listdir(str(video)))\n",
    "                if gender.values[0] == 'M':\n",
    "                    with open(\"{0}.txt\".format(split_f), \"a\") as f:   \n",
    "                        f.write(os.path.basename(os.path.normpath(video)) + ' ' + repr(total_num) + ' ' + '0' + '\\n')      \n",
    "                else:\n",
    "                    with open(\"{0}.txt\".format(split_f), \"a\") as f:   \n",
    "                        f.write(os.path.basename(os.path.normpath(video)) + ' ' + repr(total_num) + ' ' + '1' + '\\n') "
   ]
  },
  {
   "cell_type": "code",
   "execution_count": 11,
   "id": "02c46106-aa8c-4390-968a-a24420a663f8",
   "metadata": {},
   "outputs": [],
   "source": [
    "file_list_rgb_gender_actionN('train', 'childact_train_rgb320_gender_box', 'box')\n",
    "file_list_rgb_gender_actionN('test', 'childact_test_rgb320_gender_box', 'box')\n",
    "file_list_rgb_gender_actionN('val', 'childact_val_rgb320_gender_box', 'box')"
   ]
  },
  {
   "cell_type": "code",
   "execution_count": null,
   "id": "5f5b1a72-3442-42d4-a2d3-9ad9438287f6",
   "metadata": {},
   "outputs": [],
   "source": [
    "file_list_rgb_gender_actionN('train', 'childact_train_rgb320_gender_clap', 'clap')\n",
    "file_list_rgb_gender_actionN('test', 'childact_test_rgb320_gender_clap', 'clap')\n",
    "file_list_rgb_gender_actionN('val', 'childact_val_rgb320_gender_clap', 'clap')\n",
    "\n",
    "file_list_rgb_gender_actionN('train', 'childact_train_rgb320_gender_go', 'go')\n",
    "file_list_rgb_gender_actionN('test', 'childact_test_rgb320_gender_go', 'go')\n",
    "file_list_rgb_gender_actionN('val', 'childact_val_rgb320_gender_go', 'go')\n",
    "\n",
    "file_list_rgb_gender_actionN('train', 'childact_train_rgb320_gender_jog', 'jog')\n",
    "file_list_rgb_gender_actionN('test', 'childact_test_rgb320_gender_jog', 'jog')\n",
    "file_list_rgb_gender_actionN('val', 'childact_val_rgb320_gender_jog', 'jog')\n",
    "\n",
    "file_list_rgb_gender_actionN('train', 'childact_train_rgb320_gender_run', 'run')\n",
    "file_list_rgb_gender_actionN('test', 'childact_test_rgb320_gender_run', 'run')\n",
    "file_list_rgb_gender_actionN('val', 'childact_val_rgb320_gender_run', 'run')\n",
    "\n",
    "file_list_rgb_gender_actionN('train', 'childact_train_rgb320_gender_walk', 'walk')\n",
    "file_list_rgb_gender_actionN('test', 'childact_test_rgb320_gender_walk', 'walk')\n",
    "file_list_rgb_gender_actionN('val', 'childact_val_rgb320_gender_walk', 'walk')\n",
    "\n",
    "file_list_rgb_gender_actionN('train', 'childact_train_rgb320_gender_wawe', 'wawe')\n",
    "file_list_rgb_gender_actionN('test', 'childact_test_rgb320_gender_wawe', 'wawe')\n",
    "file_list_rgb_gender_actionN('val', 'childact_val_rgb320_gender_wawe', 'wawe')"
   ]
  }
 ],
 "metadata": {
  "kernelspec": {
   "display_name": "Python 3",
   "language": "python",
   "name": "python3"
  },
  "language_info": {
   "codemirror_mode": {
    "name": "ipython",
    "version": 3
   },
   "file_extension": ".py",
   "mimetype": "text/x-python",
   "name": "python",
   "nbconvert_exporter": "python",
   "pygments_lexer": "ipython3",
   "version": "3.7.10"
  }
 },
 "nbformat": 4,
 "nbformat_minor": 5
}
