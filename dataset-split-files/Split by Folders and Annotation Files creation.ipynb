{
 "cells": [
  {
   "cell_type": "code",
   "execution_count": 12,
   "id": "fitting-bridge",
   "metadata": {},
   "outputs": [],
   "source": [
    "import os\n",
    "from pathlib import Path"
   ]
  },
  {
   "cell_type": "code",
   "execution_count": null,
   "id": "atomic-israeli",
   "metadata": {},
   "outputs": [],
   "source": [
    "# splitfolders --output childact_split/ --fixed 18 18 --seed 42 --oversample childact"
   ]
  },
  {
   "cell_type": "code",
   "execution_count": 17,
   "id": "bigger-recorder",
   "metadata": {},
   "outputs": [],
   "source": [
    "dir_path = '/home/actrec/.virtualenvs/mmaction/mmaction2/data/childact_split/test'"
   ]
  },
  {
   "cell_type": "code",
   "execution_count": 58,
   "id": "accessory-module",
   "metadata": {},
   "outputs": [],
   "source": [
    "def file_list_with_class(dir_path, split_f):\n",
    "    \n",
    "    dirs = []\n",
    "    for entry in sorted(os.listdir(dir_path)):\n",
    "        if os.path.isdir(os.path.join(dir_path, entry)):\n",
    "            dirs.append(os.path.join(dir_path, entry))\n",
    "#             print(os.path.join(dir_path, entry))\n",
    "    \n",
    "    label = 0                \n",
    "    for action in dirs:\n",
    "#         print(action)\n",
    "        action_category = os.path.basename(os.path.normpath(action))\n",
    "        for video in os.listdir(action):\n",
    "            with open(\"{0}.txt\".format(split_f), \"a\") as f:   # Opens file and casts as f \n",
    "                f.write(action_category + '/' + video + ' ' + repr(label) + '\\n')       # Writing\n",
    "        label = label + 1"
   ]
  },
  {
   "cell_type": "code",
   "execution_count": 63,
   "id": "recreational-animation",
   "metadata": {},
   "outputs": [],
   "source": [
    "file_list_with_class(\"val\", \"val\")"
   ]
  },
  {
   "cell_type": "markdown",
   "id": "solar-march",
   "metadata": {},
   "source": [
    "## create list of files for the denseflow"
   ]
  },
  {
   "cell_type": "code",
   "execution_count": null,
   "id": "previous-orleans",
   "metadata": {},
   "outputs": [],
   "source": [
    "# python build_rawframes.py /home/actrec/.virtualenvs/mmaction/mmaction2/data/childact_split/val /home/actrec/.virtualenvs/mmaction/mmaction2/data/childact_rawframe/val --flow-type farn --ext mp4 --new-short 320 --num-gpu 1"
   ]
  },
  {
   "cell_type": "code",
   "execution_count": 24,
   "id": "thick-worth",
   "metadata": {},
   "outputs": [
    {
     "name": "stdout",
     "output_type": "stream",
     "text": [
      "/home/actrec/.virtualenvs/mmaction/mmaction2/data/childact_rawframe\n"
     ]
    }
   ],
   "source": [
    "cd /home/actrec/.virtualenvs/mmaction/mmaction2/data/childact_rawframe/"
   ]
  },
  {
   "cell_type": "code",
   "execution_count": 41,
   "id": "conservative-quarter",
   "metadata": {},
   "outputs": [],
   "source": [
    "def file_list(dir_path, split_f):\n",
    "    \n",
    "    dirs = []\n",
    "    for entry in sorted(os.listdir(dir_path)):\n",
    "        if os.path.isdir(os.path.join(dir_path, entry)):\n",
    "            dirs.append(os.path.join(dir_path, entry))\n",
    "#             print(os.path.join(dir_path, entry))\n",
    "    \n",
    "    label = 0                \n",
    "    for action in dirs:\n",
    "#         print(action)\n",
    "        action_category = os.path.basename(os.path.normpath(action))\n",
    "        for video in os.listdir(action):\n",
    "#             print(video)\n",
    "            total_num = len(os.listdir(str(action+\"/\"+video)))//2\n",
    "            with open(\"{0}.txt\".format(split_f), \"a\") as f:   \n",
    "                f.write(action_category + '/' + video + ' ' + repr(total_num) + ' ' + repr(label) + '\\n')       # Writing\n",
    "        label = label + 1"
   ]
  },
  {
   "cell_type": "code",
   "execution_count": 42,
   "id": "collective-lemon",
   "metadata": {
    "tags": []
   },
   "outputs": [],
   "source": [
    "# test = '/home/actrec/.virtualenvs/mmaction/mmaction2/data/childact_rawframe/test'\n",
    "# out = '/home/actrec/.virtualenvs/mmaction/mmaction2/data/childact_rawframe/test_list'\n",
    "# file_list('test', 'test_list')\n",
    "file_list('train', 'childact_train_rawframe')\n",
    "file_list('val', 'childact_val_rawframe')"
   ]
  },
  {
   "cell_type": "code",
   "execution_count": null,
   "id": "explicit-supplier",
   "metadata": {},
   "outputs": [],
   "source": []
  }
 ],
 "metadata": {
  "kernelspec": {
   "display_name": "Python 3",
   "language": "python",
   "name": "python3"
  },
  "language_info": {
   "codemirror_mode": {
    "name": "ipython",
    "version": 3
   },
   "file_extension": ".py",
   "mimetype": "text/x-python",
   "name": "python",
   "nbconvert_exporter": "python",
   "pygments_lexer": "ipython3",
   "version": "3.6.9"
  }
 },
 "nbformat": 4,
 "nbformat_minor": 5
}
