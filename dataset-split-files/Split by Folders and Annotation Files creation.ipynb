{
 "cells": [
  {
   "cell_type": "code",
   "execution_count": 2,
   "id": "synthetic-bullet",
   "metadata": {},
   "outputs": [],
   "source": [
    "import os\n",
    "from pathlib import Path"
   ]
  },
  {
   "cell_type": "code",
   "execution_count": null,
   "id": "stuffed-offer",
   "metadata": {},
   "outputs": [],
   "source": [
    "splitfolders --output childact_split/ --fixed 18 18 --seed 42 --oversample childact"
   ]
  },
  {
   "cell_type": "code",
   "execution_count": null,
   "id": "governing-drill",
   "metadata": {},
   "outputs": [],
   "source": [
    "splitfolders --output /media/actrec/DATA/.virtualenvs/mmaction/mmaction2/data/kth-rawframe --ratio .8 .2 --seed 42 /media/actrec/DATA/.virtualenvs/mmaction/mmaction2/data/kth-flow"
   ]
  },
  {
   "cell_type": "code",
   "execution_count": 17,
   "id": "dominant-pilot",
   "metadata": {},
   "outputs": [],
   "source": [
    "dir_path = '/home/actrec/.virtualenvs/mmaction/mmaction2/data/childact_split/test' "
   ]
  },
  {
   "cell_type": "code",
   "execution_count": 58,
   "id": "covered-lightweight",
   "metadata": {},
   "outputs": [],
   "source": [
    "def file_list_with_class(dir_path, split_f):\n",
    "    \n",
    "    dirs = []\n",
    "    for entry in sorted(os.listdir(dir_path)):\n",
    "        if os.path.isdir(os.path.join(dir_path, entry)):\n",
    "            dirs.append(os.path.join(dir_path, entry))\n",
    "#             print(os.path.join(dir_path, entry))\n",
    "    \n",
    "    label = 0                \n",
    "    for action in dirs:\n",
    "#         print(action)\n",
    "        action_category = os.path.basename(os.path.normpath(action))\n",
    "        for video in os.listdir(action):\n",
    "            with open(\"{0}.txt\".format(split_f), \"a\") as f:   # Opens file and casts as f \n",
    "                f.write(action_category + '/' + video + ' ' + repr(label) + '\\n')       # Writing\n",
    "        label = label + 1"
   ]
  },
  {
   "cell_type": "code",
   "execution_count": 63,
   "id": "christian-conditioning",
   "metadata": {},
   "outputs": [],
   "source": [
    "file_list_with_class(\"val\", \"val\")"
   ]
  },
  {
   "cell_type": "markdown",
   "id": "medium-imaging",
   "metadata": {},
   "source": [
    "## create list of files for the denseflow"
   ]
  },
  {
   "cell_type": "code",
   "execution_count": null,
   "id": "fixed-gross",
   "metadata": {},
   "outputs": [],
   "source": [
    "# python build_rawframes.py /home/actrec/.virtualenvs/mmaction/mmaction2/data/childact_split/val /home/actrec/.virtualenvs/mmaction/mmaction2/data/childact_rawframe/val --flow-type farn --ext mp4 --new-short 320 --num-gpu 1"
   ]
  },
  {
   "cell_type": "code",
   "execution_count": null,
   "id": "varying-steps",
   "metadata": {},
   "outputs": [],
   "source": [
    "python build_rawframes.py /media/actrec/DATA/.virtualenvs/mmaction/mmaction2/data/kth-split/val /media/actrec/DATA/.virtualenvs/mmaction/mmaction2/data/kth-flow/val --flow-type farn --ext avi --new-short 320 --num-gpu 1"
   ]
  },
  {
   "cell_type": "code",
   "execution_count": null,
   "id": "expired-flush",
   "metadata": {},
   "outputs": [],
   "source": [
    "python build_rawframes.py /media/actrec/DATA/.virtualenvs/mmaction/mmaction2/data/kth-split/train /media/actrec/DATA/.virtualenvs/mmaction/mmaction2/data/kth-flow/train --flow-type farn --ext avi --new-short 320 --num-gpu 1"
   ]
  },
  {
   "cell_type": "code",
   "execution_count": null,
   "id": "trained-employment",
   "metadata": {},
   "outputs": [],
   "source": [
    "python build_rawframes.py /media/actrec/DATA/.virtualenvs/mmaction/mmaction2/data/kth-split/train /media/actrec/DATA/.virtualenvs/mmaction/mmaction2/data/kth-rgb320/train --task rgb --ext avi --new-width 320 --new-height 240 --num-worker 10 --num-gpu 1"
   ]
  },
  {
   "cell_type": "code",
   "execution_count": null,
   "id": "therapeutic-coach",
   "metadata": {},
   "outputs": [],
   "source": [
    "python build_rawframes.py /media/actrec/DATA/.virtualenvs/mmaction/mmaction2/data/kth-split/val /media/actrec/DATA/.virtualenvs/mmaction/mmaction2/data/kth-rgb320/val --task rgb --ext avi --new-width 320 --new-height 240 --num-worker 10 --num-gpu 1"
   ]
  },
  {
   "cell_type": "code",
   "execution_count": null,
   "id": "professional-letters",
   "metadata": {},
   "outputs": [],
   "source": []
  },
  {
   "cell_type": "code",
   "execution_count": null,
   "id": "opened-sending",
   "metadata": {},
   "outputs": [],
   "source": [
    "python build_rawframes.py  /home/actrec/.virtualenvs/mmaction/mmaction2/data/childact_RGB_rawframe/train --task rgb --ext mp4 --new-short 320 --num-worker 10 --num-gpu 1"
   ]
  },
  {
   "cell_type": "code",
   "execution_count": null,
   "id": "processed-aaron",
   "metadata": {},
   "outputs": [],
   "source": [
    "python build_rawframes.py /home/actrec/.virtualenvs/mmaction/mmaction2/data/childact_split/test /home/actrec/.virtualenvs/mmaction/mmaction2/data/childact_RGB_rawframe/test --task rgb --ext mp4 --new-short 320 --num-worker 20 --num-gpu 1"
   ]
  },
  {
   "cell_type": "code",
   "execution_count": null,
   "id": "stretch-anime",
   "metadata": {},
   "outputs": [],
   "source": [
    "python build_rawframes.py /home/actrec/.virtualenvs/mmaction/mmaction2/data/childact_split/train /home/actrec/.virtualenvs/mmaction/mmaction2/data/childact_RGB_rawframe/train --task rgb --ext mp4 --new-short 320 --num-worker 20 --num-gpu 1"
   ]
  },
  {
   "cell_type": "code",
   "execution_count": 1,
   "id": "dried-howard",
   "metadata": {},
   "outputs": [
    {
     "name": "stdout",
     "output_type": "stream",
     "text": [
      "/home/actrec/.virtualenvs/mmaction/mmaction2/data/childact_rgb_rawframe\n"
     ]
    }
   ],
   "source": [
    "cd /home/actrec/.virtualenvs/mmaction/mmaction2/data/childact_rgb_rawframe/"
   ]
  },
  {
   "cell_type": "code",
   "execution_count": 41,
   "id": "instrumental-policy",
   "metadata": {},
   "outputs": [],
   "source": [
    "def file_list_flow(dir_path, split_f):\n",
    "    \n",
    "    dirs = []\n",
    "    for entry in sorted(os.listdir(dir_path)):\n",
    "        if os.path.isdir(os.path.join(dir_path, entry)):\n",
    "            dirs.append(os.path.join(dir_path, entry))\n",
    "#             print(os.path.join(dir_path, entry))\n",
    "    \n",
    "    label = 0                \n",
    "    for action in dirs:\n",
    "#         print(action)\n",
    "        action_category = os.path.basename(os.path.normpath(action))\n",
    "        for video in os.listdir(action):\n",
    "#             print(video)\n",
    "            total_num = len(os.listdir(str(action+\"/\"+video)))//2\n",
    "            with open(\"{0}.txt\".format(split_f), \"a\") as f:   \n",
    "                f.write(action_category + '/' + video + ' ' + repr(total_num) + ' ' + repr(label) + '\\n')       # Writing\n",
    "        label = label + 1"
   ]
  },
  {
   "cell_type": "code",
   "execution_count": 42,
   "id": "traditional-thermal",
   "metadata": {
    "tags": []
   },
   "outputs": [],
   "source": [
    "# test = '/home/actrec/.virtualenvs/mmaction/mmaction2/data/childact_rawframe/test'\n",
    "# out = '/home/actrec/.virtualenvs/mmaction/mmaction2/data/childact_rawframe/test_list'\n",
    "# file_list('test', 'test_list')\n",
    "file_list_flow('train', 'childact_train_rawframe')\n",
    "file_list_flow('val', 'childact_val_rawframe')"
   ]
  },
  {
   "cell_type": "code",
   "execution_count": 1,
   "id": "signal-dietary",
   "metadata": {},
   "outputs": [],
   "source": [
    "def file_list_rgb(dir_path, split_f):\n",
    "    \n",
    "    dirs = []\n",
    "    for entry in sorted(os.listdir(dir_path)):\n",
    "        if os.path.isdir(os.path.join(dir_path, entry)):\n",
    "            dirs.append(os.path.join(dir_path, entry))\n",
    "#             print(os.path.join(dir_path, entry))\n",
    "    \n",
    "    label = 0                \n",
    "    for action in dirs:\n",
    "#         print(action)\n",
    "        action_category = os.path.basename(os.path.normpath(action))\n",
    "        for video in os.listdir(action):\n",
    "#             print(video)\n",
    "            total_num = len(os.listdir(str(action+\"/\"+video)))\n",
    "            with open(\"{0}.txt\".format(split_f), \"a\") as f:   \n",
    "                f.write(action_category + '/' + video + ' ' + repr(total_num) + ' ' + repr(label) + '\\n')       # Writing\n",
    "        label = label + 1"
   ]
  },
  {
   "cell_type": "code",
   "execution_count": 7,
   "id": "comparative-license",
   "metadata": {
    "tags": []
   },
   "outputs": [],
   "source": [
    "# test = '/home/actrec/.virtualenvs/mmaction/mmaction2/data/childact_rawframe/test'\n",
    "# out = '/home/actrec/.virtualenvs/mmaction/mmaction2/data/childact_rawframe/test_list'\n",
    "# file_list('test', 'test_list')\n",
    "file_list_rgb('/media/actrec/DATA/.virtualenvs/mmaction/mmaction2/data/kth-rgb/train', 'kth_train_rgb_rawframe')\n",
    "# file_list_rgb('test', 'childact_test_rgb_rawframe')\n",
    "file_list_rgb('/media/actrec/DATA/.virtualenvs/mmaction/mmaction2/data/kth-rgb/val', 'kth_val_rgb_rawframe')"
   ]
  },
  {
   "cell_type": "code",
   "execution_count": 5,
   "id": "sufficient-hearts",
   "metadata": {},
   "outputs": [],
   "source": [
    "dir_path = '/media/actrec/DATA/.virtualenvs/mmaction/mmaction2/data/kth-rgb/'"
   ]
  },
  {
   "cell_type": "code",
   "execution_count": null,
   "id": "fitted-airport",
   "metadata": {},
   "outputs": [],
   "source": []
  }
 ],
 "metadata": {
  "kernelspec": {
   "display_name": "Python 3",
   "language": "python",
   "name": "python3"
  },
  "language_info": {
   "codemirror_mode": {
    "name": "ipython",
    "version": 3
   },
   "file_extension": ".py",
   "mimetype": "text/x-python",
   "name": "python",
   "nbconvert_exporter": "python",
   "pygments_lexer": "ipython3",
   "version": "3.6.9"
  }
 },
 "nbformat": 4,
 "nbformat_minor": 5
}
