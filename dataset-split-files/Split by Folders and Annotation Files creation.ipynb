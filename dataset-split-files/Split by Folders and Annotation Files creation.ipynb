{
 "cells": [
  {
   "cell_type": "code",
   "execution_count": 2,
   "id": "worthy-dairy",
   "metadata": {},
   "outputs": [],
   "source": [
    "import os\n",
    "from pathlib import Path\n",
    "import splitfolders"
   ]
  },
  {
   "cell_type": "code",
   "execution_count": null,
   "id": "acute-senate",
   "metadata": {},
   "outputs": [],
   "source": [
    "splitfolders --output childact_split/ --fixed 18 18 --seed 42 --oversample childact"
   ]
  },
  {
   "cell_type": "code",
   "execution_count": null,
   "id": "sealed-conviction",
   "metadata": {},
   "outputs": [],
   "source": [
    "splitfolders --output /media/actrec/DATA/.virtualenvs/mmaction/mmaction2/data/kth-rawframe --ratio .8 .2 --seed 42 /media/actrec/DATA/.virtualenvs/mmaction/mmaction2/data/kth-flow"
   ]
  },
  {
   "cell_type": "code",
   "execution_count": 17,
   "id": "textile-serial",
   "metadata": {},
   "outputs": [],
   "source": [
    "dir_path = '/home/actrec/.virtualenvs/mmaction/mmaction2/data/childact_split/test' "
   ]
  },
  {
   "cell_type": "code",
   "execution_count": 58,
   "id": "adverse-helena",
   "metadata": {},
   "outputs": [],
   "source": [
    "def file_list_with_class(dir_path, split_f):\n",
    "    \n",
    "    dirs = []\n",
    "    for entry in sorted(os.listdir(dir_path)):\n",
    "        if os.path.isdir(os.path.join(dir_path, entry)):\n",
    "            dirs.append(os.path.join(dir_path, entry))\n",
    "#             print(os.path.join(dir_path, entry))\n",
    "    \n",
    "    label = 0                \n",
    "    for action in dirs:\n",
    "#         print(action)\n",
    "        action_category = os.path.basename(os.path.normpath(action))\n",
    "        for video in os.listdir(action):\n",
    "            with open(\"{0}.txt\".format(split_f), \"a\") as f:   # Opens file and casts as f \n",
    "                f.write(action_category + '/' + video + ' ' + repr(label) + '\\n')       # Writing\n",
    "        label = label + 1"
   ]
  },
  {
   "cell_type": "code",
   "execution_count": 63,
   "id": "outstanding-pierce",
   "metadata": {},
   "outputs": [],
   "source": [
    "file_list_with_class(\"val\", \"val\")"
   ]
  },
  {
   "cell_type": "markdown",
   "id": "promising-glance",
   "metadata": {},
   "source": [
    "## create list of files for the denseflow"
   ]
  },
  {
   "cell_type": "code",
   "execution_count": null,
   "id": "round-anthropology",
   "metadata": {},
   "outputs": [],
   "source": [
    "# python build_rawframes.py /home/actrec/.virtualenvs/mmaction/mmaction2/data/childact_split/val /home/actrec/.virtualenvs/mmaction/mmaction2/data/childact_rawframe/val --flow-type farn --ext mp4 --new-short 320 --num-gpu 1"
   ]
  },
  {
   "cell_type": "code",
   "execution_count": null,
   "id": "following-calculation",
   "metadata": {},
   "outputs": [],
   "source": [
    "python build_rawframes.py /media/actrec/DATA/.virtualenvs/mmaction/mmaction2/data/kth-split/val /media/actrec/DATA/.virtualenvs/mmaction/mmaction2/data/kth-flow/val --flow-type farn --ext avi --new-short 320 --num-gpu 1"
   ]
  },
  {
   "cell_type": "code",
   "execution_count": null,
   "id": "twelve-services",
   "metadata": {},
   "outputs": [],
   "source": [
    "python build_rawframes.py /media/actrec/DATA/.virtualenvs/mmaction/mmaction2/data/kth-split/train /media/actrec/DATA/.virtualenvs/mmaction/mmaction2/data/kth-flow/train --flow-type farn --ext avi --new-short 320 --num-gpu 1"
   ]
  },
  {
   "cell_type": "code",
   "execution_count": null,
   "id": "occupational-serve",
   "metadata": {},
   "outputs": [],
   "source": [
    "python build_rawframes.py /media/actrec/DATA/.virtualenvs/mmaction/mmaction2/data/kth-split/train /media/actrec/DATA/.virtualenvs/mmaction/mmaction2/data/kth-rgb320/train --task rgb --ext avi --new-width 320 --new-height 240 --num-worker 10 --num-gpu 1"
   ]
  },
  {
   "cell_type": "code",
   "execution_count": null,
   "id": "tough-demonstration",
   "metadata": {},
   "outputs": [],
   "source": [
    "python build_rawframes.py /media/actrec/DATA/.virtualenvs/mmaction/mmaction2/data/kth-split/val /media/actrec/DATA/.virtualenvs/mmaction/mmaction2/data/kth-rgb320/val --task rgb --ext avi --new-width 320 --new-height 240 --num-worker 10 --num-gpu 1"
   ]
  },
  {
   "cell_type": "code",
   "execution_count": null,
   "id": "hairy-sacramento",
   "metadata": {},
   "outputs": [],
   "source": []
  },
  {
   "cell_type": "code",
   "execution_count": null,
   "id": "blank-chicago",
   "metadata": {},
   "outputs": [],
   "source": [
    "python build_rawframes.py  /home/actrec/.virtualenvs/mmaction/mmaction2/data/childact_RGB_rawframe/train --task rgb --ext mp4 --new-short 320 --num-worker 10 --num-gpu 1"
   ]
  },
  {
   "cell_type": "code",
   "execution_count": null,
   "id": "neutral-polymer",
   "metadata": {},
   "outputs": [],
   "source": [
    "python build_rawframes.py /home/actrec/.virtualenvs/mmaction/mmaction2/data/childact_split/test /home/actrec/.virtualenvs/mmaction/mmaction2/data/childact_RGB_rawframe/test --task rgb --ext mp4 --new-short 320 --num-worker 20 --num-gpu 1"
   ]
  },
  {
   "cell_type": "code",
   "execution_count": null,
   "id": "floppy-scheduling",
   "metadata": {},
   "outputs": [],
   "source": [
    "python build_rawframes.py /home/actrec/.virtualenvs/mmaction/mmaction2/data/childact_split/train /home/actrec/.virtualenvs/mmaction/mmaction2/data/childact_RGB_rawframe/train --task rgb --ext mp4 --new-short 320 --num-worker 20 --num-gpu 1"
   ]
  },
  {
   "cell_type": "code",
   "execution_count": 1,
   "id": "further-plastic",
   "metadata": {},
   "outputs": [
    {
     "name": "stdout",
     "output_type": "stream",
     "text": [
      "/home/actrec/.virtualenvs/mmaction/mmaction2/data/childact_rgb_rawframe\n"
     ]
    }
   ],
   "source": [
    "cd /home/actrec/.virtualenvs/mmaction/mmaction2/data/childact_rgb_rawframe/"
   ]
  },
  {
   "cell_type": "code",
   "execution_count": 41,
   "id": "preceding-schema",
   "metadata": {},
   "outputs": [],
   "source": [
    "def file_list_flow(dir_path, split_f):\n",
    "    \n",
    "    dirs = []\n",
    "    for entry in sorted(os.listdir(dir_path)):\n",
    "        if os.path.isdir(os.path.join(dir_path, entry)):\n",
    "            dirs.append(os.path.join(dir_path, entry))\n",
    "#             print(os.path.join(dir_path, entry))\n",
    "    \n",
    "    label = 0                \n",
    "    for action in dirs:\n",
    "#         print(action)\n",
    "        action_category = os.path.basename(os.path.normpath(action))\n",
    "        for video in os.listdir(action):\n",
    "#             print(video)\n",
    "            total_num = len(os.listdir(str(action+\"/\"+video)))//2\n",
    "            with open(\"{0}.txt\".format(split_f), \"a\") as f:   \n",
    "                f.write(action_category + '/' + video + ' ' + repr(total_num) + ' ' + repr(label) + '\\n')       # Writing\n",
    "        label = label + 1"
   ]
  },
  {
   "cell_type": "code",
   "execution_count": 42,
   "id": "automated-exchange",
   "metadata": {
    "tags": []
   },
   "outputs": [],
   "source": [
    "# test = '/home/actrec/.virtualenvs/mmaction/mmaction2/data/childact_rawframe/test'\n",
    "# out = '/home/actrec/.virtualenvs/mmaction/mmaction2/data/childact_rawframe/test_list'\n",
    "# file_list('test', 'test_list')\n",
    "file_list_flow('train', 'childact_train_rawframe')\n",
    "file_list_flow('val', 'childact_val_rawframe')"
   ]
  },
  {
   "cell_type": "code",
   "execution_count": 1,
   "id": "bound-catholic",
   "metadata": {},
   "outputs": [],
   "source": [
    "def file_list_rgb(dir_path, split_f):\n",
    "    \n",
    "    dirs = []\n",
    "    for entry in sorted(os.listdir(dir_path)):\n",
    "        if os.path.isdir(os.path.join(dir_path, entry)):\n",
    "            dirs.append(os.path.join(dir_path, entry))\n",
    "#             print(os.path.join(dir_path, entry))\n",
    "    \n",
    "    label = 0                \n",
    "    for action in dirs:\n",
    "#         print(action)\n",
    "        action_category = os.path.basename(os.path.normpath(action))\n",
    "        for video in os.listdir(action):\n",
    "#             print(video)\n",
    "            total_num = len(os.listdir(str(action+\"/\"+video)))\n",
    "            with open(\"{0}.txt\".format(split_f), \"a\") as f:   \n",
    "                f.write(action_category + '/' + video + ' ' + repr(total_num) + ' ' + repr(label) + '\\n')       # Writing\n",
    "        label = label + 1"
   ]
  },
  {
   "cell_type": "code",
   "execution_count": 7,
   "id": "stopped-lyric",
   "metadata": {
    "tags": []
   },
   "outputs": [],
   "source": [
    "# test = '/home/actrec/.virtualenvs/mmaction/mmaction2/data/childact_rawframe/test'\n",
    "# out = '/home/actrec/.virtualenvs/mmaction/mmaction2/data/childact_rawframe/test_list'\n",
    "# file_list('test', 'test_list')\n",
    "file_list_rgb('/media/actrec/DATA/.virtualenvs/mmaction/mmaction2/data/kth-rgb/train', 'kth_train_rgb_rawframe')\n",
    "# file_list_rgb('test', 'childact_test_rgb_rawframe')\n",
    "file_list_rgb('/media/actrec/DATA/.virtualenvs/mmaction/mmaction2/data/kth-rgb/val', 'kth_val_rgb_rawframe')"
   ]
  },
  {
   "cell_type": "code",
   "execution_count": 5,
   "id": "searching-pontiac",
   "metadata": {},
   "outputs": [],
   "source": [
    "dir_path = '/media/actrec/DATA/.virtualenvs/mmaction/mmaction2/data/kth-rgb/'"
   ]
  },
  {
   "cell_type": "code",
   "execution_count": 9,
   "id": "starting-reducing",
   "metadata": {},
   "outputs": [],
   "source": [
    "def file_list_rgb(dir_path, split_f):\n",
    "    \n",
    "    dirs = []\n",
    "    for entry in sorted(os.listdir(dir_path)):\n",
    "        if os.path.isdir(os.path.join(dir_path, entry)):\n",
    "            dirs.append(os.path.join(dir_path, entry))\n",
    "#             print(os.path.join(dir_path, entry))\n",
    "    \n",
    "    label = 0                \n",
    "    for action in dirs:\n",
    "#         print(action)\n",
    "        action_category = os.path.basename(os.path.normpath(action))\n",
    "        for video in os.listdir(action):\n",
    "#             print(video)\n",
    "            total_num = len(os.listdir(str(action+\"/\"+video)))\n",
    "            with open(\"{0}.txt\".format(split_f), \"a\") as f:   \n",
    "                f.write(action_category + '/' + video + ' ' + repr(total_num) + ' ' + repr(label) + '\\n')       # Writing\n",
    "        label = label + 1"
   ]
  },
  {
   "cell_type": "code",
   "execution_count": 13,
   "id": "fifth-morris",
   "metadata": {
    "tags": []
   },
   "outputs": [],
   "source": [
    "# test = '/home/actrec/.virtualenvs/mmaction/mmaction2/data/childact_rawframe/test'\n",
    "# out = '/home/actrec/.virtualenvs/mmaction/mmaction2/data/childact_rawframe/test_list'\n",
    "# file_list('test', 'test_list')\n",
    "file_list_rgb('/media/actrec/DATA/.virtualenvs/mmaction/mmaction2/data/hmdb51-rgb/train', 'hmdb51_train_rgb_rawframe')\n",
    "# file_list_rgb('test', 'childact_test_rgb_rawframe')\n",
    "file_list_rgb('/media/actrec/DATA/.virtualenvs/mmaction/mmaction2/data/hmdb51-rgb/val', 'hmdb51_val_rgb_rawframe')"
   ]
  },
  {
   "cell_type": "code",
   "execution_count": 5,
   "id": "pregnant-annual",
   "metadata": {},
   "outputs": [],
   "source": [
    "dir_path = '/media/actrec/DATA/.virtualenvs/mmaction/mmaction2/data/hmdb51-rgb/'"
   ]
  },
  {
   "cell_type": "code",
   "execution_count": 3,
   "id": "coupled-sewing",
   "metadata": {},
   "outputs": [
    {
     "data": {
      "text/plain": [
       "'/home/robt427nv/childact'"
      ]
     },
     "execution_count": 3,
     "metadata": {},
     "output_type": "execute_result"
    }
   ],
   "source": [
    "pwd"
   ]
  },
  {
   "cell_type": "code",
   "execution_count": 1,
   "id": "8b4922d1-d898-4c65-a42d-cc00ed585b82",
   "metadata": {},
   "outputs": [],
   "source": [
    "#read through csv\n",
    "#if find same number_\n",
    "    #write all instances + TAG to annotation file\n",
    "\n",
    "import os\n",
    "from pathlib import Path\n",
    "import pandas as pd\n",
    "import splitfolders"
   ]
  },
  {
   "cell_type": "code",
   "execution_count": null,
   "id": "6dc217bf-6bb5-4c09-8d39-103990936c7b",
   "metadata": {},
   "outputs": [],
   "source": [
    "# splitfolders --output childact_split/ --fixed 18 18 --seed 42 --oversample childact"
   ]
  },
  {
   "cell_type": "code",
   "execution_count": null,
   "id": "b17eaec9-4a78-4aa9-baff-1f1c317721c4",
   "metadata": {},
   "outputs": [],
   "source": [
    "# splitfolders --output /home/robt427nv/childact/age-gender-3split --ratio .8 .1 .1 --seed 42 /home/robt427nv/childact/childact_videos_nosplit"
   ]
  },
  {
   "cell_type": "code",
   "execution_count": 4,
   "id": "54ef7360-db0c-4589-b0e3-aa595affd21b",
   "metadata": {},
   "outputs": [
    {
     "name": "stdout",
     "output_type": "stream",
     "text": [
      " \u001b[0m\u001b[01;34mage-gender-3split-rgb-frames\u001b[0m/\n",
      " \u001b[01;34mage-gender-3split-vids\u001b[0m/\n",
      " ChildAct_age_gender.csv\n",
      " \u001b[34;42mchildact_videos_nosplit\u001b[0m/\n",
      " \u001b[01;32mmy-mmaction.ipynb\u001b[0m*\n",
      "\u001b[01;32m'Split by Folders and Annotation Files creation.ipynb'\u001b[0m*\n"
     ]
    }
   ],
   "source": [
    "ls"
   ]
  },
  {
   "cell_type": "code",
   "execution_count": 6,
   "id": "f989c3be-f223-44b7-84a5-458aee8955da",
   "metadata": {},
   "outputs": [
    {
     "data": {
      "text/html": [
       "<div>\n",
       "<style scoped>\n",
       "    .dataframe tbody tr th:only-of-type {\n",
       "        vertical-align: middle;\n",
       "    }\n",
       "\n",
       "    .dataframe tbody tr th {\n",
       "        vertical-align: top;\n",
       "    }\n",
       "\n",
       "    .dataframe thead th {\n",
       "        text-align: right;\n",
       "    }\n",
       "</style>\n",
       "<table border=\"1\" class=\"dataframe\">\n",
       "  <thead>\n",
       "    <tr style=\"text-align: right;\">\n",
       "      <th></th>\n",
       "      <th>Activity</th>\n",
       "      <th>Age</th>\n",
       "      <th>gender</th>\n",
       "    </tr>\n",
       "  </thead>\n",
       "  <tbody>\n",
       "    <tr>\n",
       "      <th>0</th>\n",
       "      <td>1</td>\n",
       "      <td>7</td>\n",
       "      <td>F</td>\n",
       "    </tr>\n",
       "    <tr>\n",
       "      <th>1</th>\n",
       "      <td>2</td>\n",
       "      <td>6</td>\n",
       "      <td>M</td>\n",
       "    </tr>\n",
       "    <tr>\n",
       "      <th>2</th>\n",
       "      <td>3</td>\n",
       "      <td>7</td>\n",
       "      <td>F</td>\n",
       "    </tr>\n",
       "    <tr>\n",
       "      <th>3</th>\n",
       "      <td>4</td>\n",
       "      <td>7</td>\n",
       "      <td>M</td>\n",
       "    </tr>\n",
       "    <tr>\n",
       "      <th>4</th>\n",
       "      <td>5</td>\n",
       "      <td>7</td>\n",
       "      <td>F</td>\n",
       "    </tr>\n",
       "  </tbody>\n",
       "</table>\n",
       "</div>"
      ],
      "text/plain": [
       "   Activity  Age gender\n",
       "0         1    7      F\n",
       "1         2    6      M\n",
       "2         3    7      F\n",
       "3         4    7      M\n",
       "4         5    7      F"
      ]
     },
     "execution_count": 6,
     "metadata": {},
     "output_type": "execute_result"
    }
   ],
   "source": [
    "ag_data = pd.read_csv(\"ChildAct_age_gender.csv\", delimiter=';')\n",
    "ag_data.head()"
   ]
  },
  {
   "cell_type": "code",
   "execution_count": 8,
   "id": "a6537ce7-85d3-4d07-9a1f-801e69038261",
   "metadata": {},
   "outputs": [],
   "source": [
    "import re\n",
    "def get_numbers_from_filename(filename):\n",
    "    return re.search(r'\\d+', filename).group(0)"
   ]
  },
  {
   "cell_type": "code",
   "execution_count": 9,
   "id": "5038abdf-2943-4be6-b55b-81da26b3b587",
   "metadata": {},
   "outputs": [],
   "source": [
    "def file_list_rgb_gender(dir_path, split_f):\n",
    "    \n",
    "    dirs = []\n",
    "    for entry in sorted(os.listdir(dir_path)):\n",
    "        if os.path.isdir(os.path.join(dir_path, entry)):\n",
    "            dirs.append(os.path.join(dir_path, entry))\n",
    "\n",
    "#take video\n",
    "#find number\n",
    "#match number in csv\n",
    "#take the label from that row\n",
    "\n",
    "    for video in dirs:\n",
    "#         print(action)\n",
    "        videoname = os.path.basename(os.path.normpath(video))\n",
    "        print(videoname)\n",
    "        print(get_numbers_from_filename(videoname))\n",
    "#         for video in os.listdir(action):\n",
    "#             print(video)\n",
    "\n",
    "#         total_num = len(os.listdir(str(action+\"/\"+video)))\n",
    "#         with open(\"{0}.txt\".format(split_f), \"a\") as f:   \n",
    "#             f.write(action_category + '/' + video + ' ' + repr(total_num) + ' ' + repr(label) + '\\n')       # Writing\n",
    "\n",
    "\n",
    "#         label = label + 1"
   ]
  },
  {
   "cell_type": "code",
   "execution_count": 10,
   "id": "cb02ead3-8ada-41b6-b3a6-e26f506f440d",
   "metadata": {},
   "outputs": [
    {
     "name": "stdout",
     "output_type": "stream",
     "text": [
      "101_wawe\n",
      "101\n",
      "103_go\n",
      "103\n",
      "107_go\n",
      "107\n",
      "107_walk\n",
      "107\n",
      "108_walk\n",
      "108\n",
      "109_go\n",
      "109\n",
      "111_wawe\n",
      "111\n",
      "112_run\n",
      "112\n",
      "113_box\n",
      "113\n",
      "115_run\n",
      "115\n",
      "117_wawe\n",
      "117\n",
      "118_run\n",
      "118\n",
      "119_run\n",
      "119\n",
      "11_clap\n",
      "11\n",
      "121_run\n",
      "121\n",
      "121_wawe\n",
      "121\n",
      "124_box\n",
      "124\n",
      "125_clap\n",
      "125\n",
      "125_run\n",
      "125\n",
      "125_wawe\n",
      "125\n",
      "126_wawe\n",
      "126\n",
      "128_box\n",
      "128\n",
      "128_jog\n",
      "128\n",
      "12_wawe\n",
      "12\n",
      "130_jog\n",
      "130\n",
      "131_go\n",
      "131\n",
      "134_go\n",
      "134\n",
      "138_go\n",
      "138\n",
      "138_run\n",
      "138\n",
      "139_run\n",
      "139\n",
      "141_wawe\n",
      "141\n",
      "142_run\n",
      "142\n",
      "143_go\n",
      "143\n",
      "143_walk\n",
      "143\n",
      "143_wawe\n",
      "143\n",
      "144_walk\n",
      "144\n",
      "144_wawe\n",
      "144\n",
      "147_clap\n",
      "147\n",
      "152_wawe\n",
      "152\n",
      "155_clap\n",
      "155\n",
      "158_run\n",
      "158\n",
      "159_clap\n",
      "159\n",
      "159_run\n",
      "159\n",
      "15_go\n",
      "15\n",
      "160_run\n",
      "160\n",
      "160_wawe\n",
      "160\n",
      "161_go\n",
      "161\n",
      "162_go\n",
      "162\n",
      "163_walk\n",
      "163\n",
      "164_go\n",
      "164\n",
      "165_jog\n",
      "165\n",
      "169_run\n",
      "169\n",
      "16_clap\n",
      "16\n",
      "170_walk\n",
      "170\n",
      "18_wawe\n",
      "18\n",
      "198_jog\n",
      "198\n",
      "198_run\n",
      "198\n",
      "199_go\n",
      "199\n",
      "199_run\n",
      "199\n",
      "19_clap\n",
      "19\n",
      "200_go\n",
      "200\n",
      "201_go\n",
      "201\n",
      "205_clap\n",
      "205\n",
      "206_jog\n",
      "206\n",
      "206_run\n",
      "206\n",
      "212_walk\n",
      "212\n",
      "213_clap\n",
      "213\n",
      "216_clap\n",
      "216\n",
      "21_clap\n",
      "21\n",
      "22_go\n",
      "22\n",
      "23_run\n",
      "23\n",
      "27_jog\n",
      "27\n",
      "28_wawe\n",
      "28\n",
      "29_run\n",
      "29\n",
      "29_wawe\n",
      "29\n",
      "30_box\n",
      "30\n",
      "31_wawe\n",
      "31\n",
      "34_run\n",
      "34\n",
      "35_box\n",
      "35\n",
      "35_clap\n",
      "35\n",
      "35_run\n",
      "35\n",
      "36_wawe\n",
      "36\n",
      "3_run\n",
      "3\n",
      "40_wawe\n",
      "40\n",
      "41_jog\n",
      "41\n",
      "47_wawe\n",
      "47\n",
      "48_run\n",
      "48\n",
      "48_wawe\n",
      "48\n",
      "58_box\n",
      "58\n",
      "59_wawe\n",
      "59\n",
      "63_go\n",
      "63\n",
      "64_run\n",
      "64\n",
      "66_clap\n",
      "66\n",
      "66_go\n",
      "66\n",
      "67_clap\n",
      "67\n",
      "68_wawe\n",
      "68\n",
      "75_run\n",
      "75\n",
      "77_go\n",
      "77\n",
      "79_box\n",
      "79\n",
      "7_jog\n",
      "7\n",
      "85_go\n",
      "85\n",
      "86_walk\n",
      "86\n",
      "87_jog\n",
      "87\n",
      "88_clap\n",
      "88\n",
      "8_box\n",
      "8\n",
      "90_clap\n",
      "90\n",
      "91_go\n",
      "91\n",
      "91_jog\n",
      "91\n",
      "94_box\n",
      "94\n",
      "95_walk\n",
      "95\n",
      "96_run\n",
      "96\n",
      "96_walk\n",
      "96\n",
      "97_go\n",
      "97\n",
      "98_run\n",
      "98\n",
      "99_clap\n",
      "99\n",
      "99_go\n",
      "99\n",
      "99_run\n",
      "99\n",
      "99_walk\n",
      "99\n",
      "99_wawe\n",
      "99\n",
      "9_clap\n",
      "9\n",
      "9_wawe\n",
      "9\n"
     ]
    }
   ],
   "source": [
    "file_list_rgb_gender('/home/robt427nv/childact/age-gender-3split-rgb-frames/test', 'b')"
   ]
  },
  {
   "cell_type": "code",
   "execution_count": null,
   "id": "a52e22aa-04db-4405-91c5-8e5e035aa78d",
   "metadata": {},
   "outputs": [],
   "source": []
  }
 ],
 "metadata": {
  "kernelspec": {
   "display_name": "Python 3",
   "language": "python",
   "name": "python3"
  },
  "language_info": {
   "codemirror_mode": {
    "name": "ipython",
    "version": 3
   },
   "file_extension": ".py",
   "mimetype": "text/x-python",
   "name": "python",
   "nbconvert_exporter": "python",
   "pygments_lexer": "ipython3",
   "version": "3.7.10"
  }
 },
 "nbformat": 4,
 "nbformat_minor": 5
}
