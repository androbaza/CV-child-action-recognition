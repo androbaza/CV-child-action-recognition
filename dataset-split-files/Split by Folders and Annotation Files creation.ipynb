{
 "cells": [
  {
   "cell_type": "code",
   "execution_count": 2,
   "id": "worthy-dairy",
   "metadata": {},
   "outputs": [],
   "source": [
    "import os\n",
    "from pathlib import Path\n",
    "import splitfolders"
   ]
  },
  {
   "cell_type": "code",
   "execution_count": null,
   "id": "acute-senate",
   "metadata": {},
   "outputs": [],
   "source": [
    "splitfolders --output childact_split/ --fixed 18 18 --seed 42 --oversample childact"
   ]
  },
  {
   "cell_type": "code",
   "execution_count": null,
   "id": "sealed-conviction",
   "metadata": {},
   "outputs": [],
   "source": [
    "splitfolders --output /media/actrec/DATA/.virtualenvs/mmaction/mmaction2/data/kth-rawframe --ratio .8 .2 --seed 42 /media/actrec/DATA/.virtualenvs/mmaction/mmaction2/data/kth-flow"
   ]
  },
  {
   "cell_type": "code",
   "execution_count": 17,
   "id": "textile-serial",
   "metadata": {},
   "outputs": [],
   "source": [
    "dir_path = '/home/actrec/.virtualenvs/mmaction/mmaction2/data/childact_split/test' "
   ]
  },
  {
   "cell_type": "code",
   "execution_count": 58,
   "id": "adverse-helena",
   "metadata": {},
   "outputs": [],
   "source": [
    "def file_list_with_class(dir_path, split_f):\n",
    "    \n",
    "    dirs = []\n",
    "    for entry in sorted(os.listdir(dir_path)):\n",
    "        if os.path.isdir(os.path.join(dir_path, entry)):\n",
    "            dirs.append(os.path.join(dir_path, entry))\n",
    "#             print(os.path.join(dir_path, entry))\n",
    "    \n",
    "    label = 0                \n",
    "    for action in dirs:\n",
    "#         print(action)\n",
    "        action_category = os.path.basename(os.path.normpath(action))\n",
    "        for video in os.listdir(action):\n",
    "            with open(\"{0}.txt\".format(split_f), \"a\") as f:   # Opens file and casts as f \n",
    "                f.write(action_category + '/' + video + ' ' + repr(label) + '\\n')       # Writing\n",
    "        label = label + 1"
   ]
  },
  {
   "cell_type": "code",
   "execution_count": 63,
   "id": "outstanding-pierce",
   "metadata": {},
   "outputs": [],
   "source": [
    "file_list_with_class(\"val\", \"val\")"
   ]
  },
  {
   "cell_type": "markdown",
   "id": "promising-glance",
   "metadata": {},
   "source": [
    "## create list of files for the denseflow"
   ]
  },
  {
   "cell_type": "code",
   "execution_count": null,
   "id": "round-anthropology",
   "metadata": {},
   "outputs": [],
   "source": [
    "# python build_rawframes.py /home/actrec/.virtualenvs/mmaction/mmaction2/data/childact_split/val /home/actrec/.virtualenvs/mmaction/mmaction2/data/childact_rawframe/val --flow-type farn --ext mp4 --new-short 320 --num-gpu 1"
   ]
  },
  {
   "cell_type": "code",
   "execution_count": null,
   "id": "following-calculation",
   "metadata": {},
   "outputs": [],
   "source": [
    "python build_rawframes.py /media/actrec/DATA/.virtualenvs/mmaction/mmaction2/data/kth-split/val /media/actrec/DATA/.virtualenvs/mmaction/mmaction2/data/kth-flow/val --flow-type farn --ext avi --new-short 320 --num-gpu 1"
   ]
  },
  {
   "cell_type": "code",
   "execution_count": null,
   "id": "twelve-services",
   "metadata": {},
   "outputs": [],
   "source": [
    "python build_rawframes.py /media/actrec/DATA/.virtualenvs/mmaction/mmaction2/data/kth-split/train /media/actrec/DATA/.virtualenvs/mmaction/mmaction2/data/kth-flow/train --flow-type farn --ext avi --new-short 320 --num-gpu 1"
   ]
  },
  {
   "cell_type": "code",
   "execution_count": null,
   "id": "occupational-serve",
   "metadata": {},
   "outputs": [],
   "source": [
    "python build_rawframes.py /media/actrec/DATA/.virtualenvs/mmaction/mmaction2/data/kth-split/train /media/actrec/DATA/.virtualenvs/mmaction/mmaction2/data/kth-rgb320/train --task rgb --ext avi --new-width 320 --new-height 240 --num-worker 10 --num-gpu 1"
   ]
  },
  {
   "cell_type": "code",
   "execution_count": null,
   "id": "tough-demonstration",
   "metadata": {},
   "outputs": [],
   "source": [
    "python build_rawframes.py /media/actrec/DATA/.virtualenvs/mmaction/mmaction2/data/kth-split/val /media/actrec/DATA/.virtualenvs/mmaction/mmaction2/data/kth-rgb320/val --task rgb --ext avi --new-width 320 --new-height 240 --num-worker 10 --num-gpu 1"
   ]
  },
  {
   "cell_type": "code",
   "execution_count": null,
   "id": "hairy-sacramento",
   "metadata": {},
   "outputs": [],
   "source": []
  },
  {
   "cell_type": "code",
   "execution_count": null,
   "id": "blank-chicago",
   "metadata": {},
   "outputs": [],
   "source": [
    "python build_rawframes.py  /home/actrec/.virtualenvs/mmaction/mmaction2/data/childact_RGB_rawframe/train --task rgb --ext mp4 --new-short 320 --num-worker 10 --num-gpu 1"
   ]
  },
  {
   "cell_type": "code",
   "execution_count": null,
   "id": "neutral-polymer",
   "metadata": {},
   "outputs": [],
   "source": [
    "python build_rawframes.py /home/actrec/.virtualenvs/mmaction/mmaction2/data/childact_split/test /home/actrec/.virtualenvs/mmaction/mmaction2/data/childact_RGB_rawframe/test --task rgb --ext mp4 --new-short 320 --num-worker 20 --num-gpu 1"
   ]
  },
  {
   "cell_type": "code",
   "execution_count": null,
   "id": "floppy-scheduling",
   "metadata": {},
   "outputs": [],
   "source": [
    "python build_rawframes.py /home/actrec/.virtualenvs/mmaction/mmaction2/data/childact_split/train /home/actrec/.virtualenvs/mmaction/mmaction2/data/childact_RGB_rawframe/train --task rgb --ext mp4 --new-short 320 --num-worker 20 --num-gpu 1"
   ]
  },
  {
   "cell_type": "code",
   "execution_count": 1,
   "id": "further-plastic",
   "metadata": {},
   "outputs": [
    {
     "name": "stdout",
     "output_type": "stream",
     "text": [
      "/home/actrec/.virtualenvs/mmaction/mmaction2/data/childact_rgb_rawframe\n"
     ]
    }
   ],
   "source": [
    "cd /home/actrec/.virtualenvs/mmaction/mmaction2/data/childact_rgb_rawframe/"
   ]
  },
  {
   "cell_type": "code",
   "execution_count": 41,
   "id": "preceding-schema",
   "metadata": {},
   "outputs": [],
   "source": [
    "def file_list_flow(dir_path, split_f):\n",
    "    \n",
    "    dirs = []\n",
    "    for entry in sorted(os.listdir(dir_path)):\n",
    "        if os.path.isdir(os.path.join(dir_path, entry)):\n",
    "            dirs.append(os.path.join(dir_path, entry))\n",
    "#             print(os.path.join(dir_path, entry))\n",
    "    \n",
    "    label = 0                \n",
    "    for action in dirs:\n",
    "#         print(action)\n",
    "        action_category = os.path.basename(os.path.normpath(action))\n",
    "        for video in os.listdir(action):\n",
    "#             print(video)\n",
    "            total_num = len(os.listdir(str(action+\"/\"+video)))//2\n",
    "            with open(\"{0}.txt\".format(split_f), \"a\") as f:   \n",
    "                f.write(action_category + '/' + video + ' ' + repr(total_num) + ' ' + repr(label) + '\\n')       # Writing\n",
    "        label = label + 1"
   ]
  },
  {
   "cell_type": "code",
   "execution_count": 42,
   "id": "automated-exchange",
   "metadata": {
    "tags": []
   },
   "outputs": [],
   "source": [
    "# test = '/home/actrec/.virtualenvs/mmaction/mmaction2/data/childact_rawframe/test'\n",
    "# out = '/home/actrec/.virtualenvs/mmaction/mmaction2/data/childact_rawframe/test_list'\n",
    "# file_list('test', 'test_list')\n",
    "file_list_flow('train', 'childact_train_rawframe')\n",
    "file_list_flow('val', 'childact_val_rawframe')"
   ]
  },
  {
   "cell_type": "code",
   "execution_count": 1,
   "id": "bound-catholic",
   "metadata": {},
   "outputs": [],
   "source": [
    "def file_list_rgb(dir_path, split_f):\n",
    "    \n",
    "    dirs = []\n",
    "    for entry in sorted(os.listdir(dir_path)):\n",
    "        if os.path.isdir(os.path.join(dir_path, entry)):\n",
    "            dirs.append(os.path.join(dir_path, entry))\n",
    "#             print(os.path.join(dir_path, entry))\n",
    "    \n",
    "    label = 0                \n",
    "    for action in dirs:\n",
    "#         print(action)\n",
    "        action_category = os.path.basename(os.path.normpath(action))\n",
    "        for video in os.listdir(action):\n",
    "#             print(video)\n",
    "            total_num = len(os.listdir(str(action+\"/\"+video)))\n",
    "            with open(\"{0}.txt\".format(split_f), \"a\") as f:   \n",
    "                f.write(action_category + '/' + video + ' ' + repr(total_num) + ' ' + repr(label) + '\\n')       # Writing\n",
    "        label = label + 1"
   ]
  },
  {
   "cell_type": "code",
   "execution_count": 7,
   "id": "stopped-lyric",
   "metadata": {
    "tags": []
   },
   "outputs": [],
   "source": [
    "# test = '/home/actrec/.virtualenvs/mmaction/mmaction2/data/childact_rawframe/test'\n",
    "# out = '/home/actrec/.virtualenvs/mmaction/mmaction2/data/childact_rawframe/test_list'\n",
    "# file_list('test', 'test_list')\n",
    "file_list_rgb('/media/actrec/DATA/.virtualenvs/mmaction/mmaction2/data/kth-rgb/train', 'kth_train_rgb_rawframe')\n",
    "# file_list_rgb('test', 'childact_test_rgb_rawframe')\n",
    "file_list_rgb('/media/actrec/DATA/.virtualenvs/mmaction/mmaction2/data/kth-rgb/val', 'kth_val_rgb_rawframe')"
   ]
  },
  {
   "cell_type": "code",
   "execution_count": 5,
   "id": "searching-pontiac",
   "metadata": {},
   "outputs": [],
   "source": [
    "dir_path = '/media/actrec/DATA/.virtualenvs/mmaction/mmaction2/data/kth-rgb/'"
   ]
  },
  {
   "cell_type": "code",
   "execution_count": 9,
   "id": "starting-reducing",
   "metadata": {},
   "outputs": [],
   "source": [
    "def file_list_rgb(dir_path, split_f):\n",
    "    \n",
    "    dirs = []\n",
    "    for entry in sorted(os.listdir(dir_path)):\n",
    "        if os.path.isdir(os.path.join(dir_path, entry)):\n",
    "            dirs.append(os.path.join(dir_path, entry))\n",
    "#             print(os.path.join(dir_path, entry))\n",
    "    \n",
    "    label = 0                \n",
    "    for action in dirs:\n",
    "#         print(action)\n",
    "        action_category = os.path.basename(os.path.normpath(action))\n",
    "        for video in os.listdir(action):\n",
    "#             print(video)\n",
    "            total_num = len(os.listdir(str(action+\"/\"+video)))\n",
    "            with open(\"{0}.txt\".format(split_f), \"a\") as f:   \n",
    "                f.write(action_category + '/' + video + ' ' + repr(total_num) + ' ' + repr(label) + '\\n')       # Writing\n",
    "        label = label + 1"
   ]
  },
  {
   "cell_type": "code",
   "execution_count": 13,
   "id": "fifth-morris",
   "metadata": {
    "tags": []
   },
   "outputs": [],
   "source": [
    "# test = '/home/actrec/.virtualenvs/mmaction/mmaction2/data/childact_rawframe/test'\n",
    "# out = '/home/actrec/.virtualenvs/mmaction/mmaction2/data/childact_rawframe/test_list'\n",
    "# file_list('test', 'test_list')\n",
    "file_list_rgb('/media/actrec/DATA/.virtualenvs/mmaction/mmaction2/data/hmdb51-rgb/train', 'hmdb51_train_rgb_rawframe')\n",
    "# file_list_rgb('test', 'childact_test_rgb_rawframe')\n",
    "file_list_rgb('/media/actrec/DATA/.virtualenvs/mmaction/mmaction2/data/hmdb51-rgb/val', 'hmdb51_val_rgb_rawframe')"
   ]
  },
  {
   "cell_type": "code",
   "execution_count": 5,
   "id": "pregnant-annual",
   "metadata": {},
   "outputs": [],
   "source": [
    "dir_path = '/media/actrec/DATA/.virtualenvs/mmaction/mmaction2/data/hmdb51-rgb/'"
   ]
  },
  {
   "cell_type": "code",
   "execution_count": 12,
   "id": "coupled-sewing",
   "metadata": {},
   "outputs": [
    {
     "data": {
      "text/plain": [
       "'/media/actrec/DATA/.virtualenvs/mmaction/mmaction2'"
      ]
     },
     "execution_count": 12,
     "metadata": {},
     "output_type": "execute_result"
    }
   ],
   "source": [
    "pwd"
   ]
  },
  {
   "cell_type": "code",
   "execution_count": 1,
   "id": "8b4922d1-d898-4c65-a42d-cc00ed585b82",
   "metadata": {},
   "outputs": [],
   "source": [
    "#read through csv\n",
    "#if find same number_\n",
    "    #write all instances + TAG to annotation file\n",
    "\n",
    "import os\n",
    "from pathlib import Path\n",
    "import pandas as pd"
   ]
  },
  {
   "cell_type": "code",
   "execution_count": null,
   "id": "6dc217bf-6bb5-4c09-8d39-103990936c7b",
   "metadata": {},
   "outputs": [],
   "source": []
  }
 ],
 "metadata": {
  "kernelspec": {
   "display_name": "Python 3",
   "language": "python",
   "name": "python3"
  },
  "language_info": {
   "codemirror_mode": {
    "name": "ipython",
    "version": 3
   },
   "file_extension": ".py",
   "mimetype": "text/x-python",
   "name": "python",
   "nbconvert_exporter": "python",
   "pygments_lexer": "ipython3",
   "version": "3.7.10"
  }
 },
 "nbformat": 4,
 "nbformat_minor": 5
}
